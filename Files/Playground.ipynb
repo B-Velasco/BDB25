{
 "cells": [
  {
   "cell_type": "code",
   "execution_count": 1,
   "metadata": {},
   "outputs": [],
   "source": [
    "import os\n",
    "import random\n",
    "import numpy as np\n",
    "import pandas as pd\n",
    "import matplotlib.pyplot as plt\n",
    "import datetime as dt\n",
    "import plotly.express as px\n",
    "import plotly.graph_objects as go\n",
    "from plotly_gif import GIF, two_d_time_series\n",
    "\n"
   ]
  },
  {
   "cell_type": "markdown",
   "metadata": {},
   "source": [
    "## Goals\n",
    "    -Visualize players on a field\n",
    "    -~Allow ability to watch full plays~\n",
    "    -Decorate field to be visually \"okay\"\n",
    "    -~~set up github repo\n",
    "    -hover data to show route player running\n",
    "    -track ball path\n",
    "    -defense scheme read\n",
    "    -~~Play outcome on bottom of screen\n",
    "    -display event \n",
    "    -flip play direction? optional?\n",
    "    ~~scale field to maximum distance of field covered?\n",
    "    -Using events to define line set to snap to define presnap movement or audibles?\n",
    "    -WRs routeRan (how to display? low opactiy of x-y max overlayed animation?)\n"
   ]
  },
  {
   "cell_type": "code",
   "execution_count": 2,
   "metadata": {},
   "outputs": [],
   "source": [
    "PDir = 'C:/Users/Pablo/Documents/GitHub/BIG DATA BOWL STUFF HERE/Data'\n",
    "games = pd.read_csv(f'{PDir}/games.csv')\n",
    "plays = pd.read_csv(f'{PDir}/plays.csv')\n",
    "players = pd.read_csv(f'{PDir}/players.csv')\n",
    "playerplay = pd.read_csv(f'{PDir}/player_play.csv')\n",
    "Week1Track = pd.read_csv(f'{PDir}/tracking_week_1.csv')\n"
   ]
  },
  {
   "cell_type": "code",
   "execution_count": 23,
   "metadata": {},
   "outputs": [],
   "source": [
    "df1 = pd.merge(plays, Week1Track, on = ['gameId', 'playId'], how = 'right')"
   ]
  },
  {
   "cell_type": "code",
   "execution_count": 9,
   "metadata": {},
   "outputs": [
    {
     "data": {
      "text/html": [
       "<div>\n",
       "<style scoped>\n",
       "    .dataframe tbody tr th:only-of-type {\n",
       "        vertical-align: middle;\n",
       "    }\n",
       "\n",
       "    .dataframe tbody tr th {\n",
       "        vertical-align: top;\n",
       "    }\n",
       "\n",
       "    .dataframe thead th {\n",
       "        text-align: right;\n",
       "    }\n",
       "</style>\n",
       "<table border=\"1\" class=\"dataframe\">\n",
       "  <thead>\n",
       "    <tr style=\"text-align: right;\">\n",
       "      <th></th>\n",
       "      <th>gameId_x</th>\n",
       "      <th>playId</th>\n",
       "      <th>playDescription</th>\n",
       "      <th>quarter</th>\n",
       "      <th>down</th>\n",
       "      <th>yardsToGo</th>\n",
       "      <th>possessionTeam</th>\n",
       "      <th>defensiveTeam</th>\n",
       "      <th>yardlineSide</th>\n",
       "      <th>yardlineNumber</th>\n",
       "      <th>...</th>\n",
       "      <th>club</th>\n",
       "      <th>playDirection</th>\n",
       "      <th>x</th>\n",
       "      <th>y</th>\n",
       "      <th>s</th>\n",
       "      <th>a</th>\n",
       "      <th>dis</th>\n",
       "      <th>o</th>\n",
       "      <th>dir</th>\n",
       "      <th>event</th>\n",
       "    </tr>\n",
       "  </thead>\n",
       "  <tbody>\n",
       "    <tr>\n",
       "      <th>0</th>\n",
       "      <td>2022103004</td>\n",
       "      <td>3146</td>\n",
       "      <td>(2:00) (Shotgun) D.Mills pass short right to D...</td>\n",
       "      <td>4</td>\n",
       "      <td>3</td>\n",
       "      <td>12</td>\n",
       "      <td>HOU</td>\n",
       "      <td>TEN</td>\n",
       "      <td>HOU</td>\n",
       "      <td>20</td>\n",
       "      <td>...</td>\n",
       "      <td>CLE</td>\n",
       "      <td>right</td>\n",
       "      <td>104.77</td>\n",
       "      <td>26.63</td>\n",
       "      <td>0.37</td>\n",
       "      <td>0.22</td>\n",
       "      <td>0.06</td>\n",
       "      <td>284.56</td>\n",
       "      <td>79.84</td>\n",
       "      <td>huddle_break_offense</td>\n",
       "    </tr>\n",
       "    <tr>\n",
       "      <th>1</th>\n",
       "      <td>2022103004</td>\n",
       "      <td>3146</td>\n",
       "      <td>(2:00) (Shotgun) D.Mills pass short right to D...</td>\n",
       "      <td>4</td>\n",
       "      <td>3</td>\n",
       "      <td>12</td>\n",
       "      <td>HOU</td>\n",
       "      <td>TEN</td>\n",
       "      <td>HOU</td>\n",
       "      <td>20</td>\n",
       "      <td>...</td>\n",
       "      <td>CLE</td>\n",
       "      <td>right</td>\n",
       "      <td>104.81</td>\n",
       "      <td>26.63</td>\n",
       "      <td>0.35</td>\n",
       "      <td>0.24</td>\n",
       "      <td>0.04</td>\n",
       "      <td>282.96</td>\n",
       "      <td>80.82</td>\n",
       "      <td>NaN</td>\n",
       "    </tr>\n",
       "    <tr>\n",
       "      <th>2</th>\n",
       "      <td>2022103004</td>\n",
       "      <td>3146</td>\n",
       "      <td>(2:00) (Shotgun) D.Mills pass short right to D...</td>\n",
       "      <td>4</td>\n",
       "      <td>3</td>\n",
       "      <td>12</td>\n",
       "      <td>HOU</td>\n",
       "      <td>TEN</td>\n",
       "      <td>HOU</td>\n",
       "      <td>20</td>\n",
       "      <td>...</td>\n",
       "      <td>CLE</td>\n",
       "      <td>right</td>\n",
       "      <td>104.85</td>\n",
       "      <td>26.63</td>\n",
       "      <td>0.34</td>\n",
       "      <td>0.25</td>\n",
       "      <td>0.04</td>\n",
       "      <td>282.96</td>\n",
       "      <td>82.65</td>\n",
       "      <td>NaN</td>\n",
       "    </tr>\n",
       "    <tr>\n",
       "      <th>3</th>\n",
       "      <td>2022103004</td>\n",
       "      <td>3146</td>\n",
       "      <td>(2:00) (Shotgun) D.Mills pass short right to D...</td>\n",
       "      <td>4</td>\n",
       "      <td>3</td>\n",
       "      <td>12</td>\n",
       "      <td>HOU</td>\n",
       "      <td>TEN</td>\n",
       "      <td>HOU</td>\n",
       "      <td>20</td>\n",
       "      <td>...</td>\n",
       "      <td>CLE</td>\n",
       "      <td>right</td>\n",
       "      <td>104.89</td>\n",
       "      <td>26.63</td>\n",
       "      <td>0.33</td>\n",
       "      <td>0.17</td>\n",
       "      <td>0.04</td>\n",
       "      <td>274.46</td>\n",
       "      <td>84.10</td>\n",
       "      <td>NaN</td>\n",
       "    </tr>\n",
       "    <tr>\n",
       "      <th>4</th>\n",
       "      <td>2022103004</td>\n",
       "      <td>3146</td>\n",
       "      <td>(2:00) (Shotgun) D.Mills pass short right to D...</td>\n",
       "      <td>4</td>\n",
       "      <td>3</td>\n",
       "      <td>12</td>\n",
       "      <td>HOU</td>\n",
       "      <td>TEN</td>\n",
       "      <td>HOU</td>\n",
       "      <td>20</td>\n",
       "      <td>...</td>\n",
       "      <td>CLE</td>\n",
       "      <td>right</td>\n",
       "      <td>104.92</td>\n",
       "      <td>26.64</td>\n",
       "      <td>0.33</td>\n",
       "      <td>0.21</td>\n",
       "      <td>0.03</td>\n",
       "      <td>272.37</td>\n",
       "      <td>87.86</td>\n",
       "      <td>NaN</td>\n",
       "    </tr>\n",
       "  </tbody>\n",
       "</table>\n",
       "<p>5 rows × 67 columns</p>\n",
       "</div>"
      ],
      "text/plain": [
       "     gameId_x  playId                                    playDescription  \\\n",
       "0  2022103004    3146  (2:00) (Shotgun) D.Mills pass short right to D...   \n",
       "1  2022103004    3146  (2:00) (Shotgun) D.Mills pass short right to D...   \n",
       "2  2022103004    3146  (2:00) (Shotgun) D.Mills pass short right to D...   \n",
       "3  2022103004    3146  (2:00) (Shotgun) D.Mills pass short right to D...   \n",
       "4  2022103004    3146  (2:00) (Shotgun) D.Mills pass short right to D...   \n",
       "\n",
       "   quarter  down  yardsToGo possessionTeam defensiveTeam yardlineSide  \\\n",
       "0        4     3         12            HOU           TEN          HOU   \n",
       "1        4     3         12            HOU           TEN          HOU   \n",
       "2        4     3         12            HOU           TEN          HOU   \n",
       "3        4     3         12            HOU           TEN          HOU   \n",
       "4        4     3         12            HOU           TEN          HOU   \n",
       "\n",
       "   yardlineNumber  ... club  playDirection       x      y     s     a   dis  \\\n",
       "0              20  ...  CLE          right  104.77  26.63  0.37  0.22  0.06   \n",
       "1              20  ...  CLE          right  104.81  26.63  0.35  0.24  0.04   \n",
       "2              20  ...  CLE          right  104.85  26.63  0.34  0.25  0.04   \n",
       "3              20  ...  CLE          right  104.89  26.63  0.33  0.17  0.04   \n",
       "4              20  ...  CLE          right  104.92  26.64  0.33  0.21  0.03   \n",
       "\n",
       "        o    dir                 event  \n",
       "0  284.56  79.84  huddle_break_offense  \n",
       "1  282.96  80.82                   NaN  \n",
       "2  282.96  82.65                   NaN  \n",
       "3  274.46  84.10                   NaN  \n",
       "4  272.37  87.86                   NaN  \n",
       "\n",
       "[5 rows x 67 columns]"
      ]
     },
     "execution_count": 9,
     "metadata": {},
     "output_type": "execute_result"
    }
   ],
   "source": [
    "df1.head()"
   ]
  },
  {
   "cell_type": "code",
   "execution_count": 134,
   "metadata": {},
   "outputs": [],
   "source": [
    "GameID = 2022091111\n",
    "PlayID = 520\n",
    "PlayerID = 44814\n"
   ]
  },
  {
   "cell_type": "code",
   "execution_count": 135,
   "metadata": {},
   "outputs": [
    {
     "data": {
      "text/html": [
       "<div>\n",
       "<style scoped>\n",
       "    .dataframe tbody tr th:only-of-type {\n",
       "        vertical-align: middle;\n",
       "    }\n",
       "\n",
       "    .dataframe tbody tr th {\n",
       "        vertical-align: top;\n",
       "    }\n",
       "\n",
       "    .dataframe thead th {\n",
       "        text-align: right;\n",
       "    }\n",
       "</style>\n",
       "<table border=\"1\" class=\"dataframe\">\n",
       "  <thead>\n",
       "    <tr style=\"text-align: right;\">\n",
       "      <th></th>\n",
       "      <th>gameId</th>\n",
       "      <th>playId</th>\n",
       "      <th>playDescription</th>\n",
       "      <th>quarter</th>\n",
       "      <th>down</th>\n",
       "      <th>yardsToGo</th>\n",
       "      <th>possessionTeam</th>\n",
       "      <th>defensiveTeam</th>\n",
       "      <th>yardlineSide</th>\n",
       "      <th>yardlineNumber</th>\n",
       "      <th>...</th>\n",
       "      <th>club</th>\n",
       "      <th>playDirection</th>\n",
       "      <th>x</th>\n",
       "      <th>y</th>\n",
       "      <th>s</th>\n",
       "      <th>a</th>\n",
       "      <th>dis</th>\n",
       "      <th>o</th>\n",
       "      <th>dir</th>\n",
       "      <th>event</th>\n",
       "    </tr>\n",
       "  </thead>\n",
       "  <tbody>\n",
       "    <tr>\n",
       "      <th>1714650</th>\n",
       "      <td>2022091111</td>\n",
       "      <td>520</td>\n",
       "      <td>(4:14) (Shotgun) D.Carr pass incomplete short ...</td>\n",
       "      <td>1</td>\n",
       "      <td>2</td>\n",
       "      <td>6</td>\n",
       "      <td>LV</td>\n",
       "      <td>LAC</td>\n",
       "      <td>LAC</td>\n",
       "      <td>26</td>\n",
       "      <td>...</td>\n",
       "      <td>LV</td>\n",
       "      <td>left</td>\n",
       "      <td>41.700000</td>\n",
       "      <td>32.460000</td>\n",
       "      <td>0.53</td>\n",
       "      <td>0.80</td>\n",
       "      <td>0.06</td>\n",
       "      <td>275.75</td>\n",
       "      <td>340.25</td>\n",
       "      <td>huddle_break_offense</td>\n",
       "    </tr>\n",
       "    <tr>\n",
       "      <th>1714651</th>\n",
       "      <td>2022091111</td>\n",
       "      <td>520</td>\n",
       "      <td>(4:14) (Shotgun) D.Carr pass incomplete short ...</td>\n",
       "      <td>1</td>\n",
       "      <td>2</td>\n",
       "      <td>6</td>\n",
       "      <td>LV</td>\n",
       "      <td>LAC</td>\n",
       "      <td>LAC</td>\n",
       "      <td>26</td>\n",
       "      <td>...</td>\n",
       "      <td>LV</td>\n",
       "      <td>left</td>\n",
       "      <td>41.680000</td>\n",
       "      <td>32.510000</td>\n",
       "      <td>0.49</td>\n",
       "      <td>0.70</td>\n",
       "      <td>0.05</td>\n",
       "      <td>273.45</td>\n",
       "      <td>335.67</td>\n",
       "      <td>NaN</td>\n",
       "    </tr>\n",
       "    <tr>\n",
       "      <th>1714652</th>\n",
       "      <td>2022091111</td>\n",
       "      <td>520</td>\n",
       "      <td>(4:14) (Shotgun) D.Carr pass incomplete short ...</td>\n",
       "      <td>1</td>\n",
       "      <td>2</td>\n",
       "      <td>6</td>\n",
       "      <td>LV</td>\n",
       "      <td>LAC</td>\n",
       "      <td>LAC</td>\n",
       "      <td>26</td>\n",
       "      <td>...</td>\n",
       "      <td>LV</td>\n",
       "      <td>left</td>\n",
       "      <td>41.660000</td>\n",
       "      <td>32.560000</td>\n",
       "      <td>0.47</td>\n",
       "      <td>0.56</td>\n",
       "      <td>0.05</td>\n",
       "      <td>272.29</td>\n",
       "      <td>332.03</td>\n",
       "      <td>NaN</td>\n",
       "    </tr>\n",
       "    <tr>\n",
       "      <th>1714653</th>\n",
       "      <td>2022091111</td>\n",
       "      <td>520</td>\n",
       "      <td>(4:14) (Shotgun) D.Carr pass incomplete short ...</td>\n",
       "      <td>1</td>\n",
       "      <td>2</td>\n",
       "      <td>6</td>\n",
       "      <td>LV</td>\n",
       "      <td>LAC</td>\n",
       "      <td>LAC</td>\n",
       "      <td>26</td>\n",
       "      <td>...</td>\n",
       "      <td>LV</td>\n",
       "      <td>left</td>\n",
       "      <td>41.640000</td>\n",
       "      <td>32.600000</td>\n",
       "      <td>0.44</td>\n",
       "      <td>0.44</td>\n",
       "      <td>0.05</td>\n",
       "      <td>270.97</td>\n",
       "      <td>329.77</td>\n",
       "      <td>NaN</td>\n",
       "    </tr>\n",
       "    <tr>\n",
       "      <th>1714654</th>\n",
       "      <td>2022091111</td>\n",
       "      <td>520</td>\n",
       "      <td>(4:14) (Shotgun) D.Carr pass incomplete short ...</td>\n",
       "      <td>1</td>\n",
       "      <td>2</td>\n",
       "      <td>6</td>\n",
       "      <td>LV</td>\n",
       "      <td>LAC</td>\n",
       "      <td>LAC</td>\n",
       "      <td>26</td>\n",
       "      <td>...</td>\n",
       "      <td>LV</td>\n",
       "      <td>left</td>\n",
       "      <td>41.610000</td>\n",
       "      <td>32.640000</td>\n",
       "      <td>0.46</td>\n",
       "      <td>0.19</td>\n",
       "      <td>0.05</td>\n",
       "      <td>270.36</td>\n",
       "      <td>330.62</td>\n",
       "      <td>NaN</td>\n",
       "    </tr>\n",
       "    <tr>\n",
       "      <th>...</th>\n",
       "      <td>...</td>\n",
       "      <td>...</td>\n",
       "      <td>...</td>\n",
       "      <td>...</td>\n",
       "      <td>...</td>\n",
       "      <td>...</td>\n",
       "      <td>...</td>\n",
       "      <td>...</td>\n",
       "      <td>...</td>\n",
       "      <td>...</td>\n",
       "      <td>...</td>\n",
       "      <td>...</td>\n",
       "      <td>...</td>\n",
       "      <td>...</td>\n",
       "      <td>...</td>\n",
       "      <td>...</td>\n",
       "      <td>...</td>\n",
       "      <td>...</td>\n",
       "      <td>...</td>\n",
       "      <td>...</td>\n",
       "      <td>...</td>\n",
       "    </tr>\n",
       "    <tr>\n",
       "      <th>1718785</th>\n",
       "      <td>2022091111</td>\n",
       "      <td>520</td>\n",
       "      <td>(4:14) (Shotgun) D.Carr pass incomplete short ...</td>\n",
       "      <td>1</td>\n",
       "      <td>2</td>\n",
       "      <td>6</td>\n",
       "      <td>LV</td>\n",
       "      <td>LAC</td>\n",
       "      <td>LAC</td>\n",
       "      <td>26</td>\n",
       "      <td>...</td>\n",
       "      <td>football</td>\n",
       "      <td>left</td>\n",
       "      <td>17.340000</td>\n",
       "      <td>61.759998</td>\n",
       "      <td>4.02</td>\n",
       "      <td>0.18</td>\n",
       "      <td>0.40</td>\n",
       "      <td>NaN</td>\n",
       "      <td>NaN</td>\n",
       "      <td>pass_outcome_incomplete</td>\n",
       "    </tr>\n",
       "    <tr>\n",
       "      <th>1718786</th>\n",
       "      <td>2022091111</td>\n",
       "      <td>520</td>\n",
       "      <td>(4:14) (Shotgun) D.Carr pass incomplete short ...</td>\n",
       "      <td>1</td>\n",
       "      <td>2</td>\n",
       "      <td>6</td>\n",
       "      <td>LV</td>\n",
       "      <td>LAC</td>\n",
       "      <td>LAC</td>\n",
       "      <td>26</td>\n",
       "      <td>...</td>\n",
       "      <td>football</td>\n",
       "      <td>left</td>\n",
       "      <td>17.049999</td>\n",
       "      <td>62.040001</td>\n",
       "      <td>4.01</td>\n",
       "      <td>0.27</td>\n",
       "      <td>0.40</td>\n",
       "      <td>NaN</td>\n",
       "      <td>NaN</td>\n",
       "      <td>NaN</td>\n",
       "    </tr>\n",
       "    <tr>\n",
       "      <th>1718787</th>\n",
       "      <td>2022091111</td>\n",
       "      <td>520</td>\n",
       "      <td>(4:14) (Shotgun) D.Carr pass incomplete short ...</td>\n",
       "      <td>1</td>\n",
       "      <td>2</td>\n",
       "      <td>6</td>\n",
       "      <td>LV</td>\n",
       "      <td>LAC</td>\n",
       "      <td>LAC</td>\n",
       "      <td>26</td>\n",
       "      <td>...</td>\n",
       "      <td>football</td>\n",
       "      <td>left</td>\n",
       "      <td>16.760000</td>\n",
       "      <td>62.320000</td>\n",
       "      <td>4.02</td>\n",
       "      <td>0.31</td>\n",
       "      <td>0.40</td>\n",
       "      <td>NaN</td>\n",
       "      <td>NaN</td>\n",
       "      <td>NaN</td>\n",
       "    </tr>\n",
       "    <tr>\n",
       "      <th>1718788</th>\n",
       "      <td>2022091111</td>\n",
       "      <td>520</td>\n",
       "      <td>(4:14) (Shotgun) D.Carr pass incomplete short ...</td>\n",
       "      <td>1</td>\n",
       "      <td>2</td>\n",
       "      <td>6</td>\n",
       "      <td>LV</td>\n",
       "      <td>LAC</td>\n",
       "      <td>LAC</td>\n",
       "      <td>26</td>\n",
       "      <td>...</td>\n",
       "      <td>football</td>\n",
       "      <td>left</td>\n",
       "      <td>16.480000</td>\n",
       "      <td>62.610001</td>\n",
       "      <td>4.00</td>\n",
       "      <td>0.54</td>\n",
       "      <td>0.40</td>\n",
       "      <td>NaN</td>\n",
       "      <td>NaN</td>\n",
       "      <td>NaN</td>\n",
       "    </tr>\n",
       "    <tr>\n",
       "      <th>1718789</th>\n",
       "      <td>2022091111</td>\n",
       "      <td>520</td>\n",
       "      <td>(4:14) (Shotgun) D.Carr pass incomplete short ...</td>\n",
       "      <td>1</td>\n",
       "      <td>2</td>\n",
       "      <td>6</td>\n",
       "      <td>LV</td>\n",
       "      <td>LAC</td>\n",
       "      <td>LAC</td>\n",
       "      <td>26</td>\n",
       "      <td>...</td>\n",
       "      <td>football</td>\n",
       "      <td>left</td>\n",
       "      <td>16.190001</td>\n",
       "      <td>62.869999</td>\n",
       "      <td>3.91</td>\n",
       "      <td>0.81</td>\n",
       "      <td>0.39</td>\n",
       "      <td>NaN</td>\n",
       "      <td>NaN</td>\n",
       "      <td>NaN</td>\n",
       "    </tr>\n",
       "  </tbody>\n",
       "</table>\n",
       "<p>4140 rows × 66 columns</p>\n",
       "</div>"
      ],
      "text/plain": [
       "             gameId  playId  \\\n",
       "1714650  2022091111     520   \n",
       "1714651  2022091111     520   \n",
       "1714652  2022091111     520   \n",
       "1714653  2022091111     520   \n",
       "1714654  2022091111     520   \n",
       "...             ...     ...   \n",
       "1718785  2022091111     520   \n",
       "1718786  2022091111     520   \n",
       "1718787  2022091111     520   \n",
       "1718788  2022091111     520   \n",
       "1718789  2022091111     520   \n",
       "\n",
       "                                           playDescription  quarter  down  \\\n",
       "1714650  (4:14) (Shotgun) D.Carr pass incomplete short ...        1     2   \n",
       "1714651  (4:14) (Shotgun) D.Carr pass incomplete short ...        1     2   \n",
       "1714652  (4:14) (Shotgun) D.Carr pass incomplete short ...        1     2   \n",
       "1714653  (4:14) (Shotgun) D.Carr pass incomplete short ...        1     2   \n",
       "1714654  (4:14) (Shotgun) D.Carr pass incomplete short ...        1     2   \n",
       "...                                                    ...      ...   ...   \n",
       "1718785  (4:14) (Shotgun) D.Carr pass incomplete short ...        1     2   \n",
       "1718786  (4:14) (Shotgun) D.Carr pass incomplete short ...        1     2   \n",
       "1718787  (4:14) (Shotgun) D.Carr pass incomplete short ...        1     2   \n",
       "1718788  (4:14) (Shotgun) D.Carr pass incomplete short ...        1     2   \n",
       "1718789  (4:14) (Shotgun) D.Carr pass incomplete short ...        1     2   \n",
       "\n",
       "         yardsToGo possessionTeam defensiveTeam yardlineSide  yardlineNumber  \\\n",
       "1714650          6             LV           LAC          LAC              26   \n",
       "1714651          6             LV           LAC          LAC              26   \n",
       "1714652          6             LV           LAC          LAC              26   \n",
       "1714653          6             LV           LAC          LAC              26   \n",
       "1714654          6             LV           LAC          LAC              26   \n",
       "...            ...            ...           ...          ...             ...   \n",
       "1718785          6             LV           LAC          LAC              26   \n",
       "1718786          6             LV           LAC          LAC              26   \n",
       "1718787          6             LV           LAC          LAC              26   \n",
       "1718788          6             LV           LAC          LAC              26   \n",
       "1718789          6             LV           LAC          LAC              26   \n",
       "\n",
       "         ...      club  playDirection          x          y     s     a   dis  \\\n",
       "1714650  ...        LV           left  41.700000  32.460000  0.53  0.80  0.06   \n",
       "1714651  ...        LV           left  41.680000  32.510000  0.49  0.70  0.05   \n",
       "1714652  ...        LV           left  41.660000  32.560000  0.47  0.56  0.05   \n",
       "1714653  ...        LV           left  41.640000  32.600000  0.44  0.44  0.05   \n",
       "1714654  ...        LV           left  41.610000  32.640000  0.46  0.19  0.05   \n",
       "...      ...       ...            ...        ...        ...   ...   ...   ...   \n",
       "1718785  ...  football           left  17.340000  61.759998  4.02  0.18  0.40   \n",
       "1718786  ...  football           left  17.049999  62.040001  4.01  0.27  0.40   \n",
       "1718787  ...  football           left  16.760000  62.320000  4.02  0.31  0.40   \n",
       "1718788  ...  football           left  16.480000  62.610001  4.00  0.54  0.40   \n",
       "1718789  ...  football           left  16.190001  62.869999  3.91  0.81  0.39   \n",
       "\n",
       "              o     dir                    event  \n",
       "1714650  275.75  340.25     huddle_break_offense  \n",
       "1714651  273.45  335.67                      NaN  \n",
       "1714652  272.29  332.03                      NaN  \n",
       "1714653  270.97  329.77                      NaN  \n",
       "1714654  270.36  330.62                      NaN  \n",
       "...         ...     ...                      ...  \n",
       "1718785     NaN     NaN  pass_outcome_incomplete  \n",
       "1718786     NaN     NaN                      NaN  \n",
       "1718787     NaN     NaN                      NaN  \n",
       "1718788     NaN     NaN                      NaN  \n",
       "1718789     NaN     NaN                      NaN  \n",
       "\n",
       "[4140 rows x 66 columns]"
      ]
     },
     "execution_count": 135,
     "metadata": {},
     "output_type": "execute_result"
    }
   ],
   "source": [
    "_TrackData= df1[(df1['gameId'] == GameID) & (df1['playId'] == PlayID)]\n",
    "TeamColor = {\"football\": 'Grey', str(_TrackData['possessionTeam'].values[0]) : 'Red', str(_TrackData['defensiveTeam'].values[0]) : 'Black'}\n",
    "_TrackData\n"
   ]
  },
  {
   "cell_type": "code",
   "execution_count": 136,
   "metadata": {},
   "outputs": [
    {
     "name": "stdout",
     "output_type": "stream",
     "text": [
      "LV\n",
      "LAC\n",
      "football\n"
     ]
    }
   ],
   "source": [
    "fig = go.Figure(layout_yaxis_range=[0, 53.3], layout_xaxis_range=[0, 120])\n",
    "\n",
    "for club in _TrackData['club'].unique():\n",
    "    \n",
    "    club_data = _TrackData[_TrackData['club'] == club]\n",
    "    \n",
    "    data=(go.Scatter(x=club_data['x'], y=club_data['y'], mode='markers', marker_color=TeamColor[club], name = club))\n",
    "    \n",
    "    fig.add_trace(data)\n",
    "    print(club)\n"
   ]
  },
  {
   "cell_type": "code",
   "execution_count": 137,
   "metadata": {},
   "outputs": [
    {
     "data": {
      "text/plain": [
       "1714650       huddle_break_offense\n",
       "1714651                        NaN\n",
       "1714652                        NaN\n",
       "1714653                        NaN\n",
       "1714654                        NaN\n",
       "                    ...           \n",
       "1718785    pass_outcome_incomplete\n",
       "1718786                        NaN\n",
       "1718787                        NaN\n",
       "1718788                        NaN\n",
       "1718789                        NaN\n",
       "Name: event, Length: 4140, dtype: object"
      ]
     },
     "execution_count": 137,
     "metadata": {},
     "output_type": "execute_result"
    }
   ],
   "source": [
    "#_TrackData['playDescription']\n",
    "_TrackData['event']"
   ]
  },
  {
   "cell_type": "code",
   "execution_count": 138,
   "metadata": {},
   "outputs": [
    {
     "data": {
      "application/vnd.plotly.v1+json": {
       "config": {
        "plotlyServerURL": "https://plot.ly"
       },
       "data": [
        {
         "hovertemplate": "club=LV<br>frameId=1<br>x=%{x}<br>y=%{y}<extra></extra>",
         "legendgroup": "LV",
         "marker": {
          "color": "Red",
          "symbol": "circle"
         },
         "mode": "markers",
         "name": "LV",
         "orientation": "v",
         "showlegend": true,
         "type": "scatter",
         "x": [
          41.7,
          40.52,
          39.86,
          41.23,
          37.69,
          37.52,
          38.17,
          39.35,
          36.53,
          37.3,
          37.42
         ],
         "xaxis": "x",
         "y": [
          32.46,
          29.64,
          24.16,
          21.14,
          32.32,
          26.46,
          34.03,
          23.42,
          29.55,
          28.07,
          30.91
         ],
         "yaxis": "y"
        },
        {
         "hovertemplate": "club=LAC<br>frameId=1<br>x=%{x}<br>y=%{y}<extra></extra>",
         "legendgroup": "LAC",
         "marker": {
          "color": "Black",
          "symbol": "circle"
         },
         "mode": "markers",
         "name": "LAC",
         "orientation": "v",
         "showlegend": true,
         "type": "scatter",
         "x": [
          32.04,
          33.85,
          34.04,
          31.49,
          29.34,
          34.78,
          26.69,
          31.18,
          31.63,
          32.32,
          34.98
         ],
         "xaxis": "x",
         "y": [
          25.36,
          24.68,
          28.66,
          37.42,
          33.57,
          30.5,
          26.29,
          29.38,
          31.58,
          20.13,
          34.96
         ],
         "yaxis": "y"
        },
        {
         "hovertemplate": "club=football<br>frameId=1<br>x=%{x}<br>y=%{y}<extra></extra>",
         "legendgroup": "football",
         "marker": {
          "color": "Grey",
          "symbol": "circle"
         },
         "mode": "markers",
         "name": "football",
         "orientation": "v",
         "showlegend": true,
         "type": "scatter",
         "x": [
          36.0299987792969
         ],
         "xaxis": "x",
         "y": [
          29.7199993133545
         ],
         "yaxis": "y"
        }
       ],
       "frames": [
        {
         "data": [
          {
           "hovertemplate": "club=LV<br>frameId=1<br>x=%{x}<br>y=%{y}<extra></extra>",
           "legendgroup": "LV",
           "marker": {
            "color": "Red",
            "symbol": "circle"
           },
           "mode": "markers",
           "name": "LV",
           "orientation": "v",
           "showlegend": true,
           "type": "scatter",
           "x": [
            41.7,
            40.52,
            39.86,
            41.23,
            37.69,
            37.52,
            38.17,
            39.35,
            36.53,
            37.3,
            37.42
           ],
           "xaxis": "x",
           "y": [
            32.46,
            29.64,
            24.16,
            21.14,
            32.32,
            26.46,
            34.03,
            23.42,
            29.55,
            28.07,
            30.91
           ],
           "yaxis": "y"
          },
          {
           "hovertemplate": "club=LAC<br>frameId=1<br>x=%{x}<br>y=%{y}<extra></extra>",
           "legendgroup": "LAC",
           "marker": {
            "color": "Black",
            "symbol": "circle"
           },
           "mode": "markers",
           "name": "LAC",
           "orientation": "v",
           "showlegend": true,
           "type": "scatter",
           "x": [
            32.04,
            33.85,
            34.04,
            31.49,
            29.34,
            34.78,
            26.69,
            31.18,
            31.63,
            32.32,
            34.98
           ],
           "xaxis": "x",
           "y": [
            25.36,
            24.68,
            28.66,
            37.42,
            33.57,
            30.5,
            26.29,
            29.38,
            31.58,
            20.13,
            34.96
           ],
           "yaxis": "y"
          },
          {
           "hovertemplate": "club=football<br>frameId=1<br>x=%{x}<br>y=%{y}<extra></extra>",
           "legendgroup": "football",
           "marker": {
            "color": "Grey",
            "symbol": "circle"
           },
           "mode": "markers",
           "name": "football",
           "orientation": "v",
           "showlegend": true,
           "type": "scatter",
           "x": [
            36.0299987792969
           ],
           "xaxis": "x",
           "y": [
            29.7199993133545
           ],
           "yaxis": "y"
          }
         ],
         "name": "1"
        },
        {
         "data": [
          {
           "hovertemplate": "club=LV<br>frameId=2<br>x=%{x}<br>y=%{y}<extra></extra>",
           "legendgroup": "LV",
           "marker": {
            "color": "Red",
            "symbol": "circle"
           },
           "mode": "markers",
           "name": "LV",
           "orientation": "v",
           "showlegend": true,
           "type": "scatter",
           "x": [
            41.68,
            40.5,
            39.75,
            41.11,
            37.63,
            37.49,
            38.08,
            39.27,
            36.51,
            37.28,
            37.39
           ],
           "xaxis": "x",
           "y": [
            32.51,
            29.63,
            24.01,
            20.77,
            32.33,
            26.45,
            34.06,
            23.13,
            29.55,
            28.05,
            30.94
           ],
           "yaxis": "y"
          },
          {
           "hovertemplate": "club=LAC<br>frameId=2<br>x=%{x}<br>y=%{y}<extra></extra>",
           "legendgroup": "LAC",
           "marker": {
            "color": "Black",
            "symbol": "circle"
           },
           "mode": "markers",
           "name": "LAC",
           "orientation": "v",
           "showlegend": true,
           "type": "scatter",
           "x": [
            32.04,
            33.82,
            34.08,
            31.4,
            29.22,
            34.75,
            26.59,
            31.13,
            31.49,
            32.3,
            34.96
           ],
           "xaxis": "x",
           "y": [
            25.25,
            24.62,
            28.48,
            37.37,
            33.6,
            30.58,
            26.2,
            29.23,
            31.61,
            19.9,
            35.01
           ],
           "yaxis": "y"
          },
          {
           "hovertemplate": "club=football<br>frameId=2<br>x=%{x}<br>y=%{y}<extra></extra>",
           "legendgroup": "football",
           "marker": {
            "color": "Grey",
            "symbol": "circle"
           },
           "mode": "markers",
           "name": "football",
           "orientation": "v",
           "showlegend": true,
           "type": "scatter",
           "x": [
            36.0299987792969
           ],
           "xaxis": "x",
           "y": [
            29.7199993133545
           ],
           "yaxis": "y"
          }
         ],
         "name": "2"
        },
        {
         "data": [
          {
           "hovertemplate": "club=LV<br>frameId=3<br>x=%{x}<br>y=%{y}<extra></extra>",
           "legendgroup": "LV",
           "marker": {
            "color": "Red",
            "symbol": "circle"
           },
           "mode": "markers",
           "name": "LV",
           "orientation": "v",
           "showlegend": true,
           "type": "scatter",
           "x": [
            41.66,
            40.45,
            39.64,
            40.99,
            37.58,
            37.47,
            37.98,
            39.18,
            36.5,
            37.26,
            37.36
           ],
           "xaxis": "x",
           "y": [
            32.56,
            29.63,
            23.87,
            20.38,
            32.35,
            26.45,
            34.09,
            22.84,
            29.54,
            28.03,
            30.99
           ],
           "yaxis": "y"
          },
          {
           "hovertemplate": "club=LAC<br>frameId=3<br>x=%{x}<br>y=%{y}<extra></extra>",
           "legendgroup": "LAC",
           "marker": {
            "color": "Black",
            "symbol": "circle"
           },
           "mode": "markers",
           "name": "LAC",
           "orientation": "v",
           "showlegend": true,
           "type": "scatter",
           "x": [
            32.06,
            33.8,
            34.13,
            31.31,
            29.1,
            34.72,
            26.49,
            31.08,
            31.35,
            32.29,
            34.95
           ],
           "xaxis": "x",
           "y": [
            25.13,
            24.55,
            28.31,
            37.31,
            33.63,
            30.66,
            26.12,
            29.06,
            31.64,
            19.65,
            35.06
           ],
           "yaxis": "y"
          },
          {
           "hovertemplate": "club=football<br>frameId=3<br>x=%{x}<br>y=%{y}<extra></extra>",
           "legendgroup": "football",
           "marker": {
            "color": "Grey",
            "symbol": "circle"
           },
           "mode": "markers",
           "name": "football",
           "orientation": "v",
           "showlegend": true,
           "type": "scatter",
           "x": [
            36.0299987792969
           ],
           "xaxis": "x",
           "y": [
            29.7199993133545
           ],
           "yaxis": "y"
          }
         ],
         "name": "3"
        },
        {
         "data": [
          {
           "hovertemplate": "club=LV<br>frameId=4<br>x=%{x}<br>y=%{y}<extra></extra>",
           "legendgroup": "LV",
           "marker": {
            "color": "Red",
            "symbol": "circle"
           },
           "mode": "markers",
           "name": "LV",
           "orientation": "v",
           "showlegend": true,
           "type": "scatter",
           "x": [
            41.64,
            40.42,
            39.53,
            40.87,
            37.53,
            37.45,
            37.91,
            39.09,
            36.49,
            37.23,
            37.33
           ],
           "xaxis": "x",
           "y": [
            32.6,
            29.62,
            23.73,
            20,
            32.36,
            26.44,
            34.12,
            22.56,
            29.53,
            28.02,
            31.01
           ],
           "yaxis": "y"
          },
          {
           "hovertemplate": "club=LAC<br>frameId=4<br>x=%{x}<br>y=%{y}<extra></extra>",
           "legendgroup": "LAC",
           "marker": {
            "color": "Black",
            "symbol": "circle"
           },
           "mode": "markers",
           "name": "LAC",
           "orientation": "v",
           "showlegend": true,
           "type": "scatter",
           "x": [
            32.09,
            33.79,
            34.19,
            31.21,
            28.99,
            34.69,
            26.39,
            31.03,
            31.22,
            32.27,
            34.94
           ],
           "xaxis": "x",
           "y": [
            24.99,
            24.48,
            28.15,
            37.24,
            33.65,
            30.73,
            26.04,
            28.9,
            31.66,
            19.41,
            35.11
           ],
           "yaxis": "y"
          },
          {
           "hovertemplate": "club=football<br>frameId=4<br>x=%{x}<br>y=%{y}<extra></extra>",
           "legendgroup": "football",
           "marker": {
            "color": "Grey",
            "symbol": "circle"
           },
           "mode": "markers",
           "name": "football",
           "orientation": "v",
           "showlegend": true,
           "type": "scatter",
           "x": [
            36.0299987792969
           ],
           "xaxis": "x",
           "y": [
            29.7199993133545
           ],
           "yaxis": "y"
          }
         ],
         "name": "4"
        },
        {
         "data": [
          {
           "hovertemplate": "club=LV<br>frameId=5<br>x=%{x}<br>y=%{y}<extra></extra>",
           "legendgroup": "LV",
           "marker": {
            "color": "Red",
            "symbol": "circle"
           },
           "mode": "markers",
           "name": "LV",
           "orientation": "v",
           "showlegend": true,
           "type": "scatter",
           "x": [
            41.61,
            40.38,
            39.43,
            40.74,
            37.5,
            37.44,
            37.84,
            38.99,
            36.48,
            37.2,
            37.31
           ],
           "xaxis": "x",
           "y": [
            32.64,
            29.62,
            23.59,
            19.61,
            32.37,
            26.44,
            34.15,
            22.29,
            29.52,
            28,
            31.04
           ],
           "yaxis": "y"
          },
          {
           "hovertemplate": "club=LAC<br>frameId=5<br>x=%{x}<br>y=%{y}<extra></extra>",
           "legendgroup": "LAC",
           "marker": {
            "color": "Black",
            "symbol": "circle"
           },
           "mode": "markers",
           "name": "LAC",
           "orientation": "v",
           "showlegend": true,
           "type": "scatter",
           "x": [
            32.13,
            33.78,
            34.23,
            31.11,
            28.88,
            34.65,
            26.3,
            30.98,
            31.09,
            32.26,
            34.93
           ],
           "xaxis": "x",
           "y": [
            24.84,
            24.42,
            27.99,
            37.16,
            33.67,
            30.79,
            25.95,
            28.74,
            31.69,
            19.16,
            35.15
           ],
           "yaxis": "y"
          },
          {
           "hovertemplate": "club=football<br>frameId=5<br>x=%{x}<br>y=%{y}<extra></extra>",
           "legendgroup": "football",
           "marker": {
            "color": "Grey",
            "symbol": "circle"
           },
           "mode": "markers",
           "name": "football",
           "orientation": "v",
           "showlegend": true,
           "type": "scatter",
           "x": [
            36.0299987792969
           ],
           "xaxis": "x",
           "y": [
            29.7199993133545
           ],
           "yaxis": "y"
          }
         ],
         "name": "5"
        },
        {
         "data": [
          {
           "hovertemplate": "club=LV<br>frameId=6<br>x=%{x}<br>y=%{y}<extra></extra>",
           "legendgroup": "LV",
           "marker": {
            "color": "Red",
            "symbol": "circle"
           },
           "mode": "markers",
           "name": "LV",
           "orientation": "v",
           "showlegend": true,
           "type": "scatter",
           "x": [
            41.59,
            40.3,
            39.32,
            40.62,
            37.47,
            37.44,
            37.78,
            38.9,
            36.48,
            37.16,
            37.29
           ],
           "xaxis": "x",
           "y": [
            32.68,
            29.62,
            23.45,
            19.22,
            32.39,
            26.43,
            34.19,
            22.02,
            29.53,
            27.99,
            31.06
           ],
           "yaxis": "y"
          },
          {
           "hovertemplate": "club=LAC<br>frameId=6<br>x=%{x}<br>y=%{y}<extra></extra>",
           "legendgroup": "LAC",
           "marker": {
            "color": "Black",
            "symbol": "circle"
           },
           "mode": "markers",
           "name": "LAC",
           "orientation": "v",
           "showlegend": true,
           "type": "scatter",
           "x": [
            32.17,
            33.77,
            34.27,
            31.01,
            28.77,
            34.62,
            26.2,
            30.94,
            30.97,
            32.25,
            34.92
           ],
           "xaxis": "x",
           "y": [
            24.68,
            24.36,
            27.84,
            37.07,
            33.69,
            30.84,
            25.87,
            28.58,
            31.7,
            18.91,
            35.19
           ],
           "yaxis": "y"
          },
          {
           "hovertemplate": "club=football<br>frameId=6<br>x=%{x}<br>y=%{y}<extra></extra>",
           "legendgroup": "football",
           "marker": {
            "color": "Grey",
            "symbol": "circle"
           },
           "mode": "markers",
           "name": "football",
           "orientation": "v",
           "showlegend": true,
           "type": "scatter",
           "x": [
            36.0299987792969
           ],
           "xaxis": "x",
           "y": [
            29.7199993133545
           ],
           "yaxis": "y"
          }
         ],
         "name": "6"
        },
        {
         "data": [
          {
           "hovertemplate": "club=LV<br>frameId=7<br>x=%{x}<br>y=%{y}<extra></extra>",
           "legendgroup": "LV",
           "marker": {
            "color": "Red",
            "symbol": "circle"
           },
           "mode": "markers",
           "name": "LV",
           "orientation": "v",
           "showlegend": true,
           "type": "scatter",
           "x": [
            41.57,
            40.21,
            39.21,
            40.51,
            37.45,
            37.44,
            37.72,
            38.79,
            36.46,
            37.13,
            37.29
           ],
           "xaxis": "x",
           "y": [
            32.72,
            29.62,
            23.33,
            18.83,
            32.41,
            26.44,
            34.22,
            21.76,
            29.53,
            27.99,
            31.1
           ],
           "yaxis": "y"
          },
          {
           "hovertemplate": "club=LAC<br>frameId=7<br>x=%{x}<br>y=%{y}<extra></extra>",
           "legendgroup": "LAC",
           "marker": {
            "color": "Black",
            "symbol": "circle"
           },
           "mode": "markers",
           "name": "LAC",
           "orientation": "v",
           "showlegend": true,
           "type": "scatter",
           "x": [
            32.21,
            33.76,
            34.31,
            30.91,
            28.66,
            34.6,
            26.1,
            30.9,
            30.85,
            32.25,
            34.89
           ],
           "xaxis": "x",
           "y": [
            24.51,
            24.29,
            27.69,
            36.98,
            33.7,
            30.88,
            25.79,
            28.42,
            31.71,
            18.65,
            35.24
           ],
           "yaxis": "y"
          },
          {
           "hovertemplate": "club=football<br>frameId=7<br>x=%{x}<br>y=%{y}<extra></extra>",
           "legendgroup": "football",
           "marker": {
            "color": "Grey",
            "symbol": "circle"
           },
           "mode": "markers",
           "name": "football",
           "orientation": "v",
           "showlegend": true,
           "type": "scatter",
           "x": [
            36.0299987792969
           ],
           "xaxis": "x",
           "y": [
            29.7199993133545
           ],
           "yaxis": "y"
          }
         ],
         "name": "7"
        },
        {
         "data": [
          {
           "hovertemplate": "club=LV<br>frameId=8<br>x=%{x}<br>y=%{y}<extra></extra>",
           "legendgroup": "LV",
           "marker": {
            "color": "Red",
            "symbol": "circle"
           },
           "mode": "markers",
           "name": "LV",
           "orientation": "v",
           "showlegend": true,
           "type": "scatter",
           "x": [
            41.55,
            40.09,
            39.11,
            40.39,
            37.46,
            37.43,
            37.67,
            38.69,
            36.45,
            37.12,
            37.27
           ],
           "xaxis": "x",
           "y": [
            32.77,
            29.63,
            23.21,
            18.45,
            32.45,
            26.44,
            34.24,
            21.52,
            29.54,
            27.99,
            31.12
           ],
           "yaxis": "y"
          },
          {
           "hovertemplate": "club=LAC<br>frameId=8<br>x=%{x}<br>y=%{y}<extra></extra>",
           "legendgroup": "LAC",
           "marker": {
            "color": "Black",
            "symbol": "circle"
           },
           "mode": "markers",
           "name": "LAC",
           "orientation": "v",
           "showlegend": true,
           "type": "scatter",
           "x": [
            32.26,
            33.75,
            34.34,
            30.82,
            28.55,
            34.58,
            25.98,
            30.86,
            30.74,
            32.24,
            34.87
           ],
           "xaxis": "x",
           "y": [
            24.33,
            24.22,
            27.57,
            36.89,
            33.71,
            30.91,
            25.71,
            28.26,
            31.71,
            18.39,
            35.29
           ],
           "yaxis": "y"
          },
          {
           "hovertemplate": "club=football<br>frameId=8<br>x=%{x}<br>y=%{y}<extra></extra>",
           "legendgroup": "football",
           "marker": {
            "color": "Grey",
            "symbol": "circle"
           },
           "mode": "markers",
           "name": "football",
           "orientation": "v",
           "showlegend": true,
           "type": "scatter",
           "x": [
            36.0299987792969
           ],
           "xaxis": "x",
           "y": [
            29.7199993133545
           ],
           "yaxis": "y"
          }
         ],
         "name": "8"
        },
        {
         "data": [
          {
           "hovertemplate": "club=LV<br>frameId=9<br>x=%{x}<br>y=%{y}<extra></extra>",
           "legendgroup": "LV",
           "marker": {
            "color": "Red",
            "symbol": "circle"
           },
           "mode": "markers",
           "name": "LV",
           "orientation": "v",
           "showlegend": true,
           "type": "scatter",
           "x": [
            41.53,
            39.95,
            39,
            40.27,
            37.46,
            37.42,
            37.62,
            38.59,
            36.44,
            37.11,
            37.26
           ],
           "xaxis": "x",
           "y": [
            32.8,
            29.63,
            23.08,
            18.06,
            32.48,
            26.44,
            34.27,
            21.29,
            29.53,
            27.98,
            31.13
           ],
           "yaxis": "y"
          },
          {
           "hovertemplate": "club=LAC<br>frameId=9<br>x=%{x}<br>y=%{y}<extra></extra>",
           "legendgroup": "LAC",
           "marker": {
            "color": "Black",
            "symbol": "circle"
           },
           "mode": "markers",
           "name": "LAC",
           "orientation": "v",
           "showlegend": true,
           "type": "scatter",
           "x": [
            32.29,
            33.74,
            34.38,
            30.74,
            28.45,
            34.57,
            25.86,
            30.83,
            30.64,
            32.24,
            34.85
           ],
           "xaxis": "x",
           "y": [
            24.15,
            24.15,
            27.46,
            36.79,
            33.71,
            30.92,
            25.64,
            28.1,
            31.72,
            18.13,
            35.33
           ],
           "yaxis": "y"
          },
          {
           "hovertemplate": "club=football<br>frameId=9<br>x=%{x}<br>y=%{y}<extra></extra>",
           "legendgroup": "football",
           "marker": {
            "color": "Grey",
            "symbol": "circle"
           },
           "mode": "markers",
           "name": "football",
           "orientation": "v",
           "showlegend": true,
           "type": "scatter",
           "x": [
            36.0299987792969
           ],
           "xaxis": "x",
           "y": [
            29.7099990844727
           ],
           "yaxis": "y"
          }
         ],
         "name": "9"
        },
        {
         "data": [
          {
           "hovertemplate": "club=LV<br>frameId=10<br>x=%{x}<br>y=%{y}<extra></extra>",
           "legendgroup": "LV",
           "marker": {
            "color": "Red",
            "symbol": "circle"
           },
           "mode": "markers",
           "name": "LV",
           "orientation": "v",
           "showlegend": true,
           "type": "scatter",
           "x": [
            41.51,
            39.81,
            38.9,
            40.15,
            37.47,
            37.4,
            37.58,
            38.49,
            36.42,
            37.1,
            37.25
           ],
           "xaxis": "x",
           "y": [
            32.84,
            29.64,
            22.97,
            17.67,
            32.52,
            26.45,
            34.28,
            21.08,
            29.52,
            27.97,
            31.15
           ],
           "yaxis": "y"
          },
          {
           "hovertemplate": "club=LAC<br>frameId=10<br>x=%{x}<br>y=%{y}<extra></extra>",
           "legendgroup": "LAC",
           "marker": {
            "color": "Black",
            "symbol": "circle"
           },
           "mode": "markers",
           "name": "LAC",
           "orientation": "v",
           "showlegend": true,
           "type": "scatter",
           "x": [
            32.33,
            33.75,
            34.41,
            30.65,
            28.34,
            34.56,
            25.73,
            30.79,
            30.55,
            32.24,
            34.84
           ],
           "xaxis": "x",
           "y": [
            23.96,
            24.08,
            27.36,
            36.69,
            33.71,
            30.93,
            25.56,
            27.94,
            31.72,
            17.86,
            35.38
           ],
           "yaxis": "y"
          },
          {
           "hovertemplate": "club=football<br>frameId=10<br>x=%{x}<br>y=%{y}<extra></extra>",
           "legendgroup": "football",
           "marker": {
            "color": "Grey",
            "symbol": "circle"
           },
           "mode": "markers",
           "name": "football",
           "orientation": "v",
           "showlegend": true,
           "type": "scatter",
           "x": [
            36.0299987792969
           ],
           "xaxis": "x",
           "y": [
            29.7099990844727
           ],
           "yaxis": "y"
          }
         ],
         "name": "10"
        },
        {
         "data": [
          {
           "hovertemplate": "club=LV<br>frameId=11<br>x=%{x}<br>y=%{y}<extra></extra>",
           "legendgroup": "LV",
           "marker": {
            "color": "Red",
            "symbol": "circle"
           },
           "mode": "markers",
           "name": "LV",
           "orientation": "v",
           "showlegend": true,
           "type": "scatter",
           "x": [
            41.49,
            39.65,
            38.79,
            40.02,
            37.48,
            37.37,
            37.54,
            38.39,
            36.4,
            37.09,
            37.24
           ],
           "xaxis": "x",
           "y": [
            32.88,
            29.65,
            22.86,
            17.28,
            32.56,
            26.46,
            34.29,
            20.88,
            29.5,
            27.97,
            31.15
           ],
           "yaxis": "y"
          },
          {
           "hovertemplate": "club=LAC<br>frameId=11<br>x=%{x}<br>y=%{y}<extra></extra>",
           "legendgroup": "LAC",
           "marker": {
            "color": "Black",
            "symbol": "circle"
           },
           "mode": "markers",
           "name": "LAC",
           "orientation": "v",
           "showlegend": true,
           "type": "scatter",
           "x": [
            32.36,
            33.76,
            34.43,
            30.58,
            28.25,
            34.56,
            25.6,
            30.76,
            30.47,
            32.24,
            34.84
           ],
           "xaxis": "x",
           "y": [
            23.77,
            24.01,
            27.29,
            36.6,
            33.71,
            30.92,
            25.49,
            27.79,
            31.72,
            17.6,
            35.43
           ],
           "yaxis": "y"
          },
          {
           "hovertemplate": "club=football<br>frameId=11<br>x=%{x}<br>y=%{y}<extra></extra>",
           "legendgroup": "football",
           "marker": {
            "color": "Grey",
            "symbol": "circle"
           },
           "mode": "markers",
           "name": "football",
           "orientation": "v",
           "showlegend": true,
           "type": "scatter",
           "x": [
            36.0299987792969
           ],
           "xaxis": "x",
           "y": [
            29.7099990844727
           ],
           "yaxis": "y"
          }
         ],
         "name": "11"
        },
        {
         "data": [
          {
           "hovertemplate": "club=LV<br>frameId=12<br>x=%{x}<br>y=%{y}<extra></extra>",
           "legendgroup": "LV",
           "marker": {
            "color": "Red",
            "symbol": "circle"
           },
           "mode": "markers",
           "name": "LV",
           "orientation": "v",
           "showlegend": true,
           "type": "scatter",
           "x": [
            41.47,
            39.51,
            38.69,
            39.89,
            37.49,
            37.34,
            37.49,
            38.3,
            36.39,
            37.1,
            37.23
           ],
           "xaxis": "x",
           "y": [
            32.91,
            29.65,
            22.76,
            16.9,
            32.6,
            26.47,
            34.29,
            20.7,
            29.5,
            27.97,
            31.15
           ],
           "yaxis": "y"
          },
          {
           "hovertemplate": "club=LAC<br>frameId=12<br>x=%{x}<br>y=%{y}<extra></extra>",
           "legendgroup": "LAC",
           "marker": {
            "color": "Black",
            "symbol": "circle"
           },
           "mode": "markers",
           "name": "LAC",
           "orientation": "v",
           "showlegend": true,
           "type": "scatter",
           "x": [
            32.39,
            33.78,
            34.45,
            30.49,
            28.16,
            34.57,
            25.46,
            30.74,
            30.39,
            32.25,
            34.85
           ],
           "xaxis": "x",
           "y": [
            23.58,
            23.95,
            27.24,
            36.5,
            33.72,
            30.91,
            25.42,
            27.64,
            31.71,
            17.34,
            35.48
           ],
           "yaxis": "y"
          },
          {
           "hovertemplate": "club=football<br>frameId=12<br>x=%{x}<br>y=%{y}<extra></extra>",
           "legendgroup": "football",
           "marker": {
            "color": "Grey",
            "symbol": "circle"
           },
           "mode": "markers",
           "name": "football",
           "orientation": "v",
           "showlegend": true,
           "type": "scatter",
           "x": [
            36.0299987792969
           ],
           "xaxis": "x",
           "y": [
            29.7099990844727
           ],
           "yaxis": "y"
          }
         ],
         "name": "12"
        },
        {
         "data": [
          {
           "hovertemplate": "club=LV<br>frameId=13<br>x=%{x}<br>y=%{y}<extra></extra>",
           "legendgroup": "LV",
           "marker": {
            "color": "Red",
            "symbol": "circle"
           },
           "mode": "markers",
           "name": "LV",
           "orientation": "v",
           "showlegend": true,
           "type": "scatter",
           "x": [
            41.46,
            39.37,
            38.59,
            39.77,
            37.49,
            37.32,
            37.43,
            38.22,
            36.38,
            37.1,
            37.23
           ],
           "xaxis": "x",
           "y": [
            32.94,
            29.66,
            22.66,
            16.52,
            32.63,
            26.5,
            34.29,
            20.54,
            29.48,
            27.98,
            31.14
           ],
           "yaxis": "y"
          },
          {
           "hovertemplate": "club=LAC<br>frameId=13<br>x=%{x}<br>y=%{y}<extra></extra>",
           "legendgroup": "LAC",
           "marker": {
            "color": "Black",
            "symbol": "circle"
           },
           "mode": "markers",
           "name": "LAC",
           "orientation": "v",
           "showlegend": true,
           "type": "scatter",
           "x": [
            32.41,
            33.81,
            34.46,
            30.43,
            28.07,
            34.58,
            25.31,
            30.72,
            30.33,
            32.27,
            34.87
           ],
           "xaxis": "x",
           "y": [
            23.39,
            23.89,
            27.2,
            36.41,
            33.74,
            30.9,
            25.35,
            27.5,
            31.7,
            17.07,
            35.52
           ],
           "yaxis": "y"
          },
          {
           "hovertemplate": "club=football<br>frameId=13<br>x=%{x}<br>y=%{y}<extra></extra>",
           "legendgroup": "football",
           "marker": {
            "color": "Grey",
            "symbol": "circle"
           },
           "mode": "markers",
           "name": "football",
           "orientation": "v",
           "showlegend": true,
           "type": "scatter",
           "x": [
            36.0299987792969
           ],
           "xaxis": "x",
           "y": [
            29.7099990844727
           ],
           "yaxis": "y"
          }
         ],
         "name": "13"
        },
        {
         "data": [
          {
           "hovertemplate": "club=LV<br>frameId=14<br>x=%{x}<br>y=%{y}<extra></extra>",
           "legendgroup": "LV",
           "marker": {
            "color": "Red",
            "symbol": "circle"
           },
           "mode": "markers",
           "name": "LV",
           "orientation": "v",
           "showlegend": true,
           "type": "scatter",
           "x": [
            41.45,
            39.25,
            38.49,
            39.64,
            37.49,
            37.3,
            37.37,
            38.14,
            36.37,
            37.1,
            37.23
           ],
           "xaxis": "x",
           "y": [
            32.96,
            29.67,
            22.56,
            16.14,
            32.66,
            26.51,
            34.27,
            20.39,
            29.47,
            27.98,
            31.13
           ],
           "yaxis": "y"
          },
          {
           "hovertemplate": "club=LAC<br>frameId=14<br>x=%{x}<br>y=%{y}<extra></extra>",
           "legendgroup": "LAC",
           "marker": {
            "color": "Black",
            "symbol": "circle"
           },
           "mode": "markers",
           "name": "LAC",
           "orientation": "v",
           "showlegend": true,
           "type": "scatter",
           "x": [
            32.42,
            33.86,
            34.48,
            30.36,
            28,
            34.59,
            25.17,
            30.69,
            30.28,
            32.28,
            34.9
           ],
           "xaxis": "x",
           "y": [
            23.2,
            23.84,
            27.18,
            36.33,
            33.76,
            30.89,
            25.28,
            27.36,
            31.69,
            16.8,
            35.57
           ],
           "yaxis": "y"
          },
          {
           "hovertemplate": "club=football<br>frameId=14<br>x=%{x}<br>y=%{y}<extra></extra>",
           "legendgroup": "football",
           "marker": {
            "color": "Grey",
            "symbol": "circle"
           },
           "mode": "markers",
           "name": "football",
           "orientation": "v",
           "showlegend": true,
           "type": "scatter",
           "x": [
            36.0299987792969
           ],
           "xaxis": "x",
           "y": [
            29.7099990844727
           ],
           "yaxis": "y"
          }
         ],
         "name": "14"
        },
        {
         "data": [
          {
           "hovertemplate": "club=LV<br>frameId=15<br>x=%{x}<br>y=%{y}<extra></extra>",
           "legendgroup": "LV",
           "marker": {
            "color": "Red",
            "symbol": "circle"
           },
           "mode": "markers",
           "name": "LV",
           "orientation": "v",
           "showlegend": true,
           "type": "scatter",
           "x": [
            41.45,
            39.15,
            38.38,
            39.52,
            37.49,
            37.28,
            37.31,
            38.07,
            36.36,
            37.11,
            37.23
           ],
           "xaxis": "x",
           "y": [
            32.98,
            29.67,
            22.47,
            15.76,
            32.67,
            26.5,
            34.25,
            20.24,
            29.47,
            27.99,
            31.12
           ],
           "yaxis": "y"
          },
          {
           "hovertemplate": "club=LAC<br>frameId=15<br>x=%{x}<br>y=%{y}<extra></extra>",
           "legendgroup": "LAC",
           "marker": {
            "color": "Black",
            "symbol": "circle"
           },
           "mode": "markers",
           "name": "LAC",
           "orientation": "v",
           "showlegend": true,
           "type": "scatter",
           "x": [
            32.42,
            33.91,
            34.52,
            30.3,
            27.92,
            34.61,
            25.02,
            30.66,
            30.24,
            32.3,
            34.94
           ],
           "xaxis": "x",
           "y": [
            23.01,
            23.81,
            27.2,
            36.25,
            33.79,
            30.87,
            25.21,
            27.23,
            31.67,
            16.53,
            35.6
           ],
           "yaxis": "y"
          },
          {
           "hovertemplate": "club=football<br>frameId=15<br>x=%{x}<br>y=%{y}<extra></extra>",
           "legendgroup": "football",
           "marker": {
            "color": "Grey",
            "symbol": "circle"
           },
           "mode": "markers",
           "name": "football",
           "orientation": "v",
           "showlegend": true,
           "type": "scatter",
           "x": [
            36.0299987792969
           ],
           "xaxis": "x",
           "y": [
            29.7099990844727
           ],
           "yaxis": "y"
          }
         ],
         "name": "15"
        },
        {
         "data": [
          {
           "hovertemplate": "club=LV<br>frameId=16<br>x=%{x}<br>y=%{y}<extra></extra>",
           "legendgroup": "LV",
           "marker": {
            "color": "Red",
            "symbol": "circle"
           },
           "mode": "markers",
           "name": "LV",
           "orientation": "v",
           "showlegend": true,
           "type": "scatter",
           "x": [
            41.44,
            39.07,
            38.29,
            39.41,
            37.48,
            37.28,
            37.24,
            38,
            36.36,
            37.11,
            37.22
           ],
           "xaxis": "x",
           "y": [
            33,
            29.67,
            22.38,
            15.39,
            32.66,
            26.47,
            34.22,
            20.12,
            29.5,
            27.98,
            31.12
           ],
           "yaxis": "y"
          },
          {
           "hovertemplate": "club=LAC<br>frameId=16<br>x=%{x}<br>y=%{y}<extra></extra>",
           "legendgroup": "LAC",
           "marker": {
            "color": "Black",
            "symbol": "circle"
           },
           "mode": "markers",
           "name": "LAC",
           "orientation": "v",
           "showlegend": true,
           "type": "scatter",
           "x": [
            32.43,
            33.96,
            34.54,
            30.24,
            27.86,
            34.63,
            24.87,
            30.63,
            30.2,
            32.32,
            34.99
           ],
           "xaxis": "x",
           "y": [
            22.83,
            23.79,
            27.21,
            36.18,
            33.84,
            30.85,
            25.14,
            27.1,
            31.64,
            16.25,
            35.64
           ],
           "yaxis": "y"
          },
          {
           "hovertemplate": "club=football<br>frameId=16<br>x=%{x}<br>y=%{y}<extra></extra>",
           "legendgroup": "football",
           "marker": {
            "color": "Grey",
            "symbol": "circle"
           },
           "mode": "markers",
           "name": "football",
           "orientation": "v",
           "showlegend": true,
           "type": "scatter",
           "x": [
            36.0299987792969
           ],
           "xaxis": "x",
           "y": [
            29.7099990844727
           ],
           "yaxis": "y"
          }
         ],
         "name": "16"
        },
        {
         "data": [
          {
           "hovertemplate": "club=LV<br>frameId=17<br>x=%{x}<br>y=%{y}<extra></extra>",
           "legendgroup": "LV",
           "marker": {
            "color": "Red",
            "symbol": "circle"
           },
           "mode": "markers",
           "name": "LV",
           "orientation": "v",
           "showlegend": true,
           "type": "scatter",
           "x": [
            41.43,
            39,
            38.2,
            39.27,
            37.48,
            37.27,
            37.2,
            37.93,
            36.36,
            37.12,
            37.22
           ],
           "xaxis": "x",
           "y": [
            33.01,
            29.67,
            22.3,
            15.01,
            32.64,
            26.45,
            34.19,
            20,
            29.49,
            27.97,
            31.12
           ],
           "yaxis": "y"
          },
          {
           "hovertemplate": "club=LAC<br>frameId=17<br>x=%{x}<br>y=%{y}<extra></extra>",
           "legendgroup": "LAC",
           "marker": {
            "color": "Black",
            "symbol": "circle"
           },
           "mode": "markers",
           "name": "LAC",
           "orientation": "v",
           "showlegend": true,
           "type": "scatter",
           "x": [
            32.43,
            34.02,
            34.57,
            30.19,
            27.8,
            34.65,
            24.73,
            30.6,
            30.17,
            32.33,
            35.05
           ],
           "xaxis": "x",
           "y": [
            22.64,
            23.79,
            27.24,
            36.13,
            33.89,
            30.85,
            25.07,
            26.97,
            31.61,
            15.97,
            35.66
           ],
           "yaxis": "y"
          },
          {
           "hovertemplate": "club=football<br>frameId=17<br>x=%{x}<br>y=%{y}<extra></extra>",
           "legendgroup": "football",
           "marker": {
            "color": "Grey",
            "symbol": "circle"
           },
           "mode": "markers",
           "name": "football",
           "orientation": "v",
           "showlegend": true,
           "type": "scatter",
           "x": [
            36.0299987792969
           ],
           "xaxis": "x",
           "y": [
            29.7099990844727
           ],
           "yaxis": "y"
          }
         ],
         "name": "17"
        },
        {
         "data": [
          {
           "hovertemplate": "club=LV<br>frameId=18<br>x=%{x}<br>y=%{y}<extra></extra>",
           "legendgroup": "LV",
           "marker": {
            "color": "Red",
            "symbol": "circle"
           },
           "mode": "markers",
           "name": "LV",
           "orientation": "v",
           "showlegend": true,
           "type": "scatter",
           "x": [
            41.43,
            38.96,
            38.11,
            39.14,
            37.47,
            37.28,
            37.17,
            37.86,
            36.37,
            37.12,
            37.22
           ],
           "xaxis": "x",
           "y": [
            33.01,
            29.66,
            22.23,
            14.65,
            32.62,
            26.41,
            34.14,
            19.88,
            29.5,
            27.97,
            31.11
           ],
           "yaxis": "y"
          },
          {
           "hovertemplate": "club=LAC<br>frameId=18<br>x=%{x}<br>y=%{y}<extra></extra>",
           "legendgroup": "LAC",
           "marker": {
            "color": "Black",
            "symbol": "circle"
           },
           "mode": "markers",
           "name": "LAC",
           "orientation": "v",
           "showlegend": true,
           "type": "scatter",
           "x": [
            32.43,
            34.07,
            34.6,
            30.15,
            27.75,
            34.67,
            24.58,
            30.55,
            30.15,
            32.35,
            35.11
           ],
           "xaxis": "x",
           "y": [
            22.47,
            23.81,
            27.28,
            36.08,
            33.94,
            30.85,
            25,
            26.84,
            31.58,
            15.69,
            35.67
           ],
           "yaxis": "y"
          },
          {
           "hovertemplate": "club=football<br>frameId=18<br>x=%{x}<br>y=%{y}<extra></extra>",
           "legendgroup": "football",
           "marker": {
            "color": "Grey",
            "symbol": "circle"
           },
           "mode": "markers",
           "name": "football",
           "orientation": "v",
           "showlegend": true,
           "type": "scatter",
           "x": [
            36.0299987792969
           ],
           "xaxis": "x",
           "y": [
            29.7099990844727
           ],
           "yaxis": "y"
          }
         ],
         "name": "18"
        },
        {
         "data": [
          {
           "hovertemplate": "club=LV<br>frameId=19<br>x=%{x}<br>y=%{y}<extra></extra>",
           "legendgroup": "LV",
           "marker": {
            "color": "Red",
            "symbol": "circle"
           },
           "mode": "markers",
           "name": "LV",
           "orientation": "v",
           "showlegend": true,
           "type": "scatter",
           "x": [
            41.42,
            38.93,
            38.04,
            39.02,
            37.46,
            37.29,
            37.15,
            37.79,
            36.38,
            37.13,
            37.22
           ],
           "xaxis": "x",
           "y": [
            33.02,
            29.66,
            22.16,
            14.3,
            32.58,
            26.41,
            34.11,
            19.77,
            29.47,
            27.97,
            31.11
           ],
           "yaxis": "y"
          },
          {
           "hovertemplate": "club=LAC<br>frameId=19<br>x=%{x}<br>y=%{y}<extra></extra>",
           "legendgroup": "LAC",
           "marker": {
            "color": "Black",
            "symbol": "circle"
           },
           "mode": "markers",
           "name": "LAC",
           "orientation": "v",
           "showlegend": true,
           "type": "scatter",
           "x": [
            32.44,
            34.13,
            34.63,
            30.12,
            27.7,
            34.7,
            24.44,
            30.5,
            30.13,
            32.36,
            35.18
           ],
           "xaxis": "x",
           "y": [
            22.3,
            23.83,
            27.32,
            36.05,
            33.99,
            30.85,
            24.93,
            26.72,
            31.54,
            15.41,
            35.68
           ],
           "yaxis": "y"
          },
          {
           "hovertemplate": "club=football<br>frameId=19<br>x=%{x}<br>y=%{y}<extra></extra>",
           "legendgroup": "football",
           "marker": {
            "color": "Grey",
            "symbol": "circle"
           },
           "mode": "markers",
           "name": "football",
           "orientation": "v",
           "showlegend": true,
           "type": "scatter",
           "x": [
            36.0299987792969
           ],
           "xaxis": "x",
           "y": [
            29.7000007629395
           ],
           "yaxis": "y"
          }
         ],
         "name": "19"
        },
        {
         "data": [
          {
           "hovertemplate": "club=LV<br>frameId=20<br>x=%{x}<br>y=%{y}<extra></extra>",
           "legendgroup": "LV",
           "marker": {
            "color": "Red",
            "symbol": "circle"
           },
           "mode": "markers",
           "name": "LV",
           "orientation": "v",
           "showlegend": true,
           "type": "scatter",
           "x": [
            41.42,
            38.94,
            37.97,
            38.89,
            37.44,
            37.29,
            37.14,
            37.72,
            36.4,
            37.13,
            37.21
           ],
           "xaxis": "x",
           "y": [
            33.02,
            29.66,
            22.1,
            13.95,
            32.53,
            26.38,
            34.06,
            19.67,
            29.46,
            27.97,
            31.1
           ],
           "yaxis": "y"
          },
          {
           "hovertemplate": "club=LAC<br>frameId=20<br>x=%{x}<br>y=%{y}<extra></extra>",
           "legendgroup": "LAC",
           "marker": {
            "color": "Black",
            "symbol": "circle"
           },
           "mode": "markers",
           "name": "LAC",
           "orientation": "v",
           "showlegend": true,
           "type": "scatter",
           "x": [
            32.46,
            34.2,
            34.67,
            30.08,
            27.65,
            34.71,
            24.31,
            30.45,
            30.11,
            32.37,
            35.26
           ],
           "xaxis": "x",
           "y": [
            22.13,
            23.84,
            27.36,
            36.03,
            34.04,
            30.85,
            24.86,
            26.59,
            31.5,
            15.14,
            35.68
           ],
           "yaxis": "y"
          },
          {
           "hovertemplate": "club=football<br>frameId=20<br>x=%{x}<br>y=%{y}<extra></extra>",
           "legendgroup": "football",
           "marker": {
            "color": "Grey",
            "symbol": "circle"
           },
           "mode": "markers",
           "name": "football",
           "orientation": "v",
           "showlegend": true,
           "type": "scatter",
           "x": [
            36.0299987792969
           ],
           "xaxis": "x",
           "y": [
            29.7000007629395
           ],
           "yaxis": "y"
          }
         ],
         "name": "20"
        },
        {
         "data": [
          {
           "hovertemplate": "club=LV<br>frameId=21<br>x=%{x}<br>y=%{y}<extra></extra>",
           "legendgroup": "LV",
           "marker": {
            "color": "Red",
            "symbol": "circle"
           },
           "mode": "markers",
           "name": "LV",
           "orientation": "v",
           "showlegend": true,
           "type": "scatter",
           "x": [
            41.42,
            38.97,
            37.9,
            38.77,
            37.43,
            37.3,
            37.14,
            37.65,
            36.41,
            37.13,
            37.2
           ],
           "xaxis": "x",
           "y": [
            33.02,
            29.66,
            22.06,
            13.6,
            32.48,
            26.37,
            34.02,
            19.58,
            29.45,
            27.99,
            31.09
           ],
           "yaxis": "y"
          },
          {
           "hovertemplate": "club=LAC<br>frameId=21<br>x=%{x}<br>y=%{y}<extra></extra>",
           "legendgroup": "LAC",
           "marker": {
            "color": "Black",
            "symbol": "circle"
           },
           "mode": "markers",
           "name": "LAC",
           "orientation": "v",
           "showlegend": true,
           "type": "scatter",
           "x": [
            32.48,
            34.26,
            34.71,
            30.04,
            27.61,
            34.73,
            24.18,
            30.4,
            30.1,
            32.37,
            35.33
           ],
           "xaxis": "x",
           "y": [
            21.96,
            23.84,
            27.41,
            36.05,
            34.08,
            30.86,
            24.78,
            26.47,
            31.47,
            14.87,
            35.67
           ],
           "yaxis": "y"
          },
          {
           "hovertemplate": "club=football<br>frameId=21<br>x=%{x}<br>y=%{y}<extra></extra>",
           "legendgroup": "football",
           "marker": {
            "color": "Grey",
            "symbol": "circle"
           },
           "mode": "markers",
           "name": "football",
           "orientation": "v",
           "showlegend": true,
           "type": "scatter",
           "x": [
            36.0299987792969
           ],
           "xaxis": "x",
           "y": [
            29.7000007629395
           ],
           "yaxis": "y"
          }
         ],
         "name": "21"
        },
        {
         "data": [
          {
           "hovertemplate": "club=LV<br>frameId=22<br>x=%{x}<br>y=%{y}<extra></extra>",
           "legendgroup": "LV",
           "marker": {
            "color": "Red",
            "symbol": "circle"
           },
           "mode": "markers",
           "name": "LV",
           "orientation": "v",
           "showlegend": true,
           "type": "scatter",
           "x": [
            41.41,
            39.03,
            37.84,
            38.65,
            37.42,
            37.27,
            37.13,
            37.6,
            36.43,
            37.13,
            37.19
           ],
           "xaxis": "x",
           "y": [
            33.02,
            29.66,
            22.02,
            13.27,
            32.43,
            26.39,
            34,
            19.49,
            29.44,
            28.01,
            31.08
           ],
           "yaxis": "y"
          },
          {
           "hovertemplate": "club=LAC<br>frameId=22<br>x=%{x}<br>y=%{y}<extra></extra>",
           "legendgroup": "LAC",
           "marker": {
            "color": "Black",
            "symbol": "circle"
           },
           "mode": "markers",
           "name": "LAC",
           "orientation": "v",
           "showlegend": true,
           "type": "scatter",
           "x": [
            32.51,
            34.33,
            34.76,
            30.01,
            27.56,
            34.74,
            24.06,
            30.34,
            30.1,
            32.37,
            35.39
           ],
           "xaxis": "x",
           "y": [
            21.8,
            23.83,
            27.44,
            36.08,
            34.12,
            30.88,
            24.7,
            26.36,
            31.43,
            14.61,
            35.67
           ],
           "yaxis": "y"
          },
          {
           "hovertemplate": "club=football<br>frameId=22<br>x=%{x}<br>y=%{y}<extra></extra>",
           "legendgroup": "football",
           "marker": {
            "color": "Grey",
            "symbol": "circle"
           },
           "mode": "markers",
           "name": "football",
           "orientation": "v",
           "showlegend": true,
           "type": "scatter",
           "x": [
            36.0299987792969
           ],
           "xaxis": "x",
           "y": [
            29.6900005340576
           ],
           "yaxis": "y"
          }
         ],
         "name": "22"
        },
        {
         "data": [
          {
           "hovertemplate": "club=LV<br>frameId=23<br>x=%{x}<br>y=%{y}<extra></extra>",
           "legendgroup": "LV",
           "marker": {
            "color": "Red",
            "symbol": "circle"
           },
           "mode": "markers",
           "name": "LV",
           "orientation": "v",
           "showlegend": true,
           "type": "scatter",
           "x": [
            41.41,
            39.12,
            37.78,
            38.54,
            37.41,
            37.27,
            37.14,
            37.55,
            36.44,
            37.12,
            37.18
           ],
           "xaxis": "x",
           "y": [
            33.02,
            29.66,
            22,
            12.94,
            32.38,
            26.4,
            33.99,
            19.41,
            29.43,
            28,
            31.08
           ],
           "yaxis": "y"
          },
          {
           "hovertemplate": "club=LAC<br>frameId=23<br>x=%{x}<br>y=%{y}<extra></extra>",
           "legendgroup": "LAC",
           "marker": {
            "color": "Black",
            "symbol": "circle"
           },
           "mode": "markers",
           "name": "LAC",
           "orientation": "v",
           "showlegend": true,
           "type": "scatter",
           "x": [
            32.55,
            34.4,
            34.81,
            29.99,
            27.51,
            34.76,
            23.95,
            30.28,
            30.11,
            32.37,
            35.45
           ],
           "xaxis": "x",
           "y": [
            21.64,
            23.8,
            27.48,
            36.12,
            34.15,
            30.89,
            24.62,
            26.28,
            31.39,
            14.35,
            35.67
           ],
           "yaxis": "y"
          },
          {
           "hovertemplate": "club=football<br>frameId=23<br>x=%{x}<br>y=%{y}<extra></extra>",
           "legendgroup": "football",
           "marker": {
            "color": "Grey",
            "symbol": "circle"
           },
           "mode": "markers",
           "name": "football",
           "orientation": "v",
           "showlegend": true,
           "type": "scatter",
           "x": [
            36.0299987792969
           ],
           "xaxis": "x",
           "y": [
            29.6900005340576
           ],
           "yaxis": "y"
          }
         ],
         "name": "23"
        },
        {
         "data": [
          {
           "hovertemplate": "club=LV<br>frameId=24<br>x=%{x}<br>y=%{y}<extra></extra>",
           "legendgroup": "LV",
           "marker": {
            "color": "Red",
            "symbol": "circle"
           },
           "mode": "markers",
           "name": "LV",
           "orientation": "v",
           "showlegend": true,
           "type": "scatter",
           "x": [
            41.4,
            39.22,
            37.73,
            38.42,
            37.4,
            37.27,
            37.14,
            37.52,
            36.43,
            37.11,
            37.19
           ],
           "xaxis": "x",
           "y": [
            33.02,
            29.66,
            21.98,
            12.62,
            32.35,
            26.39,
            33.98,
            19.33,
            29.44,
            27.99,
            31.07
           ],
           "yaxis": "y"
          },
          {
           "hovertemplate": "club=LAC<br>frameId=24<br>x=%{x}<br>y=%{y}<extra></extra>",
           "legendgroup": "LAC",
           "marker": {
            "color": "Black",
            "symbol": "circle"
           },
           "mode": "markers",
           "name": "LAC",
           "orientation": "v",
           "showlegend": true,
           "type": "scatter",
           "x": [
            32.59,
            34.48,
            34.86,
            29.95,
            27.46,
            34.79,
            23.84,
            30.23,
            30.11,
            32.37,
            35.49
           ],
           "xaxis": "x",
           "y": [
            21.48,
            23.76,
            27.5,
            36.17,
            34.17,
            30.9,
            24.53,
            26.18,
            31.36,
            14.11,
            35.66
           ],
           "yaxis": "y"
          },
          {
           "hovertemplate": "club=football<br>frameId=24<br>x=%{x}<br>y=%{y}<extra></extra>",
           "legendgroup": "football",
           "marker": {
            "color": "Grey",
            "symbol": "circle"
           },
           "mode": "markers",
           "name": "football",
           "orientation": "v",
           "showlegend": true,
           "type": "scatter",
           "x": [
            36.0200004577637
           ],
           "xaxis": "x",
           "y": [
            29.6900005340576
           ],
           "yaxis": "y"
          }
         ],
         "name": "24"
        },
        {
         "data": [
          {
           "hovertemplate": "club=LV<br>frameId=25<br>x=%{x}<br>y=%{y}<extra></extra>",
           "legendgroup": "LV",
           "marker": {
            "color": "Red",
            "symbol": "circle"
           },
           "mode": "markers",
           "name": "LV",
           "orientation": "v",
           "showlegend": true,
           "type": "scatter",
           "x": [
            41.4,
            39.34,
            37.67,
            38.31,
            37.4,
            37.26,
            37.15,
            37.5,
            36.44,
            37.11,
            37.2
           ],
           "xaxis": "x",
           "y": [
            33.02,
            29.65,
            21.97,
            12.31,
            32.32,
            26.41,
            33.97,
            19.26,
            29.44,
            27.99,
            31.07
           ],
           "yaxis": "y"
          },
          {
           "hovertemplate": "club=LAC<br>frameId=25<br>x=%{x}<br>y=%{y}<extra></extra>",
           "legendgroup": "LAC",
           "marker": {
            "color": "Black",
            "symbol": "circle"
           },
           "mode": "markers",
           "name": "LAC",
           "orientation": "v",
           "showlegend": true,
           "type": "scatter",
           "x": [
            32.63,
            34.55,
            34.9,
            29.91,
            27.41,
            34.82,
            23.73,
            30.17,
            30.13,
            32.37,
            35.52
           ],
           "xaxis": "x",
           "y": [
            21.32,
            23.72,
            27.51,
            36.23,
            34.18,
            30.92,
            24.44,
            26.09,
            31.33,
            13.85,
            35.67
           ],
           "yaxis": "y"
          },
          {
           "hovertemplate": "club=football<br>frameId=25<br>x=%{x}<br>y=%{y}<extra></extra>",
           "legendgroup": "football",
           "marker": {
            "color": "Grey",
            "symbol": "circle"
           },
           "mode": "markers",
           "name": "football",
           "orientation": "v",
           "showlegend": true,
           "type": "scatter",
           "x": [
            36.0200004577637
           ],
           "xaxis": "x",
           "y": [
            29.6900005340576
           ],
           "yaxis": "y"
          }
         ],
         "name": "25"
        },
        {
         "data": [
          {
           "hovertemplate": "club=LV<br>frameId=26<br>x=%{x}<br>y=%{y}<extra></extra>",
           "legendgroup": "LV",
           "marker": {
            "color": "Red",
            "symbol": "circle"
           },
           "mode": "markers",
           "name": "LV",
           "orientation": "v",
           "showlegend": true,
           "type": "scatter",
           "x": [
            41.39,
            39.46,
            37.63,
            38.19,
            37.39,
            37.26,
            37.16,
            37.5,
            36.44,
            37.11,
            37.2
           ],
           "xaxis": "x",
           "y": [
            33,
            29.64,
            21.96,
            12.01,
            32.3,
            26.42,
            33.97,
            19.19,
            29.43,
            27.98,
            31.05
           ],
           "yaxis": "y"
          },
          {
           "hovertemplate": "club=LAC<br>frameId=26<br>x=%{x}<br>y=%{y}<extra></extra>",
           "legendgroup": "LAC",
           "marker": {
            "color": "Black",
            "symbol": "circle"
           },
           "mode": "markers",
           "name": "LAC",
           "orientation": "v",
           "showlegend": true,
           "type": "scatter",
           "x": [
            32.68,
            34.62,
            34.94,
            29.88,
            27.35,
            34.85,
            23.63,
            30.13,
            30.14,
            32.36,
            35.53
           ],
           "xaxis": "x",
           "y": [
            21.17,
            23.67,
            27.52,
            36.3,
            34.19,
            30.93,
            24.35,
            26,
            31.31,
            13.6,
            35.68
           ],
           "yaxis": "y"
          },
          {
           "hovertemplate": "club=football<br>frameId=26<br>x=%{x}<br>y=%{y}<extra></extra>",
           "legendgroup": "football",
           "marker": {
            "color": "Grey",
            "symbol": "circle"
           },
           "mode": "markers",
           "name": "football",
           "orientation": "v",
           "showlegend": true,
           "type": "scatter",
           "x": [
            36.0200004577637
           ],
           "xaxis": "x",
           "y": [
            29.6900005340576
           ],
           "yaxis": "y"
          }
         ],
         "name": "26"
        },
        {
         "data": [
          {
           "hovertemplate": "club=LV<br>frameId=27<br>x=%{x}<br>y=%{y}<extra></extra>",
           "legendgroup": "LV",
           "marker": {
            "color": "Red",
            "symbol": "circle"
           },
           "mode": "markers",
           "name": "LV",
           "orientation": "v",
           "showlegend": true,
           "type": "scatter",
           "x": [
            41.38,
            39.58,
            37.59,
            38.08,
            37.38,
            37.25,
            37.17,
            37.52,
            36.43,
            37.09,
            37.19
           ],
           "xaxis": "x",
           "y": [
            32.98,
            29.63,
            21.95,
            11.72,
            32.28,
            26.41,
            33.95,
            19.12,
            29.46,
            27.97,
            31.06
           ],
           "yaxis": "y"
          },
          {
           "hovertemplate": "club=LAC<br>frameId=27<br>x=%{x}<br>y=%{y}<extra></extra>",
           "legendgroup": "LAC",
           "marker": {
            "color": "Black",
            "symbol": "circle"
           },
           "mode": "markers",
           "name": "LAC",
           "orientation": "v",
           "showlegend": true,
           "type": "scatter",
           "x": [
            32.72,
            34.69,
            34.97,
            29.84,
            27.29,
            34.89,
            23.52,
            30.09,
            30.16,
            32.36,
            35.51
           ],
           "xaxis": "x",
           "y": [
            21.02,
            23.62,
            27.53,
            36.39,
            34.19,
            30.95,
            24.26,
            25.91,
            31.29,
            13.33,
            35.7
           ],
           "yaxis": "y"
          },
          {
           "hovertemplate": "club=football<br>frameId=27<br>x=%{x}<br>y=%{y}<extra></extra>",
           "legendgroup": "football",
           "marker": {
            "color": "Grey",
            "symbol": "circle"
           },
           "mode": "markers",
           "name": "football",
           "orientation": "v",
           "showlegend": true,
           "type": "scatter",
           "x": [
            36.0200004577637
           ],
           "xaxis": "x",
           "y": [
            29.6900005340576
           ],
           "yaxis": "y"
          }
         ],
         "name": "27"
        },
        {
         "data": [
          {
           "hovertemplate": "club=LV<br>frameId=28<br>x=%{x}<br>y=%{y}<extra></extra>",
           "legendgroup": "LV",
           "marker": {
            "color": "Red",
            "symbol": "circle"
           },
           "mode": "markers",
           "name": "LV",
           "orientation": "v",
           "showlegend": true,
           "type": "scatter",
           "x": [
            41.38,
            39.7,
            37.57,
            37.96,
            37.38,
            37.24,
            37.17,
            37.55,
            36.43,
            37.08,
            37.19
           ],
           "xaxis": "x",
           "y": [
            32.95,
            29.62,
            21.94,
            11.45,
            32.28,
            26.42,
            33.93,
            19.06,
            29.45,
            27.94,
            31.07
           ],
           "yaxis": "y"
          },
          {
           "hovertemplate": "club=LAC<br>frameId=28<br>x=%{x}<br>y=%{y}<extra></extra>",
           "legendgroup": "LAC",
           "marker": {
            "color": "Black",
            "symbol": "circle"
           },
           "mode": "markers",
           "name": "LAC",
           "orientation": "v",
           "showlegend": true,
           "type": "scatter",
           "x": [
            32.77,
            34.74,
            34.99,
            29.81,
            27.23,
            34.94,
            23.42,
            30.05,
            30.18,
            32.35,
            35.49
           ],
           "xaxis": "x",
           "y": [
            20.87,
            23.57,
            27.54,
            36.47,
            34.18,
            30.95,
            24.17,
            25.83,
            31.27,
            13.07,
            35.73
           ],
           "yaxis": "y"
          },
          {
           "hovertemplate": "club=football<br>frameId=28<br>x=%{x}<br>y=%{y}<extra></extra>",
           "legendgroup": "football",
           "marker": {
            "color": "Grey",
            "symbol": "circle"
           },
           "mode": "markers",
           "name": "football",
           "orientation": "v",
           "showlegend": true,
           "type": "scatter",
           "x": [
            36.0200004577637
           ],
           "xaxis": "x",
           "y": [
            29.6900005340576
           ],
           "yaxis": "y"
          }
         ],
         "name": "28"
        },
        {
         "data": [
          {
           "hovertemplate": "club=LV<br>frameId=29<br>x=%{x}<br>y=%{y}<extra></extra>",
           "legendgroup": "LV",
           "marker": {
            "color": "Red",
            "symbol": "circle"
           },
           "mode": "markers",
           "name": "LV",
           "orientation": "v",
           "showlegend": true,
           "type": "scatter",
           "x": [
            41.37,
            39.82,
            37.56,
            37.85,
            37.37,
            37.24,
            37.17,
            37.58,
            36.42,
            37.08,
            37.17
           ],
           "xaxis": "x",
           "y": [
            32.92,
            29.61,
            21.93,
            11.18,
            32.29,
            26.43,
            33.93,
            19.01,
            29.45,
            27.91,
            31.06
           ],
           "yaxis": "y"
          },
          {
           "hovertemplate": "club=LAC<br>frameId=29<br>x=%{x}<br>y=%{y}<extra></extra>",
           "legendgroup": "LAC",
           "marker": {
            "color": "Black",
            "symbol": "circle"
           },
           "mode": "markers",
           "name": "LAC",
           "orientation": "v",
           "showlegend": true,
           "type": "scatter",
           "x": [
            32.83,
            34.78,
            35,
            29.8,
            27.16,
            34.99,
            23.32,
            30.03,
            30.2,
            32.35,
            35.44
           ],
           "xaxis": "x",
           "y": [
            20.73,
            23.52,
            27.54,
            36.56,
            34.16,
            30.95,
            24.08,
            25.74,
            31.26,
            12.81,
            35.76
           ],
           "yaxis": "y"
          },
          {
           "hovertemplate": "club=football<br>frameId=29<br>x=%{x}<br>y=%{y}<extra></extra>",
           "legendgroup": "football",
           "marker": {
            "color": "Grey",
            "symbol": "circle"
           },
           "mode": "markers",
           "name": "football",
           "orientation": "v",
           "showlegend": true,
           "type": "scatter",
           "x": [
            36.0200004577637
           ],
           "xaxis": "x",
           "y": [
            29.6900005340576
           ],
           "yaxis": "y"
          }
         ],
         "name": "29"
        },
        {
         "data": [
          {
           "hovertemplate": "club=LV<br>frameId=30<br>x=%{x}<br>y=%{y}<extra></extra>",
           "legendgroup": "LV",
           "marker": {
            "color": "Red",
            "symbol": "circle"
           },
           "mode": "markers",
           "name": "LV",
           "orientation": "v",
           "showlegend": true,
           "type": "scatter",
           "x": [
            41.37,
            39.94,
            37.55,
            37.74,
            37.37,
            37.24,
            37.18,
            37.61,
            36.41,
            37.08,
            37.17
           ],
           "xaxis": "x",
           "y": [
            32.86,
            29.61,
            21.92,
            10.93,
            32.3,
            26.43,
            33.92,
            18.95,
            29.47,
            27.9,
            31.06
           ],
           "yaxis": "y"
          },
          {
           "hovertemplate": "club=LAC<br>frameId=30<br>x=%{x}<br>y=%{y}<extra></extra>",
           "legendgroup": "LAC",
           "marker": {
            "color": "Black",
            "symbol": "circle"
           },
           "mode": "markers",
           "name": "LAC",
           "orientation": "v",
           "showlegend": true,
           "type": "scatter",
           "x": [
            32.9,
            34.81,
            35,
            29.79,
            27.1,
            35.04,
            23.22,
            30.02,
            30.21,
            32.34,
            35.39
           ],
           "xaxis": "x",
           "y": [
            20.59,
            23.48,
            27.54,
            36.65,
            34.15,
            30.93,
            23.97,
            25.66,
            31.24,
            12.56,
            35.8
           ],
           "yaxis": "y"
          },
          {
           "hovertemplate": "club=football<br>frameId=30<br>x=%{x}<br>y=%{y}<extra></extra>",
           "legendgroup": "football",
           "marker": {
            "color": "Grey",
            "symbol": "circle"
           },
           "mode": "markers",
           "name": "football",
           "orientation": "v",
           "showlegend": true,
           "type": "scatter",
           "x": [
            36.0200004577637
           ],
           "xaxis": "x",
           "y": [
            29.6800003051758
           ],
           "yaxis": "y"
          }
         ],
         "name": "30"
        },
        {
         "data": [
          {
           "hovertemplate": "club=LV<br>frameId=31<br>x=%{x}<br>y=%{y}<extra></extra>",
           "legendgroup": "LV",
           "marker": {
            "color": "Red",
            "symbol": "circle"
           },
           "mode": "markers",
           "name": "LV",
           "orientation": "v",
           "showlegend": true,
           "type": "scatter",
           "x": [
            41.36,
            40.05,
            37.56,
            37.64,
            37.37,
            37.24,
            37.18,
            37.63,
            36.41,
            37.08,
            37.17
           ],
           "xaxis": "x",
           "y": [
            32.84,
            29.6,
            21.9,
            10.7,
            32.31,
            26.43,
            33.92,
            18.9,
            29.48,
            27.9,
            31.06
           ],
           "yaxis": "y"
          },
          {
           "hovertemplate": "club=LAC<br>frameId=31<br>x=%{x}<br>y=%{y}<extra></extra>",
           "legendgroup": "LAC",
           "marker": {
            "color": "Black",
            "symbol": "circle"
           },
           "mode": "markers",
           "name": "LAC",
           "orientation": "v",
           "showlegend": true,
           "type": "scatter",
           "x": [
            32.97,
            34.83,
            35,
            29.79,
            27.04,
            35.09,
            23.12,
            30.02,
            30.23,
            32.35,
            35.32
           ],
           "xaxis": "x",
           "y": [
            20.45,
            23.44,
            27.56,
            36.74,
            34.15,
            30.92,
            23.88,
            25.58,
            31.23,
            12.31,
            35.83
           ],
           "yaxis": "y"
          },
          {
           "hovertemplate": "club=football<br>frameId=31<br>x=%{x}<br>y=%{y}<extra></extra>",
           "legendgroup": "football",
           "marker": {
            "color": "Grey",
            "symbol": "circle"
           },
           "mode": "markers",
           "name": "football",
           "orientation": "v",
           "showlegend": true,
           "type": "scatter",
           "x": [
            36.0200004577637
           ],
           "xaxis": "x",
           "y": [
            29.6800003051758
           ],
           "yaxis": "y"
          }
         ],
         "name": "31"
        },
        {
         "data": [
          {
           "hovertemplate": "club=LV<br>frameId=32<br>x=%{x}<br>y=%{y}<extra></extra>",
           "legendgroup": "LV",
           "marker": {
            "color": "Red",
            "symbol": "circle"
           },
           "mode": "markers",
           "name": "LV",
           "orientation": "v",
           "showlegend": true,
           "type": "scatter",
           "x": [
            41.35,
            40.17,
            37.58,
            37.54,
            37.38,
            37.23,
            37.18,
            37.64,
            36.38,
            37.08,
            37.17
           ],
           "xaxis": "x",
           "y": [
            32.8,
            29.59,
            21.9,
            10.49,
            32.34,
            26.43,
            33.91,
            18.86,
            29.52,
            27.91,
            31.05
           ],
           "yaxis": "y"
          },
          {
           "hovertemplate": "club=LAC<br>frameId=32<br>x=%{x}<br>y=%{y}<extra></extra>",
           "legendgroup": "LAC",
           "marker": {
            "color": "Black",
            "symbol": "circle"
           },
           "mode": "markers",
           "name": "LAC",
           "orientation": "v",
           "showlegend": true,
           "type": "scatter",
           "x": [
            33.04,
            34.85,
            35,
            29.81,
            26.97,
            35.13,
            23.01,
            30.03,
            30.25,
            32.36,
            35.26
           ],
           "xaxis": "x",
           "y": [
            20.32,
            23.41,
            27.57,
            36.83,
            34.14,
            30.89,
            23.79,
            25.51,
            31.22,
            12.07,
            35.87
           ],
           "yaxis": "y"
          },
          {
           "hovertemplate": "club=football<br>frameId=32<br>x=%{x}<br>y=%{y}<extra></extra>",
           "legendgroup": "football",
           "marker": {
            "color": "Grey",
            "symbol": "circle"
           },
           "mode": "markers",
           "name": "football",
           "orientation": "v",
           "showlegend": true,
           "type": "scatter",
           "x": [
            36.0200004577637
           ],
           "xaxis": "x",
           "y": [
            29.6900005340576
           ],
           "yaxis": "y"
          }
         ],
         "name": "32"
        },
        {
         "data": [
          {
           "hovertemplate": "club=LV<br>frameId=33<br>x=%{x}<br>y=%{y}<extra></extra>",
           "legendgroup": "LV",
           "marker": {
            "color": "Red",
            "symbol": "circle"
           },
           "mode": "markers",
           "name": "LV",
           "orientation": "v",
           "showlegend": true,
           "type": "scatter",
           "x": [
            41.34,
            40.27,
            37.59,
            37.45,
            37.39,
            37.23,
            37.17,
            37.65,
            36.36,
            37.09,
            37.17
           ],
           "xaxis": "x",
           "y": [
            32.77,
            29.58,
            21.89,
            10.29,
            32.36,
            26.44,
            33.91,
            18.83,
            29.53,
            27.91,
            31.05
           ],
           "yaxis": "y"
          },
          {
           "hovertemplate": "club=LAC<br>frameId=33<br>x=%{x}<br>y=%{y}<extra></extra>",
           "legendgroup": "LAC",
           "marker": {
            "color": "Black",
            "symbol": "circle"
           },
           "mode": "markers",
           "name": "LAC",
           "orientation": "v",
           "showlegend": true,
           "type": "scatter",
           "x": [
            33.12,
            34.86,
            35.02,
            29.85,
            26.92,
            35.16,
            22.9,
            30.05,
            30.27,
            32.37,
            35.21
           ],
           "xaxis": "x",
           "y": [
            20.19,
            23.38,
            27.58,
            36.91,
            34.14,
            30.85,
            23.7,
            25.44,
            31.2,
            11.84,
            35.9
           ],
           "yaxis": "y"
          },
          {
           "hovertemplate": "club=football<br>frameId=33<br>x=%{x}<br>y=%{y}<extra></extra>",
           "legendgroup": "football",
           "marker": {
            "color": "Grey",
            "symbol": "circle"
           },
           "mode": "markers",
           "name": "football",
           "orientation": "v",
           "showlegend": true,
           "type": "scatter",
           "x": [
            36.0200004577637
           ],
           "xaxis": "x",
           "y": [
            29.6900005340576
           ],
           "yaxis": "y"
          }
         ],
         "name": "33"
        },
        {
         "data": [
          {
           "hovertemplate": "club=LV<br>frameId=34<br>x=%{x}<br>y=%{y}<extra></extra>",
           "legendgroup": "LV",
           "marker": {
            "color": "Red",
            "symbol": "circle"
           },
           "mode": "markers",
           "name": "LV",
           "orientation": "v",
           "showlegend": true,
           "type": "scatter",
           "x": [
            41.33,
            40.37,
            37.61,
            37.36,
            37.4,
            37.22,
            37.16,
            37.65,
            36.33,
            37.08,
            37.16
           ],
           "xaxis": "x",
           "y": [
            32.73,
            29.58,
            21.88,
            10.12,
            32.39,
            26.44,
            33.92,
            18.8,
            29.56,
            27.95,
            31.05
           ],
           "yaxis": "y"
          },
          {
           "hovertemplate": "club=LAC<br>frameId=34<br>x=%{x}<br>y=%{y}<extra></extra>",
           "legendgroup": "LAC",
           "marker": {
            "color": "Black",
            "symbol": "circle"
           },
           "mode": "markers",
           "name": "LAC",
           "orientation": "v",
           "showlegend": true,
           "type": "scatter",
           "x": [
            33.19,
            34.86,
            35.04,
            29.91,
            26.86,
            35.18,
            22.79,
            30.08,
            30.29,
            32.4,
            35.17
           ],
           "xaxis": "x",
           "y": [
            20.07,
            23.35,
            27.59,
            37,
            34.15,
            30.81,
            23.61,
            25.38,
            31.19,
            11.61,
            35.93
           ],
           "yaxis": "y"
          },
          {
           "hovertemplate": "club=football<br>frameId=34<br>x=%{x}<br>y=%{y}<extra></extra>",
           "legendgroup": "football",
           "marker": {
            "color": "Grey",
            "symbol": "circle"
           },
           "mode": "markers",
           "name": "football",
           "orientation": "v",
           "showlegend": true,
           "type": "scatter",
           "x": [
            36.0200004577637
           ],
           "xaxis": "x",
           "y": [
            29.6900005340576
           ],
           "yaxis": "y"
          }
         ],
         "name": "34"
        },
        {
         "data": [
          {
           "hovertemplate": "club=LV<br>frameId=35<br>x=%{x}<br>y=%{y}<extra></extra>",
           "legendgroup": "LV",
           "marker": {
            "color": "Red",
            "symbol": "circle"
           },
           "mode": "markers",
           "name": "LV",
           "orientation": "v",
           "showlegend": true,
           "type": "scatter",
           "x": [
            41.31,
            40.47,
            37.63,
            37.28,
            37.4,
            37.22,
            37.14,
            37.64,
            36.33,
            37.08,
            37.17
           ],
           "xaxis": "x",
           "y": [
            32.69,
            29.57,
            21.88,
            9.97,
            32.43,
            26.44,
            33.93,
            18.77,
            29.56,
            27.94,
            31.04
           ],
           "yaxis": "y"
          },
          {
           "hovertemplate": "club=LAC<br>frameId=35<br>x=%{x}<br>y=%{y}<extra></extra>",
           "legendgroup": "LAC",
           "marker": {
            "color": "Black",
            "symbol": "circle"
           },
           "mode": "markers",
           "name": "LAC",
           "orientation": "v",
           "showlegend": true,
           "type": "scatter",
           "x": [
            33.26,
            34.87,
            35.08,
            29.99,
            26.81,
            35.19,
            22.67,
            30.11,
            30.32,
            32.44,
            35.13
           ],
           "xaxis": "x",
           "y": [
            19.94,
            23.33,
            27.6,
            37.07,
            34.15,
            30.77,
            23.53,
            25.32,
            31.18,
            11.4,
            35.95
           ],
           "yaxis": "y"
          },
          {
           "hovertemplate": "club=football<br>frameId=35<br>x=%{x}<br>y=%{y}<extra></extra>",
           "legendgroup": "football",
           "marker": {
            "color": "Grey",
            "symbol": "circle"
           },
           "mode": "markers",
           "name": "football",
           "orientation": "v",
           "showlegend": true,
           "type": "scatter",
           "x": [
            36.0200004577637
           ],
           "xaxis": "x",
           "y": [
            29.6900005340576
           ],
           "yaxis": "y"
          }
         ],
         "name": "35"
        },
        {
         "data": [
          {
           "hovertemplate": "club=LV<br>frameId=36<br>x=%{x}<br>y=%{y}<extra></extra>",
           "legendgroup": "LV",
           "marker": {
            "color": "Red",
            "symbol": "circle"
           },
           "mode": "markers",
           "name": "LV",
           "orientation": "v",
           "showlegend": true,
           "type": "scatter",
           "x": [
            41.3,
            40.55,
            37.65,
            37.2,
            37.41,
            37.23,
            37.13,
            37.63,
            36.32,
            37.07,
            37.17
           ],
           "xaxis": "x",
           "y": [
            32.67,
            29.56,
            21.87,
            9.85,
            32.45,
            26.44,
            33.96,
            18.75,
            29.58,
            27.93,
            31.05
           ],
           "yaxis": "y"
          },
          {
           "hovertemplate": "club=LAC<br>frameId=36<br>x=%{x}<br>y=%{y}<extra></extra>",
           "legendgroup": "LAC",
           "marker": {
            "color": "Black",
            "symbol": "circle"
           },
           "mode": "markers",
           "name": "LAC",
           "orientation": "v",
           "showlegend": true,
           "type": "scatter",
           "x": [
            33.32,
            34.88,
            35.12,
            30.08,
            26.76,
            35.18,
            22.55,
            30.14,
            30.36,
            32.49,
            35.1
           ],
           "xaxis": "x",
           "y": [
            19.82,
            23.31,
            27.6,
            37.14,
            34.17,
            30.77,
            23.45,
            25.26,
            31.17,
            11.2,
            35.98
           ],
           "yaxis": "y"
          },
          {
           "hovertemplate": "club=football<br>frameId=36<br>x=%{x}<br>y=%{y}<extra></extra>",
           "legendgroup": "football",
           "marker": {
            "color": "Grey",
            "symbol": "circle"
           },
           "mode": "markers",
           "name": "football",
           "orientation": "v",
           "showlegend": true,
           "type": "scatter",
           "x": [
            36.0200004577637
           ],
           "xaxis": "x",
           "y": [
            29.6900005340576
           ],
           "yaxis": "y"
          }
         ],
         "name": "36"
        },
        {
         "data": [
          {
           "hovertemplate": "club=LV<br>frameId=37<br>x=%{x}<br>y=%{y}<extra></extra>",
           "legendgroup": "LV",
           "marker": {
            "color": "Red",
            "symbol": "circle"
           },
           "mode": "markers",
           "name": "LV",
           "orientation": "v",
           "showlegend": true,
           "type": "scatter",
           "x": [
            41.28,
            40.63,
            37.66,
            37.13,
            37.4,
            37.23,
            37.12,
            37.62,
            36.31,
            37.07,
            37.16
           ],
           "xaxis": "x",
           "y": [
            32.65,
            29.55,
            21.85,
            9.76,
            32.46,
            26.44,
            33.98,
            18.73,
            29.59,
            27.95,
            31.06
           ],
           "yaxis": "y"
          },
          {
           "hovertemplate": "club=LAC<br>frameId=37<br>x=%{x}<br>y=%{y}<extra></extra>",
           "legendgroup": "LAC",
           "marker": {
            "color": "Black",
            "symbol": "circle"
           },
           "mode": "markers",
           "name": "LAC",
           "orientation": "v",
           "showlegend": true,
           "type": "scatter",
           "x": [
            33.38,
            34.88,
            35.16,
            30.19,
            26.72,
            35.17,
            22.43,
            30.17,
            30.42,
            32.55,
            35.09
           ],
           "xaxis": "x",
           "y": [
            19.71,
            23.3,
            27.6,
            37.21,
            34.2,
            30.76,
            23.38,
            25.21,
            31.15,
            11.02,
            35.99
           ],
           "yaxis": "y"
          },
          {
           "hovertemplate": "club=football<br>frameId=37<br>x=%{x}<br>y=%{y}<extra></extra>",
           "legendgroup": "football",
           "marker": {
            "color": "Grey",
            "symbol": "circle"
           },
           "mode": "markers",
           "name": "football",
           "orientation": "v",
           "showlegend": true,
           "type": "scatter",
           "x": [
            36.0200004577637
           ],
           "xaxis": "x",
           "y": [
            29.6900005340576
           ],
           "yaxis": "y"
          }
         ],
         "name": "37"
        },
        {
         "data": [
          {
           "hovertemplate": "club=LV<br>frameId=38<br>x=%{x}<br>y=%{y}<extra></extra>",
           "legendgroup": "LV",
           "marker": {
            "color": "Red",
            "symbol": "circle"
           },
           "mode": "markers",
           "name": "LV",
           "orientation": "v",
           "showlegend": true,
           "type": "scatter",
           "x": [
            41.26,
            40.7,
            37.67,
            37.05,
            37.38,
            37.22,
            37.11,
            37.62,
            36.3,
            37.06,
            37.16
           ],
           "xaxis": "x",
           "y": [
            32.65,
            29.54,
            21.84,
            9.69,
            32.45,
            26.44,
            34,
            18.72,
            29.59,
            27.96,
            31.07
           ],
           "yaxis": "y"
          },
          {
           "hovertemplate": "club=LAC<br>frameId=38<br>x=%{x}<br>y=%{y}<extra></extra>",
           "legendgroup": "LAC",
           "marker": {
            "color": "Black",
            "symbol": "circle"
           },
           "mode": "markers",
           "name": "LAC",
           "orientation": "v",
           "showlegend": true,
           "type": "scatter",
           "x": [
            33.43,
            34.89,
            35.2,
            30.31,
            26.68,
            35.15,
            22.32,
            30.2,
            30.47,
            32.62,
            35.1
           ],
           "xaxis": "x",
           "y": [
            19.59,
            23.29,
            27.6,
            37.28,
            34.23,
            30.76,
            23.32,
            25.17,
            31.14,
            10.86,
            36
           ],
           "yaxis": "y"
          },
          {
           "hovertemplate": "club=football<br>frameId=38<br>x=%{x}<br>y=%{y}<extra></extra>",
           "legendgroup": "football",
           "marker": {
            "color": "Grey",
            "symbol": "circle"
           },
           "mode": "markers",
           "name": "football",
           "orientation": "v",
           "showlegend": true,
           "type": "scatter",
           "x": [
            36.0200004577637
           ],
           "xaxis": "x",
           "y": [
            29.6900005340576
           ],
           "yaxis": "y"
          }
         ],
         "name": "38"
        },
        {
         "data": [
          {
           "hovertemplate": "club=LV<br>frameId=39<br>x=%{x}<br>y=%{y}<extra></extra>",
           "legendgroup": "LV",
           "marker": {
            "color": "Red",
            "symbol": "circle"
           },
           "mode": "markers",
           "name": "LV",
           "orientation": "v",
           "showlegend": true,
           "type": "scatter",
           "x": [
            41.23,
            40.75,
            37.67,
            36.99,
            37.36,
            37.22,
            37.1,
            37.62,
            36.29,
            37.05,
            37.16
           ],
           "xaxis": "x",
           "y": [
            32.66,
            29.53,
            21.83,
            9.65,
            32.47,
            26.44,
            34.01,
            18.7,
            29.61,
            27.95,
            31.06
           ],
           "yaxis": "y"
          },
          {
           "hovertemplate": "club=LAC<br>frameId=39<br>x=%{x}<br>y=%{y}<extra></extra>",
           "legendgroup": "LAC",
           "marker": {
            "color": "Black",
            "symbol": "circle"
           },
           "mode": "markers",
           "name": "LAC",
           "orientation": "v",
           "showlegend": true,
           "type": "scatter",
           "x": [
            33.48,
            34.9,
            35.26,
            30.43,
            26.64,
            35.13,
            22.2,
            30.24,
            30.52,
            32.71,
            35.13
           ],
           "xaxis": "x",
           "y": [
            19.47,
            23.28,
            27.62,
            37.34,
            34.26,
            30.77,
            23.26,
            25.12,
            31.14,
            10.7,
            35.99
           ],
           "yaxis": "y"
          },
          {
           "hovertemplate": "club=football<br>frameId=39<br>x=%{x}<br>y=%{y}<extra></extra>",
           "legendgroup": "football",
           "marker": {
            "color": "Grey",
            "symbol": "circle"
           },
           "mode": "markers",
           "name": "football",
           "orientation": "v",
           "showlegend": true,
           "type": "scatter",
           "x": [
            36.0200004577637
           ],
           "xaxis": "x",
           "y": [
            29.6900005340576
           ],
           "yaxis": "y"
          }
         ],
         "name": "39"
        },
        {
         "data": [
          {
           "hovertemplate": "club=LV<br>frameId=40<br>x=%{x}<br>y=%{y}<extra></extra>",
           "legendgroup": "LV",
           "marker": {
            "color": "Red",
            "symbol": "circle"
           },
           "mode": "markers",
           "name": "LV",
           "orientation": "v",
           "showlegend": true,
           "type": "scatter",
           "x": [
            41.21,
            40.8,
            37.67,
            36.93,
            37.34,
            37.22,
            37.05,
            37.62,
            36.27,
            37.04,
            37.16
           ],
           "xaxis": "x",
           "y": [
            32.67,
            29.52,
            21.82,
            9.62,
            32.46,
            26.44,
            34.08,
            18.69,
            29.62,
            27.95,
            31.06
           ],
           "yaxis": "y"
          },
          {
           "hovertemplate": "club=LAC<br>frameId=40<br>x=%{x}<br>y=%{y}<extra></extra>",
           "legendgroup": "LAC",
           "marker": {
            "color": "Black",
            "symbol": "circle"
           },
           "mode": "markers",
           "name": "LAC",
           "orientation": "v",
           "showlegend": true,
           "type": "scatter",
           "x": [
            33.52,
            34.91,
            35.32,
            30.55,
            26.61,
            35.1,
            22.09,
            30.27,
            30.57,
            32.8,
            35.18
           ],
           "xaxis": "x",
           "y": [
            19.35,
            23.28,
            27.61,
            37.41,
            34.28,
            30.79,
            23.21,
            25.08,
            31.12,
            10.57,
            35.98
           ],
           "yaxis": "y"
          },
          {
           "hovertemplate": "club=football<br>frameId=40<br>x=%{x}<br>y=%{y}<extra></extra>",
           "legendgroup": "football",
           "marker": {
            "color": "Grey",
            "symbol": "circle"
           },
           "mode": "markers",
           "name": "football",
           "orientation": "v",
           "showlegend": true,
           "type": "scatter",
           "x": [
            36.0200004577637
           ],
           "xaxis": "x",
           "y": [
            29.6900005340576
           ],
           "yaxis": "y"
          }
         ],
         "name": "40"
        },
        {
         "data": [
          {
           "hovertemplate": "club=LV<br>frameId=41<br>x=%{x}<br>y=%{y}<extra></extra>",
           "legendgroup": "LV",
           "marker": {
            "color": "Red",
            "symbol": "circle"
           },
           "mode": "markers",
           "name": "LV",
           "orientation": "v",
           "showlegend": true,
           "type": "scatter",
           "x": [
            41.19,
            40.83,
            37.67,
            36.87,
            37.33,
            37.22,
            37.02,
            37.62,
            36.26,
            37.04,
            37.15
           ],
           "xaxis": "x",
           "y": [
            32.69,
            29.52,
            21.81,
            9.6,
            32.45,
            26.44,
            34.11,
            18.67,
            29.64,
            27.95,
            31.06
           ],
           "yaxis": "y"
          },
          {
           "hovertemplate": "club=LAC<br>frameId=41<br>x=%{x}<br>y=%{y}<extra></extra>",
           "legendgroup": "LAC",
           "marker": {
            "color": "Black",
            "symbol": "circle"
           },
           "mode": "markers",
           "name": "LAC",
           "orientation": "v",
           "showlegend": true,
           "type": "scatter",
           "x": [
            33.56,
            34.92,
            35.36,
            30.67,
            26.58,
            35.07,
            21.98,
            30.3,
            30.63,
            32.89,
            35.23
           ],
           "xaxis": "x",
           "y": [
            19.24,
            23.28,
            27.59,
            37.47,
            34.31,
            30.79,
            23.18,
            25.05,
            31.09,
            10.44,
            35.97
           ],
           "yaxis": "y"
          },
          {
           "hovertemplate": "club=football<br>frameId=41<br>x=%{x}<br>y=%{y}<extra></extra>",
           "legendgroup": "football",
           "marker": {
            "color": "Grey",
            "symbol": "circle"
           },
           "mode": "markers",
           "name": "football",
           "orientation": "v",
           "showlegend": true,
           "type": "scatter",
           "x": [
            36.0099983215332
           ],
           "xaxis": "x",
           "y": [
            29.6900005340576
           ],
           "yaxis": "y"
          }
         ],
         "name": "41"
        },
        {
         "data": [
          {
           "hovertemplate": "club=LV<br>frameId=42<br>x=%{x}<br>y=%{y}<extra></extra>",
           "legendgroup": "LV",
           "marker": {
            "color": "Red",
            "symbol": "circle"
           },
           "mode": "markers",
           "name": "LV",
           "orientation": "v",
           "showlegend": true,
           "type": "scatter",
           "x": [
            41.17,
            40.85,
            37.66,
            36.83,
            37.3,
            37.22,
            37,
            37.63,
            36.24,
            37.04,
            37.15
           ],
           "xaxis": "x",
           "y": [
            32.7,
            29.52,
            21.8,
            9.59,
            32.48,
            26.43,
            34.14,
            18.66,
            29.66,
            27.97,
            31.07
           ],
           "yaxis": "y"
          },
          {
           "hovertemplate": "club=LAC<br>frameId=42<br>x=%{x}<br>y=%{y}<extra></extra>",
           "legendgroup": "LAC",
           "marker": {
            "color": "Black",
            "symbol": "circle"
           },
           "mode": "markers",
           "name": "LAC",
           "orientation": "v",
           "showlegend": true,
           "type": "scatter",
           "x": [
            33.59,
            34.93,
            35.39,
            30.78,
            26.54,
            35.05,
            21.86,
            30.33,
            30.69,
            32.98,
            35.29
           ],
           "xaxis": "x",
           "y": [
            19.13,
            23.29,
            27.59,
            37.54,
            34.33,
            30.81,
            23.16,
            25.03,
            31.06,
            10.33,
            35.95
           ],
           "yaxis": "y"
          },
          {
           "hovertemplate": "club=football<br>frameId=42<br>x=%{x}<br>y=%{y}<extra></extra>",
           "legendgroup": "football",
           "marker": {
            "color": "Grey",
            "symbol": "circle"
           },
           "mode": "markers",
           "name": "football",
           "orientation": "v",
           "showlegend": true,
           "type": "scatter",
           "x": [
            36.0099983215332
           ],
           "xaxis": "x",
           "y": [
            29.6900005340576
           ],
           "yaxis": "y"
          }
         ],
         "name": "42"
        },
        {
         "data": [
          {
           "hovertemplate": "club=LV<br>frameId=43<br>x=%{x}<br>y=%{y}<extra></extra>",
           "legendgroup": "LV",
           "marker": {
            "color": "Red",
            "symbol": "circle"
           },
           "mode": "markers",
           "name": "LV",
           "orientation": "v",
           "showlegend": true,
           "type": "scatter",
           "x": [
            41.16,
            40.86,
            37.66,
            36.79,
            37.29,
            37.22,
            37,
            37.63,
            36.22,
            37.04,
            37.14
           ],
           "xaxis": "x",
           "y": [
            32.72,
            29.53,
            21.79,
            9.58,
            32.49,
            26.43,
            34.13,
            18.65,
            29.68,
            27.98,
            31.08
           ],
           "yaxis": "y"
          },
          {
           "hovertemplate": "club=LAC<br>frameId=43<br>x=%{x}<br>y=%{y}<extra></extra>",
           "legendgroup": "LAC",
           "marker": {
            "color": "Black",
            "symbol": "circle"
           },
           "mode": "markers",
           "name": "LAC",
           "orientation": "v",
           "showlegend": true,
           "type": "scatter",
           "x": [
            33.62,
            34.98,
            35.41,
            30.9,
            26.49,
            35.02,
            21.76,
            30.36,
            30.75,
            33.07,
            35.35
           ],
           "xaxis": "x",
           "y": [
            19.03,
            23.3,
            27.56,
            37.61,
            34.34,
            30.84,
            23.15,
            25.01,
            31.01,
            10.23,
            35.92
           ],
           "yaxis": "y"
          },
          {
           "hovertemplate": "club=football<br>frameId=43<br>x=%{x}<br>y=%{y}<extra></extra>",
           "legendgroup": "football",
           "marker": {
            "color": "Grey",
            "symbol": "circle"
           },
           "mode": "markers",
           "name": "football",
           "orientation": "v",
           "showlegend": true,
           "type": "scatter",
           "x": [
            36.0099983215332
           ],
           "xaxis": "x",
           "y": [
            29.6900005340576
           ],
           "yaxis": "y"
          }
         ],
         "name": "43"
        },
        {
         "data": [
          {
           "hovertemplate": "club=LV<br>frameId=44<br>x=%{x}<br>y=%{y}<extra></extra>",
           "legendgroup": "LV",
           "marker": {
            "color": "Red",
            "symbol": "circle"
           },
           "mode": "markers",
           "name": "LV",
           "orientation": "v",
           "showlegend": true,
           "type": "scatter",
           "x": [
            41.15,
            40.86,
            37.65,
            36.76,
            37.28,
            37.22,
            37,
            37.63,
            36.21,
            37.05,
            37.14
           ],
           "xaxis": "x",
           "y": [
            32.72,
            29.54,
            21.79,
            9.58,
            32.51,
            26.43,
            34.11,
            18.65,
            29.7,
            27.99,
            31.09
           ],
           "yaxis": "y"
          },
          {
           "hovertemplate": "club=LAC<br>frameId=44<br>x=%{x}<br>y=%{y}<extra></extra>",
           "legendgroup": "LAC",
           "marker": {
            "color": "Black",
            "symbol": "circle"
           },
           "mode": "markers",
           "name": "LAC",
           "orientation": "v",
           "showlegend": true,
           "type": "scatter",
           "x": [
            33.64,
            35.03,
            35.39,
            31.01,
            26.45,
            35.01,
            21.66,
            30.39,
            30.8,
            33.16,
            35.41
           ],
           "xaxis": "x",
           "y": [
            18.92,
            23.3,
            27.54,
            37.67,
            34.34,
            30.85,
            23.14,
            25.01,
            30.97,
            10.14,
            35.88
           ],
           "yaxis": "y"
          },
          {
           "hovertemplate": "club=football<br>frameId=44<br>x=%{x}<br>y=%{y}<extra></extra>",
           "legendgroup": "football",
           "marker": {
            "color": "Grey",
            "symbol": "circle"
           },
           "mode": "markers",
           "name": "football",
           "orientation": "v",
           "showlegend": true,
           "type": "scatter",
           "x": [
            36.0099983215332
           ],
           "xaxis": "x",
           "y": [
            29.6900005340576
           ],
           "yaxis": "y"
          }
         ],
         "name": "44"
        },
        {
         "data": [
          {
           "hovertemplate": "club=LV<br>frameId=45<br>x=%{x}<br>y=%{y}<extra></extra>",
           "legendgroup": "LV",
           "marker": {
            "color": "Red",
            "symbol": "circle"
           },
           "mode": "markers",
           "name": "LV",
           "orientation": "v",
           "showlegend": true,
           "type": "scatter",
           "x": [
            41.14,
            40.86,
            37.66,
            36.75,
            37.27,
            37.22,
            37.01,
            37.64,
            36.19,
            37.05,
            37.14
           ],
           "xaxis": "x",
           "y": [
            32.74,
            29.55,
            21.79,
            9.57,
            32.52,
            26.43,
            34.1,
            18.64,
            29.72,
            27.99,
            31.09
           ],
           "yaxis": "y"
          },
          {
           "hovertemplate": "club=LAC<br>frameId=45<br>x=%{x}<br>y=%{y}<extra></extra>",
           "legendgroup": "LAC",
           "marker": {
            "color": "Black",
            "symbol": "circle"
           },
           "mode": "markers",
           "name": "LAC",
           "orientation": "v",
           "showlegend": true,
           "type": "scatter",
           "x": [
            33.67,
            35.08,
            35.4,
            31.11,
            26.4,
            35,
            21.56,
            30.4,
            30.85,
            33.24,
            35.46
           ],
           "xaxis": "x",
           "y": [
            18.82,
            23.31,
            27.54,
            37.73,
            34.34,
            30.86,
            23.15,
            25.02,
            30.93,
            10.05,
            35.84
           ],
           "yaxis": "y"
          },
          {
           "hovertemplate": "club=football<br>frameId=45<br>x=%{x}<br>y=%{y}<extra></extra>",
           "legendgroup": "football",
           "marker": {
            "color": "Grey",
            "symbol": "circle"
           },
           "mode": "markers",
           "name": "football",
           "orientation": "v",
           "showlegend": true,
           "type": "scatter",
           "x": [
            36.0099983215332
           ],
           "xaxis": "x",
           "y": [
            29.6900005340576
           ],
           "yaxis": "y"
          }
         ],
         "name": "45"
        },
        {
         "data": [
          {
           "hovertemplate": "club=LV<br>frameId=46<br>x=%{x}<br>y=%{y}<extra></extra>",
           "legendgroup": "LV",
           "marker": {
            "color": "Red",
            "symbol": "circle"
           },
           "mode": "markers",
           "name": "LV",
           "orientation": "v",
           "showlegend": true,
           "type": "scatter",
           "x": [
            41.13,
            40.85,
            37.66,
            36.74,
            37.27,
            37.22,
            37.04,
            37.64,
            36.18,
            37.05,
            37.14
           ],
           "xaxis": "x",
           "y": [
            32.75,
            29.56,
            21.79,
            9.56,
            32.54,
            26.43,
            34.08,
            18.63,
            29.74,
            28,
            31.09
           ],
           "yaxis": "y"
          },
          {
           "hovertemplate": "club=LAC<br>frameId=46<br>x=%{x}<br>y=%{y}<extra></extra>",
           "legendgroup": "LAC",
           "marker": {
            "color": "Black",
            "symbol": "circle"
           },
           "mode": "markers",
           "name": "LAC",
           "orientation": "v",
           "showlegend": true,
           "type": "scatter",
           "x": [
            33.7,
            35.13,
            35.39,
            31.22,
            26.34,
            34.99,
            21.46,
            30.42,
            30.89,
            33.32,
            35.5
           ],
           "xaxis": "x",
           "y": [
            18.72,
            23.31,
            27.54,
            37.79,
            34.33,
            30.85,
            23.14,
            25.04,
            30.89,
            9.96,
            35.81
           ],
           "yaxis": "y"
          },
          {
           "hovertemplate": "club=football<br>frameId=46<br>x=%{x}<br>y=%{y}<extra></extra>",
           "legendgroup": "football",
           "marker": {
            "color": "Grey",
            "symbol": "circle"
           },
           "mode": "markers",
           "name": "football",
           "orientation": "v",
           "showlegend": true,
           "type": "scatter",
           "x": [
            36.0099983215332
           ],
           "xaxis": "x",
           "y": [
            29.6900005340576
           ],
           "yaxis": "y"
          }
         ],
         "name": "46"
        },
        {
         "data": [
          {
           "hovertemplate": "club=LV<br>frameId=47<br>x=%{x}<br>y=%{y}<extra></extra>",
           "legendgroup": "LV",
           "marker": {
            "color": "Red",
            "symbol": "circle"
           },
           "mode": "markers",
           "name": "LV",
           "orientation": "v",
           "showlegend": true,
           "type": "scatter",
           "x": [
            41.13,
            40.85,
            37.66,
            36.74,
            37.26,
            37.22,
            37.05,
            37.64,
            36.17,
            37.06,
            37.14
           ],
           "xaxis": "x",
           "y": [
            32.76,
            29.56,
            21.78,
            9.56,
            32.56,
            26.43,
            34.08,
            18.64,
            29.75,
            28.01,
            31.09
           ],
           "yaxis": "y"
          },
          {
           "hovertemplate": "club=LAC<br>frameId=47<br>x=%{x}<br>y=%{y}<extra></extra>",
           "legendgroup": "LAC",
           "marker": {
            "color": "Black",
            "symbol": "circle"
           },
           "mode": "markers",
           "name": "LAC",
           "orientation": "v",
           "showlegend": true,
           "type": "scatter",
           "x": [
            33.72,
            35.2,
            35.37,
            31.33,
            26.28,
            34.99,
            21.37,
            30.43,
            30.91,
            33.4,
            35.52
           ],
           "xaxis": "x",
           "y": [
            18.64,
            23.3,
            27.54,
            37.85,
            34.31,
            30.83,
            23.14,
            25.07,
            30.86,
            9.88,
            35.78
           ],
           "yaxis": "y"
          },
          {
           "hovertemplate": "club=football<br>frameId=47<br>x=%{x}<br>y=%{y}<extra></extra>",
           "legendgroup": "football",
           "marker": {
            "color": "Grey",
            "symbol": "circle"
           },
           "mode": "markers",
           "name": "football",
           "orientation": "v",
           "showlegend": true,
           "type": "scatter",
           "x": [
            36.0099983215332
           ],
           "xaxis": "x",
           "y": [
            29.6900005340576
           ],
           "yaxis": "y"
          }
         ],
         "name": "47"
        },
        {
         "data": [
          {
           "hovertemplate": "club=LV<br>frameId=48<br>x=%{x}<br>y=%{y}<extra></extra>",
           "legendgroup": "LV",
           "marker": {
            "color": "Red",
            "symbol": "circle"
           },
           "mode": "markers",
           "name": "LV",
           "orientation": "v",
           "showlegend": true,
           "type": "scatter",
           "x": [
            41.13,
            40.85,
            37.65,
            36.74,
            37.27,
            37.22,
            37.05,
            37.65,
            36.17,
            37.06,
            37.13
           ],
           "xaxis": "x",
           "y": [
            32.78,
            29.57,
            21.77,
            9.55,
            32.59,
            26.43,
            34.07,
            18.61,
            29.76,
            28.02,
            31.09
           ],
           "yaxis": "y"
          },
          {
           "hovertemplate": "club=LAC<br>frameId=48<br>x=%{x}<br>y=%{y}<extra></extra>",
           "legendgroup": "LAC",
           "marker": {
            "color": "Black",
            "symbol": "circle"
           },
           "mode": "markers",
           "name": "LAC",
           "orientation": "v",
           "showlegend": true,
           "type": "scatter",
           "x": [
            33.73,
            35.26,
            35.35,
            31.43,
            26.22,
            34.99,
            21.28,
            30.44,
            30.94,
            33.48,
            35.54
           ],
           "xaxis": "x",
           "y": [
            18.55,
            23.29,
            27.56,
            37.91,
            34.29,
            30.81,
            23.15,
            25.1,
            30.84,
            9.79,
            35.75
           ],
           "yaxis": "y"
          },
          {
           "hovertemplate": "club=football<br>frameId=48<br>x=%{x}<br>y=%{y}<extra></extra>",
           "legendgroup": "football",
           "marker": {
            "color": "Grey",
            "symbol": "circle"
           },
           "mode": "markers",
           "name": "football",
           "orientation": "v",
           "showlegend": true,
           "type": "scatter",
           "x": [
            36.0099983215332
           ],
           "xaxis": "x",
           "y": [
            29.6900005340576
           ],
           "yaxis": "y"
          }
         ],
         "name": "48"
        },
        {
         "data": [
          {
           "hovertemplate": "club=LV<br>frameId=49<br>x=%{x}<br>y=%{y}<extra></extra>",
           "legendgroup": "LV",
           "marker": {
            "color": "Red",
            "symbol": "circle"
           },
           "mode": "markers",
           "name": "LV",
           "orientation": "v",
           "showlegend": true,
           "type": "scatter",
           "x": [
            41.12,
            40.85,
            37.65,
            36.75,
            37.28,
            37.22,
            37.05,
            37.65,
            36.16,
            37.06,
            37.13
           ],
           "xaxis": "x",
           "y": [
            32.81,
            29.57,
            21.79,
            9.55,
            32.6,
            26.43,
            34.06,
            18.61,
            29.77,
            28.02,
            31.09
           ],
           "yaxis": "y"
          },
          {
           "hovertemplate": "club=LAC<br>frameId=49<br>x=%{x}<br>y=%{y}<extra></extra>",
           "legendgroup": "LAC",
           "marker": {
            "color": "Black",
            "symbol": "circle"
           },
           "mode": "markers",
           "name": "LAC",
           "orientation": "v",
           "showlegend": true,
           "type": "scatter",
           "x": [
            33.74,
            35.3,
            35.32,
            31.54,
            26.16,
            35,
            21.2,
            30.45,
            30.95,
            33.56,
            35.54
           ],
           "xaxis": "x",
           "y": [
            18.47,
            23.27,
            27.56,
            37.97,
            34.28,
            30.77,
            23.14,
            25.14,
            30.82,
            9.71,
            35.74
           ],
           "yaxis": "y"
          },
          {
           "hovertemplate": "club=football<br>frameId=49<br>x=%{x}<br>y=%{y}<extra></extra>",
           "legendgroup": "football",
           "marker": {
            "color": "Grey",
            "symbol": "circle"
           },
           "mode": "markers",
           "name": "football",
           "orientation": "v",
           "showlegend": true,
           "type": "scatter",
           "x": [
            36.0099983215332
           ],
           "xaxis": "x",
           "y": [
            29.7000007629395
           ],
           "yaxis": "y"
          }
         ],
         "name": "49"
        },
        {
         "data": [
          {
           "hovertemplate": "club=LV<br>frameId=50<br>x=%{x}<br>y=%{y}<extra></extra>",
           "legendgroup": "LV",
           "marker": {
            "color": "Red",
            "symbol": "circle"
           },
           "mode": "markers",
           "name": "LV",
           "orientation": "v",
           "showlegend": true,
           "type": "scatter",
           "x": [
            41.12,
            40.85,
            37.65,
            36.75,
            37.28,
            37.22,
            37.05,
            37.64,
            36.16,
            37.06,
            37.13
           ],
           "xaxis": "x",
           "y": [
            32.84,
            29.57,
            21.8,
            9.54,
            32.61,
            26.43,
            34.06,
            18.6,
            29.77,
            28.02,
            31.09
           ],
           "yaxis": "y"
          },
          {
           "hovertemplate": "club=LAC<br>frameId=50<br>x=%{x}<br>y=%{y}<extra></extra>",
           "legendgroup": "LAC",
           "marker": {
            "color": "Black",
            "symbol": "circle"
           },
           "mode": "markers",
           "name": "LAC",
           "orientation": "v",
           "showlegend": true,
           "type": "scatter",
           "x": [
            33.74,
            35.34,
            35.28,
            31.65,
            26.1,
            35.01,
            21.11,
            30.46,
            30.96,
            33.64,
            35.55
           ],
           "xaxis": "x",
           "y": [
            18.41,
            23.25,
            27.58,
            38.02,
            34.28,
            30.74,
            23.14,
            25.17,
            30.82,
            9.62,
            35.73
           ],
           "yaxis": "y"
          },
          {
           "hovertemplate": "club=football<br>frameId=50<br>x=%{x}<br>y=%{y}<extra></extra>",
           "legendgroup": "football",
           "marker": {
            "color": "Grey",
            "symbol": "circle"
           },
           "mode": "markers",
           "name": "football",
           "orientation": "v",
           "showlegend": true,
           "type": "scatter",
           "x": [
            36.0099983215332
           ],
           "xaxis": "x",
           "y": [
            29.7000007629395
           ],
           "yaxis": "y"
          }
         ],
         "name": "50"
        },
        {
         "data": [
          {
           "hovertemplate": "club=LV<br>frameId=51<br>x=%{x}<br>y=%{y}<extra></extra>",
           "legendgroup": "LV",
           "marker": {
            "color": "Red",
            "symbol": "circle"
           },
           "mode": "markers",
           "name": "LV",
           "orientation": "v",
           "showlegend": true,
           "type": "scatter",
           "x": [
            41.11,
            40.85,
            37.65,
            36.76,
            37.28,
            37.22,
            37.06,
            37.63,
            36.15,
            37.06,
            37.13
           ],
           "xaxis": "x",
           "y": [
            32.83,
            29.58,
            21.81,
            9.53,
            32.63,
            26.43,
            34.05,
            18.6,
            29.79,
            28.03,
            31.09
           ],
           "yaxis": "y"
          },
          {
           "hovertemplate": "club=LAC<br>frameId=51<br>x=%{x}<br>y=%{y}<extra></extra>",
           "legendgroup": "LAC",
           "marker": {
            "color": "Black",
            "symbol": "circle"
           },
           "mode": "markers",
           "name": "LAC",
           "orientation": "v",
           "showlegend": true,
           "type": "scatter",
           "x": [
            33.73,
            35.38,
            35.26,
            31.75,
            26.04,
            35.02,
            21.03,
            30.47,
            30.96,
            33.72,
            35.54
           ],
           "xaxis": "x",
           "y": [
            18.37,
            23.25,
            27.6,
            38.08,
            34.28,
            30.7,
            23.14,
            25.2,
            30.82,
            9.53,
            35.74
           ],
           "yaxis": "y"
          },
          {
           "hovertemplate": "club=football<br>frameId=51<br>x=%{x}<br>y=%{y}<extra></extra>",
           "legendgroup": "football",
           "marker": {
            "color": "Grey",
            "symbol": "circle"
           },
           "mode": "markers",
           "name": "football",
           "orientation": "v",
           "showlegend": true,
           "type": "scatter",
           "x": [
            36.0099983215332
           ],
           "xaxis": "x",
           "y": [
            29.7000007629395
           ],
           "yaxis": "y"
          }
         ],
         "name": "51"
        },
        {
         "data": [
          {
           "hovertemplate": "club=LV<br>frameId=52<br>x=%{x}<br>y=%{y}<extra></extra>",
           "legendgroup": "LV",
           "marker": {
            "color": "Red",
            "symbol": "circle"
           },
           "mode": "markers",
           "name": "LV",
           "orientation": "v",
           "showlegend": true,
           "type": "scatter",
           "x": [
            41.11,
            40.86,
            37.65,
            36.77,
            37.28,
            37.22,
            37.07,
            37.62,
            36.13,
            37.06,
            37.13
           ],
           "xaxis": "x",
           "y": [
            32.86,
            29.59,
            21.84,
            9.53,
            32.64,
            26.43,
            34.04,
            18.58,
            29.79,
            28.04,
            31.09
           ],
           "yaxis": "y"
          },
          {
           "hovertemplate": "club=LAC<br>frameId=52<br>x=%{x}<br>y=%{y}<extra></extra>",
           "legendgroup": "LAC",
           "marker": {
            "color": "Black",
            "symbol": "circle"
           },
           "mode": "markers",
           "name": "LAC",
           "orientation": "v",
           "showlegend": true,
           "type": "scatter",
           "x": [
            33.72,
            35.42,
            35.26,
            31.85,
            26,
            35.04,
            20.95,
            30.48,
            30.96,
            33.8,
            35.53
           ],
           "xaxis": "x",
           "y": [
            18.35,
            23.24,
            27.62,
            38.14,
            34.29,
            30.66,
            23.14,
            25.24,
            30.83,
            9.45,
            35.76
           ],
           "yaxis": "y"
          },
          {
           "hovertemplate": "club=football<br>frameId=52<br>x=%{x}<br>y=%{y}<extra></extra>",
           "legendgroup": "football",
           "marker": {
            "color": "Grey",
            "symbol": "circle"
           },
           "mode": "markers",
           "name": "football",
           "orientation": "v",
           "showlegend": true,
           "type": "scatter",
           "x": [
            36.0099983215332
           ],
           "xaxis": "x",
           "y": [
            29.7000007629395
           ],
           "yaxis": "y"
          }
         ],
         "name": "52"
        },
        {
         "data": [
          {
           "hovertemplate": "club=LV<br>frameId=53<br>x=%{x}<br>y=%{y}<extra></extra>",
           "legendgroup": "LV",
           "marker": {
            "color": "Red",
            "symbol": "circle"
           },
           "mode": "markers",
           "name": "LV",
           "orientation": "v",
           "showlegend": true,
           "type": "scatter",
           "x": [
            41.11,
            40.86,
            37.66,
            36.77,
            37.28,
            37.22,
            37.07,
            37.62,
            36.14,
            37.06,
            37.13
           ],
           "xaxis": "x",
           "y": [
            32.87,
            29.59,
            21.85,
            9.53,
            32.64,
            26.43,
            34.04,
            18.56,
            29.79,
            28.04,
            31.1
           ],
           "yaxis": "y"
          },
          {
           "hovertemplate": "club=LAC<br>frameId=53<br>x=%{x}<br>y=%{y}<extra></extra>",
           "legendgroup": "LAC",
           "marker": {
            "color": "Black",
            "symbol": "circle"
           },
           "mode": "markers",
           "name": "LAC",
           "orientation": "v",
           "showlegend": true,
           "type": "scatter",
           "x": [
            33.7,
            35.45,
            35.26,
            31.94,
            25.96,
            35.05,
            20.87,
            30.49,
            30.96,
            33.88,
            35.52
           ],
           "xaxis": "x",
           "y": [
            18.36,
            23.23,
            27.64,
            38.21,
            34.31,
            30.63,
            23.13,
            25.27,
            30.84,
            9.37,
            35.78
           ],
           "yaxis": "y"
          },
          {
           "hovertemplate": "club=football<br>frameId=53<br>x=%{x}<br>y=%{y}<extra></extra>",
           "legendgroup": "football",
           "marker": {
            "color": "Grey",
            "symbol": "circle"
           },
           "mode": "markers",
           "name": "football",
           "orientation": "v",
           "showlegend": true,
           "type": "scatter",
           "x": [
            36.0099983215332
           ],
           "xaxis": "x",
           "y": [
            29.7000007629395
           ],
           "yaxis": "y"
          }
         ],
         "name": "53"
        },
        {
         "data": [
          {
           "hovertemplate": "club=LV<br>frameId=54<br>x=%{x}<br>y=%{y}<extra></extra>",
           "legendgroup": "LV",
           "marker": {
            "color": "Red",
            "symbol": "circle"
           },
           "mode": "markers",
           "name": "LV",
           "orientation": "v",
           "showlegend": true,
           "type": "scatter",
           "x": [
            41.09,
            40.86,
            37.65,
            36.77,
            37.27,
            37.21,
            37.07,
            37.62,
            36.14,
            37.06,
            37.12
           ],
           "xaxis": "x",
           "y": [
            32.88,
            29.61,
            21.86,
            9.57,
            32.64,
            26.43,
            34.02,
            18.57,
            29.79,
            28.06,
            31.1
           ],
           "yaxis": "y"
          },
          {
           "hovertemplate": "club=LAC<br>frameId=54<br>x=%{x}<br>y=%{y}<extra></extra>",
           "legendgroup": "LAC",
           "marker": {
            "color": "Black",
            "symbol": "circle"
           },
           "mode": "markers",
           "name": "LAC",
           "orientation": "v",
           "showlegend": true,
           "type": "scatter",
           "x": [
            33.67,
            35.49,
            35.26,
            32.02,
            25.92,
            35.07,
            20.8,
            30.51,
            30.95,
            33.96,
            35.51
           ],
           "xaxis": "x",
           "y": [
            18.38,
            23.22,
            27.66,
            38.26,
            34.34,
            30.6,
            23.11,
            25.3,
            30.85,
            9.3,
            35.81
           ],
           "yaxis": "y"
          },
          {
           "hovertemplate": "club=football<br>frameId=54<br>x=%{x}<br>y=%{y}<extra></extra>",
           "legendgroup": "football",
           "marker": {
            "color": "Grey",
            "symbol": "circle"
           },
           "mode": "markers",
           "name": "football",
           "orientation": "v",
           "showlegend": true,
           "type": "scatter",
           "x": [
            36.0099983215332
           ],
           "xaxis": "x",
           "y": [
            29.7000007629395
           ],
           "yaxis": "y"
          }
         ],
         "name": "54"
        },
        {
         "data": [
          {
           "hovertemplate": "club=LV<br>frameId=55<br>x=%{x}<br>y=%{y}<extra></extra>",
           "legendgroup": "LV",
           "marker": {
            "color": "Red",
            "symbol": "circle"
           },
           "mode": "markers",
           "name": "LV",
           "orientation": "v",
           "showlegend": true,
           "type": "scatter",
           "x": [
            41.08,
            40.86,
            37.66,
            36.77,
            37.27,
            37.21,
            37.06,
            37.61,
            36.15,
            37.07,
            37.12
           ],
           "xaxis": "x",
           "y": [
            32.89,
            29.59,
            21.87,
            9.59,
            32.65,
            26.43,
            34.02,
            18.57,
            29.78,
            28.06,
            31.1
           ],
           "yaxis": "y"
          },
          {
           "hovertemplate": "club=LAC<br>frameId=55<br>x=%{x}<br>y=%{y}<extra></extra>",
           "legendgroup": "LAC",
           "marker": {
            "color": "Black",
            "symbol": "circle"
           },
           "mode": "markers",
           "name": "LAC",
           "orientation": "v",
           "showlegend": true,
           "type": "scatter",
           "x": [
            33.64,
            35.5,
            35.25,
            32.08,
            25.9,
            35.08,
            20.73,
            30.53,
            30.95,
            34.04,
            35.5
           ],
           "xaxis": "x",
           "y": [
            18.41,
            23.21,
            27.68,
            38.32,
            34.39,
            30.58,
            23.09,
            25.34,
            30.87,
            9.24,
            35.86
           ],
           "yaxis": "y"
          },
          {
           "hovertemplate": "club=football<br>frameId=55<br>x=%{x}<br>y=%{y}<extra></extra>",
           "legendgroup": "football",
           "marker": {
            "color": "Grey",
            "symbol": "circle"
           },
           "mode": "markers",
           "name": "football",
           "orientation": "v",
           "showlegend": true,
           "type": "scatter",
           "x": [
            36.0099983215332
           ],
           "xaxis": "x",
           "y": [
            29.7000007629395
           ],
           "yaxis": "y"
          }
         ],
         "name": "55"
        },
        {
         "data": [
          {
           "hovertemplate": "club=LV<br>frameId=56<br>x=%{x}<br>y=%{y}<extra></extra>",
           "legendgroup": "LV",
           "marker": {
            "color": "Red",
            "symbol": "circle"
           },
           "mode": "markers",
           "name": "LV",
           "orientation": "v",
           "showlegend": true,
           "type": "scatter",
           "x": [
            41.08,
            40.87,
            37.66,
            36.76,
            37.26,
            37.21,
            37.07,
            37.61,
            36.16,
            37.07,
            37.12
           ],
           "xaxis": "x",
           "y": [
            32.88,
            29.58,
            21.88,
            9.6,
            32.66,
            26.43,
            34.02,
            18.56,
            29.77,
            28.06,
            31.09
           ],
           "yaxis": "y"
          },
          {
           "hovertemplate": "club=LAC<br>frameId=56<br>x=%{x}<br>y=%{y}<extra></extra>",
           "legendgroup": "LAC",
           "marker": {
            "color": "Black",
            "symbol": "circle"
           },
           "mode": "markers",
           "name": "LAC",
           "orientation": "v",
           "showlegend": true,
           "type": "scatter",
           "x": [
            33.62,
            35.51,
            35.27,
            32.14,
            25.89,
            35.09,
            20.66,
            30.55,
            30.95,
            34.11,
            35.49
           ],
           "xaxis": "x",
           "y": [
            18.44,
            23.21,
            27.7,
            38.38,
            34.44,
            30.57,
            23.06,
            25.37,
            30.86,
            9.19,
            35.9
           ],
           "yaxis": "y"
          },
          {
           "hovertemplate": "club=football<br>frameId=56<br>x=%{x}<br>y=%{y}<extra></extra>",
           "legendgroup": "football",
           "marker": {
            "color": "Grey",
            "symbol": "circle"
           },
           "mode": "markers",
           "name": "football",
           "orientation": "v",
           "showlegend": true,
           "type": "scatter",
           "x": [
            36.0099983215332
           ],
           "xaxis": "x",
           "y": [
            29.7000007629395
           ],
           "yaxis": "y"
          }
         ],
         "name": "56"
        },
        {
         "data": [
          {
           "hovertemplate": "club=LV<br>frameId=57<br>x=%{x}<br>y=%{y}<extra></extra>",
           "legendgroup": "LV",
           "marker": {
            "color": "Red",
            "symbol": "circle"
           },
           "mode": "markers",
           "name": "LV",
           "orientation": "v",
           "showlegend": true,
           "type": "scatter",
           "x": [
            41.08,
            40.88,
            37.67,
            36.75,
            37.26,
            37.21,
            37.08,
            37.61,
            36.16,
            37.07,
            37.11
           ],
           "xaxis": "x",
           "y": [
            32.84,
            29.57,
            21.9,
            9.61,
            32.66,
            26.43,
            34.02,
            18.56,
            29.77,
            28.07,
            31.09
           ],
           "yaxis": "y"
          },
          {
           "hovertemplate": "club=LAC<br>frameId=57<br>x=%{x}<br>y=%{y}<extra></extra>",
           "legendgroup": "LAC",
           "marker": {
            "color": "Black",
            "symbol": "circle"
           },
           "mode": "markers",
           "name": "LAC",
           "orientation": "v",
           "showlegend": true,
           "type": "scatter",
           "x": [
            33.6,
            35.54,
            35.27,
            32.18,
            25.88,
            35.1,
            20.6,
            30.57,
            30.96,
            34.18,
            35.48
           ],
           "xaxis": "x",
           "y": [
            18.47,
            23.21,
            27.71,
            38.43,
            34.49,
            30.56,
            23.03,
            25.4,
            30.87,
            9.16,
            35.94
           ],
           "yaxis": "y"
          },
          {
           "hovertemplate": "club=football<br>frameId=57<br>x=%{x}<br>y=%{y}<extra></extra>",
           "legendgroup": "football",
           "marker": {
            "color": "Grey",
            "symbol": "circle"
           },
           "mode": "markers",
           "name": "football",
           "orientation": "v",
           "showlegend": true,
           "type": "scatter",
           "x": [
            36.0099983215332
           ],
           "xaxis": "x",
           "y": [
            29.7000007629395
           ],
           "yaxis": "y"
          }
         ],
         "name": "57"
        },
        {
         "data": [
          {
           "hovertemplate": "club=LV<br>frameId=58<br>x=%{x}<br>y=%{y}<extra></extra>",
           "legendgroup": "LV",
           "marker": {
            "color": "Red",
            "symbol": "circle"
           },
           "mode": "markers",
           "name": "LV",
           "orientation": "v",
           "showlegend": true,
           "type": "scatter",
           "x": [
            41.08,
            40.89,
            37.69,
            36.74,
            37.26,
            37.21,
            37.09,
            37.61,
            36.15,
            37.07,
            37.11
           ],
           "xaxis": "x",
           "y": [
            32.86,
            29.56,
            21.91,
            9.62,
            32.65,
            26.43,
            34.02,
            18.56,
            29.77,
            28.07,
            31.09
           ],
           "yaxis": "y"
          },
          {
           "hovertemplate": "club=LAC<br>frameId=58<br>x=%{x}<br>y=%{y}<extra></extra>",
           "legendgroup": "LAC",
           "marker": {
            "color": "Black",
            "symbol": "circle"
           },
           "mode": "markers",
           "name": "LAC",
           "orientation": "v",
           "showlegend": true,
           "type": "scatter",
           "x": [
            33.59,
            35.56,
            35.28,
            32.21,
            25.87,
            35.1,
            20.57,
            30.59,
            30.97,
            34.24,
            35.48
           ],
           "xaxis": "x",
           "y": [
            18.51,
            23.19,
            27.73,
            38.47,
            34.55,
            30.57,
            22.99,
            25.43,
            30.87,
            9.15,
            35.97
           ],
           "yaxis": "y"
          },
          {
           "hovertemplate": "club=football<br>frameId=58<br>x=%{x}<br>y=%{y}<extra></extra>",
           "legendgroup": "football",
           "marker": {
            "color": "Grey",
            "symbol": "circle"
           },
           "mode": "markers",
           "name": "football",
           "orientation": "v",
           "showlegend": true,
           "type": "scatter",
           "x": [
            36.0200004577637
           ],
           "xaxis": "x",
           "y": [
            29.7000007629395
           ],
           "yaxis": "y"
          }
         ],
         "name": "58"
        },
        {
         "data": [
          {
           "hovertemplate": "club=LV<br>frameId=59<br>x=%{x}<br>y=%{y}<extra></extra>",
           "legendgroup": "LV",
           "marker": {
            "color": "Red",
            "symbol": "circle"
           },
           "mode": "markers",
           "name": "LV",
           "orientation": "v",
           "showlegend": true,
           "type": "scatter",
           "x": [
            41.06,
            40.9,
            37.71,
            36.74,
            37.26,
            37.21,
            37.09,
            37.6,
            36.16,
            37.07,
            37.11
           ],
           "xaxis": "x",
           "y": [
            32.86,
            29.55,
            21.94,
            9.63,
            32.66,
            26.43,
            34.02,
            18.59,
            29.77,
            28.07,
            31.09
           ],
           "yaxis": "y"
          },
          {
           "hovertemplate": "club=LAC<br>frameId=59<br>x=%{x}<br>y=%{y}<extra></extra>",
           "legendgroup": "LAC",
           "marker": {
            "color": "Black",
            "symbol": "circle"
           },
           "mode": "markers",
           "name": "LAC",
           "orientation": "v",
           "showlegend": true,
           "type": "scatter",
           "x": [
            33.57,
            35.57,
            35.29,
            32.23,
            25.87,
            35.1,
            20.53,
            30.62,
            30.97,
            34.3,
            35.48
           ],
           "xaxis": "x",
           "y": [
            18.54,
            23.18,
            27.74,
            38.5,
            34.61,
            30.58,
            22.95,
            25.45,
            30.87,
            9.16,
            35.98
           ],
           "yaxis": "y"
          },
          {
           "hovertemplate": "club=football<br>frameId=59<br>x=%{x}<br>y=%{y}<extra></extra>",
           "legendgroup": "football",
           "marker": {
            "color": "Grey",
            "symbol": "circle"
           },
           "mode": "markers",
           "name": "football",
           "orientation": "v",
           "showlegend": true,
           "type": "scatter",
           "x": [
            36.0200004577637
           ],
           "xaxis": "x",
           "y": [
            29.7000007629395
           ],
           "yaxis": "y"
          }
         ],
         "name": "59"
        },
        {
         "data": [
          {
           "hovertemplate": "club=LV<br>frameId=60<br>x=%{x}<br>y=%{y}<extra></extra>",
           "legendgroup": "LV",
           "marker": {
            "color": "Red",
            "symbol": "circle"
           },
           "mode": "markers",
           "name": "LV",
           "orientation": "v",
           "showlegend": true,
           "type": "scatter",
           "x": [
            41.04,
            40.91,
            37.73,
            36.74,
            37.25,
            37.21,
            37.08,
            37.61,
            36.16,
            37.07,
            37.11
           ],
           "xaxis": "x",
           "y": [
            32.87,
            29.55,
            21.97,
            9.64,
            32.65,
            26.44,
            34.03,
            18.58,
            29.76,
            28.06,
            31.09
           ],
           "yaxis": "y"
          },
          {
           "hovertemplate": "club=LAC<br>frameId=60<br>x=%{x}<br>y=%{y}<extra></extra>",
           "legendgroup": "LAC",
           "marker": {
            "color": "Black",
            "symbol": "circle"
           },
           "mode": "markers",
           "name": "LAC",
           "orientation": "v",
           "showlegend": true,
           "type": "scatter",
           "x": [
            33.55,
            35.58,
            35.3,
            32.23,
            25.86,
            35.1,
            20.51,
            30.64,
            30.97,
            34.34,
            35.49
           ],
           "xaxis": "x",
           "y": [
            18.58,
            23.17,
            27.75,
            38.52,
            34.67,
            30.59,
            22.91,
            25.47,
            30.88,
            9.18,
            35.98
           ],
           "yaxis": "y"
          },
          {
           "hovertemplate": "club=football<br>frameId=60<br>x=%{x}<br>y=%{y}<extra></extra>",
           "legendgroup": "football",
           "marker": {
            "color": "Grey",
            "symbol": "circle"
           },
           "mode": "markers",
           "name": "football",
           "orientation": "v",
           "showlegend": true,
           "type": "scatter",
           "x": [
            36.0200004577637
           ],
           "xaxis": "x",
           "y": [
            29.7000007629395
           ],
           "yaxis": "y"
          }
         ],
         "name": "60"
        },
        {
         "data": [
          {
           "hovertemplate": "club=LV<br>frameId=61<br>x=%{x}<br>y=%{y}<extra></extra>",
           "legendgroup": "LV",
           "marker": {
            "color": "Red",
            "symbol": "circle"
           },
           "mode": "markers",
           "name": "LV",
           "orientation": "v",
           "showlegend": true,
           "type": "scatter",
           "x": [
            41.04,
            40.92,
            37.75,
            36.74,
            37.25,
            37.21,
            37.08,
            37.61,
            36.16,
            37.07,
            37.11
           ],
           "xaxis": "x",
           "y": [
            32.88,
            29.54,
            22.01,
            9.64,
            32.65,
            26.43,
            34.02,
            18.59,
            29.76,
            28.06,
            31.09
           ],
           "yaxis": "y"
          },
          {
           "hovertemplate": "club=LAC<br>frameId=61<br>x=%{x}<br>y=%{y}<extra></extra>",
           "legendgroup": "LAC",
           "marker": {
            "color": "Black",
            "symbol": "circle"
           },
           "mode": "markers",
           "name": "LAC",
           "orientation": "v",
           "showlegend": true,
           "type": "scatter",
           "x": [
            33.53,
            35.58,
            35.3,
            32.23,
            25.86,
            35.1,
            20.48,
            30.67,
            30.97,
            34.38,
            35.5
           ],
           "xaxis": "x",
           "y": [
            18.6,
            23.17,
            27.76,
            38.52,
            34.71,
            30.6,
            22.87,
            25.48,
            30.91,
            9.21,
            35.96
           ],
           "yaxis": "y"
          },
          {
           "hovertemplate": "club=football<br>frameId=61<br>x=%{x}<br>y=%{y}<extra></extra>",
           "legendgroup": "football",
           "marker": {
            "color": "Grey",
            "symbol": "circle"
           },
           "mode": "markers",
           "name": "football",
           "orientation": "v",
           "showlegend": true,
           "type": "scatter",
           "x": [
            36.0200004577637
           ],
           "xaxis": "x",
           "y": [
            29.7000007629395
           ],
           "yaxis": "y"
          }
         ],
         "name": "61"
        },
        {
         "data": [
          {
           "hovertemplate": "club=LV<br>frameId=62<br>x=%{x}<br>y=%{y}<extra></extra>",
           "legendgroup": "LV",
           "marker": {
            "color": "Red",
            "symbol": "circle"
           },
           "mode": "markers",
           "name": "LV",
           "orientation": "v",
           "showlegend": true,
           "type": "scatter",
           "x": [
            41.03,
            40.93,
            37.77,
            36.74,
            37.25,
            37.22,
            37.08,
            37.62,
            36.17,
            37.07,
            37.11
           ],
           "xaxis": "x",
           "y": [
            32.87,
            29.54,
            22.06,
            9.64,
            32.64,
            26.43,
            34,
            18.59,
            29.75,
            28.06,
            31.09
           ],
           "yaxis": "y"
          },
          {
           "hovertemplate": "club=LAC<br>frameId=62<br>x=%{x}<br>y=%{y}<extra></extra>",
           "legendgroup": "LAC",
           "marker": {
            "color": "Black",
            "symbol": "circle"
           },
           "mode": "markers",
           "name": "LAC",
           "orientation": "v",
           "showlegend": true,
           "type": "scatter",
           "x": [
            33.51,
            35.6,
            35.31,
            32.23,
            25.85,
            35.09,
            20.47,
            30.68,
            30.96,
            34.41,
            35.52
           ],
           "xaxis": "x",
           "y": [
            18.61,
            23.17,
            27.77,
            38.52,
            34.74,
            30.61,
            22.83,
            25.48,
            30.92,
            9.25,
            35.94
           ],
           "yaxis": "y"
          },
          {
           "hovertemplate": "club=football<br>frameId=62<br>x=%{x}<br>y=%{y}<extra></extra>",
           "legendgroup": "football",
           "marker": {
            "color": "Grey",
            "symbol": "circle"
           },
           "mode": "markers",
           "name": "football",
           "orientation": "v",
           "showlegend": true,
           "type": "scatter",
           "x": [
            36.0200004577637
           ],
           "xaxis": "x",
           "y": [
            29.7000007629395
           ],
           "yaxis": "y"
          }
         ],
         "name": "62"
        },
        {
         "data": [
          {
           "hovertemplate": "club=LV<br>frameId=63<br>x=%{x}<br>y=%{y}<extra></extra>",
           "legendgroup": "LV",
           "marker": {
            "color": "Red",
            "symbol": "circle"
           },
           "mode": "markers",
           "name": "LV",
           "orientation": "v",
           "showlegend": true,
           "type": "scatter",
           "x": [
            41.03,
            40.93,
            37.79,
            36.73,
            37.24,
            37.22,
            37.09,
            37.62,
            36.17,
            37.07,
            37.11
           ],
           "xaxis": "x",
           "y": [
            32.88,
            29.53,
            22.12,
            9.65,
            32.63,
            26.43,
            33.99,
            18.6,
            29.76,
            28.06,
            31.09
           ],
           "yaxis": "y"
          },
          {
           "hovertemplate": "club=LAC<br>frameId=63<br>x=%{x}<br>y=%{y}<extra></extra>",
           "legendgroup": "LAC",
           "marker": {
            "color": "Black",
            "symbol": "circle"
           },
           "mode": "markers",
           "name": "LAC",
           "orientation": "v",
           "showlegend": true,
           "type": "scatter",
           "x": [
            33.49,
            35.61,
            35.31,
            32.22,
            25.84,
            35.09,
            20.46,
            30.7,
            30.97,
            34.43,
            35.55
           ],
           "xaxis": "x",
           "y": [
            18.63,
            23.16,
            27.78,
            38.49,
            34.76,
            30.62,
            22.78,
            25.48,
            30.93,
            9.3,
            35.93
           ],
           "yaxis": "y"
          },
          {
           "hovertemplate": "club=football<br>frameId=63<br>x=%{x}<br>y=%{y}<extra></extra>",
           "legendgroup": "football",
           "marker": {
            "color": "Grey",
            "symbol": "circle"
           },
           "mode": "markers",
           "name": "football",
           "orientation": "v",
           "showlegend": true,
           "type": "scatter",
           "x": [
            36.0200004577637
           ],
           "xaxis": "x",
           "y": [
            29.7000007629395
           ],
           "yaxis": "y"
          }
         ],
         "name": "63"
        },
        {
         "data": [
          {
           "hovertemplate": "club=LV<br>frameId=64<br>x=%{x}<br>y=%{y}<extra></extra>",
           "legendgroup": "LV",
           "marker": {
            "color": "Red",
            "symbol": "circle"
           },
           "mode": "markers",
           "name": "LV",
           "orientation": "v",
           "showlegend": true,
           "type": "scatter",
           "x": [
            41.03,
            40.94,
            37.83,
            36.72,
            37.24,
            37.22,
            37.09,
            37.62,
            36.17,
            37.07,
            37.11
           ],
           "xaxis": "x",
           "y": [
            32.88,
            29.53,
            22.22,
            9.66,
            32.63,
            26.44,
            33.98,
            18.59,
            29.75,
            28.06,
            31.09
           ],
           "yaxis": "y"
          },
          {
           "hovertemplate": "club=LAC<br>frameId=64<br>x=%{x}<br>y=%{y}<extra></extra>",
           "legendgroup": "LAC",
           "marker": {
            "color": "Black",
            "symbol": "circle"
           },
           "mode": "markers",
           "name": "LAC",
           "orientation": "v",
           "showlegend": true,
           "type": "scatter",
           "x": [
            33.47,
            35.62,
            35.31,
            32.2,
            25.84,
            35.08,
            20.46,
            30.71,
            30.95,
            34.45,
            35.59
           ],
           "xaxis": "x",
           "y": [
            18.64,
            23.16,
            27.78,
            38.47,
            34.77,
            30.66,
            22.74,
            25.47,
            30.91,
            9.35,
            35.92
           ],
           "yaxis": "y"
          },
          {
           "hovertemplate": "club=football<br>frameId=64<br>x=%{x}<br>y=%{y}<extra></extra>",
           "legendgroup": "football",
           "marker": {
            "color": "Grey",
            "symbol": "circle"
           },
           "mode": "markers",
           "name": "football",
           "orientation": "v",
           "showlegend": true,
           "type": "scatter",
           "x": [
            36.0200004577637
           ],
           "xaxis": "x",
           "y": [
            29.7000007629395
           ],
           "yaxis": "y"
          }
         ],
         "name": "64"
        },
        {
         "data": [
          {
           "hovertemplate": "club=LV<br>frameId=65<br>x=%{x}<br>y=%{y}<extra></extra>",
           "legendgroup": "LV",
           "marker": {
            "color": "Red",
            "symbol": "circle"
           },
           "mode": "markers",
           "name": "LV",
           "orientation": "v",
           "showlegend": true,
           "type": "scatter",
           "x": [
            41.02,
            40.94,
            37.89,
            36.72,
            37.24,
            37.22,
            37.1,
            37.62,
            36.18,
            37.07,
            37.11
           ],
           "xaxis": "x",
           "y": [
            32.9,
            29.53,
            22.36,
            9.67,
            32.63,
            26.44,
            33.97,
            18.59,
            29.74,
            28.06,
            31.1
           ],
           "yaxis": "y"
          },
          {
           "hovertemplate": "club=LAC<br>frameId=65<br>x=%{x}<br>y=%{y}<extra></extra>",
           "legendgroup": "LAC",
           "marker": {
            "color": "Black",
            "symbol": "circle"
           },
           "mode": "markers",
           "name": "LAC",
           "orientation": "v",
           "showlegend": true,
           "type": "scatter",
           "x": [
            33.46,
            35.62,
            35.32,
            32.19,
            25.84,
            35.07,
            20.45,
            30.72,
            30.94,
            34.45,
            35.63
           ],
           "xaxis": "x",
           "y": [
            18.64,
            23.15,
            27.78,
            38.44,
            34.77,
            30.68,
            22.71,
            25.47,
            30.89,
            9.41,
            35.9
           ],
           "yaxis": "y"
          },
          {
           "hovertemplate": "club=football<br>frameId=65<br>x=%{x}<br>y=%{y}<extra></extra>",
           "legendgroup": "football",
           "marker": {
            "color": "Grey",
            "symbol": "circle"
           },
           "mode": "markers",
           "name": "football",
           "orientation": "v",
           "showlegend": true,
           "type": "scatter",
           "x": [
            36.0200004577637
           ],
           "xaxis": "x",
           "y": [
            29.7000007629395
           ],
           "yaxis": "y"
          }
         ],
         "name": "65"
        },
        {
         "data": [
          {
           "hovertemplate": "club=LV<br>frameId=66<br>x=%{x}<br>y=%{y}<extra></extra>",
           "legendgroup": "LV",
           "marker": {
            "color": "Red",
            "symbol": "circle"
           },
           "mode": "markers",
           "name": "LV",
           "orientation": "v",
           "showlegend": true,
           "type": "scatter",
           "x": [
            41.01,
            40.95,
            37.96,
            36.72,
            37.24,
            37.22,
            37.09,
            37.62,
            36.18,
            37.08,
            37.11
           ],
           "xaxis": "x",
           "y": [
            32.9,
            29.53,
            22.54,
            9.66,
            32.63,
            26.44,
            33.96,
            18.59,
            29.74,
            28.06,
            31.1
           ],
           "yaxis": "y"
          },
          {
           "hovertemplate": "club=LAC<br>frameId=66<br>x=%{x}<br>y=%{y}<extra></extra>",
           "legendgroup": "LAC",
           "marker": {
            "color": "Black",
            "symbol": "circle"
           },
           "mode": "markers",
           "name": "LAC",
           "orientation": "v",
           "showlegend": true,
           "type": "scatter",
           "x": [
            33.44,
            35.62,
            35.31,
            32.18,
            25.86,
            35.08,
            20.45,
            30.72,
            30.95,
            34.45,
            35.67
           ],
           "xaxis": "x",
           "y": [
            18.65,
            23.14,
            27.77,
            38.42,
            34.76,
            30.68,
            22.68,
            25.47,
            30.9,
            9.45,
            35.91
           ],
           "yaxis": "y"
          },
          {
           "hovertemplate": "club=football<br>frameId=66<br>x=%{x}<br>y=%{y}<extra></extra>",
           "legendgroup": "football",
           "marker": {
            "color": "Grey",
            "symbol": "circle"
           },
           "mode": "markers",
           "name": "football",
           "orientation": "v",
           "showlegend": true,
           "type": "scatter",
           "x": [
            36.0200004577637
           ],
           "xaxis": "x",
           "y": [
            29.7099990844727
           ],
           "yaxis": "y"
          }
         ],
         "name": "66"
        },
        {
         "data": [
          {
           "hovertemplate": "club=LV<br>frameId=67<br>x=%{x}<br>y=%{y}<extra></extra>",
           "legendgroup": "LV",
           "marker": {
            "color": "Red",
            "symbol": "circle"
           },
           "mode": "markers",
           "name": "LV",
           "orientation": "v",
           "showlegend": true,
           "type": "scatter",
           "x": [
            41.02,
            40.95,
            38.04,
            36.72,
            37.24,
            37.22,
            37.09,
            37.61,
            36.17,
            37.08,
            37.11
           ],
           "xaxis": "x",
           "y": [
            32.89,
            29.52,
            22.77,
            9.66,
            32.62,
            26.45,
            33.96,
            18.59,
            29.75,
            28.06,
            31.1
           ],
           "yaxis": "y"
          },
          {
           "hovertemplate": "club=LAC<br>frameId=67<br>x=%{x}<br>y=%{y}<extra></extra>",
           "legendgroup": "LAC",
           "marker": {
            "color": "Black",
            "symbol": "circle"
           },
           "mode": "markers",
           "name": "LAC",
           "orientation": "v",
           "showlegend": true,
           "type": "scatter",
           "x": [
            33.42,
            35.62,
            35.32,
            32.17,
            25.89,
            35.08,
            20.45,
            30.73,
            30.97,
            34.44,
            35.7
           ],
           "xaxis": "x",
           "y": [
            18.65,
            23.14,
            27.76,
            38.42,
            34.76,
            30.69,
            22.66,
            25.47,
            30.88,
            9.49,
            35.9
           ],
           "yaxis": "y"
          },
          {
           "hovertemplate": "club=football<br>frameId=67<br>x=%{x}<br>y=%{y}<extra></extra>",
           "legendgroup": "football",
           "marker": {
            "color": "Grey",
            "symbol": "circle"
           },
           "mode": "markers",
           "name": "football",
           "orientation": "v",
           "showlegend": true,
           "type": "scatter",
           "x": [
            36.0099983215332
           ],
           "xaxis": "x",
           "y": [
            29.7099990844727
           ],
           "yaxis": "y"
          }
         ],
         "name": "67"
        },
        {
         "data": [
          {
           "hovertemplate": "club=LV<br>frameId=68<br>x=%{x}<br>y=%{y}<extra></extra>",
           "legendgroup": "LV",
           "marker": {
            "color": "Red",
            "symbol": "circle"
           },
           "mode": "markers",
           "name": "LV",
           "orientation": "v",
           "showlegend": true,
           "type": "scatter",
           "x": [
            41.02,
            40.95,
            38.12,
            36.71,
            37.24,
            37.23,
            37.09,
            37.62,
            36.16,
            37.08,
            37.11
           ],
           "xaxis": "x",
           "y": [
            32.88,
            29.52,
            23.03,
            9.65,
            32.61,
            26.45,
            33.96,
            18.59,
            29.75,
            28.06,
            31.09
           ],
           "yaxis": "y"
          },
          {
           "hovertemplate": "club=LAC<br>frameId=68<br>x=%{x}<br>y=%{y}<extra></extra>",
           "legendgroup": "LAC",
           "marker": {
            "color": "Black",
            "symbol": "circle"
           },
           "mode": "markers",
           "name": "LAC",
           "orientation": "v",
           "showlegend": true,
           "type": "scatter",
           "x": [
            33.41,
            35.63,
            35.29,
            32.16,
            25.95,
            35.08,
            20.45,
            30.73,
            30.98,
            34.43,
            35.73
           ],
           "xaxis": "x",
           "y": [
            18.66,
            23.13,
            27.74,
            38.41,
            34.76,
            30.69,
            22.66,
            25.48,
            30.87,
            9.51,
            35.9
           ],
           "yaxis": "y"
          },
          {
           "hovertemplate": "club=football<br>frameId=68<br>x=%{x}<br>y=%{y}<extra></extra>",
           "legendgroup": "football",
           "marker": {
            "color": "Grey",
            "symbol": "circle"
           },
           "mode": "markers",
           "name": "football",
           "orientation": "v",
           "showlegend": true,
           "type": "scatter",
           "x": [
            36.0099983215332
           ],
           "xaxis": "x",
           "y": [
            29.7099990844727
           ],
           "yaxis": "y"
          }
         ],
         "name": "68"
        },
        {
         "data": [
          {
           "hovertemplate": "club=LV<br>frameId=69<br>x=%{x}<br>y=%{y}<extra></extra>",
           "legendgroup": "LV",
           "marker": {
            "color": "Red",
            "symbol": "circle"
           },
           "mode": "markers",
           "name": "LV",
           "orientation": "v",
           "showlegend": true,
           "type": "scatter",
           "x": [
            41.02,
            40.95,
            38.21,
            36.71,
            37.24,
            37.23,
            37.09,
            37.62,
            36.16,
            37.08,
            37.11
           ],
           "xaxis": "x",
           "y": [
            32.87,
            29.51,
            23.33,
            9.65,
            32.61,
            26.46,
            33.96,
            18.59,
            29.76,
            28.07,
            31.09
           ],
           "yaxis": "y"
          },
          {
           "hovertemplate": "club=LAC<br>frameId=69<br>x=%{x}<br>y=%{y}<extra></extra>",
           "legendgroup": "LAC",
           "marker": {
            "color": "Black",
            "symbol": "circle"
           },
           "mode": "markers",
           "name": "LAC",
           "orientation": "v",
           "showlegend": true,
           "type": "scatter",
           "x": [
            33.39,
            35.64,
            35.27,
            32.15,
            26.03,
            35.07,
            20.45,
            30.74,
            31,
            34.41,
            35.75
           ],
           "xaxis": "x",
           "y": [
            18.66,
            23.13,
            27.72,
            38.44,
            34.77,
            30.69,
            22.66,
            25.51,
            30.84,
            9.52,
            35.91
           ],
           "yaxis": "y"
          },
          {
           "hovertemplate": "club=football<br>frameId=69<br>x=%{x}<br>y=%{y}<extra></extra>",
           "legendgroup": "football",
           "marker": {
            "color": "Grey",
            "symbol": "circle"
           },
           "mode": "markers",
           "name": "football",
           "orientation": "v",
           "showlegend": true,
           "type": "scatter",
           "x": [
            36.0099983215332
           ],
           "xaxis": "x",
           "y": [
            29.7099990844727
           ],
           "yaxis": "y"
          }
         ],
         "name": "69"
        },
        {
         "data": [
          {
           "hovertemplate": "club=LV<br>frameId=70<br>x=%{x}<br>y=%{y}<extra></extra>",
           "legendgroup": "LV",
           "marker": {
            "color": "Red",
            "symbol": "circle"
           },
           "mode": "markers",
           "name": "LV",
           "orientation": "v",
           "showlegend": true,
           "type": "scatter",
           "x": [
            41.02,
            40.95,
            38.28,
            36.7,
            37.24,
            37.23,
            37.09,
            37.62,
            36.16,
            37.08,
            37.11
           ],
           "xaxis": "x",
           "y": [
            32.87,
            29.51,
            23.67,
            9.64,
            32.61,
            26.46,
            33.95,
            18.58,
            29.75,
            28.07,
            31.1
           ],
           "yaxis": "y"
          },
          {
           "hovertemplate": "club=LAC<br>frameId=70<br>x=%{x}<br>y=%{y}<extra></extra>",
           "legendgroup": "LAC",
           "marker": {
            "color": "Black",
            "symbol": "circle"
           },
           "mode": "markers",
           "name": "LAC",
           "orientation": "v",
           "showlegend": true,
           "type": "scatter",
           "x": [
            33.38,
            35.65,
            35.25,
            32.14,
            26.12,
            35.07,
            20.45,
            30.75,
            31,
            34.4,
            35.76
           ],
           "xaxis": "x",
           "y": [
            18.67,
            23.13,
            27.7,
            38.47,
            34.79,
            30.69,
            22.67,
            25.54,
            30.82,
            9.51,
            35.91
           ],
           "yaxis": "y"
          },
          {
           "hovertemplate": "club=football<br>frameId=70<br>x=%{x}<br>y=%{y}<extra></extra>",
           "legendgroup": "football",
           "marker": {
            "color": "Grey",
            "symbol": "circle"
           },
           "mode": "markers",
           "name": "football",
           "orientation": "v",
           "showlegend": true,
           "type": "scatter",
           "x": [
            36.0099983215332
           ],
           "xaxis": "x",
           "y": [
            29.7099990844727
           ],
           "yaxis": "y"
          }
         ],
         "name": "70"
        },
        {
         "data": [
          {
           "hovertemplate": "club=LV<br>frameId=71<br>x=%{x}<br>y=%{y}<extra></extra>",
           "legendgroup": "LV",
           "marker": {
            "color": "Red",
            "symbol": "circle"
           },
           "mode": "markers",
           "name": "LV",
           "orientation": "v",
           "showlegend": true,
           "type": "scatter",
           "x": [
            41.02,
            40.95,
            38.36,
            36.7,
            37.24,
            37.23,
            37.09,
            37.62,
            36.16,
            37.08,
            37.11
           ],
           "xaxis": "x",
           "y": [
            32.87,
            29.51,
            24.03,
            9.65,
            32.6,
            26.46,
            33.95,
            18.59,
            29.75,
            28.07,
            31.11
           ],
           "yaxis": "y"
          },
          {
           "hovertemplate": "club=LAC<br>frameId=71<br>x=%{x}<br>y=%{y}<extra></extra>",
           "legendgroup": "LAC",
           "marker": {
            "color": "Black",
            "symbol": "circle"
           },
           "mode": "markers",
           "name": "LAC",
           "orientation": "v",
           "showlegend": true,
           "type": "scatter",
           "x": [
            33.39,
            35.65,
            35.24,
            32.12,
            26.22,
            35.07,
            20.45,
            30.76,
            31,
            34.38,
            35.76
           ],
           "xaxis": "x",
           "y": [
            18.67,
            23.12,
            27.68,
            38.51,
            34.81,
            30.68,
            22.68,
            25.6,
            30.81,
            9.5,
            35.92
           ],
           "yaxis": "y"
          },
          {
           "hovertemplate": "club=football<br>frameId=71<br>x=%{x}<br>y=%{y}<extra></extra>",
           "legendgroup": "football",
           "marker": {
            "color": "Grey",
            "symbol": "circle"
           },
           "mode": "markers",
           "name": "football",
           "orientation": "v",
           "showlegend": true,
           "type": "scatter",
           "x": [
            36.0099983215332
           ],
           "xaxis": "x",
           "y": [
            29.7099990844727
           ],
           "yaxis": "y"
          }
         ],
         "name": "71"
        },
        {
         "data": [
          {
           "hovertemplate": "club=LV<br>frameId=72<br>x=%{x}<br>y=%{y}<extra></extra>",
           "legendgroup": "LV",
           "marker": {
            "color": "Red",
            "symbol": "circle"
           },
           "mode": "markers",
           "name": "LV",
           "orientation": "v",
           "showlegend": true,
           "type": "scatter",
           "x": [
            41.02,
            40.95,
            38.43,
            36.7,
            37.24,
            37.23,
            37.09,
            37.61,
            36.16,
            37.08,
            37.1
           ],
           "xaxis": "x",
           "y": [
            32.86,
            29.51,
            24.42,
            9.64,
            32.6,
            26.46,
            33.94,
            18.58,
            29.75,
            28.07,
            31.11
           ],
           "yaxis": "y"
          },
          {
           "hovertemplate": "club=LAC<br>frameId=72<br>x=%{x}<br>y=%{y}<extra></extra>",
           "legendgroup": "LAC",
           "marker": {
            "color": "Black",
            "symbol": "circle"
           },
           "mode": "markers",
           "name": "LAC",
           "orientation": "v",
           "showlegend": true,
           "type": "scatter",
           "x": [
            33.4,
            35.66,
            35.22,
            32.09,
            26.34,
            35.08,
            20.46,
            30.78,
            31.01,
            34.36,
            35.76
           ],
           "xaxis": "x",
           "y": [
            18.66,
            23.12,
            27.65,
            38.57,
            34.84,
            30.68,
            22.7,
            25.67,
            30.8,
            9.49,
            35.91
           ],
           "yaxis": "y"
          },
          {
           "hovertemplate": "club=football<br>frameId=72<br>x=%{x}<br>y=%{y}<extra></extra>",
           "legendgroup": "football",
           "marker": {
            "color": "Grey",
            "symbol": "circle"
           },
           "mode": "markers",
           "name": "football",
           "orientation": "v",
           "showlegend": true,
           "type": "scatter",
           "x": [
            36.0099983215332
           ],
           "xaxis": "x",
           "y": [
            29.7099990844727
           ],
           "yaxis": "y"
          }
         ],
         "name": "72"
        },
        {
         "data": [
          {
           "hovertemplate": "club=LV<br>frameId=73<br>x=%{x}<br>y=%{y}<extra></extra>",
           "legendgroup": "LV",
           "marker": {
            "color": "Red",
            "symbol": "circle"
           },
           "mode": "markers",
           "name": "LV",
           "orientation": "v",
           "showlegend": true,
           "type": "scatter",
           "x": [
            41.03,
            40.96,
            38.49,
            36.7,
            37.24,
            37.23,
            37.09,
            37.62,
            36.16,
            37.08,
            37.1
           ],
           "xaxis": "x",
           "y": [
            32.86,
            29.51,
            24.82,
            9.64,
            32.6,
            26.46,
            33.94,
            18.58,
            29.74,
            28.07,
            31.11
           ],
           "yaxis": "y"
          },
          {
           "hovertemplate": "club=LAC<br>frameId=73<br>x=%{x}<br>y=%{y}<extra></extra>",
           "legendgroup": "LAC",
           "marker": {
            "color": "Black",
            "symbol": "circle"
           },
           "mode": "markers",
           "name": "LAC",
           "orientation": "v",
           "showlegend": true,
           "type": "scatter",
           "x": [
            33.41,
            35.65,
            35.23,
            32.08,
            26.48,
            35.07,
            20.47,
            30.81,
            31.01,
            34.35,
            35.75
           ],
           "xaxis": "x",
           "y": [
            18.66,
            23.12,
            27.65,
            38.65,
            34.87,
            30.68,
            22.71,
            25.77,
            30.8,
            9.47,
            35.9
           ],
           "yaxis": "y"
          },
          {
           "hovertemplate": "club=football<br>frameId=73<br>x=%{x}<br>y=%{y}<extra></extra>",
           "legendgroup": "football",
           "marker": {
            "color": "Grey",
            "symbol": "circle"
           },
           "mode": "markers",
           "name": "football",
           "orientation": "v",
           "showlegend": true,
           "type": "scatter",
           "x": [
            36.0099983215332
           ],
           "xaxis": "x",
           "y": [
            29.7099990844727
           ],
           "yaxis": "y"
          }
         ],
         "name": "73"
        },
        {
         "data": [
          {
           "hovertemplate": "club=LV<br>frameId=74<br>x=%{x}<br>y=%{y}<extra></extra>",
           "legendgroup": "LV",
           "marker": {
            "color": "Red",
            "symbol": "circle"
           },
           "mode": "markers",
           "name": "LV",
           "orientation": "v",
           "showlegend": true,
           "type": "scatter",
           "x": [
            41.03,
            40.96,
            38.55,
            36.7,
            37.24,
            37.23,
            37.09,
            37.61,
            36.16,
            37.08,
            37.1
           ],
           "xaxis": "x",
           "y": [
            32.87,
            29.51,
            25.23,
            9.64,
            32.59,
            26.46,
            33.94,
            18.58,
            29.74,
            28.07,
            31.11
           ],
           "yaxis": "y"
          },
          {
           "hovertemplate": "club=LAC<br>frameId=74<br>x=%{x}<br>y=%{y}<extra></extra>",
           "legendgroup": "LAC",
           "marker": {
            "color": "Black",
            "symbol": "circle"
           },
           "mode": "markers",
           "name": "LAC",
           "orientation": "v",
           "showlegend": true,
           "type": "scatter",
           "x": [
            33.43,
            35.64,
            35.23,
            32.06,
            26.63,
            35.07,
            20.48,
            30.83,
            31.01,
            34.33,
            35.73
           ],
           "xaxis": "x",
           "y": [
            18.65,
            23.12,
            27.62,
            38.7,
            34.9,
            30.67,
            22.72,
            25.86,
            30.8,
            9.46,
            35.88
           ],
           "yaxis": "y"
          },
          {
           "hovertemplate": "club=football<br>frameId=74<br>x=%{x}<br>y=%{y}<extra></extra>",
           "legendgroup": "football",
           "marker": {
            "color": "Grey",
            "symbol": "circle"
           },
           "mode": "markers",
           "name": "football",
           "orientation": "v",
           "showlegend": true,
           "type": "scatter",
           "x": [
            36.0099983215332
           ],
           "xaxis": "x",
           "y": [
            29.7099990844727
           ],
           "yaxis": "y"
          }
         ],
         "name": "74"
        },
        {
         "data": [
          {
           "hovertemplate": "club=LV<br>frameId=75<br>x=%{x}<br>y=%{y}<extra></extra>",
           "legendgroup": "LV",
           "marker": {
            "color": "Red",
            "symbol": "circle"
           },
           "mode": "markers",
           "name": "LV",
           "orientation": "v",
           "showlegend": true,
           "type": "scatter",
           "x": [
            41.03,
            40.97,
            38.59,
            36.7,
            37.24,
            37.23,
            37.09,
            37.61,
            36.17,
            37.08,
            37.11
           ],
           "xaxis": "x",
           "y": [
            32.87,
            29.51,
            25.65,
            9.64,
            32.59,
            26.47,
            33.93,
            18.57,
            29.73,
            28.07,
            31.11
           ],
           "yaxis": "y"
          },
          {
           "hovertemplate": "club=LAC<br>frameId=75<br>x=%{x}<br>y=%{y}<extra></extra>",
           "legendgroup": "LAC",
           "marker": {
            "color": "Black",
            "symbol": "circle"
           },
           "mode": "markers",
           "name": "LAC",
           "orientation": "v",
           "showlegend": true,
           "type": "scatter",
           "x": [
            33.45,
            35.62,
            35.22,
            32.04,
            26.79,
            35.07,
            20.48,
            30.85,
            31.01,
            34.33,
            35.71
           ],
           "xaxis": "x",
           "y": [
            18.64,
            23.11,
            27.62,
            38.77,
            34.95,
            30.65,
            22.71,
            25.96,
            30.8,
            9.44,
            35.85
           ],
           "yaxis": "y"
          },
          {
           "hovertemplate": "club=football<br>frameId=75<br>x=%{x}<br>y=%{y}<extra></extra>",
           "legendgroup": "football",
           "marker": {
            "color": "Grey",
            "symbol": "circle"
           },
           "mode": "markers",
           "name": "football",
           "orientation": "v",
           "showlegend": true,
           "type": "scatter",
           "x": [
            36.0099983215332
           ],
           "xaxis": "x",
           "y": [
            29.7099990844727
           ],
           "yaxis": "y"
          }
         ],
         "name": "75"
        },
        {
         "data": [
          {
           "hovertemplate": "club=LV<br>frameId=76<br>x=%{x}<br>y=%{y}<extra></extra>",
           "legendgroup": "LV",
           "marker": {
            "color": "Red",
            "symbol": "circle"
           },
           "mode": "markers",
           "name": "LV",
           "orientation": "v",
           "showlegend": true,
           "type": "scatter",
           "x": [
            41.03,
            40.97,
            38.64,
            36.7,
            37.24,
            37.23,
            37.09,
            37.61,
            36.17,
            37.08,
            37.1
           ],
           "xaxis": "x",
           "y": [
            32.87,
            29.51,
            26.09,
            9.64,
            32.59,
            26.47,
            33.93,
            18.58,
            29.73,
            28.07,
            31.1
           ],
           "yaxis": "y"
          },
          {
           "hovertemplate": "club=LAC<br>frameId=76<br>x=%{x}<br>y=%{y}<extra></extra>",
           "legendgroup": "LAC",
           "marker": {
            "color": "Black",
            "symbol": "circle"
           },
           "mode": "markers",
           "name": "LAC",
           "orientation": "v",
           "showlegend": true,
           "type": "scatter",
           "x": [
            33.47,
            35.6,
            35.23,
            32.03,
            26.95,
            35.07,
            20.48,
            30.87,
            31.01,
            34.33,
            35.69
           ],
           "xaxis": "x",
           "y": [
            18.63,
            23.09,
            27.62,
            38.84,
            34.99,
            30.65,
            22.71,
            26.05,
            30.8,
            9.43,
            35.82
           ],
           "yaxis": "y"
          },
          {
           "hovertemplate": "club=football<br>frameId=76<br>x=%{x}<br>y=%{y}<extra></extra>",
           "legendgroup": "football",
           "marker": {
            "color": "Grey",
            "symbol": "circle"
           },
           "mode": "markers",
           "name": "football",
           "orientation": "v",
           "showlegend": true,
           "type": "scatter",
           "x": [
            36.0099983215332
           ],
           "xaxis": "x",
           "y": [
            29.7099990844727
           ],
           "yaxis": "y"
          }
         ],
         "name": "76"
        },
        {
         "data": [
          {
           "hovertemplate": "club=LV<br>frameId=77<br>x=%{x}<br>y=%{y}<extra></extra>",
           "legendgroup": "LV",
           "marker": {
            "color": "Red",
            "symbol": "circle"
           },
           "mode": "markers",
           "name": "LV",
           "orientation": "v",
           "showlegend": true,
           "type": "scatter",
           "x": [
            41.04,
            40.97,
            38.69,
            36.69,
            37.25,
            37.23,
            37.09,
            37.61,
            36.18,
            37.08,
            37.1
           ],
           "xaxis": "x",
           "y": [
            32.88,
            29.52,
            26.54,
            9.64,
            32.58,
            26.47,
            33.93,
            18.59,
            29.73,
            28.06,
            31.1
           ],
           "yaxis": "y"
          },
          {
           "hovertemplate": "club=LAC<br>frameId=77<br>x=%{x}<br>y=%{y}<extra></extra>",
           "legendgroup": "LAC",
           "marker": {
            "color": "Black",
            "symbol": "circle"
           },
           "mode": "markers",
           "name": "LAC",
           "orientation": "v",
           "showlegend": true,
           "type": "scatter",
           "x": [
            33.49,
            35.58,
            35.24,
            32.01,
            27.13,
            35.07,
            20.47,
            30.89,
            31.02,
            34.33,
            35.68
           ],
           "xaxis": "x",
           "y": [
            18.61,
            23.06,
            27.6,
            38.9,
            35.04,
            30.65,
            22.71,
            26.14,
            30.81,
            9.42,
            35.78
           ],
           "yaxis": "y"
          },
          {
           "hovertemplate": "club=football<br>frameId=77<br>x=%{x}<br>y=%{y}<extra></extra>",
           "legendgroup": "football",
           "marker": {
            "color": "Grey",
            "symbol": "circle"
           },
           "mode": "markers",
           "name": "football",
           "orientation": "v",
           "showlegend": true,
           "type": "scatter",
           "x": [
            36.0099983215332
           ],
           "xaxis": "x",
           "y": [
            29.7099990844727
           ],
           "yaxis": "y"
          }
         ],
         "name": "77"
        },
        {
         "data": [
          {
           "hovertemplate": "club=LV<br>frameId=78<br>x=%{x}<br>y=%{y}<extra></extra>",
           "legendgroup": "LV",
           "marker": {
            "color": "Red",
            "symbol": "circle"
           },
           "mode": "markers",
           "name": "LV",
           "orientation": "v",
           "showlegend": true,
           "type": "scatter",
           "x": [
            41.03,
            40.97,
            38.72,
            36.69,
            37.25,
            37.23,
            37.09,
            37.61,
            36.18,
            37.08,
            37.1
           ],
           "xaxis": "x",
           "y": [
            32.88,
            29.52,
            26.98,
            9.64,
            32.58,
            26.47,
            33.93,
            18.6,
            29.73,
            28.06,
            31.11
           ],
           "yaxis": "y"
          },
          {
           "hovertemplate": "club=LAC<br>frameId=78<br>x=%{x}<br>y=%{y}<extra></extra>",
           "legendgroup": "LAC",
           "marker": {
            "color": "Black",
            "symbol": "circle"
           },
           "mode": "markers",
           "name": "LAC",
           "orientation": "v",
           "showlegend": true,
           "type": "scatter",
           "x": [
            33.52,
            35.58,
            35.23,
            32,
            27.31,
            35.08,
            20.44,
            30.91,
            31.01,
            34.34,
            35.66
           ],
           "xaxis": "x",
           "y": [
            18.6,
            23.06,
            27.59,
            38.97,
            35.1,
            30.64,
            22.69,
            26.25,
            30.82,
            9.41,
            35.76
           ],
           "yaxis": "y"
          },
          {
           "hovertemplate": "club=football<br>frameId=78<br>x=%{x}<br>y=%{y}<extra></extra>",
           "legendgroup": "football",
           "marker": {
            "color": "Grey",
            "symbol": "circle"
           },
           "mode": "markers",
           "name": "football",
           "orientation": "v",
           "showlegend": true,
           "type": "scatter",
           "x": [
            36.0099983215332
           ],
           "xaxis": "x",
           "y": [
            29.7099990844727
           ],
           "yaxis": "y"
          }
         ],
         "name": "78"
        },
        {
         "data": [
          {
           "hovertemplate": "club=LV<br>frameId=79<br>x=%{x}<br>y=%{y}<extra></extra>",
           "legendgroup": "LV",
           "marker": {
            "color": "Red",
            "symbol": "circle"
           },
           "mode": "markers",
           "name": "LV",
           "orientation": "v",
           "showlegend": true,
           "type": "scatter",
           "x": [
            41.03,
            40.97,
            38.75,
            36.69,
            37.25,
            37.23,
            37.09,
            37.61,
            36.18,
            37.08,
            37.1
           ],
           "xaxis": "x",
           "y": [
            32.88,
            29.52,
            27.43,
            9.64,
            32.57,
            26.47,
            33.92,
            18.6,
            29.74,
            28.06,
            31.11
           ],
           "yaxis": "y"
          },
          {
           "hovertemplate": "club=LAC<br>frameId=79<br>x=%{x}<br>y=%{y}<extra></extra>",
           "legendgroup": "LAC",
           "marker": {
            "color": "Black",
            "symbol": "circle"
           },
           "mode": "markers",
           "name": "LAC",
           "orientation": "v",
           "showlegend": true,
           "type": "scatter",
           "x": [
            33.54,
            35.58,
            35.23,
            31.98,
            27.49,
            35.08,
            20.42,
            30.93,
            31.01,
            34.35,
            35.65
           ],
           "xaxis": "x",
           "y": [
            18.6,
            23.07,
            27.58,
            39.07,
            35.16,
            30.64,
            22.69,
            26.36,
            30.82,
            9.41,
            35.75
           ],
           "yaxis": "y"
          },
          {
           "hovertemplate": "club=football<br>frameId=79<br>x=%{x}<br>y=%{y}<extra></extra>",
           "legendgroup": "football",
           "marker": {
            "color": "Grey",
            "symbol": "circle"
           },
           "mode": "markers",
           "name": "football",
           "orientation": "v",
           "showlegend": true,
           "type": "scatter",
           "x": [
            36.0099983215332
           ],
           "xaxis": "x",
           "y": [
            29.7099990844727
           ],
           "yaxis": "y"
          }
         ],
         "name": "79"
        },
        {
         "data": [
          {
           "hovertemplate": "club=LV<br>frameId=80<br>x=%{x}<br>y=%{y}<extra></extra>",
           "legendgroup": "LV",
           "marker": {
            "color": "Red",
            "symbol": "circle"
           },
           "mode": "markers",
           "name": "LV",
           "orientation": "v",
           "showlegend": true,
           "type": "scatter",
           "x": [
            41.04,
            40.97,
            38.77,
            36.69,
            37.25,
            37.23,
            37.09,
            37.62,
            36.18,
            37.08,
            37.1
           ],
           "xaxis": "x",
           "y": [
            32.87,
            29.53,
            27.88,
            9.64,
            32.57,
            26.47,
            33.92,
            18.6,
            29.74,
            28.05,
            31.1
           ],
           "yaxis": "y"
          },
          {
           "hovertemplate": "club=LAC<br>frameId=80<br>x=%{x}<br>y=%{y}<extra></extra>",
           "legendgroup": "LAC",
           "marker": {
            "color": "Black",
            "symbol": "circle"
           },
           "mode": "markers",
           "name": "LAC",
           "orientation": "v",
           "showlegend": true,
           "type": "scatter",
           "x": [
            33.57,
            35.58,
            35.24,
            31.97,
            27.67,
            35.08,
            20.4,
            30.94,
            31.01,
            34.37,
            35.64
           ],
           "xaxis": "x",
           "y": [
            18.6,
            23.07,
            27.58,
            39.17,
            35.23,
            30.64,
            22.68,
            26.48,
            30.82,
            9.4,
            35.73
           ],
           "yaxis": "y"
          },
          {
           "hovertemplate": "club=football<br>frameId=80<br>x=%{x}<br>y=%{y}<extra></extra>",
           "legendgroup": "football",
           "marker": {
            "color": "Grey",
            "symbol": "circle"
           },
           "mode": "markers",
           "name": "football",
           "orientation": "v",
           "showlegend": true,
           "type": "scatter",
           "x": [
            36.0099983215332
           ],
           "xaxis": "x",
           "y": [
            29.7099990844727
           ],
           "yaxis": "y"
          }
         ],
         "name": "80"
        },
        {
         "data": [
          {
           "hovertemplate": "club=LV<br>frameId=81<br>x=%{x}<br>y=%{y}<extra></extra>",
           "legendgroup": "LV",
           "marker": {
            "color": "Red",
            "symbol": "circle"
           },
           "mode": "markers",
           "name": "LV",
           "orientation": "v",
           "showlegend": true,
           "type": "scatter",
           "x": [
            41.04,
            40.97,
            38.79,
            36.69,
            37.25,
            37.23,
            37.09,
            37.62,
            36.17,
            37.08,
            37.1
           ],
           "xaxis": "x",
           "y": [
            32.87,
            29.52,
            28.34,
            9.64,
            32.57,
            26.47,
            33.91,
            18.6,
            29.74,
            28.05,
            31.1
           ],
           "yaxis": "y"
          },
          {
           "hovertemplate": "club=LAC<br>frameId=81<br>x=%{x}<br>y=%{y}<extra></extra>",
           "legendgroup": "LAC",
           "marker": {
            "color": "Black",
            "symbol": "circle"
           },
           "mode": "markers",
           "name": "LAC",
           "orientation": "v",
           "showlegend": true,
           "type": "scatter",
           "x": [
            33.6,
            35.58,
            35.26,
            31.96,
            27.84,
            35.08,
            20.37,
            30.95,
            31.01,
            34.4,
            35.63
           ],
           "xaxis": "x",
           "y": [
            18.61,
            23.06,
            27.6,
            39.29,
            35.3,
            30.64,
            22.68,
            26.61,
            30.82,
            9.38,
            35.72
           ],
           "yaxis": "y"
          },
          {
           "hovertemplate": "club=football<br>frameId=81<br>x=%{x}<br>y=%{y}<extra></extra>",
           "legendgroup": "football",
           "marker": {
            "color": "Grey",
            "symbol": "circle"
           },
           "mode": "markers",
           "name": "football",
           "orientation": "v",
           "showlegend": true,
           "type": "scatter",
           "x": [
            36.0099983215332
           ],
           "xaxis": "x",
           "y": [
            29.7099990844727
           ],
           "yaxis": "y"
          }
         ],
         "name": "81"
        },
        {
         "data": [
          {
           "hovertemplate": "club=LV<br>frameId=82<br>x=%{x}<br>y=%{y}<extra></extra>",
           "legendgroup": "LV",
           "marker": {
            "color": "Red",
            "symbol": "circle"
           },
           "mode": "markers",
           "name": "LV",
           "orientation": "v",
           "showlegend": true,
           "type": "scatter",
           "x": [
            41.04,
            40.97,
            38.79,
            36.69,
            37.26,
            37.23,
            37.09,
            37.62,
            36.18,
            37.08,
            37.09
           ],
           "xaxis": "x",
           "y": [
            32.88,
            29.52,
            28.79,
            9.64,
            32.57,
            26.47,
            33.91,
            18.6,
            29.74,
            28.05,
            31.1
           ],
           "yaxis": "y"
          },
          {
           "hovertemplate": "club=LAC<br>frameId=82<br>x=%{x}<br>y=%{y}<extra></extra>",
           "legendgroup": "LAC",
           "marker": {
            "color": "Black",
            "symbol": "circle"
           },
           "mode": "markers",
           "name": "LAC",
           "orientation": "v",
           "showlegend": true,
           "type": "scatter",
           "x": [
            33.63,
            35.58,
            35.23,
            31.95,
            28.02,
            35.08,
            20.35,
            30.97,
            30.99,
            34.45,
            35.62
           ],
           "xaxis": "x",
           "y": [
            18.62,
            23.05,
            27.58,
            39.42,
            35.36,
            30.63,
            22.68,
            26.74,
            30.83,
            9.36,
            35.71
           ],
           "yaxis": "y"
          },
          {
           "hovertemplate": "club=football<br>frameId=82<br>x=%{x}<br>y=%{y}<extra></extra>",
           "legendgroup": "football",
           "marker": {
            "color": "Grey",
            "symbol": "circle"
           },
           "mode": "markers",
           "name": "football",
           "orientation": "v",
           "showlegend": true,
           "type": "scatter",
           "x": [
            36.0099983215332
           ],
           "xaxis": "x",
           "y": [
            29.7099990844727
           ],
           "yaxis": "y"
          }
         ],
         "name": "82"
        },
        {
         "data": [
          {
           "hovertemplate": "club=LV<br>frameId=83<br>x=%{x}<br>y=%{y}<extra></extra>",
           "legendgroup": "LV",
           "marker": {
            "color": "Red",
            "symbol": "circle"
           },
           "mode": "markers",
           "name": "LV",
           "orientation": "v",
           "showlegend": true,
           "type": "scatter",
           "x": [
            41.04,
            40.97,
            38.79,
            36.69,
            37.27,
            37.23,
            37.09,
            37.62,
            36.17,
            37.08,
            37.09
           ],
           "xaxis": "x",
           "y": [
            32.88,
            29.52,
            29.26,
            9.65,
            32.58,
            26.47,
            33.91,
            18.6,
            29.75,
            28.05,
            31.11
           ],
           "yaxis": "y"
          },
          {
           "hovertemplate": "club=LAC<br>frameId=83<br>x=%{x}<br>y=%{y}<extra></extra>",
           "legendgroup": "LAC",
           "marker": {
            "color": "Black",
            "symbol": "circle"
           },
           "mode": "markers",
           "name": "LAC",
           "orientation": "v",
           "showlegend": true,
           "type": "scatter",
           "x": [
            33.67,
            35.57,
            35.24,
            31.94,
            28.19,
            35.07,
            20.29,
            30.98,
            30.99,
            34.49,
            35.63
           ],
           "xaxis": "x",
           "y": [
            18.62,
            23.05,
            27.58,
            39.56,
            35.43,
            30.67,
            22.68,
            26.87,
            30.83,
            9.33,
            35.7
           ],
           "yaxis": "y"
          },
          {
           "hovertemplate": "club=football<br>frameId=83<br>x=%{x}<br>y=%{y}<extra></extra>",
           "legendgroup": "football",
           "marker": {
            "color": "Grey",
            "symbol": "circle"
           },
           "mode": "markers",
           "name": "football",
           "orientation": "v",
           "showlegend": true,
           "type": "scatter",
           "x": [
            36.0099983215332
           ],
           "xaxis": "x",
           "y": [
            29.7099990844727
           ],
           "yaxis": "y"
          }
         ],
         "name": "83"
        },
        {
         "data": [
          {
           "hovertemplate": "club=LV<br>frameId=84<br>x=%{x}<br>y=%{y}<extra></extra>",
           "legendgroup": "LV",
           "marker": {
            "color": "Red",
            "symbol": "circle"
           },
           "mode": "markers",
           "name": "LV",
           "orientation": "v",
           "showlegend": true,
           "type": "scatter",
           "x": [
            41.03,
            40.97,
            38.8,
            36.69,
            37.27,
            37.23,
            37.09,
            37.62,
            36.17,
            37.08,
            37.09
           ],
           "xaxis": "x",
           "y": [
            32.88,
            29.51,
            29.73,
            9.65,
            32.59,
            26.47,
            33.91,
            18.6,
            29.75,
            28.05,
            31.11
           ],
           "yaxis": "y"
          },
          {
           "hovertemplate": "club=LAC<br>frameId=84<br>x=%{x}<br>y=%{y}<extra></extra>",
           "legendgroup": "LAC",
           "marker": {
            "color": "Black",
            "symbol": "circle"
           },
           "mode": "markers",
           "name": "LAC",
           "orientation": "v",
           "showlegend": true,
           "type": "scatter",
           "x": [
            33.71,
            35.56,
            35.23,
            31.91,
            28.37,
            35.08,
            20.25,
            31,
            30.97,
            34.5,
            35.63
           ],
           "xaxis": "x",
           "y": [
            18.64,
            23.04,
            27.56,
            39.7,
            35.5,
            30.66,
            22.67,
            27,
            30.84,
            9.31,
            35.69
           ],
           "yaxis": "y"
          },
          {
           "hovertemplate": "club=football<br>frameId=84<br>x=%{x}<br>y=%{y}<extra></extra>",
           "legendgroup": "football",
           "marker": {
            "color": "Grey",
            "symbol": "circle"
           },
           "mode": "markers",
           "name": "football",
           "orientation": "v",
           "showlegend": true,
           "type": "scatter",
           "x": [
            36.0099983215332
           ],
           "xaxis": "x",
           "y": [
            29.7099990844727
           ],
           "yaxis": "y"
          }
         ],
         "name": "84"
        },
        {
         "data": [
          {
           "hovertemplate": "club=LV<br>frameId=85<br>x=%{x}<br>y=%{y}<extra></extra>",
           "legendgroup": "LV",
           "marker": {
            "color": "Red",
            "symbol": "circle"
           },
           "mode": "markers",
           "name": "LV",
           "orientation": "v",
           "showlegend": true,
           "type": "scatter",
           "x": [
            41.03,
            40.97,
            38.8,
            36.69,
            37.27,
            37.23,
            37.09,
            37.63,
            36.18,
            37.08,
            37.09
           ],
           "xaxis": "x",
           "y": [
            32.88,
            29.51,
            30.2,
            9.65,
            32.59,
            26.47,
            33.91,
            18.6,
            29.75,
            28.05,
            31.11
           ],
           "yaxis": "y"
          },
          {
           "hovertemplate": "club=LAC<br>frameId=85<br>x=%{x}<br>y=%{y}<extra></extra>",
           "legendgroup": "LAC",
           "marker": {
            "color": "Black",
            "symbol": "circle"
           },
           "mode": "markers",
           "name": "LAC",
           "orientation": "v",
           "showlegend": true,
           "type": "scatter",
           "x": [
            33.75,
            35.56,
            35.22,
            31.88,
            28.54,
            35.08,
            20.2,
            31.01,
            30.96,
            34.52,
            35.64
           ],
           "xaxis": "x",
           "y": [
            18.63,
            23.04,
            27.56,
            39.85,
            35.57,
            30.66,
            22.7,
            27.11,
            30.86,
            9.29,
            35.71
           ],
           "yaxis": "y"
          },
          {
           "hovertemplate": "club=football<br>frameId=85<br>x=%{x}<br>y=%{y}<extra></extra>",
           "legendgroup": "football",
           "marker": {
            "color": "Grey",
            "symbol": "circle"
           },
           "mode": "markers",
           "name": "football",
           "orientation": "v",
           "showlegend": true,
           "type": "scatter",
           "x": [
            36.0099983215332
           ],
           "xaxis": "x",
           "y": [
            29.7099990844727
           ],
           "yaxis": "y"
          }
         ],
         "name": "85"
        },
        {
         "data": [
          {
           "hovertemplate": "club=LV<br>frameId=86<br>x=%{x}<br>y=%{y}<extra></extra>",
           "legendgroup": "LV",
           "marker": {
            "color": "Red",
            "symbol": "circle"
           },
           "mode": "markers",
           "name": "LV",
           "orientation": "v",
           "showlegend": true,
           "type": "scatter",
           "x": [
            41.03,
            40.97,
            38.79,
            36.69,
            37.28,
            37.23,
            37.09,
            37.63,
            36.17,
            37.08,
            37.08
           ],
           "xaxis": "x",
           "y": [
            32.89,
            29.5,
            30.67,
            9.65,
            32.6,
            26.47,
            33.91,
            18.6,
            29.76,
            28.05,
            31.11
           ],
           "yaxis": "y"
          },
          {
           "hovertemplate": "club=LAC<br>frameId=86<br>x=%{x}<br>y=%{y}<extra></extra>",
           "legendgroup": "LAC",
           "marker": {
            "color": "Black",
            "symbol": "circle"
           },
           "mode": "markers",
           "name": "LAC",
           "orientation": "v",
           "showlegend": true,
           "type": "scatter",
           "x": [
            33.79,
            35.56,
            35.23,
            31.84,
            28.71,
            35.06,
            20.14,
            31.03,
            30.96,
            34.55,
            35.65
           ],
           "xaxis": "x",
           "y": [
            18.63,
            23.04,
            27.56,
            39.99,
            35.63,
            30.68,
            22.72,
            27.22,
            30.88,
            9.27,
            35.72
           ],
           "yaxis": "y"
          },
          {
           "hovertemplate": "club=football<br>frameId=86<br>x=%{x}<br>y=%{y}<extra></extra>",
           "legendgroup": "football",
           "marker": {
            "color": "Grey",
            "symbol": "circle"
           },
           "mode": "markers",
           "name": "football",
           "orientation": "v",
           "showlegend": true,
           "type": "scatter",
           "x": [
            36.0099983215332
           ],
           "xaxis": "x",
           "y": [
            29.7099990844727
           ],
           "yaxis": "y"
          }
         ],
         "name": "86"
        },
        {
         "data": [
          {
           "hovertemplate": "club=LV<br>frameId=87<br>x=%{x}<br>y=%{y}<extra></extra>",
           "legendgroup": "LV",
           "marker": {
            "color": "Red",
            "symbol": "circle"
           },
           "mode": "markers",
           "name": "LV",
           "orientation": "v",
           "showlegend": true,
           "type": "scatter",
           "x": [
            41.03,
            40.97,
            38.79,
            36.69,
            37.28,
            37.23,
            37.09,
            37.63,
            36.17,
            37.08,
            37.08
           ],
           "xaxis": "x",
           "y": [
            32.89,
            29.5,
            31.14,
            9.64,
            32.6,
            26.47,
            33.91,
            18.6,
            29.76,
            28.05,
            31.11
           ],
           "yaxis": "y"
          },
          {
           "hovertemplate": "club=LAC<br>frameId=87<br>x=%{x}<br>y=%{y}<extra></extra>",
           "legendgroup": "LAC",
           "marker": {
            "color": "Black",
            "symbol": "circle"
           },
           "mode": "markers",
           "name": "LAC",
           "orientation": "v",
           "showlegend": true,
           "type": "scatter",
           "x": [
            33.82,
            35.55,
            35.24,
            31.81,
            28.87,
            35.06,
            20.1,
            31.04,
            30.95,
            34.56,
            35.67
           ],
           "xaxis": "x",
           "y": [
            18.63,
            23.04,
            27.56,
            40.13,
            35.69,
            30.67,
            22.75,
            27.32,
            30.91,
            9.28,
            35.74
           ],
           "yaxis": "y"
          },
          {
           "hovertemplate": "club=football<br>frameId=87<br>x=%{x}<br>y=%{y}<extra></extra>",
           "legendgroup": "football",
           "marker": {
            "color": "Grey",
            "symbol": "circle"
           },
           "mode": "markers",
           "name": "football",
           "orientation": "v",
           "showlegend": true,
           "type": "scatter",
           "x": [
            36
           ],
           "xaxis": "x",
           "y": [
            29.7099990844727
           ],
           "yaxis": "y"
          }
         ],
         "name": "87"
        },
        {
         "data": [
          {
           "hovertemplate": "club=LV<br>frameId=88<br>x=%{x}<br>y=%{y}<extra></extra>",
           "legendgroup": "LV",
           "marker": {
            "color": "Red",
            "symbol": "circle"
           },
           "mode": "markers",
           "name": "LV",
           "orientation": "v",
           "showlegend": true,
           "type": "scatter",
           "x": [
            41.03,
            40.97,
            38.77,
            36.69,
            37.28,
            37.23,
            37.09,
            37.63,
            36.17,
            37.08,
            37.08
           ],
           "xaxis": "x",
           "y": [
            32.89,
            29.49,
            31.62,
            9.64,
            32.6,
            26.47,
            33.91,
            18.6,
            29.76,
            28.05,
            31.11
           ],
           "yaxis": "y"
          },
          {
           "hovertemplate": "club=LAC<br>frameId=88<br>x=%{x}<br>y=%{y}<extra></extra>",
           "legendgroup": "LAC",
           "marker": {
            "color": "Black",
            "symbol": "circle"
           },
           "mode": "markers",
           "name": "LAC",
           "orientation": "v",
           "showlegend": true,
           "type": "scatter",
           "x": [
            33.84,
            35.54,
            35.25,
            31.78,
            29.04,
            35.08,
            20.06,
            31.05,
            30.94,
            34.54,
            35.7
           ],
           "xaxis": "x",
           "y": [
            18.64,
            23.03,
            27.56,
            40.28,
            35.74,
            30.66,
            22.77,
            27.41,
            30.92,
            9.3,
            35.81
           ],
           "yaxis": "y"
          },
          {
           "hovertemplate": "club=football<br>frameId=88<br>x=%{x}<br>y=%{y}<extra></extra>",
           "legendgroup": "football",
           "marker": {
            "color": "Grey",
            "symbol": "circle"
           },
           "mode": "markers",
           "name": "football",
           "orientation": "v",
           "showlegend": true,
           "type": "scatter",
           "x": [
            36
           ],
           "xaxis": "x",
           "y": [
            29.7099990844727
           ],
           "yaxis": "y"
          }
         ],
         "name": "88"
        },
        {
         "data": [
          {
           "hovertemplate": "club=LV<br>frameId=89<br>x=%{x}<br>y=%{y}<extra></extra>",
           "legendgroup": "LV",
           "marker": {
            "color": "Red",
            "symbol": "circle"
           },
           "mode": "markers",
           "name": "LV",
           "orientation": "v",
           "showlegend": true,
           "type": "scatter",
           "x": [
            41.03,
            40.97,
            38.75,
            36.69,
            37.29,
            37.23,
            37.09,
            37.64,
            36.17,
            37.09,
            37.08
           ],
           "xaxis": "x",
           "y": [
            32.89,
            29.49,
            32.08,
            9.65,
            32.61,
            26.46,
            33.91,
            18.6,
            29.76,
            28.05,
            31.11
           ],
           "yaxis": "y"
          },
          {
           "hovertemplate": "club=LAC<br>frameId=89<br>x=%{x}<br>y=%{y}<extra></extra>",
           "legendgroup": "LAC",
           "marker": {
            "color": "Black",
            "symbol": "circle"
           },
           "mode": "markers",
           "name": "LAC",
           "orientation": "v",
           "showlegend": true,
           "type": "scatter",
           "x": [
            33.86,
            35.54,
            35.24,
            31.74,
            29.2,
            35.09,
            20.01,
            31.07,
            30.93,
            34.53,
            35.7
           ],
           "xaxis": "x",
           "y": [
            18.65,
            23.02,
            27.57,
            40.41,
            35.79,
            30.65,
            22.8,
            27.5,
            30.94,
            9.31,
            35.81
           ],
           "yaxis": "y"
          },
          {
           "hovertemplate": "club=football<br>frameId=89<br>x=%{x}<br>y=%{y}<extra></extra>",
           "legendgroup": "football",
           "marker": {
            "color": "Grey",
            "symbol": "circle"
           },
           "mode": "markers",
           "name": "football",
           "orientation": "v",
           "showlegend": true,
           "type": "scatter",
           "x": [
            36
           ],
           "xaxis": "x",
           "y": [
            29.7099990844727
           ],
           "yaxis": "y"
          }
         ],
         "name": "89"
        },
        {
         "data": [
          {
           "hovertemplate": "club=LV<br>frameId=90<br>x=%{x}<br>y=%{y}<extra></extra>",
           "legendgroup": "LV",
           "marker": {
            "color": "Red",
            "symbol": "circle"
           },
           "mode": "markers",
           "name": "LV",
           "orientation": "v",
           "showlegend": true,
           "type": "scatter",
           "x": [
            41.03,
            40.97,
            38.73,
            36.69,
            37.3,
            37.23,
            37.09,
            37.63,
            36.17,
            37.09,
            37.08
           ],
           "xaxis": "x",
           "y": [
            32.89,
            29.49,
            32.55,
            9.65,
            32.62,
            26.46,
            33.91,
            18.6,
            29.76,
            28.05,
            31.11
           ],
           "yaxis": "y"
          },
          {
           "hovertemplate": "club=LAC<br>frameId=90<br>x=%{x}<br>y=%{y}<extra></extra>",
           "legendgroup": "LAC",
           "marker": {
            "color": "Black",
            "symbol": "circle"
           },
           "mode": "markers",
           "name": "LAC",
           "orientation": "v",
           "showlegend": true,
           "type": "scatter",
           "x": [
            33.87,
            35.54,
            35.24,
            31.7,
            29.36,
            35.09,
            19.97,
            31.08,
            30.93,
            34.54,
            35.7
           ],
           "xaxis": "x",
           "y": [
            18.65,
            23.01,
            27.57,
            40.54,
            35.84,
            30.65,
            22.81,
            27.58,
            30.95,
            9.3,
            35.8
           ],
           "yaxis": "y"
          },
          {
           "hovertemplate": "club=football<br>frameId=90<br>x=%{x}<br>y=%{y}<extra></extra>",
           "legendgroup": "football",
           "marker": {
            "color": "Grey",
            "symbol": "circle"
           },
           "mode": "markers",
           "name": "football",
           "orientation": "v",
           "showlegend": true,
           "type": "scatter",
           "x": [
            36
           ],
           "xaxis": "x",
           "y": [
            29.7099990844727
           ],
           "yaxis": "y"
          }
         ],
         "name": "90"
        },
        {
         "data": [
          {
           "hovertemplate": "club=LV<br>frameId=91<br>x=%{x}<br>y=%{y}<extra></extra>",
           "legendgroup": "LV",
           "marker": {
            "color": "Red",
            "symbol": "circle"
           },
           "mode": "markers",
           "name": "LV",
           "orientation": "v",
           "showlegend": true,
           "type": "scatter",
           "x": [
            41.03,
            40.96,
            38.7,
            36.69,
            37.3,
            37.23,
            37.09,
            37.63,
            36.18,
            37.08,
            37.08
           ],
           "xaxis": "x",
           "y": [
            32.89,
            29.49,
            33.01,
            9.66,
            32.62,
            26.46,
            33.9,
            18.59,
            29.75,
            28.06,
            31.11
           ],
           "yaxis": "y"
          },
          {
           "hovertemplate": "club=LAC<br>frameId=91<br>x=%{x}<br>y=%{y}<extra></extra>",
           "legendgroup": "LAC",
           "marker": {
            "color": "Black",
            "symbol": "circle"
           },
           "mode": "markers",
           "name": "LAC",
           "orientation": "v",
           "showlegend": true,
           "type": "scatter",
           "x": [
            33.89,
            35.54,
            35.24,
            31.67,
            29.51,
            35.09,
            19.93,
            31.1,
            30.92,
            34.51,
            35.7
           ],
           "xaxis": "x",
           "y": [
            18.66,
            23.01,
            27.58,
            40.66,
            35.88,
            30.64,
            22.83,
            27.66,
            30.97,
            9.33,
            35.8
           ],
           "yaxis": "y"
          },
          {
           "hovertemplate": "club=football<br>frameId=91<br>x=%{x}<br>y=%{y}<extra></extra>",
           "legendgroup": "football",
           "marker": {
            "color": "Grey",
            "symbol": "circle"
           },
           "mode": "markers",
           "name": "football",
           "orientation": "v",
           "showlegend": true,
           "type": "scatter",
           "x": [
            36.0099983215332
           ],
           "xaxis": "x",
           "y": [
            29.7099990844727
           ],
           "yaxis": "y"
          }
         ],
         "name": "91"
        },
        {
         "data": [
          {
           "hovertemplate": "club=LV<br>frameId=92<br>x=%{x}<br>y=%{y}<extra></extra>",
           "legendgroup": "LV",
           "marker": {
            "color": "Red",
            "symbol": "circle"
           },
           "mode": "markers",
           "name": "LV",
           "orientation": "v",
           "showlegend": true,
           "type": "scatter",
           "x": [
            41.04,
            40.96,
            38.67,
            36.69,
            37.3,
            37.22,
            37.09,
            37.63,
            36.18,
            37.08,
            37.08
           ],
           "xaxis": "x",
           "y": [
            32.89,
            29.49,
            33.46,
            9.66,
            32.62,
            26.46,
            33.9,
            18.6,
            29.75,
            28.06,
            31.11
           ],
           "yaxis": "y"
          },
          {
           "hovertemplate": "club=LAC<br>frameId=92<br>x=%{x}<br>y=%{y}<extra></extra>",
           "legendgroup": "LAC",
           "marker": {
            "color": "Black",
            "symbol": "circle"
           },
           "mode": "markers",
           "name": "LAC",
           "orientation": "v",
           "showlegend": true,
           "type": "scatter",
           "x": [
            33.9,
            35.54,
            35.25,
            31.65,
            29.65,
            35.1,
            19.87,
            31.11,
            30.92,
            34.49,
            35.73
           ],
           "xaxis": "x",
           "y": [
            18.66,
            23,
            27.59,
            40.77,
            35.9,
            30.64,
            22.86,
            27.72,
            30.97,
            9.35,
            35.83
           ],
           "yaxis": "y"
          },
          {
           "hovertemplate": "club=football<br>frameId=92<br>x=%{x}<br>y=%{y}<extra></extra>",
           "legendgroup": "football",
           "marker": {
            "color": "Grey",
            "symbol": "circle"
           },
           "mode": "markers",
           "name": "football",
           "orientation": "v",
           "showlegend": true,
           "type": "scatter",
           "x": [
            36.0099983215332
           ],
           "xaxis": "x",
           "y": [
            29.7099990844727
           ],
           "yaxis": "y"
          }
         ],
         "name": "92"
        },
        {
         "data": [
          {
           "hovertemplate": "club=LV<br>frameId=93<br>x=%{x}<br>y=%{y}<extra></extra>",
           "legendgroup": "LV",
           "marker": {
            "color": "Red",
            "symbol": "circle"
           },
           "mode": "markers",
           "name": "LV",
           "orientation": "v",
           "showlegend": true,
           "type": "scatter",
           "x": [
            41.04,
            40.95,
            38.63,
            36.68,
            37.31,
            37.22,
            37.09,
            37.63,
            36.19,
            37.09,
            37.08
           ],
           "xaxis": "x",
           "y": [
            32.89,
            29.49,
            33.91,
            9.66,
            32.63,
            26.46,
            33.9,
            18.6,
            29.75,
            28.06,
            31.11
           ],
           "yaxis": "y"
          },
          {
           "hovertemplate": "club=LAC<br>frameId=93<br>x=%{x}<br>y=%{y}<extra></extra>",
           "legendgroup": "LAC",
           "marker": {
            "color": "Black",
            "symbol": "circle"
           },
           "mode": "markers",
           "name": "LAC",
           "orientation": "v",
           "showlegend": true,
           "type": "scatter",
           "x": [
            33.91,
            35.54,
            35.25,
            31.62,
            29.78,
            35.1,
            19.8,
            31.13,
            30.91,
            34.48,
            35.73
           ],
           "xaxis": "x",
           "y": [
            18.66,
            23,
            27.6,
            40.88,
            35.94,
            30.64,
            22.89,
            27.77,
            30.98,
            9.36,
            35.82
           ],
           "yaxis": "y"
          },
          {
           "hovertemplate": "club=football<br>frameId=93<br>x=%{x}<br>y=%{y}<extra></extra>",
           "legendgroup": "football",
           "marker": {
            "color": "Grey",
            "symbol": "circle"
           },
           "mode": "markers",
           "name": "football",
           "orientation": "v",
           "showlegend": true,
           "type": "scatter",
           "x": [
            36.0099983215332
           ],
           "xaxis": "x",
           "y": [
            29.7099990844727
           ],
           "yaxis": "y"
          }
         ],
         "name": "93"
        },
        {
         "data": [
          {
           "hovertemplate": "club=LV<br>frameId=94<br>x=%{x}<br>y=%{y}<extra></extra>",
           "legendgroup": "LV",
           "marker": {
            "color": "Red",
            "symbol": "circle"
           },
           "mode": "markers",
           "name": "LV",
           "orientation": "v",
           "showlegend": true,
           "type": "scatter",
           "x": [
            41.04,
            40.95,
            38.6,
            36.68,
            37.32,
            37.22,
            37.09,
            37.63,
            36.19,
            37.09,
            37.08
           ],
           "xaxis": "x",
           "y": [
            32.89,
            29.49,
            34.36,
            9.65,
            32.64,
            26.46,
            33.89,
            18.6,
            29.73,
            28.06,
            31.11
           ],
           "yaxis": "y"
          },
          {
           "hovertemplate": "club=LAC<br>frameId=94<br>x=%{x}<br>y=%{y}<extra></extra>",
           "legendgroup": "LAC",
           "marker": {
            "color": "Black",
            "symbol": "circle"
           },
           "mode": "markers",
           "name": "LAC",
           "orientation": "v",
           "showlegend": true,
           "type": "scatter",
           "x": [
            33.93,
            35.55,
            35.25,
            31.61,
            29.89,
            35.1,
            19.72,
            31.14,
            30.91,
            34.49,
            35.74
           ],
           "xaxis": "x",
           "y": [
            18.66,
            23,
            27.62,
            40.98,
            35.99,
            30.63,
            22.92,
            27.8,
            31.01,
            9.37,
            35.84
           ],
           "yaxis": "y"
          },
          {
           "hovertemplate": "club=football<br>frameId=94<br>x=%{x}<br>y=%{y}<extra></extra>",
           "legendgroup": "football",
           "marker": {
            "color": "Grey",
            "symbol": "circle"
           },
           "mode": "markers",
           "name": "football",
           "orientation": "v",
           "showlegend": true,
           "type": "scatter",
           "x": [
            36
           ],
           "xaxis": "x",
           "y": [
            29.7099990844727
           ],
           "yaxis": "y"
          }
         ],
         "name": "94"
        },
        {
         "data": [
          {
           "hovertemplate": "club=LV<br>frameId=95<br>x=%{x}<br>y=%{y}<extra></extra>",
           "legendgroup": "LV",
           "marker": {
            "color": "Red",
            "symbol": "circle"
           },
           "mode": "markers",
           "name": "LV",
           "orientation": "v",
           "showlegend": true,
           "type": "scatter",
           "x": [
            41.05,
            40.94,
            38.56,
            36.68,
            37.34,
            37.22,
            37.08,
            37.63,
            36.2,
            37.09,
            37.08
           ],
           "xaxis": "x",
           "y": [
            32.89,
            29.49,
            34.79,
            9.65,
            32.67,
            26.46,
            33.9,
            18.6,
            29.73,
            28.06,
            31.11
           ],
           "yaxis": "y"
          },
          {
           "hovertemplate": "club=LAC<br>frameId=95<br>x=%{x}<br>y=%{y}<extra></extra>",
           "legendgroup": "LAC",
           "marker": {
            "color": "Black",
            "symbol": "circle"
           },
           "mode": "markers",
           "name": "LAC",
           "orientation": "v",
           "showlegend": true,
           "type": "scatter",
           "x": [
            33.95,
            35.55,
            35.25,
            31.61,
            29.98,
            35.11,
            19.64,
            31.15,
            30.91,
            34.49,
            35.75
           ],
           "xaxis": "x",
           "y": [
            18.66,
            23,
            27.62,
            41.07,
            36.04,
            30.63,
            22.95,
            27.84,
            31.01,
            9.38,
            35.87
           ],
           "yaxis": "y"
          },
          {
           "hovertemplate": "club=football<br>frameId=95<br>x=%{x}<br>y=%{y}<extra></extra>",
           "legendgroup": "football",
           "marker": {
            "color": "Grey",
            "symbol": "circle"
           },
           "mode": "markers",
           "name": "football",
           "orientation": "v",
           "showlegend": true,
           "type": "scatter",
           "x": [
            36
           ],
           "xaxis": "x",
           "y": [
            29.7099990844727
           ],
           "yaxis": "y"
          }
         ],
         "name": "95"
        },
        {
         "data": [
          {
           "hovertemplate": "club=LV<br>frameId=96<br>x=%{x}<br>y=%{y}<extra></extra>",
           "legendgroup": "LV",
           "marker": {
            "color": "Red",
            "symbol": "circle"
           },
           "mode": "markers",
           "name": "LV",
           "orientation": "v",
           "showlegend": true,
           "type": "scatter",
           "x": [
            41.05,
            40.94,
            38.52,
            36.68,
            37.36,
            37.22,
            37.08,
            37.64,
            36.2,
            37.09,
            37.08
           ],
           "xaxis": "x",
           "y": [
            32.89,
            29.49,
            35.22,
            9.65,
            32.69,
            26.46,
            33.9,
            18.6,
            29.72,
            28.06,
            31.12
           ],
           "yaxis": "y"
          },
          {
           "hovertemplate": "club=LAC<br>frameId=96<br>x=%{x}<br>y=%{y}<extra></extra>",
           "legendgroup": "LAC",
           "marker": {
            "color": "Black",
            "symbol": "circle"
           },
           "mode": "markers",
           "name": "LAC",
           "orientation": "v",
           "showlegend": true,
           "type": "scatter",
           "x": [
            33.96,
            35.55,
            35.26,
            31.62,
            30.05,
            35.11,
            19.57,
            31.16,
            30.9,
            34.49,
            35.75
           ],
           "xaxis": "x",
           "y": [
            18.65,
            23,
            27.62,
            41.15,
            36.11,
            30.62,
            22.97,
            27.86,
            31.03,
            9.38,
            35.91
           ],
           "yaxis": "y"
          },
          {
           "hovertemplate": "club=football<br>frameId=96<br>x=%{x}<br>y=%{y}<extra></extra>",
           "legendgroup": "football",
           "marker": {
            "color": "Grey",
            "symbol": "circle"
           },
           "mode": "markers",
           "name": "football",
           "orientation": "v",
           "showlegend": true,
           "type": "scatter",
           "x": [
            36
           ],
           "xaxis": "x",
           "y": [
            29.7099990844727
           ],
           "yaxis": "y"
          }
         ],
         "name": "96"
        },
        {
         "data": [
          {
           "hovertemplate": "club=LV<br>frameId=97<br>x=%{x}<br>y=%{y}<extra></extra>",
           "legendgroup": "LV",
           "marker": {
            "color": "Red",
            "symbol": "circle"
           },
           "mode": "markers",
           "name": "LV",
           "orientation": "v",
           "showlegend": true,
           "type": "scatter",
           "x": [
            41.05,
            40.94,
            38.48,
            36.68,
            37.38,
            37.22,
            37.08,
            37.64,
            36.21,
            37.09,
            37.08
           ],
           "xaxis": "x",
           "y": [
            32.89,
            29.48,
            35.63,
            9.65,
            32.69,
            26.46,
            33.9,
            18.6,
            29.72,
            28.06,
            31.12
           ],
           "yaxis": "y"
          },
          {
           "hovertemplate": "club=LAC<br>frameId=97<br>x=%{x}<br>y=%{y}<extra></extra>",
           "legendgroup": "LAC",
           "marker": {
            "color": "Black",
            "symbol": "circle"
           },
           "mode": "markers",
           "name": "LAC",
           "orientation": "v",
           "showlegend": true,
           "type": "scatter",
           "x": [
            33.97,
            35.55,
            35.26,
            31.64,
            30.1,
            35.11,
            19.49,
            31.16,
            30.89,
            34.48,
            35.76
           ],
           "xaxis": "x",
           "y": [
            18.65,
            23,
            27.63,
            41.22,
            36.17,
            30.62,
            22.99,
            27.87,
            31.08,
            9.39,
            35.9
           ],
           "yaxis": "y"
          },
          {
           "hovertemplate": "club=football<br>frameId=97<br>x=%{x}<br>y=%{y}<extra></extra>",
           "legendgroup": "football",
           "marker": {
            "color": "Grey",
            "symbol": "circle"
           },
           "mode": "markers",
           "name": "football",
           "orientation": "v",
           "showlegend": true,
           "type": "scatter",
           "x": [
            36
           ],
           "xaxis": "x",
           "y": [
            29.7099990844727
           ],
           "yaxis": "y"
          }
         ],
         "name": "97"
        },
        {
         "data": [
          {
           "hovertemplate": "club=LV<br>frameId=98<br>x=%{x}<br>y=%{y}<extra></extra>",
           "legendgroup": "LV",
           "marker": {
            "color": "Red",
            "symbol": "circle"
           },
           "mode": "markers",
           "name": "LV",
           "orientation": "v",
           "showlegend": true,
           "type": "scatter",
           "x": [
            41.05,
            40.93,
            38.43,
            36.68,
            37.43,
            37.22,
            37.08,
            37.64,
            36.23,
            37.09,
            37.08
           ],
           "xaxis": "x",
           "y": [
            32.89,
            29.49,
            36.02,
            9.65,
            32.68,
            26.46,
            33.91,
            18.6,
            29.71,
            28.06,
            31.12
           ],
           "yaxis": "y"
          },
          {
           "hovertemplate": "club=LAC<br>frameId=98<br>x=%{x}<br>y=%{y}<extra></extra>",
           "legendgroup": "LAC",
           "marker": {
            "color": "Black",
            "symbol": "circle"
           },
           "mode": "markers",
           "name": "LAC",
           "orientation": "v",
           "showlegend": true,
           "type": "scatter",
           "x": [
            33.96,
            35.55,
            35.27,
            31.69,
            30.13,
            35.12,
            19.42,
            31.16,
            30.87,
            34.48,
            35.76
           ],
           "xaxis": "x",
           "y": [
            18.63,
            23.01,
            27.64,
            41.28,
            36.23,
            30.63,
            22.99,
            27.88,
            31.13,
            9.4,
            35.9
           ],
           "yaxis": "y"
          },
          {
           "hovertemplate": "club=football<br>frameId=98<br>x=%{x}<br>y=%{y}<extra></extra>",
           "legendgroup": "football",
           "marker": {
            "color": "Grey",
            "symbol": "circle"
           },
           "mode": "markers",
           "name": "football",
           "orientation": "v",
           "showlegend": true,
           "type": "scatter",
           "x": [
            36
           ],
           "xaxis": "x",
           "y": [
            29.7099990844727
           ],
           "yaxis": "y"
          }
         ],
         "name": "98"
        },
        {
         "data": [
          {
           "hovertemplate": "club=LV<br>frameId=99<br>x=%{x}<br>y=%{y}<extra></extra>",
           "legendgroup": "LV",
           "marker": {
            "color": "Red",
            "symbol": "circle"
           },
           "mode": "markers",
           "name": "LV",
           "orientation": "v",
           "showlegend": true,
           "type": "scatter",
           "x": [
            41.05,
            40.93,
            38.38,
            36.68,
            37.48,
            37.23,
            37.07,
            37.64,
            36.24,
            37.09,
            37.08
           ],
           "xaxis": "x",
           "y": [
            32.89,
            29.49,
            36.39,
            9.65,
            32.69,
            26.45,
            33.91,
            18.61,
            29.71,
            28.06,
            31.12
           ],
           "yaxis": "y"
          },
          {
           "hovertemplate": "club=LAC<br>frameId=99<br>x=%{x}<br>y=%{y}<extra></extra>",
           "legendgroup": "LAC",
           "marker": {
            "color": "Black",
            "symbol": "circle"
           },
           "mode": "markers",
           "name": "LAC",
           "orientation": "v",
           "showlegend": true,
           "type": "scatter",
           "x": [
            33.97,
            35.55,
            35.28,
            31.76,
            30.12,
            35.13,
            19.35,
            31.17,
            30.85,
            34.5,
            35.79
           ],
           "xaxis": "x",
           "y": [
            18.61,
            23.01,
            27.65,
            41.34,
            36.3,
            30.63,
            22.98,
            27.88,
            31.21,
            9.39,
            35.91
           ],
           "yaxis": "y"
          },
          {
           "hovertemplate": "club=football<br>frameId=99<br>x=%{x}<br>y=%{y}<extra></extra>",
           "legendgroup": "football",
           "marker": {
            "color": "Grey",
            "symbol": "circle"
           },
           "mode": "markers",
           "name": "football",
           "orientation": "v",
           "showlegend": true,
           "type": "scatter",
           "x": [
            36
           ],
           "xaxis": "x",
           "y": [
            29.7099990844727
           ],
           "yaxis": "y"
          }
         ],
         "name": "99"
        },
        {
         "data": [
          {
           "hovertemplate": "club=LV<br>frameId=100<br>x=%{x}<br>y=%{y}<extra></extra>",
           "legendgroup": "LV",
           "marker": {
            "color": "Red",
            "symbol": "circle"
           },
           "mode": "markers",
           "name": "LV",
           "orientation": "v",
           "showlegend": true,
           "type": "scatter",
           "x": [
            41.05,
            40.93,
            38.33,
            36.68,
            37.55,
            37.24,
            37.07,
            37.64,
            36.27,
            37.09,
            37.08
           ],
           "xaxis": "x",
           "y": [
            32.89,
            29.49,
            36.74,
            9.64,
            32.69,
            26.45,
            33.91,
            18.61,
            29.7,
            28.05,
            31.12
           ],
           "yaxis": "y"
          },
          {
           "hovertemplate": "club=LAC<br>frameId=100<br>x=%{x}<br>y=%{y}<extra></extra>",
           "legendgroup": "LAC",
           "marker": {
            "color": "Black",
            "symbol": "circle"
           },
           "mode": "markers",
           "name": "LAC",
           "orientation": "v",
           "showlegend": true,
           "type": "scatter",
           "x": [
            33.97,
            35.57,
            35.29,
            31.85,
            30.09,
            35.15,
            19.28,
            31.17,
            30.83,
            34.5,
            35.81
           ],
           "xaxis": "x",
           "y": [
            18.57,
            23.02,
            27.66,
            41.38,
            36.37,
            30.64,
            22.94,
            27.88,
            31.29,
            9.4,
            35.91
           ],
           "yaxis": "y"
          },
          {
           "hovertemplate": "club=football<br>frameId=100<br>x=%{x}<br>y=%{y}<extra></extra>",
           "legendgroup": "football",
           "marker": {
            "color": "Grey",
            "symbol": "circle"
           },
           "mode": "markers",
           "name": "football",
           "orientation": "v",
           "showlegend": true,
           "type": "scatter",
           "x": [
            36
           ],
           "xaxis": "x",
           "y": [
            29.7099990844727
           ],
           "yaxis": "y"
          }
         ],
         "name": "100"
        },
        {
         "data": [
          {
           "hovertemplate": "club=LV<br>frameId=101<br>x=%{x}<br>y=%{y}<extra></extra>",
           "legendgroup": "LV",
           "marker": {
            "color": "Red",
            "symbol": "circle"
           },
           "mode": "markers",
           "name": "LV",
           "orientation": "v",
           "showlegend": true,
           "type": "scatter",
           "x": [
            41.04,
            40.93,
            38.27,
            36.68,
            37.63,
            37.26,
            37.06,
            37.63,
            36.32,
            37.1,
            37.09
           ],
           "xaxis": "x",
           "y": [
            32.9,
            29.49,
            37.09,
            9.64,
            32.7,
            26.44,
            33.91,
            18.61,
            29.67,
            28.05,
            31.12
           ],
           "yaxis": "y"
          },
          {
           "hovertemplate": "club=LAC<br>frameId=101<br>x=%{x}<br>y=%{y}<extra></extra>",
           "legendgroup": "LAC",
           "marker": {
            "color": "Black",
            "symbol": "circle"
           },
           "mode": "markers",
           "name": "LAC",
           "orientation": "v",
           "showlegend": true,
           "type": "scatter",
           "x": [
            33.96,
            35.61,
            35.33,
            31.96,
            30.02,
            35.17,
            19.21,
            31.16,
            30.82,
            34.49,
            35.85
           ],
           "xaxis": "x",
           "y": [
            18.54,
            23.03,
            27.69,
            41.43,
            36.44,
            30.66,
            22.89,
            27.88,
            31.38,
            9.39,
            35.92
           ],
           "yaxis": "y"
          },
          {
           "hovertemplate": "club=football<br>frameId=101<br>x=%{x}<br>y=%{y}<extra></extra>",
           "legendgroup": "football",
           "marker": {
            "color": "Grey",
            "symbol": "circle"
           },
           "mode": "markers",
           "name": "football",
           "orientation": "v",
           "showlegend": true,
           "type": "scatter",
           "x": [
            37.2099990844727
           ],
           "xaxis": "x",
           "y": [
            29.5900001525879
           ],
           "yaxis": "y"
          }
         ],
         "name": "101"
        },
        {
         "data": [
          {
           "hovertemplate": "club=LV<br>frameId=102<br>x=%{x}<br>y=%{y}<extra></extra>",
           "legendgroup": "LV",
           "marker": {
            "color": "Red",
            "symbol": "circle"
           },
           "mode": "markers",
           "name": "LV",
           "orientation": "v",
           "showlegend": true,
           "type": "scatter",
           "x": [
            41.04,
            40.94,
            38.2,
            36.67,
            37.73,
            37.32,
            37.02,
            37.63,
            36.4,
            37.11,
            37.1
           ],
           "xaxis": "x",
           "y": [
            32.91,
            29.49,
            37.41,
            9.63,
            32.7,
            26.43,
            33.89,
            18.61,
            29.63,
            28.03,
            31.11
           ],
           "yaxis": "y"
          },
          {
           "hovertemplate": "club=LAC<br>frameId=102<br>x=%{x}<br>y=%{y}<extra></extra>",
           "legendgroup": "LAC",
           "marker": {
            "color": "Black",
            "symbol": "circle"
           },
           "mode": "markers",
           "name": "LAC",
           "orientation": "v",
           "showlegend": true,
           "type": "scatter",
           "x": [
            33.93,
            35.7,
            35.39,
            32.08,
            29.91,
            35.23,
            19.13,
            31.15,
            30.8,
            34.47,
            35.92
           ],
           "xaxis": "x",
           "y": [
            18.51,
            23.06,
            27.74,
            41.48,
            36.53,
            30.7,
            22.8,
            27.88,
            31.47,
            9.37,
            35.92
           ],
           "yaxis": "y"
          },
          {
           "hovertemplate": "club=football<br>frameId=102<br>x=%{x}<br>y=%{y}<extra></extra>",
           "legendgroup": "football",
           "marker": {
            "color": "Grey",
            "symbol": "circle"
           },
           "mode": "markers",
           "name": "football",
           "orientation": "v",
           "showlegend": true,
           "type": "scatter",
           "x": [
            37.9199981689453
           ],
           "xaxis": "x",
           "y": [
            29.5799999237061
           ],
           "yaxis": "y"
          }
         ],
         "name": "102"
        },
        {
         "data": [
          {
           "hovertemplate": "club=LV<br>frameId=103<br>x=%{x}<br>y=%{y}<extra></extra>",
           "legendgroup": "LV",
           "marker": {
            "color": "Red",
            "symbol": "circle"
           },
           "mode": "markers",
           "name": "LV",
           "orientation": "v",
           "showlegend": true,
           "type": "scatter",
           "x": [
            41.02,
            40.95,
            38.11,
            36.64,
            37.84,
            37.44,
            36.94,
            37.6,
            36.51,
            37.14,
            37.11
           ],
           "xaxis": "x",
           "y": [
            32.93,
            29.48,
            37.72,
            9.61,
            32.71,
            26.39,
            33.86,
            18.62,
            29.58,
            28.02,
            31.11
           ],
           "yaxis": "y"
          },
          {
           "hovertemplate": "club=LAC<br>frameId=103<br>x=%{x}<br>y=%{y}<extra></extra>",
           "legendgroup": "LAC",
           "marker": {
            "color": "Black",
            "symbol": "circle"
           },
           "mode": "markers",
           "name": "LAC",
           "orientation": "v",
           "showlegend": true,
           "type": "scatter",
           "x": [
            33.89,
            35.83,
            35.48,
            32.18,
            29.77,
            35.32,
            19.04,
            31.14,
            30.78,
            34.45,
            36.04
           ],
           "xaxis": "x",
           "y": [
            18.5,
            23.1,
            27.82,
            41.52,
            36.62,
            30.75,
            22.68,
            27.87,
            31.59,
            9.33,
            35.91
           ],
           "yaxis": "y"
          },
          {
           "hovertemplate": "club=football<br>frameId=103<br>x=%{x}<br>y=%{y}<extra></extra>",
           "legendgroup": "football",
           "marker": {
            "color": "Grey",
            "symbol": "circle"
           },
           "mode": "markers",
           "name": "football",
           "orientation": "v",
           "showlegend": true,
           "type": "scatter",
           "x": [
            38.5200004577637
           ],
           "xaxis": "x",
           "y": [
            29.5799999237061
           ],
           "yaxis": "y"
          }
         ],
         "name": "103"
        },
        {
         "data": [
          {
           "hovertemplate": "club=LV<br>frameId=104<br>x=%{x}<br>y=%{y}<extra></extra>",
           "legendgroup": "LV",
           "marker": {
            "color": "Red",
            "symbol": "circle"
           },
           "mode": "markers",
           "name": "LV",
           "orientation": "v",
           "showlegend": true,
           "type": "scatter",
           "x": [
            40.99,
            40.95,
            38,
            36.57,
            37.98,
            37.58,
            36.82,
            37.55,
            36.64,
            37.18,
            37.14
           ],
           "xaxis": "x",
           "y": [
            32.98,
            29.48,
            38.01,
            9.57,
            32.72,
            26.34,
            33.8,
            18.62,
            29.52,
            28.01,
            31.1
           ],
           "yaxis": "y"
          },
          {
           "hovertemplate": "club=LAC<br>frameId=104<br>x=%{x}<br>y=%{y}<extra></extra>",
           "legendgroup": "LAC",
           "marker": {
            "color": "Black",
            "symbol": "circle"
           },
           "mode": "markers",
           "name": "LAC",
           "orientation": "v",
           "showlegend": true,
           "type": "scatter",
           "x": [
            33.82,
            36,
            35.61,
            32.28,
            29.59,
            35.43,
            18.94,
            31.11,
            30.76,
            34.45,
            36.22
           ],
           "xaxis": "x",
           "y": [
            18.51,
            23.15,
            27.91,
            41.56,
            36.73,
            30.82,
            22.53,
            27.86,
            31.7,
            9.31,
            35.88
           ],
           "yaxis": "y"
          },
          {
           "hovertemplate": "club=football<br>frameId=104<br>x=%{x}<br>y=%{y}<extra></extra>",
           "legendgroup": "football",
           "marker": {
            "color": "Grey",
            "symbol": "circle"
           },
           "mode": "markers",
           "name": "football",
           "orientation": "v",
           "showlegend": true,
           "type": "scatter",
           "x": [
            39.1300010681152
           ],
           "xaxis": "x",
           "y": [
            29.5699996948242
           ],
           "yaxis": "y"
          }
         ],
         "name": "104"
        },
        {
         "data": [
          {
           "hovertemplate": "club=LV<br>frameId=105<br>x=%{x}<br>y=%{y}<extra></extra>",
           "legendgroup": "LV",
           "marker": {
            "color": "Red",
            "symbol": "circle"
           },
           "mode": "markers",
           "name": "LV",
           "orientation": "v",
           "showlegend": true,
           "type": "scatter",
           "x": [
            40.92,
            40.97,
            37.85,
            36.48,
            38.14,
            37.76,
            36.64,
            37.45,
            36.78,
            37.23,
            37.18
           ],
           "xaxis": "x",
           "y": [
            33.09,
            29.48,
            38.29,
            9.5,
            32.74,
            26.29,
            33.72,
            18.61,
            29.45,
            27.99,
            31.09
           ],
           "yaxis": "y"
          },
          {
           "hovertemplate": "club=LAC<br>frameId=105<br>x=%{x}<br>y=%{y}<extra></extra>",
           "legendgroup": "LAC",
           "marker": {
            "color": "Black",
            "symbol": "circle"
           },
           "mode": "markers",
           "name": "LAC",
           "orientation": "v",
           "showlegend": true,
           "type": "scatter",
           "x": [
            33.73,
            36.22,
            35.78,
            32.38,
            29.37,
            35.56,
            18.81,
            31.08,
            30.73,
            34.44,
            36.45
           ],
           "xaxis": "x",
           "y": [
            18.55,
            23.21,
            28.04,
            41.6,
            36.86,
            30.92,
            22.34,
            27.85,
            31.82,
            9.27,
            35.82
           ],
           "yaxis": "y"
          },
          {
           "hovertemplate": "club=football<br>frameId=105<br>x=%{x}<br>y=%{y}<extra></extra>",
           "legendgroup": "football",
           "marker": {
            "color": "Grey",
            "symbol": "circle"
           },
           "mode": "markers",
           "name": "football",
           "orientation": "v",
           "showlegend": true,
           "type": "scatter",
           "x": [
            39.7700004577637
           ],
           "xaxis": "x",
           "y": [
            29.5599994659424
           ],
           "yaxis": "y"
          }
         ],
         "name": "105"
        },
        {
         "data": [
          {
           "hovertemplate": "club=LV<br>frameId=106<br>x=%{x}<br>y=%{y}<extra></extra>",
           "legendgroup": "LV",
           "marker": {
            "color": "Red",
            "symbol": "circle"
           },
           "mode": "markers",
           "name": "LV",
           "orientation": "v",
           "showlegend": true,
           "type": "scatter",
           "x": [
            40.79,
            41.02,
            37.68,
            36.35,
            38.33,
            37.97,
            36.42,
            37.28,
            36.95,
            37.31,
            37.25
           ],
           "xaxis": "x",
           "y": [
            33.26,
            29.47,
            38.55,
            9.41,
            32.76,
            26.23,
            33.62,
            18.61,
            29.35,
            27.98,
            31.09
           ],
           "yaxis": "y"
          },
          {
           "hovertemplate": "club=LAC<br>frameId=106<br>x=%{x}<br>y=%{y}<extra></extra>",
           "legendgroup": "LAC",
           "marker": {
            "color": "Black",
            "symbol": "circle"
           },
           "mode": "markers",
           "name": "LAC",
           "orientation": "v",
           "showlegend": true,
           "type": "scatter",
           "x": [
            33.61,
            36.49,
            35.98,
            32.47,
            29.12,
            35.73,
            18.66,
            31.02,
            30.69,
            34.43,
            36.71
           ],
           "xaxis": "x",
           "y": [
            18.64,
            23.29,
            28.18,
            41.63,
            37,
            31.05,
            22.12,
            27.84,
            31.93,
            9.22,
            35.75
           ],
           "yaxis": "y"
          },
          {
           "hovertemplate": "club=football<br>frameId=106<br>x=%{x}<br>y=%{y}<extra></extra>",
           "legendgroup": "football",
           "marker": {
            "color": "Grey",
            "symbol": "circle"
           },
           "mode": "markers",
           "name": "football",
           "orientation": "v",
           "showlegend": true,
           "type": "scatter",
           "x": [
            40.3499984741211
           ],
           "xaxis": "x",
           "y": [
            29.5400009155273
           ],
           "yaxis": "y"
          }
         ],
         "name": "106"
        },
        {
         "data": [
          {
           "hovertemplate": "club=LV<br>frameId=107<br>x=%{x}<br>y=%{y}<extra></extra>",
           "legendgroup": "LV",
           "marker": {
            "color": "Red",
            "symbol": "circle"
           },
           "mode": "markers",
           "name": "LV",
           "orientation": "v",
           "showlegend": true,
           "type": "scatter",
           "x": [
            40.61,
            41.09,
            37.47,
            36.17,
            38.55,
            38.21,
            36.16,
            37.08,
            37.1,
            37.4,
            37.35
           ],
           "xaxis": "x",
           "y": [
            33.51,
            29.47,
            38.81,
            9.29,
            32.78,
            26.16,
            33.48,
            18.61,
            29.26,
            27.98,
            31.1
           ],
           "yaxis": "y"
          },
          {
           "hovertemplate": "club=LAC<br>frameId=107<br>x=%{x}<br>y=%{y}<extra></extra>",
           "legendgroup": "LAC",
           "marker": {
            "color": "Black",
            "symbol": "circle"
           },
           "mode": "markers",
           "name": "LAC",
           "orientation": "v",
           "showlegend": true,
           "type": "scatter",
           "x": [
            33.47,
            36.81,
            36.18,
            32.54,
            28.84,
            35.92,
            18.5,
            30.95,
            30.66,
            34.41,
            37.02
           ],
           "xaxis": "x",
           "y": [
            18.76,
            23.39,
            28.32,
            41.67,
            37.15,
            31.21,
            21.88,
            27.84,
            32.02,
            9.16,
            35.64
           ],
           "yaxis": "y"
          },
          {
           "hovertemplate": "club=football<br>frameId=107<br>x=%{x}<br>y=%{y}<extra></extra>",
           "legendgroup": "football",
           "marker": {
            "color": "Grey",
            "symbol": "circle"
           },
           "mode": "markers",
           "name": "football",
           "orientation": "v",
           "showlegend": true,
           "type": "scatter",
           "x": [
            40.8899993896484
           ],
           "xaxis": "x",
           "y": [
            29.5400009155273
           ],
           "yaxis": "y"
          }
         ],
         "name": "107"
        },
        {
         "data": [
          {
           "hovertemplate": "club=LV<br>frameId=108<br>x=%{x}<br>y=%{y}<extra></extra>",
           "legendgroup": "LV",
           "marker": {
            "color": "Red",
            "symbol": "circle"
           },
           "mode": "markers",
           "name": "LV",
           "orientation": "v",
           "showlegend": true,
           "type": "scatter",
           "x": [
            40.41,
            41.2,
            37.23,
            35.97,
            38.77,
            38.47,
            35.85,
            36.83,
            37.26,
            37.5,
            37.47
           ],
           "xaxis": "x",
           "y": [
            33.78,
            29.47,
            39.06,
            9.17,
            32.8,
            26.09,
            33.33,
            18.61,
            29.19,
            27.98,
            31.13
           ],
           "yaxis": "y"
          },
          {
           "hovertemplate": "club=LAC<br>frameId=108<br>x=%{x}<br>y=%{y}<extra></extra>",
           "legendgroup": "LAC",
           "marker": {
            "color": "Black",
            "symbol": "circle"
           },
           "mode": "markers",
           "name": "LAC",
           "orientation": "v",
           "showlegend": true,
           "type": "scatter",
           "x": [
            33.3,
            37.17,
            36.38,
            32.58,
            28.52,
            36.13,
            18.32,
            30.85,
            30.63,
            34.38,
            37.36
           ],
           "xaxis": "x",
           "y": [
            18.92,
            23.5,
            28.45,
            41.71,
            37.31,
            31.38,
            21.61,
            27.84,
            32.13,
            9.06,
            35.5
           ],
           "yaxis": "y"
          },
          {
           "hovertemplate": "club=football<br>frameId=108<br>x=%{x}<br>y=%{y}<extra></extra>",
           "legendgroup": "football",
           "marker": {
            "color": "Grey",
            "symbol": "circle"
           },
           "mode": "markers",
           "name": "football",
           "orientation": "v",
           "showlegend": true,
           "type": "scatter",
           "x": [
            41.3499984741211
           ],
           "xaxis": "x",
           "y": [
            29.5300006866455
           ],
           "yaxis": "y"
          }
         ],
         "name": "108"
        },
        {
         "data": [
          {
           "hovertemplate": "club=LV<br>frameId=109<br>x=%{x}<br>y=%{y}<extra></extra>",
           "legendgroup": "LV",
           "marker": {
            "color": "Red",
            "symbol": "circle"
           },
           "mode": "markers",
           "name": "LV",
           "orientation": "v",
           "showlegend": true,
           "type": "scatter",
           "x": [
            40.16,
            41.33,
            36.93,
            35.73,
            39.03,
            38.76,
            35.5,
            36.54,
            37.43,
            37.61,
            37.6
           ],
           "xaxis": "x",
           "y": [
            34.1,
            29.46,
            39.29,
            9.03,
            32.84,
            26.02,
            33.15,
            18.61,
            29.12,
            27.99,
            31.17
           ],
           "yaxis": "y"
          },
          {
           "hovertemplate": "club=LAC<br>frameId=109<br>x=%{x}<br>y=%{y}<extra></extra>",
           "legendgroup": "LAC",
           "marker": {
            "color": "Black",
            "symbol": "circle"
           },
           "mode": "markers",
           "name": "LAC",
           "orientation": "v",
           "showlegend": true,
           "type": "scatter",
           "x": [
            33.08,
            37.58,
            36.58,
            32.59,
            28.18,
            36.37,
            18.13,
            30.73,
            30.59,
            34.33,
            37.74
           ],
           "xaxis": "x",
           "y": [
            19.11,
            23.64,
            28.57,
            41.75,
            37.48,
            31.57,
            21.31,
            27.84,
            32.24,
            8.89,
            35.33
           ],
           "yaxis": "y"
          },
          {
           "hovertemplate": "club=football<br>frameId=109<br>x=%{x}<br>y=%{y}<extra></extra>",
           "legendgroup": "football",
           "marker": {
            "color": "Grey",
            "symbol": "circle"
           },
           "mode": "markers",
           "name": "football",
           "orientation": "v",
           "showlegend": true,
           "type": "scatter",
           "x": [
            41.7099990844727
           ],
           "xaxis": "x",
           "y": [
            29.5300006866455
           ],
           "yaxis": "y"
          }
         ],
         "name": "109"
        },
        {
         "data": [
          {
           "hovertemplate": "club=LV<br>frameId=110<br>x=%{x}<br>y=%{y}<extra></extra>",
           "legendgroup": "LV",
           "marker": {
            "color": "Red",
            "symbol": "circle"
           },
           "mode": "markers",
           "name": "LV",
           "orientation": "v",
           "showlegend": true,
           "type": "scatter",
           "x": [
            39.89,
            41.49,
            36.59,
            35.46,
            39.31,
            39.06,
            35.1,
            36.2,
            37.58,
            37.75,
            37.75
           ],
           "xaxis": "x",
           "y": [
            34.45,
            29.46,
            39.51,
            8.88,
            32.84,
            25.95,
            32.96,
            18.63,
            29.06,
            27.99,
            31.22
           ],
           "yaxis": "y"
          },
          {
           "hovertemplate": "club=LAC<br>frameId=110<br>x=%{x}<br>y=%{y}<extra></extra>",
           "legendgroup": "LAC",
           "marker": {
            "color": "Black",
            "symbol": "circle"
           },
           "mode": "markers",
           "name": "LAC",
           "orientation": "v",
           "showlegend": true,
           "type": "scatter",
           "x": [
            32.84,
            38.02,
            36.79,
            32.58,
            27.8,
            36.63,
            17.93,
            30.57,
            30.53,
            34.26,
            38.16
           ],
           "xaxis": "x",
           "y": [
            19.31,
            23.81,
            28.67,
            41.8,
            37.66,
            31.79,
            20.99,
            27.86,
            32.36,
            8.68,
            35.14
           ],
           "yaxis": "y"
          },
          {
           "hovertemplate": "club=football<br>frameId=110<br>x=%{x}<br>y=%{y}<extra></extra>",
           "legendgroup": "football",
           "marker": {
            "color": "Grey",
            "symbol": "circle"
           },
           "mode": "markers",
           "name": "football",
           "orientation": "v",
           "showlegend": true,
           "type": "scatter",
           "x": [
            42.060001373291
           ],
           "xaxis": "x",
           "y": [
            29.5300006866455
           ],
           "yaxis": "y"
          }
         ],
         "name": "110"
        },
        {
         "data": [
          {
           "hovertemplate": "club=LV<br>frameId=111<br>x=%{x}<br>y=%{y}<extra></extra>",
           "legendgroup": "LV",
           "marker": {
            "color": "Red",
            "symbol": "circle"
           },
           "mode": "markers",
           "name": "LV",
           "orientation": "v",
           "showlegend": true,
           "type": "scatter",
           "x": [
            39.59,
            41.67,
            36.2,
            35.17,
            39.59,
            39.39,
            34.67,
            35.83,
            37.74,
            37.9,
            37.93
           ],
           "xaxis": "x",
           "y": [
            34.85,
            29.46,
            39.72,
            8.72,
            32.85,
            25.91,
            32.75,
            18.66,
            29,
            28,
            31.3
           ],
           "yaxis": "y"
          },
          {
           "hovertemplate": "club=LAC<br>frameId=111<br>x=%{x}<br>y=%{y}<extra></extra>",
           "legendgroup": "LAC",
           "marker": {
            "color": "Black",
            "symbol": "circle"
           },
           "mode": "markers",
           "name": "LAC",
           "orientation": "v",
           "showlegend": true,
           "type": "scatter",
           "x": [
            32.58,
            38.49,
            37,
            32.55,
            27.39,
            36.92,
            17.71,
            30.37,
            30.46,
            34.16,
            38.6
           ],
           "xaxis": "x",
           "y": [
            19.54,
            23.99,
            28.77,
            41.85,
            37.86,
            32,
            20.66,
            27.89,
            32.49,
            8.44,
            34.94
           ],
           "yaxis": "y"
          },
          {
           "hovertemplate": "club=football<br>frameId=111<br>x=%{x}<br>y=%{y}<extra></extra>",
           "legendgroup": "football",
           "marker": {
            "color": "Grey",
            "symbol": "circle"
           },
           "mode": "markers",
           "name": "football",
           "orientation": "v",
           "showlegend": true,
           "type": "scatter",
           "x": [
            42.2999992370605
           ],
           "xaxis": "x",
           "y": [
            29.5400009155273
           ],
           "yaxis": "y"
          }
         ],
         "name": "111"
        },
        {
         "data": [
          {
           "hovertemplate": "club=LV<br>frameId=112<br>x=%{x}<br>y=%{y}<extra></extra>",
           "legendgroup": "LV",
           "marker": {
            "color": "Red",
            "symbol": "circle"
           },
           "mode": "markers",
           "name": "LV",
           "orientation": "v",
           "showlegend": true,
           "type": "scatter",
           "x": [
            39.27,
            41.87,
            35.76,
            34.85,
            39.88,
            39.73,
            34.2,
            35.42,
            37.89,
            38.06,
            38.12
           ],
           "xaxis": "x",
           "y": [
            35.27,
            29.46,
            39.91,
            8.56,
            32.85,
            25.87,
            32.53,
            18.7,
            28.95,
            28.02,
            31.4
           ],
           "yaxis": "y"
          },
          {
           "hovertemplate": "club=LAC<br>frameId=112<br>x=%{x}<br>y=%{y}<extra></extra>",
           "legendgroup": "LAC",
           "marker": {
            "color": "Black",
            "symbol": "circle"
           },
           "mode": "markers",
           "name": "LAC",
           "orientation": "v",
           "showlegend": true,
           "type": "scatter",
           "x": [
            32.28,
            38.98,
            37.2,
            32.49,
            26.96,
            37.23,
            17.48,
            30.13,
            30.36,
            34.04,
            39.05
           ],
           "xaxis": "x",
           "y": [
            19.77,
            24.19,
            28.85,
            41.9,
            38.06,
            32.2,
            20.32,
            27.93,
            32.64,
            8.17,
            34.72
           ],
           "yaxis": "y"
          },
          {
           "hovertemplate": "club=football<br>frameId=112<br>x=%{x}<br>y=%{y}<extra></extra>",
           "legendgroup": "football",
           "marker": {
            "color": "Grey",
            "symbol": "circle"
           },
           "mode": "markers",
           "name": "football",
           "orientation": "v",
           "showlegend": true,
           "type": "scatter",
           "x": [
            42.5699996948242
           ],
           "xaxis": "x",
           "y": [
            29.5400009155273
           ],
           "yaxis": "y"
          }
         ],
         "name": "112"
        },
        {
         "data": [
          {
           "hovertemplate": "club=LV<br>frameId=113<br>x=%{x}<br>y=%{y}<extra></extra>",
           "legendgroup": "LV",
           "marker": {
            "color": "Red",
            "symbol": "circle"
           },
           "mode": "markers",
           "name": "LV",
           "orientation": "v",
           "showlegend": true,
           "type": "scatter",
           "x": [
            38.93,
            42.06,
            35.28,
            34.51,
            40.19,
            40.09,
            33.69,
            34.98,
            38.05,
            38.22,
            38.33
           ],
           "xaxis": "x",
           "y": [
            35.71,
            29.47,
            40.08,
            8.4,
            32.83,
            25.87,
            32.31,
            18.76,
            28.91,
            28.03,
            31.5
           ],
           "yaxis": "y"
          },
          {
           "hovertemplate": "club=LAC<br>frameId=113<br>x=%{x}<br>y=%{y}<extra></extra>",
           "legendgroup": "LAC",
           "marker": {
            "color": "Black",
            "symbol": "circle"
           },
           "mode": "markers",
           "name": "LAC",
           "orientation": "v",
           "showlegend": true,
           "type": "scatter",
           "x": [
            31.95,
            39.48,
            37.4,
            32.41,
            26.51,
            37.55,
            17.23,
            29.84,
            30.25,
            33.88,
            39.53
           ],
           "xaxis": "x",
           "y": [
            20,
            24.41,
            28.92,
            41.95,
            38.26,
            32.39,
            19.97,
            27.99,
            32.81,
            7.89,
            34.49
           ],
           "yaxis": "y"
          },
          {
           "hovertemplate": "club=football<br>frameId=113<br>x=%{x}<br>y=%{y}<extra></extra>",
           "legendgroup": "football",
           "marker": {
            "color": "Grey",
            "symbol": "circle"
           },
           "mode": "markers",
           "name": "football",
           "orientation": "v",
           "showlegend": true,
           "type": "scatter",
           "x": [
            42.7099990844727
           ],
           "xaxis": "x",
           "y": [
            29.5699996948242
           ],
           "yaxis": "y"
          }
         ],
         "name": "113"
        },
        {
         "data": [
          {
           "hovertemplate": "club=LV<br>frameId=114<br>x=%{x}<br>y=%{y}<extra></extra>",
           "legendgroup": "LV",
           "marker": {
            "color": "Red",
            "symbol": "circle"
           },
           "mode": "markers",
           "name": "LV",
           "orientation": "v",
           "showlegend": true,
           "type": "scatter",
           "x": [
            38.57,
            42.24,
            34.76,
            34.16,
            40.51,
            40.45,
            33.16,
            34.5,
            38.2,
            38.38,
            38.55
           ],
           "xaxis": "x",
           "y": [
            36.17,
            29.48,
            40.22,
            8.24,
            32.81,
            25.89,
            32.09,
            18.83,
            28.88,
            28.04,
            31.6
           ],
           "yaxis": "y"
          },
          {
           "hovertemplate": "club=LAC<br>frameId=114<br>x=%{x}<br>y=%{y}<extra></extra>",
           "legendgroup": "LAC",
           "marker": {
            "color": "Black",
            "symbol": "circle"
           },
           "mode": "markers",
           "name": "LAC",
           "orientation": "v",
           "showlegend": true,
           "type": "scatter",
           "x": [
            31.61,
            39.98,
            37.58,
            32.31,
            26.05,
            37.88,
            16.96,
            29.52,
            30.12,
            33.68,
            40.01
           ],
           "xaxis": "x",
           "y": [
            20.23,
            24.63,
            28.97,
            42.02,
            38.46,
            32.56,
            19.64,
            28.07,
            32.99,
            7.62,
            34.25
           ],
           "yaxis": "y"
          },
          {
           "hovertemplate": "club=football<br>frameId=114<br>x=%{x}<br>y=%{y}<extra></extra>",
           "legendgroup": "football",
           "marker": {
            "color": "Grey",
            "symbol": "circle"
           },
           "mode": "markers",
           "name": "football",
           "orientation": "v",
           "showlegend": true,
           "type": "scatter",
           "x": [
            42.8899993896484
           ],
           "xaxis": "x",
           "y": [
            29.5799999237061
           ],
           "yaxis": "y"
          }
         ],
         "name": "114"
        },
        {
         "data": [
          {
           "hovertemplate": "club=LV<br>frameId=115<br>x=%{x}<br>y=%{y}<extra></extra>",
           "legendgroup": "LV",
           "marker": {
            "color": "Red",
            "symbol": "circle"
           },
           "mode": "markers",
           "name": "LV",
           "orientation": "v",
           "showlegend": true,
           "type": "scatter",
           "x": [
            38.19,
            42.41,
            34.21,
            33.81,
            40.83,
            40.8,
            32.59,
            34,
            38.35,
            38.57,
            38.78
           ],
           "xaxis": "x",
           "y": [
            36.66,
            29.48,
            40.34,
            8.09,
            32.77,
            25.95,
            31.88,
            18.93,
            28.85,
            28.05,
            31.7
           ],
           "yaxis": "y"
          },
          {
           "hovertemplate": "club=LAC<br>frameId=115<br>x=%{x}<br>y=%{y}<extra></extra>",
           "legendgroup": "LAC",
           "marker": {
            "color": "Black",
            "symbol": "circle"
           },
           "mode": "markers",
           "name": "LAC",
           "orientation": "v",
           "showlegend": true,
           "type": "scatter",
           "x": [
            31.26,
            40.47,
            37.75,
            32.2,
            25.57,
            38.21,
            16.7,
            29.14,
            29.96,
            33.44,
            40.51
           ],
           "xaxis": "x",
           "y": [
            20.46,
            24.85,
            29.03,
            42.09,
            38.67,
            32.71,
            19.3,
            28.16,
            33.17,
            7.36,
            34.01
           ],
           "yaxis": "y"
          },
          {
           "hovertemplate": "club=football<br>frameId=115<br>x=%{x}<br>y=%{y}<extra></extra>",
           "legendgroup": "football",
           "marker": {
            "color": "Grey",
            "symbol": "circle"
           },
           "mode": "markers",
           "name": "football",
           "orientation": "v",
           "showlegend": true,
           "type": "scatter",
           "x": [
            42.9500007629395
           ],
           "xaxis": "x",
           "y": [
            29.6100006103516
           ],
           "yaxis": "y"
          }
         ],
         "name": "115"
        },
        {
         "data": [
          {
           "hovertemplate": "club=LV<br>frameId=116<br>x=%{x}<br>y=%{y}<extra></extra>",
           "legendgroup": "LV",
           "marker": {
            "color": "Red",
            "symbol": "circle"
           },
           "mode": "markers",
           "name": "LV",
           "orientation": "v",
           "showlegend": true,
           "type": "scatter",
           "x": [
            37.8,
            42.58,
            33.65,
            33.46,
            41.16,
            41.16,
            31.99,
            33.47,
            38.5,
            38.78,
            39.01
           ],
           "xaxis": "x",
           "y": [
            37.17,
            29.49,
            40.43,
            7.95,
            32.73,
            26.05,
            31.71,
            19.04,
            28.85,
            28.05,
            31.79
           ],
           "yaxis": "y"
          },
          {
           "hovertemplate": "club=LAC<br>frameId=116<br>x=%{x}<br>y=%{y}<extra></extra>",
           "legendgroup": "LAC",
           "marker": {
            "color": "Black",
            "symbol": "circle"
           },
           "mode": "markers",
           "name": "LAC",
           "orientation": "v",
           "showlegend": true,
           "type": "scatter",
           "x": [
            30.9,
            40.94,
            37.91,
            32.09,
            25.08,
            38.54,
            16.44,
            28.74,
            29.79,
            33.16,
            41
           ],
           "xaxis": "x",
           "y": [
            20.67,
            25.07,
            29.08,
            42.18,
            38.89,
            32.84,
            18.97,
            28.26,
            33.37,
            7.12,
            33.76
           ],
           "yaxis": "y"
          },
          {
           "hovertemplate": "club=football<br>frameId=116<br>x=%{x}<br>y=%{y}<extra></extra>",
           "legendgroup": "football",
           "marker": {
            "color": "Grey",
            "symbol": "circle"
           },
           "mode": "markers",
           "name": "football",
           "orientation": "v",
           "showlegend": true,
           "type": "scatter",
           "x": [
            43.0499992370605
           ],
           "xaxis": "x",
           "y": [
            29.6200008392334
           ],
           "yaxis": "y"
          }
         ],
         "name": "116"
        },
        {
         "data": [
          {
           "hovertemplate": "club=LV<br>frameId=117<br>x=%{x}<br>y=%{y}<extra></extra>",
           "legendgroup": "LV",
           "marker": {
            "color": "Red",
            "symbol": "circle"
           },
           "mode": "markers",
           "name": "LV",
           "orientation": "v",
           "showlegend": true,
           "type": "scatter",
           "x": [
            37.4,
            42.71,
            33.06,
            33.11,
            41.49,
            41.51,
            31.36,
            32.91,
            38.66,
            39.01,
            39.24
           ],
           "xaxis": "x",
           "y": [
            37.69,
            29.5,
            40.49,
            7.84,
            32.67,
            26.17,
            31.57,
            19.15,
            28.86,
            28.04,
            31.88
           ],
           "yaxis": "y"
          },
          {
           "hovertemplate": "club=LAC<br>frameId=117<br>x=%{x}<br>y=%{y}<extra></extra>",
           "legendgroup": "LAC",
           "marker": {
            "color": "Black",
            "symbol": "circle"
           },
           "mode": "markers",
           "name": "LAC",
           "orientation": "v",
           "showlegend": true,
           "type": "scatter",
           "x": [
            30.53,
            41.37,
            38.07,
            31.96,
            24.58,
            38.85,
            16.16,
            28.29,
            29.62,
            32.83,
            41.5
           ],
           "xaxis": "x",
           "y": [
            20.87,
            25.29,
            29.15,
            42.27,
            39.1,
            32.95,
            18.65,
            28.37,
            33.57,
            6.9,
            33.51
           ],
           "yaxis": "y"
          },
          {
           "hovertemplate": "club=football<br>frameId=117<br>x=%{x}<br>y=%{y}<extra></extra>",
           "legendgroup": "football",
           "marker": {
            "color": "Grey",
            "symbol": "circle"
           },
           "mode": "markers",
           "name": "football",
           "orientation": "v",
           "showlegend": true,
           "type": "scatter",
           "x": [
            43.060001373291
           ],
           "xaxis": "x",
           "y": [
            29.6399993896484
           ],
           "yaxis": "y"
          }
         ],
         "name": "117"
        },
        {
         "data": [
          {
           "hovertemplate": "club=LV<br>frameId=118<br>x=%{x}<br>y=%{y}<extra></extra>",
           "legendgroup": "LV",
           "marker": {
            "color": "Red",
            "symbol": "circle"
           },
           "mode": "markers",
           "name": "LV",
           "orientation": "v",
           "showlegend": true,
           "type": "scatter",
           "x": [
            37.02,
            42.81,
            32.47,
            32.78,
            41.84,
            41.84,
            30.7,
            32.32,
            38.81,
            39.25,
            39.48
           ],
           "xaxis": "x",
           "y": [
            38.23,
            29.51,
            40.53,
            7.77,
            32.58,
            26.3,
            31.47,
            19.27,
            28.88,
            28.01,
            31.96
           ],
           "yaxis": "y"
          },
          {
           "hovertemplate": "club=LAC<br>frameId=118<br>x=%{x}<br>y=%{y}<extra></extra>",
           "legendgroup": "LAC",
           "marker": {
            "color": "Black",
            "symbol": "circle"
           },
           "mode": "markers",
           "name": "LAC",
           "orientation": "v",
           "showlegend": true,
           "type": "scatter",
           "x": [
            30.16,
            41.78,
            38.22,
            31.82,
            24.07,
            39.14,
            15.87,
            27.82,
            29.44,
            32.47,
            41.96
           ],
           "xaxis": "x",
           "y": [
            21.04,
            25.51,
            29.22,
            42.37,
            39.3,
            33.04,
            18.35,
            28.48,
            33.77,
            6.71,
            33.27
           ],
           "yaxis": "y"
          },
          {
           "hovertemplate": "club=football<br>frameId=118<br>x=%{x}<br>y=%{y}<extra></extra>",
           "legendgroup": "football",
           "marker": {
            "color": "Grey",
            "symbol": "circle"
           },
           "mode": "markers",
           "name": "football",
           "orientation": "v",
           "showlegend": true,
           "type": "scatter",
           "x": [
            43.1100006103516
           ],
           "xaxis": "x",
           "y": [
            29.6499996185303
           ],
           "yaxis": "y"
          }
         ],
         "name": "118"
        },
        {
         "data": [
          {
           "hovertemplate": "club=LV<br>frameId=119<br>x=%{x}<br>y=%{y}<extra></extra>",
           "legendgroup": "LV",
           "marker": {
            "color": "Red",
            "symbol": "circle"
           },
           "mode": "markers",
           "name": "LV",
           "orientation": "v",
           "showlegend": true,
           "type": "scatter",
           "x": [
            36.64,
            42.86,
            31.87,
            32.48,
            42.2,
            42.16,
            30.03,
            31.71,
            38.96,
            39.51,
            39.71
           ],
           "xaxis": "x",
           "y": [
            38.78,
            29.52,
            40.54,
            7.73,
            32.48,
            26.45,
            31.4,
            19.4,
            28.9,
            27.98,
            32.03
           ],
           "yaxis": "y"
          },
          {
           "hovertemplate": "club=LAC<br>frameId=119<br>x=%{x}<br>y=%{y}<extra></extra>",
           "legendgroup": "LAC",
           "marker": {
            "color": "Black",
            "symbol": "circle"
           },
           "mode": "markers",
           "name": "LAC",
           "orientation": "v",
           "showlegend": true,
           "type": "scatter",
           "x": [
            29.8,
            42.14,
            38.37,
            31.67,
            23.56,
            39.4,
            15.58,
            27.32,
            29.25,
            32.07,
            42.4
           ],
           "xaxis": "x",
           "y": [
            21.19,
            25.73,
            29.3,
            42.49,
            39.49,
            33.11,
            18.07,
            28.58,
            33.98,
            6.55,
            33.06
           ],
           "yaxis": "y"
          },
          {
           "hovertemplate": "club=football<br>frameId=119<br>x=%{x}<br>y=%{y}<extra></extra>",
           "legendgroup": "football",
           "marker": {
            "color": "Grey",
            "symbol": "circle"
           },
           "mode": "markers",
           "name": "football",
           "orientation": "v",
           "showlegend": true,
           "type": "scatter",
           "x": [
            43.0900001525879
           ],
           "xaxis": "x",
           "y": [
            29.6700000762939
           ],
           "yaxis": "y"
          }
         ],
         "name": "119"
        },
        {
         "data": [
          {
           "hovertemplate": "club=LV<br>frameId=120<br>x=%{x}<br>y=%{y}<extra></extra>",
           "legendgroup": "LV",
           "marker": {
            "color": "Red",
            "symbol": "circle"
           },
           "mode": "markers",
           "name": "LV",
           "orientation": "v",
           "showlegend": true,
           "type": "scatter",
           "x": [
            36.27,
            42.86,
            31.31,
            32.21,
            42.55,
            42.45,
            29.33,
            31.09,
            39.12,
            39.8,
            39.93
           ],
           "xaxis": "x",
           "y": [
            39.35,
            29.53,
            40.51,
            7.77,
            32.37,
            26.61,
            31.36,
            19.53,
            28.94,
            27.93,
            32.09
           ],
           "yaxis": "y"
          },
          {
           "hovertemplate": "club=LAC<br>frameId=120<br>x=%{x}<br>y=%{y}<extra></extra>",
           "legendgroup": "LAC",
           "marker": {
            "color": "Black",
            "symbol": "circle"
           },
           "mode": "markers",
           "name": "LAC",
           "orientation": "v",
           "showlegend": true,
           "type": "scatter",
           "x": [
            29.45,
            42.45,
            38.52,
            31.5,
            23.04,
            39.62,
            15.29,
            26.79,
            29.05,
            31.66,
            42.83
           ],
           "xaxis": "x",
           "y": [
            21.32,
            25.95,
            29.4,
            42.63,
            39.67,
            33.14,
            17.8,
            28.69,
            34.18,
            6.45,
            32.85
           ],
           "yaxis": "y"
          },
          {
           "hovertemplate": "club=football<br>frameId=120<br>x=%{x}<br>y=%{y}<extra></extra>",
           "legendgroup": "football",
           "marker": {
            "color": "Grey",
            "symbol": "circle"
           },
           "mode": "markers",
           "name": "football",
           "orientation": "v",
           "showlegend": true,
           "type": "scatter",
           "x": [
            43.1199989318848
           ],
           "xaxis": "x",
           "y": [
            29.6800003051758
           ],
           "yaxis": "y"
          }
         ],
         "name": "120"
        },
        {
         "data": [
          {
           "hovertemplate": "club=LV<br>frameId=121<br>x=%{x}<br>y=%{y}<extra></extra>",
           "legendgroup": "LV",
           "marker": {
            "color": "Red",
            "symbol": "circle"
           },
           "mode": "markers",
           "name": "LV",
           "orientation": "v",
           "showlegend": true,
           "type": "scatter",
           "x": [
            35.92,
            42.83,
            30.81,
            31.95,
            42.89,
            42.71,
            28.63,
            30.44,
            39.27,
            40.15,
            40.14
           ],
           "xaxis": "x",
           "y": [
            39.94,
            29.54,
            40.49,
            7.87,
            32.24,
            26.77,
            31.36,
            19.66,
            28.99,
            27.87,
            32.12
           ],
           "yaxis": "y"
          },
          {
           "hovertemplate": "club=LAC<br>frameId=121<br>x=%{x}<br>y=%{y}<extra></extra>",
           "legendgroup": "LAC",
           "marker": {
            "color": "Black",
            "symbol": "circle"
           },
           "mode": "markers",
           "name": "LAC",
           "orientation": "v",
           "showlegend": true,
           "type": "scatter",
           "x": [
            29.11,
            42.72,
            38.68,
            31.3,
            22.53,
            39.79,
            15,
            26.25,
            28.84,
            31.23,
            43.26
           ],
           "xaxis": "x",
           "y": [
            21.42,
            26.15,
            29.49,
            42.8,
            39.83,
            33.15,
            17.56,
            28.8,
            34.38,
            6.39,
            32.66
           ],
           "yaxis": "y"
          },
          {
           "hovertemplate": "club=football<br>frameId=121<br>x=%{x}<br>y=%{y}<extra></extra>",
           "legendgroup": "football",
           "marker": {
            "color": "Grey",
            "symbol": "circle"
           },
           "mode": "markers",
           "name": "football",
           "orientation": "v",
           "showlegend": true,
           "type": "scatter",
           "x": [
            43.0999984741211
           ],
           "xaxis": "x",
           "y": [
            29.6900005340576
           ],
           "yaxis": "y"
          }
         ],
         "name": "121"
        },
        {
         "data": [
          {
           "hovertemplate": "club=LV<br>frameId=122<br>x=%{x}<br>y=%{y}<extra></extra>",
           "legendgroup": "LV",
           "marker": {
            "color": "Red",
            "symbol": "circle"
           },
           "mode": "markers",
           "name": "LV",
           "orientation": "v",
           "showlegend": true,
           "type": "scatter",
           "x": [
            35.6,
            42.77,
            30.34,
            31.72,
            43.22,
            42.95,
            27.92,
            29.79,
            39.43,
            40.49,
            40.32
           ],
           "xaxis": "x",
           "y": [
            40.54,
            29.54,
            40.46,
            8.02,
            32.11,
            26.91,
            31.4,
            19.79,
            29.04,
            27.81,
            32.15
           ],
           "yaxis": "y"
          },
          {
           "hovertemplate": "club=LAC<br>frameId=122<br>x=%{x}<br>y=%{y}<extra></extra>",
           "legendgroup": "LAC",
           "marker": {
            "color": "Black",
            "symbol": "circle"
           },
           "mode": "markers",
           "name": "LAC",
           "orientation": "v",
           "showlegend": true,
           "type": "scatter",
           "x": [
            28.77,
            42.95,
            38.83,
            31.1,
            22.02,
            39.92,
            14.71,
            25.69,
            28.63,
            30.79,
            43.66
           ],
           "xaxis": "x",
           "y": [
            21.51,
            26.33,
            29.56,
            42.98,
            39.97,
            33.11,
            17.38,
            28.92,
            34.57,
            6.38,
            32.48
           ],
           "yaxis": "y"
          },
          {
           "hovertemplate": "club=football<br>frameId=122<br>x=%{x}<br>y=%{y}<extra></extra>",
           "legendgroup": "football",
           "marker": {
            "color": "Grey",
            "symbol": "circle"
           },
           "mode": "markers",
           "name": "football",
           "orientation": "v",
           "showlegend": true,
           "type": "scatter",
           "x": [
            43.060001373291
           ],
           "xaxis": "x",
           "y": [
            29.7099990844727
           ],
           "yaxis": "y"
          }
         ],
         "name": "122"
        },
        {
         "data": [
          {
           "hovertemplate": "club=LV<br>frameId=123<br>x=%{x}<br>y=%{y}<extra></extra>",
           "legendgroup": "LV",
           "marker": {
            "color": "Red",
            "symbol": "circle"
           },
           "mode": "markers",
           "name": "LV",
           "orientation": "v",
           "showlegend": true,
           "type": "scatter",
           "x": [
            35.3,
            42.68,
            29.91,
            31.5,
            43.53,
            43.15,
            27.2,
            29.13,
            39.59,
            40.88,
            40.47
           ],
           "xaxis": "x",
           "y": [
            41.17,
            29.54,
            40.42,
            8.23,
            31.98,
            27.04,
            31.48,
            19.92,
            29.1,
            27.71,
            32.15
           ],
           "yaxis": "y"
          },
          {
           "hovertemplate": "club=LAC<br>frameId=123<br>x=%{x}<br>y=%{y}<extra></extra>",
           "legendgroup": "LAC",
           "marker": {
            "color": "Black",
            "symbol": "circle"
           },
           "mode": "markers",
           "name": "LAC",
           "orientation": "v",
           "showlegend": true,
           "type": "scatter",
           "x": [
            28.45,
            43.12,
            38.99,
            30.88,
            21.51,
            40,
            14.42,
            25.1,
            28.41,
            30.35,
            44.02
           ],
           "xaxis": "x",
           "y": [
            21.59,
            26.48,
            29.62,
            43.17,
            40.09,
            33.04,
            17.25,
            29.03,
            34.74,
            6.41,
            32.33
           ],
           "yaxis": "y"
          },
          {
           "hovertemplate": "club=football<br>frameId=123<br>x=%{x}<br>y=%{y}<extra></extra>",
           "legendgroup": "football",
           "marker": {
            "color": "Grey",
            "symbol": "circle"
           },
           "mode": "markers",
           "name": "football",
           "orientation": "v",
           "showlegend": true,
           "type": "scatter",
           "x": [
            43.0699996948242
           ],
           "xaxis": "x",
           "y": [
            29.7099990844727
           ],
           "yaxis": "y"
          }
         ],
         "name": "123"
        },
        {
         "data": [
          {
           "hovertemplate": "club=LV<br>frameId=124<br>x=%{x}<br>y=%{y}<extra></extra>",
           "legendgroup": "LV",
           "marker": {
            "color": "Red",
            "symbol": "circle"
           },
           "mode": "markers",
           "name": "LV",
           "orientation": "v",
           "showlegend": true,
           "type": "scatter",
           "x": [
            35.03,
            42.57,
            29.52,
            31.31,
            43.83,
            43.32,
            26.48,
            28.47,
            39.74,
            41.26,
            40.58
           ],
           "xaxis": "x",
           "y": [
            41.8,
            29.52,
            40.36,
            8.51,
            31.85,
            27.17,
            31.6,
            20.06,
            29.16,
            27.58,
            32.11
           ],
           "yaxis": "y"
          },
          {
           "hovertemplate": "club=LAC<br>frameId=124<br>x=%{x}<br>y=%{y}<extra></extra>",
           "legendgroup": "LAC",
           "marker": {
            "color": "Black",
            "symbol": "circle"
           },
           "mode": "markers",
           "name": "LAC",
           "orientation": "v",
           "showlegend": true,
           "type": "scatter",
           "x": [
            28.11,
            43.27,
            39.14,
            30.66,
            21.02,
            40.04,
            14.15,
            24.51,
            28.19,
            29.91,
            44.36
           ],
           "xaxis": "x",
           "y": [
            21.67,
            26.61,
            29.66,
            43.38,
            40.19,
            32.92,
            17.18,
            29.15,
            34.87,
            6.51,
            32.26
           ],
           "yaxis": "y"
          },
          {
           "hovertemplate": "club=football<br>frameId=124<br>x=%{x}<br>y=%{y}<extra></extra>",
           "legendgroup": "football",
           "marker": {
            "color": "Grey",
            "symbol": "circle"
           },
           "mode": "markers",
           "name": "football",
           "orientation": "v",
           "showlegend": true,
           "type": "scatter",
           "x": [
            42.9300003051758
           ],
           "xaxis": "x",
           "y": [
            29.6800003051758
           ],
           "yaxis": "y"
          }
         ],
         "name": "124"
        },
        {
         "data": [
          {
           "hovertemplate": "club=LV<br>frameId=125<br>x=%{x}<br>y=%{y}<extra></extra>",
           "legendgroup": "LV",
           "marker": {
            "color": "Red",
            "symbol": "circle"
           },
           "mode": "markers",
           "name": "LV",
           "orientation": "v",
           "showlegend": true,
           "type": "scatter",
           "x": [
            34.79,
            42.45,
            29.18,
            31.13,
            44.09,
            43.46,
            25.76,
            27.81,
            39.89,
            41.64,
            40.66
           ],
           "xaxis": "x",
           "y": [
            42.43,
            29.49,
            40.31,
            8.83,
            31.73,
            27.28,
            31.75,
            20.22,
            29.21,
            27.45,
            32.05
           ],
           "yaxis": "y"
          },
          {
           "hovertemplate": "club=LAC<br>frameId=125<br>x=%{x}<br>y=%{y}<extra></extra>",
           "legendgroup": "LAC",
           "marker": {
            "color": "Black",
            "symbol": "circle"
           },
           "mode": "markers",
           "name": "LAC",
           "orientation": "v",
           "showlegend": true,
           "type": "scatter",
           "x": [
            27.79,
            43.39,
            39.28,
            30.45,
            20.54,
            40.05,
            13.88,
            23.92,
            27.97,
            29.47,
            44.69
           ],
           "xaxis": "x",
           "y": [
            21.75,
            26.71,
            29.68,
            43.61,
            40.27,
            32.76,
            17.16,
            29.27,
            34.98,
            6.66,
            32.24
           ],
           "yaxis": "y"
          },
          {
           "hovertemplate": "club=football<br>frameId=125<br>x=%{x}<br>y=%{y}<extra></extra>",
           "legendgroup": "football",
           "marker": {
            "color": "Grey",
            "symbol": "circle"
           },
           "mode": "markers",
           "name": "football",
           "orientation": "v",
           "showlegend": true,
           "type": "scatter",
           "x": [
            42.4700012207031
           ],
           "xaxis": "x",
           "y": [
            29.4799995422363
           ],
           "yaxis": "y"
          }
         ],
         "name": "125"
        },
        {
         "data": [
          {
           "hovertemplate": "club=LV<br>frameId=126<br>x=%{x}<br>y=%{y}<extra></extra>",
           "legendgroup": "LV",
           "marker": {
            "color": "Red",
            "symbol": "circle"
           },
           "mode": "markers",
           "name": "LV",
           "orientation": "v",
           "showlegend": true,
           "type": "scatter",
           "x": [
            34.57,
            42.31,
            28.9,
            30.97,
            44.33,
            43.59,
            25.07,
            27.16,
            40.03,
            42.01,
            40.7
           ],
           "xaxis": "x",
           "y": [
            43.06,
            29.45,
            40.25,
            9.2,
            31.63,
            27.37,
            31.95,
            20.41,
            29.24,
            27.33,
            31.96
           ],
           "yaxis": "y"
          },
          {
           "hovertemplate": "club=LAC<br>frameId=126<br>x=%{x}<br>y=%{y}<extra></extra>",
           "legendgroup": "LAC",
           "marker": {
            "color": "Black",
            "symbol": "circle"
           },
           "mode": "markers",
           "name": "LAC",
           "orientation": "v",
           "showlegend": true,
           "type": "scatter",
           "x": [
            27.46,
            43.5,
            39.41,
            30.24,
            20.08,
            40.03,
            13.63,
            23.31,
            27.73,
            29.04,
            44.97
           ],
           "xaxis": "x",
           "y": [
            21.82,
            26.77,
            29.67,
            43.85,
            40.33,
            32.55,
            17.2,
            29.39,
            35.04,
            6.87,
            32.27
           ],
           "yaxis": "y"
          },
          {
           "hovertemplate": "club=football<br>frameId=126<br>x=%{x}<br>y=%{y}<extra></extra>",
           "legendgroup": "football",
           "marker": {
            "color": "Grey",
            "symbol": "circle"
           },
           "mode": "markers",
           "name": "football",
           "orientation": "v",
           "showlegend": true,
           "type": "scatter",
           "x": [
            42.4199981689453
           ],
           "xaxis": "x",
           "y": [
            29.4400005340576
           ],
           "yaxis": "y"
          }
         ],
         "name": "126"
        },
        {
         "data": [
          {
           "hovertemplate": "club=LV<br>frameId=127<br>x=%{x}<br>y=%{y}<extra></extra>",
           "legendgroup": "LV",
           "marker": {
            "color": "Red",
            "symbol": "circle"
           },
           "mode": "markers",
           "name": "LV",
           "orientation": "v",
           "showlegend": true,
           "type": "scatter",
           "x": [
            34.37,
            42.17,
            28.68,
            30.82,
            44.53,
            43.69,
            24.4,
            26.53,
            40.15,
            42.39,
            40.71
           ],
           "xaxis": "x",
           "y": [
            43.68,
            29.4,
            40.18,
            9.62,
            31.58,
            27.45,
            32.21,
            20.63,
            29.26,
            27.16,
            31.86
           ],
           "yaxis": "y"
          },
          {
           "hovertemplate": "club=LAC<br>frameId=127<br>x=%{x}<br>y=%{y}<extra></extra>",
           "legendgroup": "LAC",
           "marker": {
            "color": "Black",
            "symbol": "circle"
           },
           "mode": "markers",
           "name": "LAC",
           "orientation": "v",
           "showlegend": true,
           "type": "scatter",
           "x": [
            27.12,
            43.59,
            39.53,
            30.05,
            19.63,
            39.98,
            13.39,
            22.71,
            27.49,
            28.62,
            45.18
           ],
           "xaxis": "x",
           "y": [
            21.9,
            26.81,
            29.64,
            44.1,
            40.35,
            32.31,
            17.29,
            29.52,
            35.07,
            7.11,
            32.35
           ],
           "yaxis": "y"
          },
          {
           "hovertemplate": "club=football<br>frameId=127<br>x=%{x}<br>y=%{y}<extra></extra>",
           "legendgroup": "football",
           "marker": {
            "color": "Grey",
            "symbol": "circle"
           },
           "mode": "markers",
           "name": "football",
           "orientation": "v",
           "showlegend": true,
           "type": "scatter",
           "x": [
            42.4199981689453
           ],
           "xaxis": "x",
           "y": [
            29.4400005340576
           ],
           "yaxis": "y"
          }
         ],
         "name": "127"
        },
        {
         "data": [
          {
           "hovertemplate": "club=LV<br>frameId=128<br>x=%{x}<br>y=%{y}<extra></extra>",
           "legendgroup": "LV",
           "marker": {
            "color": "Red",
            "symbol": "circle"
           },
           "mode": "markers",
           "name": "LV",
           "orientation": "v",
           "showlegend": true,
           "type": "scatter",
           "x": [
            34.2,
            42.03,
            28.5,
            30.7,
            44.7,
            43.78,
            23.78,
            25.9,
            40.27,
            42.74,
            40.71
           ],
           "xaxis": "x",
           "y": [
            44.3,
            29.34,
            40.13,
            10.08,
            31.54,
            27.51,
            32.52,
            20.87,
            29.26,
            27,
            31.75
           ],
           "yaxis": "y"
          },
          {
           "hovertemplate": "club=LAC<br>frameId=128<br>x=%{x}<br>y=%{y}<extra></extra>",
           "legendgroup": "LAC",
           "marker": {
            "color": "Black",
            "symbol": "circle"
           },
           "mode": "markers",
           "name": "LAC",
           "orientation": "v",
           "showlegend": true,
           "type": "scatter",
           "x": [
            26.79,
            43.68,
            39.64,
            29.86,
            19.2,
            39.93,
            13.16,
            22.11,
            27.25,
            28.19,
            45.31
           ],
           "xaxis": "x",
           "y": [
            21.97,
            26.84,
            29.58,
            44.35,
            40.38,
            32.02,
            17.47,
            29.64,
            35.07,
            7.38,
            32.47
           ],
           "yaxis": "y"
          },
          {
           "hovertemplate": "club=football<br>frameId=128<br>x=%{x}<br>y=%{y}<extra></extra>",
           "legendgroup": "football",
           "marker": {
            "color": "Grey",
            "symbol": "circle"
           },
           "mode": "markers",
           "name": "football",
           "orientation": "v",
           "showlegend": true,
           "type": "scatter",
           "x": [
            42.4000015258789
           ],
           "xaxis": "x",
           "y": [
            29.4300003051758
           ],
           "yaxis": "y"
          }
         ],
         "name": "128"
        },
        {
         "data": [
          {
           "hovertemplate": "club=LV<br>frameId=129<br>x=%{x}<br>y=%{y}<extra></extra>",
           "legendgroup": "LV",
           "marker": {
            "color": "Red",
            "symbol": "circle"
           },
           "mode": "markers",
           "name": "LV",
           "orientation": "v",
           "showlegend": true,
           "type": "scatter",
           "x": [
            34.04,
            41.89,
            28.37,
            30.59,
            44.83,
            43.85,
            23.2,
            25.28,
            40.37,
            43.08,
            40.67
           ],
           "xaxis": "x",
           "y": [
            44.91,
            29.26,
            40.07,
            10.59,
            31.54,
            27.57,
            32.89,
            21.15,
            29.25,
            26.83,
            31.6
           ],
           "yaxis": "y"
          },
          {
           "hovertemplate": "club=LAC<br>frameId=129<br>x=%{x}<br>y=%{y}<extra></extra>",
           "legendgroup": "LAC",
           "marker": {
            "color": "Black",
            "symbol": "circle"
           },
           "mode": "markers",
           "name": "LAC",
           "orientation": "v",
           "showlegend": true,
           "type": "scatter",
           "x": [
            26.46,
            43.76,
            39.72,
            29.71,
            18.79,
            39.86,
            12.97,
            21.52,
            27.02,
            27.77,
            45.39
           ],
           "xaxis": "x",
           "y": [
            22.05,
            26.86,
            29.48,
            44.59,
            40.4,
            31.7,
            17.7,
            29.76,
            35.03,
            7.67,
            32.62
           ],
           "yaxis": "y"
          },
          {
           "hovertemplate": "club=football<br>frameId=129<br>x=%{x}<br>y=%{y}<extra></extra>",
           "legendgroup": "football",
           "marker": {
            "color": "Grey",
            "symbol": "circle"
           },
           "mode": "markers",
           "name": "football",
           "orientation": "v",
           "showlegend": true,
           "type": "scatter",
           "x": [
            42.4000015258789
           ],
           "xaxis": "x",
           "y": [
            29.4300003051758
           ],
           "yaxis": "y"
          }
         ],
         "name": "129"
        },
        {
         "data": [
          {
           "hovertemplate": "club=LV<br>frameId=130<br>x=%{x}<br>y=%{y}<extra></extra>",
           "legendgroup": "LV",
           "marker": {
            "color": "Red",
            "symbol": "circle"
           },
           "mode": "markers",
           "name": "LV",
           "orientation": "v",
           "showlegend": true,
           "type": "scatter",
           "x": [
            33.91,
            41.75,
            28.27,
            30.49,
            44.92,
            43.9,
            22.67,
            24.68,
            40.47,
            43.4,
            40.61
           ],
           "xaxis": "x",
           "y": [
            45.49,
            29.18,
            40.03,
            11.12,
            31.56,
            27.62,
            33.31,
            21.45,
            29.23,
            26.66,
            31.42
           ],
           "yaxis": "y"
          },
          {
           "hovertemplate": "club=LAC<br>frameId=130<br>x=%{x}<br>y=%{y}<extra></extra>",
           "legendgroup": "LAC",
           "marker": {
            "color": "Black",
            "symbol": "circle"
           },
           "mode": "markers",
           "name": "LAC",
           "orientation": "v",
           "showlegend": true,
           "type": "scatter",
           "x": [
            26.13,
            43.85,
            39.8,
            29.57,
            18.4,
            39.79,
            12.79,
            20.94,
            26.79,
            27.36,
            45.39
           ],
           "xaxis": "x",
           "y": [
            22.12,
            26.87,
            29.36,
            44.86,
            40.43,
            31.35,
            18,
            29.87,
            34.96,
            7.98,
            32.82
           ],
           "yaxis": "y"
          },
          {
           "hovertemplate": "club=football<br>frameId=130<br>x=%{x}<br>y=%{y}<extra></extra>",
           "legendgroup": "football",
           "marker": {
            "color": "Grey",
            "symbol": "circle"
           },
           "mode": "markers",
           "name": "football",
           "orientation": "v",
           "showlegend": true,
           "type": "scatter",
           "x": [
            42.3800010681152
           ],
           "xaxis": "x",
           "y": [
            29.4300003051758
           ],
           "yaxis": "y"
          }
         ],
         "name": "130"
        },
        {
         "data": [
          {
           "hovertemplate": "club=LV<br>frameId=131<br>x=%{x}<br>y=%{y}<extra></extra>",
           "legendgroup": "LV",
           "marker": {
            "color": "Red",
            "symbol": "circle"
           },
           "mode": "markers",
           "name": "LV",
           "orientation": "v",
           "showlegend": true,
           "type": "scatter",
           "x": [
            33.79,
            41.64,
            28.19,
            30.4,
            44.97,
            43.95,
            22.17,
            24.07,
            40.54,
            43.72,
            40.53
           ],
           "xaxis": "x",
           "y": [
            46.04,
            29.09,
            39.99,
            11.69,
            31.62,
            27.66,
            33.76,
            21.77,
            29.17,
            26.48,
            31.22
           ],
           "yaxis": "y"
          },
          {
           "hovertemplate": "club=LAC<br>frameId=131<br>x=%{x}<br>y=%{y}<extra></extra>",
           "legendgroup": "LAC",
           "marker": {
            "color": "Black",
            "symbol": "circle"
           },
           "mode": "markers",
           "name": "LAC",
           "orientation": "v",
           "showlegend": true,
           "type": "scatter",
           "x": [
            25.81,
            43.93,
            39.86,
            29.45,
            18.02,
            39.72,
            12.64,
            20.39,
            26.58,
            26.94,
            45.35
           ],
           "xaxis": "x",
           "y": [
            22.19,
            26.89,
            29.23,
            45.12,
            40.45,
            30.98,
            18.34,
            29.97,
            34.86,
            8.32,
            33.04
           ],
           "yaxis": "y"
          },
          {
           "hovertemplate": "club=football<br>frameId=131<br>x=%{x}<br>y=%{y}<extra></extra>",
           "legendgroup": "football",
           "marker": {
            "color": "Grey",
            "symbol": "circle"
           },
           "mode": "markers",
           "name": "football",
           "orientation": "v",
           "showlegend": true,
           "type": "scatter",
           "x": [
            42.3699989318848
           ],
           "xaxis": "x",
           "y": [
            29.4200000762939
           ],
           "yaxis": "y"
          }
         ],
         "name": "131"
        },
        {
         "data": [
          {
           "hovertemplate": "club=LV<br>frameId=132<br>x=%{x}<br>y=%{y}<extra></extra>",
           "legendgroup": "LV",
           "marker": {
            "color": "Red",
            "symbol": "circle"
           },
           "mode": "markers",
           "name": "LV",
           "orientation": "v",
           "showlegend": true,
           "type": "scatter",
           "x": [
            33.68,
            41.54,
            28.13,
            30.33,
            44.98,
            43.99,
            21.71,
            23.46,
            40.6,
            44.02,
            40.45
           ],
           "xaxis": "x",
           "y": [
            46.55,
            28.99,
            39.95,
            12.28,
            31.7,
            27.69,
            34.25,
            22.09,
            29.11,
            26.32,
            31
           ],
           "yaxis": "y"
          },
          {
           "hovertemplate": "club=LAC<br>frameId=132<br>x=%{x}<br>y=%{y}<extra></extra>",
           "legendgroup": "LAC",
           "marker": {
            "color": "Black",
            "symbol": "circle"
           },
           "mode": "markers",
           "name": "LAC",
           "orientation": "v",
           "showlegend": true,
           "type": "scatter",
           "x": [
            25.51,
            44.02,
            39.9,
            29.35,
            17.69,
            39.65,
            12.5,
            19.86,
            26.38,
            26.51,
            45.24
           ],
           "xaxis": "x",
           "y": [
            22.25,
            26.9,
            29.09,
            45.37,
            40.47,
            30.6,
            18.72,
            30.06,
            34.74,
            8.67,
            33.27
           ],
           "yaxis": "y"
          },
          {
           "hovertemplate": "club=football<br>frameId=132<br>x=%{x}<br>y=%{y}<extra></extra>",
           "legendgroup": "football",
           "marker": {
            "color": "Grey",
            "symbol": "circle"
           },
           "mode": "markers",
           "name": "football",
           "orientation": "v",
           "showlegend": true,
           "type": "scatter",
           "x": [
            42.3600006103516
           ],
           "xaxis": "x",
           "y": [
            29.4099998474121
           ],
           "yaxis": "y"
          }
         ],
         "name": "132"
        },
        {
         "data": [
          {
           "hovertemplate": "club=LV<br>frameId=133<br>x=%{x}<br>y=%{y}<extra></extra>",
           "legendgroup": "LV",
           "marker": {
            "color": "Red",
            "symbol": "circle"
           },
           "mode": "markers",
           "name": "LV",
           "orientation": "v",
           "showlegend": true,
           "type": "scatter",
           "x": [
            33.58,
            41.48,
            28.09,
            30.26,
            44.94,
            44.01,
            21.3,
            22.86,
            40.63,
            44.28,
            40.36
           ],
           "xaxis": "x",
           "y": [
            47.03,
            28.92,
            39.91,
            12.9,
            31.8,
            27.72,
            34.78,
            22.43,
            29.01,
            26.16,
            30.76
           ],
           "yaxis": "y"
          },
          {
           "hovertemplate": "club=LAC<br>frameId=133<br>x=%{x}<br>y=%{y}<extra></extra>",
           "legendgroup": "LAC",
           "marker": {
            "color": "Black",
            "symbol": "circle"
           },
           "mode": "markers",
           "name": "LAC",
           "orientation": "v",
           "showlegend": true,
           "type": "scatter",
           "x": [
            25.22,
            44.08,
            39.92,
            29.26,
            17.38,
            39.59,
            12.41,
            19.36,
            26.19,
            26.06,
            45.08
           ],
           "xaxis": "x",
           "y": [
            22.31,
            26.92,
            28.94,
            45.62,
            40.49,
            30.22,
            19.16,
            30.13,
            34.6,
            9.02,
            33.49
           ],
           "yaxis": "y"
          },
          {
           "hovertemplate": "club=football<br>frameId=133<br>x=%{x}<br>y=%{y}<extra></extra>",
           "legendgroup": "football",
           "marker": {
            "color": "Grey",
            "symbol": "circle"
           },
           "mode": "markers",
           "name": "football",
           "orientation": "v",
           "showlegend": true,
           "type": "scatter",
           "x": [
            42.3300018310547
           ],
           "xaxis": "x",
           "y": [
            29.4099998474121
           ],
           "yaxis": "y"
          }
         ],
         "name": "133"
        },
        {
         "data": [
          {
           "hovertemplate": "club=LV<br>frameId=134<br>x=%{x}<br>y=%{y}<extra></extra>",
           "legendgroup": "LV",
           "marker": {
            "color": "Red",
            "symbol": "circle"
           },
           "mode": "markers",
           "name": "LV",
           "orientation": "v",
           "showlegend": true,
           "type": "scatter",
           "x": [
            33.49,
            41.46,
            28.07,
            30.21,
            44.87,
            44.02,
            20.93,
            22.26,
            40.62,
            44.53,
            40.28
           ],
           "xaxis": "x",
           "y": [
            47.47,
            28.86,
            39.87,
            13.52,
            31.92,
            27.74,
            35.34,
            22.76,
            28.89,
            25.99,
            30.5
           ],
           "yaxis": "y"
          },
          {
           "hovertemplate": "club=LAC<br>frameId=134<br>x=%{x}<br>y=%{y}<extra></extra>",
           "legendgroup": "LAC",
           "marker": {
            "color": "Black",
            "symbol": "circle"
           },
           "mode": "markers",
           "name": "LAC",
           "orientation": "v",
           "showlegend": true,
           "type": "scatter",
           "x": [
            24.94,
            44.13,
            39.94,
            29.19,
            17.1,
            39.55,
            12.35,
            18.9,
            26.04,
            25.6,
            44.87
           ],
           "xaxis": "x",
           "y": [
            22.36,
            26.94,
            28.77,
            45.82,
            40.52,
            29.86,
            19.62,
            30.17,
            34.46,
            9.38,
            33.71
           ],
           "yaxis": "y"
          },
          {
           "hovertemplate": "club=football<br>frameId=134<br>x=%{x}<br>y=%{y}<extra></extra>",
           "legendgroup": "football",
           "marker": {
            "color": "Grey",
            "symbol": "circle"
           },
           "mode": "markers",
           "name": "football",
           "orientation": "v",
           "showlegend": true,
           "type": "scatter",
           "x": [
            42.2999992370605
           ],
           "xaxis": "x",
           "y": [
            29.4099998474121
           ],
           "yaxis": "y"
          }
         ],
         "name": "134"
        },
        {
         "data": [
          {
           "hovertemplate": "club=LV<br>frameId=135<br>x=%{x}<br>y=%{y}<extra></extra>",
           "legendgroup": "LV",
           "marker": {
            "color": "Red",
            "symbol": "circle"
           },
           "mode": "markers",
           "name": "LV",
           "orientation": "v",
           "showlegend": true,
           "type": "scatter",
           "x": [
            33.4,
            41.46,
            28.05,
            30.16,
            44.75,
            44.02,
            20.6,
            21.66,
            40.62,
            44.74,
            40.2
           ],
           "xaxis": "x",
           "y": [
            47.86,
            28.82,
            39.83,
            14.15,
            32.04,
            27.76,
            35.92,
            23.08,
            28.77,
            25.82,
            30.23
           ],
           "yaxis": "y"
          },
          {
           "hovertemplate": "club=LAC<br>frameId=135<br>x=%{x}<br>y=%{y}<extra></extra>",
           "legendgroup": "LAC",
           "marker": {
            "color": "Black",
            "symbol": "circle"
           },
           "mode": "markers",
           "name": "LAC",
           "orientation": "v",
           "showlegend": true,
           "type": "scatter",
           "x": [
            24.69,
            44.13,
            39.94,
            29.11,
            16.86,
            39.51,
            12.32,
            18.46,
            25.93,
            25.13,
            44.63
           ],
           "xaxis": "x",
           "y": [
            22.4,
            26.95,
            28.61,
            46.01,
            40.55,
            29.53,
            20.11,
            30.18,
            34.34,
            9.74,
            33.92
           ],
           "yaxis": "y"
          },
          {
           "hovertemplate": "club=football<br>frameId=135<br>x=%{x}<br>y=%{y}<extra></extra>",
           "legendgroup": "football",
           "marker": {
            "color": "Grey",
            "symbol": "circle"
           },
           "mode": "markers",
           "name": "football",
           "orientation": "v",
           "showlegend": true,
           "type": "scatter",
           "x": [
            42.2799987792969
           ],
           "xaxis": "x",
           "y": [
            29.3999996185303
           ],
           "yaxis": "y"
          }
         ],
         "name": "135"
        },
        {
         "data": [
          {
           "hovertemplate": "club=LV<br>frameId=136<br>x=%{x}<br>y=%{y}<extra></extra>",
           "legendgroup": "LV",
           "marker": {
            "color": "Red",
            "symbol": "circle"
           },
           "mode": "markers",
           "name": "LV",
           "orientation": "v",
           "showlegend": true,
           "type": "scatter",
           "x": [
            33.32,
            41.5,
            28.04,
            30.13,
            44.61,
            44,
            20.29,
            21.05,
            40.61,
            44.92,
            40.13
           ],
           "xaxis": "x",
           "y": [
            48.2,
            28.83,
            39.78,
            14.81,
            32.16,
            27.77,
            36.52,
            23.4,
            28.66,
            25.67,
            29.95
           ],
           "yaxis": "y"
          },
          {
           "hovertemplate": "club=LAC<br>frameId=136<br>x=%{x}<br>y=%{y}<extra></extra>",
           "legendgroup": "LAC",
           "marker": {
            "color": "Black",
            "symbol": "circle"
           },
           "mode": "markers",
           "name": "LAC",
           "orientation": "v",
           "showlegend": true,
           "type": "scatter",
           "x": [
            24.46,
            44.07,
            39.93,
            29.06,
            16.66,
            39.47,
            12.32,
            18.05,
            25.87,
            24.65,
            44.36
           ],
           "xaxis": "x",
           "y": [
            22.44,
            26.98,
            28.44,
            46.19,
            40.6,
            29.25,
            20.61,
            30.16,
            34.23,
            10.1,
            34.11
           ],
           "yaxis": "y"
          },
          {
           "hovertemplate": "club=football<br>frameId=136<br>x=%{x}<br>y=%{y}<extra></extra>",
           "legendgroup": "football",
           "marker": {
            "color": "Grey",
            "symbol": "circle"
           },
           "mode": "markers",
           "name": "football",
           "orientation": "v",
           "showlegend": true,
           "type": "scatter",
           "x": [
            42.3400001525879
           ],
           "xaxis": "x",
           "y": [
            29.4899997711182
           ],
           "yaxis": "y"
          }
         ],
         "name": "136"
        },
        {
         "data": [
          {
           "hovertemplate": "club=LV<br>frameId=137<br>x=%{x}<br>y=%{y}<extra></extra>",
           "legendgroup": "LV",
           "marker": {
            "color": "Red",
            "symbol": "circle"
           },
           "mode": "markers",
           "name": "LV",
           "orientation": "v",
           "showlegend": true,
           "type": "scatter",
           "x": [
            33.22,
            41.57,
            28.02,
            30.09,
            44.44,
            43.95,
            20,
            20.45,
            40.6,
            45.05,
            40.07
           ],
           "xaxis": "x",
           "y": [
            48.51,
            28.89,
            39.73,
            15.47,
            32.28,
            27.78,
            37.12,
            23.69,
            28.55,
            25.51,
            29.68
           ],
           "yaxis": "y"
          },
          {
           "hovertemplate": "club=LAC<br>frameId=137<br>x=%{x}<br>y=%{y}<extra></extra>",
           "legendgroup": "LAC",
           "marker": {
            "color": "Black",
            "symbol": "circle"
           },
           "mode": "markers",
           "name": "LAC",
           "orientation": "v",
           "showlegend": true,
           "type": "scatter",
           "x": [
            24.25,
            43.96,
            39.91,
            29.01,
            16.51,
            39.43,
            12.33,
            17.68,
            25.86,
            24.16,
            44.08
           ],
           "xaxis": "x",
           "y": [
            22.5,
            27.02,
            28.28,
            46.34,
            40.67,
            29,
            21.12,
            30.1,
            34.15,
            10.47,
            34.26
           ],
           "yaxis": "y"
          },
          {
           "hovertemplate": "club=football<br>frameId=137<br>x=%{x}<br>y=%{y}<extra></extra>",
           "legendgroup": "football",
           "marker": {
            "color": "Grey",
            "symbol": "circle"
           },
           "mode": "markers",
           "name": "football",
           "orientation": "v",
           "showlegend": true,
           "type": "scatter",
           "x": [
            42.439998626709
           ],
           "xaxis": "x",
           "y": [
            29.6299991607666
           ],
           "yaxis": "y"
          }
         ],
         "name": "137"
        },
        {
         "data": [
          {
           "hovertemplate": "club=LV<br>frameId=138<br>x=%{x}<br>y=%{y}<extra></extra>",
           "legendgroup": "LV",
           "marker": {
            "color": "Red",
            "symbol": "circle"
           },
           "mode": "markers",
           "name": "LV",
           "orientation": "v",
           "showlegend": true,
           "type": "scatter",
           "x": [
            33.1,
            41.67,
            28,
            30.07,
            44.25,
            43.88,
            19.74,
            19.85,
            40.57,
            45.16,
            40.03
           ],
           "xaxis": "x",
           "y": [
            48.77,
            28.97,
            39.67,
            16.13,
            32.39,
            27.8,
            37.72,
            23.96,
            28.43,
            25.38,
            29.44
           ],
           "yaxis": "y"
          },
          {
           "hovertemplate": "club=LAC<br>frameId=138<br>x=%{x}<br>y=%{y}<extra></extra>",
           "legendgroup": "LAC",
           "marker": {
            "color": "Black",
            "symbol": "circle"
           },
           "mode": "markers",
           "name": "LAC",
           "orientation": "v",
           "showlegend": true,
           "type": "scatter",
           "x": [
            24.07,
            43.82,
            39.88,
            28.96,
            16.4,
            39.38,
            12.35,
            17.34,
            25.89,
            23.66,
            43.81
           ],
           "xaxis": "x",
           "y": [
            22.56,
            27.07,
            28.15,
            46.46,
            40.75,
            28.79,
            21.63,
            30.01,
            34.1,
            10.84,
            34.39
           ],
           "yaxis": "y"
          },
          {
           "hovertemplate": "club=football<br>frameId=138<br>x=%{x}<br>y=%{y}<extra></extra>",
           "legendgroup": "football",
           "marker": {
            "color": "Grey",
            "symbol": "circle"
           },
           "mode": "markers",
           "name": "football",
           "orientation": "v",
           "showlegend": true,
           "type": "scatter",
           "x": [
            42.5200004577637
           ],
           "xaxis": "x",
           "y": [
            29.7700004577637
           ],
           "yaxis": "y"
          }
         ],
         "name": "138"
        },
        {
         "data": [
          {
           "hovertemplate": "club=LV<br>frameId=139<br>x=%{x}<br>y=%{y}<extra></extra>",
           "legendgroup": "LV",
           "marker": {
            "color": "Red",
            "symbol": "circle"
           },
           "mode": "markers",
           "name": "LV",
           "orientation": "v",
           "showlegend": true,
           "type": "scatter",
           "x": [
            32.98,
            41.79,
            27.98,
            30.05,
            44.04,
            43.77,
            19.49,
            19.28,
            40.54,
            45.23,
            40
           ],
           "xaxis": "x",
           "y": [
            49.01,
            29.11,
            39.61,
            16.81,
            32.48,
            27.81,
            38.31,
            24.22,
            28.3,
            25.27,
            29.22
           ],
           "yaxis": "y"
          },
          {
           "hovertemplate": "club=LAC<br>frameId=139<br>x=%{x}<br>y=%{y}<extra></extra>",
           "legendgroup": "LAC",
           "marker": {
            "color": "Black",
            "symbol": "circle"
           },
           "mode": "markers",
           "name": "LAC",
           "orientation": "v",
           "showlegend": true,
           "type": "scatter",
           "x": [
            23.91,
            43.64,
            39.85,
            28.92,
            16.34,
            39.32,
            12.36,
            17.03,
            25.97,
            23.17,
            43.56
           ],
           "xaxis": "x",
           "y": [
            22.64,
            27.14,
            28.03,
            46.59,
            40.85,
            28.63,
            22.14,
            29.87,
            34.07,
            11.21,
            34.48
           ],
           "yaxis": "y"
          },
          {
           "hovertemplate": "club=football<br>frameId=139<br>x=%{x}<br>y=%{y}<extra></extra>",
           "legendgroup": "football",
           "marker": {
            "color": "Grey",
            "symbol": "circle"
           },
           "mode": "markers",
           "name": "football",
           "orientation": "v",
           "showlegend": true,
           "type": "scatter",
           "x": [
            42.5200004577637
           ],
           "xaxis": "x",
           "y": [
            29.7900009155273
           ],
           "yaxis": "y"
          }
         ],
         "name": "139"
        },
        {
         "data": [
          {
           "hovertemplate": "club=LV<br>frameId=140<br>x=%{x}<br>y=%{y}<extra></extra>",
           "legendgroup": "LV",
           "marker": {
            "color": "Red",
            "symbol": "circle"
           },
           "mode": "markers",
           "name": "LV",
           "orientation": "v",
           "showlegend": true,
           "type": "scatter",
           "x": [
            32.83,
            41.93,
            27.96,
            30.03,
            43.82,
            43.65,
            19.26,
            18.71,
            40.5,
            45.27,
            39.98
           ],
           "xaxis": "x",
           "y": [
            49.2,
            29.28,
            39.55,
            17.49,
            32.55,
            27.84,
            38.88,
            24.45,
            28.19,
            25.16,
            29.04
           ],
           "yaxis": "y"
          },
          {
           "hovertemplate": "club=LAC<br>frameId=140<br>x=%{x}<br>y=%{y}<extra></extra>",
           "legendgroup": "LAC",
           "marker": {
            "color": "Black",
            "symbol": "circle"
           },
           "mode": "markers",
           "name": "LAC",
           "orientation": "v",
           "showlegend": true,
           "type": "scatter",
           "x": [
            23.78,
            43.42,
            39.81,
            28.88,
            16.31,
            39.27,
            12.36,
            16.76,
            26.1,
            22.66,
            43.34
           ],
           "xaxis": "x",
           "y": [
            22.76,
            27.21,
            27.93,
            46.71,
            40.98,
            28.51,
            22.63,
            29.71,
            34.07,
            11.59,
            34.53
           ],
           "yaxis": "y"
          },
          {
           "hovertemplate": "club=football<br>frameId=140<br>x=%{x}<br>y=%{y}<extra></extra>",
           "legendgroup": "football",
           "marker": {
            "color": "Grey",
            "symbol": "circle"
           },
           "mode": "markers",
           "name": "football",
           "orientation": "v",
           "showlegend": true,
           "type": "scatter",
           "x": [
            42.5999984741211
           ],
           "xaxis": "x",
           "y": [
            29.9300003051758
           ],
           "yaxis": "y"
          }
         ],
         "name": "140"
        },
        {
         "data": [
          {
           "hovertemplate": "club=LV<br>frameId=141<br>x=%{x}<br>y=%{y}<extra></extra>",
           "legendgroup": "LV",
           "marker": {
            "color": "Red",
            "symbol": "circle"
           },
           "mode": "markers",
           "name": "LV",
           "orientation": "v",
           "showlegend": true,
           "type": "scatter",
           "x": [
            32.68,
            42.09,
            27.94,
            30.02,
            43.61,
            43.5,
            19.07,
            18.16,
            40.46,
            45.3,
            39.97
           ],
           "xaxis": "x",
           "y": [
            49.37,
            29.49,
            39.53,
            18.17,
            32.6,
            27.85,
            39.41,
            24.66,
            28.09,
            25.08,
            28.89
           ],
           "yaxis": "y"
          },
          {
           "hovertemplate": "club=LAC<br>frameId=141<br>x=%{x}<br>y=%{y}<extra></extra>",
           "legendgroup": "LAC",
           "marker": {
            "color": "Black",
            "symbol": "circle"
           },
           "mode": "markers",
           "name": "LAC",
           "orientation": "v",
           "showlegend": true,
           "type": "scatter",
           "x": [
            23.68,
            43.17,
            39.77,
            28.85,
            16.31,
            39.2,
            12.34,
            16.51,
            26.26,
            22.17,
            43.17
           ],
           "xaxis": "x",
           "y": [
            22.92,
            27.31,
            27.87,
            46.82,
            41.13,
            28.45,
            23.13,
            29.51,
            34.09,
            11.98,
            34.55
           ],
           "yaxis": "y"
          },
          {
           "hovertemplate": "club=football<br>frameId=141<br>x=%{x}<br>y=%{y}<extra></extra>",
           "legendgroup": "football",
           "marker": {
            "color": "Grey",
            "symbol": "circle"
           },
           "mode": "markers",
           "name": "football",
           "orientation": "v",
           "showlegend": true,
           "type": "scatter",
           "x": [
            42.6199989318848
           ],
           "xaxis": "x",
           "y": [
            29.9500007629395
           ],
           "yaxis": "y"
          }
         ],
         "name": "141"
        },
        {
         "data": [
          {
           "hovertemplate": "club=LV<br>frameId=142<br>x=%{x}<br>y=%{y}<extra></extra>",
           "legendgroup": "LV",
           "marker": {
            "color": "Red",
            "symbol": "circle"
           },
           "mode": "markers",
           "name": "LV",
           "orientation": "v",
           "showlegend": true,
           "type": "scatter",
           "x": [
            32.51,
            42.25,
            27.92,
            30.02,
            43.41,
            43.32,
            18.89,
            17.65,
            40.42,
            45.3,
            39.97
           ],
           "xaxis": "x",
           "y": [
            49.49,
            29.72,
            39.5,
            18.86,
            32.63,
            27.89,
            39.92,
            24.85,
            28,
            25.01,
            28.78
           ],
           "yaxis": "y"
          },
          {
           "hovertemplate": "club=LAC<br>frameId=142<br>x=%{x}<br>y=%{y}<extra></extra>",
           "legendgroup": "LAC",
           "marker": {
            "color": "Black",
            "symbol": "circle"
           },
           "mode": "markers",
           "name": "LAC",
           "orientation": "v",
           "showlegend": true,
           "type": "scatter",
           "x": [
            23.62,
            42.89,
            39.71,
            28.81,
            16.33,
            39.11,
            12.3,
            16.26,
            26.46,
            21.68,
            43.03
           ],
           "xaxis": "x",
           "y": [
            23.11,
            27.43,
            27.83,
            46.92,
            41.29,
            28.45,
            23.61,
            29.31,
            34.13,
            12.37,
            34.54
           ],
           "yaxis": "y"
          },
          {
           "hovertemplate": "club=football<br>frameId=142<br>x=%{x}<br>y=%{y}<extra></extra>",
           "legendgroup": "football",
           "marker": {
            "color": "Grey",
            "symbol": "circle"
           },
           "mode": "markers",
           "name": "football",
           "orientation": "v",
           "showlegend": true,
           "type": "scatter",
           "x": [
            42.6300010681152
           ],
           "xaxis": "x",
           "y": [
            29.9699993133545
           ],
           "yaxis": "y"
          }
         ],
         "name": "142"
        },
        {
         "data": [
          {
           "hovertemplate": "club=LV<br>frameId=143<br>x=%{x}<br>y=%{y}<extra></extra>",
           "legendgroup": "LV",
           "marker": {
            "color": "Red",
            "symbol": "circle"
           },
           "mode": "markers",
           "name": "LV",
           "orientation": "v",
           "showlegend": true,
           "type": "scatter",
           "x": [
            32.33,
            42.41,
            27.89,
            30.02,
            43.23,
            43.12,
            18.74,
            17.18,
            40.37,
            45.29,
            39.97
           ],
           "xaxis": "x",
           "y": [
            49.58,
            29.96,
            39.49,
            19.55,
            32.64,
            27.96,
            40.4,
            25.01,
            27.94,
            24.96,
            28.7
           ],
           "yaxis": "y"
          },
          {
           "hovertemplate": "club=LAC<br>frameId=143<br>x=%{x}<br>y=%{y}<extra></extra>",
           "legendgroup": "LAC",
           "marker": {
            "color": "Black",
            "symbol": "circle"
           },
           "mode": "markers",
           "name": "LAC",
           "orientation": "v",
           "showlegend": true,
           "type": "scatter",
           "x": [
            23.58,
            42.58,
            39.65,
            28.76,
            16.37,
            39.02,
            12.23,
            16.02,
            26.68,
            21.21,
            42.91
           ],
           "xaxis": "x",
           "y": [
            23.32,
            27.59,
            27.82,
            47.01,
            41.46,
            28.49,
            24.09,
            29.09,
            34.18,
            12.77,
            34.49
           ],
           "yaxis": "y"
          },
          {
           "hovertemplate": "club=football<br>frameId=143<br>x=%{x}<br>y=%{y}<extra></extra>",
           "legendgroup": "football",
           "marker": {
            "color": "Grey",
            "symbol": "circle"
           },
           "mode": "markers",
           "name": "football",
           "orientation": "v",
           "showlegend": true,
           "type": "scatter",
           "x": [
            42.8199996948242
           ],
           "xaxis": "x",
           "y": [
            30.2900009155273
           ],
           "yaxis": "y"
          }
         ],
         "name": "143"
        },
        {
         "data": [
          {
           "hovertemplate": "club=LV<br>frameId=144<br>x=%{x}<br>y=%{y}<extra></extra>",
           "legendgroup": "LV",
           "marker": {
            "color": "Red",
            "symbol": "circle"
           },
           "mode": "markers",
           "name": "LV",
           "orientation": "v",
           "showlegend": true,
           "type": "scatter",
           "x": [
            32.13,
            42.57,
            27.86,
            30.01,
            43.08,
            42.89,
            18.61,
            16.74,
            40.32,
            45.26,
            39.98
           ],
           "xaxis": "x",
           "y": [
            49.65,
            30.21,
            39.48,
            20.24,
            32.64,
            28.07,
            40.85,
            25.14,
            27.88,
            24.93,
            28.66
           ],
           "yaxis": "y"
          },
          {
           "hovertemplate": "club=LAC<br>frameId=144<br>x=%{x}<br>y=%{y}<extra></extra>",
           "legendgroup": "LAC",
           "marker": {
            "color": "Black",
            "symbol": "circle"
           },
           "mode": "markers",
           "name": "LAC",
           "orientation": "v",
           "showlegend": true,
           "type": "scatter",
           "x": [
            23.58,
            42.27,
            39.59,
            28.72,
            16.41,
            38.91,
            12.15,
            15.78,
            26.9,
            20.75,
            42.83
           ],
           "xaxis": "x",
           "y": [
            23.56,
            27.77,
            27.83,
            47.09,
            41.64,
            28.59,
            24.57,
            28.87,
            34.26,
            13.18,
            34.41
           ],
           "yaxis": "y"
          },
          {
           "hovertemplate": "club=football<br>frameId=144<br>x=%{x}<br>y=%{y}<extra></extra>",
           "legendgroup": "football",
           "marker": {
            "color": "Grey",
            "symbol": "circle"
           },
           "mode": "markers",
           "name": "football",
           "orientation": "v",
           "showlegend": true,
           "type": "scatter",
           "x": [
            42.9000015258789
           ],
           "xaxis": "x",
           "y": [
            30.4099998474121
           ],
           "yaxis": "y"
          }
         ],
         "name": "144"
        },
        {
         "data": [
          {
           "hovertemplate": "club=LV<br>frameId=145<br>x=%{x}<br>y=%{y}<extra></extra>",
           "legendgroup": "LV",
           "marker": {
            "color": "Red",
            "symbol": "circle"
           },
           "mode": "markers",
           "name": "LV",
           "orientation": "v",
           "showlegend": true,
           "type": "scatter",
           "x": [
            31.91,
            42.71,
            27.83,
            30.01,
            42.95,
            42.66,
            18.49,
            16.34,
            40.26,
            45.23,
            39.98
           ],
           "xaxis": "x",
           "y": [
            49.71,
            30.45,
            39.48,
            20.93,
            32.62,
            28.2,
            41.28,
            25.25,
            27.85,
            24.91,
            28.69
           ],
           "yaxis": "y"
          },
          {
           "hovertemplate": "club=LAC<br>frameId=145<br>x=%{x}<br>y=%{y}<extra></extra>",
           "legendgroup": "LAC",
           "marker": {
            "color": "Black",
            "symbol": "circle"
           },
           "mode": "markers",
           "name": "LAC",
           "orientation": "v",
           "showlegend": true,
           "type": "scatter",
           "x": [
            23.61,
            41.94,
            39.52,
            28.67,
            16.46,
            38.8,
            12.05,
            15.54,
            27.13,
            20.29,
            42.77
           ],
           "xaxis": "x",
           "y": [
            23.82,
            27.98,
            27.87,
            47.15,
            41.85,
            28.73,
            25.04,
            28.65,
            34.36,
            13.6,
            34.3
           ],
           "yaxis": "y"
          },
          {
           "hovertemplate": "club=football<br>frameId=145<br>x=%{x}<br>y=%{y}<extra></extra>",
           "legendgroup": "football",
           "marker": {
            "color": "Grey",
            "symbol": "circle"
           },
           "mode": "markers",
           "name": "football",
           "orientation": "v",
           "showlegend": true,
           "type": "scatter",
           "x": [
            42.9900016784668
           ],
           "xaxis": "x",
           "y": [
            30.5900001525879
           ],
           "yaxis": "y"
          }
         ],
         "name": "145"
        },
        {
         "data": [
          {
           "hovertemplate": "club=LV<br>frameId=146<br>x=%{x}<br>y=%{y}<extra></extra>",
           "legendgroup": "LV",
           "marker": {
            "color": "Red",
            "symbol": "circle"
           },
           "mode": "markers",
           "name": "LV",
           "orientation": "v",
           "showlegend": true,
           "type": "scatter",
           "x": [
            31.68,
            42.83,
            27.8,
            30.01,
            42.83,
            42.4,
            18.39,
            15.96,
            40.2,
            45.19,
            39.97
           ],
           "xaxis": "x",
           "y": [
            49.75,
            30.68,
            39.48,
            21.61,
            32.58,
            28.36,
            41.68,
            25.34,
            27.84,
            24.91,
            28.76
           ],
           "yaxis": "y"
          },
          {
           "hovertemplate": "club=LAC<br>frameId=146<br>x=%{x}<br>y=%{y}<extra></extra>",
           "legendgroup": "LAC",
           "marker": {
            "color": "Black",
            "symbol": "circle"
           },
           "mode": "markers",
           "name": "LAC",
           "orientation": "v",
           "showlegend": true,
           "type": "scatter",
           "x": [
            23.69,
            41.64,
            39.44,
            28.62,
            16.5,
            38.68,
            11.94,
            15.29,
            27.34,
            19.84,
            42.73
           ],
           "xaxis": "x",
           "y": [
            24.12,
            28.23,
            27.95,
            47.2,
            42.08,
            28.92,
            25.5,
            28.46,
            34.48,
            14.02,
            34.16
           ],
           "yaxis": "y"
          },
          {
           "hovertemplate": "club=football<br>frameId=146<br>x=%{x}<br>y=%{y}<extra></extra>",
           "legendgroup": "football",
           "marker": {
            "color": "Grey",
            "symbol": "circle"
           },
           "mode": "markers",
           "name": "football",
           "orientation": "v",
           "showlegend": true,
           "type": "scatter",
           "x": [
            43.0499992370605
           ],
           "xaxis": "x",
           "y": [
            30.8500003814697
           ],
           "yaxis": "y"
          }
         ],
         "name": "146"
        },
        {
         "data": [
          {
           "hovertemplate": "club=LV<br>frameId=147<br>x=%{x}<br>y=%{y}<extra></extra>",
           "legendgroup": "LV",
           "marker": {
            "color": "Red",
            "symbol": "circle"
           },
           "mode": "markers",
           "name": "LV",
           "orientation": "v",
           "showlegend": true,
           "type": "scatter",
           "x": [
            31.42,
            42.94,
            27.77,
            30.01,
            42.74,
            42.14,
            18.29,
            15.63,
            40.14,
            45.14,
            39.95
           ],
           "xaxis": "x",
           "y": [
            49.79,
            30.89,
            39.49,
            22.28,
            32.54,
            28.55,
            42.08,
            25.4,
            27.86,
            24.91,
            28.85
           ],
           "yaxis": "y"
          },
          {
           "hovertemplate": "club=LAC<br>frameId=147<br>x=%{x}<br>y=%{y}<extra></extra>",
           "legendgroup": "LAC",
           "marker": {
            "color": "Black",
            "symbol": "circle"
           },
           "mode": "markers",
           "name": "LAC",
           "orientation": "v",
           "showlegend": true,
           "type": "scatter",
           "x": [
            23.81,
            41.33,
            39.37,
            28.57,
            16.54,
            38.58,
            11.81,
            15.03,
            27.53,
            19.41,
            42.7
           ],
           "xaxis": "x",
           "y": [
            24.44,
            28.5,
            28.04,
            47.22,
            42.32,
            29.14,
            25.97,
            28.27,
            34.63,
            14.45,
            33.99
           ],
           "yaxis": "y"
          },
          {
           "hovertemplate": "club=football<br>frameId=147<br>x=%{x}<br>y=%{y}<extra></extra>",
           "legendgroup": "football",
           "marker": {
            "color": "Grey",
            "symbol": "circle"
           },
           "mode": "markers",
           "name": "football",
           "orientation": "v",
           "showlegend": true,
           "type": "scatter",
           "x": [
            43.1199989318848
           ],
           "xaxis": "x",
           "y": [
            31.1000003814697
           ],
           "yaxis": "y"
          }
         ],
         "name": "147"
        },
        {
         "data": [
          {
           "hovertemplate": "club=LV<br>frameId=148<br>x=%{x}<br>y=%{y}<extra></extra>",
           "legendgroup": "LV",
           "marker": {
            "color": "Red",
            "symbol": "circle"
           },
           "mode": "markers",
           "name": "LV",
           "orientation": "v",
           "showlegend": true,
           "type": "scatter",
           "x": [
            31.13,
            43.02,
            27.74,
            30.01,
            42.65,
            41.88,
            18.2,
            15.34,
            40.08,
            45.08,
            39.9
           ],
           "xaxis": "x",
           "y": [
            49.82,
            31.08,
            39.51,
            22.94,
            32.49,
            28.76,
            42.47,
            25.43,
            27.9,
            24.93,
            28.99
           ],
           "yaxis": "y"
          },
          {
           "hovertemplate": "club=LAC<br>frameId=148<br>x=%{x}<br>y=%{y}<extra></extra>",
           "legendgroup": "LAC",
           "marker": {
            "color": "Black",
            "symbol": "circle"
           },
           "mode": "markers",
           "name": "LAC",
           "orientation": "v",
           "showlegend": true,
           "type": "scatter",
           "x": [
            23.97,
            41.05,
            39.31,
            28.53,
            16.59,
            38.49,
            11.66,
            14.79,
            27.7,
            19,
            42.69
           ],
           "xaxis": "x",
           "y": [
            24.79,
            28.79,
            28.16,
            47.23,
            42.58,
            29.39,
            26.46,
            28.13,
            34.8,
            14.87,
            33.78
           ],
           "yaxis": "y"
          },
          {
           "hovertemplate": "club=football<br>frameId=148<br>x=%{x}<br>y=%{y}<extra></extra>",
           "legendgroup": "football",
           "marker": {
            "color": "Grey",
            "symbol": "circle"
           },
           "mode": "markers",
           "name": "football",
           "orientation": "v",
           "showlegend": true,
           "type": "scatter",
           "x": [
            43.189998626709
           ],
           "xaxis": "x",
           "y": [
            31.3600006103516
           ],
           "yaxis": "y"
          }
         ],
         "name": "148"
        },
        {
         "data": [
          {
           "hovertemplate": "club=LV<br>frameId=149<br>x=%{x}<br>y=%{y}<extra></extra>",
           "legendgroup": "LV",
           "marker": {
            "color": "Red",
            "symbol": "circle"
           },
           "mode": "markers",
           "name": "LV",
           "orientation": "v",
           "showlegend": true,
           "type": "scatter",
           "x": [
            30.78,
            43.09,
            27.71,
            30.02,
            42.58,
            41.63,
            18.12,
            15.12,
            40.02,
            45.01,
            39.83
           ],
           "xaxis": "x",
           "y": [
            49.87,
            31.25,
            39.53,
            23.58,
            32.43,
            29,
            42.9,
            25.43,
            27.97,
            24.95,
            29.16
           ],
           "yaxis": "y"
          },
          {
           "hovertemplate": "club=LAC<br>frameId=149<br>x=%{x}<br>y=%{y}<extra></extra>",
           "legendgroup": "LAC",
           "marker": {
            "color": "Black",
            "symbol": "circle"
           },
           "mode": "markers",
           "name": "LAC",
           "orientation": "v",
           "showlegend": true,
           "type": "scatter",
           "x": [
            24.16,
            40.78,
            39.25,
            28.48,
            16.64,
            38.43,
            11.51,
            14.55,
            27.82,
            18.6,
            42.67
           ],
           "xaxis": "x",
           "y": [
            25.16,
            29.11,
            28.28,
            47.25,
            42.86,
            29.68,
            26.97,
            28,
            35.03,
            15.3,
            33.57
           ],
           "yaxis": "y"
          },
          {
           "hovertemplate": "club=football<br>frameId=149<br>x=%{x}<br>y=%{y}<extra></extra>",
           "legendgroup": "football",
           "marker": {
            "color": "Grey",
            "symbol": "circle"
           },
           "mode": "markers",
           "name": "football",
           "orientation": "v",
           "showlegend": true,
           "type": "scatter",
           "x": [
            43.25
           ],
           "xaxis": "x",
           "y": [
            31.6100006103516
           ],
           "yaxis": "y"
          }
         ],
         "name": "149"
        },
        {
         "data": [
          {
           "hovertemplate": "club=LV<br>frameId=150<br>x=%{x}<br>y=%{y}<extra></extra>",
           "legendgroup": "LV",
           "marker": {
            "color": "Red",
            "symbol": "circle"
           },
           "mode": "markers",
           "name": "LV",
           "orientation": "v",
           "showlegend": true,
           "type": "scatter",
           "x": [
            30.41,
            43.14,
            27.67,
            30.03,
            42.53,
            41.38,
            18.05,
            14.92,
            39.96,
            44.93,
            39.75
           ],
           "xaxis": "x",
           "y": [
            49.93,
            31.4,
            39.55,
            24.22,
            32.36,
            29.29,
            43.34,
            25.42,
            28.05,
            24.97,
            29.36
           ],
           "yaxis": "y"
          },
          {
           "hovertemplate": "club=LAC<br>frameId=150<br>x=%{x}<br>y=%{y}<extra></extra>",
           "legendgroup": "LAC",
           "marker": {
            "color": "Black",
            "symbol": "circle"
           },
           "mode": "markers",
           "name": "LAC",
           "orientation": "v",
           "showlegend": true,
           "type": "scatter",
           "x": [
            24.39,
            40.53,
            39.2,
            28.42,
            16.7,
            38.38,
            11.36,
            14.35,
            27.93,
            18.23,
            42.65
           ],
           "xaxis": "x",
           "y": [
            25.54,
            29.46,
            28.43,
            47.24,
            43.15,
            29.98,
            27.5,
            27.91,
            35.3,
            15.72,
            33.37
           ],
           "yaxis": "y"
          },
          {
           "hovertemplate": "club=football<br>frameId=150<br>x=%{x}<br>y=%{y}<extra></extra>",
           "legendgroup": "football",
           "marker": {
            "color": "Grey",
            "symbol": "circle"
           },
           "mode": "markers",
           "name": "football",
           "orientation": "v",
           "showlegend": true,
           "type": "scatter",
           "x": [
            43.2900009155273
           ],
           "xaxis": "x",
           "y": [
            31.8700008392334
           ],
           "yaxis": "y"
          }
         ],
         "name": "150"
        },
        {
         "data": [
          {
           "hovertemplate": "club=LV<br>frameId=151<br>x=%{x}<br>y=%{y}<extra></extra>",
           "legendgroup": "LV",
           "marker": {
            "color": "Red",
            "symbol": "circle"
           },
           "mode": "markers",
           "name": "LV",
           "orientation": "v",
           "showlegend": true,
           "type": "scatter",
           "x": [
            30.02,
            43.19,
            27.64,
            30.04,
            42.49,
            41.15,
            17.99,
            14.77,
            39.91,
            44.84,
            39.65
           ],
           "xaxis": "x",
           "y": [
            50,
            31.52,
            39.57,
            24.83,
            32.3,
            29.59,
            43.79,
            25.37,
            28.17,
            25,
            29.57
           ],
           "yaxis": "y"
          },
          {
           "hovertemplate": "club=LAC<br>frameId=151<br>x=%{x}<br>y=%{y}<extra></extra>",
           "legendgroup": "LAC",
           "marker": {
            "color": "Black",
            "symbol": "circle"
           },
           "mode": "markers",
           "name": "LAC",
           "orientation": "v",
           "showlegend": true,
           "type": "scatter",
           "x": [
            24.62,
            40.3,
            39.15,
            28.36,
            16.78,
            38.35,
            11.2,
            14.17,
            28,
            17.88,
            42.64
           ],
           "xaxis": "x",
           "y": [
            25.96,
            29.84,
            28.59,
            47.22,
            43.47,
            30.31,
            28.05,
            27.86,
            35.59,
            16.12,
            33.16
           ],
           "yaxis": "y"
          },
          {
           "hovertemplate": "club=football<br>frameId=151<br>x=%{x}<br>y=%{y}<extra></extra>",
           "legendgroup": "football",
           "marker": {
            "color": "Grey",
            "symbol": "circle"
           },
           "mode": "markers",
           "name": "football",
           "orientation": "v",
           "showlegend": true,
           "type": "scatter",
           "x": [
            43.3199996948242
           ],
           "xaxis": "x",
           "y": [
            32.1199989318848
           ],
           "yaxis": "y"
          }
         ],
         "name": "151"
        },
        {
         "data": [
          {
           "hovertemplate": "club=LV<br>frameId=152<br>x=%{x}<br>y=%{y}<extra></extra>",
           "legendgroup": "LV",
           "marker": {
            "color": "Red",
            "symbol": "circle"
           },
           "mode": "markers",
           "name": "LV",
           "orientation": "v",
           "showlegend": true,
           "type": "scatter",
           "x": [
            29.6,
            43.23,
            27.59,
            30.05,
            42.45,
            40.94,
            17.94,
            14.66,
            39.87,
            44.74,
            39.55
           ],
           "xaxis": "x",
           "y": [
            50.08,
            31.63,
            39.59,
            25.43,
            32.23,
            29.91,
            44.28,
            25.3,
            28.3,
            25.03,
            29.81
           ],
           "yaxis": "y"
          },
          {
           "hovertemplate": "club=LAC<br>frameId=152<br>x=%{x}<br>y=%{y}<extra></extra>",
           "legendgroup": "LAC",
           "marker": {
            "color": "Black",
            "symbol": "circle"
           },
           "mode": "markers",
           "name": "LAC",
           "orientation": "v",
           "showlegend": true,
           "type": "scatter",
           "x": [
            24.87,
            40.08,
            39.1,
            28.3,
            16.88,
            38.33,
            11.04,
            14.01,
            28.06,
            17.55,
            42.62
           ],
           "xaxis": "x",
           "y": [
            26.39,
            30.24,
            28.75,
            47.2,
            43.81,
            30.67,
            28.62,
            27.83,
            35.93,
            16.52,
            32.97
           ],
           "yaxis": "y"
          },
          {
           "hovertemplate": "club=football<br>frameId=152<br>x=%{x}<br>y=%{y}<extra></extra>",
           "legendgroup": "football",
           "marker": {
            "color": "Grey",
            "symbol": "circle"
           },
           "mode": "markers",
           "name": "football",
           "orientation": "v",
           "showlegend": true,
           "type": "scatter",
           "x": [
            43.2400016784668
           ],
           "xaxis": "x",
           "y": [
            32.439998626709
           ],
           "yaxis": "y"
          }
         ],
         "name": "152"
        },
        {
         "data": [
          {
           "hovertemplate": "club=LV<br>frameId=153<br>x=%{x}<br>y=%{y}<extra></extra>",
           "legendgroup": "LV",
           "marker": {
            "color": "Red",
            "symbol": "circle"
           },
           "mode": "markers",
           "name": "LV",
           "orientation": "v",
           "showlegend": true,
           "type": "scatter",
           "x": [
            29.15,
            43.26,
            27.54,
            30.06,
            42.41,
            40.75,
            17.89,
            14.58,
            39.82,
            44.62,
            39.43
           ],
           "xaxis": "x",
           "y": [
            50.16,
            31.72,
            39.61,
            26.03,
            32.16,
            30.25,
            44.77,
            25.21,
            28.44,
            25.07,
            30.08
           ],
           "yaxis": "y"
          },
          {
           "hovertemplate": "club=LAC<br>frameId=153<br>x=%{x}<br>y=%{y}<extra></extra>",
           "legendgroup": "LAC",
           "marker": {
            "color": "Black",
            "symbol": "circle"
           },
           "mode": "markers",
           "name": "LAC",
           "orientation": "v",
           "showlegend": true,
           "type": "scatter",
           "x": [
            25.11,
            39.88,
            39.06,
            28.22,
            16.99,
            38.32,
            10.89,
            13.89,
            28.1,
            17.23,
            42.62
           ],
           "xaxis": "x",
           "y": [
            26.84,
            30.68,
            28.91,
            47.18,
            44.17,
            31.04,
            29.21,
            27.83,
            36.31,
            16.89,
            32.79
           ],
           "yaxis": "y"
          },
          {
           "hovertemplate": "club=football<br>frameId=153<br>x=%{x}<br>y=%{y}<extra></extra>",
           "legendgroup": "football",
           "marker": {
            "color": "Grey",
            "symbol": "circle"
           },
           "mode": "markers",
           "name": "football",
           "orientation": "v",
           "showlegend": true,
           "type": "scatter",
           "x": [
            40.2599983215332
           ],
           "xaxis": "x",
           "y": [
            35.3300018310547
           ],
           "yaxis": "y"
          }
         ],
         "name": "153"
        },
        {
         "data": [
          {
           "hovertemplate": "club=LV<br>frameId=154<br>x=%{x}<br>y=%{y}<extra></extra>",
           "legendgroup": "LV",
           "marker": {
            "color": "Red",
            "symbol": "circle"
           },
           "mode": "markers",
           "name": "LV",
           "orientation": "v",
           "showlegend": true,
           "type": "scatter",
           "x": [
            28.69,
            43.3,
            27.49,
            30.08,
            42.39,
            40.58,
            17.87,
            14.53,
            39.77,
            44.5,
            39.31
           ],
           "xaxis": "x",
           "y": [
            50.27,
            31.8,
            39.63,
            26.6,
            32.09,
            30.58,
            45.28,
            25.1,
            28.6,
            25.11,
            30.37
           ],
           "yaxis": "y"
          },
          {
           "hovertemplate": "club=LAC<br>frameId=154<br>x=%{x}<br>y=%{y}<extra></extra>",
           "legendgroup": "LAC",
           "marker": {
            "color": "Black",
            "symbol": "circle"
           },
           "mode": "markers",
           "name": "LAC",
           "orientation": "v",
           "showlegend": true,
           "type": "scatter",
           "x": [
            25.35,
            39.69,
            39.01,
            28.14,
            17.12,
            38.31,
            10.76,
            13.8,
            28.1,
            16.94,
            42.61
           ],
           "xaxis": "x",
           "y": [
            27.31,
            31.13,
            29.06,
            47.17,
            44.56,
            31.43,
            29.83,
            27.87,
            36.73,
            17.26,
            32.62
           ],
           "yaxis": "y"
          },
          {
           "hovertemplate": "club=football<br>frameId=154<br>x=%{x}<br>y=%{y}<extra></extra>",
           "legendgroup": "football",
           "marker": {
            "color": "Grey",
            "symbol": "circle"
           },
           "mode": "markers",
           "name": "football",
           "orientation": "v",
           "showlegend": true,
           "type": "scatter",
           "x": [
            39.1100006103516
           ],
           "xaxis": "x",
           "y": [
            36.6399993896484
           ],
           "yaxis": "y"
          }
         ],
         "name": "154"
        },
        {
         "data": [
          {
           "hovertemplate": "club=LV<br>frameId=155<br>x=%{x}<br>y=%{y}<extra></extra>",
           "legendgroup": "LV",
           "marker": {
            "color": "Red",
            "symbol": "circle"
           },
           "mode": "markers",
           "name": "LV",
           "orientation": "v",
           "showlegend": true,
           "type": "scatter",
           "x": [
            28.21,
            43.35,
            27.43,
            30.11,
            42.37,
            40.42,
            17.87,
            14.52,
            39.73,
            44.37,
            39.2
           ],
           "xaxis": "x",
           "y": [
            50.38,
            31.89,
            39.65,
            27.15,
            32.01,
            30.94,
            45.8,
            24.98,
            28.78,
            25.14,
            30.66
           ],
           "yaxis": "y"
          },
          {
           "hovertemplate": "club=LAC<br>frameId=155<br>x=%{x}<br>y=%{y}<extra></extra>",
           "legendgroup": "LAC",
           "marker": {
            "color": "Black",
            "symbol": "circle"
           },
           "mode": "markers",
           "name": "LAC",
           "orientation": "v",
           "showlegend": true,
           "type": "scatter",
           "x": [
            25.56,
            39.51,
            38.98,
            28.05,
            17.26,
            38.28,
            10.65,
            13.76,
            28.08,
            16.68,
            42.6
           ],
           "xaxis": "x",
           "y": [
            27.8,
            31.6,
            29.22,
            47.16,
            45,
            31.83,
            30.47,
            27.92,
            37.18,
            17.6,
            32.48
           ],
           "yaxis": "y"
          },
          {
           "hovertemplate": "club=football<br>frameId=155<br>x=%{x}<br>y=%{y}<extra></extra>",
           "legendgroup": "football",
           "marker": {
            "color": "Grey",
            "symbol": "circle"
           },
           "mode": "markers",
           "name": "football",
           "orientation": "v",
           "showlegend": true,
           "type": "scatter",
           "x": [
            37.9599990844727
           ],
           "xaxis": "x",
           "y": [
            37.939998626709
           ],
           "yaxis": "y"
          }
         ],
         "name": "155"
        },
        {
         "data": [
          {
           "hovertemplate": "club=LV<br>frameId=156<br>x=%{x}<br>y=%{y}<extra></extra>",
           "legendgroup": "LV",
           "marker": {
            "color": "Red",
            "symbol": "circle"
           },
           "mode": "markers",
           "name": "LV",
           "orientation": "v",
           "showlegend": true,
           "type": "scatter",
           "x": [
            27.72,
            43.4,
            27.35,
            30.14,
            42.36,
            40.29,
            17.89,
            14.54,
            39.68,
            44.24,
            39.09
           ],
           "xaxis": "x",
           "y": [
            50.52,
            31.97,
            39.67,
            27.69,
            31.94,
            31.28,
            46.36,
            24.85,
            28.97,
            25.19,
            30.96
           ],
           "yaxis": "y"
          },
          {
           "hovertemplate": "club=LAC<br>frameId=156<br>x=%{x}<br>y=%{y}<extra></extra>",
           "legendgroup": "LAC",
           "marker": {
            "color": "Black",
            "symbol": "circle"
           },
           "mode": "markers",
           "name": "LAC",
           "orientation": "v",
           "showlegend": true,
           "type": "scatter",
           "x": [
            25.74,
            39.36,
            38.94,
            27.96,
            17.4,
            38.25,
            10.54,
            13.76,
            28.04,
            16.44,
            42.6
           ],
           "xaxis": "x",
           "y": [
            28.3,
            32.08,
            29.36,
            47.16,
            45.49,
            32.23,
            31.12,
            27.98,
            37.66,
            17.94,
            32.35
           ],
           "yaxis": "y"
          },
          {
           "hovertemplate": "club=football<br>frameId=156<br>x=%{x}<br>y=%{y}<extra></extra>",
           "legendgroup": "football",
           "marker": {
            "color": "Grey",
            "symbol": "circle"
           },
           "mode": "markers",
           "name": "football",
           "orientation": "v",
           "showlegend": true,
           "type": "scatter",
           "x": [
            36.8199996948242
           ],
           "xaxis": "x",
           "y": [
            39.2400016784668
           ],
           "yaxis": "y"
          }
         ],
         "name": "156"
        },
        {
         "data": [
          {
           "hovertemplate": "club=LV<br>frameId=157<br>x=%{x}<br>y=%{y}<extra></extra>",
           "legendgroup": "LV",
           "marker": {
            "color": "Red",
            "symbol": "circle"
           },
           "mode": "markers",
           "name": "LV",
           "orientation": "v",
           "showlegend": true,
           "type": "scatter",
           "x": [
            27.22,
            43.46,
            27.27,
            30.19,
            42.33,
            40.17,
            17.92,
            14.58,
            39.63,
            44.09,
            38.98
           ],
           "xaxis": "x",
           "y": [
            50.68,
            32.05,
            39.69,
            28.2,
            31.88,
            31.63,
            46.92,
            24.72,
            29.18,
            25.23,
            31.26
           ],
           "yaxis": "y"
          },
          {
           "hovertemplate": "club=LAC<br>frameId=157<br>x=%{x}<br>y=%{y}<extra></extra>",
           "legendgroup": "LAC",
           "marker": {
            "color": "Black",
            "symbol": "circle"
           },
           "mode": "markers",
           "name": "LAC",
           "orientation": "v",
           "showlegend": true,
           "type": "scatter",
           "x": [
            25.89,
            39.23,
            38.91,
            27.86,
            17.56,
            38.2,
            10.46,
            13.79,
            27.97,
            16.21,
            42.6
           ],
           "xaxis": "x",
           "y": [
            28.8,
            32.57,
            29.5,
            47.19,
            46.01,
            32.63,
            31.78,
            28.06,
            38.17,
            18.25,
            32.25
           ],
           "yaxis": "y"
          },
          {
           "hovertemplate": "club=football<br>frameId=157<br>x=%{x}<br>y=%{y}<extra></extra>",
           "legendgroup": "football",
           "marker": {
            "color": "Grey",
            "symbol": "circle"
           },
           "mode": "markers",
           "name": "football",
           "orientation": "v",
           "showlegend": true,
           "type": "scatter",
           "x": [
            35.6599998474121
           ],
           "xaxis": "x",
           "y": [
            40.5400009155273
           ],
           "yaxis": "y"
          }
         ],
         "name": "157"
        },
        {
         "data": [
          {
           "hovertemplate": "club=LV<br>frameId=158<br>x=%{x}<br>y=%{y}<extra></extra>",
           "legendgroup": "LV",
           "marker": {
            "color": "Red",
            "symbol": "circle"
           },
           "mode": "markers",
           "name": "LV",
           "orientation": "v",
           "showlegend": true,
           "type": "scatter",
           "x": [
            26.71,
            43.51,
            27.18,
            30.24,
            42.31,
            40.07,
            17.97,
            14.66,
            39.59,
            43.95,
            38.88
           ],
           "xaxis": "x",
           "y": [
            50.87,
            32.14,
            39.7,
            28.71,
            31.82,
            31.97,
            47.5,
            24.59,
            29.4,
            25.28,
            31.55
           ],
           "yaxis": "y"
          },
          {
           "hovertemplate": "club=LAC<br>frameId=158<br>x=%{x}<br>y=%{y}<extra></extra>",
           "legendgroup": "LAC",
           "marker": {
            "color": "Black",
            "symbol": "circle"
           },
           "mode": "markers",
           "name": "LAC",
           "orientation": "v",
           "showlegend": true,
           "type": "scatter",
           "x": [
            26,
            39.13,
            38.87,
            27.75,
            17.72,
            38.14,
            10.4,
            13.85,
            27.87,
            16.01,
            42.6
           ],
           "xaxis": "x",
           "y": [
            29.3,
            33.07,
            29.62,
            47.23,
            46.58,
            33.03,
            32.45,
            28.14,
            38.69,
            18.55,
            32.16
           ],
           "yaxis": "y"
          },
          {
           "hovertemplate": "club=football<br>frameId=158<br>x=%{x}<br>y=%{y}<extra></extra>",
           "legendgroup": "football",
           "marker": {
            "color": "Grey",
            "symbol": "circle"
           },
           "mode": "markers",
           "name": "football",
           "orientation": "v",
           "showlegend": true,
           "type": "scatter",
           "x": [
            34.4900016784668
           ],
           "xaxis": "x",
           "y": [
            41.8600006103516
           ],
           "yaxis": "y"
          }
         ],
         "name": "158"
        },
        {
         "data": [
          {
           "hovertemplate": "club=LV<br>frameId=159<br>x=%{x}<br>y=%{y}<extra></extra>",
           "legendgroup": "LV",
           "marker": {
            "color": "Red",
            "symbol": "circle"
           },
           "mode": "markers",
           "name": "LV",
           "orientation": "v",
           "showlegend": true,
           "type": "scatter",
           "x": [
            26.2,
            43.56,
            27.08,
            30.29,
            42.3,
            39.99,
            18.01,
            14.75,
            39.54,
            43.79,
            38.78
           ],
           "xaxis": "x",
           "y": [
            51.07,
            32.24,
            39.71,
            29.2,
            31.77,
            32.31,
            48.08,
            24.46,
            29.63,
            25.32,
            31.85
           ],
           "yaxis": "y"
          },
          {
           "hovertemplate": "club=LAC<br>frameId=159<br>x=%{x}<br>y=%{y}<extra></extra>",
           "legendgroup": "LAC",
           "marker": {
            "color": "Black",
            "symbol": "circle"
           },
           "mode": "markers",
           "name": "LAC",
           "orientation": "v",
           "showlegend": true,
           "type": "scatter",
           "x": [
            26.08,
            39.05,
            38.85,
            27.64,
            17.89,
            38.07,
            10.36,
            13.93,
            27.76,
            15.82,
            42.61
           ],
           "xaxis": "x",
           "y": [
            29.8,
            33.58,
            29.74,
            47.32,
            47.16,
            33.42,
            33.12,
            28.25,
            39.23,
            18.84,
            32.08
           ],
           "yaxis": "y"
          },
          {
           "hovertemplate": "club=football<br>frameId=159<br>x=%{x}<br>y=%{y}<extra></extra>",
           "legendgroup": "football",
           "marker": {
            "color": "Grey",
            "symbol": "circle"
           },
           "mode": "markers",
           "name": "football",
           "orientation": "v",
           "showlegend": true,
           "type": "scatter",
           "x": [
            33.3400001525879
           ],
           "xaxis": "x",
           "y": [
            43.189998626709
           ],
           "yaxis": "y"
          }
         ],
         "name": "159"
        },
        {
         "data": [
          {
           "hovertemplate": "club=LV<br>frameId=160<br>x=%{x}<br>y=%{y}<extra></extra>",
           "legendgroup": "LV",
           "marker": {
            "color": "Red",
            "symbol": "circle"
           },
           "mode": "markers",
           "name": "LV",
           "orientation": "v",
           "showlegend": true,
           "type": "scatter",
           "x": [
            25.72,
            43.61,
            26.97,
            30.34,
            42.28,
            39.92,
            18.03,
            14.87,
            39.49,
            43.64,
            38.68
           ],
           "xaxis": "x",
           "y": [
            51.28,
            32.34,
            39.72,
            29.68,
            31.72,
            32.63,
            48.65,
            24.35,
            29.86,
            25.37,
            32.14
           ],
           "yaxis": "y"
          },
          {
           "hovertemplate": "club=LAC<br>frameId=160<br>x=%{x}<br>y=%{y}<extra></extra>",
           "legendgroup": "LAC",
           "marker": {
            "color": "Black",
            "symbol": "circle"
           },
           "mode": "markers",
           "name": "LAC",
           "orientation": "v",
           "showlegend": true,
           "type": "scatter",
           "x": [
            26.15,
            39,
            38.81,
            27.52,
            18.06,
            37.98,
            10.33,
            14.01,
            27.62,
            15.63,
            42.62
           ],
           "xaxis": "x",
           "y": [
            30.29,
            34.08,
            29.85,
            47.44,
            47.78,
            33.82,
            33.79,
            28.36,
            39.76,
            19.11,
            32.01
           ],
           "yaxis": "y"
          },
          {
           "hovertemplate": "club=football<br>frameId=160<br>x=%{x}<br>y=%{y}<extra></extra>",
           "legendgroup": "football",
           "marker": {
            "color": "Grey",
            "symbol": "circle"
           },
           "mode": "markers",
           "name": "football",
           "orientation": "v",
           "showlegend": true,
           "type": "scatter",
           "x": [
            32.1599998474121
           ],
           "xaxis": "x",
           "y": [
            44.5299987792969
           ],
           "yaxis": "y"
          }
         ],
         "name": "160"
        },
        {
         "data": [
          {
           "hovertemplate": "club=LV<br>frameId=161<br>x=%{x}<br>y=%{y}<extra></extra>",
           "legendgroup": "LV",
           "marker": {
            "color": "Red",
            "symbol": "circle"
           },
           "mode": "markers",
           "name": "LV",
           "orientation": "v",
           "showlegend": true,
           "type": "scatter",
           "x": [
            25.25,
            43.66,
            26.87,
            30.4,
            42.27,
            39.85,
            18.05,
            14.99,
            39.44,
            43.48,
            38.59
           ],
           "xaxis": "x",
           "y": [
            51.52,
            32.44,
            39.72,
            30.14,
            31.68,
            32.94,
            49.22,
            24.25,
            30.1,
            25.42,
            32.43
           ],
           "yaxis": "y"
          },
          {
           "hovertemplate": "club=LAC<br>frameId=161<br>x=%{x}<br>y=%{y}<extra></extra>",
           "legendgroup": "LAC",
           "marker": {
            "color": "Black",
            "symbol": "circle"
           },
           "mode": "markers",
           "name": "LAC",
           "orientation": "v",
           "showlegend": true,
           "type": "scatter",
           "x": [
            26.19,
            38.96,
            38.76,
            27.39,
            18.23,
            37.87,
            10.33,
            14.11,
            27.47,
            15.48,
            42.62
           ],
           "xaxis": "x",
           "y": [
            30.76,
            34.59,
            29.96,
            47.6,
            48.44,
            34.22,
            34.45,
            28.47,
            40.3,
            19.36,
            31.95
           ],
           "yaxis": "y"
          },
          {
           "hovertemplate": "club=football<br>frameId=161<br>x=%{x}<br>y=%{y}<extra></extra>",
           "legendgroup": "football",
           "marker": {
            "color": "Grey",
            "symbol": "circle"
           },
           "mode": "markers",
           "name": "football",
           "orientation": "v",
           "showlegend": true,
           "type": "scatter",
           "x": [
            30.9699993133545
           ],
           "xaxis": "x",
           "y": [
            45.8600006103516
           ],
           "yaxis": "y"
          }
         ],
         "name": "161"
        },
        {
         "data": [
          {
           "hovertemplate": "club=LV<br>frameId=162<br>x=%{x}<br>y=%{y}<extra></extra>",
           "legendgroup": "LV",
           "marker": {
            "color": "Red",
            "symbol": "circle"
           },
           "mode": "markers",
           "name": "LV",
           "orientation": "v",
           "showlegend": true,
           "type": "scatter",
           "x": [
            24.8,
            43.71,
            26.77,
            30.46,
            42.27,
            39.8,
            18.07,
            15.13,
            39.37,
            43.32,
            38.49
           ],
           "xaxis": "x",
           "y": [
            51.78,
            32.53,
            39.73,
            30.58,
            31.64,
            33.22,
            49.77,
            24.17,
            30.34,
            25.46,
            32.7
           ],
           "yaxis": "y"
          },
          {
           "hovertemplate": "club=LAC<br>frameId=162<br>x=%{x}<br>y=%{y}<extra></extra>",
           "legendgroup": "LAC",
           "marker": {
            "color": "Black",
            "symbol": "circle"
           },
           "mode": "markers",
           "name": "LAC",
           "orientation": "v",
           "showlegend": true,
           "type": "scatter",
           "x": [
            26.2,
            38.93,
            38.69,
            27.26,
            18.4,
            37.74,
            10.36,
            14.21,
            27.31,
            15.34,
            42.63
           ],
           "xaxis": "x",
           "y": [
            31.22,
            35.08,
            30.06,
            47.77,
            49.13,
            34.62,
            35.1,
            28.59,
            40.83,
            19.6,
            31.92
           ],
           "yaxis": "y"
          },
          {
           "hovertemplate": "club=football<br>frameId=162<br>x=%{x}<br>y=%{y}<extra></extra>",
           "legendgroup": "football",
           "marker": {
            "color": "Grey",
            "symbol": "circle"
           },
           "mode": "markers",
           "name": "football",
           "orientation": "v",
           "showlegend": true,
           "type": "scatter",
           "x": [
            29.7700004577637
           ],
           "xaxis": "x",
           "y": [
            47.189998626709
           ],
           "yaxis": "y"
          }
         ],
         "name": "162"
        },
        {
         "data": [
          {
           "hovertemplate": "club=LV<br>frameId=163<br>x=%{x}<br>y=%{y}<extra></extra>",
           "legendgroup": "LV",
           "marker": {
            "color": "Red",
            "symbol": "circle"
           },
           "mode": "markers",
           "name": "LV",
           "orientation": "v",
           "showlegend": true,
           "type": "scatter",
           "x": [
            24.37,
            43.75,
            26.67,
            30.52,
            42.26,
            39.75,
            18.07,
            15.28,
            39.29,
            43.15,
            38.4
           ],
           "xaxis": "x",
           "y": [
            52.06,
            32.63,
            39.74,
            31.01,
            31.61,
            33.5,
            50.31,
            24.1,
            30.57,
            25.51,
            32.96
           ],
           "yaxis": "y"
          },
          {
           "hovertemplate": "club=LAC<br>frameId=163<br>x=%{x}<br>y=%{y}<extra></extra>",
           "legendgroup": "LAC",
           "marker": {
            "color": "Black",
            "symbol": "circle"
           },
           "mode": "markers",
           "name": "LAC",
           "orientation": "v",
           "showlegend": true,
           "type": "scatter",
           "x": [
            26.2,
            38.92,
            38.62,
            27.13,
            18.57,
            37.61,
            10.39,
            14.31,
            27.14,
            15.22,
            42.63
           ],
           "xaxis": "x",
           "y": [
            31.67,
            35.56,
            30.16,
            47.96,
            49.85,
            35.01,
            35.74,
            28.71,
            41.34,
            19.82,
            31.89
           ],
           "yaxis": "y"
          },
          {
           "hovertemplate": "club=football<br>frameId=163<br>x=%{x}<br>y=%{y}<extra></extra>",
           "legendgroup": "football",
           "marker": {
            "color": "Grey",
            "symbol": "circle"
           },
           "mode": "markers",
           "name": "football",
           "orientation": "v",
           "showlegend": true,
           "type": "scatter",
           "x": [
            28.5900001525879
           ],
           "xaxis": "x",
           "y": [
            48.5
           ],
           "yaxis": "y"
          }
         ],
         "name": "163"
        },
        {
         "data": [
          {
           "hovertemplate": "club=LV<br>frameId=164<br>x=%{x}<br>y=%{y}<extra></extra>",
           "legendgroup": "LV",
           "marker": {
            "color": "Red",
            "symbol": "circle"
           },
           "mode": "markers",
           "name": "LV",
           "orientation": "v",
           "showlegend": true,
           "type": "scatter",
           "x": [
            23.97,
            43.78,
            26.59,
            30.57,
            42.28,
            39.72,
            18.08,
            15.43,
            39.2,
            42.98,
            38.33
           ],
           "xaxis": "x",
           "y": [
            52.37,
            32.72,
            39.76,
            31.41,
            31.59,
            33.75,
            50.82,
            24.04,
            30.79,
            25.56,
            33.21
           ],
           "yaxis": "y"
          },
          {
           "hovertemplate": "club=LAC<br>frameId=164<br>x=%{x}<br>y=%{y}<extra></extra>",
           "legendgroup": "LAC",
           "marker": {
            "color": "Black",
            "symbol": "circle"
           },
           "mode": "markers",
           "name": "LAC",
           "orientation": "v",
           "showlegend": true,
           "type": "scatter",
           "x": [
            26.19,
            38.92,
            38.53,
            26.99,
            18.74,
            37.46,
            10.42,
            14.42,
            26.98,
            15.11,
            42.64
           ],
           "xaxis": "x",
           "y": [
            32.09,
            36.04,
            30.26,
            48.16,
            50.58,
            35.39,
            36.36,
            28.83,
            41.85,
            20.04,
            31.88
           ],
           "yaxis": "y"
          },
          {
           "hovertemplate": "club=football<br>frameId=164<br>x=%{x}<br>y=%{y}<extra></extra>",
           "legendgroup": "football",
           "marker": {
            "color": "Grey",
            "symbol": "circle"
           },
           "mode": "markers",
           "name": "football",
           "orientation": "v",
           "showlegend": true,
           "type": "scatter",
           "x": [
            27.4200000762939
           ],
           "xaxis": "x",
           "y": [
            49.7999992370605
           ],
           "yaxis": "y"
          }
         ],
         "name": "164"
        },
        {
         "data": [
          {
           "hovertemplate": "club=LV<br>frameId=165<br>x=%{x}<br>y=%{y}<extra></extra>",
           "legendgroup": "LV",
           "marker": {
            "color": "Red",
            "symbol": "circle"
           },
           "mode": "markers",
           "name": "LV",
           "orientation": "v",
           "showlegend": true,
           "type": "scatter",
           "x": [
            23.58,
            43.82,
            26.51,
            30.63,
            42.3,
            39.69,
            18.07,
            15.58,
            39.11,
            42.82,
            38.24
           ],
           "xaxis": "x",
           "y": [
            52.69,
            32.81,
            39.78,
            31.8,
            31.57,
            33.99,
            51.3,
            23.99,
            31.01,
            25.61,
            33.44
           ],
           "yaxis": "y"
          },
          {
           "hovertemplate": "club=LAC<br>frameId=165<br>x=%{x}<br>y=%{y}<extra></extra>",
           "legendgroup": "LAC",
           "marker": {
            "color": "Black",
            "symbol": "circle"
           },
           "mode": "markers",
           "name": "LAC",
           "orientation": "v",
           "showlegend": true,
           "type": "scatter",
           "x": [
            26.15,
            38.94,
            38.43,
            26.87,
            18.91,
            37.31,
            10.47,
            14.54,
            26.82,
            15.01,
            42.64
           ],
           "xaxis": "x",
           "y": [
            32.49,
            36.5,
            30.36,
            48.37,
            51.31,
            35.76,
            36.96,
            28.95,
            42.33,
            20.24,
            31.89
           ],
           "yaxis": "y"
          },
          {
           "hovertemplate": "club=football<br>frameId=165<br>x=%{x}<br>y=%{y}<extra></extra>",
           "legendgroup": "football",
           "marker": {
            "color": "Grey",
            "symbol": "circle"
           },
           "mode": "markers",
           "name": "football",
           "orientation": "v",
           "showlegend": true,
           "type": "scatter",
           "x": [
            26.2700004577637
           ],
           "xaxis": "x",
           "y": [
            51.0800018310547
           ],
           "yaxis": "y"
          }
         ],
         "name": "165"
        },
        {
         "data": [
          {
           "hovertemplate": "club=LV<br>frameId=166<br>x=%{x}<br>y=%{y}<extra></extra>",
           "legendgroup": "LV",
           "marker": {
            "color": "Red",
            "symbol": "circle"
           },
           "mode": "markers",
           "name": "LV",
           "orientation": "v",
           "showlegend": true,
           "type": "scatter",
           "x": [
            23.22,
            43.85,
            26.43,
            30.69,
            42.32,
            39.67,
            18.06,
            15.72,
            39.01,
            42.66,
            38.16
           ],
           "xaxis": "x",
           "y": [
            53.01,
            32.9,
            39.81,
            32.17,
            31.56,
            34.21,
            51.75,
            23.95,
            31.22,
            25.66,
            33.65
           ],
           "yaxis": "y"
          },
          {
           "hovertemplate": "club=LAC<br>frameId=166<br>x=%{x}<br>y=%{y}<extra></extra>",
           "legendgroup": "LAC",
           "marker": {
            "color": "Black",
            "symbol": "circle"
           },
           "mode": "markers",
           "name": "LAC",
           "orientation": "v",
           "showlegend": true,
           "type": "scatter",
           "x": [
            26.11,
            38.97,
            38.3,
            26.75,
            19.09,
            37.16,
            10.54,
            14.66,
            26.65,
            14.94,
            42.64
           ],
           "xaxis": "x",
           "y": [
            32.87,
            36.95,
            30.45,
            48.57,
            52.05,
            36.13,
            37.53,
            29.08,
            42.78,
            20.43,
            31.92
           ],
           "yaxis": "y"
          },
          {
           "hovertemplate": "club=football<br>frameId=166<br>x=%{x}<br>y=%{y}<extra></extra>",
           "legendgroup": "football",
           "marker": {
            "color": "Grey",
            "symbol": "circle"
           },
           "mode": "markers",
           "name": "football",
           "orientation": "v",
           "showlegend": true,
           "type": "scatter",
           "x": [
            25.1399993896484
           ],
           "xaxis": "x",
           "y": [
            52.3300018310547
           ],
           "yaxis": "y"
          }
         ],
         "name": "166"
        },
        {
         "data": [
          {
           "hovertemplate": "club=LV<br>frameId=167<br>x=%{x}<br>y=%{y}<extra></extra>",
           "legendgroup": "LV",
           "marker": {
            "color": "Red",
            "symbol": "circle"
           },
           "mode": "markers",
           "name": "LV",
           "orientation": "v",
           "showlegend": true,
           "type": "scatter",
           "x": [
            22.88,
            43.89,
            26.37,
            30.75,
            42.34,
            39.66,
            18.05,
            15.87,
            38.92,
            42.5,
            38.08
           ],
           "xaxis": "x",
           "y": [
            53.35,
            32.98,
            39.84,
            32.52,
            31.56,
            34.41,
            52.16,
            23.9,
            31.42,
            25.71,
            33.86
           ],
           "yaxis": "y"
          },
          {
           "hovertemplate": "club=LAC<br>frameId=167<br>x=%{x}<br>y=%{y}<extra></extra>",
           "legendgroup": "LAC",
           "marker": {
            "color": "Black",
            "symbol": "circle"
           },
           "mode": "markers",
           "name": "LAC",
           "orientation": "v",
           "showlegend": true,
           "type": "scatter",
           "x": [
            26.05,
            39.01,
            38.17,
            26.65,
            19.26,
            36.99,
            10.63,
            14.78,
            26.5,
            14.88,
            42.63
           ],
           "xaxis": "x",
           "y": [
            33.21,
            37.38,
            30.54,
            48.76,
            52.79,
            36.48,
            38.08,
            29.2,
            43.19,
            20.62,
            31.97
           ],
           "yaxis": "y"
          },
          {
           "hovertemplate": "club=football<br>frameId=167<br>x=%{x}<br>y=%{y}<extra></extra>",
           "legendgroup": "football",
           "marker": {
            "color": "Grey",
            "symbol": "circle"
           },
           "mode": "markers",
           "name": "football",
           "orientation": "v",
           "showlegend": true,
           "type": "scatter",
           "x": [
            24.0599994659424
           ],
           "xaxis": "x",
           "y": [
            53.560001373291
           ],
           "yaxis": "y"
          }
         ],
         "name": "167"
        },
        {
         "data": [
          {
           "hovertemplate": "club=LV<br>frameId=168<br>x=%{x}<br>y=%{y}<extra></extra>",
           "legendgroup": "LV",
           "marker": {
            "color": "Red",
            "symbol": "circle"
           },
           "mode": "markers",
           "name": "LV",
           "orientation": "v",
           "showlegend": true,
           "type": "scatter",
           "x": [
            22.57,
            43.93,
            26.33,
            30.83,
            42.34,
            39.65,
            18.05,
            16.02,
            38.82,
            42.35,
            37.99
           ],
           "xaxis": "x",
           "y": [
            53.69,
            33.04,
            39.87,
            32.85,
            31.56,
            34.58,
            52.54,
            23.85,
            31.62,
            25.77,
            34.05
           ],
           "yaxis": "y"
          },
          {
           "hovertemplate": "club=LAC<br>frameId=168<br>x=%{x}<br>y=%{y}<extra></extra>",
           "legendgroup": "LAC",
           "marker": {
            "color": "Black",
            "symbol": "circle"
           },
           "mode": "markers",
           "name": "LAC",
           "orientation": "v",
           "showlegend": true,
           "type": "scatter",
           "x": [
            25.98,
            39.06,
            38.03,
            26.56,
            19.42,
            36.85,
            10.73,
            14.89,
            26.34,
            14.85,
            42.62
           ],
           "xaxis": "x",
           "y": [
            33.54,
            37.81,
            30.64,
            48.93,
            53.52,
            36.81,
            38.61,
            29.32,
            43.57,
            20.79,
            32.04
           ],
           "yaxis": "y"
          },
          {
           "hovertemplate": "club=football<br>frameId=168<br>x=%{x}<br>y=%{y}<extra></extra>",
           "legendgroup": "football",
           "marker": {
            "color": "Grey",
            "symbol": "circle"
           },
           "mode": "markers",
           "name": "football",
           "orientation": "v",
           "showlegend": true,
           "type": "scatter",
           "x": [
            23
           ],
           "xaxis": "x",
           "y": [
            54.7599983215332
           ],
           "yaxis": "y"
          }
         ],
         "name": "168"
        },
        {
         "data": [
          {
           "hovertemplate": "club=LV<br>frameId=169<br>x=%{x}<br>y=%{y}<extra></extra>",
           "legendgroup": "LV",
           "marker": {
            "color": "Red",
            "symbol": "circle"
           },
           "mode": "markers",
           "name": "LV",
           "orientation": "v",
           "showlegend": true,
           "type": "scatter",
           "x": [
            22.29,
            43.97,
            26.3,
            30.91,
            42.35,
            39.64,
            18.04,
            16.16,
            38.71,
            42.19,
            37.92
           ],
           "xaxis": "x",
           "y": [
            54.02,
            33.1,
            39.91,
            33.16,
            31.56,
            34.75,
            52.88,
            23.81,
            31.81,
            25.83,
            34.22
           ],
           "yaxis": "y"
          },
          {
           "hovertemplate": "club=LAC<br>frameId=169<br>x=%{x}<br>y=%{y}<extra></extra>",
           "legendgroup": "LAC",
           "marker": {
            "color": "Black",
            "symbol": "circle"
           },
           "mode": "markers",
           "name": "LAC",
           "orientation": "v",
           "showlegend": true,
           "type": "scatter",
           "x": [
            25.91,
            39.11,
            37.89,
            26.47,
            19.57,
            36.71,
            10.83,
            14.99,
            26.19,
            14.83,
            42.6
           ],
           "xaxis": "x",
           "y": [
            33.83,
            38.22,
            30.73,
            49.08,
            54.23,
            37.14,
            39.12,
            29.44,
            43.91,
            20.96,
            32.13
           ],
           "yaxis": "y"
          },
          {
           "hovertemplate": "club=football<br>frameId=169<br>x=%{x}<br>y=%{y}<extra></extra>",
           "legendgroup": "football",
           "marker": {
            "color": "Grey",
            "symbol": "circle"
           },
           "mode": "markers",
           "name": "football",
           "orientation": "v",
           "showlegend": true,
           "type": "scatter",
           "x": [
            21.9799995422363
           ],
           "xaxis": "x",
           "y": [
            55.9199981689453
           ],
           "yaxis": "y"
          }
         ],
         "name": "169"
        },
        {
         "data": [
          {
           "hovertemplate": "club=LV<br>frameId=170<br>x=%{x}<br>y=%{y}<extra></extra>",
           "legendgroup": "LV",
           "marker": {
            "color": "Red",
            "symbol": "circle"
           },
           "mode": "markers",
           "name": "LV",
           "orientation": "v",
           "showlegend": true,
           "type": "scatter",
           "x": [
            22.02,
            44.01,
            26.27,
            31,
            42.34,
            39.65,
            18.05,
            16.3,
            38.6,
            42.03,
            37.85
           ],
           "xaxis": "x",
           "y": [
            54.35,
            33.14,
            39.94,
            33.46,
            31.57,
            34.89,
            53.18,
            23.78,
            31.98,
            25.88,
            34.39
           ],
           "yaxis": "y"
          },
          {
           "hovertemplate": "club=LAC<br>frameId=170<br>x=%{x}<br>y=%{y}<extra></extra>",
           "legendgroup": "LAC",
           "marker": {
            "color": "Black",
            "symbol": "circle"
           },
           "mode": "markers",
           "name": "LAC",
           "orientation": "v",
           "showlegend": true,
           "type": "scatter",
           "x": [
            25.83,
            39.18,
            37.74,
            26.38,
            19.7,
            36.57,
            10.94,
            15.08,
            26.04,
            14.82,
            42.57
           ],
           "xaxis": "x",
           "y": [
            34.11,
            38.62,
            30.81,
            49.21,
            54.92,
            37.44,
            39.61,
            29.55,
            44.23,
            21.13,
            32.23
           ],
           "yaxis": "y"
          },
          {
           "hovertemplate": "club=football<br>frameId=170<br>x=%{x}<br>y=%{y}<extra></extra>",
           "legendgroup": "football",
           "marker": {
            "color": "Grey",
            "symbol": "circle"
           },
           "mode": "markers",
           "name": "football",
           "orientation": "v",
           "showlegend": true,
           "type": "scatter",
           "x": [
            21
           ],
           "xaxis": "x",
           "y": [
            57.0499992370605
           ],
           "yaxis": "y"
          }
         ],
         "name": "170"
        },
        {
         "data": [
          {
           "hovertemplate": "club=LV<br>frameId=171<br>x=%{x}<br>y=%{y}<extra></extra>",
           "legendgroup": "LV",
           "marker": {
            "color": "Red",
            "symbol": "circle"
           },
           "mode": "markers",
           "name": "LV",
           "orientation": "v",
           "showlegend": true,
           "type": "scatter",
           "x": [
            21.78,
            44.05,
            26.24,
            31.09,
            42.34,
            39.64,
            18.06,
            16.44,
            38.49,
            41.89,
            37.79
           ],
           "xaxis": "x",
           "y": [
            54.67,
            33.18,
            39.96,
            33.74,
            31.58,
            35.03,
            53.43,
            23.74,
            32.14,
            25.95,
            34.53
           ],
           "yaxis": "y"
          },
          {
           "hovertemplate": "club=LAC<br>frameId=171<br>x=%{x}<br>y=%{y}<extra></extra>",
           "legendgroup": "LAC",
           "marker": {
            "color": "Black",
            "symbol": "circle"
           },
           "mode": "markers",
           "name": "LAC",
           "orientation": "v",
           "showlegend": true,
           "type": "scatter",
           "x": [
            25.75,
            39.25,
            37.58,
            26.3,
            19.81,
            36.46,
            11.05,
            15.17,
            25.9,
            14.83,
            42.54
           ],
           "xaxis": "x",
           "y": [
            34.36,
            39.01,
            30.9,
            49.33,
            55.58,
            37.74,
            40.07,
            29.65,
            44.5,
            21.28,
            32.36
           ],
           "yaxis": "y"
          },
          {
           "hovertemplate": "club=football<br>frameId=171<br>x=%{x}<br>y=%{y}<extra></extra>",
           "legendgroup": "football",
           "marker": {
            "color": "Grey",
            "symbol": "circle"
           },
           "mode": "markers",
           "name": "football",
           "orientation": "v",
           "showlegend": true,
           "type": "scatter",
           "x": [
            20.0599994659424
           ],
           "xaxis": "x",
           "y": [
            58.1399993896484
           ],
           "yaxis": "y"
          }
         ],
         "name": "171"
        },
        {
         "data": [
          {
           "hovertemplate": "club=LV<br>frameId=172<br>x=%{x}<br>y=%{y}<extra></extra>",
           "legendgroup": "LV",
           "marker": {
            "color": "Red",
            "symbol": "circle"
           },
           "mode": "markers",
           "name": "LV",
           "orientation": "v",
           "showlegend": true,
           "type": "scatter",
           "x": [
            21.57,
            44.09,
            26.23,
            31.19,
            42.31,
            39.63,
            18.08,
            16.58,
            38.39,
            41.74,
            37.73
           ],
           "xaxis": "x",
           "y": [
            54.96,
            33.2,
            39.96,
            33.99,
            31.59,
            35.15,
            53.65,
            23.72,
            32.28,
            26.01,
            34.67
           ],
           "yaxis": "y"
          },
          {
           "hovertemplate": "club=LAC<br>frameId=172<br>x=%{x}<br>y=%{y}<extra></extra>",
           "legendgroup": "LAC",
           "marker": {
            "color": "Black",
            "symbol": "circle"
           },
           "mode": "markers",
           "name": "LAC",
           "orientation": "v",
           "showlegend": true,
           "type": "scatter",
           "x": [
            25.66,
            39.33,
            37.44,
            26.22,
            19.9,
            36.34,
            11.15,
            15.25,
            25.77,
            14.84,
            42.5
           ],
           "xaxis": "x",
           "y": [
            34.59,
            39.39,
            30.99,
            49.42,
            56.21,
            38.01,
            40.51,
            29.75,
            44.75,
            21.43,
            32.49
           ],
           "yaxis": "y"
          },
          {
           "hovertemplate": "club=football<br>frameId=172<br>x=%{x}<br>y=%{y}<extra></extra>",
           "legendgroup": "football",
           "marker": {
            "color": "Grey",
            "symbol": "circle"
           },
           "mode": "markers",
           "name": "football",
           "orientation": "v",
           "showlegend": true,
           "type": "scatter",
           "x": [
            19.1499996185303
           ],
           "xaxis": "x",
           "y": [
            59.2000007629395
           ],
           "yaxis": "y"
          }
         ],
         "name": "172"
        },
        {
         "data": [
          {
           "hovertemplate": "club=LV<br>frameId=173<br>x=%{x}<br>y=%{y}<extra></extra>",
           "legendgroup": "LV",
           "marker": {
            "color": "Red",
            "symbol": "circle"
           },
           "mode": "markers",
           "name": "LV",
           "orientation": "v",
           "showlegend": true,
           "type": "scatter",
           "x": [
            21.38,
            44.14,
            26.21,
            31.31,
            42.29,
            39.62,
            18.1,
            16.73,
            38.29,
            41.6,
            37.66
           ],
           "xaxis": "x",
           "y": [
            55.24,
            33.21,
            39.96,
            34.22,
            31.6,
            35.26,
            53.83,
            23.69,
            32.42,
            26.06,
            34.79
           ],
           "yaxis": "y"
          },
          {
           "hovertemplate": "club=LAC<br>frameId=173<br>x=%{x}<br>y=%{y}<extra></extra>",
           "legendgroup": "LAC",
           "marker": {
            "color": "Black",
            "symbol": "circle"
           },
           "mode": "markers",
           "name": "LAC",
           "orientation": "v",
           "showlegend": true,
           "type": "scatter",
           "x": [
            25.58,
            39.41,
            37.31,
            26.14,
            19.94,
            36.23,
            11.26,
            15.34,
            25.65,
            14.85,
            42.45
           ],
           "xaxis": "x",
           "y": [
            34.79,
            39.75,
            31.08,
            49.49,
            56.8,
            38.28,
            40.94,
            29.84,
            44.96,
            21.58,
            32.63
           ],
           "yaxis": "y"
          },
          {
           "hovertemplate": "club=football<br>frameId=173<br>x=%{x}<br>y=%{y}<extra></extra>",
           "legendgroup": "football",
           "marker": {
            "color": "Grey",
            "symbol": "circle"
           },
           "mode": "markers",
           "name": "football",
           "orientation": "v",
           "showlegend": true,
           "type": "scatter",
           "x": [
            18.5900001525879
           ],
           "xaxis": "x",
           "y": [
            59.9099998474121
           ],
           "yaxis": "y"
          }
         ],
         "name": "173"
        },
        {
         "data": [
          {
           "hovertemplate": "club=LV<br>frameId=174<br>x=%{x}<br>y=%{y}<extra></extra>",
           "legendgroup": "LV",
           "marker": {
            "color": "Red",
            "symbol": "circle"
           },
           "mode": "markers",
           "name": "LV",
           "orientation": "v",
           "showlegend": true,
           "type": "scatter",
           "x": [
            21.21,
            44.18,
            26.2,
            31.43,
            42.26,
            39.62,
            18.12,
            16.87,
            38.18,
            41.45,
            37.61
           ],
           "xaxis": "x",
           "y": [
            55.5,
            33.21,
            39.94,
            34.43,
            31.6,
            35.36,
            53.98,
            23.67,
            32.54,
            26.11,
            34.9
           ],
           "yaxis": "y"
          },
          {
           "hovertemplate": "club=LAC<br>frameId=174<br>x=%{x}<br>y=%{y}<extra></extra>",
           "legendgroup": "LAC",
           "marker": {
            "color": "Black",
            "symbol": "circle"
           },
           "mode": "markers",
           "name": "LAC",
           "orientation": "v",
           "showlegend": true,
           "type": "scatter",
           "x": [
            25.48,
            39.49,
            37.18,
            26.06,
            19.97,
            36.14,
            11.36,
            15.43,
            25.55,
            14.87,
            42.41
           ],
           "xaxis": "x",
           "y": [
            34.98,
            40.1,
            31.17,
            49.55,
            57.36,
            38.54,
            41.34,
            29.92,
            45.15,
            21.71,
            32.78
           ],
           "yaxis": "y"
          },
          {
           "hovertemplate": "club=football<br>frameId=174<br>x=%{x}<br>y=%{y}<extra></extra>",
           "legendgroup": "football",
           "marker": {
            "color": "Grey",
            "symbol": "circle"
           },
           "mode": "markers",
           "name": "football",
           "orientation": "v",
           "showlegend": true,
           "type": "scatter",
           "x": [
            17.9300003051758
           ],
           "xaxis": "x",
           "y": [
            61.2099990844727
           ],
           "yaxis": "y"
          }
         ],
         "name": "174"
        },
        {
         "data": [
          {
           "hovertemplate": "club=LV<br>frameId=175<br>x=%{x}<br>y=%{y}<extra></extra>",
           "legendgroup": "LV",
           "marker": {
            "color": "Red",
            "symbol": "circle"
           },
           "mode": "markers",
           "name": "LV",
           "orientation": "v",
           "showlegend": true,
           "type": "scatter",
           "x": [
            21.05,
            44.22,
            26.19,
            31.55,
            42.22,
            39.61,
            18.16,
            17.01,
            38.08,
            41.31,
            37.56
           ],
           "xaxis": "x",
           "y": [
            55.73,
            33.19,
            39.92,
            34.63,
            31.61,
            35.44,
            54.11,
            23.64,
            32.65,
            26.17,
            35
           ],
           "yaxis": "y"
          },
          {
           "hovertemplate": "club=LAC<br>frameId=175<br>x=%{x}<br>y=%{y}<extra></extra>",
           "legendgroup": "LAC",
           "marker": {
            "color": "Black",
            "symbol": "circle"
           },
           "mode": "markers",
           "name": "LAC",
           "orientation": "v",
           "showlegend": true,
           "type": "scatter",
           "x": [
            25.37,
            39.57,
            37.04,
            26,
            19.98,
            36.04,
            11.47,
            15.52,
            25.46,
            14.89,
            42.36
           ],
           "xaxis": "x",
           "y": [
            35.14,
            40.45,
            31.26,
            49.61,
            57.87,
            38.78,
            41.73,
            30,
            45.31,
            21.84,
            32.92
           ],
           "yaxis": "y"
          },
          {
           "hovertemplate": "club=football<br>frameId=175<br>x=%{x}<br>y=%{y}<extra></extra>",
           "legendgroup": "football",
           "marker": {
            "color": "Grey",
            "symbol": "circle"
           },
           "mode": "markers",
           "name": "football",
           "orientation": "v",
           "showlegend": true,
           "type": "scatter",
           "x": [
            17.6299991607666
           ],
           "xaxis": "x",
           "y": [
            61.4799995422363
           ],
           "yaxis": "y"
          }
         ],
         "name": "175"
        },
        {
         "data": [
          {
           "hovertemplate": "club=LV<br>frameId=176<br>x=%{x}<br>y=%{y}<extra></extra>",
           "legendgroup": "LV",
           "marker": {
            "color": "Red",
            "symbol": "circle"
           },
           "mode": "markers",
           "name": "LV",
           "orientation": "v",
           "showlegend": true,
           "type": "scatter",
           "x": [
            20.91,
            44.26,
            26.18,
            31.68,
            42.19,
            39.61,
            18.2,
            17.16,
            37.98,
            41.17,
            37.52
           ],
           "xaxis": "x",
           "y": [
            55.94,
            33.16,
            39.89,
            34.8,
            31.62,
            35.53,
            54.21,
            23.61,
            32.76,
            26.23,
            35.07
           ],
           "yaxis": "y"
          },
          {
           "hovertemplate": "club=LAC<br>frameId=176<br>x=%{x}<br>y=%{y}<extra></extra>",
           "legendgroup": "LAC",
           "marker": {
            "color": "Black",
            "symbol": "circle"
           },
           "mode": "markers",
           "name": "LAC",
           "orientation": "v",
           "showlegend": true,
           "type": "scatter",
           "x": [
            25.27,
            39.65,
            36.92,
            25.94,
            19.95,
            35.95,
            11.59,
            15.61,
            25.39,
            14.93,
            42.32
           ],
           "xaxis": "x",
           "y": [
            35.29,
            40.79,
            31.35,
            49.64,
            58.34,
            39.01,
            42.07,
            30.07,
            45.44,
            21.97,
            33.07
           ],
           "yaxis": "y"
          },
          {
           "hovertemplate": "club=football<br>frameId=176<br>x=%{x}<br>y=%{y}<extra></extra>",
           "legendgroup": "football",
           "marker": {
            "color": "Grey",
            "symbol": "circle"
           },
           "mode": "markers",
           "name": "football",
           "orientation": "v",
           "showlegend": true,
           "type": "scatter",
           "x": [
            17.3400001525879
           ],
           "xaxis": "x",
           "y": [
            61.7599983215332
           ],
           "yaxis": "y"
          }
         ],
         "name": "176"
        },
        {
         "data": [
          {
           "hovertemplate": "club=LV<br>frameId=177<br>x=%{x}<br>y=%{y}<extra></extra>",
           "legendgroup": "LV",
           "marker": {
            "color": "Red",
            "symbol": "circle"
           },
           "mode": "markers",
           "name": "LV",
           "orientation": "v",
           "showlegend": true,
           "type": "scatter",
           "x": [
            20.78,
            44.31,
            26.17,
            31.81,
            42.14,
            39.61,
            18.24,
            17.3,
            37.88,
            41.03,
            37.48
           ],
           "xaxis": "x",
           "y": [
            56.12,
            33.13,
            39.86,
            34.96,
            31.62,
            35.58,
            54.28,
            23.57,
            32.85,
            26.29,
            35.14
           ],
           "yaxis": "y"
          },
          {
           "hovertemplate": "club=LAC<br>frameId=177<br>x=%{x}<br>y=%{y}<extra></extra>",
           "legendgroup": "LAC",
           "marker": {
            "color": "Black",
            "symbol": "circle"
           },
           "mode": "markers",
           "name": "LAC",
           "orientation": "v",
           "showlegend": true,
           "type": "scatter",
           "x": [
            25.16,
            39.74,
            36.79,
            25.88,
            19.91,
            35.88,
            11.72,
            15.7,
            25.33,
            14.97,
            42.26
           ],
           "xaxis": "x",
           "y": [
            35.42,
            41.11,
            31.45,
            49.66,
            58.76,
            39.23,
            42.38,
            30.16,
            45.55,
            22.09,
            33.22
           ],
           "yaxis": "y"
          },
          {
           "hovertemplate": "club=football<br>frameId=177<br>x=%{x}<br>y=%{y}<extra></extra>",
           "legendgroup": "football",
           "marker": {
            "color": "Grey",
            "symbol": "circle"
           },
           "mode": "markers",
           "name": "football",
           "orientation": "v",
           "showlegend": true,
           "type": "scatter",
           "x": [
            17.0499992370605
           ],
           "xaxis": "x",
           "y": [
            62.0400009155273
           ],
           "yaxis": "y"
          }
         ],
         "name": "177"
        },
        {
         "data": [
          {
           "hovertemplate": "club=LV<br>frameId=178<br>x=%{x}<br>y=%{y}<extra></extra>",
           "legendgroup": "LV",
           "marker": {
            "color": "Red",
            "symbol": "circle"
           },
           "mode": "markers",
           "name": "LV",
           "orientation": "v",
           "showlegend": true,
           "type": "scatter",
           "x": [
            20.66,
            44.34,
            26.18,
            31.94,
            42.11,
            39.61,
            18.3,
            17.45,
            37.8,
            40.9,
            37.44
           ],
           "xaxis": "x",
           "y": [
            56.26,
            33.08,
            39.82,
            35.1,
            31.63,
            35.63,
            54.34,
            23.52,
            32.93,
            26.35,
            35.2
           ],
           "yaxis": "y"
          },
          {
           "hovertemplate": "club=LAC<br>frameId=178<br>x=%{x}<br>y=%{y}<extra></extra>",
           "legendgroup": "LAC",
           "marker": {
            "color": "Black",
            "symbol": "circle"
           },
           "mode": "markers",
           "name": "LAC",
           "orientation": "v",
           "showlegend": true,
           "type": "scatter",
           "x": [
            25.06,
            39.83,
            36.67,
            25.83,
            19.85,
            35.81,
            11.86,
            15.79,
            25.28,
            15.01,
            42.21
           ],
           "xaxis": "x",
           "y": [
            35.54,
            41.42,
            31.56,
            49.67,
            59.14,
            39.43,
            42.65,
            30.23,
            45.63,
            22.21,
            33.38
           ],
           "yaxis": "y"
          },
          {
           "hovertemplate": "club=football<br>frameId=178<br>x=%{x}<br>y=%{y}<extra></extra>",
           "legendgroup": "football",
           "marker": {
            "color": "Grey",
            "symbol": "circle"
           },
           "mode": "markers",
           "name": "football",
           "orientation": "v",
           "showlegend": true,
           "type": "scatter",
           "x": [
            16.7600002288818
           ],
           "xaxis": "x",
           "y": [
            62.3199996948242
           ],
           "yaxis": "y"
          }
         ],
         "name": "178"
        },
        {
         "data": [
          {
           "hovertemplate": "club=LV<br>frameId=179<br>x=%{x}<br>y=%{y}<extra></extra>",
           "legendgroup": "LV",
           "marker": {
            "color": "Red",
            "symbol": "circle"
           },
           "mode": "markers",
           "name": "LV",
           "orientation": "v",
           "showlegend": true,
           "type": "scatter",
           "x": [
            20.55,
            44.38,
            26.19,
            32.08,
            42.08,
            39.62,
            18.38,
            17.6,
            37.71,
            40.77,
            37.41
           ],
           "xaxis": "x",
           "y": [
            56.39,
            33.03,
            39.79,
            35.23,
            31.64,
            35.66,
            54.4,
            23.48,
            32.99,
            26.4,
            35.25
           ],
           "yaxis": "y"
          },
          {
           "hovertemplate": "club=LAC<br>frameId=179<br>x=%{x}<br>y=%{y}<extra></extra>",
           "legendgroup": "LAC",
           "marker": {
            "color": "Black",
            "symbol": "circle"
           },
           "mode": "markers",
           "name": "LAC",
           "orientation": "v",
           "showlegend": true,
           "type": "scatter",
           "x": [
            24.96,
            39.92,
            36.56,
            25.8,
            19.76,
            35.75,
            12,
            15.88,
            25.24,
            15.07,
            42.15
           ],
           "xaxis": "x",
           "y": [
            35.66,
            41.72,
            31.67,
            49.67,
            59.47,
            39.62,
            42.89,
            30.31,
            45.69,
            22.33,
            33.54
           ],
           "yaxis": "y"
          },
          {
           "hovertemplate": "club=football<br>frameId=179<br>x=%{x}<br>y=%{y}<extra></extra>",
           "legendgroup": "football",
           "marker": {
            "color": "Grey",
            "symbol": "circle"
           },
           "mode": "markers",
           "name": "football",
           "orientation": "v",
           "showlegend": true,
           "type": "scatter",
           "x": [
            16.4799995422363
           ],
           "xaxis": "x",
           "y": [
            62.6100006103516
           ],
           "yaxis": "y"
          }
         ],
         "name": "179"
        },
        {
         "data": [
          {
           "hovertemplate": "club=LV<br>frameId=180<br>x=%{x}<br>y=%{y}<extra></extra>",
           "legendgroup": "LV",
           "marker": {
            "color": "Red",
            "symbol": "circle"
           },
           "mode": "markers",
           "name": "LV",
           "orientation": "v",
           "showlegend": true,
           "type": "scatter",
           "x": [
            20.44,
            44.41,
            26.2,
            32.22,
            42.04,
            39.64,
            18.44,
            17.77,
            37.64,
            40.65,
            37.38
           ],
           "xaxis": "x",
           "y": [
            56.49,
            32.97,
            39.75,
            35.33,
            31.64,
            35.67,
            54.43,
            23.44,
            33.05,
            26.46,
            35.28
           ],
           "yaxis": "y"
          },
          {
           "hovertemplate": "club=LAC<br>frameId=180<br>x=%{x}<br>y=%{y}<extra></extra>",
           "legendgroup": "LAC",
           "marker": {
            "color": "Black",
            "symbol": "circle"
           },
           "mode": "markers",
           "name": "LAC",
           "orientation": "v",
           "showlegend": true,
           "type": "scatter",
           "x": [
            24.86,
            40.01,
            36.46,
            25.77,
            19.67,
            35.7,
            12.16,
            15.96,
            25.21,
            15.12,
            42.09
           ],
           "xaxis": "x",
           "y": [
            35.77,
            42,
            31.78,
            49.66,
            59.75,
            39.81,
            43.1,
            30.39,
            45.74,
            22.44,
            33.69
           ],
           "yaxis": "y"
          },
          {
           "hovertemplate": "club=football<br>frameId=180<br>x=%{x}<br>y=%{y}<extra></extra>",
           "legendgroup": "football",
           "marker": {
            "color": "Grey",
            "symbol": "circle"
           },
           "mode": "markers",
           "name": "football",
           "orientation": "v",
           "showlegend": true,
           "type": "scatter",
           "x": [
            16.1900005340576
           ],
           "xaxis": "x",
           "y": [
            62.8699989318848
           ],
           "yaxis": "y"
          }
         ],
         "name": "180"
        }
       ],
       "layout": {
        "height": 600,
        "legend": {
         "title": {
          "text": "club"
         },
         "tracegroupgap": 0
        },
        "shapes": [
         {
          "fillcolor": "green",
          "layer": "below",
          "line": {
           "color": "green",
           "width": 1
          },
          "opacity": 1,
          "type": "rect",
          "x0": 10,
          "x1": 110,
          "y0": 0,
          "y1": 53.3
         },
         {
          "layer": "below",
          "line": {
           "color": "white",
           "width": 2
          },
          "opacity": 1,
          "type": "line",
          "x0": 0,
          "x1": 0,
          "y0": 0,
          "y1": 53.3
         },
         {
          "layer": "below",
          "line": {
           "color": "white",
           "width": 2
          },
          "opacity": 1,
          "type": "line",
          "x0": 10,
          "x1": 10,
          "y0": 0,
          "y1": 53.3
         },
         {
          "layer": "below",
          "line": {
           "color": "white",
           "width": 2
          },
          "opacity": 1,
          "type": "line",
          "x0": 20,
          "x1": 20,
          "y0": 0,
          "y1": 53.3
         },
         {
          "layer": "below",
          "line": {
           "color": "white",
           "width": 2
          },
          "opacity": 1,
          "type": "line",
          "x0": 30,
          "x1": 30,
          "y0": 0,
          "y1": 53.3
         },
         {
          "layer": "below",
          "line": {
           "color": "white",
           "width": 2
          },
          "opacity": 1,
          "type": "line",
          "x0": 40,
          "x1": 40,
          "y0": 0,
          "y1": 53.3
         },
         {
          "layer": "below",
          "line": {
           "color": "white",
           "width": 2
          },
          "opacity": 1,
          "type": "line",
          "x0": 50,
          "x1": 50,
          "y0": 0,
          "y1": 53.3
         },
         {
          "layer": "below",
          "line": {
           "color": "white",
           "width": 2
          },
          "opacity": 1,
          "type": "line",
          "x0": 60,
          "x1": 60,
          "y0": 0,
          "y1": 53.3
         },
         {
          "layer": "below",
          "line": {
           "color": "white",
           "width": 2
          },
          "opacity": 1,
          "type": "line",
          "x0": 70,
          "x1": 70,
          "y0": 0,
          "y1": 53.3
         },
         {
          "layer": "below",
          "line": {
           "color": "white",
           "width": 2
          },
          "opacity": 1,
          "type": "line",
          "x0": 80,
          "x1": 80,
          "y0": 0,
          "y1": 53.3
         },
         {
          "layer": "below",
          "line": {
           "color": "white",
           "width": 2
          },
          "opacity": 1,
          "type": "line",
          "x0": 90,
          "x1": 90,
          "y0": 0,
          "y1": 53.3
         },
         {
          "layer": "below",
          "line": {
           "color": "white",
           "width": 2
          },
          "opacity": 1,
          "type": "line",
          "x0": 100,
          "x1": 100,
          "y0": 0,
          "y1": 53.3
         },
         {
          "layer": "below",
          "line": {
           "color": "white",
           "width": 2
          },
          "opacity": 1,
          "type": "line",
          "x0": 110,
          "x1": 110,
          "y0": 0,
          "y1": 53.3
         }
        ],
        "sliders": [
         {
          "active": 0,
          "currentvalue": {
           "prefix": "frameId="
          },
          "len": 0.9,
          "pad": {
           "b": 10,
           "t": 60
          },
          "steps": [
           {
            "args": [
             [
              "1"
             ],
             {
              "frame": {
               "duration": 0,
               "redraw": false
              },
              "fromcurrent": true,
              "mode": "immediate",
              "transition": {
               "duration": 0,
               "easing": "linear"
              }
             }
            ],
            "label": "1",
            "method": "animate"
           },
           {
            "args": [
             [
              "2"
             ],
             {
              "frame": {
               "duration": 0,
               "redraw": false
              },
              "fromcurrent": true,
              "mode": "immediate",
              "transition": {
               "duration": 0,
               "easing": "linear"
              }
             }
            ],
            "label": "2",
            "method": "animate"
           },
           {
            "args": [
             [
              "3"
             ],
             {
              "frame": {
               "duration": 0,
               "redraw": false
              },
              "fromcurrent": true,
              "mode": "immediate",
              "transition": {
               "duration": 0,
               "easing": "linear"
              }
             }
            ],
            "label": "3",
            "method": "animate"
           },
           {
            "args": [
             [
              "4"
             ],
             {
              "frame": {
               "duration": 0,
               "redraw": false
              },
              "fromcurrent": true,
              "mode": "immediate",
              "transition": {
               "duration": 0,
               "easing": "linear"
              }
             }
            ],
            "label": "4",
            "method": "animate"
           },
           {
            "args": [
             [
              "5"
             ],
             {
              "frame": {
               "duration": 0,
               "redraw": false
              },
              "fromcurrent": true,
              "mode": "immediate",
              "transition": {
               "duration": 0,
               "easing": "linear"
              }
             }
            ],
            "label": "5",
            "method": "animate"
           },
           {
            "args": [
             [
              "6"
             ],
             {
              "frame": {
               "duration": 0,
               "redraw": false
              },
              "fromcurrent": true,
              "mode": "immediate",
              "transition": {
               "duration": 0,
               "easing": "linear"
              }
             }
            ],
            "label": "6",
            "method": "animate"
           },
           {
            "args": [
             [
              "7"
             ],
             {
              "frame": {
               "duration": 0,
               "redraw": false
              },
              "fromcurrent": true,
              "mode": "immediate",
              "transition": {
               "duration": 0,
               "easing": "linear"
              }
             }
            ],
            "label": "7",
            "method": "animate"
           },
           {
            "args": [
             [
              "8"
             ],
             {
              "frame": {
               "duration": 0,
               "redraw": false
              },
              "fromcurrent": true,
              "mode": "immediate",
              "transition": {
               "duration": 0,
               "easing": "linear"
              }
             }
            ],
            "label": "8",
            "method": "animate"
           },
           {
            "args": [
             [
              "9"
             ],
             {
              "frame": {
               "duration": 0,
               "redraw": false
              },
              "fromcurrent": true,
              "mode": "immediate",
              "transition": {
               "duration": 0,
               "easing": "linear"
              }
             }
            ],
            "label": "9",
            "method": "animate"
           },
           {
            "args": [
             [
              "10"
             ],
             {
              "frame": {
               "duration": 0,
               "redraw": false
              },
              "fromcurrent": true,
              "mode": "immediate",
              "transition": {
               "duration": 0,
               "easing": "linear"
              }
             }
            ],
            "label": "10",
            "method": "animate"
           },
           {
            "args": [
             [
              "11"
             ],
             {
              "frame": {
               "duration": 0,
               "redraw": false
              },
              "fromcurrent": true,
              "mode": "immediate",
              "transition": {
               "duration": 0,
               "easing": "linear"
              }
             }
            ],
            "label": "11",
            "method": "animate"
           },
           {
            "args": [
             [
              "12"
             ],
             {
              "frame": {
               "duration": 0,
               "redraw": false
              },
              "fromcurrent": true,
              "mode": "immediate",
              "transition": {
               "duration": 0,
               "easing": "linear"
              }
             }
            ],
            "label": "12",
            "method": "animate"
           },
           {
            "args": [
             [
              "13"
             ],
             {
              "frame": {
               "duration": 0,
               "redraw": false
              },
              "fromcurrent": true,
              "mode": "immediate",
              "transition": {
               "duration": 0,
               "easing": "linear"
              }
             }
            ],
            "label": "13",
            "method": "animate"
           },
           {
            "args": [
             [
              "14"
             ],
             {
              "frame": {
               "duration": 0,
               "redraw": false
              },
              "fromcurrent": true,
              "mode": "immediate",
              "transition": {
               "duration": 0,
               "easing": "linear"
              }
             }
            ],
            "label": "14",
            "method": "animate"
           },
           {
            "args": [
             [
              "15"
             ],
             {
              "frame": {
               "duration": 0,
               "redraw": false
              },
              "fromcurrent": true,
              "mode": "immediate",
              "transition": {
               "duration": 0,
               "easing": "linear"
              }
             }
            ],
            "label": "15",
            "method": "animate"
           },
           {
            "args": [
             [
              "16"
             ],
             {
              "frame": {
               "duration": 0,
               "redraw": false
              },
              "fromcurrent": true,
              "mode": "immediate",
              "transition": {
               "duration": 0,
               "easing": "linear"
              }
             }
            ],
            "label": "16",
            "method": "animate"
           },
           {
            "args": [
             [
              "17"
             ],
             {
              "frame": {
               "duration": 0,
               "redraw": false
              },
              "fromcurrent": true,
              "mode": "immediate",
              "transition": {
               "duration": 0,
               "easing": "linear"
              }
             }
            ],
            "label": "17",
            "method": "animate"
           },
           {
            "args": [
             [
              "18"
             ],
             {
              "frame": {
               "duration": 0,
               "redraw": false
              },
              "fromcurrent": true,
              "mode": "immediate",
              "transition": {
               "duration": 0,
               "easing": "linear"
              }
             }
            ],
            "label": "18",
            "method": "animate"
           },
           {
            "args": [
             [
              "19"
             ],
             {
              "frame": {
               "duration": 0,
               "redraw": false
              },
              "fromcurrent": true,
              "mode": "immediate",
              "transition": {
               "duration": 0,
               "easing": "linear"
              }
             }
            ],
            "label": "19",
            "method": "animate"
           },
           {
            "args": [
             [
              "20"
             ],
             {
              "frame": {
               "duration": 0,
               "redraw": false
              },
              "fromcurrent": true,
              "mode": "immediate",
              "transition": {
               "duration": 0,
               "easing": "linear"
              }
             }
            ],
            "label": "20",
            "method": "animate"
           },
           {
            "args": [
             [
              "21"
             ],
             {
              "frame": {
               "duration": 0,
               "redraw": false
              },
              "fromcurrent": true,
              "mode": "immediate",
              "transition": {
               "duration": 0,
               "easing": "linear"
              }
             }
            ],
            "label": "21",
            "method": "animate"
           },
           {
            "args": [
             [
              "22"
             ],
             {
              "frame": {
               "duration": 0,
               "redraw": false
              },
              "fromcurrent": true,
              "mode": "immediate",
              "transition": {
               "duration": 0,
               "easing": "linear"
              }
             }
            ],
            "label": "22",
            "method": "animate"
           },
           {
            "args": [
             [
              "23"
             ],
             {
              "frame": {
               "duration": 0,
               "redraw": false
              },
              "fromcurrent": true,
              "mode": "immediate",
              "transition": {
               "duration": 0,
               "easing": "linear"
              }
             }
            ],
            "label": "23",
            "method": "animate"
           },
           {
            "args": [
             [
              "24"
             ],
             {
              "frame": {
               "duration": 0,
               "redraw": false
              },
              "fromcurrent": true,
              "mode": "immediate",
              "transition": {
               "duration": 0,
               "easing": "linear"
              }
             }
            ],
            "label": "24",
            "method": "animate"
           },
           {
            "args": [
             [
              "25"
             ],
             {
              "frame": {
               "duration": 0,
               "redraw": false
              },
              "fromcurrent": true,
              "mode": "immediate",
              "transition": {
               "duration": 0,
               "easing": "linear"
              }
             }
            ],
            "label": "25",
            "method": "animate"
           },
           {
            "args": [
             [
              "26"
             ],
             {
              "frame": {
               "duration": 0,
               "redraw": false
              },
              "fromcurrent": true,
              "mode": "immediate",
              "transition": {
               "duration": 0,
               "easing": "linear"
              }
             }
            ],
            "label": "26",
            "method": "animate"
           },
           {
            "args": [
             [
              "27"
             ],
             {
              "frame": {
               "duration": 0,
               "redraw": false
              },
              "fromcurrent": true,
              "mode": "immediate",
              "transition": {
               "duration": 0,
               "easing": "linear"
              }
             }
            ],
            "label": "27",
            "method": "animate"
           },
           {
            "args": [
             [
              "28"
             ],
             {
              "frame": {
               "duration": 0,
               "redraw": false
              },
              "fromcurrent": true,
              "mode": "immediate",
              "transition": {
               "duration": 0,
               "easing": "linear"
              }
             }
            ],
            "label": "28",
            "method": "animate"
           },
           {
            "args": [
             [
              "29"
             ],
             {
              "frame": {
               "duration": 0,
               "redraw": false
              },
              "fromcurrent": true,
              "mode": "immediate",
              "transition": {
               "duration": 0,
               "easing": "linear"
              }
             }
            ],
            "label": "29",
            "method": "animate"
           },
           {
            "args": [
             [
              "30"
             ],
             {
              "frame": {
               "duration": 0,
               "redraw": false
              },
              "fromcurrent": true,
              "mode": "immediate",
              "transition": {
               "duration": 0,
               "easing": "linear"
              }
             }
            ],
            "label": "30",
            "method": "animate"
           },
           {
            "args": [
             [
              "31"
             ],
             {
              "frame": {
               "duration": 0,
               "redraw": false
              },
              "fromcurrent": true,
              "mode": "immediate",
              "transition": {
               "duration": 0,
               "easing": "linear"
              }
             }
            ],
            "label": "31",
            "method": "animate"
           },
           {
            "args": [
             [
              "32"
             ],
             {
              "frame": {
               "duration": 0,
               "redraw": false
              },
              "fromcurrent": true,
              "mode": "immediate",
              "transition": {
               "duration": 0,
               "easing": "linear"
              }
             }
            ],
            "label": "32",
            "method": "animate"
           },
           {
            "args": [
             [
              "33"
             ],
             {
              "frame": {
               "duration": 0,
               "redraw": false
              },
              "fromcurrent": true,
              "mode": "immediate",
              "transition": {
               "duration": 0,
               "easing": "linear"
              }
             }
            ],
            "label": "33",
            "method": "animate"
           },
           {
            "args": [
             [
              "34"
             ],
             {
              "frame": {
               "duration": 0,
               "redraw": false
              },
              "fromcurrent": true,
              "mode": "immediate",
              "transition": {
               "duration": 0,
               "easing": "linear"
              }
             }
            ],
            "label": "34",
            "method": "animate"
           },
           {
            "args": [
             [
              "35"
             ],
             {
              "frame": {
               "duration": 0,
               "redraw": false
              },
              "fromcurrent": true,
              "mode": "immediate",
              "transition": {
               "duration": 0,
               "easing": "linear"
              }
             }
            ],
            "label": "35",
            "method": "animate"
           },
           {
            "args": [
             [
              "36"
             ],
             {
              "frame": {
               "duration": 0,
               "redraw": false
              },
              "fromcurrent": true,
              "mode": "immediate",
              "transition": {
               "duration": 0,
               "easing": "linear"
              }
             }
            ],
            "label": "36",
            "method": "animate"
           },
           {
            "args": [
             [
              "37"
             ],
             {
              "frame": {
               "duration": 0,
               "redraw": false
              },
              "fromcurrent": true,
              "mode": "immediate",
              "transition": {
               "duration": 0,
               "easing": "linear"
              }
             }
            ],
            "label": "37",
            "method": "animate"
           },
           {
            "args": [
             [
              "38"
             ],
             {
              "frame": {
               "duration": 0,
               "redraw": false
              },
              "fromcurrent": true,
              "mode": "immediate",
              "transition": {
               "duration": 0,
               "easing": "linear"
              }
             }
            ],
            "label": "38",
            "method": "animate"
           },
           {
            "args": [
             [
              "39"
             ],
             {
              "frame": {
               "duration": 0,
               "redraw": false
              },
              "fromcurrent": true,
              "mode": "immediate",
              "transition": {
               "duration": 0,
               "easing": "linear"
              }
             }
            ],
            "label": "39",
            "method": "animate"
           },
           {
            "args": [
             [
              "40"
             ],
             {
              "frame": {
               "duration": 0,
               "redraw": false
              },
              "fromcurrent": true,
              "mode": "immediate",
              "transition": {
               "duration": 0,
               "easing": "linear"
              }
             }
            ],
            "label": "40",
            "method": "animate"
           },
           {
            "args": [
             [
              "41"
             ],
             {
              "frame": {
               "duration": 0,
               "redraw": false
              },
              "fromcurrent": true,
              "mode": "immediate",
              "transition": {
               "duration": 0,
               "easing": "linear"
              }
             }
            ],
            "label": "41",
            "method": "animate"
           },
           {
            "args": [
             [
              "42"
             ],
             {
              "frame": {
               "duration": 0,
               "redraw": false
              },
              "fromcurrent": true,
              "mode": "immediate",
              "transition": {
               "duration": 0,
               "easing": "linear"
              }
             }
            ],
            "label": "42",
            "method": "animate"
           },
           {
            "args": [
             [
              "43"
             ],
             {
              "frame": {
               "duration": 0,
               "redraw": false
              },
              "fromcurrent": true,
              "mode": "immediate",
              "transition": {
               "duration": 0,
               "easing": "linear"
              }
             }
            ],
            "label": "43",
            "method": "animate"
           },
           {
            "args": [
             [
              "44"
             ],
             {
              "frame": {
               "duration": 0,
               "redraw": false
              },
              "fromcurrent": true,
              "mode": "immediate",
              "transition": {
               "duration": 0,
               "easing": "linear"
              }
             }
            ],
            "label": "44",
            "method": "animate"
           },
           {
            "args": [
             [
              "45"
             ],
             {
              "frame": {
               "duration": 0,
               "redraw": false
              },
              "fromcurrent": true,
              "mode": "immediate",
              "transition": {
               "duration": 0,
               "easing": "linear"
              }
             }
            ],
            "label": "45",
            "method": "animate"
           },
           {
            "args": [
             [
              "46"
             ],
             {
              "frame": {
               "duration": 0,
               "redraw": false
              },
              "fromcurrent": true,
              "mode": "immediate",
              "transition": {
               "duration": 0,
               "easing": "linear"
              }
             }
            ],
            "label": "46",
            "method": "animate"
           },
           {
            "args": [
             [
              "47"
             ],
             {
              "frame": {
               "duration": 0,
               "redraw": false
              },
              "fromcurrent": true,
              "mode": "immediate",
              "transition": {
               "duration": 0,
               "easing": "linear"
              }
             }
            ],
            "label": "47",
            "method": "animate"
           },
           {
            "args": [
             [
              "48"
             ],
             {
              "frame": {
               "duration": 0,
               "redraw": false
              },
              "fromcurrent": true,
              "mode": "immediate",
              "transition": {
               "duration": 0,
               "easing": "linear"
              }
             }
            ],
            "label": "48",
            "method": "animate"
           },
           {
            "args": [
             [
              "49"
             ],
             {
              "frame": {
               "duration": 0,
               "redraw": false
              },
              "fromcurrent": true,
              "mode": "immediate",
              "transition": {
               "duration": 0,
               "easing": "linear"
              }
             }
            ],
            "label": "49",
            "method": "animate"
           },
           {
            "args": [
             [
              "50"
             ],
             {
              "frame": {
               "duration": 0,
               "redraw": false
              },
              "fromcurrent": true,
              "mode": "immediate",
              "transition": {
               "duration": 0,
               "easing": "linear"
              }
             }
            ],
            "label": "50",
            "method": "animate"
           },
           {
            "args": [
             [
              "51"
             ],
             {
              "frame": {
               "duration": 0,
               "redraw": false
              },
              "fromcurrent": true,
              "mode": "immediate",
              "transition": {
               "duration": 0,
               "easing": "linear"
              }
             }
            ],
            "label": "51",
            "method": "animate"
           },
           {
            "args": [
             [
              "52"
             ],
             {
              "frame": {
               "duration": 0,
               "redraw": false
              },
              "fromcurrent": true,
              "mode": "immediate",
              "transition": {
               "duration": 0,
               "easing": "linear"
              }
             }
            ],
            "label": "52",
            "method": "animate"
           },
           {
            "args": [
             [
              "53"
             ],
             {
              "frame": {
               "duration": 0,
               "redraw": false
              },
              "fromcurrent": true,
              "mode": "immediate",
              "transition": {
               "duration": 0,
               "easing": "linear"
              }
             }
            ],
            "label": "53",
            "method": "animate"
           },
           {
            "args": [
             [
              "54"
             ],
             {
              "frame": {
               "duration": 0,
               "redraw": false
              },
              "fromcurrent": true,
              "mode": "immediate",
              "transition": {
               "duration": 0,
               "easing": "linear"
              }
             }
            ],
            "label": "54",
            "method": "animate"
           },
           {
            "args": [
             [
              "55"
             ],
             {
              "frame": {
               "duration": 0,
               "redraw": false
              },
              "fromcurrent": true,
              "mode": "immediate",
              "transition": {
               "duration": 0,
               "easing": "linear"
              }
             }
            ],
            "label": "55",
            "method": "animate"
           },
           {
            "args": [
             [
              "56"
             ],
             {
              "frame": {
               "duration": 0,
               "redraw": false
              },
              "fromcurrent": true,
              "mode": "immediate",
              "transition": {
               "duration": 0,
               "easing": "linear"
              }
             }
            ],
            "label": "56",
            "method": "animate"
           },
           {
            "args": [
             [
              "57"
             ],
             {
              "frame": {
               "duration": 0,
               "redraw": false
              },
              "fromcurrent": true,
              "mode": "immediate",
              "transition": {
               "duration": 0,
               "easing": "linear"
              }
             }
            ],
            "label": "57",
            "method": "animate"
           },
           {
            "args": [
             [
              "58"
             ],
             {
              "frame": {
               "duration": 0,
               "redraw": false
              },
              "fromcurrent": true,
              "mode": "immediate",
              "transition": {
               "duration": 0,
               "easing": "linear"
              }
             }
            ],
            "label": "58",
            "method": "animate"
           },
           {
            "args": [
             [
              "59"
             ],
             {
              "frame": {
               "duration": 0,
               "redraw": false
              },
              "fromcurrent": true,
              "mode": "immediate",
              "transition": {
               "duration": 0,
               "easing": "linear"
              }
             }
            ],
            "label": "59",
            "method": "animate"
           },
           {
            "args": [
             [
              "60"
             ],
             {
              "frame": {
               "duration": 0,
               "redraw": false
              },
              "fromcurrent": true,
              "mode": "immediate",
              "transition": {
               "duration": 0,
               "easing": "linear"
              }
             }
            ],
            "label": "60",
            "method": "animate"
           },
           {
            "args": [
             [
              "61"
             ],
             {
              "frame": {
               "duration": 0,
               "redraw": false
              },
              "fromcurrent": true,
              "mode": "immediate",
              "transition": {
               "duration": 0,
               "easing": "linear"
              }
             }
            ],
            "label": "61",
            "method": "animate"
           },
           {
            "args": [
             [
              "62"
             ],
             {
              "frame": {
               "duration": 0,
               "redraw": false
              },
              "fromcurrent": true,
              "mode": "immediate",
              "transition": {
               "duration": 0,
               "easing": "linear"
              }
             }
            ],
            "label": "62",
            "method": "animate"
           },
           {
            "args": [
             [
              "63"
             ],
             {
              "frame": {
               "duration": 0,
               "redraw": false
              },
              "fromcurrent": true,
              "mode": "immediate",
              "transition": {
               "duration": 0,
               "easing": "linear"
              }
             }
            ],
            "label": "63",
            "method": "animate"
           },
           {
            "args": [
             [
              "64"
             ],
             {
              "frame": {
               "duration": 0,
               "redraw": false
              },
              "fromcurrent": true,
              "mode": "immediate",
              "transition": {
               "duration": 0,
               "easing": "linear"
              }
             }
            ],
            "label": "64",
            "method": "animate"
           },
           {
            "args": [
             [
              "65"
             ],
             {
              "frame": {
               "duration": 0,
               "redraw": false
              },
              "fromcurrent": true,
              "mode": "immediate",
              "transition": {
               "duration": 0,
               "easing": "linear"
              }
             }
            ],
            "label": "65",
            "method": "animate"
           },
           {
            "args": [
             [
              "66"
             ],
             {
              "frame": {
               "duration": 0,
               "redraw": false
              },
              "fromcurrent": true,
              "mode": "immediate",
              "transition": {
               "duration": 0,
               "easing": "linear"
              }
             }
            ],
            "label": "66",
            "method": "animate"
           },
           {
            "args": [
             [
              "67"
             ],
             {
              "frame": {
               "duration": 0,
               "redraw": false
              },
              "fromcurrent": true,
              "mode": "immediate",
              "transition": {
               "duration": 0,
               "easing": "linear"
              }
             }
            ],
            "label": "67",
            "method": "animate"
           },
           {
            "args": [
             [
              "68"
             ],
             {
              "frame": {
               "duration": 0,
               "redraw": false
              },
              "fromcurrent": true,
              "mode": "immediate",
              "transition": {
               "duration": 0,
               "easing": "linear"
              }
             }
            ],
            "label": "68",
            "method": "animate"
           },
           {
            "args": [
             [
              "69"
             ],
             {
              "frame": {
               "duration": 0,
               "redraw": false
              },
              "fromcurrent": true,
              "mode": "immediate",
              "transition": {
               "duration": 0,
               "easing": "linear"
              }
             }
            ],
            "label": "69",
            "method": "animate"
           },
           {
            "args": [
             [
              "70"
             ],
             {
              "frame": {
               "duration": 0,
               "redraw": false
              },
              "fromcurrent": true,
              "mode": "immediate",
              "transition": {
               "duration": 0,
               "easing": "linear"
              }
             }
            ],
            "label": "70",
            "method": "animate"
           },
           {
            "args": [
             [
              "71"
             ],
             {
              "frame": {
               "duration": 0,
               "redraw": false
              },
              "fromcurrent": true,
              "mode": "immediate",
              "transition": {
               "duration": 0,
               "easing": "linear"
              }
             }
            ],
            "label": "71",
            "method": "animate"
           },
           {
            "args": [
             [
              "72"
             ],
             {
              "frame": {
               "duration": 0,
               "redraw": false
              },
              "fromcurrent": true,
              "mode": "immediate",
              "transition": {
               "duration": 0,
               "easing": "linear"
              }
             }
            ],
            "label": "72",
            "method": "animate"
           },
           {
            "args": [
             [
              "73"
             ],
             {
              "frame": {
               "duration": 0,
               "redraw": false
              },
              "fromcurrent": true,
              "mode": "immediate",
              "transition": {
               "duration": 0,
               "easing": "linear"
              }
             }
            ],
            "label": "73",
            "method": "animate"
           },
           {
            "args": [
             [
              "74"
             ],
             {
              "frame": {
               "duration": 0,
               "redraw": false
              },
              "fromcurrent": true,
              "mode": "immediate",
              "transition": {
               "duration": 0,
               "easing": "linear"
              }
             }
            ],
            "label": "74",
            "method": "animate"
           },
           {
            "args": [
             [
              "75"
             ],
             {
              "frame": {
               "duration": 0,
               "redraw": false
              },
              "fromcurrent": true,
              "mode": "immediate",
              "transition": {
               "duration": 0,
               "easing": "linear"
              }
             }
            ],
            "label": "75",
            "method": "animate"
           },
           {
            "args": [
             [
              "76"
             ],
             {
              "frame": {
               "duration": 0,
               "redraw": false
              },
              "fromcurrent": true,
              "mode": "immediate",
              "transition": {
               "duration": 0,
               "easing": "linear"
              }
             }
            ],
            "label": "76",
            "method": "animate"
           },
           {
            "args": [
             [
              "77"
             ],
             {
              "frame": {
               "duration": 0,
               "redraw": false
              },
              "fromcurrent": true,
              "mode": "immediate",
              "transition": {
               "duration": 0,
               "easing": "linear"
              }
             }
            ],
            "label": "77",
            "method": "animate"
           },
           {
            "args": [
             [
              "78"
             ],
             {
              "frame": {
               "duration": 0,
               "redraw": false
              },
              "fromcurrent": true,
              "mode": "immediate",
              "transition": {
               "duration": 0,
               "easing": "linear"
              }
             }
            ],
            "label": "78",
            "method": "animate"
           },
           {
            "args": [
             [
              "79"
             ],
             {
              "frame": {
               "duration": 0,
               "redraw": false
              },
              "fromcurrent": true,
              "mode": "immediate",
              "transition": {
               "duration": 0,
               "easing": "linear"
              }
             }
            ],
            "label": "79",
            "method": "animate"
           },
           {
            "args": [
             [
              "80"
             ],
             {
              "frame": {
               "duration": 0,
               "redraw": false
              },
              "fromcurrent": true,
              "mode": "immediate",
              "transition": {
               "duration": 0,
               "easing": "linear"
              }
             }
            ],
            "label": "80",
            "method": "animate"
           },
           {
            "args": [
             [
              "81"
             ],
             {
              "frame": {
               "duration": 0,
               "redraw": false
              },
              "fromcurrent": true,
              "mode": "immediate",
              "transition": {
               "duration": 0,
               "easing": "linear"
              }
             }
            ],
            "label": "81",
            "method": "animate"
           },
           {
            "args": [
             [
              "82"
             ],
             {
              "frame": {
               "duration": 0,
               "redraw": false
              },
              "fromcurrent": true,
              "mode": "immediate",
              "transition": {
               "duration": 0,
               "easing": "linear"
              }
             }
            ],
            "label": "82",
            "method": "animate"
           },
           {
            "args": [
             [
              "83"
             ],
             {
              "frame": {
               "duration": 0,
               "redraw": false
              },
              "fromcurrent": true,
              "mode": "immediate",
              "transition": {
               "duration": 0,
               "easing": "linear"
              }
             }
            ],
            "label": "83",
            "method": "animate"
           },
           {
            "args": [
             [
              "84"
             ],
             {
              "frame": {
               "duration": 0,
               "redraw": false
              },
              "fromcurrent": true,
              "mode": "immediate",
              "transition": {
               "duration": 0,
               "easing": "linear"
              }
             }
            ],
            "label": "84",
            "method": "animate"
           },
           {
            "args": [
             [
              "85"
             ],
             {
              "frame": {
               "duration": 0,
               "redraw": false
              },
              "fromcurrent": true,
              "mode": "immediate",
              "transition": {
               "duration": 0,
               "easing": "linear"
              }
             }
            ],
            "label": "85",
            "method": "animate"
           },
           {
            "args": [
             [
              "86"
             ],
             {
              "frame": {
               "duration": 0,
               "redraw": false
              },
              "fromcurrent": true,
              "mode": "immediate",
              "transition": {
               "duration": 0,
               "easing": "linear"
              }
             }
            ],
            "label": "86",
            "method": "animate"
           },
           {
            "args": [
             [
              "87"
             ],
             {
              "frame": {
               "duration": 0,
               "redraw": false
              },
              "fromcurrent": true,
              "mode": "immediate",
              "transition": {
               "duration": 0,
               "easing": "linear"
              }
             }
            ],
            "label": "87",
            "method": "animate"
           },
           {
            "args": [
             [
              "88"
             ],
             {
              "frame": {
               "duration": 0,
               "redraw": false
              },
              "fromcurrent": true,
              "mode": "immediate",
              "transition": {
               "duration": 0,
               "easing": "linear"
              }
             }
            ],
            "label": "88",
            "method": "animate"
           },
           {
            "args": [
             [
              "89"
             ],
             {
              "frame": {
               "duration": 0,
               "redraw": false
              },
              "fromcurrent": true,
              "mode": "immediate",
              "transition": {
               "duration": 0,
               "easing": "linear"
              }
             }
            ],
            "label": "89",
            "method": "animate"
           },
           {
            "args": [
             [
              "90"
             ],
             {
              "frame": {
               "duration": 0,
               "redraw": false
              },
              "fromcurrent": true,
              "mode": "immediate",
              "transition": {
               "duration": 0,
               "easing": "linear"
              }
             }
            ],
            "label": "90",
            "method": "animate"
           },
           {
            "args": [
             [
              "91"
             ],
             {
              "frame": {
               "duration": 0,
               "redraw": false
              },
              "fromcurrent": true,
              "mode": "immediate",
              "transition": {
               "duration": 0,
               "easing": "linear"
              }
             }
            ],
            "label": "91",
            "method": "animate"
           },
           {
            "args": [
             [
              "92"
             ],
             {
              "frame": {
               "duration": 0,
               "redraw": false
              },
              "fromcurrent": true,
              "mode": "immediate",
              "transition": {
               "duration": 0,
               "easing": "linear"
              }
             }
            ],
            "label": "92",
            "method": "animate"
           },
           {
            "args": [
             [
              "93"
             ],
             {
              "frame": {
               "duration": 0,
               "redraw": false
              },
              "fromcurrent": true,
              "mode": "immediate",
              "transition": {
               "duration": 0,
               "easing": "linear"
              }
             }
            ],
            "label": "93",
            "method": "animate"
           },
           {
            "args": [
             [
              "94"
             ],
             {
              "frame": {
               "duration": 0,
               "redraw": false
              },
              "fromcurrent": true,
              "mode": "immediate",
              "transition": {
               "duration": 0,
               "easing": "linear"
              }
             }
            ],
            "label": "94",
            "method": "animate"
           },
           {
            "args": [
             [
              "95"
             ],
             {
              "frame": {
               "duration": 0,
               "redraw": false
              },
              "fromcurrent": true,
              "mode": "immediate",
              "transition": {
               "duration": 0,
               "easing": "linear"
              }
             }
            ],
            "label": "95",
            "method": "animate"
           },
           {
            "args": [
             [
              "96"
             ],
             {
              "frame": {
               "duration": 0,
               "redraw": false
              },
              "fromcurrent": true,
              "mode": "immediate",
              "transition": {
               "duration": 0,
               "easing": "linear"
              }
             }
            ],
            "label": "96",
            "method": "animate"
           },
           {
            "args": [
             [
              "97"
             ],
             {
              "frame": {
               "duration": 0,
               "redraw": false
              },
              "fromcurrent": true,
              "mode": "immediate",
              "transition": {
               "duration": 0,
               "easing": "linear"
              }
             }
            ],
            "label": "97",
            "method": "animate"
           },
           {
            "args": [
             [
              "98"
             ],
             {
              "frame": {
               "duration": 0,
               "redraw": false
              },
              "fromcurrent": true,
              "mode": "immediate",
              "transition": {
               "duration": 0,
               "easing": "linear"
              }
             }
            ],
            "label": "98",
            "method": "animate"
           },
           {
            "args": [
             [
              "99"
             ],
             {
              "frame": {
               "duration": 0,
               "redraw": false
              },
              "fromcurrent": true,
              "mode": "immediate",
              "transition": {
               "duration": 0,
               "easing": "linear"
              }
             }
            ],
            "label": "99",
            "method": "animate"
           },
           {
            "args": [
             [
              "100"
             ],
             {
              "frame": {
               "duration": 0,
               "redraw": false
              },
              "fromcurrent": true,
              "mode": "immediate",
              "transition": {
               "duration": 0,
               "easing": "linear"
              }
             }
            ],
            "label": "100",
            "method": "animate"
           },
           {
            "args": [
             [
              "101"
             ],
             {
              "frame": {
               "duration": 0,
               "redraw": false
              },
              "fromcurrent": true,
              "mode": "immediate",
              "transition": {
               "duration": 0,
               "easing": "linear"
              }
             }
            ],
            "label": "101",
            "method": "animate"
           },
           {
            "args": [
             [
              "102"
             ],
             {
              "frame": {
               "duration": 0,
               "redraw": false
              },
              "fromcurrent": true,
              "mode": "immediate",
              "transition": {
               "duration": 0,
               "easing": "linear"
              }
             }
            ],
            "label": "102",
            "method": "animate"
           },
           {
            "args": [
             [
              "103"
             ],
             {
              "frame": {
               "duration": 0,
               "redraw": false
              },
              "fromcurrent": true,
              "mode": "immediate",
              "transition": {
               "duration": 0,
               "easing": "linear"
              }
             }
            ],
            "label": "103",
            "method": "animate"
           },
           {
            "args": [
             [
              "104"
             ],
             {
              "frame": {
               "duration": 0,
               "redraw": false
              },
              "fromcurrent": true,
              "mode": "immediate",
              "transition": {
               "duration": 0,
               "easing": "linear"
              }
             }
            ],
            "label": "104",
            "method": "animate"
           },
           {
            "args": [
             [
              "105"
             ],
             {
              "frame": {
               "duration": 0,
               "redraw": false
              },
              "fromcurrent": true,
              "mode": "immediate",
              "transition": {
               "duration": 0,
               "easing": "linear"
              }
             }
            ],
            "label": "105",
            "method": "animate"
           },
           {
            "args": [
             [
              "106"
             ],
             {
              "frame": {
               "duration": 0,
               "redraw": false
              },
              "fromcurrent": true,
              "mode": "immediate",
              "transition": {
               "duration": 0,
               "easing": "linear"
              }
             }
            ],
            "label": "106",
            "method": "animate"
           },
           {
            "args": [
             [
              "107"
             ],
             {
              "frame": {
               "duration": 0,
               "redraw": false
              },
              "fromcurrent": true,
              "mode": "immediate",
              "transition": {
               "duration": 0,
               "easing": "linear"
              }
             }
            ],
            "label": "107",
            "method": "animate"
           },
           {
            "args": [
             [
              "108"
             ],
             {
              "frame": {
               "duration": 0,
               "redraw": false
              },
              "fromcurrent": true,
              "mode": "immediate",
              "transition": {
               "duration": 0,
               "easing": "linear"
              }
             }
            ],
            "label": "108",
            "method": "animate"
           },
           {
            "args": [
             [
              "109"
             ],
             {
              "frame": {
               "duration": 0,
               "redraw": false
              },
              "fromcurrent": true,
              "mode": "immediate",
              "transition": {
               "duration": 0,
               "easing": "linear"
              }
             }
            ],
            "label": "109",
            "method": "animate"
           },
           {
            "args": [
             [
              "110"
             ],
             {
              "frame": {
               "duration": 0,
               "redraw": false
              },
              "fromcurrent": true,
              "mode": "immediate",
              "transition": {
               "duration": 0,
               "easing": "linear"
              }
             }
            ],
            "label": "110",
            "method": "animate"
           },
           {
            "args": [
             [
              "111"
             ],
             {
              "frame": {
               "duration": 0,
               "redraw": false
              },
              "fromcurrent": true,
              "mode": "immediate",
              "transition": {
               "duration": 0,
               "easing": "linear"
              }
             }
            ],
            "label": "111",
            "method": "animate"
           },
           {
            "args": [
             [
              "112"
             ],
             {
              "frame": {
               "duration": 0,
               "redraw": false
              },
              "fromcurrent": true,
              "mode": "immediate",
              "transition": {
               "duration": 0,
               "easing": "linear"
              }
             }
            ],
            "label": "112",
            "method": "animate"
           },
           {
            "args": [
             [
              "113"
             ],
             {
              "frame": {
               "duration": 0,
               "redraw": false
              },
              "fromcurrent": true,
              "mode": "immediate",
              "transition": {
               "duration": 0,
               "easing": "linear"
              }
             }
            ],
            "label": "113",
            "method": "animate"
           },
           {
            "args": [
             [
              "114"
             ],
             {
              "frame": {
               "duration": 0,
               "redraw": false
              },
              "fromcurrent": true,
              "mode": "immediate",
              "transition": {
               "duration": 0,
               "easing": "linear"
              }
             }
            ],
            "label": "114",
            "method": "animate"
           },
           {
            "args": [
             [
              "115"
             ],
             {
              "frame": {
               "duration": 0,
               "redraw": false
              },
              "fromcurrent": true,
              "mode": "immediate",
              "transition": {
               "duration": 0,
               "easing": "linear"
              }
             }
            ],
            "label": "115",
            "method": "animate"
           },
           {
            "args": [
             [
              "116"
             ],
             {
              "frame": {
               "duration": 0,
               "redraw": false
              },
              "fromcurrent": true,
              "mode": "immediate",
              "transition": {
               "duration": 0,
               "easing": "linear"
              }
             }
            ],
            "label": "116",
            "method": "animate"
           },
           {
            "args": [
             [
              "117"
             ],
             {
              "frame": {
               "duration": 0,
               "redraw": false
              },
              "fromcurrent": true,
              "mode": "immediate",
              "transition": {
               "duration": 0,
               "easing": "linear"
              }
             }
            ],
            "label": "117",
            "method": "animate"
           },
           {
            "args": [
             [
              "118"
             ],
             {
              "frame": {
               "duration": 0,
               "redraw": false
              },
              "fromcurrent": true,
              "mode": "immediate",
              "transition": {
               "duration": 0,
               "easing": "linear"
              }
             }
            ],
            "label": "118",
            "method": "animate"
           },
           {
            "args": [
             [
              "119"
             ],
             {
              "frame": {
               "duration": 0,
               "redraw": false
              },
              "fromcurrent": true,
              "mode": "immediate",
              "transition": {
               "duration": 0,
               "easing": "linear"
              }
             }
            ],
            "label": "119",
            "method": "animate"
           },
           {
            "args": [
             [
              "120"
             ],
             {
              "frame": {
               "duration": 0,
               "redraw": false
              },
              "fromcurrent": true,
              "mode": "immediate",
              "transition": {
               "duration": 0,
               "easing": "linear"
              }
             }
            ],
            "label": "120",
            "method": "animate"
           },
           {
            "args": [
             [
              "121"
             ],
             {
              "frame": {
               "duration": 0,
               "redraw": false
              },
              "fromcurrent": true,
              "mode": "immediate",
              "transition": {
               "duration": 0,
               "easing": "linear"
              }
             }
            ],
            "label": "121",
            "method": "animate"
           },
           {
            "args": [
             [
              "122"
             ],
             {
              "frame": {
               "duration": 0,
               "redraw": false
              },
              "fromcurrent": true,
              "mode": "immediate",
              "transition": {
               "duration": 0,
               "easing": "linear"
              }
             }
            ],
            "label": "122",
            "method": "animate"
           },
           {
            "args": [
             [
              "123"
             ],
             {
              "frame": {
               "duration": 0,
               "redraw": false
              },
              "fromcurrent": true,
              "mode": "immediate",
              "transition": {
               "duration": 0,
               "easing": "linear"
              }
             }
            ],
            "label": "123",
            "method": "animate"
           },
           {
            "args": [
             [
              "124"
             ],
             {
              "frame": {
               "duration": 0,
               "redraw": false
              },
              "fromcurrent": true,
              "mode": "immediate",
              "transition": {
               "duration": 0,
               "easing": "linear"
              }
             }
            ],
            "label": "124",
            "method": "animate"
           },
           {
            "args": [
             [
              "125"
             ],
             {
              "frame": {
               "duration": 0,
               "redraw": false
              },
              "fromcurrent": true,
              "mode": "immediate",
              "transition": {
               "duration": 0,
               "easing": "linear"
              }
             }
            ],
            "label": "125",
            "method": "animate"
           },
           {
            "args": [
             [
              "126"
             ],
             {
              "frame": {
               "duration": 0,
               "redraw": false
              },
              "fromcurrent": true,
              "mode": "immediate",
              "transition": {
               "duration": 0,
               "easing": "linear"
              }
             }
            ],
            "label": "126",
            "method": "animate"
           },
           {
            "args": [
             [
              "127"
             ],
             {
              "frame": {
               "duration": 0,
               "redraw": false
              },
              "fromcurrent": true,
              "mode": "immediate",
              "transition": {
               "duration": 0,
               "easing": "linear"
              }
             }
            ],
            "label": "127",
            "method": "animate"
           },
           {
            "args": [
             [
              "128"
             ],
             {
              "frame": {
               "duration": 0,
               "redraw": false
              },
              "fromcurrent": true,
              "mode": "immediate",
              "transition": {
               "duration": 0,
               "easing": "linear"
              }
             }
            ],
            "label": "128",
            "method": "animate"
           },
           {
            "args": [
             [
              "129"
             ],
             {
              "frame": {
               "duration": 0,
               "redraw": false
              },
              "fromcurrent": true,
              "mode": "immediate",
              "transition": {
               "duration": 0,
               "easing": "linear"
              }
             }
            ],
            "label": "129",
            "method": "animate"
           },
           {
            "args": [
             [
              "130"
             ],
             {
              "frame": {
               "duration": 0,
               "redraw": false
              },
              "fromcurrent": true,
              "mode": "immediate",
              "transition": {
               "duration": 0,
               "easing": "linear"
              }
             }
            ],
            "label": "130",
            "method": "animate"
           },
           {
            "args": [
             [
              "131"
             ],
             {
              "frame": {
               "duration": 0,
               "redraw": false
              },
              "fromcurrent": true,
              "mode": "immediate",
              "transition": {
               "duration": 0,
               "easing": "linear"
              }
             }
            ],
            "label": "131",
            "method": "animate"
           },
           {
            "args": [
             [
              "132"
             ],
             {
              "frame": {
               "duration": 0,
               "redraw": false
              },
              "fromcurrent": true,
              "mode": "immediate",
              "transition": {
               "duration": 0,
               "easing": "linear"
              }
             }
            ],
            "label": "132",
            "method": "animate"
           },
           {
            "args": [
             [
              "133"
             ],
             {
              "frame": {
               "duration": 0,
               "redraw": false
              },
              "fromcurrent": true,
              "mode": "immediate",
              "transition": {
               "duration": 0,
               "easing": "linear"
              }
             }
            ],
            "label": "133",
            "method": "animate"
           },
           {
            "args": [
             [
              "134"
             ],
             {
              "frame": {
               "duration": 0,
               "redraw": false
              },
              "fromcurrent": true,
              "mode": "immediate",
              "transition": {
               "duration": 0,
               "easing": "linear"
              }
             }
            ],
            "label": "134",
            "method": "animate"
           },
           {
            "args": [
             [
              "135"
             ],
             {
              "frame": {
               "duration": 0,
               "redraw": false
              },
              "fromcurrent": true,
              "mode": "immediate",
              "transition": {
               "duration": 0,
               "easing": "linear"
              }
             }
            ],
            "label": "135",
            "method": "animate"
           },
           {
            "args": [
             [
              "136"
             ],
             {
              "frame": {
               "duration": 0,
               "redraw": false
              },
              "fromcurrent": true,
              "mode": "immediate",
              "transition": {
               "duration": 0,
               "easing": "linear"
              }
             }
            ],
            "label": "136",
            "method": "animate"
           },
           {
            "args": [
             [
              "137"
             ],
             {
              "frame": {
               "duration": 0,
               "redraw": false
              },
              "fromcurrent": true,
              "mode": "immediate",
              "transition": {
               "duration": 0,
               "easing": "linear"
              }
             }
            ],
            "label": "137",
            "method": "animate"
           },
           {
            "args": [
             [
              "138"
             ],
             {
              "frame": {
               "duration": 0,
               "redraw": false
              },
              "fromcurrent": true,
              "mode": "immediate",
              "transition": {
               "duration": 0,
               "easing": "linear"
              }
             }
            ],
            "label": "138",
            "method": "animate"
           },
           {
            "args": [
             [
              "139"
             ],
             {
              "frame": {
               "duration": 0,
               "redraw": false
              },
              "fromcurrent": true,
              "mode": "immediate",
              "transition": {
               "duration": 0,
               "easing": "linear"
              }
             }
            ],
            "label": "139",
            "method": "animate"
           },
           {
            "args": [
             [
              "140"
             ],
             {
              "frame": {
               "duration": 0,
               "redraw": false
              },
              "fromcurrent": true,
              "mode": "immediate",
              "transition": {
               "duration": 0,
               "easing": "linear"
              }
             }
            ],
            "label": "140",
            "method": "animate"
           },
           {
            "args": [
             [
              "141"
             ],
             {
              "frame": {
               "duration": 0,
               "redraw": false
              },
              "fromcurrent": true,
              "mode": "immediate",
              "transition": {
               "duration": 0,
               "easing": "linear"
              }
             }
            ],
            "label": "141",
            "method": "animate"
           },
           {
            "args": [
             [
              "142"
             ],
             {
              "frame": {
               "duration": 0,
               "redraw": false
              },
              "fromcurrent": true,
              "mode": "immediate",
              "transition": {
               "duration": 0,
               "easing": "linear"
              }
             }
            ],
            "label": "142",
            "method": "animate"
           },
           {
            "args": [
             [
              "143"
             ],
             {
              "frame": {
               "duration": 0,
               "redraw": false
              },
              "fromcurrent": true,
              "mode": "immediate",
              "transition": {
               "duration": 0,
               "easing": "linear"
              }
             }
            ],
            "label": "143",
            "method": "animate"
           },
           {
            "args": [
             [
              "144"
             ],
             {
              "frame": {
               "duration": 0,
               "redraw": false
              },
              "fromcurrent": true,
              "mode": "immediate",
              "transition": {
               "duration": 0,
               "easing": "linear"
              }
             }
            ],
            "label": "144",
            "method": "animate"
           },
           {
            "args": [
             [
              "145"
             ],
             {
              "frame": {
               "duration": 0,
               "redraw": false
              },
              "fromcurrent": true,
              "mode": "immediate",
              "transition": {
               "duration": 0,
               "easing": "linear"
              }
             }
            ],
            "label": "145",
            "method": "animate"
           },
           {
            "args": [
             [
              "146"
             ],
             {
              "frame": {
               "duration": 0,
               "redraw": false
              },
              "fromcurrent": true,
              "mode": "immediate",
              "transition": {
               "duration": 0,
               "easing": "linear"
              }
             }
            ],
            "label": "146",
            "method": "animate"
           },
           {
            "args": [
             [
              "147"
             ],
             {
              "frame": {
               "duration": 0,
               "redraw": false
              },
              "fromcurrent": true,
              "mode": "immediate",
              "transition": {
               "duration": 0,
               "easing": "linear"
              }
             }
            ],
            "label": "147",
            "method": "animate"
           },
           {
            "args": [
             [
              "148"
             ],
             {
              "frame": {
               "duration": 0,
               "redraw": false
              },
              "fromcurrent": true,
              "mode": "immediate",
              "transition": {
               "duration": 0,
               "easing": "linear"
              }
             }
            ],
            "label": "148",
            "method": "animate"
           },
           {
            "args": [
             [
              "149"
             ],
             {
              "frame": {
               "duration": 0,
               "redraw": false
              },
              "fromcurrent": true,
              "mode": "immediate",
              "transition": {
               "duration": 0,
               "easing": "linear"
              }
             }
            ],
            "label": "149",
            "method": "animate"
           },
           {
            "args": [
             [
              "150"
             ],
             {
              "frame": {
               "duration": 0,
               "redraw": false
              },
              "fromcurrent": true,
              "mode": "immediate",
              "transition": {
               "duration": 0,
               "easing": "linear"
              }
             }
            ],
            "label": "150",
            "method": "animate"
           },
           {
            "args": [
             [
              "151"
             ],
             {
              "frame": {
               "duration": 0,
               "redraw": false
              },
              "fromcurrent": true,
              "mode": "immediate",
              "transition": {
               "duration": 0,
               "easing": "linear"
              }
             }
            ],
            "label": "151",
            "method": "animate"
           },
           {
            "args": [
             [
              "152"
             ],
             {
              "frame": {
               "duration": 0,
               "redraw": false
              },
              "fromcurrent": true,
              "mode": "immediate",
              "transition": {
               "duration": 0,
               "easing": "linear"
              }
             }
            ],
            "label": "152",
            "method": "animate"
           },
           {
            "args": [
             [
              "153"
             ],
             {
              "frame": {
               "duration": 0,
               "redraw": false
              },
              "fromcurrent": true,
              "mode": "immediate",
              "transition": {
               "duration": 0,
               "easing": "linear"
              }
             }
            ],
            "label": "153",
            "method": "animate"
           },
           {
            "args": [
             [
              "154"
             ],
             {
              "frame": {
               "duration": 0,
               "redraw": false
              },
              "fromcurrent": true,
              "mode": "immediate",
              "transition": {
               "duration": 0,
               "easing": "linear"
              }
             }
            ],
            "label": "154",
            "method": "animate"
           },
           {
            "args": [
             [
              "155"
             ],
             {
              "frame": {
               "duration": 0,
               "redraw": false
              },
              "fromcurrent": true,
              "mode": "immediate",
              "transition": {
               "duration": 0,
               "easing": "linear"
              }
             }
            ],
            "label": "155",
            "method": "animate"
           },
           {
            "args": [
             [
              "156"
             ],
             {
              "frame": {
               "duration": 0,
               "redraw": false
              },
              "fromcurrent": true,
              "mode": "immediate",
              "transition": {
               "duration": 0,
               "easing": "linear"
              }
             }
            ],
            "label": "156",
            "method": "animate"
           },
           {
            "args": [
             [
              "157"
             ],
             {
              "frame": {
               "duration": 0,
               "redraw": false
              },
              "fromcurrent": true,
              "mode": "immediate",
              "transition": {
               "duration": 0,
               "easing": "linear"
              }
             }
            ],
            "label": "157",
            "method": "animate"
           },
           {
            "args": [
             [
              "158"
             ],
             {
              "frame": {
               "duration": 0,
               "redraw": false
              },
              "fromcurrent": true,
              "mode": "immediate",
              "transition": {
               "duration": 0,
               "easing": "linear"
              }
             }
            ],
            "label": "158",
            "method": "animate"
           },
           {
            "args": [
             [
              "159"
             ],
             {
              "frame": {
               "duration": 0,
               "redraw": false
              },
              "fromcurrent": true,
              "mode": "immediate",
              "transition": {
               "duration": 0,
               "easing": "linear"
              }
             }
            ],
            "label": "159",
            "method": "animate"
           },
           {
            "args": [
             [
              "160"
             ],
             {
              "frame": {
               "duration": 0,
               "redraw": false
              },
              "fromcurrent": true,
              "mode": "immediate",
              "transition": {
               "duration": 0,
               "easing": "linear"
              }
             }
            ],
            "label": "160",
            "method": "animate"
           },
           {
            "args": [
             [
              "161"
             ],
             {
              "frame": {
               "duration": 0,
               "redraw": false
              },
              "fromcurrent": true,
              "mode": "immediate",
              "transition": {
               "duration": 0,
               "easing": "linear"
              }
             }
            ],
            "label": "161",
            "method": "animate"
           },
           {
            "args": [
             [
              "162"
             ],
             {
              "frame": {
               "duration": 0,
               "redraw": false
              },
              "fromcurrent": true,
              "mode": "immediate",
              "transition": {
               "duration": 0,
               "easing": "linear"
              }
             }
            ],
            "label": "162",
            "method": "animate"
           },
           {
            "args": [
             [
              "163"
             ],
             {
              "frame": {
               "duration": 0,
               "redraw": false
              },
              "fromcurrent": true,
              "mode": "immediate",
              "transition": {
               "duration": 0,
               "easing": "linear"
              }
             }
            ],
            "label": "163",
            "method": "animate"
           },
           {
            "args": [
             [
              "164"
             ],
             {
              "frame": {
               "duration": 0,
               "redraw": false
              },
              "fromcurrent": true,
              "mode": "immediate",
              "transition": {
               "duration": 0,
               "easing": "linear"
              }
             }
            ],
            "label": "164",
            "method": "animate"
           },
           {
            "args": [
             [
              "165"
             ],
             {
              "frame": {
               "duration": 0,
               "redraw": false
              },
              "fromcurrent": true,
              "mode": "immediate",
              "transition": {
               "duration": 0,
               "easing": "linear"
              }
             }
            ],
            "label": "165",
            "method": "animate"
           },
           {
            "args": [
             [
              "166"
             ],
             {
              "frame": {
               "duration": 0,
               "redraw": false
              },
              "fromcurrent": true,
              "mode": "immediate",
              "transition": {
               "duration": 0,
               "easing": "linear"
              }
             }
            ],
            "label": "166",
            "method": "animate"
           },
           {
            "args": [
             [
              "167"
             ],
             {
              "frame": {
               "duration": 0,
               "redraw": false
              },
              "fromcurrent": true,
              "mode": "immediate",
              "transition": {
               "duration": 0,
               "easing": "linear"
              }
             }
            ],
            "label": "167",
            "method": "animate"
           },
           {
            "args": [
             [
              "168"
             ],
             {
              "frame": {
               "duration": 0,
               "redraw": false
              },
              "fromcurrent": true,
              "mode": "immediate",
              "transition": {
               "duration": 0,
               "easing": "linear"
              }
             }
            ],
            "label": "168",
            "method": "animate"
           },
           {
            "args": [
             [
              "169"
             ],
             {
              "frame": {
               "duration": 0,
               "redraw": false
              },
              "fromcurrent": true,
              "mode": "immediate",
              "transition": {
               "duration": 0,
               "easing": "linear"
              }
             }
            ],
            "label": "169",
            "method": "animate"
           },
           {
            "args": [
             [
              "170"
             ],
             {
              "frame": {
               "duration": 0,
               "redraw": false
              },
              "fromcurrent": true,
              "mode": "immediate",
              "transition": {
               "duration": 0,
               "easing": "linear"
              }
             }
            ],
            "label": "170",
            "method": "animate"
           },
           {
            "args": [
             [
              "171"
             ],
             {
              "frame": {
               "duration": 0,
               "redraw": false
              },
              "fromcurrent": true,
              "mode": "immediate",
              "transition": {
               "duration": 0,
               "easing": "linear"
              }
             }
            ],
            "label": "171",
            "method": "animate"
           },
           {
            "args": [
             [
              "172"
             ],
             {
              "frame": {
               "duration": 0,
               "redraw": false
              },
              "fromcurrent": true,
              "mode": "immediate",
              "transition": {
               "duration": 0,
               "easing": "linear"
              }
             }
            ],
            "label": "172",
            "method": "animate"
           },
           {
            "args": [
             [
              "173"
             ],
             {
              "frame": {
               "duration": 0,
               "redraw": false
              },
              "fromcurrent": true,
              "mode": "immediate",
              "transition": {
               "duration": 0,
               "easing": "linear"
              }
             }
            ],
            "label": "173",
            "method": "animate"
           },
           {
            "args": [
             [
              "174"
             ],
             {
              "frame": {
               "duration": 0,
               "redraw": false
              },
              "fromcurrent": true,
              "mode": "immediate",
              "transition": {
               "duration": 0,
               "easing": "linear"
              }
             }
            ],
            "label": "174",
            "method": "animate"
           },
           {
            "args": [
             [
              "175"
             ],
             {
              "frame": {
               "duration": 0,
               "redraw": false
              },
              "fromcurrent": true,
              "mode": "immediate",
              "transition": {
               "duration": 0,
               "easing": "linear"
              }
             }
            ],
            "label": "175",
            "method": "animate"
           },
           {
            "args": [
             [
              "176"
             ],
             {
              "frame": {
               "duration": 0,
               "redraw": false
              },
              "fromcurrent": true,
              "mode": "immediate",
              "transition": {
               "duration": 0,
               "easing": "linear"
              }
             }
            ],
            "label": "176",
            "method": "animate"
           },
           {
            "args": [
             [
              "177"
             ],
             {
              "frame": {
               "duration": 0,
               "redraw": false
              },
              "fromcurrent": true,
              "mode": "immediate",
              "transition": {
               "duration": 0,
               "easing": "linear"
              }
             }
            ],
            "label": "177",
            "method": "animate"
           },
           {
            "args": [
             [
              "178"
             ],
             {
              "frame": {
               "duration": 0,
               "redraw": false
              },
              "fromcurrent": true,
              "mode": "immediate",
              "transition": {
               "duration": 0,
               "easing": "linear"
              }
             }
            ],
            "label": "178",
            "method": "animate"
           },
           {
            "args": [
             [
              "179"
             ],
             {
              "frame": {
               "duration": 0,
               "redraw": false
              },
              "fromcurrent": true,
              "mode": "immediate",
              "transition": {
               "duration": 0,
               "easing": "linear"
              }
             }
            ],
            "label": "179",
            "method": "animate"
           },
           {
            "args": [
             [
              "180"
             ],
             {
              "frame": {
               "duration": 0,
               "redraw": false
              },
              "fromcurrent": true,
              "mode": "immediate",
              "transition": {
               "duration": 0,
               "easing": "linear"
              }
             }
            ],
            "label": "180",
            "method": "animate"
           }
          ],
          "x": 0.1,
          "xanchor": "left",
          "y": 0,
          "yanchor": "top"
         }
        ],
        "template": {
         "data": {
          "bar": [
           {
            "error_x": {
             "color": "#2a3f5f"
            },
            "error_y": {
             "color": "#2a3f5f"
            },
            "marker": {
             "line": {
              "color": "#E5ECF6",
              "width": 0.5
             },
             "pattern": {
              "fillmode": "overlay",
              "size": 10,
              "solidity": 0.2
             }
            },
            "type": "bar"
           }
          ],
          "barpolar": [
           {
            "marker": {
             "line": {
              "color": "#E5ECF6",
              "width": 0.5
             },
             "pattern": {
              "fillmode": "overlay",
              "size": 10,
              "solidity": 0.2
             }
            },
            "type": "barpolar"
           }
          ],
          "carpet": [
           {
            "aaxis": {
             "endlinecolor": "#2a3f5f",
             "gridcolor": "white",
             "linecolor": "white",
             "minorgridcolor": "white",
             "startlinecolor": "#2a3f5f"
            },
            "baxis": {
             "endlinecolor": "#2a3f5f",
             "gridcolor": "white",
             "linecolor": "white",
             "minorgridcolor": "white",
             "startlinecolor": "#2a3f5f"
            },
            "type": "carpet"
           }
          ],
          "choropleth": [
           {
            "colorbar": {
             "outlinewidth": 0,
             "ticks": ""
            },
            "type": "choropleth"
           }
          ],
          "contour": [
           {
            "colorbar": {
             "outlinewidth": 0,
             "ticks": ""
            },
            "colorscale": [
             [
              0,
              "#0d0887"
             ],
             [
              0.1111111111111111,
              "#46039f"
             ],
             [
              0.2222222222222222,
              "#7201a8"
             ],
             [
              0.3333333333333333,
              "#9c179e"
             ],
             [
              0.4444444444444444,
              "#bd3786"
             ],
             [
              0.5555555555555556,
              "#d8576b"
             ],
             [
              0.6666666666666666,
              "#ed7953"
             ],
             [
              0.7777777777777778,
              "#fb9f3a"
             ],
             [
              0.8888888888888888,
              "#fdca26"
             ],
             [
              1,
              "#f0f921"
             ]
            ],
            "type": "contour"
           }
          ],
          "contourcarpet": [
           {
            "colorbar": {
             "outlinewidth": 0,
             "ticks": ""
            },
            "type": "contourcarpet"
           }
          ],
          "heatmap": [
           {
            "colorbar": {
             "outlinewidth": 0,
             "ticks": ""
            },
            "colorscale": [
             [
              0,
              "#0d0887"
             ],
             [
              0.1111111111111111,
              "#46039f"
             ],
             [
              0.2222222222222222,
              "#7201a8"
             ],
             [
              0.3333333333333333,
              "#9c179e"
             ],
             [
              0.4444444444444444,
              "#bd3786"
             ],
             [
              0.5555555555555556,
              "#d8576b"
             ],
             [
              0.6666666666666666,
              "#ed7953"
             ],
             [
              0.7777777777777778,
              "#fb9f3a"
             ],
             [
              0.8888888888888888,
              "#fdca26"
             ],
             [
              1,
              "#f0f921"
             ]
            ],
            "type": "heatmap"
           }
          ],
          "heatmapgl": [
           {
            "colorbar": {
             "outlinewidth": 0,
             "ticks": ""
            },
            "colorscale": [
             [
              0,
              "#0d0887"
             ],
             [
              0.1111111111111111,
              "#46039f"
             ],
             [
              0.2222222222222222,
              "#7201a8"
             ],
             [
              0.3333333333333333,
              "#9c179e"
             ],
             [
              0.4444444444444444,
              "#bd3786"
             ],
             [
              0.5555555555555556,
              "#d8576b"
             ],
             [
              0.6666666666666666,
              "#ed7953"
             ],
             [
              0.7777777777777778,
              "#fb9f3a"
             ],
             [
              0.8888888888888888,
              "#fdca26"
             ],
             [
              1,
              "#f0f921"
             ]
            ],
            "type": "heatmapgl"
           }
          ],
          "histogram": [
           {
            "marker": {
             "pattern": {
              "fillmode": "overlay",
              "size": 10,
              "solidity": 0.2
             }
            },
            "type": "histogram"
           }
          ],
          "histogram2d": [
           {
            "colorbar": {
             "outlinewidth": 0,
             "ticks": ""
            },
            "colorscale": [
             [
              0,
              "#0d0887"
             ],
             [
              0.1111111111111111,
              "#46039f"
             ],
             [
              0.2222222222222222,
              "#7201a8"
             ],
             [
              0.3333333333333333,
              "#9c179e"
             ],
             [
              0.4444444444444444,
              "#bd3786"
             ],
             [
              0.5555555555555556,
              "#d8576b"
             ],
             [
              0.6666666666666666,
              "#ed7953"
             ],
             [
              0.7777777777777778,
              "#fb9f3a"
             ],
             [
              0.8888888888888888,
              "#fdca26"
             ],
             [
              1,
              "#f0f921"
             ]
            ],
            "type": "histogram2d"
           }
          ],
          "histogram2dcontour": [
           {
            "colorbar": {
             "outlinewidth": 0,
             "ticks": ""
            },
            "colorscale": [
             [
              0,
              "#0d0887"
             ],
             [
              0.1111111111111111,
              "#46039f"
             ],
             [
              0.2222222222222222,
              "#7201a8"
             ],
             [
              0.3333333333333333,
              "#9c179e"
             ],
             [
              0.4444444444444444,
              "#bd3786"
             ],
             [
              0.5555555555555556,
              "#d8576b"
             ],
             [
              0.6666666666666666,
              "#ed7953"
             ],
             [
              0.7777777777777778,
              "#fb9f3a"
             ],
             [
              0.8888888888888888,
              "#fdca26"
             ],
             [
              1,
              "#f0f921"
             ]
            ],
            "type": "histogram2dcontour"
           }
          ],
          "mesh3d": [
           {
            "colorbar": {
             "outlinewidth": 0,
             "ticks": ""
            },
            "type": "mesh3d"
           }
          ],
          "parcoords": [
           {
            "line": {
             "colorbar": {
              "outlinewidth": 0,
              "ticks": ""
             }
            },
            "type": "parcoords"
           }
          ],
          "pie": [
           {
            "automargin": true,
            "type": "pie"
           }
          ],
          "scatter": [
           {
            "fillpattern": {
             "fillmode": "overlay",
             "size": 10,
             "solidity": 0.2
            },
            "type": "scatter"
           }
          ],
          "scatter3d": [
           {
            "line": {
             "colorbar": {
              "outlinewidth": 0,
              "ticks": ""
             }
            },
            "marker": {
             "colorbar": {
              "outlinewidth": 0,
              "ticks": ""
             }
            },
            "type": "scatter3d"
           }
          ],
          "scattercarpet": [
           {
            "marker": {
             "colorbar": {
              "outlinewidth": 0,
              "ticks": ""
             }
            },
            "type": "scattercarpet"
           }
          ],
          "scattergeo": [
           {
            "marker": {
             "colorbar": {
              "outlinewidth": 0,
              "ticks": ""
             }
            },
            "type": "scattergeo"
           }
          ],
          "scattergl": [
           {
            "marker": {
             "colorbar": {
              "outlinewidth": 0,
              "ticks": ""
             }
            },
            "type": "scattergl"
           }
          ],
          "scattermapbox": [
           {
            "marker": {
             "colorbar": {
              "outlinewidth": 0,
              "ticks": ""
             }
            },
            "type": "scattermapbox"
           }
          ],
          "scatterpolar": [
           {
            "marker": {
             "colorbar": {
              "outlinewidth": 0,
              "ticks": ""
             }
            },
            "type": "scatterpolar"
           }
          ],
          "scatterpolargl": [
           {
            "marker": {
             "colorbar": {
              "outlinewidth": 0,
              "ticks": ""
             }
            },
            "type": "scatterpolargl"
           }
          ],
          "scatterternary": [
           {
            "marker": {
             "colorbar": {
              "outlinewidth": 0,
              "ticks": ""
             }
            },
            "type": "scatterternary"
           }
          ],
          "surface": [
           {
            "colorbar": {
             "outlinewidth": 0,
             "ticks": ""
            },
            "colorscale": [
             [
              0,
              "#0d0887"
             ],
             [
              0.1111111111111111,
              "#46039f"
             ],
             [
              0.2222222222222222,
              "#7201a8"
             ],
             [
              0.3333333333333333,
              "#9c179e"
             ],
             [
              0.4444444444444444,
              "#bd3786"
             ],
             [
              0.5555555555555556,
              "#d8576b"
             ],
             [
              0.6666666666666666,
              "#ed7953"
             ],
             [
              0.7777777777777778,
              "#fb9f3a"
             ],
             [
              0.8888888888888888,
              "#fdca26"
             ],
             [
              1,
              "#f0f921"
             ]
            ],
            "type": "surface"
           }
          ],
          "table": [
           {
            "cells": {
             "fill": {
              "color": "#EBF0F8"
             },
             "line": {
              "color": "white"
             }
            },
            "header": {
             "fill": {
              "color": "#C8D4E3"
             },
             "line": {
              "color": "white"
             }
            },
            "type": "table"
           }
          ]
         },
         "layout": {
          "annotationdefaults": {
           "arrowcolor": "#2a3f5f",
           "arrowhead": 0,
           "arrowwidth": 1
          },
          "autotypenumbers": "strict",
          "coloraxis": {
           "colorbar": {
            "outlinewidth": 0,
            "ticks": ""
           }
          },
          "colorscale": {
           "diverging": [
            [
             0,
             "#8e0152"
            ],
            [
             0.1,
             "#c51b7d"
            ],
            [
             0.2,
             "#de77ae"
            ],
            [
             0.3,
             "#f1b6da"
            ],
            [
             0.4,
             "#fde0ef"
            ],
            [
             0.5,
             "#f7f7f7"
            ],
            [
             0.6,
             "#e6f5d0"
            ],
            [
             0.7,
             "#b8e186"
            ],
            [
             0.8,
             "#7fbc41"
            ],
            [
             0.9,
             "#4d9221"
            ],
            [
             1,
             "#276419"
            ]
           ],
           "sequential": [
            [
             0,
             "#0d0887"
            ],
            [
             0.1111111111111111,
             "#46039f"
            ],
            [
             0.2222222222222222,
             "#7201a8"
            ],
            [
             0.3333333333333333,
             "#9c179e"
            ],
            [
             0.4444444444444444,
             "#bd3786"
            ],
            [
             0.5555555555555556,
             "#d8576b"
            ],
            [
             0.6666666666666666,
             "#ed7953"
            ],
            [
             0.7777777777777778,
             "#fb9f3a"
            ],
            [
             0.8888888888888888,
             "#fdca26"
            ],
            [
             1,
             "#f0f921"
            ]
           ],
           "sequentialminus": [
            [
             0,
             "#0d0887"
            ],
            [
             0.1111111111111111,
             "#46039f"
            ],
            [
             0.2222222222222222,
             "#7201a8"
            ],
            [
             0.3333333333333333,
             "#9c179e"
            ],
            [
             0.4444444444444444,
             "#bd3786"
            ],
            [
             0.5555555555555556,
             "#d8576b"
            ],
            [
             0.6666666666666666,
             "#ed7953"
            ],
            [
             0.7777777777777778,
             "#fb9f3a"
            ],
            [
             0.8888888888888888,
             "#fdca26"
            ],
            [
             1,
             "#f0f921"
            ]
           ]
          },
          "colorway": [
           "#636efa",
           "#EF553B",
           "#00cc96",
           "#ab63fa",
           "#FFA15A",
           "#19d3f3",
           "#FF6692",
           "#B6E880",
           "#FF97FF",
           "#FECB52"
          ],
          "font": {
           "color": "#2a3f5f"
          },
          "geo": {
           "bgcolor": "white",
           "lakecolor": "white",
           "landcolor": "#E5ECF6",
           "showlakes": true,
           "showland": true,
           "subunitcolor": "white"
          },
          "hoverlabel": {
           "align": "left"
          },
          "hovermode": "closest",
          "mapbox": {
           "style": "light"
          },
          "paper_bgcolor": "white",
          "plot_bgcolor": "#E5ECF6",
          "polar": {
           "angularaxis": {
            "gridcolor": "white",
            "linecolor": "white",
            "ticks": ""
           },
           "bgcolor": "#E5ECF6",
           "radialaxis": {
            "gridcolor": "white",
            "linecolor": "white",
            "ticks": ""
           }
          },
          "scene": {
           "xaxis": {
            "backgroundcolor": "#E5ECF6",
            "gridcolor": "white",
            "gridwidth": 2,
            "linecolor": "white",
            "showbackground": true,
            "ticks": "",
            "zerolinecolor": "white"
           },
           "yaxis": {
            "backgroundcolor": "#E5ECF6",
            "gridcolor": "white",
            "gridwidth": 2,
            "linecolor": "white",
            "showbackground": true,
            "ticks": "",
            "zerolinecolor": "white"
           },
           "zaxis": {
            "backgroundcolor": "#E5ECF6",
            "gridcolor": "white",
            "gridwidth": 2,
            "linecolor": "white",
            "showbackground": true,
            "ticks": "",
            "zerolinecolor": "white"
           }
          },
          "shapedefaults": {
           "line": {
            "color": "#2a3f5f"
           }
          },
          "ternary": {
           "aaxis": {
            "gridcolor": "white",
            "linecolor": "white",
            "ticks": ""
           },
           "baxis": {
            "gridcolor": "white",
            "linecolor": "white",
            "ticks": ""
           },
           "bgcolor": "#E5ECF6",
           "caxis": {
            "gridcolor": "white",
            "linecolor": "white",
            "ticks": ""
           }
          },
          "title": {
           "x": 0.05
          },
          "xaxis": {
           "automargin": true,
           "gridcolor": "white",
           "linecolor": "white",
           "ticks": "",
           "title": {
            "standoff": 15
           },
           "zerolinecolor": "white",
           "zerolinewidth": 2
          },
          "yaxis": {
           "automargin": true,
           "gridcolor": "white",
           "linecolor": "white",
           "ticks": "",
           "title": {
            "standoff": 15
           },
           "zerolinecolor": "white",
           "zerolinewidth": 2
          }
         }
        },
        "title": {
         "automargin": false,
         "font": {
          "size": 15
         },
         "text": "(4:14) (Shotgun) D.Carr pass incomplete short right."
        },
        "updatemenus": [
         {
          "buttons": [
           {
            "args": [
             null,
             {
              "frame": {
               "duration": 500,
               "redraw": false
              },
              "fromcurrent": true,
              "mode": "immediate",
              "transition": {
               "duration": 500,
               "easing": "linear"
              }
             }
            ],
            "label": "&#9654;",
            "method": "animate"
           },
           {
            "args": [
             [
              null
             ],
             {
              "frame": {
               "duration": 0,
               "redraw": false
              },
              "fromcurrent": true,
              "mode": "immediate",
              "transition": {
               "duration": 0,
               "easing": "linear"
              }
             }
            ],
            "label": "&#9724;",
            "method": "animate"
           }
          ],
          "direction": "left",
          "pad": {
           "r": 10,
           "t": 70
          },
          "showactive": false,
          "type": "buttons",
          "x": 0.1,
          "xanchor": "right",
          "y": 0,
          "yanchor": "top"
         }
        ],
        "width": 800,
        "xaxis": {
         "anchor": "y",
         "domain": [
          0,
          1
         ],
         "range": [
          0,
          120
         ],
         "showgrid": false,
         "title": {
          "text": "x"
         }
        },
        "yaxis": {
         "anchor": "x",
         "domain": [
          0,
          1
         ],
         "range": [
          0,
          53.3
         ],
         "showgrid": false,
         "title": {
          "text": "y"
         }
        }
       }
      }
     },
     "metadata": {},
     "output_type": "display_data"
    }
   ],
   "source": [
    "fig = px.scatter(_TrackData, x='x', y='y', animation_frame='frameId', color='club',color_discrete_map=TeamColor, title='Tracking Data', range_x=[0, 120], range_y=[0, 53.3],width=800, height=600)\n",
    "fig.update_xaxes(showgrid=False)\n",
    "fig.update_yaxes(showgrid=False)\n",
    "fig.update_layout(shapes = [dict(type=\"rect\", x0=10, y0=0, x1=110, y1=53.3, line=dict(color=\"green\", width=1),fillcolor=\"green\", opacity=1, layer=\"below\"), \n",
    "                    *[dict(type=\"line\", x0=10*i, y0=0, x1=10*i, y1=53.3, line=dict(color=\"white\", width=2), opacity=1, layer=\"below\") for i in range(12)]],\n",
    "                    )\n",
    "\n",
    "\n",
    "fig.update_layout(\n",
    "    title={\n",
    "    'text': str(_TrackData['playDescription'].values[0]),\n",
    "    'automargin': False,\n",
    "    'font': {'size': 15,}}\n",
    ")\n"
   ]
  },
  {
   "cell_type": "code",
   "execution_count": 7,
   "metadata": {},
   "outputs": [
    {
     "data": {
      "application/vnd.plotly.v1+json": {
       "config": {
        "plotlyServerURL": "https://plot.ly"
       },
       "data": [
        {
         "hovertemplate": "club=CIN<br>frameId=1<br>x=%{x}<br>y=%{y}<extra></extra>",
         "legendgroup": "CIN",
         "marker": {
          "color": "Red",
          "symbol": "circle"
         },
         "mode": "markers",
         "name": "CIN",
         "orientation": "v",
         "showlegend": true,
         "type": "scatter",
         "x": [
          38.61,
          46.33,
          36.09,
          38.85,
          38.75,
          36.44,
          50.39,
          37.85,
          36.28,
          40.03,
          39.54
         ],
         "xaxis": "x",
         "y": [
          14.58,
          21.95,
          26.66,
          31.71,
          40.36,
          31.91,
          29.65,
          26.65,
          22.82,
          26.24,
          27.77
         ],
         "yaxis": "y"
        },
        {
         "hovertemplate": "club=PIT<br>frameId=1<br>x=%{x}<br>y=%{y}<extra></extra>",
         "legendgroup": "PIT",
         "marker": {
          "color": "Black",
          "symbol": "circle"
         },
         "mode": "markers",
         "name": "PIT",
         "orientation": "v",
         "showlegend": true,
         "type": "scatter",
         "x": [
          28.99,
          30.77,
          31.07,
          31.89,
          30.52,
          29.48,
          31.45,
          29.02,
          30.34,
          31.25,
          29.73
         ],
         "xaxis": "x",
         "y": [
          27.54,
          26.39,
          24.99,
          27.04,
          32.45,
          32.41,
          28.37,
          25.36,
          23.65,
          29.42,
          36.98
         ],
         "yaxis": "y"
        },
        {
         "hovertemplate": "club=football<br>frameId=1<br>x=%{x}<br>y=%{y}<extra></extra>",
         "legendgroup": "football",
         "marker": {
          "color": "Grey",
          "symbol": "circle"
         },
         "mode": "markers",
         "name": "football",
         "orientation": "v",
         "showlegend": true,
         "type": "scatter",
         "x": [
          34.6800003051758
         ],
         "xaxis": "x",
         "y": [
          26.6800003051758
         ],
         "yaxis": "y"
        }
       ],
       "frames": [
        {
         "data": [
          {
           "hovertemplate": "club=CIN<br>frameId=1<br>x=%{x}<br>y=%{y}<extra></extra>",
           "legendgroup": "CIN",
           "marker": {
            "color": "Red",
            "symbol": "circle"
           },
           "mode": "markers",
           "name": "CIN",
           "orientation": "v",
           "showlegend": true,
           "type": "scatter",
           "x": [
            38.61,
            46.33,
            36.09,
            38.85,
            38.75,
            36.44,
            50.39,
            37.85,
            36.28,
            40.03,
            39.54
           ],
           "xaxis": "x",
           "y": [
            14.58,
            21.95,
            26.66,
            31.71,
            40.36,
            31.91,
            29.65,
            26.65,
            22.82,
            26.24,
            27.77
           ],
           "yaxis": "y"
          },
          {
           "hovertemplate": "club=PIT<br>frameId=1<br>x=%{x}<br>y=%{y}<extra></extra>",
           "legendgroup": "PIT",
           "marker": {
            "color": "Black",
            "symbol": "circle"
           },
           "mode": "markers",
           "name": "PIT",
           "orientation": "v",
           "showlegend": true,
           "type": "scatter",
           "x": [
            28.99,
            30.77,
            31.07,
            31.89,
            30.52,
            29.48,
            31.45,
            29.02,
            30.34,
            31.25,
            29.73
           ],
           "xaxis": "x",
           "y": [
            27.54,
            26.39,
            24.99,
            27.04,
            32.45,
            32.41,
            28.37,
            25.36,
            23.65,
            29.42,
            36.98
           ],
           "yaxis": "y"
          },
          {
           "hovertemplate": "club=football<br>frameId=1<br>x=%{x}<br>y=%{y}<extra></extra>",
           "legendgroup": "football",
           "marker": {
            "color": "Grey",
            "symbol": "circle"
           },
           "mode": "markers",
           "name": "football",
           "orientation": "v",
           "showlegend": true,
           "type": "scatter",
           "x": [
            34.6800003051758
           ],
           "xaxis": "x",
           "y": [
            26.6800003051758
           ],
           "yaxis": "y"
          }
         ],
         "name": "1"
        },
        {
         "data": [
          {
           "hovertemplate": "club=CIN<br>frameId=2<br>x=%{x}<br>y=%{y}<extra></extra>",
           "legendgroup": "CIN",
           "marker": {
            "color": "Red",
            "symbol": "circle"
           },
           "mode": "markers",
           "name": "CIN",
           "orientation": "v",
           "showlegend": true,
           "type": "scatter",
           "x": [
            38.64,
            46.33,
            36.09,
            38.88,
            38.76,
            36.44,
            50.31,
            37.85,
            36.28,
            40.02,
            39.54
           ],
           "xaxis": "x",
           "y": [
            14.61,
            21.94,
            26.66,
            32.02,
            40.49,
            31.91,
            29.72,
            26.64,
            22.82,
            26.21,
            27.77
           ],
           "yaxis": "y"
          },
          {
           "hovertemplate": "club=PIT<br>frameId=2<br>x=%{x}<br>y=%{y}<extra></extra>",
           "legendgroup": "PIT",
           "marker": {
            "color": "Black",
            "symbol": "circle"
           },
           "mode": "markers",
           "name": "PIT",
           "orientation": "v",
           "showlegend": true,
           "type": "scatter",
           "x": [
            29,
            30.96,
            31.19,
            32.12,
            30.67,
            29.63,
            31.68,
            29.03,
            30.55,
            31.43,
            29.9
           ],
           "xaxis": "x",
           "y": [
            27.47,
            26.31,
            24.91,
            27.02,
            32.71,
            32.75,
            28.41,
            25.26,
            23.52,
            29.49,
            37.38
           ],
           "yaxis": "y"
          },
          {
           "hovertemplate": "club=football<br>frameId=2<br>x=%{x}<br>y=%{y}<extra></extra>",
           "legendgroup": "football",
           "marker": {
            "color": "Grey",
            "symbol": "circle"
           },
           "mode": "markers",
           "name": "football",
           "orientation": "v",
           "showlegend": true,
           "type": "scatter",
           "x": [
            34.6800003051758
           ],
           "xaxis": "x",
           "y": [
            26.6800003051758
           ],
           "yaxis": "y"
          }
         ],
         "name": "2"
        },
        {
         "data": [
          {
           "hovertemplate": "club=CIN<br>frameId=3<br>x=%{x}<br>y=%{y}<extra></extra>",
           "legendgroup": "CIN",
           "marker": {
            "color": "Red",
            "symbol": "circle"
           },
           "mode": "markers",
           "name": "CIN",
           "orientation": "v",
           "showlegend": true,
           "type": "scatter",
           "x": [
            38.68,
            46.32,
            36.09,
            38.9,
            38.76,
            36.44,
            50.22,
            37.85,
            36.29,
            40,
            39.54
           ],
           "xaxis": "x",
           "y": [
            14.65,
            21.92,
            26.66,
            32.32,
            40.61,
            31.91,
            29.79,
            26.63,
            22.82,
            26.17,
            27.77
           ],
           "yaxis": "y"
          },
          {
           "hovertemplate": "club=PIT<br>frameId=3<br>x=%{x}<br>y=%{y}<extra></extra>",
           "legendgroup": "PIT",
           "marker": {
            "color": "Black",
            "symbol": "circle"
           },
           "mode": "markers",
           "name": "PIT",
           "orientation": "v",
           "showlegend": true,
           "type": "scatter",
           "x": [
            29.02,
            31.15,
            31.31,
            32.34,
            30.81,
            29.8,
            31.88,
            29.04,
            30.76,
            31.61,
            30.07
           ],
           "xaxis": "x",
           "y": [
            27.4,
            26.23,
            24.83,
            27.01,
            32.97,
            33.07,
            28.45,
            25.16,
            23.41,
            29.55,
            37.77
           ],
           "yaxis": "y"
          },
          {
           "hovertemplate": "club=football<br>frameId=3<br>x=%{x}<br>y=%{y}<extra></extra>",
           "legendgroup": "football",
           "marker": {
            "color": "Grey",
            "symbol": "circle"
           },
           "mode": "markers",
           "name": "football",
           "orientation": "v",
           "showlegend": true,
           "type": "scatter",
           "x": [
            34.6800003051758
           ],
           "xaxis": "x",
           "y": [
            26.6800003051758
           ],
           "yaxis": "y"
          }
         ],
         "name": "3"
        },
        {
         "data": [
          {
           "hovertemplate": "club=CIN<br>frameId=4<br>x=%{x}<br>y=%{y}<extra></extra>",
           "legendgroup": "CIN",
           "marker": {
            "color": "Red",
            "symbol": "circle"
           },
           "mode": "markers",
           "name": "CIN",
           "orientation": "v",
           "showlegend": true,
           "type": "scatter",
           "x": [
            38.71,
            46.32,
            36.08,
            38.93,
            38.76,
            36.44,
            50.12,
            37.84,
            36.29,
            39.98,
            39.54
           ],
           "xaxis": "x",
           "y": [
            14.7,
            21.92,
            26.66,
            32.63,
            40.73,
            31.91,
            29.86,
            26.63,
            22.83,
            26.15,
            27.77
           ],
           "yaxis": "y"
          },
          {
           "hovertemplate": "club=PIT<br>frameId=4<br>x=%{x}<br>y=%{y}<extra></extra>",
           "legendgroup": "PIT",
           "marker": {
            "color": "Black",
            "symbol": "circle"
           },
           "mode": "markers",
           "name": "PIT",
           "orientation": "v",
           "showlegend": true,
           "type": "scatter",
           "x": [
            29.05,
            31.35,
            31.43,
            32.55,
            30.95,
            29.97,
            32.07,
            29.04,
            30.95,
            31.78,
            30.24
           ],
           "xaxis": "x",
           "y": [
            27.33,
            26.15,
            24.76,
            27,
            33.23,
            33.39,
            28.47,
            25.05,
            23.31,
            29.6,
            38.14
           ],
           "yaxis": "y"
          },
          {
           "hovertemplate": "club=football<br>frameId=4<br>x=%{x}<br>y=%{y}<extra></extra>",
           "legendgroup": "football",
           "marker": {
            "color": "Grey",
            "symbol": "circle"
           },
           "mode": "markers",
           "name": "football",
           "orientation": "v",
           "showlegend": true,
           "type": "scatter",
           "x": [
            34.6800003051758
           ],
           "xaxis": "x",
           "y": [
            26.6800003051758
           ],
           "yaxis": "y"
          }
         ],
         "name": "4"
        },
        {
         "data": [
          {
           "hovertemplate": "club=CIN<br>frameId=5<br>x=%{x}<br>y=%{y}<extra></extra>",
           "legendgroup": "CIN",
           "marker": {
            "color": "Red",
            "symbol": "circle"
           },
           "mode": "markers",
           "name": "CIN",
           "orientation": "v",
           "showlegend": true,
           "type": "scatter",
           "x": [
            38.74,
            46.33,
            36.08,
            38.95,
            38.75,
            36.44,
            50.02,
            37.83,
            36.29,
            39.96,
            39.54
           ],
           "xaxis": "x",
           "y": [
            14.76,
            21.92,
            26.66,
            32.93,
            40.85,
            31.91,
            29.94,
            26.63,
            22.83,
            26.13,
            27.77
           ],
           "yaxis": "y"
          },
          {
           "hovertemplate": "club=PIT<br>frameId=5<br>x=%{x}<br>y=%{y}<extra></extra>",
           "legendgroup": "PIT",
           "marker": {
            "color": "Black",
            "symbol": "circle"
           },
           "mode": "markers",
           "name": "PIT",
           "orientation": "v",
           "showlegend": true,
           "type": "scatter",
           "x": [
            29.07,
            31.54,
            31.55,
            32.75,
            31.09,
            30.13,
            32.25,
            29.04,
            31.14,
            31.95,
            30.41
           ],
           "xaxis": "x",
           "y": [
            27.25,
            26.08,
            24.68,
            27,
            33.49,
            33.69,
            28.49,
            24.95,
            23.21,
            29.64,
            38.51
           ],
           "yaxis": "y"
          },
          {
           "hovertemplate": "club=football<br>frameId=5<br>x=%{x}<br>y=%{y}<extra></extra>",
           "legendgroup": "football",
           "marker": {
            "color": "Grey",
            "symbol": "circle"
           },
           "mode": "markers",
           "name": "football",
           "orientation": "v",
           "showlegend": true,
           "type": "scatter",
           "x": [
            34.6800003051758
           ],
           "xaxis": "x",
           "y": [
            26.6800003051758
           ],
           "yaxis": "y"
          }
         ],
         "name": "5"
        },
        {
         "data": [
          {
           "hovertemplate": "club=CIN<br>frameId=6<br>x=%{x}<br>y=%{y}<extra></extra>",
           "legendgroup": "CIN",
           "marker": {
            "color": "Red",
            "symbol": "circle"
           },
           "mode": "markers",
           "name": "CIN",
           "orientation": "v",
           "showlegend": true,
           "type": "scatter",
           "x": [
            38.77,
            46.32,
            36.08,
            38.98,
            38.75,
            36.44,
            49.92,
            37.8,
            36.29,
            39.94,
            39.55
           ],
           "xaxis": "x",
           "y": [
            14.83,
            21.91,
            26.67,
            33.24,
            40.97,
            31.91,
            30.02,
            26.62,
            22.82,
            26.11,
            27.78
           ],
           "yaxis": "y"
          },
          {
           "hovertemplate": "club=PIT<br>frameId=6<br>x=%{x}<br>y=%{y}<extra></extra>",
           "legendgroup": "PIT",
           "marker": {
            "color": "Black",
            "symbol": "circle"
           },
           "mode": "markers",
           "name": "PIT",
           "orientation": "v",
           "showlegend": true,
           "type": "scatter",
           "x": [
            29.09,
            31.73,
            31.67,
            32.95,
            31.23,
            30.29,
            32.42,
            29.03,
            31.32,
            32.1,
            30.58
           ],
           "xaxis": "x",
           "y": [
            27.18,
            26,
            24.61,
            27,
            33.74,
            33.98,
            28.5,
            24.86,
            23.12,
            29.67,
            38.86
           ],
           "yaxis": "y"
          },
          {
           "hovertemplate": "club=football<br>frameId=6<br>x=%{x}<br>y=%{y}<extra></extra>",
           "legendgroup": "football",
           "marker": {
            "color": "Grey",
            "symbol": "circle"
           },
           "mode": "markers",
           "name": "football",
           "orientation": "v",
           "showlegend": true,
           "type": "scatter",
           "x": [
            34.689998626709
           ],
           "xaxis": "x",
           "y": [
            26.6800003051758
           ],
           "yaxis": "y"
          }
         ],
         "name": "6"
        },
        {
         "data": [
          {
           "hovertemplate": "club=CIN<br>frameId=7<br>x=%{x}<br>y=%{y}<extra></extra>",
           "legendgroup": "CIN",
           "marker": {
            "color": "Red",
            "symbol": "circle"
           },
           "mode": "markers",
           "name": "CIN",
           "orientation": "v",
           "showlegend": true,
           "type": "scatter",
           "x": [
            38.8,
            46.33,
            36.07,
            39,
            38.74,
            36.44,
            49.81,
            37.79,
            36.29,
            39.92,
            39.55
           ],
           "xaxis": "x",
           "y": [
            14.9,
            21.92,
            26.67,
            33.54,
            41.09,
            31.91,
            30.11,
            26.6,
            22.83,
            26.1,
            27.8
           ],
           "yaxis": "y"
          },
          {
           "hovertemplate": "club=PIT<br>frameId=7<br>x=%{x}<br>y=%{y}<extra></extra>",
           "legendgroup": "PIT",
           "marker": {
            "color": "Black",
            "symbol": "circle"
           },
           "mode": "markers",
           "name": "PIT",
           "orientation": "v",
           "showlegend": true,
           "type": "scatter",
           "x": [
            29.12,
            31.9,
            31.79,
            33.13,
            31.35,
            30.44,
            32.56,
            29.04,
            31.5,
            32.25,
            30.75
           ],
           "xaxis": "x",
           "y": [
            27.11,
            25.93,
            24.55,
            26.99,
            33.99,
            34.26,
            28.5,
            24.77,
            23.04,
            29.7,
            39.2
           ],
           "yaxis": "y"
          },
          {
           "hovertemplate": "club=football<br>frameId=7<br>x=%{x}<br>y=%{y}<extra></extra>",
           "legendgroup": "football",
           "marker": {
            "color": "Grey",
            "symbol": "circle"
           },
           "mode": "markers",
           "name": "football",
           "orientation": "v",
           "showlegend": true,
           "type": "scatter",
           "x": [
            34.689998626709
           ],
           "xaxis": "x",
           "y": [
            26.6800003051758
           ],
           "yaxis": "y"
          }
         ],
         "name": "7"
        },
        {
         "data": [
          {
           "hovertemplate": "club=CIN<br>frameId=8<br>x=%{x}<br>y=%{y}<extra></extra>",
           "legendgroup": "CIN",
           "marker": {
            "color": "Red",
            "symbol": "circle"
           },
           "mode": "markers",
           "name": "CIN",
           "orientation": "v",
           "showlegend": true,
           "type": "scatter",
           "x": [
            38.83,
            46.33,
            36.07,
            39.02,
            38.72,
            36.44,
            49.71,
            37.76,
            36.29,
            39.9,
            39.55
           ],
           "xaxis": "x",
           "y": [
            14.99,
            21.92,
            26.69,
            33.83,
            41.2,
            31.91,
            30.2,
            26.58,
            22.83,
            26.11,
            27.81
           ],
           "yaxis": "y"
          },
          {
           "hovertemplate": "club=PIT<br>frameId=8<br>x=%{x}<br>y=%{y}<extra></extra>",
           "legendgroup": "PIT",
           "marker": {
            "color": "Black",
            "symbol": "circle"
           },
           "mode": "markers",
           "name": "PIT",
           "orientation": "v",
           "showlegend": true,
           "type": "scatter",
           "x": [
            29.14,
            32.07,
            31.92,
            33.29,
            31.47,
            30.59,
            32.7,
            29.04,
            31.66,
            32.39,
            30.92
           ],
           "xaxis": "x",
           "y": [
            27.05,
            25.86,
            24.48,
            26.98,
            34.23,
            34.51,
            28.5,
            24.69,
            22.96,
            29.72,
            39.52
           ],
           "yaxis": "y"
          },
          {
           "hovertemplate": "club=football<br>frameId=8<br>x=%{x}<br>y=%{y}<extra></extra>",
           "legendgroup": "football",
           "marker": {
            "color": "Grey",
            "symbol": "circle"
           },
           "mode": "markers",
           "name": "football",
           "orientation": "v",
           "showlegend": true,
           "type": "scatter",
           "x": [
            34.6800003051758
           ],
           "xaxis": "x",
           "y": [
            26.6800003051758
           ],
           "yaxis": "y"
          }
         ],
         "name": "8"
        },
        {
         "data": [
          {
           "hovertemplate": "club=CIN<br>frameId=9<br>x=%{x}<br>y=%{y}<extra></extra>",
           "legendgroup": "CIN",
           "marker": {
            "color": "Red",
            "symbol": "circle"
           },
           "mode": "markers",
           "name": "CIN",
           "orientation": "v",
           "showlegend": true,
           "type": "scatter",
           "x": [
            38.85,
            46.34,
            36.07,
            39.03,
            38.7,
            36.44,
            49.6,
            37.73,
            36.29,
            39.87,
            39.55
           ],
           "xaxis": "x",
           "y": [
            15.08,
            21.93,
            26.69,
            34.12,
            41.31,
            31.91,
            30.28,
            26.55,
            22.83,
            26.11,
            27.82
           ],
           "yaxis": "y"
          },
          {
           "hovertemplate": "club=PIT<br>frameId=9<br>x=%{x}<br>y=%{y}<extra></extra>",
           "legendgroup": "PIT",
           "marker": {
            "color": "Black",
            "symbol": "circle"
           },
           "mode": "markers",
           "name": "PIT",
           "orientation": "v",
           "showlegend": true,
           "type": "scatter",
           "x": [
            29.16,
            32.21,
            32.04,
            33.44,
            31.59,
            30.73,
            32.82,
            29.04,
            31.83,
            32.52,
            31.08
           ],
           "xaxis": "x",
           "y": [
            26.99,
            25.8,
            24.42,
            26.97,
            34.47,
            34.75,
            28.49,
            24.62,
            22.89,
            29.76,
            39.83
           ],
           "yaxis": "y"
          },
          {
           "hovertemplate": "club=football<br>frameId=9<br>x=%{x}<br>y=%{y}<extra></extra>",
           "legendgroup": "football",
           "marker": {
            "color": "Grey",
            "symbol": "circle"
           },
           "mode": "markers",
           "name": "football",
           "orientation": "v",
           "showlegend": true,
           "type": "scatter",
           "x": [
            34.689998626709
           ],
           "xaxis": "x",
           "y": [
            26.6800003051758
           ],
           "yaxis": "y"
          }
         ],
         "name": "9"
        },
        {
         "data": [
          {
           "hovertemplate": "club=CIN<br>frameId=10<br>x=%{x}<br>y=%{y}<extra></extra>",
           "legendgroup": "CIN",
           "marker": {
            "color": "Red",
            "symbol": "circle"
           },
           "mode": "markers",
           "name": "CIN",
           "orientation": "v",
           "showlegend": true,
           "type": "scatter",
           "x": [
            38.88,
            46.34,
            36.07,
            39.05,
            38.67,
            36.44,
            49.49,
            37.7,
            36.3,
            39.85,
            39.55
           ],
           "xaxis": "x",
           "y": [
            15.18,
            21.93,
            26.7,
            34.4,
            41.42,
            31.9,
            30.36,
            26.5,
            22.83,
            26.12,
            27.83
           ],
           "yaxis": "y"
          },
          {
           "hovertemplate": "club=PIT<br>frameId=10<br>x=%{x}<br>y=%{y}<extra></extra>",
           "legendgroup": "PIT",
           "marker": {
            "color": "Black",
            "symbol": "circle"
           },
           "mode": "markers",
           "name": "PIT",
           "orientation": "v",
           "showlegend": true,
           "type": "scatter",
           "x": [
            29.18,
            32.34,
            32.16,
            33.57,
            31.7,
            30.86,
            32.94,
            29.06,
            31.98,
            32.65,
            31.23
           ],
           "xaxis": "x",
           "y": [
            26.93,
            25.73,
            24.37,
            26.95,
            34.7,
            34.96,
            28.47,
            24.56,
            22.82,
            29.81,
            40.11
           ],
           "yaxis": "y"
          },
          {
           "hovertemplate": "club=football<br>frameId=10<br>x=%{x}<br>y=%{y}<extra></extra>",
           "legendgroup": "football",
           "marker": {
            "color": "Grey",
            "symbol": "circle"
           },
           "mode": "markers",
           "name": "football",
           "orientation": "v",
           "showlegend": true,
           "type": "scatter",
           "x": [
            34.6800003051758
           ],
           "xaxis": "x",
           "y": [
            26.6900005340576
           ],
           "yaxis": "y"
          }
         ],
         "name": "10"
        },
        {
         "data": [
          {
           "hovertemplate": "club=CIN<br>frameId=11<br>x=%{x}<br>y=%{y}<extra></extra>",
           "legendgroup": "CIN",
           "marker": {
            "color": "Red",
            "symbol": "circle"
           },
           "mode": "markers",
           "name": "CIN",
           "orientation": "v",
           "showlegend": true,
           "type": "scatter",
           "x": [
            38.91,
            46.34,
            36.06,
            39.06,
            38.62,
            36.44,
            49.39,
            37.66,
            36.29,
            39.83,
            39.55
           ],
           "xaxis": "x",
           "y": [
            15.28,
            21.93,
            26.72,
            34.67,
            41.52,
            31.9,
            30.44,
            26.46,
            22.82,
            26.13,
            27.84
           ],
           "yaxis": "y"
          },
          {
           "hovertemplate": "club=PIT<br>frameId=11<br>x=%{x}<br>y=%{y}<extra></extra>",
           "legendgroup": "PIT",
           "marker": {
            "color": "Black",
            "symbol": "circle"
           },
           "mode": "markers",
           "name": "PIT",
           "orientation": "v",
           "showlegend": true,
           "type": "scatter",
           "x": [
            29.2,
            32.46,
            32.27,
            33.68,
            31.81,
            30.99,
            33.05,
            29.07,
            32.13,
            32.77,
            31.38
           ],
           "xaxis": "x",
           "y": [
            26.88,
            25.69,
            24.31,
            26.92,
            34.93,
            35.15,
            28.44,
            24.52,
            22.76,
            29.85,
            40.39
           ],
           "yaxis": "y"
          },
          {
           "hovertemplate": "club=football<br>frameId=11<br>x=%{x}<br>y=%{y}<extra></extra>",
           "legendgroup": "football",
           "marker": {
            "color": "Grey",
            "symbol": "circle"
           },
           "mode": "markers",
           "name": "football",
           "orientation": "v",
           "showlegend": true,
           "type": "scatter",
           "x": [
            34.6800003051758
           ],
           "xaxis": "x",
           "y": [
            26.6900005340576
           ],
           "yaxis": "y"
          }
         ],
         "name": "11"
        },
        {
         "data": [
          {
           "hovertemplate": "club=CIN<br>frameId=12<br>x=%{x}<br>y=%{y}<extra></extra>",
           "legendgroup": "CIN",
           "marker": {
            "color": "Red",
            "symbol": "circle"
           },
           "mode": "markers",
           "name": "CIN",
           "orientation": "v",
           "showlegend": true,
           "type": "scatter",
           "x": [
            38.94,
            46.34,
            36.06,
            39.07,
            38.57,
            36.44,
            49.29,
            37.63,
            36.29,
            39.81,
            39.55
           ],
           "xaxis": "x",
           "y": [
            15.38,
            21.93,
            26.74,
            34.94,
            41.63,
            31.9,
            30.53,
            26.4,
            22.82,
            26.12,
            27.86
           ],
           "yaxis": "y"
          },
          {
           "hovertemplate": "club=PIT<br>frameId=12<br>x=%{x}<br>y=%{y}<extra></extra>",
           "legendgroup": "PIT",
           "marker": {
            "color": "Black",
            "symbol": "circle"
           },
           "mode": "markers",
           "name": "PIT",
           "orientation": "v",
           "showlegend": true,
           "type": "scatter",
           "x": [
            29.22,
            32.57,
            32.39,
            33.77,
            31.92,
            31.11,
            33.15,
            29.1,
            32.27,
            32.88,
            31.53
           ],
           "xaxis": "x",
           "y": [
            26.83,
            25.66,
            24.25,
            26.9,
            35.15,
            35.31,
            28.41,
            24.49,
            22.71,
            29.89,
            40.64
           ],
           "yaxis": "y"
          },
          {
           "hovertemplate": "club=football<br>frameId=12<br>x=%{x}<br>y=%{y}<extra></extra>",
           "legendgroup": "football",
           "marker": {
            "color": "Grey",
            "symbol": "circle"
           },
           "mode": "markers",
           "name": "football",
           "orientation": "v",
           "showlegend": true,
           "type": "scatter",
           "x": [
            34.6800003051758
           ],
           "xaxis": "x",
           "y": [
            26.6900005340576
           ],
           "yaxis": "y"
          }
         ],
         "name": "12"
        },
        {
         "data": [
          {
           "hovertemplate": "club=CIN<br>frameId=13<br>x=%{x}<br>y=%{y}<extra></extra>",
           "legendgroup": "CIN",
           "marker": {
            "color": "Red",
            "symbol": "circle"
           },
           "mode": "markers",
           "name": "CIN",
           "orientation": "v",
           "showlegend": true,
           "type": "scatter",
           "x": [
            38.99,
            46.34,
            36.06,
            39.08,
            38.5,
            36.44,
            49.18,
            37.58,
            36.29,
            39.8,
            39.55
           ],
           "xaxis": "x",
           "y": [
            15.49,
            21.94,
            26.76,
            35.2,
            41.72,
            31.9,
            30.61,
            26.34,
            22.83,
            26.12,
            27.87
           ],
           "yaxis": "y"
          },
          {
           "hovertemplate": "club=PIT<br>frameId=13<br>x=%{x}<br>y=%{y}<extra></extra>",
           "legendgroup": "PIT",
           "marker": {
            "color": "Black",
            "symbol": "circle"
           },
           "mode": "markers",
           "name": "PIT",
           "orientation": "v",
           "showlegend": true,
           "type": "scatter",
           "x": [
            29.24,
            32.68,
            32.5,
            33.85,
            32.03,
            31.23,
            33.24,
            29.12,
            32.4,
            32.99,
            31.67
           ],
           "xaxis": "x",
           "y": [
            26.79,
            25.63,
            24.18,
            26.87,
            35.37,
            35.44,
            28.38,
            24.46,
            22.67,
            29.92,
            40.89
           ],
           "yaxis": "y"
          },
          {
           "hovertemplate": "club=football<br>frameId=13<br>x=%{x}<br>y=%{y}<extra></extra>",
           "legendgroup": "football",
           "marker": {
            "color": "Grey",
            "symbol": "circle"
           },
           "mode": "markers",
           "name": "football",
           "orientation": "v",
           "showlegend": true,
           "type": "scatter",
           "x": [
            34.6800003051758
           ],
           "xaxis": "x",
           "y": [
            26.6900005340576
           ],
           "yaxis": "y"
          }
         ],
         "name": "13"
        },
        {
         "data": [
          {
           "hovertemplate": "club=CIN<br>frameId=14<br>x=%{x}<br>y=%{y}<extra></extra>",
           "legendgroup": "CIN",
           "marker": {
            "color": "Red",
            "symbol": "circle"
           },
           "mode": "markers",
           "name": "CIN",
           "orientation": "v",
           "showlegend": true,
           "type": "scatter",
           "x": [
            39.03,
            46.34,
            36.05,
            39.09,
            38.42,
            36.44,
            49.08,
            37.54,
            36.28,
            39.79,
            39.54
           ],
           "xaxis": "x",
           "y": [
            15.6,
            21.94,
            26.77,
            35.45,
            41.81,
            31.9,
            30.69,
            26.26,
            22.83,
            26.1,
            27.9
           ],
           "yaxis": "y"
          },
          {
           "hovertemplate": "club=PIT<br>frameId=14<br>x=%{x}<br>y=%{y}<extra></extra>",
           "legendgroup": "PIT",
           "marker": {
            "color": "Black",
            "symbol": "circle"
           },
           "mode": "markers",
           "name": "PIT",
           "orientation": "v",
           "showlegend": true,
           "type": "scatter",
           "x": [
            29.26,
            32.77,
            32.61,
            33.91,
            32.14,
            31.34,
            33.32,
            29.15,
            32.54,
            33.08,
            31.81
           ],
           "xaxis": "x",
           "y": [
            26.75,
            25.6,
            24.13,
            26.86,
            35.57,
            35.56,
            28.36,
            24.44,
            22.64,
            29.95,
            41.11
           ],
           "yaxis": "y"
          },
          {
           "hovertemplate": "club=football<br>frameId=14<br>x=%{x}<br>y=%{y}<extra></extra>",
           "legendgroup": "football",
           "marker": {
            "color": "Grey",
            "symbol": "circle"
           },
           "mode": "markers",
           "name": "football",
           "orientation": "v",
           "showlegend": true,
           "type": "scatter",
           "x": [
            34.6800003051758
           ],
           "xaxis": "x",
           "y": [
            26.6900005340576
           ],
           "yaxis": "y"
          }
         ],
         "name": "14"
        },
        {
         "data": [
          {
           "hovertemplate": "club=CIN<br>frameId=15<br>x=%{x}<br>y=%{y}<extra></extra>",
           "legendgroup": "CIN",
           "marker": {
            "color": "Red",
            "symbol": "circle"
           },
           "mode": "markers",
           "name": "CIN",
           "orientation": "v",
           "showlegend": true,
           "type": "scatter",
           "x": [
            39.08,
            46.34,
            36.05,
            39.1,
            38.34,
            36.44,
            48.97,
            37.49,
            36.28,
            39.77,
            39.54
           ],
           "xaxis": "x",
           "y": [
            15.7,
            21.94,
            26.79,
            35.68,
            41.9,
            31.9,
            30.77,
            26.16,
            22.83,
            26.08,
            27.91
           ],
           "yaxis": "y"
          },
          {
           "hovertemplate": "club=PIT<br>frameId=15<br>x=%{x}<br>y=%{y}<extra></extra>",
           "legendgroup": "PIT",
           "marker": {
            "color": "Black",
            "symbol": "circle"
           },
           "mode": "markers",
           "name": "PIT",
           "orientation": "v",
           "showlegend": true,
           "type": "scatter",
           "x": [
            29.28,
            32.86,
            32.71,
            33.95,
            32.25,
            31.46,
            33.4,
            29.18,
            32.66,
            33.17,
            31.94
           ],
           "xaxis": "x",
           "y": [
            26.72,
            25.58,
            24.08,
            26.86,
            35.77,
            35.65,
            28.34,
            24.42,
            22.61,
            29.96,
            41.33
           ],
           "yaxis": "y"
          },
          {
           "hovertemplate": "club=football<br>frameId=15<br>x=%{x}<br>y=%{y}<extra></extra>",
           "legendgroup": "football",
           "marker": {
            "color": "Grey",
            "symbol": "circle"
           },
           "mode": "markers",
           "name": "football",
           "orientation": "v",
           "showlegend": true,
           "type": "scatter",
           "x": [
            34.6800003051758
           ],
           "xaxis": "x",
           "y": [
            26.7000007629395
           ],
           "yaxis": "y"
          }
         ],
         "name": "15"
        },
        {
         "data": [
          {
           "hovertemplate": "club=CIN<br>frameId=16<br>x=%{x}<br>y=%{y}<extra></extra>",
           "legendgroup": "CIN",
           "marker": {
            "color": "Red",
            "symbol": "circle"
           },
           "mode": "markers",
           "name": "CIN",
           "orientation": "v",
           "showlegend": true,
           "type": "scatter",
           "x": [
            39.13,
            46.35,
            36.04,
            39.11,
            38.25,
            36.44,
            48.86,
            37.42,
            36.28,
            39.76,
            39.54
           ],
           "xaxis": "x",
           "y": [
            15.81,
            21.94,
            26.81,
            35.92,
            41.98,
            31.9,
            30.85,
            26.07,
            22.84,
            26.06,
            27.95
           ],
           "yaxis": "y"
          },
          {
           "hovertemplate": "club=PIT<br>frameId=16<br>x=%{x}<br>y=%{y}<extra></extra>",
           "legendgroup": "PIT",
           "marker": {
            "color": "Black",
            "symbol": "circle"
           },
           "mode": "markers",
           "name": "PIT",
           "orientation": "v",
           "showlegend": true,
           "type": "scatter",
           "x": [
            29.3,
            32.95,
            32.81,
            33.98,
            32.36,
            31.57,
            33.46,
            29.21,
            32.79,
            33.25,
            32.07
           ],
           "xaxis": "x",
           "y": [
            26.7,
            25.56,
            24.03,
            26.85,
            35.96,
            35.73,
            28.33,
            24.4,
            22.59,
            29.96,
            41.53
           ],
           "yaxis": "y"
          },
          {
           "hovertemplate": "club=football<br>frameId=16<br>x=%{x}<br>y=%{y}<extra></extra>",
           "legendgroup": "football",
           "marker": {
            "color": "Grey",
            "symbol": "circle"
           },
           "mode": "markers",
           "name": "football",
           "orientation": "v",
           "showlegend": true,
           "type": "scatter",
           "x": [
            34.6800003051758
           ],
           "xaxis": "x",
           "y": [
            26.7000007629395
           ],
           "yaxis": "y"
          }
         ],
         "name": "16"
        },
        {
         "data": [
          {
           "hovertemplate": "club=CIN<br>frameId=17<br>x=%{x}<br>y=%{y}<extra></extra>",
           "legendgroup": "CIN",
           "marker": {
            "color": "Red",
            "symbol": "circle"
           },
           "mode": "markers",
           "name": "CIN",
           "orientation": "v",
           "showlegend": true,
           "type": "scatter",
           "x": [
            39.17,
            46.35,
            36.04,
            39.13,
            38.17,
            36.44,
            48.74,
            37.35,
            36.27,
            39.75,
            39.53
           ],
           "xaxis": "x",
           "y": [
            15.92,
            21.94,
            26.82,
            36.13,
            42.07,
            31.9,
            30.93,
            25.96,
            22.84,
            26.03,
            28.02
           ],
           "yaxis": "y"
          },
          {
           "hovertemplate": "club=PIT<br>frameId=17<br>x=%{x}<br>y=%{y}<extra></extra>",
           "legendgroup": "PIT",
           "marker": {
            "color": "Black",
            "symbol": "circle"
           },
           "mode": "markers",
           "name": "PIT",
           "orientation": "v",
           "showlegend": true,
           "type": "scatter",
           "x": [
            29.32,
            33.02,
            32.89,
            34.01,
            32.47,
            31.67,
            33.52,
            29.24,
            32.9,
            33.31,
            32.2
           ],
           "xaxis": "x",
           "y": [
            26.69,
            25.53,
            23.99,
            26.85,
            36.13,
            35.79,
            28.33,
            24.39,
            22.58,
            29.96,
            41.72
           ],
           "yaxis": "y"
          },
          {
           "hovertemplate": "club=football<br>frameId=17<br>x=%{x}<br>y=%{y}<extra></extra>",
           "legendgroup": "football",
           "marker": {
            "color": "Grey",
            "symbol": "circle"
           },
           "mode": "markers",
           "name": "football",
           "orientation": "v",
           "showlegend": true,
           "type": "scatter",
           "x": [
            34.6800003051758
           ],
           "xaxis": "x",
           "y": [
            26.7000007629395
           ],
           "yaxis": "y"
          }
         ],
         "name": "17"
        },
        {
         "data": [
          {
           "hovertemplate": "club=CIN<br>frameId=18<br>x=%{x}<br>y=%{y}<extra></extra>",
           "legendgroup": "CIN",
           "marker": {
            "color": "Red",
            "symbol": "circle"
           },
           "mode": "markers",
           "name": "CIN",
           "orientation": "v",
           "showlegend": true,
           "type": "scatter",
           "x": [
            39.21,
            46.35,
            36.03,
            39.14,
            38.08,
            36.44,
            48.62,
            37.27,
            36.27,
            39.75,
            39.51
           ],
           "xaxis": "x",
           "y": [
            16.04,
            21.94,
            26.85,
            36.34,
            42.15,
            31.9,
            31,
            25.86,
            22.85,
            26.01,
            28.13
           ],
           "yaxis": "y"
          },
          {
           "hovertemplate": "club=PIT<br>frameId=18<br>x=%{x}<br>y=%{y}<extra></extra>",
           "legendgroup": "PIT",
           "marker": {
            "color": "Black",
            "symbol": "circle"
           },
           "mode": "markers",
           "name": "PIT",
           "orientation": "v",
           "showlegend": true,
           "type": "scatter",
           "x": [
            29.34,
            33.09,
            32.97,
            34.02,
            32.57,
            31.77,
            33.56,
            29.27,
            33.01,
            33.37,
            32.32
           ],
           "xaxis": "x",
           "y": [
            26.69,
            25.5,
            23.97,
            26.85,
            36.3,
            35.85,
            28.33,
            24.37,
            22.57,
            29.96,
            41.9
           ],
           "yaxis": "y"
          },
          {
           "hovertemplate": "club=football<br>frameId=18<br>x=%{x}<br>y=%{y}<extra></extra>",
           "legendgroup": "football",
           "marker": {
            "color": "Grey",
            "symbol": "circle"
           },
           "mode": "markers",
           "name": "football",
           "orientation": "v",
           "showlegend": true,
           "type": "scatter",
           "x": [
            34.6800003051758
           ],
           "xaxis": "x",
           "y": [
            26.7099990844727
           ],
           "yaxis": "y"
          }
         ],
         "name": "18"
        },
        {
         "data": [
          {
           "hovertemplate": "club=CIN<br>frameId=19<br>x=%{x}<br>y=%{y}<extra></extra>",
           "legendgroup": "CIN",
           "marker": {
            "color": "Red",
            "symbol": "circle"
           },
           "mode": "markers",
           "name": "CIN",
           "orientation": "v",
           "showlegend": true,
           "type": "scatter",
           "x": [
            39.25,
            46.35,
            36.01,
            39.15,
            38,
            36.44,
            48.5,
            37.2,
            36.27,
            39.75,
            39.5
           ],
           "xaxis": "x",
           "y": [
            16.15,
            21.94,
            26.91,
            36.53,
            42.24,
            31.9,
            31.07,
            25.75,
            22.85,
            26,
            28.28
           ],
           "yaxis": "y"
          },
          {
           "hovertemplate": "club=PIT<br>frameId=19<br>x=%{x}<br>y=%{y}<extra></extra>",
           "legendgroup": "PIT",
           "marker": {
            "color": "Black",
            "symbol": "circle"
           },
           "mode": "markers",
           "name": "PIT",
           "orientation": "v",
           "showlegend": true,
           "type": "scatter",
           "x": [
            29.35,
            33.16,
            33.04,
            34.04,
            32.66,
            31.87,
            33.61,
            29.3,
            33.11,
            33.4,
            32.45
           ],
           "xaxis": "x",
           "y": [
            26.7,
            25.47,
            23.95,
            26.86,
            36.45,
            35.89,
            28.34,
            24.36,
            22.56,
            29.97,
            42.07
           ],
           "yaxis": "y"
          },
          {
           "hovertemplate": "club=football<br>frameId=19<br>x=%{x}<br>y=%{y}<extra></extra>",
           "legendgroup": "football",
           "marker": {
            "color": "Grey",
            "symbol": "circle"
           },
           "mode": "markers",
           "name": "football",
           "orientation": "v",
           "showlegend": true,
           "type": "scatter",
           "x": [
            34.6800003051758
           ],
           "xaxis": "x",
           "y": [
            26.7099990844727
           ],
           "yaxis": "y"
          }
         ],
         "name": "19"
        },
        {
         "data": [
          {
           "hovertemplate": "club=CIN<br>frameId=20<br>x=%{x}<br>y=%{y}<extra></extra>",
           "legendgroup": "CIN",
           "marker": {
            "color": "Red",
            "symbol": "circle"
           },
           "mode": "markers",
           "name": "CIN",
           "orientation": "v",
           "showlegend": true,
           "type": "scatter",
           "x": [
            39.28,
            46.35,
            35.99,
            39.16,
            37.93,
            36.44,
            48.38,
            37.13,
            36.27,
            39.74,
            39.49
           ],
           "xaxis": "x",
           "y": [
            16.26,
            21.94,
            26.99,
            36.71,
            42.32,
            31.9,
            31.14,
            25.65,
            22.86,
            25.99,
            28.43
           ],
           "yaxis": "y"
          },
          {
           "hovertemplate": "club=PIT<br>frameId=20<br>x=%{x}<br>y=%{y}<extra></extra>",
           "legendgroup": "PIT",
           "marker": {
            "color": "Black",
            "symbol": "circle"
           },
           "mode": "markers",
           "name": "PIT",
           "orientation": "v",
           "showlegend": true,
           "type": "scatter",
           "x": [
            29.37,
            33.22,
            33.1,
            34.05,
            32.75,
            31.96,
            33.64,
            29.33,
            33.2,
            33.43,
            32.57
           ],
           "xaxis": "x",
           "y": [
            26.72,
            25.44,
            23.94,
            26.87,
            36.59,
            35.93,
            28.34,
            24.36,
            22.55,
            29.97,
            42.23
           ],
           "yaxis": "y"
          },
          {
           "hovertemplate": "club=football<br>frameId=20<br>x=%{x}<br>y=%{y}<extra></extra>",
           "legendgroup": "football",
           "marker": {
            "color": "Grey",
            "symbol": "circle"
           },
           "mode": "markers",
           "name": "football",
           "orientation": "v",
           "showlegend": true,
           "type": "scatter",
           "x": [
            34.6800003051758
           ],
           "xaxis": "x",
           "y": [
            26.7099990844727
           ],
           "yaxis": "y"
          }
         ],
         "name": "20"
        },
        {
         "data": [
          {
           "hovertemplate": "club=CIN<br>frameId=21<br>x=%{x}<br>y=%{y}<extra></extra>",
           "legendgroup": "CIN",
           "marker": {
            "color": "Red",
            "symbol": "circle"
           },
           "mode": "markers",
           "name": "CIN",
           "orientation": "v",
           "showlegend": true,
           "type": "scatter",
           "x": [
            39.31,
            46.35,
            35.97,
            39.17,
            37.86,
            36.44,
            48.25,
            37.05,
            36.27,
            39.75,
            39.48
           ],
           "xaxis": "x",
           "y": [
            16.37,
            21.94,
            27.09,
            36.89,
            42.4,
            31.9,
            31.22,
            25.55,
            22.86,
            25.98,
            28.61
           ],
           "yaxis": "y"
          },
          {
           "hovertemplate": "club=PIT<br>frameId=21<br>x=%{x}<br>y=%{y}<extra></extra>",
           "legendgroup": "PIT",
           "marker": {
            "color": "Black",
            "symbol": "circle"
           },
           "mode": "markers",
           "name": "PIT",
           "orientation": "v",
           "showlegend": true,
           "type": "scatter",
           "x": [
            29.39,
            33.28,
            33.15,
            34.06,
            32.83,
            32.06,
            33.67,
            29.36,
            33.27,
            33.45,
            32.69
           ],
           "xaxis": "x",
           "y": [
            26.74,
            25.41,
            23.92,
            26.87,
            36.73,
            35.97,
            28.35,
            24.37,
            22.52,
            29.97,
            42.38
           ],
           "yaxis": "y"
          },
          {
           "hovertemplate": "club=football<br>frameId=21<br>x=%{x}<br>y=%{y}<extra></extra>",
           "legendgroup": "football",
           "marker": {
            "color": "Grey",
            "symbol": "circle"
           },
           "mode": "markers",
           "name": "football",
           "orientation": "v",
           "showlegend": true,
           "type": "scatter",
           "x": [
            34.6800003051758
           ],
           "xaxis": "x",
           "y": [
            26.7199993133545
           ],
           "yaxis": "y"
          }
         ],
         "name": "21"
        },
        {
         "data": [
          {
           "hovertemplate": "club=CIN<br>frameId=22<br>x=%{x}<br>y=%{y}<extra></extra>",
           "legendgroup": "CIN",
           "marker": {
            "color": "Red",
            "symbol": "circle"
           },
           "mode": "markers",
           "name": "CIN",
           "orientation": "v",
           "showlegend": true,
           "type": "scatter",
           "x": [
            39.33,
            46.35,
            35.96,
            39.18,
            37.8,
            36.44,
            48.13,
            36.96,
            36.27,
            39.74,
            39.47
           ],
           "xaxis": "x",
           "y": [
            16.49,
            21.94,
            27.2,
            37.05,
            42.48,
            31.9,
            31.3,
            25.44,
            22.87,
            25.95,
            28.79
           ],
           "yaxis": "y"
          },
          {
           "hovertemplate": "club=PIT<br>frameId=22<br>x=%{x}<br>y=%{y}<extra></extra>",
           "legendgroup": "PIT",
           "marker": {
            "color": "Black",
            "symbol": "circle"
           },
           "mode": "markers",
           "name": "PIT",
           "orientation": "v",
           "showlegend": true,
           "type": "scatter",
           "x": [
            29.4,
            33.33,
            33.18,
            34.07,
            32.91,
            32.15,
            33.69,
            29.39,
            33.33,
            33.47,
            32.81
           ],
           "xaxis": "x",
           "y": [
            26.75,
            25.39,
            23.92,
            26.88,
            36.85,
            36,
            28.35,
            24.38,
            22.48,
            29.96,
            42.53
           ],
           "yaxis": "y"
          },
          {
           "hovertemplate": "club=football<br>frameId=22<br>x=%{x}<br>y=%{y}<extra></extra>",
           "legendgroup": "football",
           "marker": {
            "color": "Grey",
            "symbol": "circle"
           },
           "mode": "markers",
           "name": "football",
           "orientation": "v",
           "showlegend": true,
           "type": "scatter",
           "x": [
            34.6800003051758
           ],
           "xaxis": "x",
           "y": [
            26.7199993133545
           ],
           "yaxis": "y"
          }
         ],
         "name": "22"
        },
        {
         "data": [
          {
           "hovertemplate": "club=CIN<br>frameId=23<br>x=%{x}<br>y=%{y}<extra></extra>",
           "legendgroup": "CIN",
           "marker": {
            "color": "Red",
            "symbol": "circle"
           },
           "mode": "markers",
           "name": "CIN",
           "orientation": "v",
           "showlegend": true,
           "type": "scatter",
           "x": [
            39.35,
            46.35,
            35.94,
            39.19,
            37.75,
            36.44,
            48.01,
            36.88,
            36.27,
            39.75,
            39.45
           ],
           "xaxis": "x",
           "y": [
            16.6,
            21.94,
            27.32,
            37.2,
            42.56,
            31.9,
            31.39,
            25.34,
            22.87,
            25.94,
            28.97
           ],
           "yaxis": "y"
          },
          {
           "hovertemplate": "club=PIT<br>frameId=23<br>x=%{x}<br>y=%{y}<extra></extra>",
           "legendgroup": "PIT",
           "marker": {
            "color": "Black",
            "symbol": "circle"
           },
           "mode": "markers",
           "name": "PIT",
           "orientation": "v",
           "showlegend": true,
           "type": "scatter",
           "x": [
            29.42,
            33.38,
            33.21,
            34.09,
            32.98,
            32.25,
            33.71,
            29.41,
            33.38,
            33.49,
            32.93
           ],
           "xaxis": "x",
           "y": [
            26.76,
            25.36,
            23.91,
            26.88,
            36.97,
            36.02,
            28.36,
            24.4,
            22.43,
            29.95,
            42.66
           ],
           "yaxis": "y"
          },
          {
           "hovertemplate": "club=football<br>frameId=23<br>x=%{x}<br>y=%{y}<extra></extra>",
           "legendgroup": "football",
           "marker": {
            "color": "Grey",
            "symbol": "circle"
           },
           "mode": "markers",
           "name": "football",
           "orientation": "v",
           "showlegend": true,
           "type": "scatter",
           "x": [
            34.6800003051758
           ],
           "xaxis": "x",
           "y": [
            26.7199993133545
           ],
           "yaxis": "y"
          }
         ],
         "name": "23"
        },
        {
         "data": [
          {
           "hovertemplate": "club=CIN<br>frameId=24<br>x=%{x}<br>y=%{y}<extra></extra>",
           "legendgroup": "CIN",
           "marker": {
            "color": "Red",
            "symbol": "circle"
           },
           "mode": "markers",
           "name": "CIN",
           "orientation": "v",
           "showlegend": true,
           "type": "scatter",
           "x": [
            39.37,
            46.35,
            35.94,
            39.19,
            37.71,
            36.43,
            47.89,
            36.8,
            36.26,
            39.74,
            39.44
           ],
           "xaxis": "x",
           "y": [
            16.71,
            21.94,
            27.44,
            37.35,
            42.64,
            31.9,
            31.48,
            25.24,
            22.88,
            25.91,
            29.14
           ],
           "yaxis": "y"
          },
          {
           "hovertemplate": "club=PIT<br>frameId=24<br>x=%{x}<br>y=%{y}<extra></extra>",
           "legendgroup": "PIT",
           "marker": {
            "color": "Black",
            "symbol": "circle"
           },
           "mode": "markers",
           "name": "PIT",
           "orientation": "v",
           "showlegend": true,
           "type": "scatter",
           "x": [
            29.44,
            33.42,
            33.24,
            34.11,
            33.04,
            32.34,
            33.73,
            29.44,
            33.41,
            33.5,
            33.04
           ],
           "xaxis": "x",
           "y": [
            26.75,
            25.35,
            23.91,
            26.89,
            37.1,
            36.03,
            28.37,
            24.44,
            22.36,
            29.95,
            42.79
           ],
           "yaxis": "y"
          },
          {
           "hovertemplate": "club=football<br>frameId=24<br>x=%{x}<br>y=%{y}<extra></extra>",
           "legendgroup": "football",
           "marker": {
            "color": "Grey",
            "symbol": "circle"
           },
           "mode": "markers",
           "name": "football",
           "orientation": "v",
           "showlegend": true,
           "type": "scatter",
           "x": [
            34.6800003051758
           ],
           "xaxis": "x",
           "y": [
            26.7299995422363
           ],
           "yaxis": "y"
          }
         ],
         "name": "24"
        },
        {
         "data": [
          {
           "hovertemplate": "club=CIN<br>frameId=25<br>x=%{x}<br>y=%{y}<extra></extra>",
           "legendgroup": "CIN",
           "marker": {
            "color": "Red",
            "symbol": "circle"
           },
           "mode": "markers",
           "name": "CIN",
           "orientation": "v",
           "showlegend": true,
           "type": "scatter",
           "x": [
            39.39,
            46.35,
            35.94,
            39.18,
            37.69,
            36.43,
            47.78,
            36.71,
            36.26,
            39.75,
            39.43
           ],
           "xaxis": "x",
           "y": [
            16.83,
            21.94,
            27.56,
            37.49,
            42.73,
            31.9,
            31.57,
            25.15,
            22.88,
            25.89,
            29.29
           ],
           "yaxis": "y"
          },
          {
           "hovertemplate": "club=PIT<br>frameId=25<br>x=%{x}<br>y=%{y}<extra></extra>",
           "legendgroup": "PIT",
           "marker": {
            "color": "Black",
            "symbol": "circle"
           },
           "mode": "markers",
           "name": "PIT",
           "orientation": "v",
           "showlegend": true,
           "type": "scatter",
           "x": [
            29.47,
            33.45,
            33.26,
            34.13,
            33.1,
            32.42,
            33.75,
            29.46,
            33.43,
            33.52,
            33.15
           ],
           "xaxis": "x",
           "y": [
            26.73,
            25.34,
            23.89,
            26.89,
            37.22,
            36.03,
            28.37,
            24.48,
            22.29,
            29.95,
            42.9
           ],
           "yaxis": "y"
          },
          {
           "hovertemplate": "club=football<br>frameId=25<br>x=%{x}<br>y=%{y}<extra></extra>",
           "legendgroup": "football",
           "marker": {
            "color": "Grey",
            "symbol": "circle"
           },
           "mode": "markers",
           "name": "football",
           "orientation": "v",
           "showlegend": true,
           "type": "scatter",
           "x": [
            34.6800003051758
           ],
           "xaxis": "x",
           "y": [
            26.7299995422363
           ],
           "yaxis": "y"
          }
         ],
         "name": "25"
        },
        {
         "data": [
          {
           "hovertemplate": "club=CIN<br>frameId=26<br>x=%{x}<br>y=%{y}<extra></extra>",
           "legendgroup": "CIN",
           "marker": {
            "color": "Red",
            "symbol": "circle"
           },
           "mode": "markers",
           "name": "CIN",
           "orientation": "v",
           "showlegend": true,
           "type": "scatter",
           "x": [
            39.4,
            46.35,
            35.94,
            39.18,
            37.67,
            36.43,
            47.67,
            36.63,
            36.25,
            39.75,
            39.41
           ],
           "xaxis": "x",
           "y": [
            16.94,
            21.94,
            27.67,
            37.63,
            42.81,
            31.9,
            31.66,
            25.07,
            22.88,
            25.87,
            29.44
           ],
           "yaxis": "y"
          },
          {
           "hovertemplate": "club=PIT<br>frameId=26<br>x=%{x}<br>y=%{y}<extra></extra>",
           "legendgroup": "PIT",
           "marker": {
            "color": "Black",
            "symbol": "circle"
           },
           "mode": "markers",
           "name": "PIT",
           "orientation": "v",
           "showlegend": true,
           "type": "scatter",
           "x": [
            29.49,
            33.47,
            33.27,
            34.16,
            33.14,
            32.5,
            33.77,
            29.48,
            33.44,
            33.52,
            33.26
           ],
           "xaxis": "x",
           "y": [
            26.7,
            25.32,
            23.89,
            26.88,
            37.34,
            36.03,
            28.38,
            24.52,
            22.22,
            29.94,
            43.02
           ],
           "yaxis": "y"
          },
          {
           "hovertemplate": "club=football<br>frameId=26<br>x=%{x}<br>y=%{y}<extra></extra>",
           "legendgroup": "football",
           "marker": {
            "color": "Grey",
            "symbol": "circle"
           },
           "mode": "markers",
           "name": "football",
           "orientation": "v",
           "showlegend": true,
           "type": "scatter",
           "x": [
            34.6800003051758
           ],
           "xaxis": "x",
           "y": [
            26.7299995422363
           ],
           "yaxis": "y"
          }
         ],
         "name": "26"
        },
        {
         "data": [
          {
           "hovertemplate": "club=CIN<br>frameId=27<br>x=%{x}<br>y=%{y}<extra></extra>",
           "legendgroup": "CIN",
           "marker": {
            "color": "Red",
            "symbol": "circle"
           },
           "mode": "markers",
           "name": "CIN",
           "orientation": "v",
           "showlegend": true,
           "type": "scatter",
           "x": [
            39.42,
            46.35,
            35.95,
            39.18,
            37.66,
            36.43,
            47.56,
            36.55,
            36.25,
            39.75,
            39.39
           ],
           "xaxis": "x",
           "y": [
            17.06,
            21.94,
            27.77,
            37.76,
            42.9,
            31.9,
            31.76,
            24.98,
            22.88,
            25.87,
            29.56
           ],
           "yaxis": "y"
          },
          {
           "hovertemplate": "club=PIT<br>frameId=27<br>x=%{x}<br>y=%{y}<extra></extra>",
           "legendgroup": "PIT",
           "marker": {
            "color": "Black",
            "symbol": "circle"
           },
           "mode": "markers",
           "name": "PIT",
           "orientation": "v",
           "showlegend": true,
           "type": "scatter",
           "x": [
            29.52,
            33.49,
            33.29,
            34.19,
            33.18,
            32.57,
            33.78,
            29.5,
            33.45,
            33.54,
            33.36
           ],
           "xaxis": "x",
           "y": [
            26.66,
            25.32,
            23.89,
            26.89,
            37.47,
            36.01,
            28.38,
            24.56,
            22.16,
            29.94,
            43.13
           ],
           "yaxis": "y"
          },
          {
           "hovertemplate": "club=football<br>frameId=27<br>x=%{x}<br>y=%{y}<extra></extra>",
           "legendgroup": "football",
           "marker": {
            "color": "Grey",
            "symbol": "circle"
           },
           "mode": "markers",
           "name": "football",
           "orientation": "v",
           "showlegend": true,
           "type": "scatter",
           "x": [
            34.6800003051758
           ],
           "xaxis": "x",
           "y": [
            26.7299995422363
           ],
           "yaxis": "y"
          }
         ],
         "name": "27"
        },
        {
         "data": [
          {
           "hovertemplate": "club=CIN<br>frameId=28<br>x=%{x}<br>y=%{y}<extra></extra>",
           "legendgroup": "CIN",
           "marker": {
            "color": "Red",
            "symbol": "circle"
           },
           "mode": "markers",
           "name": "CIN",
           "orientation": "v",
           "showlegend": true,
           "type": "scatter",
           "x": [
            39.43,
            46.35,
            35.95,
            39.18,
            37.66,
            36.43,
            47.46,
            36.47,
            36.25,
            39.75,
            39.37
           ],
           "xaxis": "x",
           "y": [
            17.17,
            21.94,
            27.86,
            37.88,
            42.99,
            31.9,
            31.86,
            24.91,
            22.88,
            25.87,
            29.68
           ],
           "yaxis": "y"
          },
          {
           "hovertemplate": "club=PIT<br>frameId=28<br>x=%{x}<br>y=%{y}<extra></extra>",
           "legendgroup": "PIT",
           "marker": {
            "color": "Black",
            "symbol": "circle"
           },
           "mode": "markers",
           "name": "PIT",
           "orientation": "v",
           "showlegend": true,
           "type": "scatter",
           "x": [
            29.55,
            33.49,
            33.31,
            34.23,
            33.22,
            32.63,
            33.79,
            29.52,
            33.44,
            33.55,
            33.46
           ],
           "xaxis": "x",
           "y": [
            26.63,
            25.31,
            23.9,
            26.88,
            37.6,
            36.01,
            28.39,
            24.61,
            22.11,
            29.93,
            43.22
           ],
           "yaxis": "y"
          },
          {
           "hovertemplate": "club=football<br>frameId=28<br>x=%{x}<br>y=%{y}<extra></extra>",
           "legendgroup": "football",
           "marker": {
            "color": "Grey",
            "symbol": "circle"
           },
           "mode": "markers",
           "name": "football",
           "orientation": "v",
           "showlegend": true,
           "type": "scatter",
           "x": [
            34.6800003051758
           ],
           "xaxis": "x",
           "y": [
            26.7299995422363
           ],
           "yaxis": "y"
          }
         ],
         "name": "28"
        },
        {
         "data": [
          {
           "hovertemplate": "club=CIN<br>frameId=29<br>x=%{x}<br>y=%{y}<extra></extra>",
           "legendgroup": "CIN",
           "marker": {
            "color": "Red",
            "symbol": "circle"
           },
           "mode": "markers",
           "name": "CIN",
           "orientation": "v",
           "showlegend": true,
           "type": "scatter",
           "x": [
            39.45,
            46.35,
            35.95,
            39.18,
            37.68,
            36.42,
            47.35,
            36.4,
            36.24,
            39.76,
            39.35
           ],
           "xaxis": "x",
           "y": [
            17.28,
            21.94,
            27.92,
            37.98,
            43.07,
            31.9,
            31.96,
            24.83,
            22.87,
            25.85,
            29.78
           ],
           "yaxis": "y"
          },
          {
           "hovertemplate": "club=PIT<br>frameId=29<br>x=%{x}<br>y=%{y}<extra></extra>",
           "legendgroup": "PIT",
           "marker": {
            "color": "Black",
            "symbol": "circle"
           },
           "mode": "markers",
           "name": "PIT",
           "orientation": "v",
           "showlegend": true,
           "type": "scatter",
           "x": [
            29.58,
            33.51,
            33.33,
            34.27,
            33.25,
            32.68,
            33.78,
            29.53,
            33.43,
            33.56,
            33.55
           ],
           "xaxis": "x",
           "y": [
            26.58,
            25.31,
            23.91,
            26.89,
            37.74,
            36,
            28.38,
            24.66,
            22.08,
            29.92,
            43.3
           ],
           "yaxis": "y"
          },
          {
           "hovertemplate": "club=football<br>frameId=29<br>x=%{x}<br>y=%{y}<extra></extra>",
           "legendgroup": "football",
           "marker": {
            "color": "Grey",
            "symbol": "circle"
           },
           "mode": "markers",
           "name": "football",
           "orientation": "v",
           "showlegend": true,
           "type": "scatter",
           "x": [
            34.6699981689453
           ],
           "xaxis": "x",
           "y": [
            26.7299995422363
           ],
           "yaxis": "y"
          }
         ],
         "name": "29"
        },
        {
         "data": [
          {
           "hovertemplate": "club=CIN<br>frameId=30<br>x=%{x}<br>y=%{y}<extra></extra>",
           "legendgroup": "CIN",
           "marker": {
            "color": "Red",
            "symbol": "circle"
           },
           "mode": "markers",
           "name": "CIN",
           "orientation": "v",
           "showlegend": true,
           "type": "scatter",
           "x": [
            39.46,
            46.34,
            35.95,
            39.19,
            37.71,
            36.42,
            47.26,
            36.33,
            36.24,
            39.76,
            39.33
           ],
           "xaxis": "x",
           "y": [
            17.38,
            21.94,
            27.96,
            38.09,
            43.16,
            31.9,
            32.06,
            24.77,
            22.87,
            25.86,
            29.88
           ],
           "yaxis": "y"
          },
          {
           "hovertemplate": "club=PIT<br>frameId=30<br>x=%{x}<br>y=%{y}<extra></extra>",
           "legendgroup": "PIT",
           "marker": {
            "color": "Black",
            "symbol": "circle"
           },
           "mode": "markers",
           "name": "PIT",
           "orientation": "v",
           "showlegend": true,
           "type": "scatter",
           "x": [
            29.61,
            33.51,
            33.35,
            34.3,
            33.28,
            32.71,
            33.78,
            29.54,
            33.42,
            33.57,
            33.64
           ],
           "xaxis": "x",
           "y": [
            26.54,
            25.31,
            23.92,
            26.88,
            37.88,
            36.01,
            28.38,
            24.7,
            22.07,
            29.91,
            43.38
           ],
           "yaxis": "y"
          },
          {
           "hovertemplate": "club=football<br>frameId=30<br>x=%{x}<br>y=%{y}<extra></extra>",
           "legendgroup": "football",
           "marker": {
            "color": "Grey",
            "symbol": "circle"
           },
           "mode": "markers",
           "name": "football",
           "orientation": "v",
           "showlegend": true,
           "type": "scatter",
           "x": [
            34.6699981689453
           ],
           "xaxis": "x",
           "y": [
            26.7299995422363
           ],
           "yaxis": "y"
          }
         ],
         "name": "30"
        },
        {
         "data": [
          {
           "hovertemplate": "club=CIN<br>frameId=31<br>x=%{x}<br>y=%{y}<extra></extra>",
           "legendgroup": "CIN",
           "marker": {
            "color": "Red",
            "symbol": "circle"
           },
           "mode": "markers",
           "name": "CIN",
           "orientation": "v",
           "showlegend": true,
           "type": "scatter",
           "x": [
            39.47,
            46.34,
            35.93,
            39.2,
            37.75,
            36.42,
            47.16,
            36.26,
            36.23,
            39.76,
            39.3
           ],
           "xaxis": "x",
           "y": [
            17.48,
            21.95,
            27.99,
            38.18,
            43.24,
            31.9,
            32.17,
            24.7,
            22.86,
            25.86,
            29.96
           ],
           "yaxis": "y"
          },
          {
           "hovertemplate": "club=PIT<br>frameId=31<br>x=%{x}<br>y=%{y}<extra></extra>",
           "legendgroup": "PIT",
           "marker": {
            "color": "Black",
            "symbol": "circle"
           },
           "mode": "markers",
           "name": "PIT",
           "orientation": "v",
           "showlegend": true,
           "type": "scatter",
           "x": [
            29.63,
            33.51,
            33.36,
            34.32,
            33.29,
            32.73,
            33.78,
            29.56,
            33.41,
            33.58,
            33.72
           ],
           "xaxis": "x",
           "y": [
            26.51,
            25.31,
            23.94,
            26.87,
            38.02,
            36.01,
            28.38,
            24.73,
            22.08,
            29.9,
            43.44
           ],
           "yaxis": "y"
          },
          {
           "hovertemplate": "club=football<br>frameId=31<br>x=%{x}<br>y=%{y}<extra></extra>",
           "legendgroup": "football",
           "marker": {
            "color": "Grey",
            "symbol": "circle"
           },
           "mode": "markers",
           "name": "football",
           "orientation": "v",
           "showlegend": true,
           "type": "scatter",
           "x": [
            34.6699981689453
           ],
           "xaxis": "x",
           "y": [
            26.7299995422363
           ],
           "yaxis": "y"
          }
         ],
         "name": "31"
        },
        {
         "data": [
          {
           "hovertemplate": "club=CIN<br>frameId=32<br>x=%{x}<br>y=%{y}<extra></extra>",
           "legendgroup": "CIN",
           "marker": {
            "color": "Red",
            "symbol": "circle"
           },
           "mode": "markers",
           "name": "CIN",
           "orientation": "v",
           "showlegend": true,
           "type": "scatter",
           "x": [
            39.48,
            46.32,
            35.92,
            39.21,
            37.81,
            36.41,
            47.07,
            36.2,
            36.21,
            39.76,
            39.28
           ],
           "xaxis": "x",
           "y": [
            17.57,
            21.96,
            28.01,
            38.26,
            43.32,
            31.9,
            32.28,
            24.65,
            22.83,
            25.85,
            30.04
           ],
           "yaxis": "y"
          },
          {
           "hovertemplate": "club=PIT<br>frameId=32<br>x=%{x}<br>y=%{y}<extra></extra>",
           "legendgroup": "PIT",
           "marker": {
            "color": "Black",
            "symbol": "circle"
           },
           "mode": "markers",
           "name": "PIT",
           "orientation": "v",
           "showlegend": true,
           "type": "scatter",
           "x": [
            29.66,
            33.5,
            33.39,
            34.34,
            33.31,
            32.74,
            33.78,
            29.56,
            33.4,
            33.58,
            33.79
           ],
           "xaxis": "x",
           "y": [
            26.5,
            25.3,
            23.96,
            26.87,
            38.16,
            36.02,
            28.38,
            24.74,
            22.1,
            29.89,
            43.5
           ],
           "yaxis": "y"
          },
          {
           "hovertemplate": "club=football<br>frameId=32<br>x=%{x}<br>y=%{y}<extra></extra>",
           "legendgroup": "football",
           "marker": {
            "color": "Grey",
            "symbol": "circle"
           },
           "mode": "markers",
           "name": "football",
           "orientation": "v",
           "showlegend": true,
           "type": "scatter",
           "x": [
            34.6699981689453
           ],
           "xaxis": "x",
           "y": [
            26.7399997711182
           ],
           "yaxis": "y"
          }
         ],
         "name": "32"
        },
        {
         "data": [
          {
           "hovertemplate": "club=CIN<br>frameId=33<br>x=%{x}<br>y=%{y}<extra></extra>",
           "legendgroup": "CIN",
           "marker": {
            "color": "Red",
            "symbol": "circle"
           },
           "mode": "markers",
           "name": "CIN",
           "orientation": "v",
           "showlegend": true,
           "type": "scatter",
           "x": [
            39.49,
            46.32,
            35.89,
            39.22,
            37.87,
            36.4,
            46.99,
            36.15,
            36.19,
            39.75,
            39.25
           ],
           "xaxis": "x",
           "y": [
            17.67,
            21.96,
            28.01,
            38.34,
            43.39,
            31.91,
            32.39,
            24.6,
            22.8,
            25.85,
            30.12
           ],
           "yaxis": "y"
          },
          {
           "hovertemplate": "club=PIT<br>frameId=33<br>x=%{x}<br>y=%{y}<extra></extra>",
           "legendgroup": "PIT",
           "marker": {
            "color": "Black",
            "symbol": "circle"
           },
           "mode": "markers",
           "name": "PIT",
           "orientation": "v",
           "showlegend": true,
           "type": "scatter",
           "x": [
            29.68,
            33.5,
            33.41,
            34.37,
            33.31,
            32.73,
            33.78,
            29.57,
            33.4,
            33.58,
            33.87
           ],
           "xaxis": "x",
           "y": [
            26.5,
            25.29,
            23.97,
            26.87,
            38.28,
            36.03,
            28.38,
            24.75,
            22.13,
            29.89,
            43.55
           ],
           "yaxis": "y"
          },
          {
           "hovertemplate": "club=football<br>frameId=33<br>x=%{x}<br>y=%{y}<extra></extra>",
           "legendgroup": "football",
           "marker": {
            "color": "Grey",
            "symbol": "circle"
           },
           "mode": "markers",
           "name": "football",
           "orientation": "v",
           "showlegend": true,
           "type": "scatter",
           "x": [
            34.6699981689453
           ],
           "xaxis": "x",
           "y": [
            26.7399997711182
           ],
           "yaxis": "y"
          }
         ],
         "name": "33"
        },
        {
         "data": [
          {
           "hovertemplate": "club=CIN<br>frameId=34<br>x=%{x}<br>y=%{y}<extra></extra>",
           "legendgroup": "CIN",
           "marker": {
            "color": "Red",
            "symbol": "circle"
           },
           "mode": "markers",
           "name": "CIN",
           "orientation": "v",
           "showlegend": true,
           "type": "scatter",
           "x": [
            39.51,
            46.31,
            35.86,
            39.23,
            37.95,
            36.39,
            46.92,
            36.12,
            36.16,
            39.75,
            39.22
           ],
           "xaxis": "x",
           "y": [
            17.76,
            21.97,
            28.01,
            38.41,
            43.46,
            31.91,
            32.51,
            24.58,
            22.75,
            25.85,
            30.19
           ],
           "yaxis": "y"
          },
          {
           "hovertemplate": "club=PIT<br>frameId=34<br>x=%{x}<br>y=%{y}<extra></extra>",
           "legendgroup": "PIT",
           "marker": {
            "color": "Black",
            "symbol": "circle"
           },
           "mode": "markers",
           "name": "PIT",
           "orientation": "v",
           "showlegend": true,
           "type": "scatter",
           "x": [
            29.7,
            33.5,
            33.44,
            34.39,
            33.3,
            32.73,
            33.78,
            29.58,
            33.4,
            33.57,
            33.94
           ],
           "xaxis": "x",
           "y": [
            26.51,
            25.27,
            23.98,
            26.87,
            38.4,
            36.05,
            28.38,
            24.75,
            22.17,
            29.9,
            43.59
           ],
           "yaxis": "y"
          },
          {
           "hovertemplate": "club=football<br>frameId=34<br>x=%{x}<br>y=%{y}<extra></extra>",
           "legendgroup": "football",
           "marker": {
            "color": "Grey",
            "symbol": "circle"
           },
           "mode": "markers",
           "name": "football",
           "orientation": "v",
           "showlegend": true,
           "type": "scatter",
           "x": [
            34.6699981689453
           ],
           "xaxis": "x",
           "y": [
            26.7399997711182
           ],
           "yaxis": "y"
          }
         ],
         "name": "34"
        },
        {
         "data": [
          {
           "hovertemplate": "club=CIN<br>frameId=35<br>x=%{x}<br>y=%{y}<extra></extra>",
           "legendgroup": "CIN",
           "marker": {
            "color": "Red",
            "symbol": "circle"
           },
           "mode": "markers",
           "name": "CIN",
           "orientation": "v",
           "showlegend": true,
           "type": "scatter",
           "x": [
            39.52,
            46.3,
            35.83,
            39.23,
            38.03,
            36.38,
            46.84,
            36.09,
            36.13,
            39.75,
            39.19
           ],
           "xaxis": "x",
           "y": [
            17.84,
            21.98,
            28,
            38.48,
            43.51,
            31.91,
            32.62,
            24.56,
            22.71,
            25.84,
            30.26
           ],
           "yaxis": "y"
          },
          {
           "hovertemplate": "club=PIT<br>frameId=35<br>x=%{x}<br>y=%{y}<extra></extra>",
           "legendgroup": "PIT",
           "marker": {
            "color": "Black",
            "symbol": "circle"
           },
           "mode": "markers",
           "name": "PIT",
           "orientation": "v",
           "showlegend": true,
           "type": "scatter",
           "x": [
            29.71,
            33.49,
            33.46,
            34.39,
            33.29,
            32.72,
            33.78,
            29.59,
            33.4,
            33.56,
            34
           ],
           "xaxis": "x",
           "y": [
            26.53,
            25.26,
            23.99,
            26.86,
            38.5,
            36.06,
            28.38,
            24.74,
            22.21,
            29.92,
            43.63
           ],
           "yaxis": "y"
          },
          {
           "hovertemplate": "club=football<br>frameId=35<br>x=%{x}<br>y=%{y}<extra></extra>",
           "legendgroup": "football",
           "marker": {
            "color": "Grey",
            "symbol": "circle"
           },
           "mode": "markers",
           "name": "football",
           "orientation": "v",
           "showlegend": true,
           "type": "scatter",
           "x": [
            34.6699981689453
           ],
           "xaxis": "x",
           "y": [
            26.7399997711182
           ],
           "yaxis": "y"
          }
         ],
         "name": "35"
        },
        {
         "data": [
          {
           "hovertemplate": "club=CIN<br>frameId=36<br>x=%{x}<br>y=%{y}<extra></extra>",
           "legendgroup": "CIN",
           "marker": {
            "color": "Red",
            "symbol": "circle"
           },
           "mode": "markers",
           "name": "CIN",
           "orientation": "v",
           "showlegend": true,
           "type": "scatter",
           "x": [
            39.54,
            46.29,
            35.79,
            39.23,
            38.13,
            36.37,
            46.77,
            36.07,
            36.09,
            39.74,
            39.16
           ],
           "xaxis": "x",
           "y": [
            17.92,
            21.99,
            27.99,
            38.55,
            43.56,
            31.91,
            32.74,
            24.56,
            22.66,
            25.83,
            30.32
           ],
           "yaxis": "y"
          },
          {
           "hovertemplate": "club=PIT<br>frameId=36<br>x=%{x}<br>y=%{y}<extra></extra>",
           "legendgroup": "PIT",
           "marker": {
            "color": "Black",
            "symbol": "circle"
           },
           "mode": "markers",
           "name": "PIT",
           "orientation": "v",
           "showlegend": true,
           "type": "scatter",
           "x": [
            29.73,
            33.49,
            33.48,
            34.42,
            33.27,
            32.71,
            33.78,
            29.6,
            33.4,
            33.55,
            34.05
           ],
           "xaxis": "x",
           "y": [
            26.56,
            25.26,
            23.99,
            26.85,
            38.59,
            36.07,
            28.39,
            24.71,
            22.24,
            29.96,
            43.65
           ],
           "yaxis": "y"
          },
          {
           "hovertemplate": "club=football<br>frameId=36<br>x=%{x}<br>y=%{y}<extra></extra>",
           "legendgroup": "football",
           "marker": {
            "color": "Grey",
            "symbol": "circle"
           },
           "mode": "markers",
           "name": "football",
           "orientation": "v",
           "showlegend": true,
           "type": "scatter",
           "x": [
            34.6599998474121
           ],
           "xaxis": "x",
           "y": [
            26.7399997711182
           ],
           "yaxis": "y"
          }
         ],
         "name": "36"
        },
        {
         "data": [
          {
           "hovertemplate": "club=CIN<br>frameId=37<br>x=%{x}<br>y=%{y}<extra></extra>",
           "legendgroup": "CIN",
           "marker": {
            "color": "Red",
            "symbol": "circle"
           },
           "mode": "markers",
           "name": "CIN",
           "orientation": "v",
           "showlegend": true,
           "type": "scatter",
           "x": [
            39.56,
            46.28,
            35.75,
            39.22,
            38.22,
            36.37,
            46.71,
            36.06,
            36.06,
            39.74,
            39.13
           ],
           "xaxis": "x",
           "y": [
            17.99,
            21.99,
            27.98,
            38.61,
            43.6,
            31.91,
            32.86,
            24.56,
            22.62,
            25.83,
            30.38
           ],
           "yaxis": "y"
          },
          {
           "hovertemplate": "club=PIT<br>frameId=37<br>x=%{x}<br>y=%{y}<extra></extra>",
           "legendgroup": "PIT",
           "marker": {
            "color": "Black",
            "symbol": "circle"
           },
           "mode": "markers",
           "name": "PIT",
           "orientation": "v",
           "showlegend": true,
           "type": "scatter",
           "x": [
            29.75,
            33.49,
            33.5,
            34.45,
            33.25,
            32.72,
            33.78,
            29.6,
            33.41,
            33.53,
            34.09
           ],
           "xaxis": "x",
           "y": [
            26.58,
            25.25,
            23.99,
            26.86,
            38.66,
            36.08,
            28.39,
            24.68,
            22.28,
            30,
            43.68
           ],
           "yaxis": "y"
          },
          {
           "hovertemplate": "club=football<br>frameId=37<br>x=%{x}<br>y=%{y}<extra></extra>",
           "legendgroup": "football",
           "marker": {
            "color": "Grey",
            "symbol": "circle"
           },
           "mode": "markers",
           "name": "football",
           "orientation": "v",
           "showlegend": true,
           "type": "scatter",
           "x": [
            34.6599998474121
           ],
           "xaxis": "x",
           "y": [
            26.7399997711182
           ],
           "yaxis": "y"
          }
         ],
         "name": "37"
        },
        {
         "data": [
          {
           "hovertemplate": "club=CIN<br>frameId=38<br>x=%{x}<br>y=%{y}<extra></extra>",
           "legendgroup": "CIN",
           "marker": {
            "color": "Red",
            "symbol": "circle"
           },
           "mode": "markers",
           "name": "CIN",
           "orientation": "v",
           "showlegend": true,
           "type": "scatter",
           "x": [
            39.58,
            46.27,
            35.71,
            39.21,
            38.32,
            36.36,
            46.64,
            36.05,
            36.04,
            39.74,
            39.1
           ],
           "xaxis": "x",
           "y": [
            18.06,
            22.01,
            27.96,
            38.67,
            43.63,
            31.91,
            32.97,
            24.59,
            22.57,
            25.83,
            30.43
           ],
           "yaxis": "y"
          },
          {
           "hovertemplate": "club=PIT<br>frameId=38<br>x=%{x}<br>y=%{y}<extra></extra>",
           "legendgroup": "PIT",
           "marker": {
            "color": "Black",
            "symbol": "circle"
           },
           "mode": "markers",
           "name": "PIT",
           "orientation": "v",
           "showlegend": true,
           "type": "scatter",
           "x": [
            29.78,
            33.49,
            33.52,
            34.47,
            33.23,
            32.74,
            33.77,
            29.61,
            33.42,
            33.52,
            34.11
           ],
           "xaxis": "x",
           "y": [
            26.6,
            25.25,
            23.99,
            26.83,
            38.7,
            36.08,
            28.39,
            24.65,
            22.32,
            30.03,
            43.69
           ],
           "yaxis": "y"
          },
          {
           "hovertemplate": "club=football<br>frameId=38<br>x=%{x}<br>y=%{y}<extra></extra>",
           "legendgroup": "football",
           "marker": {
            "color": "Grey",
            "symbol": "circle"
           },
           "mode": "markers",
           "name": "football",
           "orientation": "v",
           "showlegend": true,
           "type": "scatter",
           "x": [
            34.6599998474121
           ],
           "xaxis": "x",
           "y": [
            26.7399997711182
           ],
           "yaxis": "y"
          }
         ],
         "name": "38"
        },
        {
         "data": [
          {
           "hovertemplate": "club=CIN<br>frameId=39<br>x=%{x}<br>y=%{y}<extra></extra>",
           "legendgroup": "CIN",
           "marker": {
            "color": "Red",
            "symbol": "circle"
           },
           "mode": "markers",
           "name": "CIN",
           "orientation": "v",
           "showlegend": true,
           "type": "scatter",
           "x": [
            39.6,
            46.26,
            35.69,
            39.19,
            38.42,
            36.35,
            46.58,
            36.05,
            36.01,
            39.73,
            39.08
           ],
           "xaxis": "x",
           "y": [
            18.12,
            22.01,
            27.95,
            38.73,
            43.65,
            31.9,
            33.09,
            24.61,
            22.53,
            25.83,
            30.49
           ],
           "yaxis": "y"
          },
          {
           "hovertemplate": "club=PIT<br>frameId=39<br>x=%{x}<br>y=%{y}<extra></extra>",
           "legendgroup": "PIT",
           "marker": {
            "color": "Black",
            "symbol": "circle"
           },
           "mode": "markers",
           "name": "PIT",
           "orientation": "v",
           "showlegend": true,
           "type": "scatter",
           "x": [
            29.8,
            33.49,
            33.53,
            34.47,
            33.21,
            32.76,
            33.78,
            29.62,
            33.43,
            33.51,
            34.12
           ],
           "xaxis": "x",
           "y": [
            26.61,
            25.25,
            23.98,
            26.8,
            38.72,
            36.07,
            28.4,
            24.64,
            22.35,
            30.06,
            43.7
           ],
           "yaxis": "y"
          },
          {
           "hovertemplate": "club=football<br>frameId=39<br>x=%{x}<br>y=%{y}<extra></extra>",
           "legendgroup": "football",
           "marker": {
            "color": "Grey",
            "symbol": "circle"
           },
           "mode": "markers",
           "name": "football",
           "orientation": "v",
           "showlegend": true,
           "type": "scatter",
           "x": [
            34.6599998474121
           ],
           "xaxis": "x",
           "y": [
            26.7399997711182
           ],
           "yaxis": "y"
          }
         ],
         "name": "39"
        },
        {
         "data": [
          {
           "hovertemplate": "club=CIN<br>frameId=40<br>x=%{x}<br>y=%{y}<extra></extra>",
           "legendgroup": "CIN",
           "marker": {
            "color": "Red",
            "symbol": "circle"
           },
           "mode": "markers",
           "name": "CIN",
           "orientation": "v",
           "showlegend": true,
           "type": "scatter",
           "x": [
            39.63,
            46.24,
            35.67,
            39.17,
            38.53,
            36.34,
            46.52,
            36.04,
            35.98,
            39.73,
            39.05
           ],
           "xaxis": "x",
           "y": [
            18.18,
            22.02,
            27.91,
            38.78,
            43.67,
            31.9,
            33.22,
            24.64,
            22.5,
            25.83,
            30.53
           ],
           "yaxis": "y"
          },
          {
           "hovertemplate": "club=PIT<br>frameId=40<br>x=%{x}<br>y=%{y}<extra></extra>",
           "legendgroup": "PIT",
           "marker": {
            "color": "Black",
            "symbol": "circle"
           },
           "mode": "markers",
           "name": "PIT",
           "orientation": "v",
           "showlegend": true,
           "type": "scatter",
           "x": [
            29.83,
            33.48,
            33.54,
            34.48,
            33.2,
            32.81,
            33.78,
            29.63,
            33.45,
            33.51,
            34.11
           ],
           "xaxis": "x",
           "y": [
            26.62,
            25.25,
            23.98,
            26.8,
            38.71,
            36.08,
            28.4,
            24.64,
            22.38,
            30.09,
            43.7
           ],
           "yaxis": "y"
          },
          {
           "hovertemplate": "club=football<br>frameId=40<br>x=%{x}<br>y=%{y}<extra></extra>",
           "legendgroup": "football",
           "marker": {
            "color": "Grey",
            "symbol": "circle"
           },
           "mode": "markers",
           "name": "football",
           "orientation": "v",
           "showlegend": true,
           "type": "scatter",
           "x": [
            34.6599998474121
           ],
           "xaxis": "x",
           "y": [
            26.7399997711182
           ],
           "yaxis": "y"
          }
         ],
         "name": "40"
        },
        {
         "data": [
          {
           "hovertemplate": "club=CIN<br>frameId=41<br>x=%{x}<br>y=%{y}<extra></extra>",
           "legendgroup": "CIN",
           "marker": {
            "color": "Red",
            "symbol": "circle"
           },
           "mode": "markers",
           "name": "CIN",
           "orientation": "v",
           "showlegend": true,
           "type": "scatter",
           "x": [
            39.65,
            46.24,
            35.65,
            39.15,
            38.64,
            36.32,
            46.46,
            36.04,
            35.96,
            39.73,
            39.04
           ],
           "xaxis": "x",
           "y": [
            18.23,
            22.02,
            27.9,
            38.82,
            43.68,
            31.9,
            33.34,
            24.67,
            22.46,
            25.82,
            30.58
           ],
           "yaxis": "y"
          },
          {
           "hovertemplate": "club=PIT<br>frameId=41<br>x=%{x}<br>y=%{y}<extra></extra>",
           "legendgroup": "PIT",
           "marker": {
            "color": "Black",
            "symbol": "circle"
           },
           "mode": "markers",
           "name": "PIT",
           "orientation": "v",
           "showlegend": true,
           "type": "scatter",
           "x": [
            29.85,
            33.48,
            33.54,
            34.48,
            33.18,
            32.86,
            33.78,
            29.64,
            33.48,
            33.51,
            34.1
           ],
           "xaxis": "x",
           "y": [
            26.62,
            25.24,
            23.97,
            26.79,
            38.69,
            36.09,
            28.42,
            24.63,
            22.4,
            30.1,
            43.7
           ],
           "yaxis": "y"
          },
          {
           "hovertemplate": "club=football<br>frameId=41<br>x=%{x}<br>y=%{y}<extra></extra>",
           "legendgroup": "football",
           "marker": {
            "color": "Grey",
            "symbol": "circle"
           },
           "mode": "markers",
           "name": "football",
           "orientation": "v",
           "showlegend": true,
           "type": "scatter",
           "x": [
            34.6599998474121
           ],
           "xaxis": "x",
           "y": [
            26.7399997711182
           ],
           "yaxis": "y"
          }
         ],
         "name": "41"
        },
        {
         "data": [
          {
           "hovertemplate": "club=CIN<br>frameId=42<br>x=%{x}<br>y=%{y}<extra></extra>",
           "legendgroup": "CIN",
           "marker": {
            "color": "Red",
            "symbol": "circle"
           },
           "mode": "markers",
           "name": "CIN",
           "orientation": "v",
           "showlegend": true,
           "type": "scatter",
           "x": [
            39.67,
            46.22,
            35.64,
            39.11,
            38.76,
            36.29,
            46.4,
            36.04,
            35.95,
            39.73,
            39.02
           ],
           "xaxis": "x",
           "y": [
            18.27,
            22.02,
            27.88,
            38.86,
            43.69,
            31.89,
            33.46,
            24.7,
            22.43,
            25.81,
            30.61
           ],
           "yaxis": "y"
          },
          {
           "hovertemplate": "club=PIT<br>frameId=42<br>x=%{x}<br>y=%{y}<extra></extra>",
           "legendgroup": "PIT",
           "marker": {
            "color": "Black",
            "symbol": "circle"
           },
           "mode": "markers",
           "name": "PIT",
           "orientation": "v",
           "showlegend": true,
           "type": "scatter",
           "x": [
            29.87,
            33.48,
            33.54,
            34.49,
            33.17,
            32.89,
            33.78,
            29.66,
            33.52,
            33.51,
            34.08
           ],
           "xaxis": "x",
           "y": [
            26.62,
            25.24,
            23.96,
            26.78,
            38.65,
            36.09,
            28.42,
            24.63,
            22.43,
            30.14,
            43.71
           ],
           "yaxis": "y"
          },
          {
           "hovertemplate": "club=football<br>frameId=42<br>x=%{x}<br>y=%{y}<extra></extra>",
           "legendgroup": "football",
           "marker": {
            "color": "Grey",
            "symbol": "circle"
           },
           "mode": "markers",
           "name": "football",
           "orientation": "v",
           "showlegend": true,
           "type": "scatter",
           "x": [
            34.6500015258789
           ],
           "xaxis": "x",
           "y": [
            26.7399997711182
           ],
           "yaxis": "y"
          }
         ],
         "name": "42"
        },
        {
         "data": [
          {
           "hovertemplate": "club=CIN<br>frameId=43<br>x=%{x}<br>y=%{y}<extra></extra>",
           "legendgroup": "CIN",
           "marker": {
            "color": "Red",
            "symbol": "circle"
           },
           "mode": "markers",
           "name": "CIN",
           "orientation": "v",
           "showlegend": true,
           "type": "scatter",
           "x": [
            39.69,
            46.19,
            35.63,
            39.08,
            38.89,
            36.24,
            46.34,
            36.04,
            35.94,
            39.73,
            39
           ],
           "xaxis": "x",
           "y": [
            18.31,
            22.02,
            27.87,
            38.89,
            43.7,
            31.88,
            33.59,
            24.74,
            22.4,
            25.82,
            30.64
           ],
           "yaxis": "y"
          },
          {
           "hovertemplate": "club=PIT<br>frameId=43<br>x=%{x}<br>y=%{y}<extra></extra>",
           "legendgroup": "PIT",
           "marker": {
            "color": "Black",
            "symbol": "circle"
           },
           "mode": "markers",
           "name": "PIT",
           "orientation": "v",
           "showlegend": true,
           "type": "scatter",
           "x": [
            29.88,
            33.48,
            33.54,
            34.49,
            33.17,
            32.9,
            33.78,
            29.68,
            33.56,
            33.51,
            34.07
           ],
           "xaxis": "x",
           "y": [
            26.62,
            25.24,
            23.96,
            26.79,
            38.59,
            36.09,
            28.43,
            24.64,
            22.48,
            30.17,
            43.7
           ],
           "yaxis": "y"
          },
          {
           "hovertemplate": "club=football<br>frameId=43<br>x=%{x}<br>y=%{y}<extra></extra>",
           "legendgroup": "football",
           "marker": {
            "color": "Grey",
            "symbol": "circle"
           },
           "mode": "markers",
           "name": "football",
           "orientation": "v",
           "showlegend": true,
           "type": "scatter",
           "x": [
            34.6500015258789
           ],
           "xaxis": "x",
           "y": [
            26.7399997711182
           ],
           "yaxis": "y"
          }
         ],
         "name": "43"
        },
        {
         "data": [
          {
           "hovertemplate": "club=CIN<br>frameId=44<br>x=%{x}<br>y=%{y}<extra></extra>",
           "legendgroup": "CIN",
           "marker": {
            "color": "Red",
            "symbol": "circle"
           },
           "mode": "markers",
           "name": "CIN",
           "orientation": "v",
           "showlegend": true,
           "type": "scatter",
           "x": [
            39.69,
            46.16,
            35.62,
            39.05,
            39.01,
            36.18,
            46.29,
            36.03,
            35.93,
            39.73,
            38.99
           ],
           "xaxis": "x",
           "y": [
            18.35,
            22.03,
            27.87,
            38.89,
            43.72,
            31.86,
            33.71,
            24.78,
            22.4,
            25.82,
            30.67
           ],
           "yaxis": "y"
          },
          {
           "hovertemplate": "club=PIT<br>frameId=44<br>x=%{x}<br>y=%{y}<extra></extra>",
           "legendgroup": "PIT",
           "marker": {
            "color": "Black",
            "symbol": "circle"
           },
           "mode": "markers",
           "name": "PIT",
           "orientation": "v",
           "showlegend": true,
           "type": "scatter",
           "x": [
            29.88,
            33.49,
            33.54,
            34.48,
            33.17,
            32.92,
            33.78,
            29.7,
            33.6,
            33.5,
            34.06
           ],
           "xaxis": "x",
           "y": [
            26.62,
            25.25,
            23.95,
            26.79,
            38.53,
            36.07,
            28.42,
            24.65,
            22.52,
            30.21,
            43.69
           ],
           "yaxis": "y"
          },
          {
           "hovertemplate": "club=football<br>frameId=44<br>x=%{x}<br>y=%{y}<extra></extra>",
           "legendgroup": "football",
           "marker": {
            "color": "Grey",
            "symbol": "circle"
           },
           "mode": "markers",
           "name": "football",
           "orientation": "v",
           "showlegend": true,
           "type": "scatter",
           "x": [
            34.6500015258789
           ],
           "xaxis": "x",
           "y": [
            26.7399997711182
           ],
           "yaxis": "y"
          }
         ],
         "name": "44"
        },
        {
         "data": [
          {
           "hovertemplate": "club=CIN<br>frameId=45<br>x=%{x}<br>y=%{y}<extra></extra>",
           "legendgroup": "CIN",
           "marker": {
            "color": "Red",
            "symbol": "circle"
           },
           "mode": "markers",
           "name": "CIN",
           "orientation": "v",
           "showlegend": true,
           "type": "scatter",
           "x": [
            39.69,
            46.1,
            35.6,
            39.02,
            39.15,
            36.11,
            46.24,
            36.03,
            35.92,
            39.73,
            38.98
           ],
           "xaxis": "x",
           "y": [
            18.37,
            22.03,
            27.89,
            38.89,
            43.74,
            31.85,
            33.84,
            24.83,
            22.39,
            25.82,
            30.68
           ],
           "yaxis": "y"
          },
          {
           "hovertemplate": "club=PIT<br>frameId=45<br>x=%{x}<br>y=%{y}<extra></extra>",
           "legendgroup": "PIT",
           "marker": {
            "color": "Black",
            "symbol": "circle"
           },
           "mode": "markers",
           "name": "PIT",
           "orientation": "v",
           "showlegend": true,
           "type": "scatter",
           "x": [
            29.88,
            33.49,
            33.54,
            34.48,
            33.15,
            32.94,
            33.79,
            29.72,
            33.65,
            33.5,
            34.04
           ],
           "xaxis": "x",
           "y": [
            26.62,
            25.25,
            23.95,
            26.78,
            38.45,
            36.08,
            28.42,
            24.66,
            22.56,
            30.22,
            43.69
           ],
           "yaxis": "y"
          },
          {
           "hovertemplate": "club=football<br>frameId=45<br>x=%{x}<br>y=%{y}<extra></extra>",
           "legendgroup": "football",
           "marker": {
            "color": "Grey",
            "symbol": "circle"
           },
           "mode": "markers",
           "name": "football",
           "orientation": "v",
           "showlegend": true,
           "type": "scatter",
           "x": [
            34.6500015258789
           ],
           "xaxis": "x",
           "y": [
            26.7399997711182
           ],
           "yaxis": "y"
          }
         ],
         "name": "45"
        },
        {
         "data": [
          {
           "hovertemplate": "club=CIN<br>frameId=46<br>x=%{x}<br>y=%{y}<extra></extra>",
           "legendgroup": "CIN",
           "marker": {
            "color": "Red",
            "symbol": "circle"
           },
           "mode": "markers",
           "name": "CIN",
           "orientation": "v",
           "showlegend": true,
           "type": "scatter",
           "x": [
            39.69,
            46.03,
            35.59,
            39,
            39.28,
            36.03,
            46.19,
            36.02,
            35.91,
            39.73,
            38.98
           ],
           "xaxis": "x",
           "y": [
            18.38,
            22.03,
            27.92,
            38.86,
            43.75,
            31.83,
            33.96,
            24.87,
            22.39,
            25.82,
            30.68
           ],
           "yaxis": "y"
          },
          {
           "hovertemplate": "club=PIT<br>frameId=46<br>x=%{x}<br>y=%{y}<extra></extra>",
           "legendgroup": "PIT",
           "marker": {
            "color": "Black",
            "symbol": "circle"
           },
           "mode": "markers",
           "name": "PIT",
           "orientation": "v",
           "showlegend": true,
           "type": "scatter",
           "x": [
            29.87,
            33.48,
            33.53,
            34.49,
            33.14,
            32.96,
            33.79,
            29.75,
            33.7,
            33.5,
            34.04
           ],
           "xaxis": "x",
           "y": [
            26.62,
            25.25,
            23.95,
            26.76,
            38.38,
            36.09,
            28.43,
            24.67,
            22.62,
            30.24,
            43.7
           ],
           "yaxis": "y"
          },
          {
           "hovertemplate": "club=football<br>frameId=46<br>x=%{x}<br>y=%{y}<extra></extra>",
           "legendgroup": "football",
           "marker": {
            "color": "Grey",
            "symbol": "circle"
           },
           "mode": "markers",
           "name": "football",
           "orientation": "v",
           "showlegend": true,
           "type": "scatter",
           "x": [
            34.6500015258789
           ],
           "xaxis": "x",
           "y": [
            26.7399997711182
           ],
           "yaxis": "y"
          }
         ],
         "name": "46"
        },
        {
         "data": [
          {
           "hovertemplate": "club=CIN<br>frameId=47<br>x=%{x}<br>y=%{y}<extra></extra>",
           "legendgroup": "CIN",
           "marker": {
            "color": "Red",
            "symbol": "circle"
           },
           "mode": "markers",
           "name": "CIN",
           "orientation": "v",
           "showlegend": true,
           "type": "scatter",
           "x": [
            39.68,
            45.95,
            35.57,
            38.98,
            39.42,
            35.96,
            46.15,
            36,
            35.91,
            39.73,
            38.97
           ],
           "xaxis": "x",
           "y": [
            18.37,
            22.03,
            27.95,
            38.81,
            43.76,
            31.83,
            34.08,
            24.91,
            22.37,
            25.83,
            30.68
           ],
           "yaxis": "y"
          },
          {
           "hovertemplate": "club=PIT<br>frameId=47<br>x=%{x}<br>y=%{y}<extra></extra>",
           "legendgroup": "PIT",
           "marker": {
            "color": "Black",
            "symbol": "circle"
           },
           "mode": "markers",
           "name": "PIT",
           "orientation": "v",
           "showlegend": true,
           "type": "scatter",
           "x": [
            29.86,
            33.48,
            33.53,
            34.5,
            33.12,
            32.97,
            33.79,
            29.77,
            33.74,
            33.5,
            34.05
           ],
           "xaxis": "x",
           "y": [
            26.62,
            25.25,
            23.96,
            26.74,
            38.33,
            36.09,
            28.44,
            24.68,
            22.67,
            30.25,
            43.71
           ],
           "yaxis": "y"
          },
          {
           "hovertemplate": "club=football<br>frameId=47<br>x=%{x}<br>y=%{y}<extra></extra>",
           "legendgroup": "football",
           "marker": {
            "color": "Grey",
            "symbol": "circle"
           },
           "mode": "markers",
           "name": "football",
           "orientation": "v",
           "showlegend": true,
           "type": "scatter",
           "x": [
            34.6500015258789
           ],
           "xaxis": "x",
           "y": [
            26.7399997711182
           ],
           "yaxis": "y"
          }
         ],
         "name": "47"
        },
        {
         "data": [
          {
           "hovertemplate": "club=CIN<br>frameId=48<br>x=%{x}<br>y=%{y}<extra></extra>",
           "legendgroup": "CIN",
           "marker": {
            "color": "Red",
            "symbol": "circle"
           },
           "mode": "markers",
           "name": "CIN",
           "orientation": "v",
           "showlegend": true,
           "type": "scatter",
           "x": [
            39.68,
            45.87,
            35.56,
            38.95,
            39.55,
            35.88,
            46.11,
            35.98,
            35.9,
            39.72,
            38.97
           ],
           "xaxis": "x",
           "y": [
            18.37,
            22.03,
            27.97,
            38.75,
            43.76,
            31.83,
            34.21,
            24.94,
            22.38,
            25.84,
            30.66
           ],
           "yaxis": "y"
          },
          {
           "hovertemplate": "club=PIT<br>frameId=48<br>x=%{x}<br>y=%{y}<extra></extra>",
           "legendgroup": "PIT",
           "marker": {
            "color": "Black",
            "symbol": "circle"
           },
           "mode": "markers",
           "name": "PIT",
           "orientation": "v",
           "showlegend": true,
           "type": "scatter",
           "x": [
            29.85,
            33.48,
            33.53,
            34.51,
            33.09,
            32.99,
            33.79,
            29.79,
            33.78,
            33.49,
            34.04
           ],
           "xaxis": "x",
           "y": [
            26.62,
            25.25,
            23.97,
            26.72,
            38.28,
            36.09,
            28.45,
            24.69,
            22.73,
            30.26,
            43.71
           ],
           "yaxis": "y"
          },
          {
           "hovertemplate": "club=football<br>frameId=48<br>x=%{x}<br>y=%{y}<extra></extra>",
           "legendgroup": "football",
           "marker": {
            "color": "Grey",
            "symbol": "circle"
           },
           "mode": "markers",
           "name": "football",
           "orientation": "v",
           "showlegend": true,
           "type": "scatter",
           "x": [
            34.6500015258789
           ],
           "xaxis": "x",
           "y": [
            26.7299995422363
           ],
           "yaxis": "y"
          }
         ],
         "name": "48"
        },
        {
         "data": [
          {
           "hovertemplate": "club=CIN<br>frameId=49<br>x=%{x}<br>y=%{y}<extra></extra>",
           "legendgroup": "CIN",
           "marker": {
            "color": "Red",
            "symbol": "circle"
           },
           "mode": "markers",
           "name": "CIN",
           "orientation": "v",
           "showlegend": true,
           "type": "scatter",
           "x": [
            39.67,
            45.78,
            35.53,
            38.92,
            39.67,
            35.81,
            46.06,
            35.96,
            35.88,
            39.71,
            38.97
           ],
           "xaxis": "x",
           "y": [
            18.35,
            22.03,
            27.99,
            38.66,
            43.76,
            31.82,
            34.33,
            24.96,
            22.38,
            25.85,
            30.64
           ],
           "yaxis": "y"
          },
          {
           "hovertemplate": "club=PIT<br>frameId=49<br>x=%{x}<br>y=%{y}<extra></extra>",
           "legendgroup": "PIT",
           "marker": {
            "color": "Black",
            "symbol": "circle"
           },
           "mode": "markers",
           "name": "PIT",
           "orientation": "v",
           "showlegend": true,
           "type": "scatter",
           "x": [
            29.84,
            33.48,
            33.52,
            34.52,
            33.07,
            33,
            33.79,
            29.82,
            33.79,
            33.49,
            34.03
           ],
           "xaxis": "x",
           "y": [
            26.62,
            25.24,
            23.98,
            26.71,
            38.24,
            36.09,
            28.45,
            24.7,
            22.76,
            30.27,
            43.69
           ],
           "yaxis": "y"
          },
          {
           "hovertemplate": "club=football<br>frameId=49<br>x=%{x}<br>y=%{y}<extra></extra>",
           "legendgroup": "football",
           "marker": {
            "color": "Grey",
            "symbol": "circle"
           },
           "mode": "markers",
           "name": "football",
           "orientation": "v",
           "showlegend": true,
           "type": "scatter",
           "x": [
            34.6399993896484
           ],
           "xaxis": "x",
           "y": [
            26.7299995422363
           ],
           "yaxis": "y"
          }
         ],
         "name": "49"
        },
        {
         "data": [
          {
           "hovertemplate": "club=CIN<br>frameId=50<br>x=%{x}<br>y=%{y}<extra></extra>",
           "legendgroup": "CIN",
           "marker": {
            "color": "Red",
            "symbol": "circle"
           },
           "mode": "markers",
           "name": "CIN",
           "orientation": "v",
           "showlegend": true,
           "type": "scatter",
           "x": [
            39.67,
            45.69,
            35.51,
            38.9,
            39.8,
            35.75,
            46.02,
            35.93,
            35.88,
            39.7,
            38.97
           ],
           "xaxis": "x",
           "y": [
            18.33,
            22.02,
            28,
            38.56,
            43.75,
            31.83,
            34.45,
            24.97,
            22.38,
            25.86,
            30.63
           ],
           "yaxis": "y"
          },
          {
           "hovertemplate": "club=PIT<br>frameId=50<br>x=%{x}<br>y=%{y}<extra></extra>",
           "legendgroup": "PIT",
           "marker": {
            "color": "Black",
            "symbol": "circle"
           },
           "mode": "markers",
           "name": "PIT",
           "orientation": "v",
           "showlegend": true,
           "type": "scatter",
           "x": [
            29.83,
            33.47,
            33.52,
            34.53,
            33.04,
            33.02,
            33.78,
            29.84,
            33.8,
            33.49,
            34.02
           ],
           "xaxis": "x",
           "y": [
            26.62,
            25.25,
            23.99,
            26.7,
            38.2,
            36.1,
            28.46,
            24.71,
            22.74,
            30.29,
            43.67
           ],
           "yaxis": "y"
          },
          {
           "hovertemplate": "club=football<br>frameId=50<br>x=%{x}<br>y=%{y}<extra></extra>",
           "legendgroup": "football",
           "marker": {
            "color": "Grey",
            "symbol": "circle"
           },
           "mode": "markers",
           "name": "football",
           "orientation": "v",
           "showlegend": true,
           "type": "scatter",
           "x": [
            34.6399993896484
           ],
           "xaxis": "x",
           "y": [
            26.7299995422363
           ],
           "yaxis": "y"
          }
         ],
         "name": "50"
        },
        {
         "data": [
          {
           "hovertemplate": "club=CIN<br>frameId=51<br>x=%{x}<br>y=%{y}<extra></extra>",
           "legendgroup": "CIN",
           "marker": {
            "color": "Red",
            "symbol": "circle"
           },
           "mode": "markers",
           "name": "CIN",
           "orientation": "v",
           "showlegend": true,
           "type": "scatter",
           "x": [
            39.66,
            45.61,
            35.48,
            38.87,
            39.92,
            35.68,
            45.99,
            35.89,
            35.86,
            39.7,
            38.97
           ],
           "xaxis": "x",
           "y": [
            18.3,
            22.02,
            28,
            38.46,
            43.74,
            31.83,
            34.57,
            24.97,
            22.38,
            25.87,
            30.62
           ],
           "yaxis": "y"
          },
          {
           "hovertemplate": "club=PIT<br>frameId=51<br>x=%{x}<br>y=%{y}<extra></extra>",
           "legendgroup": "PIT",
           "marker": {
            "color": "Black",
            "symbol": "circle"
           },
           "mode": "markers",
           "name": "PIT",
           "orientation": "v",
           "showlegend": true,
           "type": "scatter",
           "x": [
            29.83,
            33.47,
            33.51,
            34.54,
            33.01,
            33.05,
            33.78,
            29.85,
            33.79,
            33.5,
            34.01
           ],
           "xaxis": "x",
           "y": [
            26.62,
            25.25,
            24,
            26.69,
            38.18,
            36.1,
            28.46,
            24.71,
            22.74,
            30.3,
            43.67
           ],
           "yaxis": "y"
          },
          {
           "hovertemplate": "club=football<br>frameId=51<br>x=%{x}<br>y=%{y}<extra></extra>",
           "legendgroup": "football",
           "marker": {
            "color": "Grey",
            "symbol": "circle"
           },
           "mode": "markers",
           "name": "football",
           "orientation": "v",
           "showlegend": true,
           "type": "scatter",
           "x": [
            34.6399993896484
           ],
           "xaxis": "x",
           "y": [
            26.7299995422363
           ],
           "yaxis": "y"
          }
         ],
         "name": "51"
        },
        {
         "data": [
          {
           "hovertemplate": "club=CIN<br>frameId=52<br>x=%{x}<br>y=%{y}<extra></extra>",
           "legendgroup": "CIN",
           "marker": {
            "color": "Red",
            "symbol": "circle"
           },
           "mode": "markers",
           "name": "CIN",
           "orientation": "v",
           "showlegend": true,
           "type": "scatter",
           "x": [
            39.66,
            45.53,
            35.46,
            38.85,
            40.04,
            35.61,
            45.95,
            35.85,
            35.84,
            39.69,
            38.97
           ],
           "xaxis": "x",
           "y": [
            18.27,
            22.01,
            28,
            38.34,
            43.72,
            31.83,
            34.69,
            24.96,
            22.39,
            25.88,
            30.6
           ],
           "yaxis": "y"
          },
          {
           "hovertemplate": "club=PIT<br>frameId=52<br>x=%{x}<br>y=%{y}<extra></extra>",
           "legendgroup": "PIT",
           "marker": {
            "color": "Black",
            "symbol": "circle"
           },
           "mode": "markers",
           "name": "PIT",
           "orientation": "v",
           "showlegend": true,
           "type": "scatter",
           "x": [
            29.83,
            33.48,
            33.49,
            34.54,
            32.99,
            33.07,
            33.78,
            29.85,
            33.77,
            33.5,
            34.01
           ],
           "xaxis": "x",
           "y": [
            26.63,
            25.24,
            24,
            26.69,
            38.16,
            36.11,
            28.46,
            24.72,
            22.72,
            30.31,
            43.68
           ],
           "yaxis": "y"
          },
          {
           "hovertemplate": "club=football<br>frameId=52<br>x=%{x}<br>y=%{y}<extra></extra>",
           "legendgroup": "football",
           "marker": {
            "color": "Grey",
            "symbol": "circle"
           },
           "mode": "markers",
           "name": "football",
           "orientation": "v",
           "showlegend": true,
           "type": "scatter",
           "x": [
            34.6399993896484
           ],
           "xaxis": "x",
           "y": [
            26.7299995422363
           ],
           "yaxis": "y"
          }
         ],
         "name": "52"
        },
        {
         "data": [
          {
           "hovertemplate": "club=CIN<br>frameId=53<br>x=%{x}<br>y=%{y}<extra></extra>",
           "legendgroup": "CIN",
           "marker": {
            "color": "Red",
            "symbol": "circle"
           },
           "mode": "markers",
           "name": "CIN",
           "orientation": "v",
           "showlegend": true,
           "type": "scatter",
           "x": [
            39.67,
            45.45,
            35.45,
            38.82,
            40.16,
            35.54,
            45.92,
            35.8,
            35.82,
            39.68,
            38.97
           ],
           "xaxis": "x",
           "y": [
            18.24,
            22,
            28,
            38.23,
            43.7,
            31.82,
            34.82,
            24.95,
            22.39,
            25.88,
            30.58
           ],
           "yaxis": "y"
          },
          {
           "hovertemplate": "club=PIT<br>frameId=53<br>x=%{x}<br>y=%{y}<extra></extra>",
           "legendgroup": "PIT",
           "marker": {
            "color": "Black",
            "symbol": "circle"
           },
           "mode": "markers",
           "name": "PIT",
           "orientation": "v",
           "showlegend": true,
           "type": "scatter",
           "x": [
            29.83,
            33.47,
            33.5,
            34.53,
            32.96,
            33.07,
            33.78,
            29.87,
            33.74,
            33.49,
            34.02
           ],
           "xaxis": "x",
           "y": [
            26.65,
            25.23,
            24.01,
            26.69,
            38.15,
            36.1,
            28.46,
            24.72,
            22.68,
            30.32,
            43.7
           ],
           "yaxis": "y"
          },
          {
           "hovertemplate": "club=football<br>frameId=53<br>x=%{x}<br>y=%{y}<extra></extra>",
           "legendgroup": "football",
           "marker": {
            "color": "Grey",
            "symbol": "circle"
           },
           "mode": "markers",
           "name": "football",
           "orientation": "v",
           "showlegend": true,
           "type": "scatter",
           "x": [
            34.6399993896484
           ],
           "xaxis": "x",
           "y": [
            26.7299995422363
           ],
           "yaxis": "y"
          }
         ],
         "name": "53"
        },
        {
         "data": [
          {
           "hovertemplate": "club=CIN<br>frameId=54<br>x=%{x}<br>y=%{y}<extra></extra>",
           "legendgroup": "CIN",
           "marker": {
            "color": "Red",
            "symbol": "circle"
           },
           "mode": "markers",
           "name": "CIN",
           "orientation": "v",
           "showlegend": true,
           "type": "scatter",
           "x": [
            39.67,
            45.37,
            35.44,
            38.8,
            40.28,
            35.5,
            45.9,
            35.75,
            35.8,
            39.68,
            38.97
           ],
           "xaxis": "x",
           "y": [
            18.2,
            21.99,
            27.98,
            38.12,
            43.68,
            31.84,
            34.94,
            24.95,
            22.39,
            25.89,
            30.57
           ],
           "yaxis": "y"
          },
          {
           "hovertemplate": "club=PIT<br>frameId=54<br>x=%{x}<br>y=%{y}<extra></extra>",
           "legendgroup": "PIT",
           "marker": {
            "color": "Black",
            "symbol": "circle"
           },
           "mode": "markers",
           "name": "PIT",
           "orientation": "v",
           "showlegend": true,
           "type": "scatter",
           "x": [
            29.83,
            33.47,
            33.5,
            34.54,
            32.94,
            33.08,
            33.77,
            29.88,
            33.69,
            33.49,
            34.03
           ],
           "xaxis": "x",
           "y": [
            26.66,
            25.23,
            24.01,
            26.69,
            38.15,
            36.09,
            28.46,
            24.73,
            22.62,
            30.33,
            43.71
           ],
           "yaxis": "y"
          },
          {
           "hovertemplate": "club=football<br>frameId=54<br>x=%{x}<br>y=%{y}<extra></extra>",
           "legendgroup": "football",
           "marker": {
            "color": "Grey",
            "symbol": "circle"
           },
           "mode": "markers",
           "name": "football",
           "orientation": "v",
           "showlegend": true,
           "type": "scatter",
           "x": [
            34.6399993896484
           ],
           "xaxis": "x",
           "y": [
            26.7299995422363
           ],
           "yaxis": "y"
          }
         ],
         "name": "54"
        },
        {
         "data": [
          {
           "hovertemplate": "club=CIN<br>frameId=55<br>x=%{x}<br>y=%{y}<extra></extra>",
           "legendgroup": "CIN",
           "marker": {
            "color": "Red",
            "symbol": "circle"
           },
           "mode": "markers",
           "name": "CIN",
           "orientation": "v",
           "showlegend": true,
           "type": "scatter",
           "x": [
            39.66,
            45.32,
            35.45,
            38.77,
            40.39,
            35.45,
            45.88,
            35.7,
            35.76,
            39.68,
            38.98
           ],
           "xaxis": "x",
           "y": [
            18.16,
            21.97,
            27.97,
            38.02,
            43.66,
            31.85,
            35.06,
            24.95,
            22.39,
            25.89,
            30.56
           ],
           "yaxis": "y"
          },
          {
           "hovertemplate": "club=PIT<br>frameId=55<br>x=%{x}<br>y=%{y}<extra></extra>",
           "legendgroup": "PIT",
           "marker": {
            "color": "Black",
            "symbol": "circle"
           },
           "mode": "markers",
           "name": "PIT",
           "orientation": "v",
           "showlegend": true,
           "type": "scatter",
           "x": [
            29.84,
            33.47,
            33.49,
            34.54,
            32.92,
            33.09,
            33.76,
            29.88,
            33.64,
            33.49,
            34.03
           ],
           "xaxis": "x",
           "y": [
            26.66,
            25.22,
            24,
            26.68,
            38.15,
            36.08,
            28.46,
            24.73,
            22.57,
            30.33,
            43.74
           ],
           "yaxis": "y"
          },
          {
           "hovertemplate": "club=football<br>frameId=55<br>x=%{x}<br>y=%{y}<extra></extra>",
           "legendgroup": "football",
           "marker": {
            "color": "Grey",
            "symbol": "circle"
           },
           "mode": "markers",
           "name": "football",
           "orientation": "v",
           "showlegend": true,
           "type": "scatter",
           "x": [
            34.6300010681152
           ],
           "xaxis": "x",
           "y": [
            26.7299995422363
           ],
           "yaxis": "y"
          }
         ],
         "name": "55"
        },
        {
         "data": [
          {
           "hovertemplate": "club=CIN<br>frameId=56<br>x=%{x}<br>y=%{y}<extra></extra>",
           "legendgroup": "CIN",
           "marker": {
            "color": "Red",
            "symbol": "circle"
           },
           "mode": "markers",
           "name": "CIN",
           "orientation": "v",
           "showlegend": true,
           "type": "scatter",
           "x": [
            39.64,
            45.27,
            35.46,
            38.75,
            40.52,
            35.42,
            45.87,
            35.65,
            35.72,
            39.67,
            38.97
           ],
           "xaxis": "x",
           "y": [
            18.12,
            21.94,
            27.96,
            37.93,
            43.65,
            31.85,
            35.17,
            24.94,
            22.4,
            25.89,
            30.56
           ],
           "yaxis": "y"
          },
          {
           "hovertemplate": "club=PIT<br>frameId=56<br>x=%{x}<br>y=%{y}<extra></extra>",
           "legendgroup": "PIT",
           "marker": {
            "color": "Black",
            "symbol": "circle"
           },
           "mode": "markers",
           "name": "PIT",
           "orientation": "v",
           "showlegend": true,
           "type": "scatter",
           "x": [
            29.84,
            33.47,
            33.49,
            34.54,
            32.91,
            33.09,
            33.76,
            29.89,
            33.6,
            33.49,
            34.03
           ],
           "xaxis": "x",
           "y": [
            26.65,
            25.22,
            24.01,
            26.68,
            38.15,
            36.08,
            28.46,
            24.74,
            22.51,
            30.34,
            43.75
           ],
           "yaxis": "y"
          },
          {
           "hovertemplate": "club=football<br>frameId=56<br>x=%{x}<br>y=%{y}<extra></extra>",
           "legendgroup": "football",
           "marker": {
            "color": "Grey",
            "symbol": "circle"
           },
           "mode": "markers",
           "name": "football",
           "orientation": "v",
           "showlegend": true,
           "type": "scatter",
           "x": [
            34.6300010681152
           ],
           "xaxis": "x",
           "y": [
            26.7299995422363
           ],
           "yaxis": "y"
          }
         ],
         "name": "56"
        },
        {
         "data": [
          {
           "hovertemplate": "club=CIN<br>frameId=57<br>x=%{x}<br>y=%{y}<extra></extra>",
           "legendgroup": "CIN",
           "marker": {
            "color": "Red",
            "symbol": "circle"
           },
           "mode": "markers",
           "name": "CIN",
           "orientation": "v",
           "showlegend": true,
           "type": "scatter",
           "x": [
            39.63,
            45.22,
            35.47,
            38.72,
            40.64,
            35.38,
            45.86,
            35.59,
            35.69,
            39.67,
            38.97
           ],
           "xaxis": "x",
           "y": [
            18.08,
            21.91,
            27.94,
            37.84,
            43.65,
            31.87,
            35.28,
            24.94,
            22.39,
            25.9,
            30.56
           ],
           "yaxis": "y"
          },
          {
           "hovertemplate": "club=PIT<br>frameId=57<br>x=%{x}<br>y=%{y}<extra></extra>",
           "legendgroup": "PIT",
           "marker": {
            "color": "Black",
            "symbol": "circle"
           },
           "mode": "markers",
           "name": "PIT",
           "orientation": "v",
           "showlegend": true,
           "type": "scatter",
           "x": [
            29.85,
            33.47,
            33.49,
            34.54,
            32.89,
            33.1,
            33.77,
            29.9,
            33.56,
            33.49,
            34.04
           ],
           "xaxis": "x",
           "y": [
            26.65,
            25.22,
            24.02,
            26.69,
            38.16,
            36.08,
            28.46,
            24.73,
            22.46,
            30.34,
            43.75
           ],
           "yaxis": "y"
          },
          {
           "hovertemplate": "club=football<br>frameId=57<br>x=%{x}<br>y=%{y}<extra></extra>",
           "legendgroup": "football",
           "marker": {
            "color": "Grey",
            "symbol": "circle"
           },
           "mode": "markers",
           "name": "football",
           "orientation": "v",
           "showlegend": true,
           "type": "scatter",
           "x": [
            34.6300010681152
           ],
           "xaxis": "x",
           "y": [
            26.7299995422363
           ],
           "yaxis": "y"
          }
         ],
         "name": "57"
        },
        {
         "data": [
          {
           "hovertemplate": "club=CIN<br>frameId=58<br>x=%{x}<br>y=%{y}<extra></extra>",
           "legendgroup": "CIN",
           "marker": {
            "color": "Red",
            "symbol": "circle"
           },
           "mode": "markers",
           "name": "CIN",
           "orientation": "v",
           "showlegend": true,
           "type": "scatter",
           "x": [
            39.61,
            45.19,
            35.49,
            38.69,
            40.77,
            35.36,
            45.85,
            35.55,
            35.66,
            39.67,
            38.96
           ],
           "xaxis": "x",
           "y": [
            18.08,
            21.87,
            27.93,
            37.76,
            43.65,
            31.88,
            35.38,
            24.95,
            22.38,
            25.9,
            30.58
           ],
           "yaxis": "y"
          },
          {
           "hovertemplate": "club=PIT<br>frameId=58<br>x=%{x}<br>y=%{y}<extra></extra>",
           "legendgroup": "PIT",
           "marker": {
            "color": "Black",
            "symbol": "circle"
           },
           "mode": "markers",
           "name": "PIT",
           "orientation": "v",
           "showlegend": true,
           "type": "scatter",
           "x": [
            29.85,
            33.47,
            33.48,
            34.55,
            32.89,
            33.1,
            33.77,
            29.91,
            33.52,
            33.49,
            34.04
           ],
           "xaxis": "x",
           "y": [
            26.65,
            25.22,
            24.02,
            26.69,
            38.16,
            36.08,
            28.47,
            24.72,
            22.43,
            30.34,
            43.73
           ],
           "yaxis": "y"
          },
          {
           "hovertemplate": "club=football<br>frameId=58<br>x=%{x}<br>y=%{y}<extra></extra>",
           "legendgroup": "football",
           "marker": {
            "color": "Grey",
            "symbol": "circle"
           },
           "mode": "markers",
           "name": "football",
           "orientation": "v",
           "showlegend": true,
           "type": "scatter",
           "x": [
            34.6300010681152
           ],
           "xaxis": "x",
           "y": [
            26.7299995422363
           ],
           "yaxis": "y"
          }
         ],
         "name": "58"
        },
        {
         "data": [
          {
           "hovertemplate": "club=CIN<br>frameId=59<br>x=%{x}<br>y=%{y}<extra></extra>",
           "legendgroup": "CIN",
           "marker": {
            "color": "Red",
            "symbol": "circle"
           },
           "mode": "markers",
           "name": "CIN",
           "orientation": "v",
           "showlegend": true,
           "type": "scatter",
           "x": [
            39.58,
            45.15,
            35.5,
            38.66,
            40.9,
            35.35,
            45.85,
            35.51,
            35.63,
            39.66,
            38.95
           ],
           "xaxis": "x",
           "y": [
            18.08,
            21.84,
            27.92,
            37.68,
            43.66,
            31.9,
            35.48,
            24.94,
            22.38,
            25.9,
            30.59
           ],
           "yaxis": "y"
          },
          {
           "hovertemplate": "club=PIT<br>frameId=59<br>x=%{x}<br>y=%{y}<extra></extra>",
           "legendgroup": "PIT",
           "marker": {
            "color": "Black",
            "symbol": "circle"
           },
           "mode": "markers",
           "name": "PIT",
           "orientation": "v",
           "showlegend": true,
           "type": "scatter",
           "x": [
            29.85,
            33.47,
            33.48,
            34.54,
            32.88,
            33.1,
            33.77,
            29.92,
            33.49,
            33.49,
            34.04
           ],
           "xaxis": "x",
           "y": [
            26.65,
            25.22,
            24.02,
            26.69,
            38.17,
            36.07,
            28.47,
            24.72,
            22.38,
            30.34,
            43.73
           ],
           "yaxis": "y"
          },
          {
           "hovertemplate": "club=football<br>frameId=59<br>x=%{x}<br>y=%{y}<extra></extra>",
           "legendgroup": "football",
           "marker": {
            "color": "Grey",
            "symbol": "circle"
           },
           "mode": "markers",
           "name": "football",
           "orientation": "v",
           "showlegend": true,
           "type": "scatter",
           "x": [
            34.6300010681152
           ],
           "xaxis": "x",
           "y": [
            26.7299995422363
           ],
           "yaxis": "y"
          }
         ],
         "name": "59"
        },
        {
         "data": [
          {
           "hovertemplate": "club=CIN<br>frameId=60<br>x=%{x}<br>y=%{y}<extra></extra>",
           "legendgroup": "CIN",
           "marker": {
            "color": "Red",
            "symbol": "circle"
           },
           "mode": "markers",
           "name": "CIN",
           "orientation": "v",
           "showlegend": true,
           "type": "scatter",
           "x": [
            39.56,
            45.12,
            35.52,
            38.64,
            41.01,
            35.34,
            45.85,
            35.48,
            35.59,
            39.66,
            38.93
           ],
           "xaxis": "x",
           "y": [
            18.09,
            21.81,
            27.91,
            37.61,
            43.69,
            31.92,
            35.57,
            24.95,
            22.41,
            25.91,
            30.63
           ],
           "yaxis": "y"
          },
          {
           "hovertemplate": "club=PIT<br>frameId=60<br>x=%{x}<br>y=%{y}<extra></extra>",
           "legendgroup": "PIT",
           "marker": {
            "color": "Black",
            "symbol": "circle"
           },
           "mode": "markers",
           "name": "PIT",
           "orientation": "v",
           "showlegend": true,
           "type": "scatter",
           "x": [
            29.85,
            33.47,
            33.47,
            34.54,
            32.88,
            33.09,
            33.77,
            29.93,
            33.47,
            33.49,
            34.05
           ],
           "xaxis": "x",
           "y": [
            26.66,
            25.22,
            24.02,
            26.69,
            38.17,
            36.07,
            28.47,
            24.73,
            22.36,
            30.34,
            43.74
           ],
           "yaxis": "y"
          },
          {
           "hovertemplate": "club=football<br>frameId=60<br>x=%{x}<br>y=%{y}<extra></extra>",
           "legendgroup": "football",
           "marker": {
            "color": "Grey",
            "symbol": "circle"
           },
           "mode": "markers",
           "name": "football",
           "orientation": "v",
           "showlegend": true,
           "type": "scatter",
           "x": [
            34.6199989318848
           ],
           "xaxis": "x",
           "y": [
            26.7199993133545
           ],
           "yaxis": "y"
          }
         ],
         "name": "60"
        },
        {
         "data": [
          {
           "hovertemplate": "club=CIN<br>frameId=61<br>x=%{x}<br>y=%{y}<extra></extra>",
           "legendgroup": "CIN",
           "marker": {
            "color": "Red",
            "symbol": "circle"
           },
           "mode": "markers",
           "name": "CIN",
           "orientation": "v",
           "showlegend": true,
           "type": "scatter",
           "x": [
            39.57,
            45.09,
            35.53,
            38.62,
            41.12,
            35.35,
            45.85,
            35.46,
            35.56,
            39.66,
            38.89
           ],
           "xaxis": "x",
           "y": [
            18.1,
            21.78,
            27.9,
            37.55,
            43.72,
            31.95,
            35.65,
            24.96,
            22.43,
            25.91,
            30.67
           ],
           "yaxis": "y"
          },
          {
           "hovertemplate": "club=PIT<br>frameId=61<br>x=%{x}<br>y=%{y}<extra></extra>",
           "legendgroup": "PIT",
           "marker": {
            "color": "Black",
            "symbol": "circle"
           },
           "mode": "markers",
           "name": "PIT",
           "orientation": "v",
           "showlegend": true,
           "type": "scatter",
           "x": [
            29.85,
            33.47,
            33.47,
            34.54,
            32.88,
            33.09,
            33.77,
            29.94,
            33.45,
            33.49,
            34.06
           ],
           "xaxis": "x",
           "y": [
            26.66,
            25.22,
            24.02,
            26.69,
            38.18,
            36.07,
            28.47,
            24.71,
            22.33,
            30.34,
            43.75
           ],
           "yaxis": "y"
          },
          {
           "hovertemplate": "club=football<br>frameId=61<br>x=%{x}<br>y=%{y}<extra></extra>",
           "legendgroup": "football",
           "marker": {
            "color": "Grey",
            "symbol": "circle"
           },
           "mode": "markers",
           "name": "football",
           "orientation": "v",
           "showlegend": true,
           "type": "scatter",
           "x": [
            34.6199989318848
           ],
           "xaxis": "x",
           "y": [
            26.7199993133545
           ],
           "yaxis": "y"
          }
         ],
         "name": "61"
        },
        {
         "data": [
          {
           "hovertemplate": "club=CIN<br>frameId=62<br>x=%{x}<br>y=%{y}<extra></extra>",
           "legendgroup": "CIN",
           "marker": {
            "color": "Red",
            "symbol": "circle"
           },
           "mode": "markers",
           "name": "CIN",
           "orientation": "v",
           "showlegend": true,
           "type": "scatter",
           "x": [
            39.54,
            45.07,
            35.55,
            38.6,
            41.21,
            35.37,
            45.85,
            35.44,
            35.54,
            39.66,
            38.85
           ],
           "xaxis": "x",
           "y": [
            18.11,
            21.75,
            27.9,
            37.49,
            43.77,
            31.98,
            35.74,
            24.97,
            22.44,
            25.92,
            30.72
           ],
           "yaxis": "y"
          },
          {
           "hovertemplate": "club=PIT<br>frameId=62<br>x=%{x}<br>y=%{y}<extra></extra>",
           "legendgroup": "PIT",
           "marker": {
            "color": "Black",
            "symbol": "circle"
           },
           "mode": "markers",
           "name": "PIT",
           "orientation": "v",
           "showlegend": true,
           "type": "scatter",
           "x": [
            29.84,
            33.48,
            33.47,
            34.54,
            32.88,
            33.1,
            33.77,
            29.94,
            33.42,
            33.49,
            34.06
           ],
           "xaxis": "x",
           "y": [
            26.66,
            25.23,
            24.02,
            26.69,
            38.19,
            36.08,
            28.47,
            24.69,
            22.35,
            30.33,
            43.75
           ],
           "yaxis": "y"
          },
          {
           "hovertemplate": "club=football<br>frameId=62<br>x=%{x}<br>y=%{y}<extra></extra>",
           "legendgroup": "football",
           "marker": {
            "color": "Grey",
            "symbol": "circle"
           },
           "mode": "markers",
           "name": "football",
           "orientation": "v",
           "showlegend": true,
           "type": "scatter",
           "x": [
            34.6199989318848
           ],
           "xaxis": "x",
           "y": [
            26.7199993133545
           ],
           "yaxis": "y"
          }
         ],
         "name": "62"
        },
        {
         "data": [
          {
           "hovertemplate": "club=CIN<br>frameId=63<br>x=%{x}<br>y=%{y}<extra></extra>",
           "legendgroup": "CIN",
           "marker": {
            "color": "Red",
            "symbol": "circle"
           },
           "mode": "markers",
           "name": "CIN",
           "orientation": "v",
           "showlegend": true,
           "type": "scatter",
           "x": [
            39.52,
            45.06,
            35.56,
            38.59,
            41.31,
            35.38,
            45.85,
            35.43,
            35.52,
            39.66,
            38.8
           ],
           "xaxis": "x",
           "y": [
            18.12,
            21.71,
            27.89,
            37.45,
            43.81,
            32,
            35.81,
            24.98,
            22.44,
            25.92,
            30.78
           ],
           "yaxis": "y"
          },
          {
           "hovertemplate": "club=PIT<br>frameId=63<br>x=%{x}<br>y=%{y}<extra></extra>",
           "legendgroup": "PIT",
           "marker": {
            "color": "Black",
            "symbol": "circle"
           },
           "mode": "markers",
           "name": "PIT",
           "orientation": "v",
           "showlegend": true,
           "type": "scatter",
           "x": [
            29.84,
            33.48,
            33.47,
            34.55,
            32.88,
            33.1,
            33.77,
            29.94,
            33.39,
            33.49,
            34.06
           ],
           "xaxis": "x",
           "y": [
            26.67,
            25.23,
            24.01,
            26.69,
            38.2,
            36.09,
            28.47,
            24.69,
            22.36,
            30.33,
            43.75
           ],
           "yaxis": "y"
          },
          {
           "hovertemplate": "club=football<br>frameId=63<br>x=%{x}<br>y=%{y}<extra></extra>",
           "legendgroup": "football",
           "marker": {
            "color": "Grey",
            "symbol": "circle"
           },
           "mode": "markers",
           "name": "football",
           "orientation": "v",
           "showlegend": true,
           "type": "scatter",
           "x": [
            34.6199989318848
           ],
           "xaxis": "x",
           "y": [
            26.7199993133545
           ],
           "yaxis": "y"
          }
         ],
         "name": "63"
        },
        {
         "data": [
          {
           "hovertemplate": "club=CIN<br>frameId=64<br>x=%{x}<br>y=%{y}<extra></extra>",
           "legendgroup": "CIN",
           "marker": {
            "color": "Red",
            "symbol": "circle"
           },
           "mode": "markers",
           "name": "CIN",
           "orientation": "v",
           "showlegend": true,
           "type": "scatter",
           "x": [
            39.51,
            45.05,
            35.56,
            38.58,
            41.4,
            35.41,
            45.86,
            35.42,
            35.5,
            39.65,
            38.76
           ],
           "xaxis": "x",
           "y": [
            18.12,
            21.67,
            27.89,
            37.41,
            43.87,
            32.02,
            35.89,
            24.99,
            22.45,
            25.92,
            30.85
           ],
           "yaxis": "y"
          },
          {
           "hovertemplate": "club=PIT<br>frameId=64<br>x=%{x}<br>y=%{y}<extra></extra>",
           "legendgroup": "PIT",
           "marker": {
            "color": "Black",
            "symbol": "circle"
           },
           "mode": "markers",
           "name": "PIT",
           "orientation": "v",
           "showlegend": true,
           "type": "scatter",
           "x": [
            29.84,
            33.48,
            33.46,
            34.55,
            32.88,
            33.11,
            33.77,
            29.94,
            33.4,
            33.5,
            34.07
           ],
           "xaxis": "x",
           "y": [
            26.67,
            25.23,
            24.01,
            26.69,
            38.2,
            36.08,
            28.47,
            24.69,
            22.36,
            30.33,
            43.75
           ],
           "yaxis": "y"
          },
          {
           "hovertemplate": "club=football<br>frameId=64<br>x=%{x}<br>y=%{y}<extra></extra>",
           "legendgroup": "football",
           "marker": {
            "color": "Grey",
            "symbol": "circle"
           },
           "mode": "markers",
           "name": "football",
           "orientation": "v",
           "showlegend": true,
           "type": "scatter",
           "x": [
            34.6199989318848
           ],
           "xaxis": "x",
           "y": [
            26.7199993133545
           ],
           "yaxis": "y"
          }
         ],
         "name": "64"
        },
        {
         "data": [
          {
           "hovertemplate": "club=CIN<br>frameId=65<br>x=%{x}<br>y=%{y}<extra></extra>",
           "legendgroup": "CIN",
           "marker": {
            "color": "Red",
            "symbol": "circle"
           },
           "mode": "markers",
           "name": "CIN",
           "orientation": "v",
           "showlegend": true,
           "type": "scatter",
           "x": [
            39.51,
            45.05,
            35.57,
            38.57,
            41.48,
            35.43,
            45.87,
            35.42,
            35.49,
            39.65,
            38.71
           ],
           "xaxis": "x",
           "y": [
            18.13,
            21.63,
            27.89,
            37.39,
            43.93,
            32.04,
            35.96,
            24.98,
            22.46,
            25.93,
            30.92
           ],
           "yaxis": "y"
          },
          {
           "hovertemplate": "club=PIT<br>frameId=65<br>x=%{x}<br>y=%{y}<extra></extra>",
           "legendgroup": "PIT",
           "marker": {
            "color": "Black",
            "symbol": "circle"
           },
           "mode": "markers",
           "name": "PIT",
           "orientation": "v",
           "showlegend": true,
           "type": "scatter",
           "x": [
            29.84,
            33.48,
            33.46,
            34.55,
            32.88,
            33.11,
            33.77,
            29.95,
            33.41,
            33.5,
            34.08
           ],
           "xaxis": "x",
           "y": [
            26.67,
            25.24,
            24.01,
            26.69,
            38.2,
            36.09,
            28.47,
            24.72,
            22.38,
            30.32,
            43.76
           ],
           "yaxis": "y"
          },
          {
           "hovertemplate": "club=football<br>frameId=65<br>x=%{x}<br>y=%{y}<extra></extra>",
           "legendgroup": "football",
           "marker": {
            "color": "Grey",
            "symbol": "circle"
           },
           "mode": "markers",
           "name": "football",
           "orientation": "v",
           "showlegend": true,
           "type": "scatter",
           "x": [
            34.6199989318848
           ],
           "xaxis": "x",
           "y": [
            26.7299995422363
           ],
           "yaxis": "y"
          }
         ],
         "name": "65"
        },
        {
         "data": [
          {
           "hovertemplate": "club=CIN<br>frameId=66<br>x=%{x}<br>y=%{y}<extra></extra>",
           "legendgroup": "CIN",
           "marker": {
            "color": "Red",
            "symbol": "circle"
           },
           "mode": "markers",
           "name": "CIN",
           "orientation": "v",
           "showlegend": true,
           "type": "scatter",
           "x": [
            39.52,
            45.05,
            35.58,
            38.56,
            41.57,
            35.44,
            45.89,
            35.42,
            35.49,
            39.65,
            38.66
           ],
           "xaxis": "x",
           "y": [
            18.14,
            21.6,
            27.88,
            37.36,
            43.98,
            32.06,
            36.03,
            24.97,
            22.47,
            25.93,
            31
           ],
           "yaxis": "y"
          },
          {
           "hovertemplate": "club=PIT<br>frameId=66<br>x=%{x}<br>y=%{y}<extra></extra>",
           "legendgroup": "PIT",
           "marker": {
            "color": "Black",
            "symbol": "circle"
           },
           "mode": "markers",
           "name": "PIT",
           "orientation": "v",
           "showlegend": true,
           "type": "scatter",
           "x": [
            29.84,
            33.48,
            33.46,
            34.56,
            32.88,
            33.11,
            33.77,
            29.95,
            33.43,
            33.5,
            34.08
           ],
           "xaxis": "x",
           "y": [
            26.66,
            25.24,
            24.01,
            26.7,
            38.21,
            36.09,
            28.47,
            24.73,
            22.37,
            30.32,
            43.78
           ],
           "yaxis": "y"
          },
          {
           "hovertemplate": "club=football<br>frameId=66<br>x=%{x}<br>y=%{y}<extra></extra>",
           "legendgroup": "football",
           "marker": {
            "color": "Grey",
            "symbol": "circle"
           },
           "mode": "markers",
           "name": "football",
           "orientation": "v",
           "showlegend": true,
           "type": "scatter",
           "x": [
            34.6100006103516
           ],
           "xaxis": "x",
           "y": [
            26.7299995422363
           ],
           "yaxis": "y"
          }
         ],
         "name": "66"
        },
        {
         "data": [
          {
           "hovertemplate": "club=CIN<br>frameId=67<br>x=%{x}<br>y=%{y}<extra></extra>",
           "legendgroup": "CIN",
           "marker": {
            "color": "Red",
            "symbol": "circle"
           },
           "mode": "markers",
           "name": "CIN",
           "orientation": "v",
           "showlegend": true,
           "type": "scatter",
           "x": [
            39.52,
            45.05,
            35.58,
            38.56,
            41.65,
            35.45,
            45.93,
            35.43,
            35.49,
            39.65,
            38.62
           ],
           "xaxis": "x",
           "y": [
            18.14,
            21.58,
            27.88,
            37.35,
            44.04,
            32.09,
            36.09,
            24.97,
            22.47,
            25.93,
            31.07
           ],
           "yaxis": "y"
          },
          {
           "hovertemplate": "club=PIT<br>frameId=67<br>x=%{x}<br>y=%{y}<extra></extra>",
           "legendgroup": "PIT",
           "marker": {
            "color": "Black",
            "symbol": "circle"
           },
           "mode": "markers",
           "name": "PIT",
           "orientation": "v",
           "showlegend": true,
           "type": "scatter",
           "x": [
            29.84,
            33.48,
            33.46,
            34.56,
            32.89,
            33.1,
            33.77,
            29.95,
            33.45,
            33.49,
            34.09
           ],
           "xaxis": "x",
           "y": [
            26.66,
            25.24,
            24.01,
            26.7,
            38.21,
            36.09,
            28.47,
            24.75,
            22.35,
            30.32,
            43.79
           ],
           "yaxis": "y"
          },
          {
           "hovertemplate": "club=football<br>frameId=67<br>x=%{x}<br>y=%{y}<extra></extra>",
           "legendgroup": "football",
           "marker": {
            "color": "Grey",
            "symbol": "circle"
           },
           "mode": "markers",
           "name": "football",
           "orientation": "v",
           "showlegend": true,
           "type": "scatter",
           "x": [
            34.6100006103516
           ],
           "xaxis": "x",
           "y": [
            26.7299995422363
           ],
           "yaxis": "y"
          }
         ],
         "name": "67"
        },
        {
         "data": [
          {
           "hovertemplate": "club=CIN<br>frameId=68<br>x=%{x}<br>y=%{y}<extra></extra>",
           "legendgroup": "CIN",
           "marker": {
            "color": "Red",
            "symbol": "circle"
           },
           "mode": "markers",
           "name": "CIN",
           "orientation": "v",
           "showlegend": true,
           "type": "scatter",
           "x": [
            39.51,
            45.05,
            35.57,
            38.56,
            41.74,
            35.47,
            45.96,
            35.44,
            35.49,
            39.65,
            38.58
           ],
           "xaxis": "x",
           "y": [
            18.14,
            21.56,
            27.88,
            37.35,
            44.07,
            32.07,
            36.16,
            24.96,
            22.47,
            25.94,
            31.15
           ],
           "yaxis": "y"
          },
          {
           "hovertemplate": "club=PIT<br>frameId=68<br>x=%{x}<br>y=%{y}<extra></extra>",
           "legendgroup": "PIT",
           "marker": {
            "color": "Black",
            "symbol": "circle"
           },
           "mode": "markers",
           "name": "PIT",
           "orientation": "v",
           "showlegend": true,
           "type": "scatter",
           "x": [
            29.84,
            33.48,
            33.46,
            34.56,
            32.89,
            33.11,
            33.77,
            29.95,
            33.47,
            33.49,
            34.09
           ],
           "xaxis": "x",
           "y": [
            26.67,
            25.23,
            24.01,
            26.7,
            38.2,
            36.09,
            28.47,
            24.76,
            22.31,
            30.31,
            43.8
           ],
           "yaxis": "y"
          },
          {
           "hovertemplate": "club=football<br>frameId=68<br>x=%{x}<br>y=%{y}<extra></extra>",
           "legendgroup": "football",
           "marker": {
            "color": "Grey",
            "symbol": "circle"
           },
           "mode": "markers",
           "name": "football",
           "orientation": "v",
           "showlegend": true,
           "type": "scatter",
           "x": [
            34.6100006103516
           ],
           "xaxis": "x",
           "y": [
            26.7299995422363
           ],
           "yaxis": "y"
          }
         ],
         "name": "68"
        },
        {
         "data": [
          {
           "hovertemplate": "club=CIN<br>frameId=69<br>x=%{x}<br>y=%{y}<extra></extra>",
           "legendgroup": "CIN",
           "marker": {
            "color": "Red",
            "symbol": "circle"
           },
           "mode": "markers",
           "name": "CIN",
           "orientation": "v",
           "showlegend": true,
           "type": "scatter",
           "x": [
            39.51,
            45.06,
            35.57,
            38.56,
            41.82,
            35.48,
            46,
            35.44,
            35.51,
            39.65,
            38.54
           ],
           "xaxis": "x",
           "y": [
            18.13,
            21.56,
            27.87,
            37.35,
            44.11,
            32.06,
            36.21,
            24.95,
            22.46,
            25.94,
            31.23
           ],
           "yaxis": "y"
          },
          {
           "hovertemplate": "club=PIT<br>frameId=69<br>x=%{x}<br>y=%{y}<extra></extra>",
           "legendgroup": "PIT",
           "marker": {
            "color": "Black",
            "symbol": "circle"
           },
           "mode": "markers",
           "name": "PIT",
           "orientation": "v",
           "showlegend": true,
           "type": "scatter",
           "x": [
            29.83,
            33.48,
            33.46,
            34.56,
            32.89,
            33.11,
            33.77,
            29.94,
            33.5,
            33.48,
            34.09
           ],
           "xaxis": "x",
           "y": [
            26.68,
            25.23,
            24.01,
            26.7,
            38.2,
            36.09,
            28.47,
            24.78,
            22.29,
            30.31,
            43.81
           ],
           "yaxis": "y"
          },
          {
           "hovertemplate": "club=football<br>frameId=69<br>x=%{x}<br>y=%{y}<extra></extra>",
           "legendgroup": "football",
           "marker": {
            "color": "Grey",
            "symbol": "circle"
           },
           "mode": "markers",
           "name": "football",
           "orientation": "v",
           "showlegend": true,
           "type": "scatter",
           "x": [
            34.6100006103516
           ],
           "xaxis": "x",
           "y": [
            26.7299995422363
           ],
           "yaxis": "y"
          }
         ],
         "name": "69"
        },
        {
         "data": [
          {
           "hovertemplate": "club=CIN<br>frameId=70<br>x=%{x}<br>y=%{y}<extra></extra>",
           "legendgroup": "CIN",
           "marker": {
            "color": "Red",
            "symbol": "circle"
           },
           "mode": "markers",
           "name": "CIN",
           "orientation": "v",
           "showlegend": true,
           "type": "scatter",
           "x": [
            39.5,
            45.06,
            35.56,
            38.56,
            41.91,
            35.48,
            46.04,
            35.44,
            35.52,
            39.65,
            38.51
           ],
           "xaxis": "x",
           "y": [
            18.12,
            21.56,
            27.87,
            37.35,
            44.14,
            32.07,
            36.27,
            24.95,
            22.45,
            25.94,
            31.3
           ],
           "yaxis": "y"
          },
          {
           "hovertemplate": "club=PIT<br>frameId=70<br>x=%{x}<br>y=%{y}<extra></extra>",
           "legendgroup": "PIT",
           "marker": {
            "color": "Black",
            "symbol": "circle"
           },
           "mode": "markers",
           "name": "PIT",
           "orientation": "v",
           "showlegend": true,
           "type": "scatter",
           "x": [
            29.83,
            33.47,
            33.46,
            34.56,
            32.89,
            33.1,
            33.77,
            29.95,
            33.53,
            33.48,
            34.09
           ],
           "xaxis": "x",
           "y": [
            26.68,
            25.23,
            24,
            26.71,
            38.19,
            36.08,
            28.47,
            24.77,
            22.26,
            30.31,
            43.81
           ],
           "yaxis": "y"
          },
          {
           "hovertemplate": "club=football<br>frameId=70<br>x=%{x}<br>y=%{y}<extra></extra>",
           "legendgroup": "football",
           "marker": {
            "color": "Grey",
            "symbol": "circle"
           },
           "mode": "markers",
           "name": "football",
           "orientation": "v",
           "showlegend": true,
           "type": "scatter",
           "x": [
            34.6100006103516
           ],
           "xaxis": "x",
           "y": [
            26.7299995422363
           ],
           "yaxis": "y"
          }
         ],
         "name": "70"
        },
        {
         "data": [
          {
           "hovertemplate": "club=CIN<br>frameId=71<br>x=%{x}<br>y=%{y}<extra></extra>",
           "legendgroup": "CIN",
           "marker": {
            "color": "Red",
            "symbol": "circle"
           },
           "mode": "markers",
           "name": "CIN",
           "orientation": "v",
           "showlegend": true,
           "type": "scatter",
           "x": [
            39.5,
            45.07,
            35.56,
            38.56,
            42,
            35.48,
            46.08,
            35.45,
            35.52,
            39.64,
            38.49
           ],
           "xaxis": "x",
           "y": [
            18.09,
            21.56,
            27.86,
            37.36,
            44.16,
            32.08,
            36.3,
            24.95,
            22.42,
            25.95,
            31.36
           ],
           "yaxis": "y"
          },
          {
           "hovertemplate": "club=PIT<br>frameId=71<br>x=%{x}<br>y=%{y}<extra></extra>",
           "legendgroup": "PIT",
           "marker": {
            "color": "Black",
            "symbol": "circle"
           },
           "mode": "markers",
           "name": "PIT",
           "orientation": "v",
           "showlegend": true,
           "type": "scatter",
           "x": [
            29.83,
            33.47,
            33.46,
            34.56,
            32.89,
            33.08,
            33.77,
            29.95,
            33.55,
            33.49,
            34.09
           ],
           "xaxis": "x",
           "y": [
            26.69,
            25.23,
            24,
            26.71,
            38.19,
            36.06,
            28.47,
            24.78,
            22.18,
            30.31,
            43.81
           ],
           "yaxis": "y"
          },
          {
           "hovertemplate": "club=football<br>frameId=71<br>x=%{x}<br>y=%{y}<extra></extra>",
           "legendgroup": "football",
           "marker": {
            "color": "Grey",
            "symbol": "circle"
           },
           "mode": "markers",
           "name": "football",
           "orientation": "v",
           "showlegend": true,
           "type": "scatter",
           "x": [
            34.6100006103516
           ],
           "xaxis": "x",
           "y": [
            26.7299995422363
           ],
           "yaxis": "y"
          }
         ],
         "name": "71"
        },
        {
         "data": [
          {
           "hovertemplate": "club=CIN<br>frameId=72<br>x=%{x}<br>y=%{y}<extra></extra>",
           "legendgroup": "CIN",
           "marker": {
            "color": "Red",
            "symbol": "circle"
           },
           "mode": "markers",
           "name": "CIN",
           "orientation": "v",
           "showlegend": true,
           "type": "scatter",
           "x": [
            39.5,
            45.07,
            35.55,
            38.55,
            42.08,
            35.48,
            46.11,
            35.46,
            35.53,
            39.64,
            38.48
           ],
           "xaxis": "x",
           "y": [
            18.08,
            21.58,
            27.86,
            37.37,
            44.19,
            32.09,
            36.33,
            24.95,
            22.42,
            25.95,
            31.41
           ],
           "yaxis": "y"
          },
          {
           "hovertemplate": "club=PIT<br>frameId=72<br>x=%{x}<br>y=%{y}<extra></extra>",
           "legendgroup": "PIT",
           "marker": {
            "color": "Black",
            "symbol": "circle"
           },
           "mode": "markers",
           "name": "PIT",
           "orientation": "v",
           "showlegend": true,
           "type": "scatter",
           "x": [
            29.83,
            33.47,
            33.46,
            34.56,
            32.89,
            33.04,
            33.77,
            29.95,
            33.54,
            33.49,
            34.09
           ],
           "xaxis": "x",
           "y": [
            26.7,
            25.24,
            24,
            26.71,
            38.19,
            36,
            28.47,
            24.78,
            22.12,
            30.31,
            43.81
           ],
           "yaxis": "y"
          },
          {
           "hovertemplate": "club=football<br>frameId=72<br>x=%{x}<br>y=%{y}<extra></extra>",
           "legendgroup": "football",
           "marker": {
            "color": "Grey",
            "symbol": "circle"
           },
           "mode": "markers",
           "name": "football",
           "orientation": "v",
           "showlegend": true,
           "type": "scatter",
           "x": [
            34.6100006103516
           ],
           "xaxis": "x",
           "y": [
            26.7299995422363
           ],
           "yaxis": "y"
          }
         ],
         "name": "72"
        },
        {
         "data": [
          {
           "hovertemplate": "club=CIN<br>frameId=73<br>x=%{x}<br>y=%{y}<extra></extra>",
           "legendgroup": "CIN",
           "marker": {
            "color": "Red",
            "symbol": "circle"
           },
           "mode": "markers",
           "name": "CIN",
           "orientation": "v",
           "showlegend": true,
           "type": "scatter",
           "x": [
            39.5,
            45.07,
            35.53,
            38.55,
            42.15,
            35.48,
            46.14,
            35.47,
            35.53,
            39.64,
            38.47
           ],
           "xaxis": "x",
           "y": [
            18.06,
            21.59,
            27.86,
            37.4,
            44.21,
            32.09,
            36.35,
            24.95,
            22.41,
            25.95,
            31.44
           ],
           "yaxis": "y"
          },
          {
           "hovertemplate": "club=PIT<br>frameId=73<br>x=%{x}<br>y=%{y}<extra></extra>",
           "legendgroup": "PIT",
           "marker": {
            "color": "Black",
            "symbol": "circle"
           },
           "mode": "markers",
           "name": "PIT",
           "orientation": "v",
           "showlegend": true,
           "type": "scatter",
           "x": [
            29.82,
            33.47,
            33.46,
            34.57,
            32.89,
            32.99,
            33.77,
            29.95,
            33.54,
            33.49,
            34.09
           ],
           "xaxis": "x",
           "y": [
            26.7,
            25.24,
            24,
            26.71,
            38.19,
            35.92,
            28.47,
            24.77,
            22.15,
            30.31,
            43.79
           ],
           "yaxis": "y"
          },
          {
           "hovertemplate": "club=football<br>frameId=73<br>x=%{x}<br>y=%{y}<extra></extra>",
           "legendgroup": "football",
           "marker": {
            "color": "Grey",
            "symbol": "circle"
           },
           "mode": "markers",
           "name": "football",
           "orientation": "v",
           "showlegend": true,
           "type": "scatter",
           "x": [
            34.6100006103516
           ],
           "xaxis": "x",
           "y": [
            26.7299995422363
           ],
           "yaxis": "y"
          }
         ],
         "name": "73"
        },
        {
         "data": [
          {
           "hovertemplate": "club=CIN<br>frameId=74<br>x=%{x}<br>y=%{y}<extra></extra>",
           "legendgroup": "CIN",
           "marker": {
            "color": "Red",
            "symbol": "circle"
           },
           "mode": "markers",
           "name": "CIN",
           "orientation": "v",
           "showlegend": true,
           "type": "scatter",
           "x": [
            39.5,
            45.06,
            35.53,
            38.55,
            42.22,
            35.49,
            46.16,
            35.47,
            35.54,
            39.64,
            38.47
           ],
           "xaxis": "x",
           "y": [
            18.03,
            21.6,
            27.86,
            37.44,
            44.23,
            32.09,
            36.35,
            24.95,
            22.41,
            25.95,
            31.44
           ],
           "yaxis": "y"
          },
          {
           "hovertemplate": "club=PIT<br>frameId=74<br>x=%{x}<br>y=%{y}<extra></extra>",
           "legendgroup": "PIT",
           "marker": {
            "color": "Black",
            "symbol": "circle"
           },
           "mode": "markers",
           "name": "PIT",
           "orientation": "v",
           "showlegend": true,
           "type": "scatter",
           "x": [
            29.81,
            33.47,
            33.46,
            34.56,
            32.89,
            32.92,
            33.77,
            29.95,
            33.53,
            33.49,
            34.08
           ],
           "xaxis": "x",
           "y": [
            26.71,
            25.24,
            24,
            26.71,
            38.19,
            35.77,
            28.47,
            24.78,
            22.18,
            30.31,
            43.79
           ],
           "yaxis": "y"
          },
          {
           "hovertemplate": "club=football<br>frameId=74<br>x=%{x}<br>y=%{y}<extra></extra>",
           "legendgroup": "football",
           "marker": {
            "color": "Grey",
            "symbol": "circle"
           },
           "mode": "markers",
           "name": "football",
           "orientation": "v",
           "showlegend": true,
           "type": "scatter",
           "x": [
            34.6100006103516
           ],
           "xaxis": "x",
           "y": [
            26.7299995422363
           ],
           "yaxis": "y"
          }
         ],
         "name": "74"
        },
        {
         "data": [
          {
           "hovertemplate": "club=CIN<br>frameId=75<br>x=%{x}<br>y=%{y}<extra></extra>",
           "legendgroup": "CIN",
           "marker": {
            "color": "Red",
            "symbol": "circle"
           },
           "mode": "markers",
           "name": "CIN",
           "orientation": "v",
           "showlegend": true,
           "type": "scatter",
           "x": [
            39.5,
            45.05,
            35.54,
            38.53,
            42.28,
            35.49,
            46.18,
            35.48,
            35.53,
            39.64,
            38.49
           ],
           "xaxis": "x",
           "y": [
            18.01,
            21.62,
            27.88,
            37.47,
            44.25,
            32.09,
            36.33,
            24.94,
            22.39,
            25.95,
            31.41
           ],
           "yaxis": "y"
          },
          {
           "hovertemplate": "club=PIT<br>frameId=75<br>x=%{x}<br>y=%{y}<extra></extra>",
           "legendgroup": "PIT",
           "marker": {
            "color": "Black",
            "symbol": "circle"
           },
           "mode": "markers",
           "name": "PIT",
           "orientation": "v",
           "showlegend": true,
           "type": "scatter",
           "x": [
            29.81,
            33.47,
            33.46,
            34.56,
            32.89,
            32.85,
            33.78,
            29.95,
            33.51,
            33.49,
            34.09
           ],
           "xaxis": "x",
           "y": [
            26.72,
            25.24,
            24,
            26.71,
            38.19,
            35.61,
            28.47,
            24.79,
            22.19,
            30.32,
            43.79
           ],
           "yaxis": "y"
          },
          {
           "hovertemplate": "club=football<br>frameId=75<br>x=%{x}<br>y=%{y}<extra></extra>",
           "legendgroup": "football",
           "marker": {
            "color": "Grey",
            "symbol": "circle"
           },
           "mode": "markers",
           "name": "football",
           "orientation": "v",
           "showlegend": true,
           "type": "scatter",
           "x": [
            34.5999984741211
           ],
           "xaxis": "x",
           "y": [
            26.7299995422363
           ],
           "yaxis": "y"
          }
         ],
         "name": "75"
        },
        {
         "data": [
          {
           "hovertemplate": "club=CIN<br>frameId=76<br>x=%{x}<br>y=%{y}<extra></extra>",
           "legendgroup": "CIN",
           "marker": {
            "color": "Red",
            "symbol": "circle"
           },
           "mode": "markers",
           "name": "CIN",
           "orientation": "v",
           "showlegend": true,
           "type": "scatter",
           "x": [
            39.51,
            45.05,
            35.54,
            38.5,
            42.35,
            35.5,
            46.19,
            35.49,
            35.54,
            39.64,
            38.51
           ],
           "xaxis": "x",
           "y": [
            17.99,
            21.62,
            27.9,
            37.52,
            44.26,
            32.09,
            36.31,
            24.94,
            22.39,
            25.95,
            31.36
           ],
           "yaxis": "y"
          },
          {
           "hovertemplate": "club=PIT<br>frameId=76<br>x=%{x}<br>y=%{y}<extra></extra>",
           "legendgroup": "PIT",
           "marker": {
            "color": "Black",
            "symbol": "circle"
           },
           "mode": "markers",
           "name": "PIT",
           "orientation": "v",
           "showlegend": true,
           "type": "scatter",
           "x": [
            29.81,
            33.47,
            33.46,
            34.56,
            32.89,
            32.77,
            33.78,
            29.95,
            33.49,
            33.49,
            34.09
           ],
           "xaxis": "x",
           "y": [
            26.73,
            25.24,
            24,
            26.71,
            38.2,
            35.42,
            28.46,
            24.79,
            22.19,
            30.32,
            43.79
           ],
           "yaxis": "y"
          },
          {
           "hovertemplate": "club=football<br>frameId=76<br>x=%{x}<br>y=%{y}<extra></extra>",
           "legendgroup": "football",
           "marker": {
            "color": "Grey",
            "symbol": "circle"
           },
           "mode": "markers",
           "name": "football",
           "orientation": "v",
           "showlegend": true,
           "type": "scatter",
           "x": [
            34.5999984741211
           ],
           "xaxis": "x",
           "y": [
            26.7299995422363
           ],
           "yaxis": "y"
          }
         ],
         "name": "76"
        },
        {
         "data": [
          {
           "hovertemplate": "club=CIN<br>frameId=77<br>x=%{x}<br>y=%{y}<extra></extra>",
           "legendgroup": "CIN",
           "marker": {
            "color": "Red",
            "symbol": "circle"
           },
           "mode": "markers",
           "name": "CIN",
           "orientation": "v",
           "showlegend": true,
           "type": "scatter",
           "x": [
            39.51,
            45.05,
            35.54,
            38.48,
            42.41,
            35.49,
            46.19,
            35.5,
            35.54,
            39.63,
            38.54
           ],
           "xaxis": "x",
           "y": [
            17.98,
            21.62,
            27.9,
            37.57,
            44.28,
            32.08,
            36.27,
            24.94,
            22.38,
            25.96,
            31.29
           ],
           "yaxis": "y"
          },
          {
           "hovertemplate": "club=PIT<br>frameId=77<br>x=%{x}<br>y=%{y}<extra></extra>",
           "legendgroup": "PIT",
           "marker": {
            "color": "Black",
            "symbol": "circle"
           },
           "mode": "markers",
           "name": "PIT",
           "orientation": "v",
           "showlegend": true,
           "type": "scatter",
           "x": [
            29.81,
            33.47,
            33.46,
            34.56,
            32.88,
            32.68,
            33.78,
            29.95,
            33.45,
            33.49,
            34.09
           ],
           "xaxis": "x",
           "y": [
            26.73,
            25.25,
            24,
            26.72,
            38.19,
            35.18,
            28.46,
            24.79,
            22.27,
            30.32,
            43.8
           ],
           "yaxis": "y"
          },
          {
           "hovertemplate": "club=football<br>frameId=77<br>x=%{x}<br>y=%{y}<extra></extra>",
           "legendgroup": "football",
           "marker": {
            "color": "Grey",
            "symbol": "circle"
           },
           "mode": "markers",
           "name": "football",
           "orientation": "v",
           "showlegend": true,
           "type": "scatter",
           "x": [
            34.5999984741211
           ],
           "xaxis": "x",
           "y": [
            26.7299995422363
           ],
           "yaxis": "y"
          }
         ],
         "name": "77"
        },
        {
         "data": [
          {
           "hovertemplate": "club=CIN<br>frameId=78<br>x=%{x}<br>y=%{y}<extra></extra>",
           "legendgroup": "CIN",
           "marker": {
            "color": "Red",
            "symbol": "circle"
           },
           "mode": "markers",
           "name": "CIN",
           "orientation": "v",
           "showlegend": true,
           "type": "scatter",
           "x": [
            39.52,
            45.04,
            35.53,
            38.45,
            42.46,
            35.48,
            46.18,
            35.51,
            35.55,
            39.63,
            38.58
           ],
           "xaxis": "x",
           "y": [
            17.95,
            21.61,
            27.9,
            37.62,
            44.3,
            32.07,
            36.23,
            24.93,
            22.39,
            25.96,
            31.21
           ],
           "yaxis": "y"
          },
          {
           "hovertemplate": "club=PIT<br>frameId=78<br>x=%{x}<br>y=%{y}<extra></extra>",
           "legendgroup": "PIT",
           "marker": {
            "color": "Black",
            "symbol": "circle"
           },
           "mode": "markers",
           "name": "PIT",
           "orientation": "v",
           "showlegend": true,
           "type": "scatter",
           "x": [
            29.81,
            33.47,
            33.46,
            34.55,
            32.88,
            32.57,
            33.78,
            29.93,
            33.46,
            33.49,
            34.09
           ],
           "xaxis": "x",
           "y": [
            26.72,
            25.25,
            24.01,
            26.72,
            38.18,
            34.9,
            28.46,
            24.8,
            22.22,
            30.32,
            43.8
           ],
           "yaxis": "y"
          },
          {
           "hovertemplate": "club=football<br>frameId=78<br>x=%{x}<br>y=%{y}<extra></extra>",
           "legendgroup": "football",
           "marker": {
            "color": "Grey",
            "symbol": "circle"
           },
           "mode": "markers",
           "name": "football",
           "orientation": "v",
           "showlegend": true,
           "type": "scatter",
           "x": [
            34.5999984741211
           ],
           "xaxis": "x",
           "y": [
            26.7299995422363
           ],
           "yaxis": "y"
          }
         ],
         "name": "78"
        },
        {
         "data": [
          {
           "hovertemplate": "club=CIN<br>frameId=79<br>x=%{x}<br>y=%{y}<extra></extra>",
           "legendgroup": "CIN",
           "marker": {
            "color": "Red",
            "symbol": "circle"
           },
           "mode": "markers",
           "name": "CIN",
           "orientation": "v",
           "showlegend": true,
           "type": "scatter",
           "x": [
            39.52,
            45.02,
            35.53,
            38.41,
            42.51,
            35.48,
            46.17,
            35.52,
            35.56,
            39.63,
            38.63
           ],
           "xaxis": "x",
           "y": [
            17.93,
            21.6,
            27.91,
            37.68,
            44.32,
            32.07,
            36.18,
            24.93,
            22.4,
            25.96,
            31.11
           ],
           "yaxis": "y"
          },
          {
           "hovertemplate": "club=PIT<br>frameId=79<br>x=%{x}<br>y=%{y}<extra></extra>",
           "legendgroup": "PIT",
           "marker": {
            "color": "Black",
            "symbol": "circle"
           },
           "mode": "markers",
           "name": "PIT",
           "orientation": "v",
           "showlegend": true,
           "type": "scatter",
           "x": [
            29.81,
            33.47,
            33.46,
            34.54,
            32.88,
            32.45,
            33.78,
            29.93,
            33.46,
            33.49,
            34.09
           ],
           "xaxis": "x",
           "y": [
            26.71,
            25.25,
            24,
            26.72,
            38.17,
            34.58,
            28.46,
            24.79,
            22.22,
            30.32,
            43.79
           ],
           "yaxis": "y"
          },
          {
           "hovertemplate": "club=football<br>frameId=79<br>x=%{x}<br>y=%{y}<extra></extra>",
           "legendgroup": "football",
           "marker": {
            "color": "Grey",
            "symbol": "circle"
           },
           "mode": "markers",
           "name": "football",
           "orientation": "v",
           "showlegend": true,
           "type": "scatter",
           "x": [
            34.5999984741211
           ],
           "xaxis": "x",
           "y": [
            26.7299995422363
           ],
           "yaxis": "y"
          }
         ],
         "name": "79"
        },
        {
         "data": [
          {
           "hovertemplate": "club=CIN<br>frameId=80<br>x=%{x}<br>y=%{y}<extra></extra>",
           "legendgroup": "CIN",
           "marker": {
            "color": "Red",
            "symbol": "circle"
           },
           "mode": "markers",
           "name": "CIN",
           "orientation": "v",
           "showlegend": true,
           "type": "scatter",
           "x": [
            39.52,
            44.99,
            35.52,
            38.37,
            42.56,
            35.48,
            46.15,
            35.53,
            35.54,
            39.63,
            38.69
           ],
           "xaxis": "x",
           "y": [
            17.9,
            21.58,
            27.91,
            37.73,
            44.33,
            32.07,
            36.12,
            24.91,
            22.41,
            25.96,
            30.99
           ],
           "yaxis": "y"
          },
          {
           "hovertemplate": "club=PIT<br>frameId=80<br>x=%{x}<br>y=%{y}<extra></extra>",
           "legendgroup": "PIT",
           "marker": {
            "color": "Black",
            "symbol": "circle"
           },
           "mode": "markers",
           "name": "PIT",
           "orientation": "v",
           "showlegend": true,
           "type": "scatter",
           "x": [
            29.81,
            33.47,
            33.46,
            34.54,
            32.88,
            32.32,
            33.78,
            29.93,
            33.49,
            33.49,
            34.09
           ],
           "xaxis": "x",
           "y": [
            26.71,
            25.25,
            24,
            26.71,
            38.17,
            34.22,
            28.46,
            24.78,
            22.28,
            30.33,
            43.79
           ],
           "yaxis": "y"
          },
          {
           "hovertemplate": "club=football<br>frameId=80<br>x=%{x}<br>y=%{y}<extra></extra>",
           "legendgroup": "football",
           "marker": {
            "color": "Grey",
            "symbol": "circle"
           },
           "mode": "markers",
           "name": "football",
           "orientation": "v",
           "showlegend": true,
           "type": "scatter",
           "x": [
            34.5999984741211
           ],
           "xaxis": "x",
           "y": [
            26.7299995422363
           ],
           "yaxis": "y"
          }
         ],
         "name": "80"
        },
        {
         "data": [
          {
           "hovertemplate": "club=CIN<br>frameId=81<br>x=%{x}<br>y=%{y}<extra></extra>",
           "legendgroup": "CIN",
           "marker": {
            "color": "Red",
            "symbol": "circle"
           },
           "mode": "markers",
           "name": "CIN",
           "orientation": "v",
           "showlegend": true,
           "type": "scatter",
           "x": [
            39.52,
            44.97,
            35.51,
            38.33,
            42.6,
            35.48,
            46.12,
            35.53,
            35.54,
            39.63,
            38.76
           ],
           "xaxis": "x",
           "y": [
            17.86,
            21.57,
            27.93,
            37.78,
            44.33,
            32.07,
            36.06,
            24.93,
            22.4,
            25.96,
            30.86
           ],
           "yaxis": "y"
          },
          {
           "hovertemplate": "club=PIT<br>frameId=81<br>x=%{x}<br>y=%{y}<extra></extra>",
           "legendgroup": "PIT",
           "marker": {
            "color": "Black",
            "symbol": "circle"
           },
           "mode": "markers",
           "name": "PIT",
           "orientation": "v",
           "showlegend": true,
           "type": "scatter",
           "x": [
            29.81,
            33.46,
            33.46,
            34.51,
            32.88,
            32.19,
            33.78,
            29.94,
            33.49,
            33.49,
            34.09
           ],
           "xaxis": "x",
           "y": [
            26.71,
            25.25,
            24,
            26.7,
            38.18,
            33.81,
            28.46,
            24.76,
            22.29,
            30.32,
            43.79
           ],
           "yaxis": "y"
          },
          {
           "hovertemplate": "club=football<br>frameId=81<br>x=%{x}<br>y=%{y}<extra></extra>",
           "legendgroup": "football",
           "marker": {
            "color": "Grey",
            "symbol": "circle"
           },
           "mode": "markers",
           "name": "football",
           "orientation": "v",
           "showlegend": true,
           "type": "scatter",
           "x": [
            34.5999984741211
           ],
           "xaxis": "x",
           "y": [
            26.7299995422363
           ],
           "yaxis": "y"
          }
         ],
         "name": "81"
        },
        {
         "data": [
          {
           "hovertemplate": "club=CIN<br>frameId=82<br>x=%{x}<br>y=%{y}<extra></extra>",
           "legendgroup": "CIN",
           "marker": {
            "color": "Red",
            "symbol": "circle"
           },
           "mode": "markers",
           "name": "CIN",
           "orientation": "v",
           "showlegend": true,
           "type": "scatter",
           "x": [
            39.53,
            44.94,
            35.5,
            38.29,
            42.64,
            35.48,
            46.08,
            35.51,
            35.54,
            39.63,
            38.82
           ],
           "xaxis": "x",
           "y": [
            17.81,
            21.55,
            27.94,
            37.83,
            44.34,
            32.07,
            35.99,
            24.92,
            22.42,
            25.97,
            30.71
           ],
           "yaxis": "y"
          },
          {
           "hovertemplate": "club=PIT<br>frameId=82<br>x=%{x}<br>y=%{y}<extra></extra>",
           "legendgroup": "PIT",
           "marker": {
            "color": "Black",
            "symbol": "circle"
           },
           "mode": "markers",
           "name": "PIT",
           "orientation": "v",
           "showlegend": true,
           "type": "scatter",
           "x": [
            29.81,
            33.46,
            33.46,
            34.47,
            32.88,
            32.06,
            33.78,
            29.94,
            33.44,
            33.49,
            34.09
           ],
           "xaxis": "x",
           "y": [
            26.71,
            25.26,
            24,
            26.67,
            38.19,
            33.36,
            28.45,
            24.76,
            22.41,
            30.3,
            43.79
           ],
           "yaxis": "y"
          },
          {
           "hovertemplate": "club=football<br>frameId=82<br>x=%{x}<br>y=%{y}<extra></extra>",
           "legendgroup": "football",
           "marker": {
            "color": "Grey",
            "symbol": "circle"
           },
           "mode": "markers",
           "name": "football",
           "orientation": "v",
           "showlegend": true,
           "type": "scatter",
           "x": [
            34.2999992370605
           ],
           "xaxis": "x",
           "y": [
            26.8299999237061
           ],
           "yaxis": "y"
          }
         ],
         "name": "82"
        },
        {
         "data": [
          {
           "hovertemplate": "club=CIN<br>frameId=83<br>x=%{x}<br>y=%{y}<extra></extra>",
           "legendgroup": "CIN",
           "marker": {
            "color": "Red",
            "symbol": "circle"
           },
           "mode": "markers",
           "name": "CIN",
           "orientation": "v",
           "showlegend": true,
           "type": "scatter",
           "x": [
            39.53,
            44.9,
            35.47,
            38.25,
            42.68,
            35.47,
            46.04,
            35.48,
            35.54,
            39.63,
            38.89
           ],
           "xaxis": "x",
           "y": [
            17.74,
            21.53,
            27.9,
            37.88,
            44.34,
            32.05,
            35.91,
            24.9,
            22.44,
            25.96,
            30.56
           ],
           "yaxis": "y"
          },
          {
           "hovertemplate": "club=PIT<br>frameId=83<br>x=%{x}<br>y=%{y}<extra></extra>",
           "legendgroup": "PIT",
           "marker": {
            "color": "Black",
            "symbol": "circle"
           },
           "mode": "markers",
           "name": "PIT",
           "orientation": "v",
           "showlegend": true,
           "type": "scatter",
           "x": [
            29.8,
            33.45,
            33.46,
            34.42,
            32.88,
            31.91,
            33.79,
            29.95,
            33.4,
            33.51,
            34.09
           ],
           "xaxis": "x",
           "y": [
            26.72,
            25.28,
            24.01,
            26.61,
            38.18,
            32.86,
            28.44,
            24.74,
            22.5,
            30.28,
            43.79
           ],
           "yaxis": "y"
          },
          {
           "hovertemplate": "club=football<br>frameId=83<br>x=%{x}<br>y=%{y}<extra></extra>",
           "legendgroup": "football",
           "marker": {
            "color": "Grey",
            "symbol": "circle"
           },
           "mode": "markers",
           "name": "football",
           "orientation": "v",
           "showlegend": true,
           "type": "scatter",
           "x": [
            33.6300010681152
           ],
           "xaxis": "x",
           "y": [
            26.8600006103516
           ],
           "yaxis": "y"
          }
         ],
         "name": "83"
        },
        {
         "data": [
          {
           "hovertemplate": "club=CIN<br>frameId=84<br>x=%{x}<br>y=%{y}<extra></extra>",
           "legendgroup": "CIN",
           "marker": {
            "color": "Red",
            "symbol": "circle"
           },
           "mode": "markers",
           "name": "CIN",
           "orientation": "v",
           "showlegend": true,
           "type": "scatter",
           "x": [
            39.52,
            44.85,
            35.44,
            38.21,
            42.7,
            35.45,
            46,
            35.45,
            35.53,
            39.62,
            38.95
           ],
           "xaxis": "x",
           "y": [
            17.65,
            21.51,
            27.88,
            37.93,
            44.33,
            32.03,
            35.82,
            24.89,
            22.47,
            25.96,
            30.41
           ],
           "yaxis": "y"
          },
          {
           "hovertemplate": "club=PIT<br>frameId=84<br>x=%{x}<br>y=%{y}<extra></extra>",
           "legendgroup": "PIT",
           "marker": {
            "color": "Black",
            "symbol": "circle"
           },
           "mode": "markers",
           "name": "PIT",
           "orientation": "v",
           "showlegend": true,
           "type": "scatter",
           "x": [
            29.8,
            33.44,
            33.46,
            34.36,
            32.88,
            31.76,
            33.81,
            29.95,
            33.39,
            33.53,
            34.09
           ],
           "xaxis": "x",
           "y": [
            26.72,
            25.31,
            24.02,
            26.54,
            38.18,
            32.33,
            28.41,
            24.72,
            22.57,
            30.25,
            43.79
           ],
           "yaxis": "y"
          },
          {
           "hovertemplate": "club=football<br>frameId=84<br>x=%{x}<br>y=%{y}<extra></extra>",
           "legendgroup": "football",
           "marker": {
            "color": "Grey",
            "symbol": "circle"
           },
           "mode": "markers",
           "name": "football",
           "orientation": "v",
           "showlegend": true,
           "type": "scatter",
           "x": [
            32.9900016784668
           ],
           "xaxis": "x",
           "y": [
            26.8700008392334
           ],
           "yaxis": "y"
          }
         ],
         "name": "84"
        },
        {
         "data": [
          {
           "hovertemplate": "club=CIN<br>frameId=85<br>x=%{x}<br>y=%{y}<extra></extra>",
           "legendgroup": "CIN",
           "marker": {
            "color": "Red",
            "symbol": "circle"
           },
           "mode": "markers",
           "name": "CIN",
           "orientation": "v",
           "showlegend": true,
           "type": "scatter",
           "x": [
            39.49,
            44.82,
            35.42,
            38.16,
            42.72,
            35.43,
            45.97,
            35.39,
            35.52,
            39.62,
            39.02
           ],
           "xaxis": "x",
           "y": [
            17.54,
            21.49,
            27.87,
            37.98,
            44.33,
            31.99,
            35.72,
            24.88,
            22.5,
            25.96,
            30.25
           ],
           "yaxis": "y"
          },
          {
           "hovertemplate": "club=PIT<br>frameId=85<br>x=%{x}<br>y=%{y}<extra></extra>",
           "legendgroup": "PIT",
           "marker": {
            "color": "Black",
            "symbol": "circle"
           },
           "mode": "markers",
           "name": "PIT",
           "orientation": "v",
           "showlegend": true,
           "type": "scatter",
           "x": [
            29.79,
            33.43,
            33.48,
            34.3,
            32.87,
            31.62,
            33.85,
            29.96,
            33.38,
            33.55,
            34.11
           ],
           "xaxis": "x",
           "y": [
            26.73,
            25.38,
            24.05,
            26.43,
            38.18,
            31.76,
            28.36,
            24.69,
            22.59,
            30.21,
            43.78
           ],
           "yaxis": "y"
          },
          {
           "hovertemplate": "club=football<br>frameId=85<br>x=%{x}<br>y=%{y}<extra></extra>",
           "legendgroup": "football",
           "marker": {
            "color": "Grey",
            "symbol": "circle"
           },
           "mode": "markers",
           "name": "football",
           "orientation": "v",
           "showlegend": true,
           "type": "scatter",
           "x": [
            32.3899993896484
           ],
           "xaxis": "x",
           "y": [
            26.8999996185303
           ],
           "yaxis": "y"
          }
         ],
         "name": "85"
        },
        {
         "data": [
          {
           "hovertemplate": "club=CIN<br>frameId=86<br>x=%{x}<br>y=%{y}<extra></extra>",
           "legendgroup": "CIN",
           "marker": {
            "color": "Red",
            "symbol": "circle"
           },
           "mode": "markers",
           "name": "CIN",
           "orientation": "v",
           "showlegend": true,
           "type": "scatter",
           "x": [
            39.44,
            44.79,
            35.4,
            38.1,
            42.73,
            35.39,
            45.94,
            35.31,
            35.5,
            39.61,
            39.07
           ],
           "xaxis": "x",
           "y": [
            17.42,
            21.48,
            27.84,
            38.03,
            44.33,
            31.92,
            35.61,
            24.86,
            22.56,
            25.95,
            30.1
           ],
           "yaxis": "y"
          },
          {
           "hovertemplate": "club=PIT<br>frameId=86<br>x=%{x}<br>y=%{y}<extra></extra>",
           "legendgroup": "PIT",
           "marker": {
            "color": "Black",
            "symbol": "circle"
           },
           "mode": "markers",
           "name": "PIT",
           "orientation": "v",
           "showlegend": true,
           "type": "scatter",
           "x": [
            29.78,
            33.4,
            33.5,
            34.25,
            32.88,
            31.48,
            33.9,
            29.97,
            33.36,
            33.6,
            34.11
           ],
           "xaxis": "x",
           "y": [
            26.74,
            25.48,
            24.12,
            26.31,
            38.18,
            31.16,
            28.3,
            24.63,
            22.65,
            30.14,
            43.78
           ],
           "yaxis": "y"
          },
          {
           "hovertemplate": "club=football<br>frameId=86<br>x=%{x}<br>y=%{y}<extra></extra>",
           "legendgroup": "football",
           "marker": {
            "color": "Grey",
            "symbol": "circle"
           },
           "mode": "markers",
           "name": "football",
           "orientation": "v",
           "showlegend": true,
           "type": "scatter",
           "x": [
            31.8199996948242
           ],
           "xaxis": "x",
           "y": [
            26.9400005340576
           ],
           "yaxis": "y"
          }
         ],
         "name": "86"
        },
        {
         "data": [
          {
           "hovertemplate": "club=CIN<br>frameId=87<br>x=%{x}<br>y=%{y}<extra></extra>",
           "legendgroup": "CIN",
           "marker": {
            "color": "Red",
            "symbol": "circle"
           },
           "mode": "markers",
           "name": "CIN",
           "orientation": "v",
           "showlegend": true,
           "type": "scatter",
           "x": [
            39.38,
            44.72,
            35.37,
            38.04,
            42.74,
            35.34,
            45.93,
            35.22,
            35.47,
            39.59,
            39.12
           ],
           "xaxis": "x",
           "y": [
            17.29,
            21.46,
            27.8,
            38.08,
            44.33,
            31.83,
            35.49,
            24.83,
            22.64,
            25.94,
            29.95
           ],
           "yaxis": "y"
          },
          {
           "hovertemplate": "club=PIT<br>frameId=87<br>x=%{x}<br>y=%{y}<extra></extra>",
           "legendgroup": "PIT",
           "marker": {
            "color": "Black",
            "symbol": "circle"
           },
           "mode": "markers",
           "name": "PIT",
           "orientation": "v",
           "showlegend": true,
           "type": "scatter",
           "x": [
            29.75,
            33.38,
            33.52,
            34.21,
            32.88,
            31.35,
            33.96,
            29.99,
            33.33,
            33.68,
            34.13
           ],
           "xaxis": "x",
           "y": [
            26.78,
            25.61,
            24.19,
            26.16,
            38.18,
            30.54,
            28.22,
            24.52,
            22.75,
            30.03,
            43.77
           ],
           "yaxis": "y"
          },
          {
           "hovertemplate": "club=football<br>frameId=87<br>x=%{x}<br>y=%{y}<extra></extra>",
           "legendgroup": "football",
           "marker": {
            "color": "Grey",
            "symbol": "circle"
           },
           "mode": "markers",
           "name": "football",
           "orientation": "v",
           "showlegend": true,
           "type": "scatter",
           "x": [
            31.2800006866455
           ],
           "xaxis": "x",
           "y": [
            27
           ],
           "yaxis": "y"
          }
         ],
         "name": "87"
        },
        {
         "data": [
          {
           "hovertemplate": "club=CIN<br>frameId=88<br>x=%{x}<br>y=%{y}<extra></extra>",
           "legendgroup": "CIN",
           "marker": {
            "color": "Red",
            "symbol": "circle"
           },
           "mode": "markers",
           "name": "CIN",
           "orientation": "v",
           "showlegend": true,
           "type": "scatter",
           "x": [
            39.3,
            44.7,
            35.34,
            37.98,
            42.74,
            35.28,
            45.94,
            35.12,
            35.42,
            39.55,
            39.15
           ],
           "xaxis": "x",
           "y": [
            17.16,
            21.45,
            27.74,
            38.13,
            44.34,
            31.71,
            35.36,
            24.79,
            22.74,
            25.93,
            29.83
           ],
           "yaxis": "y"
          },
          {
           "hovertemplate": "club=PIT<br>frameId=88<br>x=%{x}<br>y=%{y}<extra></extra>",
           "legendgroup": "PIT",
           "marker": {
            "color": "Black",
            "symbol": "circle"
           },
           "mode": "markers",
           "name": "PIT",
           "orientation": "v",
           "showlegend": true,
           "type": "scatter",
           "x": [
            29.71,
            33.36,
            33.54,
            34.17,
            32.89,
            31.22,
            34.04,
            30.02,
            33.26,
            33.78,
            34.18
           ],
           "xaxis": "x",
           "y": [
            26.86,
            25.76,
            24.28,
            26.02,
            38.18,
            29.89,
            28.14,
            24.34,
            22.89,
            29.88,
            43.75
           ],
           "yaxis": "y"
          },
          {
           "hovertemplate": "club=football<br>frameId=88<br>x=%{x}<br>y=%{y}<extra></extra>",
           "legendgroup": "football",
           "marker": {
            "color": "Grey",
            "symbol": "circle"
           },
           "mode": "markers",
           "name": "football",
           "orientation": "v",
           "showlegend": true,
           "type": "scatter",
           "x": [
            30.8299999237061
           ],
           "xaxis": "x",
           "y": [
            27.1000003814697
           ],
           "yaxis": "y"
          }
         ],
         "name": "88"
        },
        {
         "data": [
          {
           "hovertemplate": "club=CIN<br>frameId=89<br>x=%{x}<br>y=%{y}<extra></extra>",
           "legendgroup": "CIN",
           "marker": {
            "color": "Red",
            "symbol": "circle"
           },
           "mode": "markers",
           "name": "CIN",
           "orientation": "v",
           "showlegend": true,
           "type": "scatter",
           "x": [
            39.18,
            44.65,
            35.32,
            37.91,
            42.75,
            35.19,
            45.96,
            35,
            35.36,
            39.49,
            39.15
           ],
           "xaxis": "x",
           "y": [
            17.01,
            21.43,
            27.67,
            38.17,
            44.34,
            31.56,
            35.23,
            24.74,
            22.86,
            25.9,
            29.71
           ],
           "yaxis": "y"
          },
          {
           "hovertemplate": "club=PIT<br>frameId=89<br>x=%{x}<br>y=%{y}<extra></extra>",
           "legendgroup": "PIT",
           "marker": {
            "color": "Black",
            "symbol": "circle"
           },
           "mode": "markers",
           "name": "PIT",
           "orientation": "v",
           "showlegend": true,
           "type": "scatter",
           "x": [
            29.67,
            33.34,
            33.56,
            34.15,
            32.9,
            31.11,
            34.11,
            30.08,
            33.17,
            33.9,
            34.26
           ],
           "xaxis": "x",
           "y": [
            26.97,
            25.93,
            24.37,
            25.87,
            38.18,
            29.22,
            28.06,
            24.09,
            23.09,
            29.72,
            43.71
           ],
           "yaxis": "y"
          },
          {
           "hovertemplate": "club=football<br>frameId=89<br>x=%{x}<br>y=%{y}<extra></extra>",
           "legendgroup": "football",
           "marker": {
            "color": "Grey",
            "symbol": "circle"
           },
           "mode": "markers",
           "name": "football",
           "orientation": "v",
           "showlegend": true,
           "type": "scatter",
           "x": [
            30.4599990844727
           ],
           "xaxis": "x",
           "y": [
            27.2700004577637
           ],
           "yaxis": "y"
          }
         ],
         "name": "89"
        },
        {
         "data": [
          {
           "hovertemplate": "club=CIN<br>frameId=90<br>x=%{x}<br>y=%{y}<extra></extra>",
           "legendgroup": "CIN",
           "marker": {
            "color": "Red",
            "symbol": "circle"
           },
           "mode": "markers",
           "name": "CIN",
           "orientation": "v",
           "showlegend": true,
           "type": "scatter",
           "x": [
            39.04,
            44.57,
            35.31,
            37.85,
            42.75,
            35.1,
            46,
            34.88,
            35.29,
            39.42,
            39.13
           ],
           "xaxis": "x",
           "y": [
            16.85,
            21.4,
            27.59,
            38.21,
            44.34,
            31.4,
            35.08,
            24.69,
            22.98,
            25.87,
            29.63
           ],
           "yaxis": "y"
          },
          {
           "hovertemplate": "club=PIT<br>frameId=90<br>x=%{x}<br>y=%{y}<extra></extra>",
           "legendgroup": "PIT",
           "marker": {
            "color": "Black",
            "symbol": "circle"
           },
           "mode": "markers",
           "name": "PIT",
           "orientation": "v",
           "showlegend": true,
           "type": "scatter",
           "x": [
            29.62,
            33.33,
            33.57,
            34.13,
            32.93,
            31,
            34.21,
            30.14,
            33.07,
            34.07,
            34.4
           ],
           "xaxis": "x",
           "y": [
            27.13,
            26.12,
            24.46,
            25.72,
            38.18,
            28.53,
            27.97,
            23.78,
            23.34,
            29.54,
            43.65
           ],
           "yaxis": "y"
          },
          {
           "hovertemplate": "club=football<br>frameId=90<br>x=%{x}<br>y=%{y}<extra></extra>",
           "legendgroup": "football",
           "marker": {
            "color": "Grey",
            "symbol": "circle"
           },
           "mode": "markers",
           "name": "football",
           "orientation": "v",
           "showlegend": true,
           "type": "scatter",
           "x": [
            30.1399993896484
           ],
           "xaxis": "x",
           "y": [
            27.4500007629395
           ],
           "yaxis": "y"
          }
         ],
         "name": "90"
        },
        {
         "data": [
          {
           "hovertemplate": "club=CIN<br>frameId=91<br>x=%{x}<br>y=%{y}<extra></extra>",
           "legendgroup": "CIN",
           "marker": {
            "color": "Red",
            "symbol": "circle"
           },
           "mode": "markers",
           "name": "CIN",
           "orientation": "v",
           "showlegend": true,
           "type": "scatter",
           "x": [
            38.85,
            44.44,
            35.31,
            37.79,
            42.77,
            35,
            46.06,
            34.79,
            35.22,
            39.32,
            39.08
           ],
           "xaxis": "x",
           "y": [
            16.67,
            21.36,
            27.5,
            38.24,
            44.32,
            31.24,
            34.95,
            24.63,
            23.09,
            25.83,
            29.57
           ],
           "yaxis": "y"
          },
          {
           "hovertemplate": "club=PIT<br>frameId=91<br>x=%{x}<br>y=%{y}<extra></extra>",
           "legendgroup": "PIT",
           "marker": {
            "color": "Black",
            "symbol": "circle"
           },
           "mode": "markers",
           "name": "PIT",
           "orientation": "v",
           "showlegend": true,
           "type": "scatter",
           "x": [
            29.58,
            33.34,
            33.57,
            34.14,
            32.99,
            30.92,
            34.31,
            30.22,
            32.96,
            34.25,
            34.61
           ],
           "xaxis": "x",
           "y": [
            27.33,
            26.34,
            24.55,
            25.58,
            38.18,
            27.82,
            27.89,
            23.41,
            23.63,
            29.34,
            43.56
           ],
           "yaxis": "y"
          },
          {
           "hovertemplate": "club=football<br>frameId=91<br>x=%{x}<br>y=%{y}<extra></extra>",
           "legendgroup": "football",
           "marker": {
            "color": "Grey",
            "symbol": "circle"
           },
           "mode": "markers",
           "name": "football",
           "orientation": "v",
           "showlegend": true,
           "type": "scatter",
           "x": [
            29.8799991607666
           ],
           "xaxis": "x",
           "y": [
            27.7099990844727
           ],
           "yaxis": "y"
          }
         ],
         "name": "91"
        },
        {
         "data": [
          {
           "hovertemplate": "club=CIN<br>frameId=92<br>x=%{x}<br>y=%{y}<extra></extra>",
           "legendgroup": "CIN",
           "marker": {
            "color": "Red",
            "symbol": "circle"
           },
           "mode": "markers",
           "name": "CIN",
           "orientation": "v",
           "showlegend": true,
           "type": "scatter",
           "x": [
            38.64,
            44.29,
            35.33,
            37.74,
            42.78,
            34.89,
            46.12,
            34.69,
            35.15,
            39.21,
            39.01
           ],
           "xaxis": "x",
           "y": [
            16.48,
            21.3,
            27.41,
            38.28,
            44.3,
            31.1,
            34.82,
            24.59,
            23.18,
            25.78,
            29.55
           ],
           "yaxis": "y"
          },
          {
           "hovertemplate": "club=PIT<br>frameId=92<br>x=%{x}<br>y=%{y}<extra></extra>",
           "legendgroup": "PIT",
           "marker": {
            "color": "Black",
            "symbol": "circle"
           },
           "mode": "markers",
           "name": "PIT",
           "orientation": "v",
           "showlegend": true,
           "type": "scatter",
           "x": [
            29.53,
            33.37,
            33.57,
            34.15,
            33.08,
            30.86,
            34.43,
            30.33,
            32.85,
            34.46,
            34.88
           ],
           "xaxis": "x",
           "y": [
            27.57,
            26.57,
            24.62,
            25.47,
            38.19,
            27.09,
            27.8,
            23,
            23.95,
            29.14,
            43.44
           ],
           "yaxis": "y"
          },
          {
           "hovertemplate": "club=football<br>frameId=92<br>x=%{x}<br>y=%{y}<extra></extra>",
           "legendgroup": "football",
           "marker": {
            "color": "Grey",
            "symbol": "circle"
           },
           "mode": "markers",
           "name": "football",
           "orientation": "v",
           "showlegend": true,
           "type": "scatter",
           "x": [
            29.6599998474121
           ],
           "xaxis": "x",
           "y": [
            28.0300006866455
           ],
           "yaxis": "y"
          }
         ],
         "name": "92"
        },
        {
         "data": [
          {
           "hovertemplate": "club=CIN<br>frameId=93<br>x=%{x}<br>y=%{y}<extra></extra>",
           "legendgroup": "CIN",
           "marker": {
            "color": "Red",
            "symbol": "circle"
           },
           "mode": "markers",
           "name": "CIN",
           "orientation": "v",
           "showlegend": true,
           "type": "scatter",
           "x": [
            38.41,
            44.1,
            35.37,
            37.71,
            42.8,
            34.76,
            46.2,
            34.61,
            35.08,
            39.1,
            38.91
           ],
           "xaxis": "x",
           "y": [
            16.27,
            21.22,
            27.32,
            38.32,
            44.25,
            30.97,
            34.73,
            24.54,
            23.25,
            25.72,
            29.57
           ],
           "yaxis": "y"
          },
          {
           "hovertemplate": "club=PIT<br>frameId=93<br>x=%{x}<br>y=%{y}<extra></extra>",
           "legendgroup": "PIT",
           "marker": {
            "color": "Black",
            "symbol": "circle"
           },
           "mode": "markers",
           "name": "PIT",
           "orientation": "v",
           "showlegend": true,
           "type": "scatter",
           "x": [
            29.5,
            33.42,
            33.58,
            34.17,
            33.19,
            30.82,
            34.54,
            30.45,
            32.77,
            34.68,
            35.19
           ],
           "xaxis": "x",
           "y": [
            27.87,
            26.82,
            24.7,
            25.36,
            38.21,
            26.36,
            27.72,
            22.54,
            24.31,
            28.94,
            43.3
           ],
           "yaxis": "y"
          },
          {
           "hovertemplate": "club=football<br>frameId=93<br>x=%{x}<br>y=%{y}<extra></extra>",
           "legendgroup": "football",
           "marker": {
            "color": "Grey",
            "symbol": "circle"
           },
           "mode": "markers",
           "name": "football",
           "orientation": "v",
           "showlegend": true,
           "type": "scatter",
           "x": [
            29.5
           ],
           "xaxis": "x",
           "y": [
            28.3700008392334
           ],
           "yaxis": "y"
          }
         ],
         "name": "93"
        },
        {
         "data": [
          {
           "hovertemplate": "club=CIN<br>frameId=94<br>x=%{x}<br>y=%{y}<extra></extra>",
           "legendgroup": "CIN",
           "marker": {
            "color": "Red",
            "symbol": "circle"
           },
           "mode": "markers",
           "name": "CIN",
           "orientation": "v",
           "showlegend": true,
           "type": "scatter",
           "x": [
            38.18,
            43.89,
            35.42,
            37.68,
            42.83,
            34.62,
            46.29,
            34.54,
            35.03,
            38.99,
            38.79
           ],
           "xaxis": "x",
           "y": [
            16.05,
            21.12,
            27.24,
            38.37,
            44.2,
            30.89,
            34.65,
            24.5,
            23.28,
            25.66,
            29.65
           ],
           "yaxis": "y"
          },
          {
           "hovertemplate": "club=PIT<br>frameId=94<br>x=%{x}<br>y=%{y}<extra></extra>",
           "legendgroup": "PIT",
           "marker": {
            "color": "Black",
            "symbol": "circle"
           },
           "mode": "markers",
           "name": "PIT",
           "orientation": "v",
           "showlegend": true,
           "type": "scatter",
           "x": [
            29.48,
            33.51,
            33.6,
            34.2,
            33.35,
            30.79,
            34.65,
            30.6,
            32.7,
            34.92,
            35.55
           ],
           "xaxis": "x",
           "y": [
            28.19,
            27.07,
            24.75,
            25.28,
            38.23,
            25.62,
            27.64,
            22.04,
            24.69,
            28.75,
            43.14
           ],
           "yaxis": "y"
          },
          {
           "hovertemplate": "club=football<br>frameId=94<br>x=%{x}<br>y=%{y}<extra></extra>",
           "legendgroup": "football",
           "marker": {
            "color": "Grey",
            "symbol": "circle"
           },
           "mode": "markers",
           "name": "football",
           "orientation": "v",
           "showlegend": true,
           "type": "scatter",
           "x": [
            29.4300003051758
           ],
           "xaxis": "x",
           "y": [
            28.7600002288818
           ],
           "yaxis": "y"
          }
         ],
         "name": "94"
        },
        {
         "data": [
          {
           "hovertemplate": "club=CIN<br>frameId=95<br>x=%{x}<br>y=%{y}<extra></extra>",
           "legendgroup": "CIN",
           "marker": {
            "color": "Red",
            "symbol": "circle"
           },
           "mode": "markers",
           "name": "CIN",
           "orientation": "v",
           "showlegend": true,
           "type": "scatter",
           "x": [
            37.95,
            43.67,
            35.49,
            37.67,
            42.85,
            34.47,
            46.39,
            34.49,
            35,
            38.89,
            38.65
           ],
           "xaxis": "x",
           "y": [
            15.82,
            21.01,
            27.18,
            38.43,
            44.14,
            30.85,
            34.61,
            24.48,
            23.27,
            25.61,
            29.76
           ],
           "yaxis": "y"
          },
          {
           "hovertemplate": "club=PIT<br>frameId=95<br>x=%{x}<br>y=%{y}<extra></extra>",
           "legendgroup": "PIT",
           "marker": {
            "color": "Black",
            "symbol": "circle"
           },
           "mode": "markers",
           "name": "PIT",
           "orientation": "v",
           "showlegend": true,
           "type": "scatter",
           "x": [
            29.46,
            33.64,
            33.62,
            34.25,
            33.56,
            30.78,
            34.77,
            30.77,
            32.68,
            35.17,
            35.95
           ],
           "xaxis": "x",
           "y": [
            28.56,
            27.34,
            24.81,
            25.23,
            38.29,
            24.88,
            27.58,
            21.51,
            25.1,
            28.58,
            42.96
           ],
           "yaxis": "y"
          },
          {
           "hovertemplate": "club=football<br>frameId=95<br>x=%{x}<br>y=%{y}<extra></extra>",
           "legendgroup": "football",
           "marker": {
            "color": "Grey",
            "symbol": "circle"
           },
           "mode": "markers",
           "name": "football",
           "orientation": "v",
           "showlegend": true,
           "type": "scatter",
           "x": [
            29.3899993896484
           ],
           "xaxis": "x",
           "y": [
            29.1800003051758
           ],
           "yaxis": "y"
          }
         ],
         "name": "95"
        },
        {
         "data": [
          {
           "hovertemplate": "club=CIN<br>frameId=96<br>x=%{x}<br>y=%{y}<extra></extra>",
           "legendgroup": "CIN",
           "marker": {
            "color": "Red",
            "symbol": "circle"
           },
           "mode": "markers",
           "name": "CIN",
           "orientation": "v",
           "showlegend": true,
           "type": "scatter",
           "x": [
            37.74,
            43.45,
            35.57,
            37.67,
            42.88,
            34.31,
            46.48,
            34.49,
            34.97,
            38.8,
            38.49
           ],
           "xaxis": "x",
           "y": [
            15.59,
            20.88,
            27.15,
            38.52,
            44.06,
            30.83,
            34.6,
            24.46,
            23.24,
            25.56,
            29.92
           ],
           "yaxis": "y"
          },
          {
           "hovertemplate": "club=PIT<br>frameId=96<br>x=%{x}<br>y=%{y}<extra></extra>",
           "legendgroup": "PIT",
           "marker": {
            "color": "Black",
            "symbol": "circle"
           },
           "mode": "markers",
           "name": "PIT",
           "orientation": "v",
           "showlegend": true,
           "type": "scatter",
           "x": [
            29.46,
            33.8,
            33.63,
            34.3,
            33.79,
            30.8,
            34.89,
            30.97,
            32.68,
            35.44,
            36.4
           ],
           "xaxis": "x",
           "y": [
            28.96,
            27.61,
            24.86,
            25.19,
            38.36,
            24.13,
            27.53,
            20.95,
            25.51,
            28.44,
            42.75
           ],
           "yaxis": "y"
          },
          {
           "hovertemplate": "club=football<br>frameId=96<br>x=%{x}<br>y=%{y}<extra></extra>",
           "legendgroup": "football",
           "marker": {
            "color": "Grey",
            "symbol": "circle"
           },
           "mode": "markers",
           "name": "football",
           "orientation": "v",
           "showlegend": true,
           "type": "scatter",
           "x": [
            29.3999996185303
           ],
           "xaxis": "x",
           "y": [
            29.6299991607666
           ],
           "yaxis": "y"
          }
         ],
         "name": "96"
        },
        {
         "data": [
          {
           "hovertemplate": "club=CIN<br>frameId=97<br>x=%{x}<br>y=%{y}<extra></extra>",
           "legendgroup": "CIN",
           "marker": {
            "color": "Red",
            "symbol": "circle"
           },
           "mode": "markers",
           "name": "CIN",
           "orientation": "v",
           "showlegend": true,
           "type": "scatter",
           "x": [
            37.56,
            43.24,
            35.66,
            37.68,
            42.93,
            34.14,
            46.58,
            34.49,
            34.97,
            38.74,
            38.32
           ],
           "xaxis": "x",
           "y": [
            15.34,
            20.72,
            27.13,
            38.64,
            43.99,
            30.88,
            34.64,
            24.44,
            23.19,
            25.53,
            30.14
           ],
           "yaxis": "y"
          },
          {
           "hovertemplate": "club=PIT<br>frameId=97<br>x=%{x}<br>y=%{y}<extra></extra>",
           "legendgroup": "PIT",
           "marker": {
            "color": "Black",
            "symbol": "circle"
           },
           "mode": "markers",
           "name": "PIT",
           "orientation": "v",
           "showlegend": true,
           "type": "scatter",
           "x": [
            29.47,
            33.99,
            33.64,
            34.36,
            34.06,
            30.85,
            35.01,
            31.2,
            32.72,
            35.71,
            36.89
           ],
           "xaxis": "x",
           "y": [
            29.39,
            27.87,
            24.9,
            25.17,
            38.46,
            23.38,
            27.5,
            20.38,
            25.94,
            28.33,
            42.52
           ],
           "yaxis": "y"
          },
          {
           "hovertemplate": "club=football<br>frameId=97<br>x=%{x}<br>y=%{y}<extra></extra>",
           "legendgroup": "football",
           "marker": {
            "color": "Grey",
            "symbol": "circle"
           },
           "mode": "markers",
           "name": "football",
           "orientation": "v",
           "showlegend": true,
           "type": "scatter",
           "x": [
            29.4500007629395
           ],
           "xaxis": "x",
           "y": [
            30.0900001525879
           ],
           "yaxis": "y"
          }
         ],
         "name": "97"
        },
        {
         "data": [
          {
           "hovertemplate": "club=CIN<br>frameId=98<br>x=%{x}<br>y=%{y}<extra></extra>",
           "legendgroup": "CIN",
           "marker": {
            "color": "Red",
            "symbol": "circle"
           },
           "mode": "markers",
           "name": "CIN",
           "orientation": "v",
           "showlegend": true,
           "type": "scatter",
           "x": [
            37.4,
            43.06,
            35.76,
            37.7,
            42.98,
            33.96,
            46.68,
            34.51,
            34.99,
            38.72,
            38.13
           ],
           "xaxis": "x",
           "y": [
            15.09,
            20.54,
            27.15,
            38.8,
            43.91,
            31,
            34.7,
            24.44,
            23.13,
            25.54,
            30.38
           ],
           "yaxis": "y"
          },
          {
           "hovertemplate": "club=PIT<br>frameId=98<br>x=%{x}<br>y=%{y}<extra></extra>",
           "legendgroup": "PIT",
           "marker": {
            "color": "Black",
            "symbol": "circle"
           },
           "mode": "markers",
           "name": "PIT",
           "orientation": "v",
           "showlegend": true,
           "type": "scatter",
           "x": [
            29.5,
            34.21,
            33.66,
            34.43,
            34.35,
            30.93,
            35.14,
            31.46,
            32.79,
            36,
            37.4
           ],
           "xaxis": "x",
           "y": [
            29.84,
            28.14,
            24.95,
            25.16,
            38.59,
            22.63,
            27.49,
            19.81,
            26.37,
            28.25,
            42.29
           ],
           "yaxis": "y"
          },
          {
           "hovertemplate": "club=football<br>frameId=98<br>x=%{x}<br>y=%{y}<extra></extra>",
           "legendgroup": "football",
           "marker": {
            "color": "Grey",
            "symbol": "circle"
           },
           "mode": "markers",
           "name": "football",
           "orientation": "v",
           "showlegend": true,
           "type": "scatter",
           "x": [
            29.5499992370605
           ],
           "xaxis": "x",
           "y": [
            30.5100002288818
           ],
           "yaxis": "y"
          }
         ],
         "name": "98"
        },
        {
         "data": [
          {
           "hovertemplate": "club=CIN<br>frameId=99<br>x=%{x}<br>y=%{y}<extra></extra>",
           "legendgroup": "CIN",
           "marker": {
            "color": "Red",
            "symbol": "circle"
           },
           "mode": "markers",
           "name": "CIN",
           "orientation": "v",
           "showlegend": true,
           "type": "scatter",
           "x": [
            37.29,
            42.89,
            35.87,
            37.74,
            43.05,
            33.79,
            46.78,
            34.55,
            35.01,
            38.75,
            37.93
           ],
           "xaxis": "x",
           "y": [
            14.83,
            20.35,
            27.17,
            39,
            43.84,
            31.15,
            34.8,
            24.45,
            23.06,
            25.58,
            30.64
           ],
           "yaxis": "y"
          },
          {
           "hovertemplate": "club=PIT<br>frameId=99<br>x=%{x}<br>y=%{y}<extra></extra>",
           "legendgroup": "PIT",
           "marker": {
            "color": "Black",
            "symbol": "circle"
           },
           "mode": "markers",
           "name": "PIT",
           "orientation": "v",
           "showlegend": true,
           "type": "scatter",
           "x": [
            29.54,
            34.46,
            33.71,
            34.5,
            34.64,
            31.04,
            35.26,
            31.76,
            32.88,
            36.29,
            37.94
           ],
           "xaxis": "x",
           "y": [
            30.31,
            28.41,
            25,
            25.18,
            38.78,
            21.9,
            27.5,
            19.23,
            26.8,
            28.21,
            42.06
           ],
           "yaxis": "y"
          },
          {
           "hovertemplate": "club=football<br>frameId=99<br>x=%{x}<br>y=%{y}<extra></extra>",
           "legendgroup": "football",
           "marker": {
            "color": "Grey",
            "symbol": "circle"
           },
           "mode": "markers",
           "name": "football",
           "orientation": "v",
           "showlegend": true,
           "type": "scatter",
           "x": [
            29.6800003051758
           ],
           "xaxis": "x",
           "y": [
            30.9200000762939
           ],
           "yaxis": "y"
          }
         ],
         "name": "99"
        },
        {
         "data": [
          {
           "hovertemplate": "club=CIN<br>frameId=100<br>x=%{x}<br>y=%{y}<extra></extra>",
           "legendgroup": "CIN",
           "marker": {
            "color": "Red",
            "symbol": "circle"
           },
           "mode": "markers",
           "name": "CIN",
           "orientation": "v",
           "showlegend": true,
           "type": "scatter",
           "x": [
            37.23,
            42.77,
            36,
            37.78,
            43.15,
            33.6,
            46.88,
            34.59,
            35.07,
            38.81,
            37.71
           ],
           "xaxis": "x",
           "y": [
            14.57,
            20.15,
            27.22,
            39.25,
            43.78,
            31.36,
            34.93,
            24.46,
            22.97,
            25.67,
            30.91
           ],
           "yaxis": "y"
          },
          {
           "hovertemplate": "club=PIT<br>frameId=100<br>x=%{x}<br>y=%{y}<extra></extra>",
           "legendgroup": "PIT",
           "marker": {
            "color": "Black",
            "symbol": "circle"
           },
           "mode": "markers",
           "name": "PIT",
           "orientation": "v",
           "showlegend": true,
           "type": "scatter",
           "x": [
            29.61,
            34.73,
            33.75,
            34.59,
            34.93,
            31.19,
            35.4,
            32.1,
            33.01,
            36.6,
            38.5
           ],
           "xaxis": "x",
           "y": [
            30.8,
            28.67,
            25.05,
            25.2,
            39,
            21.16,
            27.52,
            18.66,
            27.23,
            28.22,
            41.83
           ],
           "yaxis": "y"
          },
          {
           "hovertemplate": "club=football<br>frameId=100<br>x=%{x}<br>y=%{y}<extra></extra>",
           "legendgroup": "football",
           "marker": {
            "color": "Grey",
            "symbol": "circle"
           },
           "mode": "markers",
           "name": "football",
           "orientation": "v",
           "showlegend": true,
           "type": "scatter",
           "x": [
            29.8999996185303
           ],
           "xaxis": "x",
           "y": [
            31.25
           ],
           "yaxis": "y"
          }
         ],
         "name": "100"
        },
        {
         "data": [
          {
           "hovertemplate": "club=CIN<br>frameId=101<br>x=%{x}<br>y=%{y}<extra></extra>",
           "legendgroup": "CIN",
           "marker": {
            "color": "Red",
            "symbol": "circle"
           },
           "mode": "markers",
           "name": "CIN",
           "orientation": "v",
           "showlegend": true,
           "type": "scatter",
           "x": [
            37.22,
            42.69,
            36.14,
            37.84,
            43.27,
            33.41,
            46.98,
            34.66,
            35.13,
            38.91,
            37.49
           ],
           "xaxis": "x",
           "y": [
            14.29,
            19.96,
            27.3,
            39.54,
            43.73,
            31.6,
            35.1,
            24.48,
            22.87,
            25.81,
            31.16
           ],
           "yaxis": "y"
          },
          {
           "hovertemplate": "club=PIT<br>frameId=101<br>x=%{x}<br>y=%{y}<extra></extra>",
           "legendgroup": "PIT",
           "marker": {
            "color": "Black",
            "symbol": "circle"
           },
           "mode": "markers",
           "name": "PIT",
           "orientation": "v",
           "showlegend": true,
           "type": "scatter",
           "x": [
            29.69,
            35.01,
            33.81,
            34.68,
            35.23,
            31.35,
            35.54,
            32.48,
            33.17,
            36.9,
            39.08
           ],
           "xaxis": "x",
           "y": [
            31.3,
            28.94,
            25.11,
            25.24,
            39.27,
            20.44,
            27.56,
            18.09,
            27.66,
            28.23,
            41.62
           ],
           "yaxis": "y"
          },
          {
           "hovertemplate": "club=football<br>frameId=101<br>x=%{x}<br>y=%{y}<extra></extra>",
           "legendgroup": "football",
           "marker": {
            "color": "Grey",
            "symbol": "circle"
           },
           "mode": "markers",
           "name": "football",
           "orientation": "v",
           "showlegend": true,
           "type": "scatter",
           "x": [
            30.2099990844727
           ],
           "xaxis": "x",
           "y": [
            31.4599990844727
           ],
           "yaxis": "y"
          }
         ],
         "name": "101"
        },
        {
         "data": [
          {
           "hovertemplate": "club=CIN<br>frameId=102<br>x=%{x}<br>y=%{y}<extra></extra>",
           "legendgroup": "CIN",
           "marker": {
            "color": "Red",
            "symbol": "circle"
           },
           "mode": "markers",
           "name": "CIN",
           "orientation": "v",
           "showlegend": true,
           "type": "scatter",
           "x": [
            37.27,
            42.66,
            36.29,
            37.92,
            43.43,
            33.21,
            47.07,
            34.74,
            35.22,
            39.04,
            37.26
           ],
           "xaxis": "x",
           "y": [
            14.02,
            19.77,
            27.39,
            39.88,
            43.69,
            31.87,
            35.28,
            24.51,
            22.76,
            25.99,
            31.39
           ],
           "yaxis": "y"
          },
          {
           "hovertemplate": "club=PIT<br>frameId=102<br>x=%{x}<br>y=%{y}<extra></extra>",
           "legendgroup": "PIT",
           "marker": {
            "color": "Black",
            "symbol": "circle"
           },
           "mode": "markers",
           "name": "PIT",
           "orientation": "v",
           "showlegend": true,
           "type": "scatter",
           "x": [
            29.8,
            35.27,
            33.88,
            34.79,
            35.51,
            31.53,
            35.69,
            32.89,
            33.35,
            37.23,
            39.69
           ],
           "xaxis": "x",
           "y": [
            31.81,
            29.21,
            25.16,
            25.27,
            39.6,
            19.72,
            27.6,
            17.54,
            28.07,
            28.28,
            41.42
           ],
           "yaxis": "y"
          },
          {
           "hovertemplate": "club=football<br>frameId=102<br>x=%{x}<br>y=%{y}<extra></extra>",
           "legendgroup": "football",
           "marker": {
            "color": "Grey",
            "symbol": "circle"
           },
           "mode": "markers",
           "name": "football",
           "orientation": "v",
           "showlegend": true,
           "type": "scatter",
           "x": [
            30.6200008392334
           ],
           "xaxis": "x",
           "y": [
            31.5599994659424
           ],
           "yaxis": "y"
          }
         ],
         "name": "102"
        },
        {
         "data": [
          {
           "hovertemplate": "club=CIN<br>frameId=103<br>x=%{x}<br>y=%{y}<extra></extra>",
           "legendgroup": "CIN",
           "marker": {
            "color": "Red",
            "symbol": "circle"
           },
           "mode": "markers",
           "name": "CIN",
           "orientation": "v",
           "showlegend": true,
           "type": "scatter",
           "x": [
            37.36,
            42.68,
            36.46,
            37.99,
            43.61,
            33.02,
            47.15,
            34.84,
            35.33,
            39.19,
            37.02
           ],
           "xaxis": "x",
           "y": [
            13.76,
            19.59,
            27.5,
            40.27,
            43.67,
            32.16,
            35.48,
            24.54,
            22.62,
            26.23,
            31.59
           ],
           "yaxis": "y"
          },
          {
           "hovertemplate": "club=PIT<br>frameId=103<br>x=%{x}<br>y=%{y}<extra></extra>",
           "legendgroup": "PIT",
           "marker": {
            "color": "Black",
            "symbol": "circle"
           },
           "mode": "markers",
           "name": "PIT",
           "orientation": "v",
           "showlegend": true,
           "type": "scatter",
           "x": [
            29.92,
            35.52,
            33.97,
            34.9,
            35.75,
            31.74,
            35.86,
            33.33,
            33.56,
            37.57,
            40.32
           ],
           "xaxis": "x",
           "y": [
            32.31,
            29.5,
            25.22,
            25.32,
            39.99,
            19.02,
            27.66,
            17,
            28.48,
            28.34,
            41.25
           ],
           "yaxis": "y"
          },
          {
           "hovertemplate": "club=football<br>frameId=103<br>x=%{x}<br>y=%{y}<extra></extra>",
           "legendgroup": "football",
           "marker": {
            "color": "Grey",
            "symbol": "circle"
           },
           "mode": "markers",
           "name": "football",
           "orientation": "v",
           "showlegend": true,
           "type": "scatter",
           "x": [
            31.0799999237061
           ],
           "xaxis": "x",
           "y": [
            31.5799999237061
           ],
           "yaxis": "y"
          }
         ],
         "name": "103"
        },
        {
         "data": [
          {
           "hovertemplate": "club=CIN<br>frameId=104<br>x=%{x}<br>y=%{y}<extra></extra>",
           "legendgroup": "CIN",
           "marker": {
            "color": "Red",
            "symbol": "circle"
           },
           "mode": "markers",
           "name": "CIN",
           "orientation": "v",
           "showlegend": true,
           "type": "scatter",
           "x": [
            37.48,
            42.74,
            36.64,
            38.08,
            43.83,
            32.84,
            47.21,
            34.95,
            35.44,
            39.37,
            36.76
           ],
           "xaxis": "x",
           "y": [
            13.5,
            19.43,
            27.63,
            40.69,
            43.67,
            32.45,
            35.66,
            24.58,
            22.46,
            26.51,
            31.73
           ],
           "yaxis": "y"
          },
          {
           "hovertemplate": "club=PIT<br>frameId=104<br>x=%{x}<br>y=%{y}<extra></extra>",
           "legendgroup": "PIT",
           "marker": {
            "color": "Black",
            "symbol": "circle"
           },
           "mode": "markers",
           "name": "PIT",
           "orientation": "v",
           "showlegend": true,
           "type": "scatter",
           "x": [
            30.05,
            35.75,
            34.08,
            35.02,
            35.96,
            31.95,
            36.04,
            33.81,
            33.78,
            37.92,
            40.97
           ],
           "xaxis": "x",
           "y": [
            32.81,
            29.79,
            25.28,
            25.36,
            40.41,
            18.34,
            27.75,
            16.47,
            28.88,
            28.43,
            41.11
           ],
           "yaxis": "y"
          },
          {
           "hovertemplate": "club=football<br>frameId=104<br>x=%{x}<br>y=%{y}<extra></extra>",
           "legendgroup": "football",
           "marker": {
            "color": "Grey",
            "symbol": "circle"
           },
           "mode": "markers",
           "name": "football",
           "orientation": "v",
           "showlegend": true,
           "type": "scatter",
           "x": [
            31.6000003814697
           ],
           "xaxis": "x",
           "y": [
            31.5200004577637
           ],
           "yaxis": "y"
          }
         ],
         "name": "104"
        },
        {
         "data": [
          {
           "hovertemplate": "club=CIN<br>frameId=105<br>x=%{x}<br>y=%{y}<extra></extra>",
           "legendgroup": "CIN",
           "marker": {
            "color": "Red",
            "symbol": "circle"
           },
           "mode": "markers",
           "name": "CIN",
           "orientation": "v",
           "showlegend": true,
           "type": "scatter",
           "x": [
            37.63,
            42.85,
            36.82,
            38.15,
            44.08,
            32.68,
            47.24,
            35.09,
            35.56,
            39.56,
            36.51
           ],
           "xaxis": "x",
           "y": [
            13.26,
            19.31,
            27.77,
            41.13,
            43.68,
            32.75,
            35.83,
            24.63,
            22.3,
            26.82,
            31.83
           ],
           "yaxis": "y"
          },
          {
           "hovertemplate": "club=PIT<br>frameId=105<br>x=%{x}<br>y=%{y}<extra></extra>",
           "legendgroup": "PIT",
           "marker": {
            "color": "Black",
            "symbol": "circle"
           },
           "mode": "markers",
           "name": "PIT",
           "orientation": "v",
           "showlegend": true,
           "type": "scatter",
           "x": [
            30.19,
            35.96,
            34.22,
            35.15,
            36.13,
            32.18,
            36.24,
            34.31,
            34.02,
            38.27,
            41.64
           ],
           "xaxis": "x",
           "y": [
            33.31,
            30.08,
            25.33,
            25.42,
            40.88,
            17.67,
            27.84,
            15.97,
            29.27,
            28.53,
            41
           ],
           "yaxis": "y"
          },
          {
           "hovertemplate": "club=football<br>frameId=105<br>x=%{x}<br>y=%{y}<extra></extra>",
           "legendgroup": "football",
           "marker": {
            "color": "Grey",
            "symbol": "circle"
           },
           "mode": "markers",
           "name": "football",
           "orientation": "v",
           "showlegend": true,
           "type": "scatter",
           "x": [
            32.1500015258789
           ],
           "xaxis": "x",
           "y": [
            31.4200000762939
           ],
           "yaxis": "y"
          }
         ],
         "name": "105"
        },
        {
         "data": [
          {
           "hovertemplate": "club=CIN<br>frameId=106<br>x=%{x}<br>y=%{y}<extra></extra>",
           "legendgroup": "CIN",
           "marker": {
            "color": "Red",
            "symbol": "circle"
           },
           "mode": "markers",
           "name": "CIN",
           "orientation": "v",
           "showlegend": true,
           "type": "scatter",
           "x": [
            37.82,
            43.01,
            37.02,
            38.23,
            44.33,
            32.55,
            47.23,
            35.25,
            35.7,
            39.77,
            36.26
           ],
           "xaxis": "x",
           "y": [
            13.02,
            19.23,
            27.93,
            41.6,
            43.71,
            33.04,
            35.97,
            24.69,
            22.11,
            27.16,
            31.88
           ],
           "yaxis": "y"
          },
          {
           "hovertemplate": "club=PIT<br>frameId=106<br>x=%{x}<br>y=%{y}<extra></extra>",
           "legendgroup": "PIT",
           "marker": {
            "color": "Black",
            "symbol": "circle"
           },
           "mode": "markers",
           "name": "PIT",
           "orientation": "v",
           "showlegend": true,
           "type": "scatter",
           "x": [
            30.34,
            36.11,
            34.37,
            35.3,
            36.26,
            32.41,
            36.46,
            34.85,
            34.28,
            38.63,
            42.32
           ],
           "xaxis": "x",
           "y": [
            33.79,
            30.38,
            25.37,
            25.49,
            41.38,
            17.04,
            27.94,
            15.49,
            29.63,
            28.65,
            40.91
           ],
           "yaxis": "y"
          },
          {
           "hovertemplate": "club=football<br>frameId=106<br>x=%{x}<br>y=%{y}<extra></extra>",
           "legendgroup": "football",
           "marker": {
            "color": "Grey",
            "symbol": "circle"
           },
           "mode": "markers",
           "name": "football",
           "orientation": "v",
           "showlegend": true,
           "type": "scatter",
           "x": [
            32.7099990844727
           ],
           "xaxis": "x",
           "y": [
            31.2800006866455
           ],
           "yaxis": "y"
          }
         ],
         "name": "106"
        },
        {
         "data": [
          {
           "hovertemplate": "club=CIN<br>frameId=107<br>x=%{x}<br>y=%{y}<extra></extra>",
           "legendgroup": "CIN",
           "marker": {
            "color": "Red",
            "symbol": "circle"
           },
           "mode": "markers",
           "name": "CIN",
           "orientation": "v",
           "showlegend": true,
           "type": "scatter",
           "x": [
            38.04,
            43.19,
            37.22,
            38.3,
            44.6,
            32.46,
            47.18,
            35.42,
            35.84,
            40,
            36.06
           ],
           "xaxis": "x",
           "y": [
            12.79,
            19.19,
            28.11,
            42.08,
            43.74,
            33.32,
            36.07,
            24.75,
            21.9,
            27.53,
            31.86
           ],
           "yaxis": "y"
          },
          {
           "hovertemplate": "club=PIT<br>frameId=107<br>x=%{x}<br>y=%{y}<extra></extra>",
           "legendgroup": "PIT",
           "marker": {
            "color": "Black",
            "symbol": "circle"
           },
           "mode": "markers",
           "name": "PIT",
           "orientation": "v",
           "showlegend": true,
           "type": "scatter",
           "x": [
            30.49,
            36.22,
            34.54,
            35.44,
            36.35,
            32.65,
            36.71,
            35.41,
            34.55,
            38.98,
            43.03
           ],
           "xaxis": "x",
           "y": [
            34.27,
            30.67,
            25.4,
            25.55,
            41.91,
            16.43,
            28.07,
            15.05,
            29.94,
            28.78,
            40.87
           ],
           "yaxis": "y"
          },
          {
           "hovertemplate": "club=football<br>frameId=107<br>x=%{x}<br>y=%{y}<extra></extra>",
           "legendgroup": "football",
           "marker": {
            "color": "Grey",
            "symbol": "circle"
           },
           "mode": "markers",
           "name": "football",
           "orientation": "v",
           "showlegend": true,
           "type": "scatter",
           "x": [
            33.2799987792969
           ],
           "xaxis": "x",
           "y": [
            31.1100006103516
           ],
           "yaxis": "y"
          }
         ],
         "name": "107"
        },
        {
         "data": [
          {
           "hovertemplate": "club=CIN<br>frameId=108<br>x=%{x}<br>y=%{y}<extra></extra>",
           "legendgroup": "CIN",
           "marker": {
            "color": "Red",
            "symbol": "circle"
           },
           "mode": "markers",
           "name": "CIN",
           "orientation": "v",
           "showlegend": true,
           "type": "scatter",
           "x": [
            38.29,
            43.4,
            37.41,
            38.35,
            44.87,
            32.41,
            47.08,
            35.61,
            35.98,
            40.23,
            35.87
           ],
           "xaxis": "x",
           "y": [
            12.58,
            19.2,
            28.32,
            42.57,
            43.78,
            33.58,
            36.11,
            24.81,
            21.67,
            27.9,
            31.81
           ],
           "yaxis": "y"
          },
          {
           "hovertemplate": "club=PIT<br>frameId=108<br>x=%{x}<br>y=%{y}<extra></extra>",
           "legendgroup": "PIT",
           "marker": {
            "color": "Black",
            "symbol": "circle"
           },
           "mode": "markers",
           "name": "PIT",
           "orientation": "v",
           "showlegend": true,
           "type": "scatter",
           "x": [
            30.64,
            36.28,
            34.75,
            35.59,
            36.42,
            32.88,
            36.94,
            35.99,
            34.83,
            39.32,
            43.75
           ],
           "xaxis": "x",
           "y": [
            34.74,
            30.96,
            25.43,
            25.63,
            42.45,
            15.86,
            28.2,
            14.63,
            30.2,
            28.95,
            40.86
           ],
           "yaxis": "y"
          },
          {
           "hovertemplate": "club=football<br>frameId=108<br>x=%{x}<br>y=%{y}<extra></extra>",
           "legendgroup": "football",
           "marker": {
            "color": "Grey",
            "symbol": "circle"
           },
           "mode": "markers",
           "name": "football",
           "orientation": "v",
           "showlegend": true,
           "type": "scatter",
           "x": [
            33.7900009155273
           ],
           "xaxis": "x",
           "y": [
            30.9899997711182
           ],
           "yaxis": "y"
          }
         ],
         "name": "108"
        },
        {
         "data": [
          {
           "hovertemplate": "club=CIN<br>frameId=109<br>x=%{x}<br>y=%{y}<extra></extra>",
           "legendgroup": "CIN",
           "marker": {
            "color": "Red",
            "symbol": "circle"
           },
           "mode": "markers",
           "name": "CIN",
           "orientation": "v",
           "showlegend": true,
           "type": "scatter",
           "x": [
            38.57,
            43.61,
            37.59,
            38.39,
            45.15,
            32.4,
            46.95,
            35.81,
            36.12,
            40.49,
            35.74
           ],
           "xaxis": "x",
           "y": [
            12.38,
            19.26,
            28.54,
            43.06,
            43.82,
            33.82,
            36.11,
            24.88,
            21.43,
            28.29,
            31.73
           ],
           "yaxis": "y"
          },
          {
           "hovertemplate": "club=PIT<br>frameId=109<br>x=%{x}<br>y=%{y}<extra></extra>",
           "legendgroup": "PIT",
           "marker": {
            "color": "Black",
            "symbol": "circle"
           },
           "mode": "markers",
           "name": "PIT",
           "orientation": "v",
           "showlegend": true,
           "type": "scatter",
           "x": [
            30.8,
            36.29,
            34.99,
            35.76,
            36.46,
            33.12,
            37.18,
            36.59,
            35.12,
            39.67,
            44.48
           ],
           "xaxis": "x",
           "y": [
            35.19,
            31.23,
            25.45,
            25.71,
            42.98,
            15.33,
            28.36,
            14.25,
            30.43,
            29.14,
            40.89
           ],
           "yaxis": "y"
          },
          {
           "hovertemplate": "club=football<br>frameId=109<br>x=%{x}<br>y=%{y}<extra></extra>",
           "legendgroup": "football",
           "marker": {
            "color": "Grey",
            "symbol": "circle"
           },
           "mode": "markers",
           "name": "football",
           "orientation": "v",
           "showlegend": true,
           "type": "scatter",
           "x": [
            34.3400001525879
           ],
           "xaxis": "x",
           "y": [
            30.8299999237061
           ],
           "yaxis": "y"
          }
         ],
         "name": "109"
        },
        {
         "data": [
          {
           "hovertemplate": "club=CIN<br>frameId=110<br>x=%{x}<br>y=%{y}<extra></extra>",
           "legendgroup": "CIN",
           "marker": {
            "color": "Red",
            "symbol": "circle"
           },
           "mode": "markers",
           "name": "CIN",
           "orientation": "v",
           "showlegend": true,
           "type": "scatter",
           "x": [
            38.88,
            43.82,
            37.75,
            38.42,
            45.41,
            32.44,
            46.76,
            36.04,
            36.25,
            40.76,
            35.67
           ],
           "xaxis": "x",
           "y": [
            12.18,
            19.38,
            28.78,
            43.54,
            43.86,
            34.03,
            36.05,
            24.95,
            21.16,
            28.68,
            31.6
           ],
           "yaxis": "y"
          },
          {
           "hovertemplate": "club=PIT<br>frameId=110<br>x=%{x}<br>y=%{y}<extra></extra>",
           "legendgroup": "PIT",
           "marker": {
            "color": "Black",
            "symbol": "circle"
           },
           "mode": "markers",
           "name": "PIT",
           "orientation": "v",
           "showlegend": true,
           "type": "scatter",
           "x": [
            30.95,
            36.27,
            35.23,
            35.94,
            36.48,
            33.35,
            37.42,
            37.2,
            35.44,
            40.01,
            45.21
           ],
           "xaxis": "x",
           "y": [
            35.64,
            31.48,
            25.46,
            25.79,
            43.5,
            14.83,
            28.52,
            13.9,
            30.59,
            29.34,
            40.95
           ],
           "yaxis": "y"
          },
          {
           "hovertemplate": "club=football<br>frameId=110<br>x=%{x}<br>y=%{y}<extra></extra>",
           "legendgroup": "football",
           "marker": {
            "color": "Grey",
            "symbol": "circle"
           },
           "mode": "markers",
           "name": "football",
           "orientation": "v",
           "showlegend": true,
           "type": "scatter",
           "x": [
            34.8899993896484
           ],
           "xaxis": "x",
           "y": [
            30.6900005340576
           ],
           "yaxis": "y"
          }
         ],
         "name": "110"
        },
        {
         "data": [
          {
           "hovertemplate": "club=CIN<br>frameId=111<br>x=%{x}<br>y=%{y}<extra></extra>",
           "legendgroup": "CIN",
           "marker": {
            "color": "Red",
            "symbol": "circle"
           },
           "mode": "markers",
           "name": "CIN",
           "orientation": "v",
           "showlegend": true,
           "type": "scatter",
           "x": [
            39.19,
            44.02,
            37.89,
            38.43,
            45.67,
            32.53,
            46.55,
            36.29,
            36.39,
            41.05,
            35.63
           ],
           "xaxis": "x",
           "y": [
            12,
            19.56,
            29.04,
            44.01,
            43.87,
            34.22,
            35.95,
            25.04,
            20.88,
            29.07,
            31.44
           ],
           "yaxis": "y"
          },
          {
           "hovertemplate": "club=PIT<br>frameId=111<br>x=%{x}<br>y=%{y}<extra></extra>",
           "legendgroup": "PIT",
           "marker": {
            "color": "Black",
            "symbol": "circle"
           },
           "mode": "markers",
           "name": "PIT",
           "orientation": "v",
           "showlegend": true,
           "type": "scatter",
           "x": [
            31.11,
            36.22,
            35.51,
            36.12,
            36.49,
            33.57,
            37.66,
            37.82,
            35.75,
            40.33,
            45.94
           ],
           "xaxis": "x",
           "y": [
            36.09,
            31.71,
            25.46,
            25.87,
            44,
            14.38,
            28.7,
            13.59,
            30.7,
            29.54,
            41.05
           ],
           "yaxis": "y"
          },
          {
           "hovertemplate": "club=football<br>frameId=111<br>x=%{x}<br>y=%{y}<extra></extra>",
           "legendgroup": "football",
           "marker": {
            "color": "Grey",
            "symbol": "circle"
           },
           "mode": "markers",
           "name": "football",
           "orientation": "v",
           "showlegend": true,
           "type": "scatter",
           "x": [
            35.4199981689453
           ],
           "xaxis": "x",
           "y": [
            30.5100002288818
           ],
           "yaxis": "y"
          }
         ],
         "name": "111"
        },
        {
         "data": [
          {
           "hovertemplate": "club=CIN<br>frameId=112<br>x=%{x}<br>y=%{y}<extra></extra>",
           "legendgroup": "CIN",
           "marker": {
            "color": "Red",
            "symbol": "circle"
           },
           "mode": "markers",
           "name": "CIN",
           "orientation": "v",
           "showlegend": true,
           "type": "scatter",
           "x": [
            39.52,
            44.19,
            38.01,
            38.43,
            45.92,
            32.65,
            46.29,
            36.56,
            36.53,
            41.36,
            35.66
           ],
           "xaxis": "x",
           "y": [
            11.83,
            19.79,
            29.32,
            44.46,
            43.85,
            34.37,
            35.8,
            25.14,
            20.63,
            29.45,
            31.26
           ],
           "yaxis": "y"
          },
          {
           "hovertemplate": "club=PIT<br>frameId=112<br>x=%{x}<br>y=%{y}<extra></extra>",
           "legendgroup": "PIT",
           "marker": {
            "color": "Black",
            "symbol": "circle"
           },
           "mode": "markers",
           "name": "PIT",
           "orientation": "v",
           "showlegend": true,
           "type": "scatter",
           "x": [
            31.26,
            36.15,
            35.8,
            36.33,
            36.49,
            33.78,
            37.9,
            38.43,
            36.08,
            40.64,
            46.66
           ],
           "xaxis": "x",
           "y": [
            36.52,
            31.91,
            25.45,
            25.94,
            44.48,
            13.97,
            28.88,
            13.3,
            30.76,
            29.74,
            41.17
           ],
           "yaxis": "y"
          },
          {
           "hovertemplate": "club=football<br>frameId=112<br>x=%{x}<br>y=%{y}<extra></extra>",
           "legendgroup": "football",
           "marker": {
            "color": "Grey",
            "symbol": "circle"
           },
           "mode": "markers",
           "name": "football",
           "orientation": "v",
           "showlegend": true,
           "type": "scatter",
           "x": [
            35.9300003051758
           ],
           "xaxis": "x",
           "y": [
            30.3600006103516
           ],
           "yaxis": "y"
          }
         ],
         "name": "112"
        },
        {
         "data": [
          {
           "hovertemplate": "club=CIN<br>frameId=113<br>x=%{x}<br>y=%{y}<extra></extra>",
           "legendgroup": "CIN",
           "marker": {
            "color": "Red",
            "symbol": "circle"
           },
           "mode": "markers",
           "name": "CIN",
           "orientation": "v",
           "showlegend": true,
           "type": "scatter",
           "x": [
            39.84,
            44.34,
            38.09,
            38.42,
            46.12,
            32.82,
            45.99,
            36.86,
            36.67,
            41.68,
            35.73
           ],
           "xaxis": "x",
           "y": [
            11.66,
            20.07,
            29.6,
            44.87,
            43.8,
            34.5,
            35.62,
            25.26,
            20.41,
            29.82,
            31.07
           ],
           "yaxis": "y"
          },
          {
           "hovertemplate": "club=PIT<br>frameId=113<br>x=%{x}<br>y=%{y}<extra></extra>",
           "legendgroup": "PIT",
           "marker": {
            "color": "Black",
            "symbol": "circle"
           },
           "mode": "markers",
           "name": "PIT",
           "orientation": "v",
           "showlegend": true,
           "type": "scatter",
           "x": [
            31.41,
            36.08,
            36.09,
            36.55,
            36.49,
            33.97,
            38.12,
            39.04,
            36.42,
            40.95,
            47.36
           ],
           "xaxis": "x",
           "y": [
            36.93,
            32.08,
            25.44,
            26,
            44.93,
            13.59,
            29.08,
            13.04,
            30.78,
            29.95,
            41.33
           ],
           "yaxis": "y"
          },
          {
           "hovertemplate": "club=football<br>frameId=113<br>x=%{x}<br>y=%{y}<extra></extra>",
           "legendgroup": "football",
           "marker": {
            "color": "Grey",
            "symbol": "circle"
           },
           "mode": "markers",
           "name": "football",
           "orientation": "v",
           "showlegend": true,
           "type": "scatter",
           "x": [
            36.4000015258789
           ],
           "xaxis": "x",
           "y": [
            30.2299995422363
           ],
           "yaxis": "y"
          }
         ],
         "name": "113"
        },
        {
         "data": [
          {
           "hovertemplate": "club=CIN<br>frameId=114<br>x=%{x}<br>y=%{y}<extra></extra>",
           "legendgroup": "CIN",
           "marker": {
            "color": "Red",
            "symbol": "circle"
           },
           "mode": "markers",
           "name": "CIN",
           "orientation": "v",
           "showlegend": true,
           "type": "scatter",
           "x": [
            40.13,
            44.44,
            38.14,
            38.39,
            46.29,
            33.05,
            45.66,
            37.17,
            36.81,
            42.01,
            35.84
           ],
           "xaxis": "x",
           "y": [
            11.5,
            20.4,
            29.9,
            45.25,
            43.72,
            34.59,
            35.42,
            25.39,
            20.21,
            30.19,
            30.88
           ],
           "yaxis": "y"
          },
          {
           "hovertemplate": "club=PIT<br>frameId=114<br>x=%{x}<br>y=%{y}<extra></extra>",
           "legendgroup": "PIT",
           "marker": {
            "color": "Black",
            "symbol": "circle"
           },
           "mode": "markers",
           "name": "PIT",
           "orientation": "v",
           "showlegend": true,
           "type": "scatter",
           "x": [
            31.57,
            36.01,
            36.38,
            36.79,
            36.48,
            34.14,
            38.33,
            39.63,
            36.75,
            41.23,
            48.04
           ],
           "xaxis": "x",
           "y": [
            37.33,
            32.22,
            25.43,
            26.05,
            45.35,
            13.25,
            29.29,
            12.82,
            30.77,
            30.17,
            41.52
           ],
           "yaxis": "y"
          },
          {
           "hovertemplate": "club=football<br>frameId=114<br>x=%{x}<br>y=%{y}<extra></extra>",
           "legendgroup": "football",
           "marker": {
            "color": "Grey",
            "symbol": "circle"
           },
           "mode": "markers",
           "name": "football",
           "orientation": "v",
           "showlegend": true,
           "type": "scatter",
           "x": [
            36.810001373291
           ],
           "xaxis": "x",
           "y": [
            30.1399993896484
           ],
           "yaxis": "y"
          }
         ],
         "name": "114"
        },
        {
         "data": [
          {
           "hovertemplate": "club=CIN<br>frameId=115<br>x=%{x}<br>y=%{y}<extra></extra>",
           "legendgroup": "CIN",
           "marker": {
            "color": "Red",
            "symbol": "circle"
           },
           "mode": "markers",
           "name": "CIN",
           "orientation": "v",
           "showlegend": true,
           "type": "scatter",
           "x": [
            40.36,
            44.51,
            38.18,
            38.35,
            46.43,
            33.29,
            45.3,
            37.52,
            36.96,
            42.35,
            35.98
           ],
           "xaxis": "x",
           "y": [
            11.35,
            20.76,
            30.18,
            45.6,
            43.61,
            34.65,
            35.21,
            25.54,
            20.06,
            30.54,
            30.68
           ],
           "yaxis": "y"
          },
          {
           "hovertemplate": "club=PIT<br>frameId=115<br>x=%{x}<br>y=%{y}<extra></extra>",
           "legendgroup": "PIT",
           "marker": {
            "color": "Black",
            "symbol": "circle"
           },
           "mode": "markers",
           "name": "PIT",
           "orientation": "v",
           "showlegend": true,
           "type": "scatter",
           "x": [
            31.72,
            35.94,
            36.69,
            37.05,
            36.5,
            34.29,
            38.53,
            40.18,
            37.07,
            41.51,
            48.7
           ],
           "xaxis": "x",
           "y": [
            37.7,
            32.34,
            25.42,
            26.1,
            45.73,
            12.95,
            29.5,
            12.62,
            30.74,
            30.39,
            41.74
           ],
           "yaxis": "y"
          },
          {
           "hovertemplate": "club=football<br>frameId=115<br>x=%{x}<br>y=%{y}<extra></extra>",
           "legendgroup": "football",
           "marker": {
            "color": "Grey",
            "symbol": "circle"
           },
           "mode": "markers",
           "name": "football",
           "orientation": "v",
           "showlegend": true,
           "type": "scatter",
           "x": [
            37.1800003051758
           ],
           "xaxis": "x",
           "y": [
            30.0799999237061
           ],
           "yaxis": "y"
          }
         ],
         "name": "115"
        },
        {
         "data": [
          {
           "hovertemplate": "club=CIN<br>frameId=116<br>x=%{x}<br>y=%{y}<extra></extra>",
           "legendgroup": "CIN",
           "marker": {
            "color": "Red",
            "symbol": "circle"
           },
           "mode": "markers",
           "name": "CIN",
           "orientation": "v",
           "showlegend": true,
           "type": "scatter",
           "x": [
            40.57,
            44.55,
            38.19,
            38.31,
            46.53,
            33.54,
            44.93,
            37.88,
            37.1,
            42.68,
            36.15
           ],
           "xaxis": "x",
           "y": [
            11.21,
            21.15,
            30.44,
            45.89,
            43.47,
            34.68,
            34.98,
            25.71,
            19.96,
            30.87,
            30.49
           ],
           "yaxis": "y"
          },
          {
           "hovertemplate": "club=PIT<br>frameId=116<br>x=%{x}<br>y=%{y}<extra></extra>",
           "legendgroup": "PIT",
           "marker": {
            "color": "Black",
            "symbol": "circle"
           },
           "mode": "markers",
           "name": "PIT",
           "orientation": "v",
           "showlegend": true,
           "type": "scatter",
           "x": [
            31.89,
            35.88,
            37.02,
            37.32,
            36.53,
            34.42,
            38.7,
            40.69,
            37.39,
            41.78,
            49.33
           ],
           "xaxis": "x",
           "y": [
            38.05,
            32.45,
            25.41,
            26.12,
            46.05,
            12.68,
            29.71,
            12.45,
            30.68,
            30.6,
            41.98
           ],
           "yaxis": "y"
          },
          {
           "hovertemplate": "club=football<br>frameId=116<br>x=%{x}<br>y=%{y}<extra></extra>",
           "legendgroup": "football",
           "marker": {
            "color": "Grey",
            "symbol": "circle"
           },
           "mode": "markers",
           "name": "football",
           "orientation": "v",
           "showlegend": true,
           "type": "scatter",
           "x": [
            37.4799995422363
           ],
           "xaxis": "x",
           "y": [
            30.0499992370605
           ],
           "yaxis": "y"
          }
         ],
         "name": "116"
        },
        {
         "data": [
          {
           "hovertemplate": "club=CIN<br>frameId=117<br>x=%{x}<br>y=%{y}<extra></extra>",
           "legendgroup": "CIN",
           "marker": {
            "color": "Red",
            "symbol": "circle"
           },
           "mode": "markers",
           "name": "CIN",
           "orientation": "v",
           "showlegend": true,
           "type": "scatter",
           "x": [
            40.73,
            44.55,
            38.2,
            38.27,
            46.59,
            33.8,
            44.54,
            38.23,
            37.24,
            43.01,
            36.32
           ],
           "xaxis": "x",
           "y": [
            11.08,
            21.55,
            30.68,
            46.15,
            43.31,
            34.7,
            34.75,
            25.88,
            19.91,
            31.18,
            30.3
           ],
           "yaxis": "y"
          },
          {
           "hovertemplate": "club=PIT<br>frameId=117<br>x=%{x}<br>y=%{y}<extra></extra>",
           "legendgroup": "PIT",
           "marker": {
            "color": "Black",
            "symbol": "circle"
           },
           "mode": "markers",
           "name": "PIT",
           "orientation": "v",
           "showlegend": true,
           "type": "scatter",
           "x": [
            32.05,
            35.83,
            37.35,
            37.59,
            36.58,
            34.52,
            38.85,
            41.15,
            37.67,
            42.03,
            49.92
           ],
           "xaxis": "x",
           "y": [
            38.35,
            32.54,
            25.4,
            26.15,
            46.32,
            12.45,
            29.91,
            12.31,
            30.64,
            30.81,
            42.23
           ],
           "yaxis": "y"
          },
          {
           "hovertemplate": "club=football<br>frameId=117<br>x=%{x}<br>y=%{y}<extra></extra>",
           "legendgroup": "football",
           "marker": {
            "color": "Grey",
            "symbol": "circle"
           },
           "mode": "markers",
           "name": "football",
           "orientation": "v",
           "showlegend": true,
           "type": "scatter",
           "x": [
            37.7599983215332
           ],
           "xaxis": "x",
           "y": [
            30.0499992370605
           ],
           "yaxis": "y"
          }
         ],
         "name": "117"
        },
        {
         "data": [
          {
           "hovertemplate": "club=CIN<br>frameId=118<br>x=%{x}<br>y=%{y}<extra></extra>",
           "legendgroup": "CIN",
           "marker": {
            "color": "Red",
            "symbol": "circle"
           },
           "mode": "markers",
           "name": "CIN",
           "orientation": "v",
           "showlegend": true,
           "type": "scatter",
           "x": [
            40.83,
            44.52,
            38.2,
            38.22,
            46.62,
            34.07,
            44.15,
            38.6,
            37.38,
            43.33,
            36.5
           ],
           "xaxis": "x",
           "y": [
            10.97,
            21.96,
            30.9,
            46.35,
            43.13,
            34.7,
            34.52,
            26.07,
            19.94,
            31.48,
            30.13
           ],
           "yaxis": "y"
          },
          {
           "hovertemplate": "club=PIT<br>frameId=118<br>x=%{x}<br>y=%{y}<extra></extra>",
           "legendgroup": "PIT",
           "marker": {
            "color": "Black",
            "symbol": "circle"
           },
           "mode": "markers",
           "name": "PIT",
           "orientation": "v",
           "showlegend": true,
           "type": "scatter",
           "x": [
            32.23,
            35.79,
            37.68,
            37.85,
            36.64,
            34.6,
            38.98,
            41.56,
            37.9,
            42.26,
            50.47
           ],
           "xaxis": "x",
           "y": [
            38.62,
            32.61,
            25.39,
            26.17,
            46.55,
            12.26,
            30.1,
            12.19,
            30.61,
            31.02,
            42.5
           ],
           "yaxis": "y"
          },
          {
           "hovertemplate": "club=football<br>frameId=118<br>x=%{x}<br>y=%{y}<extra></extra>",
           "legendgroup": "football",
           "marker": {
            "color": "Grey",
            "symbol": "circle"
           },
           "mode": "markers",
           "name": "football",
           "orientation": "v",
           "showlegend": true,
           "type": "scatter",
           "x": [
            37.9700012207031
           ],
           "xaxis": "x",
           "y": [
            30.0400009155273
           ],
           "yaxis": "y"
          }
         ],
         "name": "118"
        },
        {
         "data": [
          {
           "hovertemplate": "club=CIN<br>frameId=119<br>x=%{x}<br>y=%{y}<extra></extra>",
           "legendgroup": "CIN",
           "marker": {
            "color": "Red",
            "symbol": "circle"
           },
           "mode": "markers",
           "name": "CIN",
           "orientation": "v",
           "showlegend": true,
           "type": "scatter",
           "x": [
            40.87,
            44.46,
            38.19,
            38.18,
            46.62,
            34.32,
            43.77,
            38.96,
            37.51,
            43.63,
            36.67
           ],
           "xaxis": "x",
           "y": [
            10.9,
            22.38,
            31.09,
            46.52,
            42.95,
            34.69,
            34.29,
            26.28,
            20.03,
            31.76,
            29.97
           ],
           "yaxis": "y"
          },
          {
           "hovertemplate": "club=PIT<br>frameId=119<br>x=%{x}<br>y=%{y}<extra></extra>",
           "legendgroup": "PIT",
           "marker": {
            "color": "Black",
            "symbol": "circle"
           },
           "mode": "markers",
           "name": "PIT",
           "orientation": "v",
           "showlegend": true,
           "type": "scatter",
           "x": [
            32.41,
            35.75,
            38.01,
            38.14,
            36.71,
            34.66,
            39.1,
            41.9,
            38.11,
            42.48,
            50.99
           ],
           "xaxis": "x",
           "y": [
            38.83,
            32.67,
            25.39,
            26.19,
            46.74,
            12.09,
            30.28,
            12.09,
            30.57,
            31.21,
            42.77
           ],
           "yaxis": "y"
          },
          {
           "hovertemplate": "club=football<br>frameId=119<br>x=%{x}<br>y=%{y}<extra></extra>",
           "legendgroup": "football",
           "marker": {
            "color": "Grey",
            "symbol": "circle"
           },
           "mode": "markers",
           "name": "football",
           "orientation": "v",
           "showlegend": true,
           "type": "scatter",
           "x": [
            38.1399993896484
           ],
           "xaxis": "x",
           "y": [
            30.0499992370605
           ],
           "yaxis": "y"
          }
         ],
         "name": "119"
        },
        {
         "data": [
          {
           "hovertemplate": "club=CIN<br>frameId=120<br>x=%{x}<br>y=%{y}<extra></extra>",
           "legendgroup": "CIN",
           "marker": {
            "color": "Red",
            "symbol": "circle"
           },
           "mode": "markers",
           "name": "CIN",
           "orientation": "v",
           "showlegend": true,
           "type": "scatter",
           "x": [
            40.86,
            44.38,
            38.19,
            38.13,
            46.6,
            34.56,
            43.41,
            39.31,
            37.64,
            43.9,
            36.83
           ],
           "xaxis": "x",
           "y": [
            10.85,
            22.78,
            31.24,
            46.65,
            42.76,
            34.68,
            34.05,
            26.49,
            20.17,
            32.01,
            29.83
           ],
           "yaxis": "y"
          },
          {
           "hovertemplate": "club=PIT<br>frameId=120<br>x=%{x}<br>y=%{y}<extra></extra>",
           "legendgroup": "PIT",
           "marker": {
            "color": "Black",
            "symbol": "circle"
           },
           "mode": "markers",
           "name": "PIT",
           "orientation": "v",
           "showlegend": true,
           "type": "scatter",
           "x": [
            32.59,
            35.71,
            38.36,
            38.42,
            36.78,
            34.69,
            39.2,
            42.19,
            38.29,
            42.68,
            51.47
           ],
           "xaxis": "x",
           "y": [
            39,
            32.73,
            25.39,
            26.19,
            46.89,
            11.96,
            30.43,
            12.01,
            30.54,
            31.4,
            43.04
           ],
           "yaxis": "y"
          },
          {
           "hovertemplate": "club=football<br>frameId=120<br>x=%{x}<br>y=%{y}<extra></extra>",
           "legendgroup": "football",
           "marker": {
            "color": "Grey",
            "symbol": "circle"
           },
           "mode": "markers",
           "name": "football",
           "orientation": "v",
           "showlegend": true,
           "type": "scatter",
           "x": [
            38.2700004577637
           ],
           "xaxis": "x",
           "y": [
            30.0799999237061
           ],
           "yaxis": "y"
          }
         ],
         "name": "120"
        },
        {
         "data": [
          {
           "hovertemplate": "club=CIN<br>frameId=121<br>x=%{x}<br>y=%{y}<extra></extra>",
           "legendgroup": "CIN",
           "marker": {
            "color": "Red",
            "symbol": "circle"
           },
           "mode": "markers",
           "name": "CIN",
           "orientation": "v",
           "showlegend": true,
           "type": "scatter",
           "x": [
            40.82,
            44.28,
            38.19,
            38.09,
            46.57,
            34.78,
            43.05,
            39.65,
            37.76,
            44.15,
            36.95
           ],
           "xaxis": "x",
           "y": [
            10.83,
            23.17,
            31.36,
            46.74,
            42.57,
            34.65,
            33.81,
            26.7,
            20.36,
            32.25,
            29.7
           ],
           "yaxis": "y"
          },
          {
           "hovertemplate": "club=PIT<br>frameId=121<br>x=%{x}<br>y=%{y}<extra></extra>",
           "legendgroup": "PIT",
           "marker": {
            "color": "Black",
            "symbol": "circle"
           },
           "mode": "markers",
           "name": "PIT",
           "orientation": "v",
           "showlegend": true,
           "type": "scatter",
           "x": [
            32.77,
            35.67,
            38.69,
            38.69,
            36.84,
            34.71,
            39.28,
            42.42,
            38.43,
            42.86,
            51.9
           ],
           "xaxis": "x",
           "y": [
            39.12,
            32.79,
            25.4,
            26.2,
            47,
            11.86,
            30.57,
            11.95,
            30.52,
            31.6,
            43.31
           ],
           "yaxis": "y"
          },
          {
           "hovertemplate": "club=football<br>frameId=121<br>x=%{x}<br>y=%{y}<extra></extra>",
           "legendgroup": "football",
           "marker": {
            "color": "Grey",
            "symbol": "circle"
           },
           "mode": "markers",
           "name": "football",
           "orientation": "v",
           "showlegend": true,
           "type": "scatter",
           "x": [
            38.3600006103516
           ],
           "xaxis": "x",
           "y": [
            30.1100006103516
           ],
           "yaxis": "y"
          }
         ],
         "name": "121"
        },
        {
         "data": [
          {
           "hovertemplate": "club=CIN<br>frameId=122<br>x=%{x}<br>y=%{y}<extra></extra>",
           "legendgroup": "CIN",
           "marker": {
            "color": "Red",
            "symbol": "circle"
           },
           "mode": "markers",
           "name": "CIN",
           "orientation": "v",
           "showlegend": true,
           "type": "scatter",
           "x": [
            40.74,
            44.17,
            38.2,
            38.05,
            46.53,
            34.99,
            42.73,
            39.96,
            37.87,
            44.37,
            37.04
           ],
           "xaxis": "x",
           "y": [
            10.84,
            23.54,
            31.45,
            46.8,
            42.38,
            34.61,
            33.58,
            26.91,
            20.59,
            32.44,
            29.6
           ],
           "yaxis": "y"
          },
          {
           "hovertemplate": "club=PIT<br>frameId=122<br>x=%{x}<br>y=%{y}<extra></extra>",
           "legendgroup": "PIT",
           "marker": {
            "color": "Black",
            "symbol": "circle"
           },
           "mode": "markers",
           "name": "PIT",
           "orientation": "v",
           "showlegend": true,
           "type": "scatter",
           "x": [
            32.94,
            35.65,
            39.01,
            38.95,
            36.9,
            34.71,
            39.35,
            42.59,
            38.54,
            43.02,
            52.31
           ],
           "xaxis": "x",
           "y": [
            39.19,
            32.84,
            25.39,
            26.2,
            47.09,
            11.78,
            30.68,
            11.91,
            30.5,
            31.78,
            43.58
           ],
           "yaxis": "y"
          },
          {
           "hovertemplate": "club=football<br>frameId=122<br>x=%{x}<br>y=%{y}<extra></extra>",
           "legendgroup": "football",
           "marker": {
            "color": "Grey",
            "symbol": "circle"
           },
           "mode": "markers",
           "name": "football",
           "orientation": "v",
           "showlegend": true,
           "type": "scatter",
           "x": [
            38.4300003051758
           ],
           "xaxis": "x",
           "y": [
            30.1399993896484
           ],
           "yaxis": "y"
          }
         ],
         "name": "122"
        },
        {
         "data": [
          {
           "hovertemplate": "club=CIN<br>frameId=123<br>x=%{x}<br>y=%{y}<extra></extra>",
           "legendgroup": "CIN",
           "marker": {
            "color": "Red",
            "symbol": "circle"
           },
           "mode": "markers",
           "name": "CIN",
           "orientation": "v",
           "showlegend": true,
           "type": "scatter",
           "x": [
            40.64,
            44.06,
            38.21,
            38.02,
            46.48,
            35.18,
            42.43,
            40.25,
            37.96,
            44.56,
            37.11
           ],
           "xaxis": "x",
           "y": [
            10.88,
            23.89,
            31.51,
            46.84,
            42.2,
            34.57,
            33.33,
            27.11,
            20.86,
            32.62,
            29.51
           ],
           "yaxis": "y"
          },
          {
           "hovertemplate": "club=PIT<br>frameId=123<br>x=%{x}<br>y=%{y}<extra></extra>",
           "legendgroup": "PIT",
           "marker": {
            "color": "Black",
            "symbol": "circle"
           },
           "mode": "markers",
           "name": "PIT",
           "orientation": "v",
           "showlegend": true,
           "type": "scatter",
           "x": [
            33.11,
            35.62,
            39.35,
            39.2,
            36.96,
            34.71,
            39.4,
            42.72,
            38.63,
            43.15,
            52.67
           ],
           "xaxis": "x",
           "y": [
            39.2,
            32.89,
            25.39,
            26.21,
            47.16,
            11.74,
            30.78,
            11.89,
            30.46,
            31.96,
            43.83
           ],
           "yaxis": "y"
          },
          {
           "hovertemplate": "club=football<br>frameId=123<br>x=%{x}<br>y=%{y}<extra></extra>",
           "legendgroup": "football",
           "marker": {
            "color": "Grey",
            "symbol": "circle"
           },
           "mode": "markers",
           "name": "football",
           "orientation": "v",
           "showlegend": true,
           "type": "scatter",
           "x": [
            38.5
           ],
           "xaxis": "x",
           "y": [
            30.1800003051758
           ],
           "yaxis": "y"
          }
         ],
         "name": "123"
        },
        {
         "data": [
          {
           "hovertemplate": "club=CIN<br>frameId=124<br>x=%{x}<br>y=%{y}<extra></extra>",
           "legendgroup": "CIN",
           "marker": {
            "color": "Red",
            "symbol": "circle"
           },
           "mode": "markers",
           "name": "CIN",
           "orientation": "v",
           "showlegend": true,
           "type": "scatter",
           "x": [
            40.51,
            43.95,
            38.23,
            37.98,
            46.43,
            35.35,
            42.16,
            40.48,
            38.06,
            44.71,
            37.16
           ],
           "xaxis": "x",
           "y": [
            10.93,
            24.21,
            31.56,
            46.85,
            42.02,
            34.52,
            33.08,
            27.31,
            21.15,
            32.76,
            29.44
           ],
           "yaxis": "y"
          },
          {
           "hovertemplate": "club=PIT<br>frameId=124<br>x=%{x}<br>y=%{y}<extra></extra>",
           "legendgroup": "PIT",
           "marker": {
            "color": "Black",
            "symbol": "circle"
           },
           "mode": "markers",
           "name": "PIT",
           "orientation": "v",
           "showlegend": true,
           "type": "scatter",
           "x": [
            33.26,
            35.6,
            39.66,
            39.43,
            37.01,
            34.69,
            39.43,
            42.79,
            38.72,
            43.26,
            52.99
           ],
           "xaxis": "x",
           "y": [
            39.18,
            32.94,
            25.4,
            26.21,
            47.2,
            11.72,
            30.87,
            11.89,
            30.41,
            32.11,
            44.07
           ],
           "yaxis": "y"
          },
          {
           "hovertemplate": "club=football<br>frameId=124<br>x=%{x}<br>y=%{y}<extra></extra>",
           "legendgroup": "football",
           "marker": {
            "color": "Grey",
            "symbol": "circle"
           },
           "mode": "markers",
           "name": "football",
           "orientation": "v",
           "showlegend": true,
           "type": "scatter",
           "x": [
            38.5400009155273
           ],
           "xaxis": "x",
           "y": [
            30.2199993133545
           ],
           "yaxis": "y"
          }
         ],
         "name": "124"
        }
       ],
       "layout": {
        "height": 600,
        "legend": {
         "title": {
          "text": "club"
         },
         "tracegroupgap": 0
        },
        "shapes": [
         {
          "fillcolor": "green",
          "layer": "below",
          "line": {
           "color": "green",
           "width": 1
          },
          "opacity": 1,
          "type": "rect",
          "x0": 10,
          "x1": 110,
          "y0": 0,
          "y1": 53.3
         },
         {
          "layer": "below",
          "line": {
           "color": "white",
           "width": 2
          },
          "opacity": 1,
          "type": "line",
          "x0": 0,
          "x1": 0,
          "y0": 0,
          "y1": 53.3
         },
         {
          "layer": "below",
          "line": {
           "color": "white",
           "width": 2
          },
          "opacity": 1,
          "type": "line",
          "x0": 10,
          "x1": 10,
          "y0": 0,
          "y1": 53.3
         },
         {
          "layer": "below",
          "line": {
           "color": "white",
           "width": 2
          },
          "opacity": 1,
          "type": "line",
          "x0": 20,
          "x1": 20,
          "y0": 0,
          "y1": 53.3
         },
         {
          "layer": "below",
          "line": {
           "color": "white",
           "width": 2
          },
          "opacity": 1,
          "type": "line",
          "x0": 30,
          "x1": 30,
          "y0": 0,
          "y1": 53.3
         },
         {
          "layer": "below",
          "line": {
           "color": "white",
           "width": 2
          },
          "opacity": 1,
          "type": "line",
          "x0": 40,
          "x1": 40,
          "y0": 0,
          "y1": 53.3
         },
         {
          "layer": "below",
          "line": {
           "color": "white",
           "width": 2
          },
          "opacity": 1,
          "type": "line",
          "x0": 50,
          "x1": 50,
          "y0": 0,
          "y1": 53.3
         },
         {
          "layer": "below",
          "line": {
           "color": "white",
           "width": 2
          },
          "opacity": 1,
          "type": "line",
          "x0": 60,
          "x1": 60,
          "y0": 0,
          "y1": 53.3
         },
         {
          "layer": "below",
          "line": {
           "color": "white",
           "width": 2
          },
          "opacity": 1,
          "type": "line",
          "x0": 70,
          "x1": 70,
          "y0": 0,
          "y1": 53.3
         },
         {
          "layer": "below",
          "line": {
           "color": "white",
           "width": 2
          },
          "opacity": 1,
          "type": "line",
          "x0": 80,
          "x1": 80,
          "y0": 0,
          "y1": 53.3
         },
         {
          "layer": "below",
          "line": {
           "color": "white",
           "width": 2
          },
          "opacity": 1,
          "type": "line",
          "x0": 90,
          "x1": 90,
          "y0": 0,
          "y1": 53.3
         },
         {
          "layer": "below",
          "line": {
           "color": "white",
           "width": 2
          },
          "opacity": 1,
          "type": "line",
          "x0": 100,
          "x1": 100,
          "y0": 0,
          "y1": 53.3
         },
         {
          "layer": "below",
          "line": {
           "color": "white",
           "width": 2
          },
          "opacity": 1,
          "type": "line",
          "x0": 110,
          "x1": 110,
          "y0": 0,
          "y1": 53.3
         }
        ],
        "sliders": [
         {
          "active": 0,
          "currentvalue": {
           "prefix": "frameId="
          },
          "len": 0.9,
          "pad": {
           "b": 10,
           "t": 60
          },
          "steps": [
           {
            "args": [
             [
              "1"
             ],
             {
              "frame": {
               "duration": 0,
               "redraw": false
              },
              "fromcurrent": true,
              "mode": "immediate",
              "transition": {
               "duration": 0,
               "easing": "linear"
              }
             }
            ],
            "label": "1",
            "method": "animate"
           },
           {
            "args": [
             [
              "2"
             ],
             {
              "frame": {
               "duration": 0,
               "redraw": false
              },
              "fromcurrent": true,
              "mode": "immediate",
              "transition": {
               "duration": 0,
               "easing": "linear"
              }
             }
            ],
            "label": "2",
            "method": "animate"
           },
           {
            "args": [
             [
              "3"
             ],
             {
              "frame": {
               "duration": 0,
               "redraw": false
              },
              "fromcurrent": true,
              "mode": "immediate",
              "transition": {
               "duration": 0,
               "easing": "linear"
              }
             }
            ],
            "label": "3",
            "method": "animate"
           },
           {
            "args": [
             [
              "4"
             ],
             {
              "frame": {
               "duration": 0,
               "redraw": false
              },
              "fromcurrent": true,
              "mode": "immediate",
              "transition": {
               "duration": 0,
               "easing": "linear"
              }
             }
            ],
            "label": "4",
            "method": "animate"
           },
           {
            "args": [
             [
              "5"
             ],
             {
              "frame": {
               "duration": 0,
               "redraw": false
              },
              "fromcurrent": true,
              "mode": "immediate",
              "transition": {
               "duration": 0,
               "easing": "linear"
              }
             }
            ],
            "label": "5",
            "method": "animate"
           },
           {
            "args": [
             [
              "6"
             ],
             {
              "frame": {
               "duration": 0,
               "redraw": false
              },
              "fromcurrent": true,
              "mode": "immediate",
              "transition": {
               "duration": 0,
               "easing": "linear"
              }
             }
            ],
            "label": "6",
            "method": "animate"
           },
           {
            "args": [
             [
              "7"
             ],
             {
              "frame": {
               "duration": 0,
               "redraw": false
              },
              "fromcurrent": true,
              "mode": "immediate",
              "transition": {
               "duration": 0,
               "easing": "linear"
              }
             }
            ],
            "label": "7",
            "method": "animate"
           },
           {
            "args": [
             [
              "8"
             ],
             {
              "frame": {
               "duration": 0,
               "redraw": false
              },
              "fromcurrent": true,
              "mode": "immediate",
              "transition": {
               "duration": 0,
               "easing": "linear"
              }
             }
            ],
            "label": "8",
            "method": "animate"
           },
           {
            "args": [
             [
              "9"
             ],
             {
              "frame": {
               "duration": 0,
               "redraw": false
              },
              "fromcurrent": true,
              "mode": "immediate",
              "transition": {
               "duration": 0,
               "easing": "linear"
              }
             }
            ],
            "label": "9",
            "method": "animate"
           },
           {
            "args": [
             [
              "10"
             ],
             {
              "frame": {
               "duration": 0,
               "redraw": false
              },
              "fromcurrent": true,
              "mode": "immediate",
              "transition": {
               "duration": 0,
               "easing": "linear"
              }
             }
            ],
            "label": "10",
            "method": "animate"
           },
           {
            "args": [
             [
              "11"
             ],
             {
              "frame": {
               "duration": 0,
               "redraw": false
              },
              "fromcurrent": true,
              "mode": "immediate",
              "transition": {
               "duration": 0,
               "easing": "linear"
              }
             }
            ],
            "label": "11",
            "method": "animate"
           },
           {
            "args": [
             [
              "12"
             ],
             {
              "frame": {
               "duration": 0,
               "redraw": false
              },
              "fromcurrent": true,
              "mode": "immediate",
              "transition": {
               "duration": 0,
               "easing": "linear"
              }
             }
            ],
            "label": "12",
            "method": "animate"
           },
           {
            "args": [
             [
              "13"
             ],
             {
              "frame": {
               "duration": 0,
               "redraw": false
              },
              "fromcurrent": true,
              "mode": "immediate",
              "transition": {
               "duration": 0,
               "easing": "linear"
              }
             }
            ],
            "label": "13",
            "method": "animate"
           },
           {
            "args": [
             [
              "14"
             ],
             {
              "frame": {
               "duration": 0,
               "redraw": false
              },
              "fromcurrent": true,
              "mode": "immediate",
              "transition": {
               "duration": 0,
               "easing": "linear"
              }
             }
            ],
            "label": "14",
            "method": "animate"
           },
           {
            "args": [
             [
              "15"
             ],
             {
              "frame": {
               "duration": 0,
               "redraw": false
              },
              "fromcurrent": true,
              "mode": "immediate",
              "transition": {
               "duration": 0,
               "easing": "linear"
              }
             }
            ],
            "label": "15",
            "method": "animate"
           },
           {
            "args": [
             [
              "16"
             ],
             {
              "frame": {
               "duration": 0,
               "redraw": false
              },
              "fromcurrent": true,
              "mode": "immediate",
              "transition": {
               "duration": 0,
               "easing": "linear"
              }
             }
            ],
            "label": "16",
            "method": "animate"
           },
           {
            "args": [
             [
              "17"
             ],
             {
              "frame": {
               "duration": 0,
               "redraw": false
              },
              "fromcurrent": true,
              "mode": "immediate",
              "transition": {
               "duration": 0,
               "easing": "linear"
              }
             }
            ],
            "label": "17",
            "method": "animate"
           },
           {
            "args": [
             [
              "18"
             ],
             {
              "frame": {
               "duration": 0,
               "redraw": false
              },
              "fromcurrent": true,
              "mode": "immediate",
              "transition": {
               "duration": 0,
               "easing": "linear"
              }
             }
            ],
            "label": "18",
            "method": "animate"
           },
           {
            "args": [
             [
              "19"
             ],
             {
              "frame": {
               "duration": 0,
               "redraw": false
              },
              "fromcurrent": true,
              "mode": "immediate",
              "transition": {
               "duration": 0,
               "easing": "linear"
              }
             }
            ],
            "label": "19",
            "method": "animate"
           },
           {
            "args": [
             [
              "20"
             ],
             {
              "frame": {
               "duration": 0,
               "redraw": false
              },
              "fromcurrent": true,
              "mode": "immediate",
              "transition": {
               "duration": 0,
               "easing": "linear"
              }
             }
            ],
            "label": "20",
            "method": "animate"
           },
           {
            "args": [
             [
              "21"
             ],
             {
              "frame": {
               "duration": 0,
               "redraw": false
              },
              "fromcurrent": true,
              "mode": "immediate",
              "transition": {
               "duration": 0,
               "easing": "linear"
              }
             }
            ],
            "label": "21",
            "method": "animate"
           },
           {
            "args": [
             [
              "22"
             ],
             {
              "frame": {
               "duration": 0,
               "redraw": false
              },
              "fromcurrent": true,
              "mode": "immediate",
              "transition": {
               "duration": 0,
               "easing": "linear"
              }
             }
            ],
            "label": "22",
            "method": "animate"
           },
           {
            "args": [
             [
              "23"
             ],
             {
              "frame": {
               "duration": 0,
               "redraw": false
              },
              "fromcurrent": true,
              "mode": "immediate",
              "transition": {
               "duration": 0,
               "easing": "linear"
              }
             }
            ],
            "label": "23",
            "method": "animate"
           },
           {
            "args": [
             [
              "24"
             ],
             {
              "frame": {
               "duration": 0,
               "redraw": false
              },
              "fromcurrent": true,
              "mode": "immediate",
              "transition": {
               "duration": 0,
               "easing": "linear"
              }
             }
            ],
            "label": "24",
            "method": "animate"
           },
           {
            "args": [
             [
              "25"
             ],
             {
              "frame": {
               "duration": 0,
               "redraw": false
              },
              "fromcurrent": true,
              "mode": "immediate",
              "transition": {
               "duration": 0,
               "easing": "linear"
              }
             }
            ],
            "label": "25",
            "method": "animate"
           },
           {
            "args": [
             [
              "26"
             ],
             {
              "frame": {
               "duration": 0,
               "redraw": false
              },
              "fromcurrent": true,
              "mode": "immediate",
              "transition": {
               "duration": 0,
               "easing": "linear"
              }
             }
            ],
            "label": "26",
            "method": "animate"
           },
           {
            "args": [
             [
              "27"
             ],
             {
              "frame": {
               "duration": 0,
               "redraw": false
              },
              "fromcurrent": true,
              "mode": "immediate",
              "transition": {
               "duration": 0,
               "easing": "linear"
              }
             }
            ],
            "label": "27",
            "method": "animate"
           },
           {
            "args": [
             [
              "28"
             ],
             {
              "frame": {
               "duration": 0,
               "redraw": false
              },
              "fromcurrent": true,
              "mode": "immediate",
              "transition": {
               "duration": 0,
               "easing": "linear"
              }
             }
            ],
            "label": "28",
            "method": "animate"
           },
           {
            "args": [
             [
              "29"
             ],
             {
              "frame": {
               "duration": 0,
               "redraw": false
              },
              "fromcurrent": true,
              "mode": "immediate",
              "transition": {
               "duration": 0,
               "easing": "linear"
              }
             }
            ],
            "label": "29",
            "method": "animate"
           },
           {
            "args": [
             [
              "30"
             ],
             {
              "frame": {
               "duration": 0,
               "redraw": false
              },
              "fromcurrent": true,
              "mode": "immediate",
              "transition": {
               "duration": 0,
               "easing": "linear"
              }
             }
            ],
            "label": "30",
            "method": "animate"
           },
           {
            "args": [
             [
              "31"
             ],
             {
              "frame": {
               "duration": 0,
               "redraw": false
              },
              "fromcurrent": true,
              "mode": "immediate",
              "transition": {
               "duration": 0,
               "easing": "linear"
              }
             }
            ],
            "label": "31",
            "method": "animate"
           },
           {
            "args": [
             [
              "32"
             ],
             {
              "frame": {
               "duration": 0,
               "redraw": false
              },
              "fromcurrent": true,
              "mode": "immediate",
              "transition": {
               "duration": 0,
               "easing": "linear"
              }
             }
            ],
            "label": "32",
            "method": "animate"
           },
           {
            "args": [
             [
              "33"
             ],
             {
              "frame": {
               "duration": 0,
               "redraw": false
              },
              "fromcurrent": true,
              "mode": "immediate",
              "transition": {
               "duration": 0,
               "easing": "linear"
              }
             }
            ],
            "label": "33",
            "method": "animate"
           },
           {
            "args": [
             [
              "34"
             ],
             {
              "frame": {
               "duration": 0,
               "redraw": false
              },
              "fromcurrent": true,
              "mode": "immediate",
              "transition": {
               "duration": 0,
               "easing": "linear"
              }
             }
            ],
            "label": "34",
            "method": "animate"
           },
           {
            "args": [
             [
              "35"
             ],
             {
              "frame": {
               "duration": 0,
               "redraw": false
              },
              "fromcurrent": true,
              "mode": "immediate",
              "transition": {
               "duration": 0,
               "easing": "linear"
              }
             }
            ],
            "label": "35",
            "method": "animate"
           },
           {
            "args": [
             [
              "36"
             ],
             {
              "frame": {
               "duration": 0,
               "redraw": false
              },
              "fromcurrent": true,
              "mode": "immediate",
              "transition": {
               "duration": 0,
               "easing": "linear"
              }
             }
            ],
            "label": "36",
            "method": "animate"
           },
           {
            "args": [
             [
              "37"
             ],
             {
              "frame": {
               "duration": 0,
               "redraw": false
              },
              "fromcurrent": true,
              "mode": "immediate",
              "transition": {
               "duration": 0,
               "easing": "linear"
              }
             }
            ],
            "label": "37",
            "method": "animate"
           },
           {
            "args": [
             [
              "38"
             ],
             {
              "frame": {
               "duration": 0,
               "redraw": false
              },
              "fromcurrent": true,
              "mode": "immediate",
              "transition": {
               "duration": 0,
               "easing": "linear"
              }
             }
            ],
            "label": "38",
            "method": "animate"
           },
           {
            "args": [
             [
              "39"
             ],
             {
              "frame": {
               "duration": 0,
               "redraw": false
              },
              "fromcurrent": true,
              "mode": "immediate",
              "transition": {
               "duration": 0,
               "easing": "linear"
              }
             }
            ],
            "label": "39",
            "method": "animate"
           },
           {
            "args": [
             [
              "40"
             ],
             {
              "frame": {
               "duration": 0,
               "redraw": false
              },
              "fromcurrent": true,
              "mode": "immediate",
              "transition": {
               "duration": 0,
               "easing": "linear"
              }
             }
            ],
            "label": "40",
            "method": "animate"
           },
           {
            "args": [
             [
              "41"
             ],
             {
              "frame": {
               "duration": 0,
               "redraw": false
              },
              "fromcurrent": true,
              "mode": "immediate",
              "transition": {
               "duration": 0,
               "easing": "linear"
              }
             }
            ],
            "label": "41",
            "method": "animate"
           },
           {
            "args": [
             [
              "42"
             ],
             {
              "frame": {
               "duration": 0,
               "redraw": false
              },
              "fromcurrent": true,
              "mode": "immediate",
              "transition": {
               "duration": 0,
               "easing": "linear"
              }
             }
            ],
            "label": "42",
            "method": "animate"
           },
           {
            "args": [
             [
              "43"
             ],
             {
              "frame": {
               "duration": 0,
               "redraw": false
              },
              "fromcurrent": true,
              "mode": "immediate",
              "transition": {
               "duration": 0,
               "easing": "linear"
              }
             }
            ],
            "label": "43",
            "method": "animate"
           },
           {
            "args": [
             [
              "44"
             ],
             {
              "frame": {
               "duration": 0,
               "redraw": false
              },
              "fromcurrent": true,
              "mode": "immediate",
              "transition": {
               "duration": 0,
               "easing": "linear"
              }
             }
            ],
            "label": "44",
            "method": "animate"
           },
           {
            "args": [
             [
              "45"
             ],
             {
              "frame": {
               "duration": 0,
               "redraw": false
              },
              "fromcurrent": true,
              "mode": "immediate",
              "transition": {
               "duration": 0,
               "easing": "linear"
              }
             }
            ],
            "label": "45",
            "method": "animate"
           },
           {
            "args": [
             [
              "46"
             ],
             {
              "frame": {
               "duration": 0,
               "redraw": false
              },
              "fromcurrent": true,
              "mode": "immediate",
              "transition": {
               "duration": 0,
               "easing": "linear"
              }
             }
            ],
            "label": "46",
            "method": "animate"
           },
           {
            "args": [
             [
              "47"
             ],
             {
              "frame": {
               "duration": 0,
               "redraw": false
              },
              "fromcurrent": true,
              "mode": "immediate",
              "transition": {
               "duration": 0,
               "easing": "linear"
              }
             }
            ],
            "label": "47",
            "method": "animate"
           },
           {
            "args": [
             [
              "48"
             ],
             {
              "frame": {
               "duration": 0,
               "redraw": false
              },
              "fromcurrent": true,
              "mode": "immediate",
              "transition": {
               "duration": 0,
               "easing": "linear"
              }
             }
            ],
            "label": "48",
            "method": "animate"
           },
           {
            "args": [
             [
              "49"
             ],
             {
              "frame": {
               "duration": 0,
               "redraw": false
              },
              "fromcurrent": true,
              "mode": "immediate",
              "transition": {
               "duration": 0,
               "easing": "linear"
              }
             }
            ],
            "label": "49",
            "method": "animate"
           },
           {
            "args": [
             [
              "50"
             ],
             {
              "frame": {
               "duration": 0,
               "redraw": false
              },
              "fromcurrent": true,
              "mode": "immediate",
              "transition": {
               "duration": 0,
               "easing": "linear"
              }
             }
            ],
            "label": "50",
            "method": "animate"
           },
           {
            "args": [
             [
              "51"
             ],
             {
              "frame": {
               "duration": 0,
               "redraw": false
              },
              "fromcurrent": true,
              "mode": "immediate",
              "transition": {
               "duration": 0,
               "easing": "linear"
              }
             }
            ],
            "label": "51",
            "method": "animate"
           },
           {
            "args": [
             [
              "52"
             ],
             {
              "frame": {
               "duration": 0,
               "redraw": false
              },
              "fromcurrent": true,
              "mode": "immediate",
              "transition": {
               "duration": 0,
               "easing": "linear"
              }
             }
            ],
            "label": "52",
            "method": "animate"
           },
           {
            "args": [
             [
              "53"
             ],
             {
              "frame": {
               "duration": 0,
               "redraw": false
              },
              "fromcurrent": true,
              "mode": "immediate",
              "transition": {
               "duration": 0,
               "easing": "linear"
              }
             }
            ],
            "label": "53",
            "method": "animate"
           },
           {
            "args": [
             [
              "54"
             ],
             {
              "frame": {
               "duration": 0,
               "redraw": false
              },
              "fromcurrent": true,
              "mode": "immediate",
              "transition": {
               "duration": 0,
               "easing": "linear"
              }
             }
            ],
            "label": "54",
            "method": "animate"
           },
           {
            "args": [
             [
              "55"
             ],
             {
              "frame": {
               "duration": 0,
               "redraw": false
              },
              "fromcurrent": true,
              "mode": "immediate",
              "transition": {
               "duration": 0,
               "easing": "linear"
              }
             }
            ],
            "label": "55",
            "method": "animate"
           },
           {
            "args": [
             [
              "56"
             ],
             {
              "frame": {
               "duration": 0,
               "redraw": false
              },
              "fromcurrent": true,
              "mode": "immediate",
              "transition": {
               "duration": 0,
               "easing": "linear"
              }
             }
            ],
            "label": "56",
            "method": "animate"
           },
           {
            "args": [
             [
              "57"
             ],
             {
              "frame": {
               "duration": 0,
               "redraw": false
              },
              "fromcurrent": true,
              "mode": "immediate",
              "transition": {
               "duration": 0,
               "easing": "linear"
              }
             }
            ],
            "label": "57",
            "method": "animate"
           },
           {
            "args": [
             [
              "58"
             ],
             {
              "frame": {
               "duration": 0,
               "redraw": false
              },
              "fromcurrent": true,
              "mode": "immediate",
              "transition": {
               "duration": 0,
               "easing": "linear"
              }
             }
            ],
            "label": "58",
            "method": "animate"
           },
           {
            "args": [
             [
              "59"
             ],
             {
              "frame": {
               "duration": 0,
               "redraw": false
              },
              "fromcurrent": true,
              "mode": "immediate",
              "transition": {
               "duration": 0,
               "easing": "linear"
              }
             }
            ],
            "label": "59",
            "method": "animate"
           },
           {
            "args": [
             [
              "60"
             ],
             {
              "frame": {
               "duration": 0,
               "redraw": false
              },
              "fromcurrent": true,
              "mode": "immediate",
              "transition": {
               "duration": 0,
               "easing": "linear"
              }
             }
            ],
            "label": "60",
            "method": "animate"
           },
           {
            "args": [
             [
              "61"
             ],
             {
              "frame": {
               "duration": 0,
               "redraw": false
              },
              "fromcurrent": true,
              "mode": "immediate",
              "transition": {
               "duration": 0,
               "easing": "linear"
              }
             }
            ],
            "label": "61",
            "method": "animate"
           },
           {
            "args": [
             [
              "62"
             ],
             {
              "frame": {
               "duration": 0,
               "redraw": false
              },
              "fromcurrent": true,
              "mode": "immediate",
              "transition": {
               "duration": 0,
               "easing": "linear"
              }
             }
            ],
            "label": "62",
            "method": "animate"
           },
           {
            "args": [
             [
              "63"
             ],
             {
              "frame": {
               "duration": 0,
               "redraw": false
              },
              "fromcurrent": true,
              "mode": "immediate",
              "transition": {
               "duration": 0,
               "easing": "linear"
              }
             }
            ],
            "label": "63",
            "method": "animate"
           },
           {
            "args": [
             [
              "64"
             ],
             {
              "frame": {
               "duration": 0,
               "redraw": false
              },
              "fromcurrent": true,
              "mode": "immediate",
              "transition": {
               "duration": 0,
               "easing": "linear"
              }
             }
            ],
            "label": "64",
            "method": "animate"
           },
           {
            "args": [
             [
              "65"
             ],
             {
              "frame": {
               "duration": 0,
               "redraw": false
              },
              "fromcurrent": true,
              "mode": "immediate",
              "transition": {
               "duration": 0,
               "easing": "linear"
              }
             }
            ],
            "label": "65",
            "method": "animate"
           },
           {
            "args": [
             [
              "66"
             ],
             {
              "frame": {
               "duration": 0,
               "redraw": false
              },
              "fromcurrent": true,
              "mode": "immediate",
              "transition": {
               "duration": 0,
               "easing": "linear"
              }
             }
            ],
            "label": "66",
            "method": "animate"
           },
           {
            "args": [
             [
              "67"
             ],
             {
              "frame": {
               "duration": 0,
               "redraw": false
              },
              "fromcurrent": true,
              "mode": "immediate",
              "transition": {
               "duration": 0,
               "easing": "linear"
              }
             }
            ],
            "label": "67",
            "method": "animate"
           },
           {
            "args": [
             [
              "68"
             ],
             {
              "frame": {
               "duration": 0,
               "redraw": false
              },
              "fromcurrent": true,
              "mode": "immediate",
              "transition": {
               "duration": 0,
               "easing": "linear"
              }
             }
            ],
            "label": "68",
            "method": "animate"
           },
           {
            "args": [
             [
              "69"
             ],
             {
              "frame": {
               "duration": 0,
               "redraw": false
              },
              "fromcurrent": true,
              "mode": "immediate",
              "transition": {
               "duration": 0,
               "easing": "linear"
              }
             }
            ],
            "label": "69",
            "method": "animate"
           },
           {
            "args": [
             [
              "70"
             ],
             {
              "frame": {
               "duration": 0,
               "redraw": false
              },
              "fromcurrent": true,
              "mode": "immediate",
              "transition": {
               "duration": 0,
               "easing": "linear"
              }
             }
            ],
            "label": "70",
            "method": "animate"
           },
           {
            "args": [
             [
              "71"
             ],
             {
              "frame": {
               "duration": 0,
               "redraw": false
              },
              "fromcurrent": true,
              "mode": "immediate",
              "transition": {
               "duration": 0,
               "easing": "linear"
              }
             }
            ],
            "label": "71",
            "method": "animate"
           },
           {
            "args": [
             [
              "72"
             ],
             {
              "frame": {
               "duration": 0,
               "redraw": false
              },
              "fromcurrent": true,
              "mode": "immediate",
              "transition": {
               "duration": 0,
               "easing": "linear"
              }
             }
            ],
            "label": "72",
            "method": "animate"
           },
           {
            "args": [
             [
              "73"
             ],
             {
              "frame": {
               "duration": 0,
               "redraw": false
              },
              "fromcurrent": true,
              "mode": "immediate",
              "transition": {
               "duration": 0,
               "easing": "linear"
              }
             }
            ],
            "label": "73",
            "method": "animate"
           },
           {
            "args": [
             [
              "74"
             ],
             {
              "frame": {
               "duration": 0,
               "redraw": false
              },
              "fromcurrent": true,
              "mode": "immediate",
              "transition": {
               "duration": 0,
               "easing": "linear"
              }
             }
            ],
            "label": "74",
            "method": "animate"
           },
           {
            "args": [
             [
              "75"
             ],
             {
              "frame": {
               "duration": 0,
               "redraw": false
              },
              "fromcurrent": true,
              "mode": "immediate",
              "transition": {
               "duration": 0,
               "easing": "linear"
              }
             }
            ],
            "label": "75",
            "method": "animate"
           },
           {
            "args": [
             [
              "76"
             ],
             {
              "frame": {
               "duration": 0,
               "redraw": false
              },
              "fromcurrent": true,
              "mode": "immediate",
              "transition": {
               "duration": 0,
               "easing": "linear"
              }
             }
            ],
            "label": "76",
            "method": "animate"
           },
           {
            "args": [
             [
              "77"
             ],
             {
              "frame": {
               "duration": 0,
               "redraw": false
              },
              "fromcurrent": true,
              "mode": "immediate",
              "transition": {
               "duration": 0,
               "easing": "linear"
              }
             }
            ],
            "label": "77",
            "method": "animate"
           },
           {
            "args": [
             [
              "78"
             ],
             {
              "frame": {
               "duration": 0,
               "redraw": false
              },
              "fromcurrent": true,
              "mode": "immediate",
              "transition": {
               "duration": 0,
               "easing": "linear"
              }
             }
            ],
            "label": "78",
            "method": "animate"
           },
           {
            "args": [
             [
              "79"
             ],
             {
              "frame": {
               "duration": 0,
               "redraw": false
              },
              "fromcurrent": true,
              "mode": "immediate",
              "transition": {
               "duration": 0,
               "easing": "linear"
              }
             }
            ],
            "label": "79",
            "method": "animate"
           },
           {
            "args": [
             [
              "80"
             ],
             {
              "frame": {
               "duration": 0,
               "redraw": false
              },
              "fromcurrent": true,
              "mode": "immediate",
              "transition": {
               "duration": 0,
               "easing": "linear"
              }
             }
            ],
            "label": "80",
            "method": "animate"
           },
           {
            "args": [
             [
              "81"
             ],
             {
              "frame": {
               "duration": 0,
               "redraw": false
              },
              "fromcurrent": true,
              "mode": "immediate",
              "transition": {
               "duration": 0,
               "easing": "linear"
              }
             }
            ],
            "label": "81",
            "method": "animate"
           },
           {
            "args": [
             [
              "82"
             ],
             {
              "frame": {
               "duration": 0,
               "redraw": false
              },
              "fromcurrent": true,
              "mode": "immediate",
              "transition": {
               "duration": 0,
               "easing": "linear"
              }
             }
            ],
            "label": "82",
            "method": "animate"
           },
           {
            "args": [
             [
              "83"
             ],
             {
              "frame": {
               "duration": 0,
               "redraw": false
              },
              "fromcurrent": true,
              "mode": "immediate",
              "transition": {
               "duration": 0,
               "easing": "linear"
              }
             }
            ],
            "label": "83",
            "method": "animate"
           },
           {
            "args": [
             [
              "84"
             ],
             {
              "frame": {
               "duration": 0,
               "redraw": false
              },
              "fromcurrent": true,
              "mode": "immediate",
              "transition": {
               "duration": 0,
               "easing": "linear"
              }
             }
            ],
            "label": "84",
            "method": "animate"
           },
           {
            "args": [
             [
              "85"
             ],
             {
              "frame": {
               "duration": 0,
               "redraw": false
              },
              "fromcurrent": true,
              "mode": "immediate",
              "transition": {
               "duration": 0,
               "easing": "linear"
              }
             }
            ],
            "label": "85",
            "method": "animate"
           },
           {
            "args": [
             [
              "86"
             ],
             {
              "frame": {
               "duration": 0,
               "redraw": false
              },
              "fromcurrent": true,
              "mode": "immediate",
              "transition": {
               "duration": 0,
               "easing": "linear"
              }
             }
            ],
            "label": "86",
            "method": "animate"
           },
           {
            "args": [
             [
              "87"
             ],
             {
              "frame": {
               "duration": 0,
               "redraw": false
              },
              "fromcurrent": true,
              "mode": "immediate",
              "transition": {
               "duration": 0,
               "easing": "linear"
              }
             }
            ],
            "label": "87",
            "method": "animate"
           },
           {
            "args": [
             [
              "88"
             ],
             {
              "frame": {
               "duration": 0,
               "redraw": false
              },
              "fromcurrent": true,
              "mode": "immediate",
              "transition": {
               "duration": 0,
               "easing": "linear"
              }
             }
            ],
            "label": "88",
            "method": "animate"
           },
           {
            "args": [
             [
              "89"
             ],
             {
              "frame": {
               "duration": 0,
               "redraw": false
              },
              "fromcurrent": true,
              "mode": "immediate",
              "transition": {
               "duration": 0,
               "easing": "linear"
              }
             }
            ],
            "label": "89",
            "method": "animate"
           },
           {
            "args": [
             [
              "90"
             ],
             {
              "frame": {
               "duration": 0,
               "redraw": false
              },
              "fromcurrent": true,
              "mode": "immediate",
              "transition": {
               "duration": 0,
               "easing": "linear"
              }
             }
            ],
            "label": "90",
            "method": "animate"
           },
           {
            "args": [
             [
              "91"
             ],
             {
              "frame": {
               "duration": 0,
               "redraw": false
              },
              "fromcurrent": true,
              "mode": "immediate",
              "transition": {
               "duration": 0,
               "easing": "linear"
              }
             }
            ],
            "label": "91",
            "method": "animate"
           },
           {
            "args": [
             [
              "92"
             ],
             {
              "frame": {
               "duration": 0,
               "redraw": false
              },
              "fromcurrent": true,
              "mode": "immediate",
              "transition": {
               "duration": 0,
               "easing": "linear"
              }
             }
            ],
            "label": "92",
            "method": "animate"
           },
           {
            "args": [
             [
              "93"
             ],
             {
              "frame": {
               "duration": 0,
               "redraw": false
              },
              "fromcurrent": true,
              "mode": "immediate",
              "transition": {
               "duration": 0,
               "easing": "linear"
              }
             }
            ],
            "label": "93",
            "method": "animate"
           },
           {
            "args": [
             [
              "94"
             ],
             {
              "frame": {
               "duration": 0,
               "redraw": false
              },
              "fromcurrent": true,
              "mode": "immediate",
              "transition": {
               "duration": 0,
               "easing": "linear"
              }
             }
            ],
            "label": "94",
            "method": "animate"
           },
           {
            "args": [
             [
              "95"
             ],
             {
              "frame": {
               "duration": 0,
               "redraw": false
              },
              "fromcurrent": true,
              "mode": "immediate",
              "transition": {
               "duration": 0,
               "easing": "linear"
              }
             }
            ],
            "label": "95",
            "method": "animate"
           },
           {
            "args": [
             [
              "96"
             ],
             {
              "frame": {
               "duration": 0,
               "redraw": false
              },
              "fromcurrent": true,
              "mode": "immediate",
              "transition": {
               "duration": 0,
               "easing": "linear"
              }
             }
            ],
            "label": "96",
            "method": "animate"
           },
           {
            "args": [
             [
              "97"
             ],
             {
              "frame": {
               "duration": 0,
               "redraw": false
              },
              "fromcurrent": true,
              "mode": "immediate",
              "transition": {
               "duration": 0,
               "easing": "linear"
              }
             }
            ],
            "label": "97",
            "method": "animate"
           },
           {
            "args": [
             [
              "98"
             ],
             {
              "frame": {
               "duration": 0,
               "redraw": false
              },
              "fromcurrent": true,
              "mode": "immediate",
              "transition": {
               "duration": 0,
               "easing": "linear"
              }
             }
            ],
            "label": "98",
            "method": "animate"
           },
           {
            "args": [
             [
              "99"
             ],
             {
              "frame": {
               "duration": 0,
               "redraw": false
              },
              "fromcurrent": true,
              "mode": "immediate",
              "transition": {
               "duration": 0,
               "easing": "linear"
              }
             }
            ],
            "label": "99",
            "method": "animate"
           },
           {
            "args": [
             [
              "100"
             ],
             {
              "frame": {
               "duration": 0,
               "redraw": false
              },
              "fromcurrent": true,
              "mode": "immediate",
              "transition": {
               "duration": 0,
               "easing": "linear"
              }
             }
            ],
            "label": "100",
            "method": "animate"
           },
           {
            "args": [
             [
              "101"
             ],
             {
              "frame": {
               "duration": 0,
               "redraw": false
              },
              "fromcurrent": true,
              "mode": "immediate",
              "transition": {
               "duration": 0,
               "easing": "linear"
              }
             }
            ],
            "label": "101",
            "method": "animate"
           },
           {
            "args": [
             [
              "102"
             ],
             {
              "frame": {
               "duration": 0,
               "redraw": false
              },
              "fromcurrent": true,
              "mode": "immediate",
              "transition": {
               "duration": 0,
               "easing": "linear"
              }
             }
            ],
            "label": "102",
            "method": "animate"
           },
           {
            "args": [
             [
              "103"
             ],
             {
              "frame": {
               "duration": 0,
               "redraw": false
              },
              "fromcurrent": true,
              "mode": "immediate",
              "transition": {
               "duration": 0,
               "easing": "linear"
              }
             }
            ],
            "label": "103",
            "method": "animate"
           },
           {
            "args": [
             [
              "104"
             ],
             {
              "frame": {
               "duration": 0,
               "redraw": false
              },
              "fromcurrent": true,
              "mode": "immediate",
              "transition": {
               "duration": 0,
               "easing": "linear"
              }
             }
            ],
            "label": "104",
            "method": "animate"
           },
           {
            "args": [
             [
              "105"
             ],
             {
              "frame": {
               "duration": 0,
               "redraw": false
              },
              "fromcurrent": true,
              "mode": "immediate",
              "transition": {
               "duration": 0,
               "easing": "linear"
              }
             }
            ],
            "label": "105",
            "method": "animate"
           },
           {
            "args": [
             [
              "106"
             ],
             {
              "frame": {
               "duration": 0,
               "redraw": false
              },
              "fromcurrent": true,
              "mode": "immediate",
              "transition": {
               "duration": 0,
               "easing": "linear"
              }
             }
            ],
            "label": "106",
            "method": "animate"
           },
           {
            "args": [
             [
              "107"
             ],
             {
              "frame": {
               "duration": 0,
               "redraw": false
              },
              "fromcurrent": true,
              "mode": "immediate",
              "transition": {
               "duration": 0,
               "easing": "linear"
              }
             }
            ],
            "label": "107",
            "method": "animate"
           },
           {
            "args": [
             [
              "108"
             ],
             {
              "frame": {
               "duration": 0,
               "redraw": false
              },
              "fromcurrent": true,
              "mode": "immediate",
              "transition": {
               "duration": 0,
               "easing": "linear"
              }
             }
            ],
            "label": "108",
            "method": "animate"
           },
           {
            "args": [
             [
              "109"
             ],
             {
              "frame": {
               "duration": 0,
               "redraw": false
              },
              "fromcurrent": true,
              "mode": "immediate",
              "transition": {
               "duration": 0,
               "easing": "linear"
              }
             }
            ],
            "label": "109",
            "method": "animate"
           },
           {
            "args": [
             [
              "110"
             ],
             {
              "frame": {
               "duration": 0,
               "redraw": false
              },
              "fromcurrent": true,
              "mode": "immediate",
              "transition": {
               "duration": 0,
               "easing": "linear"
              }
             }
            ],
            "label": "110",
            "method": "animate"
           },
           {
            "args": [
             [
              "111"
             ],
             {
              "frame": {
               "duration": 0,
               "redraw": false
              },
              "fromcurrent": true,
              "mode": "immediate",
              "transition": {
               "duration": 0,
               "easing": "linear"
              }
             }
            ],
            "label": "111",
            "method": "animate"
           },
           {
            "args": [
             [
              "112"
             ],
             {
              "frame": {
               "duration": 0,
               "redraw": false
              },
              "fromcurrent": true,
              "mode": "immediate",
              "transition": {
               "duration": 0,
               "easing": "linear"
              }
             }
            ],
            "label": "112",
            "method": "animate"
           },
           {
            "args": [
             [
              "113"
             ],
             {
              "frame": {
               "duration": 0,
               "redraw": false
              },
              "fromcurrent": true,
              "mode": "immediate",
              "transition": {
               "duration": 0,
               "easing": "linear"
              }
             }
            ],
            "label": "113",
            "method": "animate"
           },
           {
            "args": [
             [
              "114"
             ],
             {
              "frame": {
               "duration": 0,
               "redraw": false
              },
              "fromcurrent": true,
              "mode": "immediate",
              "transition": {
               "duration": 0,
               "easing": "linear"
              }
             }
            ],
            "label": "114",
            "method": "animate"
           },
           {
            "args": [
             [
              "115"
             ],
             {
              "frame": {
               "duration": 0,
               "redraw": false
              },
              "fromcurrent": true,
              "mode": "immediate",
              "transition": {
               "duration": 0,
               "easing": "linear"
              }
             }
            ],
            "label": "115",
            "method": "animate"
           },
           {
            "args": [
             [
              "116"
             ],
             {
              "frame": {
               "duration": 0,
               "redraw": false
              },
              "fromcurrent": true,
              "mode": "immediate",
              "transition": {
               "duration": 0,
               "easing": "linear"
              }
             }
            ],
            "label": "116",
            "method": "animate"
           },
           {
            "args": [
             [
              "117"
             ],
             {
              "frame": {
               "duration": 0,
               "redraw": false
              },
              "fromcurrent": true,
              "mode": "immediate",
              "transition": {
               "duration": 0,
               "easing": "linear"
              }
             }
            ],
            "label": "117",
            "method": "animate"
           },
           {
            "args": [
             [
              "118"
             ],
             {
              "frame": {
               "duration": 0,
               "redraw": false
              },
              "fromcurrent": true,
              "mode": "immediate",
              "transition": {
               "duration": 0,
               "easing": "linear"
              }
             }
            ],
            "label": "118",
            "method": "animate"
           },
           {
            "args": [
             [
              "119"
             ],
             {
              "frame": {
               "duration": 0,
               "redraw": false
              },
              "fromcurrent": true,
              "mode": "immediate",
              "transition": {
               "duration": 0,
               "easing": "linear"
              }
             }
            ],
            "label": "119",
            "method": "animate"
           },
           {
            "args": [
             [
              "120"
             ],
             {
              "frame": {
               "duration": 0,
               "redraw": false
              },
              "fromcurrent": true,
              "mode": "immediate",
              "transition": {
               "duration": 0,
               "easing": "linear"
              }
             }
            ],
            "label": "120",
            "method": "animate"
           },
           {
            "args": [
             [
              "121"
             ],
             {
              "frame": {
               "duration": 0,
               "redraw": false
              },
              "fromcurrent": true,
              "mode": "immediate",
              "transition": {
               "duration": 0,
               "easing": "linear"
              }
             }
            ],
            "label": "121",
            "method": "animate"
           },
           {
            "args": [
             [
              "122"
             ],
             {
              "frame": {
               "duration": 0,
               "redraw": false
              },
              "fromcurrent": true,
              "mode": "immediate",
              "transition": {
               "duration": 0,
               "easing": "linear"
              }
             }
            ],
            "label": "122",
            "method": "animate"
           },
           {
            "args": [
             [
              "123"
             ],
             {
              "frame": {
               "duration": 0,
               "redraw": false
              },
              "fromcurrent": true,
              "mode": "immediate",
              "transition": {
               "duration": 0,
               "easing": "linear"
              }
             }
            ],
            "label": "123",
            "method": "animate"
           },
           {
            "args": [
             [
              "124"
             ],
             {
              "frame": {
               "duration": 0,
               "redraw": false
              },
              "fromcurrent": true,
              "mode": "immediate",
              "transition": {
               "duration": 0,
               "easing": "linear"
              }
             }
            ],
            "label": "124",
            "method": "animate"
           }
          ],
          "x": 0.1,
          "xanchor": "left",
          "y": 0,
          "yanchor": "top"
         }
        ],
        "template": {
         "data": {
          "bar": [
           {
            "error_x": {
             "color": "#2a3f5f"
            },
            "error_y": {
             "color": "#2a3f5f"
            },
            "marker": {
             "line": {
              "color": "#E5ECF6",
              "width": 0.5
             },
             "pattern": {
              "fillmode": "overlay",
              "size": 10,
              "solidity": 0.2
             }
            },
            "type": "bar"
           }
          ],
          "barpolar": [
           {
            "marker": {
             "line": {
              "color": "#E5ECF6",
              "width": 0.5
             },
             "pattern": {
              "fillmode": "overlay",
              "size": 10,
              "solidity": 0.2
             }
            },
            "type": "barpolar"
           }
          ],
          "carpet": [
           {
            "aaxis": {
             "endlinecolor": "#2a3f5f",
             "gridcolor": "white",
             "linecolor": "white",
             "minorgridcolor": "white",
             "startlinecolor": "#2a3f5f"
            },
            "baxis": {
             "endlinecolor": "#2a3f5f",
             "gridcolor": "white",
             "linecolor": "white",
             "minorgridcolor": "white",
             "startlinecolor": "#2a3f5f"
            },
            "type": "carpet"
           }
          ],
          "choropleth": [
           {
            "colorbar": {
             "outlinewidth": 0,
             "ticks": ""
            },
            "type": "choropleth"
           }
          ],
          "contour": [
           {
            "colorbar": {
             "outlinewidth": 0,
             "ticks": ""
            },
            "colorscale": [
             [
              0,
              "#0d0887"
             ],
             [
              0.1111111111111111,
              "#46039f"
             ],
             [
              0.2222222222222222,
              "#7201a8"
             ],
             [
              0.3333333333333333,
              "#9c179e"
             ],
             [
              0.4444444444444444,
              "#bd3786"
             ],
             [
              0.5555555555555556,
              "#d8576b"
             ],
             [
              0.6666666666666666,
              "#ed7953"
             ],
             [
              0.7777777777777778,
              "#fb9f3a"
             ],
             [
              0.8888888888888888,
              "#fdca26"
             ],
             [
              1,
              "#f0f921"
             ]
            ],
            "type": "contour"
           }
          ],
          "contourcarpet": [
           {
            "colorbar": {
             "outlinewidth": 0,
             "ticks": ""
            },
            "type": "contourcarpet"
           }
          ],
          "heatmap": [
           {
            "colorbar": {
             "outlinewidth": 0,
             "ticks": ""
            },
            "colorscale": [
             [
              0,
              "#0d0887"
             ],
             [
              0.1111111111111111,
              "#46039f"
             ],
             [
              0.2222222222222222,
              "#7201a8"
             ],
             [
              0.3333333333333333,
              "#9c179e"
             ],
             [
              0.4444444444444444,
              "#bd3786"
             ],
             [
              0.5555555555555556,
              "#d8576b"
             ],
             [
              0.6666666666666666,
              "#ed7953"
             ],
             [
              0.7777777777777778,
              "#fb9f3a"
             ],
             [
              0.8888888888888888,
              "#fdca26"
             ],
             [
              1,
              "#f0f921"
             ]
            ],
            "type": "heatmap"
           }
          ],
          "heatmapgl": [
           {
            "colorbar": {
             "outlinewidth": 0,
             "ticks": ""
            },
            "colorscale": [
             [
              0,
              "#0d0887"
             ],
             [
              0.1111111111111111,
              "#46039f"
             ],
             [
              0.2222222222222222,
              "#7201a8"
             ],
             [
              0.3333333333333333,
              "#9c179e"
             ],
             [
              0.4444444444444444,
              "#bd3786"
             ],
             [
              0.5555555555555556,
              "#d8576b"
             ],
             [
              0.6666666666666666,
              "#ed7953"
             ],
             [
              0.7777777777777778,
              "#fb9f3a"
             ],
             [
              0.8888888888888888,
              "#fdca26"
             ],
             [
              1,
              "#f0f921"
             ]
            ],
            "type": "heatmapgl"
           }
          ],
          "histogram": [
           {
            "marker": {
             "pattern": {
              "fillmode": "overlay",
              "size": 10,
              "solidity": 0.2
             }
            },
            "type": "histogram"
           }
          ],
          "histogram2d": [
           {
            "colorbar": {
             "outlinewidth": 0,
             "ticks": ""
            },
            "colorscale": [
             [
              0,
              "#0d0887"
             ],
             [
              0.1111111111111111,
              "#46039f"
             ],
             [
              0.2222222222222222,
              "#7201a8"
             ],
             [
              0.3333333333333333,
              "#9c179e"
             ],
             [
              0.4444444444444444,
              "#bd3786"
             ],
             [
              0.5555555555555556,
              "#d8576b"
             ],
             [
              0.6666666666666666,
              "#ed7953"
             ],
             [
              0.7777777777777778,
              "#fb9f3a"
             ],
             [
              0.8888888888888888,
              "#fdca26"
             ],
             [
              1,
              "#f0f921"
             ]
            ],
            "type": "histogram2d"
           }
          ],
          "histogram2dcontour": [
           {
            "colorbar": {
             "outlinewidth": 0,
             "ticks": ""
            },
            "colorscale": [
             [
              0,
              "#0d0887"
             ],
             [
              0.1111111111111111,
              "#46039f"
             ],
             [
              0.2222222222222222,
              "#7201a8"
             ],
             [
              0.3333333333333333,
              "#9c179e"
             ],
             [
              0.4444444444444444,
              "#bd3786"
             ],
             [
              0.5555555555555556,
              "#d8576b"
             ],
             [
              0.6666666666666666,
              "#ed7953"
             ],
             [
              0.7777777777777778,
              "#fb9f3a"
             ],
             [
              0.8888888888888888,
              "#fdca26"
             ],
             [
              1,
              "#f0f921"
             ]
            ],
            "type": "histogram2dcontour"
           }
          ],
          "mesh3d": [
           {
            "colorbar": {
             "outlinewidth": 0,
             "ticks": ""
            },
            "type": "mesh3d"
           }
          ],
          "parcoords": [
           {
            "line": {
             "colorbar": {
              "outlinewidth": 0,
              "ticks": ""
             }
            },
            "type": "parcoords"
           }
          ],
          "pie": [
           {
            "automargin": true,
            "type": "pie"
           }
          ],
          "scatter": [
           {
            "fillpattern": {
             "fillmode": "overlay",
             "size": 10,
             "solidity": 0.2
            },
            "type": "scatter"
           }
          ],
          "scatter3d": [
           {
            "line": {
             "colorbar": {
              "outlinewidth": 0,
              "ticks": ""
             }
            },
            "marker": {
             "colorbar": {
              "outlinewidth": 0,
              "ticks": ""
             }
            },
            "type": "scatter3d"
           }
          ],
          "scattercarpet": [
           {
            "marker": {
             "colorbar": {
              "outlinewidth": 0,
              "ticks": ""
             }
            },
            "type": "scattercarpet"
           }
          ],
          "scattergeo": [
           {
            "marker": {
             "colorbar": {
              "outlinewidth": 0,
              "ticks": ""
             }
            },
            "type": "scattergeo"
           }
          ],
          "scattergl": [
           {
            "marker": {
             "colorbar": {
              "outlinewidth": 0,
              "ticks": ""
             }
            },
            "type": "scattergl"
           }
          ],
          "scattermapbox": [
           {
            "marker": {
             "colorbar": {
              "outlinewidth": 0,
              "ticks": ""
             }
            },
            "type": "scattermapbox"
           }
          ],
          "scatterpolar": [
           {
            "marker": {
             "colorbar": {
              "outlinewidth": 0,
              "ticks": ""
             }
            },
            "type": "scatterpolar"
           }
          ],
          "scatterpolargl": [
           {
            "marker": {
             "colorbar": {
              "outlinewidth": 0,
              "ticks": ""
             }
            },
            "type": "scatterpolargl"
           }
          ],
          "scatterternary": [
           {
            "marker": {
             "colorbar": {
              "outlinewidth": 0,
              "ticks": ""
             }
            },
            "type": "scatterternary"
           }
          ],
          "surface": [
           {
            "colorbar": {
             "outlinewidth": 0,
             "ticks": ""
            },
            "colorscale": [
             [
              0,
              "#0d0887"
             ],
             [
              0.1111111111111111,
              "#46039f"
             ],
             [
              0.2222222222222222,
              "#7201a8"
             ],
             [
              0.3333333333333333,
              "#9c179e"
             ],
             [
              0.4444444444444444,
              "#bd3786"
             ],
             [
              0.5555555555555556,
              "#d8576b"
             ],
             [
              0.6666666666666666,
              "#ed7953"
             ],
             [
              0.7777777777777778,
              "#fb9f3a"
             ],
             [
              0.8888888888888888,
              "#fdca26"
             ],
             [
              1,
              "#f0f921"
             ]
            ],
            "type": "surface"
           }
          ],
          "table": [
           {
            "cells": {
             "fill": {
              "color": "#EBF0F8"
             },
             "line": {
              "color": "white"
             }
            },
            "header": {
             "fill": {
              "color": "#C8D4E3"
             },
             "line": {
              "color": "white"
             }
            },
            "type": "table"
           }
          ]
         },
         "layout": {
          "annotationdefaults": {
           "arrowcolor": "#2a3f5f",
           "arrowhead": 0,
           "arrowwidth": 1
          },
          "autotypenumbers": "strict",
          "coloraxis": {
           "colorbar": {
            "outlinewidth": 0,
            "ticks": ""
           }
          },
          "colorscale": {
           "diverging": [
            [
             0,
             "#8e0152"
            ],
            [
             0.1,
             "#c51b7d"
            ],
            [
             0.2,
             "#de77ae"
            ],
            [
             0.3,
             "#f1b6da"
            ],
            [
             0.4,
             "#fde0ef"
            ],
            [
             0.5,
             "#f7f7f7"
            ],
            [
             0.6,
             "#e6f5d0"
            ],
            [
             0.7,
             "#b8e186"
            ],
            [
             0.8,
             "#7fbc41"
            ],
            [
             0.9,
             "#4d9221"
            ],
            [
             1,
             "#276419"
            ]
           ],
           "sequential": [
            [
             0,
             "#0d0887"
            ],
            [
             0.1111111111111111,
             "#46039f"
            ],
            [
             0.2222222222222222,
             "#7201a8"
            ],
            [
             0.3333333333333333,
             "#9c179e"
            ],
            [
             0.4444444444444444,
             "#bd3786"
            ],
            [
             0.5555555555555556,
             "#d8576b"
            ],
            [
             0.6666666666666666,
             "#ed7953"
            ],
            [
             0.7777777777777778,
             "#fb9f3a"
            ],
            [
             0.8888888888888888,
             "#fdca26"
            ],
            [
             1,
             "#f0f921"
            ]
           ],
           "sequentialminus": [
            [
             0,
             "#0d0887"
            ],
            [
             0.1111111111111111,
             "#46039f"
            ],
            [
             0.2222222222222222,
             "#7201a8"
            ],
            [
             0.3333333333333333,
             "#9c179e"
            ],
            [
             0.4444444444444444,
             "#bd3786"
            ],
            [
             0.5555555555555556,
             "#d8576b"
            ],
            [
             0.6666666666666666,
             "#ed7953"
            ],
            [
             0.7777777777777778,
             "#fb9f3a"
            ],
            [
             0.8888888888888888,
             "#fdca26"
            ],
            [
             1,
             "#f0f921"
            ]
           ]
          },
          "colorway": [
           "#636efa",
           "#EF553B",
           "#00cc96",
           "#ab63fa",
           "#FFA15A",
           "#19d3f3",
           "#FF6692",
           "#B6E880",
           "#FF97FF",
           "#FECB52"
          ],
          "font": {
           "color": "#2a3f5f"
          },
          "geo": {
           "bgcolor": "white",
           "lakecolor": "white",
           "landcolor": "#E5ECF6",
           "showlakes": true,
           "showland": true,
           "subunitcolor": "white"
          },
          "hoverlabel": {
           "align": "left"
          },
          "hovermode": "closest",
          "mapbox": {
           "style": "light"
          },
          "paper_bgcolor": "white",
          "plot_bgcolor": "#E5ECF6",
          "polar": {
           "angularaxis": {
            "gridcolor": "white",
            "linecolor": "white",
            "ticks": ""
           },
           "bgcolor": "#E5ECF6",
           "radialaxis": {
            "gridcolor": "white",
            "linecolor": "white",
            "ticks": ""
           }
          },
          "scene": {
           "xaxis": {
            "backgroundcolor": "#E5ECF6",
            "gridcolor": "white",
            "gridwidth": 2,
            "linecolor": "white",
            "showbackground": true,
            "ticks": "",
            "zerolinecolor": "white"
           },
           "yaxis": {
            "backgroundcolor": "#E5ECF6",
            "gridcolor": "white",
            "gridwidth": 2,
            "linecolor": "white",
            "showbackground": true,
            "ticks": "",
            "zerolinecolor": "white"
           },
           "zaxis": {
            "backgroundcolor": "#E5ECF6",
            "gridcolor": "white",
            "gridwidth": 2,
            "linecolor": "white",
            "showbackground": true,
            "ticks": "",
            "zerolinecolor": "white"
           }
          },
          "shapedefaults": {
           "line": {
            "color": "#2a3f5f"
           }
          },
          "ternary": {
           "aaxis": {
            "gridcolor": "white",
            "linecolor": "white",
            "ticks": ""
           },
           "baxis": {
            "gridcolor": "white",
            "linecolor": "white",
            "ticks": ""
           },
           "bgcolor": "#E5ECF6",
           "caxis": {
            "gridcolor": "white",
            "linecolor": "white",
            "ticks": ""
           }
          },
          "title": {
           "x": 0.05
          },
          "xaxis": {
           "automargin": true,
           "gridcolor": "white",
           "linecolor": "white",
           "ticks": "",
           "title": {
            "standoff": 15
           },
           "zerolinecolor": "white",
           "zerolinewidth": 2
          },
          "yaxis": {
           "automargin": true,
           "gridcolor": "white",
           "linecolor": "white",
           "ticks": "",
           "title": {
            "standoff": 15
           },
           "zerolinecolor": "white",
           "zerolinewidth": 2
          }
         }
        },
        "title": {
         "text": "Tracking Data"
        },
        "updatemenus": [
         {
          "buttons": [
           {
            "args": [
             null,
             {
              "frame": {
               "duration": 500,
               "redraw": false
              },
              "fromcurrent": true,
              "mode": "immediate",
              "transition": {
               "duration": 500,
               "easing": "linear"
              }
             }
            ],
            "label": "&#9654;",
            "method": "animate"
           },
           {
            "args": [
             [
              null
             ],
             {
              "frame": {
               "duration": 0,
               "redraw": false
              },
              "fromcurrent": true,
              "mode": "immediate",
              "transition": {
               "duration": 0,
               "easing": "linear"
              }
             }
            ],
            "label": "&#9724;",
            "method": "animate"
           }
          ],
          "direction": "left",
          "pad": {
           "r": 10,
           "t": 70
          },
          "showactive": false,
          "type": "buttons",
          "x": 0.1,
          "xanchor": "right",
          "y": 0,
          "yanchor": "top"
         }
        ],
        "width": 800,
        "xaxis": {
         "anchor": "y",
         "domain": [
          0,
          1
         ],
         "range": [
          0,
          120
         ],
         "showgrid": false,
         "title": {
          "text": "x"
         }
        },
        "yaxis": {
         "anchor": "x",
         "domain": [
          0,
          1
         ],
         "range": [
          0,
          53.3
         ],
         "showgrid": false,
         "title": {
          "text": "y"
         }
        }
       }
      }
     },
     "metadata": {},
     "output_type": "display_data"
    }
   ],
   "source": [
    "#fig.show()\n"
   ]
  },
  {
   "cell_type": "code",
   "execution_count": null,
   "metadata": {},
   "outputs": [],
   "source": [
    "ManMotion = pd"
   ]
  },
  {
   "cell_type": "markdown",
   "metadata": {},
   "source": [
    "PlayId -> Team possession \n",
    "TrackingWeek -> man in motion\n"
   ]
  },
  {
   "cell_type": "code",
   "execution_count": 118,
   "metadata": {},
   "outputs": [],
   "source": [
    "ManMotion = pd.merge(players, Week1Track, on = 'nflId', how = 'right' )\n",
    "ManMotionDrop = ManMotion.drop(['height', 'weight', 'birthDate', 'collegeName', 'playDirection', 'club', 'displayName_x', 'displayName_y', 'jerseyNumber'], axis = 1)\n",
    "ManMotionDrop1 = ManMotionDrop[ManMotionDrop['position'].isin(['RB','WR','TE']) & (ManMotionDrop['event'] == 'man_in_motion') & (ManMotionDrop['a'] > .50)]\n"
   ]
  },
  {
   "cell_type": "code",
   "execution_count": null,
   "metadata": {},
   "outputs": [],
   "source": [
    "time1 = ManMotionDrop1."
   ]
  },
  {
   "cell_type": "code",
   "execution_count": 119,
   "metadata": {},
   "outputs": [
    {
     "data": {
      "text/html": [
       "<div>\n",
       "<style scoped>\n",
       "    .dataframe tbody tr th:only-of-type {\n",
       "        vertical-align: middle;\n",
       "    }\n",
       "\n",
       "    .dataframe tbody tr th {\n",
       "        vertical-align: top;\n",
       "    }\n",
       "\n",
       "    .dataframe thead th {\n",
       "        text-align: right;\n",
       "    }\n",
       "</style>\n",
       "<table border=\"1\" class=\"dataframe\">\n",
       "  <thead>\n",
       "    <tr style=\"text-align: right;\">\n",
       "      <th></th>\n",
       "      <th>nflId</th>\n",
       "      <th>position</th>\n",
       "      <th>gameId</th>\n",
       "      <th>playId</th>\n",
       "      <th>frameId</th>\n",
       "      <th>frameType</th>\n",
       "      <th>time</th>\n",
       "      <th>x</th>\n",
       "      <th>y</th>\n",
       "      <th>s</th>\n",
       "      <th>a</th>\n",
       "      <th>dis</th>\n",
       "      <th>o</th>\n",
       "      <th>dir</th>\n",
       "      <th>event</th>\n",
       "    </tr>\n",
       "  </thead>\n",
       "  <tbody>\n",
       "    <tr>\n",
       "      <th>879</th>\n",
       "      <td>42412.0</td>\n",
       "      <td>WR</td>\n",
       "      <td>2022091200</td>\n",
       "      <td>64</td>\n",
       "      <td>65</td>\n",
       "      <td>BEFORE_SNAP</td>\n",
       "      <td>2022-09-13 00:16:09.9</td>\n",
       "      <td>39.19</td>\n",
       "      <td>14.36</td>\n",
       "      <td>0.08</td>\n",
       "      <td>0.25</td>\n",
       "      <td>0.01</td>\n",
       "      <td>73.66</td>\n",
       "      <td>357.27</td>\n",
       "      <td>man_in_motion</td>\n",
       "    </tr>\n",
       "    <tr>\n",
       "      <th>2020</th>\n",
       "      <td>46096.0</td>\n",
       "      <td>RB</td>\n",
       "      <td>2022091200</td>\n",
       "      <td>64</td>\n",
       "      <td>65</td>\n",
       "      <td>BEFORE_SNAP</td>\n",
       "      <td>2022-09-13 00:16:09.9</td>\n",
       "      <td>32.06</td>\n",
       "      <td>23.94</td>\n",
       "      <td>0.03</td>\n",
       "      <td>0.09</td>\n",
       "      <td>0.00</td>\n",
       "      <td>85.31</td>\n",
       "      <td>219.67</td>\n",
       "      <td>man_in_motion</td>\n",
       "    </tr>\n",
       "    <tr>\n",
       "      <th>2183</th>\n",
       "      <td>46189.0</td>\n",
       "      <td>TE</td>\n",
       "      <td>2022091200</td>\n",
       "      <td>64</td>\n",
       "      <td>65</td>\n",
       "      <td>BEFORE_SNAP</td>\n",
       "      <td>2022-09-13 00:16:09.9</td>\n",
       "      <td>34.89</td>\n",
       "      <td>26.26</td>\n",
       "      <td>0.93</td>\n",
       "      <td>1.71</td>\n",
       "      <td>0.09</td>\n",
       "      <td>109.09</td>\n",
       "      <td>157.13</td>\n",
       "      <td>man_in_motion</td>\n",
       "    </tr>\n",
       "    <tr>\n",
       "      <th>2346</th>\n",
       "      <td>47803.0</td>\n",
       "      <td>TE</td>\n",
       "      <td>2022091200</td>\n",
       "      <td>64</td>\n",
       "      <td>65</td>\n",
       "      <td>BEFORE_SNAP</td>\n",
       "      <td>2022-09-13 00:16:09.9</td>\n",
       "      <td>37.58</td>\n",
       "      <td>28.50</td>\n",
       "      <td>0.08</td>\n",
       "      <td>0.17</td>\n",
       "      <td>0.01</td>\n",
       "      <td>73.53</td>\n",
       "      <td>216.67</td>\n",
       "      <td>man_in_motion</td>\n",
       "    </tr>\n",
       "    <tr>\n",
       "      <th>2509</th>\n",
       "      <td>47847.0</td>\n",
       "      <td>WR</td>\n",
       "      <td>2022091200</td>\n",
       "      <td>64</td>\n",
       "      <td>65</td>\n",
       "      <td>BEFORE_SNAP</td>\n",
       "      <td>2022-09-13 00:16:09.9</td>\n",
       "      <td>38.55</td>\n",
       "      <td>33.37</td>\n",
       "      <td>0.05</td>\n",
       "      <td>0.10</td>\n",
       "      <td>0.01</td>\n",
       "      <td>94.13</td>\n",
       "      <td>68.88</td>\n",
       "      <td>man_in_motion</td>\n",
       "    </tr>\n",
       "    <tr>\n",
       "      <th>...</th>\n",
       "      <td>...</td>\n",
       "      <td>...</td>\n",
       "      <td>...</td>\n",
       "      <td>...</td>\n",
       "      <td>...</td>\n",
       "      <td>...</td>\n",
       "      <td>...</td>\n",
       "      <td>...</td>\n",
       "      <td>...</td>\n",
       "      <td>...</td>\n",
       "      <td>...</td>\n",
       "      <td>...</td>\n",
       "      <td>...</td>\n",
       "      <td>...</td>\n",
       "      <td>...</td>\n",
       "    </tr>\n",
       "    <tr>\n",
       "      <th>7070667</th>\n",
       "      <td>52536.0</td>\n",
       "      <td>WR</td>\n",
       "      <td>2022090800</td>\n",
       "      <td>3304</td>\n",
       "      <td>80</td>\n",
       "      <td>BEFORE_SNAP</td>\n",
       "      <td>2022-09-09 02:53:27.3</td>\n",
       "      <td>88.99</td>\n",
       "      <td>45.04</td>\n",
       "      <td>0.12</td>\n",
       "      <td>0.06</td>\n",
       "      <td>0.02</td>\n",
       "      <td>88.66</td>\n",
       "      <td>350.90</td>\n",
       "      <td>man_in_motion</td>\n",
       "    </tr>\n",
       "    <tr>\n",
       "      <th>7094658</th>\n",
       "      <td>43399.0</td>\n",
       "      <td>TE</td>\n",
       "      <td>2022090800</td>\n",
       "      <td>3636</td>\n",
       "      <td>93</td>\n",
       "      <td>BEFORE_SNAP</td>\n",
       "      <td>2022-09-09 03:05:23.2</td>\n",
       "      <td>28.99</td>\n",
       "      <td>19.31</td>\n",
       "      <td>0.01</td>\n",
       "      <td>0.02</td>\n",
       "      <td>0.02</td>\n",
       "      <td>319.43</td>\n",
       "      <td>58.77</td>\n",
       "      <td>man_in_motion</td>\n",
       "    </tr>\n",
       "    <tr>\n",
       "      <th>7094794</th>\n",
       "      <td>44881.0</td>\n",
       "      <td>WR</td>\n",
       "      <td>2022090800</td>\n",
       "      <td>3636</td>\n",
       "      <td>93</td>\n",
       "      <td>BEFORE_SNAP</td>\n",
       "      <td>2022-09-09 03:05:23.2</td>\n",
       "      <td>29.97</td>\n",
       "      <td>28.92</td>\n",
       "      <td>0.08</td>\n",
       "      <td>0.04</td>\n",
       "      <td>0.02</td>\n",
       "      <td>266.80</td>\n",
       "      <td>187.79</td>\n",
       "      <td>man_in_motion</td>\n",
       "    </tr>\n",
       "    <tr>\n",
       "      <th>7096426</th>\n",
       "      <td>53678.0</td>\n",
       "      <td>WR</td>\n",
       "      <td>2022090800</td>\n",
       "      <td>3636</td>\n",
       "      <td>93</td>\n",
       "      <td>BEFORE_SNAP</td>\n",
       "      <td>2022-09-09 03:05:23.2</td>\n",
       "      <td>30.51</td>\n",
       "      <td>14.88</td>\n",
       "      <td>2.15</td>\n",
       "      <td>5.16</td>\n",
       "      <td>0.22</td>\n",
       "      <td>278.08</td>\n",
       "      <td>28.22</td>\n",
       "      <td>man_in_motion</td>\n",
       "    </tr>\n",
       "    <tr>\n",
       "      <th>7097523</th>\n",
       "      <td>43399.0</td>\n",
       "      <td>TE</td>\n",
       "      <td>2022090800</td>\n",
       "      <td>3674</td>\n",
       "      <td>98</td>\n",
       "      <td>BEFORE_SNAP</td>\n",
       "      <td>2022-09-09 03:06:45.1</td>\n",
       "      <td>29.00</td>\n",
       "      <td>26.62</td>\n",
       "      <td>2.89</td>\n",
       "      <td>1.96</td>\n",
       "      <td>0.28</td>\n",
       "      <td>300.93</td>\n",
       "      <td>13.69</td>\n",
       "      <td>man_in_motion</td>\n",
       "    </tr>\n",
       "  </tbody>\n",
       "</table>\n",
       "<p>2275 rows × 15 columns</p>\n",
       "</div>"
      ],
      "text/plain": [
       "           nflId position      gameId  playId  frameId    frameType  \\\n",
       "879      42412.0       WR  2022091200      64       65  BEFORE_SNAP   \n",
       "2020     46096.0       RB  2022091200      64       65  BEFORE_SNAP   \n",
       "2183     46189.0       TE  2022091200      64       65  BEFORE_SNAP   \n",
       "2346     47803.0       TE  2022091200      64       65  BEFORE_SNAP   \n",
       "2509     47847.0       WR  2022091200      64       65  BEFORE_SNAP   \n",
       "...          ...      ...         ...     ...      ...          ...   \n",
       "7070667  52536.0       WR  2022090800    3304       80  BEFORE_SNAP   \n",
       "7094658  43399.0       TE  2022090800    3636       93  BEFORE_SNAP   \n",
       "7094794  44881.0       WR  2022090800    3636       93  BEFORE_SNAP   \n",
       "7096426  53678.0       WR  2022090800    3636       93  BEFORE_SNAP   \n",
       "7097523  43399.0       TE  2022090800    3674       98  BEFORE_SNAP   \n",
       "\n",
       "                          time      x      y     s     a   dis       o  \\\n",
       "879      2022-09-13 00:16:09.9  39.19  14.36  0.08  0.25  0.01   73.66   \n",
       "2020     2022-09-13 00:16:09.9  32.06  23.94  0.03  0.09  0.00   85.31   \n",
       "2183     2022-09-13 00:16:09.9  34.89  26.26  0.93  1.71  0.09  109.09   \n",
       "2346     2022-09-13 00:16:09.9  37.58  28.50  0.08  0.17  0.01   73.53   \n",
       "2509     2022-09-13 00:16:09.9  38.55  33.37  0.05  0.10  0.01   94.13   \n",
       "...                        ...    ...    ...   ...   ...   ...     ...   \n",
       "7070667  2022-09-09 02:53:27.3  88.99  45.04  0.12  0.06  0.02   88.66   \n",
       "7094658  2022-09-09 03:05:23.2  28.99  19.31  0.01  0.02  0.02  319.43   \n",
       "7094794  2022-09-09 03:05:23.2  29.97  28.92  0.08  0.04  0.02  266.80   \n",
       "7096426  2022-09-09 03:05:23.2  30.51  14.88  2.15  5.16  0.22  278.08   \n",
       "7097523  2022-09-09 03:06:45.1  29.00  26.62  2.89  1.96  0.28  300.93   \n",
       "\n",
       "            dir          event  \n",
       "879      357.27  man_in_motion  \n",
       "2020     219.67  man_in_motion  \n",
       "2183     157.13  man_in_motion  \n",
       "2346     216.67  man_in_motion  \n",
       "2509      68.88  man_in_motion  \n",
       "...         ...            ...  \n",
       "7070667  350.90  man_in_motion  \n",
       "7094658   58.77  man_in_motion  \n",
       "7094794  187.79  man_in_motion  \n",
       "7096426   28.22  man_in_motion  \n",
       "7097523   13.69  man_in_motion  \n",
       "\n",
       "[2275 rows x 15 columns]"
      ]
     },
     "execution_count": 119,
     "metadata": {},
     "output_type": "execute_result"
    }
   ],
   "source": [
    "ManMotionDrop1"
   ]
  }
 ],
 "metadata": {
  "kernelspec": {
   "display_name": "Python 3",
   "language": "python",
   "name": "python3"
  },
  "language_info": {
   "codemirror_mode": {
    "name": "ipython",
    "version": 3
   },
   "file_extension": ".py",
   "mimetype": "text/x-python",
   "name": "python",
   "nbconvert_exporter": "python",
   "pygments_lexer": "ipython3",
   "version": "3.10.4"
  }
 },
 "nbformat": 4,
 "nbformat_minor": 2
}
