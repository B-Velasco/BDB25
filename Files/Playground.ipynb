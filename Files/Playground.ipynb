{
 "cells": [
  {
   "cell_type": "code",
   "execution_count": 1,
   "metadata": {},
   "outputs": [],
   "source": [
    "import os\n",
    "import random\n",
    "import numpy as np\n",
    "import pandas as pd\n",
    "import matplotlib.pyplot as plt\n",
    "import datetime as dt\n",
    "import plotly.express as px\n",
    "import plotly.graph_objects as go\n",
    "from plotly_gif import GIF, two_d_time_series\n",
    "\n"
   ]
  },
  {
   "cell_type": "markdown",
   "metadata": {},
   "source": [
    "## Goals\n",
    "-Visualize players on a field\n",
    "-Allow ability to watch full plays\n",
    "-Decorate field to be visually \"okay\"\n",
    "\n",
    "\n",
    "-set up github repo\n",
    "\n",
    "\n",
    "-hover data to show route player running\n",
    "-track ball path\n",
    "-defense scheme read\n",
    "-Play outcome on bottom of screen\n",
    "-display event \n",
    "\n",
    "\n",
    "-flip play direction? optional?\n",
    "-scale field to maximum distance of field covered?\n",
    "\n",
    "\n",
    "-Using events to define line set to snap to define presnap movement or audibles?\n",
    "-WRs routeRan (how to display? low opactiy of x-y max overlayed animation?)\n"
   ]
  },
  {
   "cell_type": "code",
   "execution_count": 2,
   "metadata": {},
   "outputs": [
    {
     "ename": "FileNotFoundError",
     "evalue": "[Errno 2] No such file or directory: 'Data/games.csv'",
     "output_type": "error",
     "traceback": [
      "\u001b[1;31m---------------------------------------------------------------------------\u001b[0m",
      "\u001b[1;31mFileNotFoundError\u001b[0m                         Traceback (most recent call last)",
      "Input \u001b[1;32mIn [2]\u001b[0m, in \u001b[0;36m<cell line: 1>\u001b[1;34m()\u001b[0m\n\u001b[1;32m----> 1\u001b[0m games \u001b[38;5;241m=\u001b[39m \u001b[43mpd\u001b[49m\u001b[38;5;241;43m.\u001b[39;49m\u001b[43mread_csv\u001b[49m\u001b[43m(\u001b[49m\u001b[38;5;124;43m'\u001b[39;49m\u001b[38;5;124;43mData/games.csv\u001b[39;49m\u001b[38;5;124;43m'\u001b[39;49m\u001b[43m)\u001b[49m\n\u001b[0;32m      2\u001b[0m plays \u001b[38;5;241m=\u001b[39m pd\u001b[38;5;241m.\u001b[39mread_csv(\u001b[38;5;124m'\u001b[39m\u001b[38;5;124mData/plays.csv\u001b[39m\u001b[38;5;124m'\u001b[39m)\n\u001b[0;32m      3\u001b[0m players \u001b[38;5;241m=\u001b[39m pd\u001b[38;5;241m.\u001b[39mread_csv(\u001b[38;5;124m'\u001b[39m\u001b[38;5;124mData/players.csv\u001b[39m\u001b[38;5;124m'\u001b[39m)\n",
      "File \u001b[1;32mc:\\Users\\pablo\\AppData\\Local\\Programs\\Python\\Python310\\lib\\site-packages\\pandas\\util\\_decorators.py:211\u001b[0m, in \u001b[0;36mdeprecate_kwarg.<locals>._deprecate_kwarg.<locals>.wrapper\u001b[1;34m(*args, **kwargs)\u001b[0m\n\u001b[0;32m    209\u001b[0m     \u001b[38;5;28;01melse\u001b[39;00m:\n\u001b[0;32m    210\u001b[0m         kwargs[new_arg_name] \u001b[38;5;241m=\u001b[39m new_arg_value\n\u001b[1;32m--> 211\u001b[0m \u001b[38;5;28;01mreturn\u001b[39;00m func(\u001b[38;5;241m*\u001b[39margs, \u001b[38;5;241m*\u001b[39m\u001b[38;5;241m*\u001b[39mkwargs)\n",
      "File \u001b[1;32mc:\\Users\\pablo\\AppData\\Local\\Programs\\Python\\Python310\\lib\\site-packages\\pandas\\util\\_decorators.py:331\u001b[0m, in \u001b[0;36mdeprecate_nonkeyword_arguments.<locals>.decorate.<locals>.wrapper\u001b[1;34m(*args, **kwargs)\u001b[0m\n\u001b[0;32m    325\u001b[0m \u001b[38;5;28;01mif\u001b[39;00m \u001b[38;5;28mlen\u001b[39m(args) \u001b[38;5;241m>\u001b[39m num_allow_args:\n\u001b[0;32m    326\u001b[0m     warnings\u001b[38;5;241m.\u001b[39mwarn(\n\u001b[0;32m    327\u001b[0m         msg\u001b[38;5;241m.\u001b[39mformat(arguments\u001b[38;5;241m=\u001b[39m_format_argument_list(allow_args)),\n\u001b[0;32m    328\u001b[0m         \u001b[38;5;167;01mFutureWarning\u001b[39;00m,\n\u001b[0;32m    329\u001b[0m         stacklevel\u001b[38;5;241m=\u001b[39mfind_stack_level(),\n\u001b[0;32m    330\u001b[0m     )\n\u001b[1;32m--> 331\u001b[0m \u001b[38;5;28;01mreturn\u001b[39;00m func(\u001b[38;5;241m*\u001b[39margs, \u001b[38;5;241m*\u001b[39m\u001b[38;5;241m*\u001b[39mkwargs)\n",
      "File \u001b[1;32mc:\\Users\\pablo\\AppData\\Local\\Programs\\Python\\Python310\\lib\\site-packages\\pandas\\io\\parsers\\readers.py:950\u001b[0m, in \u001b[0;36mread_csv\u001b[1;34m(filepath_or_buffer, sep, delimiter, header, names, index_col, usecols, squeeze, prefix, mangle_dupe_cols, dtype, engine, converters, true_values, false_values, skipinitialspace, skiprows, skipfooter, nrows, na_values, keep_default_na, na_filter, verbose, skip_blank_lines, parse_dates, infer_datetime_format, keep_date_col, date_parser, dayfirst, cache_dates, iterator, chunksize, compression, thousands, decimal, lineterminator, quotechar, quoting, doublequote, escapechar, comment, encoding, encoding_errors, dialect, error_bad_lines, warn_bad_lines, on_bad_lines, delim_whitespace, low_memory, memory_map, float_precision, storage_options)\u001b[0m\n\u001b[0;32m    935\u001b[0m kwds_defaults \u001b[38;5;241m=\u001b[39m _refine_defaults_read(\n\u001b[0;32m    936\u001b[0m     dialect,\n\u001b[0;32m    937\u001b[0m     delimiter,\n\u001b[1;32m   (...)\u001b[0m\n\u001b[0;32m    946\u001b[0m     defaults\u001b[38;5;241m=\u001b[39m{\u001b[38;5;124m\"\u001b[39m\u001b[38;5;124mdelimiter\u001b[39m\u001b[38;5;124m\"\u001b[39m: \u001b[38;5;124m\"\u001b[39m\u001b[38;5;124m,\u001b[39m\u001b[38;5;124m\"\u001b[39m},\n\u001b[0;32m    947\u001b[0m )\n\u001b[0;32m    948\u001b[0m kwds\u001b[38;5;241m.\u001b[39mupdate(kwds_defaults)\n\u001b[1;32m--> 950\u001b[0m \u001b[38;5;28;01mreturn\u001b[39;00m \u001b[43m_read\u001b[49m\u001b[43m(\u001b[49m\u001b[43mfilepath_or_buffer\u001b[49m\u001b[43m,\u001b[49m\u001b[43m \u001b[49m\u001b[43mkwds\u001b[49m\u001b[43m)\u001b[49m\n",
      "File \u001b[1;32mc:\\Users\\pablo\\AppData\\Local\\Programs\\Python\\Python310\\lib\\site-packages\\pandas\\io\\parsers\\readers.py:605\u001b[0m, in \u001b[0;36m_read\u001b[1;34m(filepath_or_buffer, kwds)\u001b[0m\n\u001b[0;32m    602\u001b[0m _validate_names(kwds\u001b[38;5;241m.\u001b[39mget(\u001b[38;5;124m\"\u001b[39m\u001b[38;5;124mnames\u001b[39m\u001b[38;5;124m\"\u001b[39m, \u001b[38;5;28;01mNone\u001b[39;00m))\n\u001b[0;32m    604\u001b[0m \u001b[38;5;66;03m# Create the parser.\u001b[39;00m\n\u001b[1;32m--> 605\u001b[0m parser \u001b[38;5;241m=\u001b[39m TextFileReader(filepath_or_buffer, \u001b[38;5;241m*\u001b[39m\u001b[38;5;241m*\u001b[39mkwds)\n\u001b[0;32m    607\u001b[0m \u001b[38;5;28;01mif\u001b[39;00m chunksize \u001b[38;5;129;01mor\u001b[39;00m iterator:\n\u001b[0;32m    608\u001b[0m     \u001b[38;5;28;01mreturn\u001b[39;00m parser\n",
      "File \u001b[1;32mc:\\Users\\pablo\\AppData\\Local\\Programs\\Python\\Python310\\lib\\site-packages\\pandas\\io\\parsers\\readers.py:1442\u001b[0m, in \u001b[0;36mTextFileReader.__init__\u001b[1;34m(self, f, engine, **kwds)\u001b[0m\n\u001b[0;32m   1439\u001b[0m     \u001b[38;5;28mself\u001b[39m\u001b[38;5;241m.\u001b[39moptions[\u001b[38;5;124m\"\u001b[39m\u001b[38;5;124mhas_index_names\u001b[39m\u001b[38;5;124m\"\u001b[39m] \u001b[38;5;241m=\u001b[39m kwds[\u001b[38;5;124m\"\u001b[39m\u001b[38;5;124mhas_index_names\u001b[39m\u001b[38;5;124m\"\u001b[39m]\n\u001b[0;32m   1441\u001b[0m \u001b[38;5;28mself\u001b[39m\u001b[38;5;241m.\u001b[39mhandles: IOHandles \u001b[38;5;241m|\u001b[39m \u001b[38;5;28;01mNone\u001b[39;00m \u001b[38;5;241m=\u001b[39m \u001b[38;5;28;01mNone\u001b[39;00m\n\u001b[1;32m-> 1442\u001b[0m \u001b[38;5;28mself\u001b[39m\u001b[38;5;241m.\u001b[39m_engine \u001b[38;5;241m=\u001b[39m \u001b[38;5;28;43mself\u001b[39;49m\u001b[38;5;241;43m.\u001b[39;49m\u001b[43m_make_engine\u001b[49m\u001b[43m(\u001b[49m\u001b[43mf\u001b[49m\u001b[43m,\u001b[49m\u001b[43m \u001b[49m\u001b[38;5;28;43mself\u001b[39;49m\u001b[38;5;241;43m.\u001b[39;49m\u001b[43mengine\u001b[49m\u001b[43m)\u001b[49m\n",
      "File \u001b[1;32mc:\\Users\\pablo\\AppData\\Local\\Programs\\Python\\Python310\\lib\\site-packages\\pandas\\io\\parsers\\readers.py:1735\u001b[0m, in \u001b[0;36mTextFileReader._make_engine\u001b[1;34m(self, f, engine)\u001b[0m\n\u001b[0;32m   1733\u001b[0m     \u001b[38;5;28;01mif\u001b[39;00m \u001b[38;5;124m\"\u001b[39m\u001b[38;5;124mb\u001b[39m\u001b[38;5;124m\"\u001b[39m \u001b[38;5;129;01mnot\u001b[39;00m \u001b[38;5;129;01min\u001b[39;00m mode:\n\u001b[0;32m   1734\u001b[0m         mode \u001b[38;5;241m+\u001b[39m\u001b[38;5;241m=\u001b[39m \u001b[38;5;124m\"\u001b[39m\u001b[38;5;124mb\u001b[39m\u001b[38;5;124m\"\u001b[39m\n\u001b[1;32m-> 1735\u001b[0m \u001b[38;5;28mself\u001b[39m\u001b[38;5;241m.\u001b[39mhandles \u001b[38;5;241m=\u001b[39m \u001b[43mget_handle\u001b[49m\u001b[43m(\u001b[49m\n\u001b[0;32m   1736\u001b[0m \u001b[43m    \u001b[49m\u001b[43mf\u001b[49m\u001b[43m,\u001b[49m\n\u001b[0;32m   1737\u001b[0m \u001b[43m    \u001b[49m\u001b[43mmode\u001b[49m\u001b[43m,\u001b[49m\n\u001b[0;32m   1738\u001b[0m \u001b[43m    \u001b[49m\u001b[43mencoding\u001b[49m\u001b[38;5;241;43m=\u001b[39;49m\u001b[38;5;28;43mself\u001b[39;49m\u001b[38;5;241;43m.\u001b[39;49m\u001b[43moptions\u001b[49m\u001b[38;5;241;43m.\u001b[39;49m\u001b[43mget\u001b[49m\u001b[43m(\u001b[49m\u001b[38;5;124;43m\"\u001b[39;49m\u001b[38;5;124;43mencoding\u001b[39;49m\u001b[38;5;124;43m\"\u001b[39;49m\u001b[43m,\u001b[49m\u001b[43m \u001b[49m\u001b[38;5;28;43;01mNone\u001b[39;49;00m\u001b[43m)\u001b[49m\u001b[43m,\u001b[49m\n\u001b[0;32m   1739\u001b[0m \u001b[43m    \u001b[49m\u001b[43mcompression\u001b[49m\u001b[38;5;241;43m=\u001b[39;49m\u001b[38;5;28;43mself\u001b[39;49m\u001b[38;5;241;43m.\u001b[39;49m\u001b[43moptions\u001b[49m\u001b[38;5;241;43m.\u001b[39;49m\u001b[43mget\u001b[49m\u001b[43m(\u001b[49m\u001b[38;5;124;43m\"\u001b[39;49m\u001b[38;5;124;43mcompression\u001b[39;49m\u001b[38;5;124;43m\"\u001b[39;49m\u001b[43m,\u001b[49m\u001b[43m \u001b[49m\u001b[38;5;28;43;01mNone\u001b[39;49;00m\u001b[43m)\u001b[49m\u001b[43m,\u001b[49m\n\u001b[0;32m   1740\u001b[0m \u001b[43m    \u001b[49m\u001b[43mmemory_map\u001b[49m\u001b[38;5;241;43m=\u001b[39;49m\u001b[38;5;28;43mself\u001b[39;49m\u001b[38;5;241;43m.\u001b[39;49m\u001b[43moptions\u001b[49m\u001b[38;5;241;43m.\u001b[39;49m\u001b[43mget\u001b[49m\u001b[43m(\u001b[49m\u001b[38;5;124;43m\"\u001b[39;49m\u001b[38;5;124;43mmemory_map\u001b[39;49m\u001b[38;5;124;43m\"\u001b[39;49m\u001b[43m,\u001b[49m\u001b[43m \u001b[49m\u001b[38;5;28;43;01mFalse\u001b[39;49;00m\u001b[43m)\u001b[49m\u001b[43m,\u001b[49m\n\u001b[0;32m   1741\u001b[0m \u001b[43m    \u001b[49m\u001b[43mis_text\u001b[49m\u001b[38;5;241;43m=\u001b[39;49m\u001b[43mis_text\u001b[49m\u001b[43m,\u001b[49m\n\u001b[0;32m   1742\u001b[0m \u001b[43m    \u001b[49m\u001b[43merrors\u001b[49m\u001b[38;5;241;43m=\u001b[39;49m\u001b[38;5;28;43mself\u001b[39;49m\u001b[38;5;241;43m.\u001b[39;49m\u001b[43moptions\u001b[49m\u001b[38;5;241;43m.\u001b[39;49m\u001b[43mget\u001b[49m\u001b[43m(\u001b[49m\u001b[38;5;124;43m\"\u001b[39;49m\u001b[38;5;124;43mencoding_errors\u001b[39;49m\u001b[38;5;124;43m\"\u001b[39;49m\u001b[43m,\u001b[49m\u001b[43m \u001b[49m\u001b[38;5;124;43m\"\u001b[39;49m\u001b[38;5;124;43mstrict\u001b[39;49m\u001b[38;5;124;43m\"\u001b[39;49m\u001b[43m)\u001b[49m\u001b[43m,\u001b[49m\n\u001b[0;32m   1743\u001b[0m \u001b[43m    \u001b[49m\u001b[43mstorage_options\u001b[49m\u001b[38;5;241;43m=\u001b[39;49m\u001b[38;5;28;43mself\u001b[39;49m\u001b[38;5;241;43m.\u001b[39;49m\u001b[43moptions\u001b[49m\u001b[38;5;241;43m.\u001b[39;49m\u001b[43mget\u001b[49m\u001b[43m(\u001b[49m\u001b[38;5;124;43m\"\u001b[39;49m\u001b[38;5;124;43mstorage_options\u001b[39;49m\u001b[38;5;124;43m\"\u001b[39;49m\u001b[43m,\u001b[49m\u001b[43m \u001b[49m\u001b[38;5;28;43;01mNone\u001b[39;49;00m\u001b[43m)\u001b[49m\u001b[43m,\u001b[49m\n\u001b[0;32m   1744\u001b[0m \u001b[43m\u001b[49m\u001b[43m)\u001b[49m\n\u001b[0;32m   1745\u001b[0m \u001b[38;5;28;01massert\u001b[39;00m \u001b[38;5;28mself\u001b[39m\u001b[38;5;241m.\u001b[39mhandles \u001b[38;5;129;01mis\u001b[39;00m \u001b[38;5;129;01mnot\u001b[39;00m \u001b[38;5;28;01mNone\u001b[39;00m\n\u001b[0;32m   1746\u001b[0m f \u001b[38;5;241m=\u001b[39m \u001b[38;5;28mself\u001b[39m\u001b[38;5;241m.\u001b[39mhandles\u001b[38;5;241m.\u001b[39mhandle\n",
      "File \u001b[1;32mc:\\Users\\pablo\\AppData\\Local\\Programs\\Python\\Python310\\lib\\site-packages\\pandas\\io\\common.py:856\u001b[0m, in \u001b[0;36mget_handle\u001b[1;34m(path_or_buf, mode, encoding, compression, memory_map, is_text, errors, storage_options)\u001b[0m\n\u001b[0;32m    851\u001b[0m \u001b[38;5;28;01melif\u001b[39;00m \u001b[38;5;28misinstance\u001b[39m(handle, \u001b[38;5;28mstr\u001b[39m):\n\u001b[0;32m    852\u001b[0m     \u001b[38;5;66;03m# Check whether the filename is to be opened in binary mode.\u001b[39;00m\n\u001b[0;32m    853\u001b[0m     \u001b[38;5;66;03m# Binary mode does not support 'encoding' and 'newline'.\u001b[39;00m\n\u001b[0;32m    854\u001b[0m     \u001b[38;5;28;01mif\u001b[39;00m ioargs\u001b[38;5;241m.\u001b[39mencoding \u001b[38;5;129;01mand\u001b[39;00m \u001b[38;5;124m\"\u001b[39m\u001b[38;5;124mb\u001b[39m\u001b[38;5;124m\"\u001b[39m \u001b[38;5;129;01mnot\u001b[39;00m \u001b[38;5;129;01min\u001b[39;00m ioargs\u001b[38;5;241m.\u001b[39mmode:\n\u001b[0;32m    855\u001b[0m         \u001b[38;5;66;03m# Encoding\u001b[39;00m\n\u001b[1;32m--> 856\u001b[0m         handle \u001b[38;5;241m=\u001b[39m \u001b[38;5;28;43mopen\u001b[39;49m\u001b[43m(\u001b[49m\n\u001b[0;32m    857\u001b[0m \u001b[43m            \u001b[49m\u001b[43mhandle\u001b[49m\u001b[43m,\u001b[49m\n\u001b[0;32m    858\u001b[0m \u001b[43m            \u001b[49m\u001b[43mioargs\u001b[49m\u001b[38;5;241;43m.\u001b[39;49m\u001b[43mmode\u001b[49m\u001b[43m,\u001b[49m\n\u001b[0;32m    859\u001b[0m \u001b[43m            \u001b[49m\u001b[43mencoding\u001b[49m\u001b[38;5;241;43m=\u001b[39;49m\u001b[43mioargs\u001b[49m\u001b[38;5;241;43m.\u001b[39;49m\u001b[43mencoding\u001b[49m\u001b[43m,\u001b[49m\n\u001b[0;32m    860\u001b[0m \u001b[43m            \u001b[49m\u001b[43merrors\u001b[49m\u001b[38;5;241;43m=\u001b[39;49m\u001b[43merrors\u001b[49m\u001b[43m,\u001b[49m\n\u001b[0;32m    861\u001b[0m \u001b[43m            \u001b[49m\u001b[43mnewline\u001b[49m\u001b[38;5;241;43m=\u001b[39;49m\u001b[38;5;124;43m\"\u001b[39;49m\u001b[38;5;124;43m\"\u001b[39;49m\u001b[43m,\u001b[49m\n\u001b[0;32m    862\u001b[0m \u001b[43m        \u001b[49m\u001b[43m)\u001b[49m\n\u001b[0;32m    863\u001b[0m     \u001b[38;5;28;01melse\u001b[39;00m:\n\u001b[0;32m    864\u001b[0m         \u001b[38;5;66;03m# Binary mode\u001b[39;00m\n\u001b[0;32m    865\u001b[0m         handle \u001b[38;5;241m=\u001b[39m \u001b[38;5;28mopen\u001b[39m(handle, ioargs\u001b[38;5;241m.\u001b[39mmode)\n",
      "\u001b[1;31mFileNotFoundError\u001b[0m: [Errno 2] No such file or directory: 'Data/games.csv'"
     ]
    }
   ],
   "source": [
    "games = pd.read_csv('Data/games.csv')\n",
    "plays = pd.read_csv('Data/plays.csv')\n",
    "players = pd.read_csv('Data/players.csv')\n",
    "playerplay = pd.read_csv('Data/player_play.csv')\n",
    "Week1Track = pd.read_csv('Data/tracking_week_1.csv')\n"
   ]
  },
  {
   "cell_type": "code",
   "execution_count": 244,
   "metadata": {},
   "outputs": [],
   "source": [
    "GameID = 2022091103\n",
    "PlayID = 58\n",
    "PlayerID = 44814\n"
   ]
  },
  {
   "cell_type": "code",
   "execution_count": 245,
   "metadata": {},
   "outputs": [
    {
     "data": {
      "text/html": [
       "<div>\n",
       "<style scoped>\n",
       "    .dataframe tbody tr th:only-of-type {\n",
       "        vertical-align: middle;\n",
       "    }\n",
       "\n",
       "    .dataframe tbody tr th {\n",
       "        vertical-align: top;\n",
       "    }\n",
       "\n",
       "    .dataframe thead th {\n",
       "        text-align: right;\n",
       "    }\n",
       "</style>\n",
       "<table border=\"1\" class=\"dataframe\">\n",
       "  <thead>\n",
       "    <tr style=\"text-align: right;\">\n",
       "      <th></th>\n",
       "      <th>gameId</th>\n",
       "      <th>playId</th>\n",
       "      <th>nflId</th>\n",
       "      <th>displayName</th>\n",
       "      <th>frameId</th>\n",
       "      <th>frameType</th>\n",
       "      <th>time</th>\n",
       "      <th>jerseyNumber</th>\n",
       "      <th>club</th>\n",
       "      <th>playDirection</th>\n",
       "      <th>x</th>\n",
       "      <th>y</th>\n",
       "      <th>s</th>\n",
       "      <th>a</th>\n",
       "      <th>dis</th>\n",
       "      <th>o</th>\n",
       "      <th>dir</th>\n",
       "      <th>event</th>\n",
       "    </tr>\n",
       "  </thead>\n",
       "  <tbody>\n",
       "    <tr>\n",
       "      <th>4834186</th>\n",
       "      <td>2022091103</td>\n",
       "      <td>58</td>\n",
       "      <td>43299.0</td>\n",
       "      <td>Eli Apple</td>\n",
       "      <td>1</td>\n",
       "      <td>BEFORE_SNAP</td>\n",
       "      <td>2022-09-11 17:04:03.9</td>\n",
       "      <td>20.0</td>\n",
       "      <td>CIN</td>\n",
       "      <td>right</td>\n",
       "      <td>38.610000</td>\n",
       "      <td>14.580000</td>\n",
       "      <td>0.39</td>\n",
       "      <td>0.62</td>\n",
       "      <td>0.04</td>\n",
       "      <td>331.70</td>\n",
       "      <td>50.61</td>\n",
       "      <td>huddle_break_offense</td>\n",
       "    </tr>\n",
       "    <tr>\n",
       "      <th>4834187</th>\n",
       "      <td>2022091103</td>\n",
       "      <td>58</td>\n",
       "      <td>43299.0</td>\n",
       "      <td>Eli Apple</td>\n",
       "      <td>2</td>\n",
       "      <td>BEFORE_SNAP</td>\n",
       "      <td>2022-09-11 17:04:04</td>\n",
       "      <td>20.0</td>\n",
       "      <td>CIN</td>\n",
       "      <td>right</td>\n",
       "      <td>38.640000</td>\n",
       "      <td>14.610000</td>\n",
       "      <td>0.44</td>\n",
       "      <td>0.61</td>\n",
       "      <td>0.04</td>\n",
       "      <td>335.73</td>\n",
       "      <td>41.79</td>\n",
       "      <td>NaN</td>\n",
       "    </tr>\n",
       "    <tr>\n",
       "      <th>4834188</th>\n",
       "      <td>2022091103</td>\n",
       "      <td>58</td>\n",
       "      <td>43299.0</td>\n",
       "      <td>Eli Apple</td>\n",
       "      <td>3</td>\n",
       "      <td>BEFORE_SNAP</td>\n",
       "      <td>2022-09-11 17:04:04.1</td>\n",
       "      <td>20.0</td>\n",
       "      <td>CIN</td>\n",
       "      <td>right</td>\n",
       "      <td>38.680000</td>\n",
       "      <td>14.650000</td>\n",
       "      <td>0.52</td>\n",
       "      <td>0.58</td>\n",
       "      <td>0.05</td>\n",
       "      <td>338.91</td>\n",
       "      <td>38.28</td>\n",
       "      <td>NaN</td>\n",
       "    </tr>\n",
       "    <tr>\n",
       "      <th>4834189</th>\n",
       "      <td>2022091103</td>\n",
       "      <td>58</td>\n",
       "      <td>43299.0</td>\n",
       "      <td>Eli Apple</td>\n",
       "      <td>4</td>\n",
       "      <td>BEFORE_SNAP</td>\n",
       "      <td>2022-09-11 17:04:04.2</td>\n",
       "      <td>20.0</td>\n",
       "      <td>CIN</td>\n",
       "      <td>right</td>\n",
       "      <td>38.710000</td>\n",
       "      <td>14.700000</td>\n",
       "      <td>0.61</td>\n",
       "      <td>0.63</td>\n",
       "      <td>0.06</td>\n",
       "      <td>341.76</td>\n",
       "      <td>30.82</td>\n",
       "      <td>NaN</td>\n",
       "    </tr>\n",
       "    <tr>\n",
       "      <th>4834190</th>\n",
       "      <td>2022091103</td>\n",
       "      <td>58</td>\n",
       "      <td>43299.0</td>\n",
       "      <td>Eli Apple</td>\n",
       "      <td>5</td>\n",
       "      <td>BEFORE_SNAP</td>\n",
       "      <td>2022-09-11 17:04:04.3</td>\n",
       "      <td>20.0</td>\n",
       "      <td>CIN</td>\n",
       "      <td>right</td>\n",
       "      <td>38.740000</td>\n",
       "      <td>14.760000</td>\n",
       "      <td>0.68</td>\n",
       "      <td>0.65</td>\n",
       "      <td>0.07</td>\n",
       "      <td>347.73</td>\n",
       "      <td>26.45</td>\n",
       "      <td>NaN</td>\n",
       "    </tr>\n",
       "    <tr>\n",
       "      <th>...</th>\n",
       "      <td>...</td>\n",
       "      <td>...</td>\n",
       "      <td>...</td>\n",
       "      <td>...</td>\n",
       "      <td>...</td>\n",
       "      <td>...</td>\n",
       "      <td>...</td>\n",
       "      <td>...</td>\n",
       "      <td>...</td>\n",
       "      <td>...</td>\n",
       "      <td>...</td>\n",
       "      <td>...</td>\n",
       "      <td>...</td>\n",
       "      <td>...</td>\n",
       "      <td>...</td>\n",
       "      <td>...</td>\n",
       "      <td>...</td>\n",
       "      <td>...</td>\n",
       "    </tr>\n",
       "    <tr>\n",
       "      <th>4837033</th>\n",
       "      <td>2022091103</td>\n",
       "      <td>58</td>\n",
       "      <td>NaN</td>\n",
       "      <td>football</td>\n",
       "      <td>120</td>\n",
       "      <td>AFTER_SNAP</td>\n",
       "      <td>2022-09-11 17:04:15.8</td>\n",
       "      <td>NaN</td>\n",
       "      <td>football</td>\n",
       "      <td>right</td>\n",
       "      <td>38.270000</td>\n",
       "      <td>30.080000</td>\n",
       "      <td>1.18</td>\n",
       "      <td>3.41</td>\n",
       "      <td>0.13</td>\n",
       "      <td>NaN</td>\n",
       "      <td>NaN</td>\n",
       "      <td>tackle</td>\n",
       "    </tr>\n",
       "    <tr>\n",
       "      <th>4837034</th>\n",
       "      <td>2022091103</td>\n",
       "      <td>58</td>\n",
       "      <td>NaN</td>\n",
       "      <td>football</td>\n",
       "      <td>121</td>\n",
       "      <td>AFTER_SNAP</td>\n",
       "      <td>2022-09-11 17:04:15.9</td>\n",
       "      <td>NaN</td>\n",
       "      <td>football</td>\n",
       "      <td>right</td>\n",
       "      <td>38.360001</td>\n",
       "      <td>30.110001</td>\n",
       "      <td>0.92</td>\n",
       "      <td>2.95</td>\n",
       "      <td>0.10</td>\n",
       "      <td>NaN</td>\n",
       "      <td>NaN</td>\n",
       "      <td>NaN</td>\n",
       "    </tr>\n",
       "    <tr>\n",
       "      <th>4837035</th>\n",
       "      <td>2022091103</td>\n",
       "      <td>58</td>\n",
       "      <td>NaN</td>\n",
       "      <td>football</td>\n",
       "      <td>122</td>\n",
       "      <td>AFTER_SNAP</td>\n",
       "      <td>2022-09-11 17:04:16</td>\n",
       "      <td>NaN</td>\n",
       "      <td>football</td>\n",
       "      <td>right</td>\n",
       "      <td>38.430000</td>\n",
       "      <td>30.139999</td>\n",
       "      <td>0.69</td>\n",
       "      <td>2.53</td>\n",
       "      <td>0.08</td>\n",
       "      <td>NaN</td>\n",
       "      <td>NaN</td>\n",
       "      <td>NaN</td>\n",
       "    </tr>\n",
       "    <tr>\n",
       "      <th>4837036</th>\n",
       "      <td>2022091103</td>\n",
       "      <td>58</td>\n",
       "      <td>NaN</td>\n",
       "      <td>football</td>\n",
       "      <td>123</td>\n",
       "      <td>AFTER_SNAP</td>\n",
       "      <td>2022-09-11 17:04:16.1</td>\n",
       "      <td>NaN</td>\n",
       "      <td>football</td>\n",
       "      <td>right</td>\n",
       "      <td>38.500000</td>\n",
       "      <td>30.180000</td>\n",
       "      <td>0.61</td>\n",
       "      <td>1.89</td>\n",
       "      <td>0.08</td>\n",
       "      <td>NaN</td>\n",
       "      <td>NaN</td>\n",
       "      <td>NaN</td>\n",
       "    </tr>\n",
       "    <tr>\n",
       "      <th>4837037</th>\n",
       "      <td>2022091103</td>\n",
       "      <td>58</td>\n",
       "      <td>NaN</td>\n",
       "      <td>football</td>\n",
       "      <td>124</td>\n",
       "      <td>AFTER_SNAP</td>\n",
       "      <td>2022-09-11 17:04:16.2</td>\n",
       "      <td>NaN</td>\n",
       "      <td>football</td>\n",
       "      <td>right</td>\n",
       "      <td>38.540001</td>\n",
       "      <td>30.219999</td>\n",
       "      <td>0.52</td>\n",
       "      <td>1.51</td>\n",
       "      <td>0.06</td>\n",
       "      <td>NaN</td>\n",
       "      <td>NaN</td>\n",
       "      <td>NaN</td>\n",
       "    </tr>\n",
       "  </tbody>\n",
       "</table>\n",
       "<p>2852 rows × 18 columns</p>\n",
       "</div>"
      ],
      "text/plain": [
       "             gameId  playId    nflId displayName  frameId    frameType  \\\n",
       "4834186  2022091103      58  43299.0   Eli Apple        1  BEFORE_SNAP   \n",
       "4834187  2022091103      58  43299.0   Eli Apple        2  BEFORE_SNAP   \n",
       "4834188  2022091103      58  43299.0   Eli Apple        3  BEFORE_SNAP   \n",
       "4834189  2022091103      58  43299.0   Eli Apple        4  BEFORE_SNAP   \n",
       "4834190  2022091103      58  43299.0   Eli Apple        5  BEFORE_SNAP   \n",
       "...             ...     ...      ...         ...      ...          ...   \n",
       "4837033  2022091103      58      NaN    football      120   AFTER_SNAP   \n",
       "4837034  2022091103      58      NaN    football      121   AFTER_SNAP   \n",
       "4837035  2022091103      58      NaN    football      122   AFTER_SNAP   \n",
       "4837036  2022091103      58      NaN    football      123   AFTER_SNAP   \n",
       "4837037  2022091103      58      NaN    football      124   AFTER_SNAP   \n",
       "\n",
       "                          time  jerseyNumber      club playDirection  \\\n",
       "4834186  2022-09-11 17:04:03.9          20.0       CIN         right   \n",
       "4834187    2022-09-11 17:04:04          20.0       CIN         right   \n",
       "4834188  2022-09-11 17:04:04.1          20.0       CIN         right   \n",
       "4834189  2022-09-11 17:04:04.2          20.0       CIN         right   \n",
       "4834190  2022-09-11 17:04:04.3          20.0       CIN         right   \n",
       "...                        ...           ...       ...           ...   \n",
       "4837033  2022-09-11 17:04:15.8           NaN  football         right   \n",
       "4837034  2022-09-11 17:04:15.9           NaN  football         right   \n",
       "4837035    2022-09-11 17:04:16           NaN  football         right   \n",
       "4837036  2022-09-11 17:04:16.1           NaN  football         right   \n",
       "4837037  2022-09-11 17:04:16.2           NaN  football         right   \n",
       "\n",
       "                 x          y     s     a   dis       o    dir  \\\n",
       "4834186  38.610000  14.580000  0.39  0.62  0.04  331.70  50.61   \n",
       "4834187  38.640000  14.610000  0.44  0.61  0.04  335.73  41.79   \n",
       "4834188  38.680000  14.650000  0.52  0.58  0.05  338.91  38.28   \n",
       "4834189  38.710000  14.700000  0.61  0.63  0.06  341.76  30.82   \n",
       "4834190  38.740000  14.760000  0.68  0.65  0.07  347.73  26.45   \n",
       "...            ...        ...   ...   ...   ...     ...    ...   \n",
       "4837033  38.270000  30.080000  1.18  3.41  0.13     NaN    NaN   \n",
       "4837034  38.360001  30.110001  0.92  2.95  0.10     NaN    NaN   \n",
       "4837035  38.430000  30.139999  0.69  2.53  0.08     NaN    NaN   \n",
       "4837036  38.500000  30.180000  0.61  1.89  0.08     NaN    NaN   \n",
       "4837037  38.540001  30.219999  0.52  1.51  0.06     NaN    NaN   \n",
       "\n",
       "                        event  \n",
       "4834186  huddle_break_offense  \n",
       "4834187                   NaN  \n",
       "4834188                   NaN  \n",
       "4834189                   NaN  \n",
       "4834190                   NaN  \n",
       "...                       ...  \n",
       "4837033                tackle  \n",
       "4837034                   NaN  \n",
       "4837035                   NaN  \n",
       "4837036                   NaN  \n",
       "4837037                   NaN  \n",
       "\n",
       "[2852 rows x 18 columns]"
      ]
     },
     "execution_count": 245,
     "metadata": {},
     "output_type": "execute_result"
    }
   ],
   "source": [
    "_TrackData= Week1Track[(Week1Track['gameId'] == GameID) & (Week1Track['playId'] == PlayID)]\n",
    "TeamColor = {\"football\": 'Grey', 'CIN' : 'Red', 'PIT' : 'Black'}\n",
    "_TrackData\n"
   ]
  },
  {
   "cell_type": "code",
   "execution_count": 253,
   "metadata": {},
   "outputs": [
    {
     "name": "stdout",
     "output_type": "stream",
     "text": [
      "CIN\n",
      "PIT\n",
      "football\n"
     ]
    }
   ],
   "source": [
    "fig = go.Figure(layout_yaxis_range=[0, 53.3], layout_xaxis_range=[0, 120])\n",
    "\n",
    "for club in _TrackData['club'].unique():\n",
    "    \n",
    "    club_data = _TrackData[_TrackData['club'] == club]\n",
    "    \n",
    "    data=(go.Scatter(x=club_data['x'], y=club_data['y'], mode='markers', marker_color=TeamColor[club], name = club))\n",
    "    \n",
    "    fig.add_trace(data)\n",
    "    print(club)\n"
   ]
  },
  {
   "cell_type": "code",
   "execution_count": 272,
   "metadata": {},
   "outputs": [],
   "source": [
    "\n"
   ]
  },
  {
   "cell_type": "code",
   "execution_count": 337,
   "metadata": {},
   "outputs": [
    {
     "data": {
      "application/vnd.plotly.v1+json": {
       "config": {
        "plotlyServerURL": "https://plot.ly"
       },
       "data": [
        {
         "hovertemplate": "club=CIN<br>frameId=1<br>x=%{x}<br>y=%{y}<extra></extra>",
         "legendgroup": "CIN",
         "marker": {
          "color": "Red",
          "symbol": "circle"
         },
         "mode": "markers",
         "name": "CIN",
         "orientation": "v",
         "showlegend": true,
         "type": "scatter",
         "x": [
          38.61,
          46.33,
          36.09,
          38.85,
          38.75,
          36.44,
          50.39,
          37.85,
          36.28,
          40.03,
          39.54
         ],
         "xaxis": "x",
         "y": [
          14.58,
          21.95,
          26.66,
          31.71,
          40.36,
          31.91,
          29.65,
          26.65,
          22.82,
          26.24,
          27.77
         ],
         "yaxis": "y"
        },
        {
         "hovertemplate": "club=PIT<br>frameId=1<br>x=%{x}<br>y=%{y}<extra></extra>",
         "legendgroup": "PIT",
         "marker": {
          "color": "Black",
          "symbol": "circle"
         },
         "mode": "markers",
         "name": "PIT",
         "orientation": "v",
         "showlegend": true,
         "type": "scatter",
         "x": [
          28.99,
          30.77,
          31.07,
          31.89,
          30.52,
          29.48,
          31.45,
          29.02,
          30.34,
          31.25,
          29.73
         ],
         "xaxis": "x",
         "y": [
          27.54,
          26.39,
          24.99,
          27.04,
          32.45,
          32.41,
          28.37,
          25.36,
          23.65,
          29.42,
          36.98
         ],
         "yaxis": "y"
        },
        {
         "hovertemplate": "club=football<br>frameId=1<br>x=%{x}<br>y=%{y}<extra></extra>",
         "legendgroup": "football",
         "marker": {
          "color": "Grey",
          "symbol": "circle"
         },
         "mode": "markers",
         "name": "football",
         "orientation": "v",
         "showlegend": true,
         "type": "scatter",
         "x": [
          34.6800003051758
         ],
         "xaxis": "x",
         "y": [
          26.6800003051758
         ],
         "yaxis": "y"
        }
       ],
       "frames": [
        {
         "data": [
          {
           "hovertemplate": "club=CIN<br>frameId=1<br>x=%{x}<br>y=%{y}<extra></extra>",
           "legendgroup": "CIN",
           "marker": {
            "color": "Red",
            "symbol": "circle"
           },
           "mode": "markers",
           "name": "CIN",
           "orientation": "v",
           "showlegend": true,
           "type": "scatter",
           "x": [
            38.61,
            46.33,
            36.09,
            38.85,
            38.75,
            36.44,
            50.39,
            37.85,
            36.28,
            40.03,
            39.54
           ],
           "xaxis": "x",
           "y": [
            14.58,
            21.95,
            26.66,
            31.71,
            40.36,
            31.91,
            29.65,
            26.65,
            22.82,
            26.24,
            27.77
           ],
           "yaxis": "y"
          },
          {
           "hovertemplate": "club=PIT<br>frameId=1<br>x=%{x}<br>y=%{y}<extra></extra>",
           "legendgroup": "PIT",
           "marker": {
            "color": "Black",
            "symbol": "circle"
           },
           "mode": "markers",
           "name": "PIT",
           "orientation": "v",
           "showlegend": true,
           "type": "scatter",
           "x": [
            28.99,
            30.77,
            31.07,
            31.89,
            30.52,
            29.48,
            31.45,
            29.02,
            30.34,
            31.25,
            29.73
           ],
           "xaxis": "x",
           "y": [
            27.54,
            26.39,
            24.99,
            27.04,
            32.45,
            32.41,
            28.37,
            25.36,
            23.65,
            29.42,
            36.98
           ],
           "yaxis": "y"
          },
          {
           "hovertemplate": "club=football<br>frameId=1<br>x=%{x}<br>y=%{y}<extra></extra>",
           "legendgroup": "football",
           "marker": {
            "color": "Grey",
            "symbol": "circle"
           },
           "mode": "markers",
           "name": "football",
           "orientation": "v",
           "showlegend": true,
           "type": "scatter",
           "x": [
            34.6800003051758
           ],
           "xaxis": "x",
           "y": [
            26.6800003051758
           ],
           "yaxis": "y"
          }
         ],
         "name": "1"
        },
        {
         "data": [
          {
           "hovertemplate": "club=CIN<br>frameId=2<br>x=%{x}<br>y=%{y}<extra></extra>",
           "legendgroup": "CIN",
           "marker": {
            "color": "Red",
            "symbol": "circle"
           },
           "mode": "markers",
           "name": "CIN",
           "orientation": "v",
           "showlegend": true,
           "type": "scatter",
           "x": [
            38.64,
            46.33,
            36.09,
            38.88,
            38.76,
            36.44,
            50.31,
            37.85,
            36.28,
            40.02,
            39.54
           ],
           "xaxis": "x",
           "y": [
            14.61,
            21.94,
            26.66,
            32.02,
            40.49,
            31.91,
            29.72,
            26.64,
            22.82,
            26.21,
            27.77
           ],
           "yaxis": "y"
          },
          {
           "hovertemplate": "club=PIT<br>frameId=2<br>x=%{x}<br>y=%{y}<extra></extra>",
           "legendgroup": "PIT",
           "marker": {
            "color": "Black",
            "symbol": "circle"
           },
           "mode": "markers",
           "name": "PIT",
           "orientation": "v",
           "showlegend": true,
           "type": "scatter",
           "x": [
            29,
            30.96,
            31.19,
            32.12,
            30.67,
            29.63,
            31.68,
            29.03,
            30.55,
            31.43,
            29.9
           ],
           "xaxis": "x",
           "y": [
            27.47,
            26.31,
            24.91,
            27.02,
            32.71,
            32.75,
            28.41,
            25.26,
            23.52,
            29.49,
            37.38
           ],
           "yaxis": "y"
          },
          {
           "hovertemplate": "club=football<br>frameId=2<br>x=%{x}<br>y=%{y}<extra></extra>",
           "legendgroup": "football",
           "marker": {
            "color": "Grey",
            "symbol": "circle"
           },
           "mode": "markers",
           "name": "football",
           "orientation": "v",
           "showlegend": true,
           "type": "scatter",
           "x": [
            34.6800003051758
           ],
           "xaxis": "x",
           "y": [
            26.6800003051758
           ],
           "yaxis": "y"
          }
         ],
         "name": "2"
        },
        {
         "data": [
          {
           "hovertemplate": "club=CIN<br>frameId=3<br>x=%{x}<br>y=%{y}<extra></extra>",
           "legendgroup": "CIN",
           "marker": {
            "color": "Red",
            "symbol": "circle"
           },
           "mode": "markers",
           "name": "CIN",
           "orientation": "v",
           "showlegend": true,
           "type": "scatter",
           "x": [
            38.68,
            46.32,
            36.09,
            38.9,
            38.76,
            36.44,
            50.22,
            37.85,
            36.29,
            40,
            39.54
           ],
           "xaxis": "x",
           "y": [
            14.65,
            21.92,
            26.66,
            32.32,
            40.61,
            31.91,
            29.79,
            26.63,
            22.82,
            26.17,
            27.77
           ],
           "yaxis": "y"
          },
          {
           "hovertemplate": "club=PIT<br>frameId=3<br>x=%{x}<br>y=%{y}<extra></extra>",
           "legendgroup": "PIT",
           "marker": {
            "color": "Black",
            "symbol": "circle"
           },
           "mode": "markers",
           "name": "PIT",
           "orientation": "v",
           "showlegend": true,
           "type": "scatter",
           "x": [
            29.02,
            31.15,
            31.31,
            32.34,
            30.81,
            29.8,
            31.88,
            29.04,
            30.76,
            31.61,
            30.07
           ],
           "xaxis": "x",
           "y": [
            27.4,
            26.23,
            24.83,
            27.01,
            32.97,
            33.07,
            28.45,
            25.16,
            23.41,
            29.55,
            37.77
           ],
           "yaxis": "y"
          },
          {
           "hovertemplate": "club=football<br>frameId=3<br>x=%{x}<br>y=%{y}<extra></extra>",
           "legendgroup": "football",
           "marker": {
            "color": "Grey",
            "symbol": "circle"
           },
           "mode": "markers",
           "name": "football",
           "orientation": "v",
           "showlegend": true,
           "type": "scatter",
           "x": [
            34.6800003051758
           ],
           "xaxis": "x",
           "y": [
            26.6800003051758
           ],
           "yaxis": "y"
          }
         ],
         "name": "3"
        },
        {
         "data": [
          {
           "hovertemplate": "club=CIN<br>frameId=4<br>x=%{x}<br>y=%{y}<extra></extra>",
           "legendgroup": "CIN",
           "marker": {
            "color": "Red",
            "symbol": "circle"
           },
           "mode": "markers",
           "name": "CIN",
           "orientation": "v",
           "showlegend": true,
           "type": "scatter",
           "x": [
            38.71,
            46.32,
            36.08,
            38.93,
            38.76,
            36.44,
            50.12,
            37.84,
            36.29,
            39.98,
            39.54
           ],
           "xaxis": "x",
           "y": [
            14.7,
            21.92,
            26.66,
            32.63,
            40.73,
            31.91,
            29.86,
            26.63,
            22.83,
            26.15,
            27.77
           ],
           "yaxis": "y"
          },
          {
           "hovertemplate": "club=PIT<br>frameId=4<br>x=%{x}<br>y=%{y}<extra></extra>",
           "legendgroup": "PIT",
           "marker": {
            "color": "Black",
            "symbol": "circle"
           },
           "mode": "markers",
           "name": "PIT",
           "orientation": "v",
           "showlegend": true,
           "type": "scatter",
           "x": [
            29.05,
            31.35,
            31.43,
            32.55,
            30.95,
            29.97,
            32.07,
            29.04,
            30.95,
            31.78,
            30.24
           ],
           "xaxis": "x",
           "y": [
            27.33,
            26.15,
            24.76,
            27,
            33.23,
            33.39,
            28.47,
            25.05,
            23.31,
            29.6,
            38.14
           ],
           "yaxis": "y"
          },
          {
           "hovertemplate": "club=football<br>frameId=4<br>x=%{x}<br>y=%{y}<extra></extra>",
           "legendgroup": "football",
           "marker": {
            "color": "Grey",
            "symbol": "circle"
           },
           "mode": "markers",
           "name": "football",
           "orientation": "v",
           "showlegend": true,
           "type": "scatter",
           "x": [
            34.6800003051758
           ],
           "xaxis": "x",
           "y": [
            26.6800003051758
           ],
           "yaxis": "y"
          }
         ],
         "name": "4"
        },
        {
         "data": [
          {
           "hovertemplate": "club=CIN<br>frameId=5<br>x=%{x}<br>y=%{y}<extra></extra>",
           "legendgroup": "CIN",
           "marker": {
            "color": "Red",
            "symbol": "circle"
           },
           "mode": "markers",
           "name": "CIN",
           "orientation": "v",
           "showlegend": true,
           "type": "scatter",
           "x": [
            38.74,
            46.33,
            36.08,
            38.95,
            38.75,
            36.44,
            50.02,
            37.83,
            36.29,
            39.96,
            39.54
           ],
           "xaxis": "x",
           "y": [
            14.76,
            21.92,
            26.66,
            32.93,
            40.85,
            31.91,
            29.94,
            26.63,
            22.83,
            26.13,
            27.77
           ],
           "yaxis": "y"
          },
          {
           "hovertemplate": "club=PIT<br>frameId=5<br>x=%{x}<br>y=%{y}<extra></extra>",
           "legendgroup": "PIT",
           "marker": {
            "color": "Black",
            "symbol": "circle"
           },
           "mode": "markers",
           "name": "PIT",
           "orientation": "v",
           "showlegend": true,
           "type": "scatter",
           "x": [
            29.07,
            31.54,
            31.55,
            32.75,
            31.09,
            30.13,
            32.25,
            29.04,
            31.14,
            31.95,
            30.41
           ],
           "xaxis": "x",
           "y": [
            27.25,
            26.08,
            24.68,
            27,
            33.49,
            33.69,
            28.49,
            24.95,
            23.21,
            29.64,
            38.51
           ],
           "yaxis": "y"
          },
          {
           "hovertemplate": "club=football<br>frameId=5<br>x=%{x}<br>y=%{y}<extra></extra>",
           "legendgroup": "football",
           "marker": {
            "color": "Grey",
            "symbol": "circle"
           },
           "mode": "markers",
           "name": "football",
           "orientation": "v",
           "showlegend": true,
           "type": "scatter",
           "x": [
            34.6800003051758
           ],
           "xaxis": "x",
           "y": [
            26.6800003051758
           ],
           "yaxis": "y"
          }
         ],
         "name": "5"
        },
        {
         "data": [
          {
           "hovertemplate": "club=CIN<br>frameId=6<br>x=%{x}<br>y=%{y}<extra></extra>",
           "legendgroup": "CIN",
           "marker": {
            "color": "Red",
            "symbol": "circle"
           },
           "mode": "markers",
           "name": "CIN",
           "orientation": "v",
           "showlegend": true,
           "type": "scatter",
           "x": [
            38.77,
            46.32,
            36.08,
            38.98,
            38.75,
            36.44,
            49.92,
            37.8,
            36.29,
            39.94,
            39.55
           ],
           "xaxis": "x",
           "y": [
            14.83,
            21.91,
            26.67,
            33.24,
            40.97,
            31.91,
            30.02,
            26.62,
            22.82,
            26.11,
            27.78
           ],
           "yaxis": "y"
          },
          {
           "hovertemplate": "club=PIT<br>frameId=6<br>x=%{x}<br>y=%{y}<extra></extra>",
           "legendgroup": "PIT",
           "marker": {
            "color": "Black",
            "symbol": "circle"
           },
           "mode": "markers",
           "name": "PIT",
           "orientation": "v",
           "showlegend": true,
           "type": "scatter",
           "x": [
            29.09,
            31.73,
            31.67,
            32.95,
            31.23,
            30.29,
            32.42,
            29.03,
            31.32,
            32.1,
            30.58
           ],
           "xaxis": "x",
           "y": [
            27.18,
            26,
            24.61,
            27,
            33.74,
            33.98,
            28.5,
            24.86,
            23.12,
            29.67,
            38.86
           ],
           "yaxis": "y"
          },
          {
           "hovertemplate": "club=football<br>frameId=6<br>x=%{x}<br>y=%{y}<extra></extra>",
           "legendgroup": "football",
           "marker": {
            "color": "Grey",
            "symbol": "circle"
           },
           "mode": "markers",
           "name": "football",
           "orientation": "v",
           "showlegend": true,
           "type": "scatter",
           "x": [
            34.689998626709
           ],
           "xaxis": "x",
           "y": [
            26.6800003051758
           ],
           "yaxis": "y"
          }
         ],
         "name": "6"
        },
        {
         "data": [
          {
           "hovertemplate": "club=CIN<br>frameId=7<br>x=%{x}<br>y=%{y}<extra></extra>",
           "legendgroup": "CIN",
           "marker": {
            "color": "Red",
            "symbol": "circle"
           },
           "mode": "markers",
           "name": "CIN",
           "orientation": "v",
           "showlegend": true,
           "type": "scatter",
           "x": [
            38.8,
            46.33,
            36.07,
            39,
            38.74,
            36.44,
            49.81,
            37.79,
            36.29,
            39.92,
            39.55
           ],
           "xaxis": "x",
           "y": [
            14.9,
            21.92,
            26.67,
            33.54,
            41.09,
            31.91,
            30.11,
            26.6,
            22.83,
            26.1,
            27.8
           ],
           "yaxis": "y"
          },
          {
           "hovertemplate": "club=PIT<br>frameId=7<br>x=%{x}<br>y=%{y}<extra></extra>",
           "legendgroup": "PIT",
           "marker": {
            "color": "Black",
            "symbol": "circle"
           },
           "mode": "markers",
           "name": "PIT",
           "orientation": "v",
           "showlegend": true,
           "type": "scatter",
           "x": [
            29.12,
            31.9,
            31.79,
            33.13,
            31.35,
            30.44,
            32.56,
            29.04,
            31.5,
            32.25,
            30.75
           ],
           "xaxis": "x",
           "y": [
            27.11,
            25.93,
            24.55,
            26.99,
            33.99,
            34.26,
            28.5,
            24.77,
            23.04,
            29.7,
            39.2
           ],
           "yaxis": "y"
          },
          {
           "hovertemplate": "club=football<br>frameId=7<br>x=%{x}<br>y=%{y}<extra></extra>",
           "legendgroup": "football",
           "marker": {
            "color": "Grey",
            "symbol": "circle"
           },
           "mode": "markers",
           "name": "football",
           "orientation": "v",
           "showlegend": true,
           "type": "scatter",
           "x": [
            34.689998626709
           ],
           "xaxis": "x",
           "y": [
            26.6800003051758
           ],
           "yaxis": "y"
          }
         ],
         "name": "7"
        },
        {
         "data": [
          {
           "hovertemplate": "club=CIN<br>frameId=8<br>x=%{x}<br>y=%{y}<extra></extra>",
           "legendgroup": "CIN",
           "marker": {
            "color": "Red",
            "symbol": "circle"
           },
           "mode": "markers",
           "name": "CIN",
           "orientation": "v",
           "showlegend": true,
           "type": "scatter",
           "x": [
            38.83,
            46.33,
            36.07,
            39.02,
            38.72,
            36.44,
            49.71,
            37.76,
            36.29,
            39.9,
            39.55
           ],
           "xaxis": "x",
           "y": [
            14.99,
            21.92,
            26.69,
            33.83,
            41.2,
            31.91,
            30.2,
            26.58,
            22.83,
            26.11,
            27.81
           ],
           "yaxis": "y"
          },
          {
           "hovertemplate": "club=PIT<br>frameId=8<br>x=%{x}<br>y=%{y}<extra></extra>",
           "legendgroup": "PIT",
           "marker": {
            "color": "Black",
            "symbol": "circle"
           },
           "mode": "markers",
           "name": "PIT",
           "orientation": "v",
           "showlegend": true,
           "type": "scatter",
           "x": [
            29.14,
            32.07,
            31.92,
            33.29,
            31.47,
            30.59,
            32.7,
            29.04,
            31.66,
            32.39,
            30.92
           ],
           "xaxis": "x",
           "y": [
            27.05,
            25.86,
            24.48,
            26.98,
            34.23,
            34.51,
            28.5,
            24.69,
            22.96,
            29.72,
            39.52
           ],
           "yaxis": "y"
          },
          {
           "hovertemplate": "club=football<br>frameId=8<br>x=%{x}<br>y=%{y}<extra></extra>",
           "legendgroup": "football",
           "marker": {
            "color": "Grey",
            "symbol": "circle"
           },
           "mode": "markers",
           "name": "football",
           "orientation": "v",
           "showlegend": true,
           "type": "scatter",
           "x": [
            34.6800003051758
           ],
           "xaxis": "x",
           "y": [
            26.6800003051758
           ],
           "yaxis": "y"
          }
         ],
         "name": "8"
        },
        {
         "data": [
          {
           "hovertemplate": "club=CIN<br>frameId=9<br>x=%{x}<br>y=%{y}<extra></extra>",
           "legendgroup": "CIN",
           "marker": {
            "color": "Red",
            "symbol": "circle"
           },
           "mode": "markers",
           "name": "CIN",
           "orientation": "v",
           "showlegend": true,
           "type": "scatter",
           "x": [
            38.85,
            46.34,
            36.07,
            39.03,
            38.7,
            36.44,
            49.6,
            37.73,
            36.29,
            39.87,
            39.55
           ],
           "xaxis": "x",
           "y": [
            15.08,
            21.93,
            26.69,
            34.12,
            41.31,
            31.91,
            30.28,
            26.55,
            22.83,
            26.11,
            27.82
           ],
           "yaxis": "y"
          },
          {
           "hovertemplate": "club=PIT<br>frameId=9<br>x=%{x}<br>y=%{y}<extra></extra>",
           "legendgroup": "PIT",
           "marker": {
            "color": "Black",
            "symbol": "circle"
           },
           "mode": "markers",
           "name": "PIT",
           "orientation": "v",
           "showlegend": true,
           "type": "scatter",
           "x": [
            29.16,
            32.21,
            32.04,
            33.44,
            31.59,
            30.73,
            32.82,
            29.04,
            31.83,
            32.52,
            31.08
           ],
           "xaxis": "x",
           "y": [
            26.99,
            25.8,
            24.42,
            26.97,
            34.47,
            34.75,
            28.49,
            24.62,
            22.89,
            29.76,
            39.83
           ],
           "yaxis": "y"
          },
          {
           "hovertemplate": "club=football<br>frameId=9<br>x=%{x}<br>y=%{y}<extra></extra>",
           "legendgroup": "football",
           "marker": {
            "color": "Grey",
            "symbol": "circle"
           },
           "mode": "markers",
           "name": "football",
           "orientation": "v",
           "showlegend": true,
           "type": "scatter",
           "x": [
            34.689998626709
           ],
           "xaxis": "x",
           "y": [
            26.6800003051758
           ],
           "yaxis": "y"
          }
         ],
         "name": "9"
        },
        {
         "data": [
          {
           "hovertemplate": "club=CIN<br>frameId=10<br>x=%{x}<br>y=%{y}<extra></extra>",
           "legendgroup": "CIN",
           "marker": {
            "color": "Red",
            "symbol": "circle"
           },
           "mode": "markers",
           "name": "CIN",
           "orientation": "v",
           "showlegend": true,
           "type": "scatter",
           "x": [
            38.88,
            46.34,
            36.07,
            39.05,
            38.67,
            36.44,
            49.49,
            37.7,
            36.3,
            39.85,
            39.55
           ],
           "xaxis": "x",
           "y": [
            15.18,
            21.93,
            26.7,
            34.4,
            41.42,
            31.9,
            30.36,
            26.5,
            22.83,
            26.12,
            27.83
           ],
           "yaxis": "y"
          },
          {
           "hovertemplate": "club=PIT<br>frameId=10<br>x=%{x}<br>y=%{y}<extra></extra>",
           "legendgroup": "PIT",
           "marker": {
            "color": "Black",
            "symbol": "circle"
           },
           "mode": "markers",
           "name": "PIT",
           "orientation": "v",
           "showlegend": true,
           "type": "scatter",
           "x": [
            29.18,
            32.34,
            32.16,
            33.57,
            31.7,
            30.86,
            32.94,
            29.06,
            31.98,
            32.65,
            31.23
           ],
           "xaxis": "x",
           "y": [
            26.93,
            25.73,
            24.37,
            26.95,
            34.7,
            34.96,
            28.47,
            24.56,
            22.82,
            29.81,
            40.11
           ],
           "yaxis": "y"
          },
          {
           "hovertemplate": "club=football<br>frameId=10<br>x=%{x}<br>y=%{y}<extra></extra>",
           "legendgroup": "football",
           "marker": {
            "color": "Grey",
            "symbol": "circle"
           },
           "mode": "markers",
           "name": "football",
           "orientation": "v",
           "showlegend": true,
           "type": "scatter",
           "x": [
            34.6800003051758
           ],
           "xaxis": "x",
           "y": [
            26.6900005340576
           ],
           "yaxis": "y"
          }
         ],
         "name": "10"
        },
        {
         "data": [
          {
           "hovertemplate": "club=CIN<br>frameId=11<br>x=%{x}<br>y=%{y}<extra></extra>",
           "legendgroup": "CIN",
           "marker": {
            "color": "Red",
            "symbol": "circle"
           },
           "mode": "markers",
           "name": "CIN",
           "orientation": "v",
           "showlegend": true,
           "type": "scatter",
           "x": [
            38.91,
            46.34,
            36.06,
            39.06,
            38.62,
            36.44,
            49.39,
            37.66,
            36.29,
            39.83,
            39.55
           ],
           "xaxis": "x",
           "y": [
            15.28,
            21.93,
            26.72,
            34.67,
            41.52,
            31.9,
            30.44,
            26.46,
            22.82,
            26.13,
            27.84
           ],
           "yaxis": "y"
          },
          {
           "hovertemplate": "club=PIT<br>frameId=11<br>x=%{x}<br>y=%{y}<extra></extra>",
           "legendgroup": "PIT",
           "marker": {
            "color": "Black",
            "symbol": "circle"
           },
           "mode": "markers",
           "name": "PIT",
           "orientation": "v",
           "showlegend": true,
           "type": "scatter",
           "x": [
            29.2,
            32.46,
            32.27,
            33.68,
            31.81,
            30.99,
            33.05,
            29.07,
            32.13,
            32.77,
            31.38
           ],
           "xaxis": "x",
           "y": [
            26.88,
            25.69,
            24.31,
            26.92,
            34.93,
            35.15,
            28.44,
            24.52,
            22.76,
            29.85,
            40.39
           ],
           "yaxis": "y"
          },
          {
           "hovertemplate": "club=football<br>frameId=11<br>x=%{x}<br>y=%{y}<extra></extra>",
           "legendgroup": "football",
           "marker": {
            "color": "Grey",
            "symbol": "circle"
           },
           "mode": "markers",
           "name": "football",
           "orientation": "v",
           "showlegend": true,
           "type": "scatter",
           "x": [
            34.6800003051758
           ],
           "xaxis": "x",
           "y": [
            26.6900005340576
           ],
           "yaxis": "y"
          }
         ],
         "name": "11"
        },
        {
         "data": [
          {
           "hovertemplate": "club=CIN<br>frameId=12<br>x=%{x}<br>y=%{y}<extra></extra>",
           "legendgroup": "CIN",
           "marker": {
            "color": "Red",
            "symbol": "circle"
           },
           "mode": "markers",
           "name": "CIN",
           "orientation": "v",
           "showlegend": true,
           "type": "scatter",
           "x": [
            38.94,
            46.34,
            36.06,
            39.07,
            38.57,
            36.44,
            49.29,
            37.63,
            36.29,
            39.81,
            39.55
           ],
           "xaxis": "x",
           "y": [
            15.38,
            21.93,
            26.74,
            34.94,
            41.63,
            31.9,
            30.53,
            26.4,
            22.82,
            26.12,
            27.86
           ],
           "yaxis": "y"
          },
          {
           "hovertemplate": "club=PIT<br>frameId=12<br>x=%{x}<br>y=%{y}<extra></extra>",
           "legendgroup": "PIT",
           "marker": {
            "color": "Black",
            "symbol": "circle"
           },
           "mode": "markers",
           "name": "PIT",
           "orientation": "v",
           "showlegend": true,
           "type": "scatter",
           "x": [
            29.22,
            32.57,
            32.39,
            33.77,
            31.92,
            31.11,
            33.15,
            29.1,
            32.27,
            32.88,
            31.53
           ],
           "xaxis": "x",
           "y": [
            26.83,
            25.66,
            24.25,
            26.9,
            35.15,
            35.31,
            28.41,
            24.49,
            22.71,
            29.89,
            40.64
           ],
           "yaxis": "y"
          },
          {
           "hovertemplate": "club=football<br>frameId=12<br>x=%{x}<br>y=%{y}<extra></extra>",
           "legendgroup": "football",
           "marker": {
            "color": "Grey",
            "symbol": "circle"
           },
           "mode": "markers",
           "name": "football",
           "orientation": "v",
           "showlegend": true,
           "type": "scatter",
           "x": [
            34.6800003051758
           ],
           "xaxis": "x",
           "y": [
            26.6900005340576
           ],
           "yaxis": "y"
          }
         ],
         "name": "12"
        },
        {
         "data": [
          {
           "hovertemplate": "club=CIN<br>frameId=13<br>x=%{x}<br>y=%{y}<extra></extra>",
           "legendgroup": "CIN",
           "marker": {
            "color": "Red",
            "symbol": "circle"
           },
           "mode": "markers",
           "name": "CIN",
           "orientation": "v",
           "showlegend": true,
           "type": "scatter",
           "x": [
            38.99,
            46.34,
            36.06,
            39.08,
            38.5,
            36.44,
            49.18,
            37.58,
            36.29,
            39.8,
            39.55
           ],
           "xaxis": "x",
           "y": [
            15.49,
            21.94,
            26.76,
            35.2,
            41.72,
            31.9,
            30.61,
            26.34,
            22.83,
            26.12,
            27.87
           ],
           "yaxis": "y"
          },
          {
           "hovertemplate": "club=PIT<br>frameId=13<br>x=%{x}<br>y=%{y}<extra></extra>",
           "legendgroup": "PIT",
           "marker": {
            "color": "Black",
            "symbol": "circle"
           },
           "mode": "markers",
           "name": "PIT",
           "orientation": "v",
           "showlegend": true,
           "type": "scatter",
           "x": [
            29.24,
            32.68,
            32.5,
            33.85,
            32.03,
            31.23,
            33.24,
            29.12,
            32.4,
            32.99,
            31.67
           ],
           "xaxis": "x",
           "y": [
            26.79,
            25.63,
            24.18,
            26.87,
            35.37,
            35.44,
            28.38,
            24.46,
            22.67,
            29.92,
            40.89
           ],
           "yaxis": "y"
          },
          {
           "hovertemplate": "club=football<br>frameId=13<br>x=%{x}<br>y=%{y}<extra></extra>",
           "legendgroup": "football",
           "marker": {
            "color": "Grey",
            "symbol": "circle"
           },
           "mode": "markers",
           "name": "football",
           "orientation": "v",
           "showlegend": true,
           "type": "scatter",
           "x": [
            34.6800003051758
           ],
           "xaxis": "x",
           "y": [
            26.6900005340576
           ],
           "yaxis": "y"
          }
         ],
         "name": "13"
        },
        {
         "data": [
          {
           "hovertemplate": "club=CIN<br>frameId=14<br>x=%{x}<br>y=%{y}<extra></extra>",
           "legendgroup": "CIN",
           "marker": {
            "color": "Red",
            "symbol": "circle"
           },
           "mode": "markers",
           "name": "CIN",
           "orientation": "v",
           "showlegend": true,
           "type": "scatter",
           "x": [
            39.03,
            46.34,
            36.05,
            39.09,
            38.42,
            36.44,
            49.08,
            37.54,
            36.28,
            39.79,
            39.54
           ],
           "xaxis": "x",
           "y": [
            15.6,
            21.94,
            26.77,
            35.45,
            41.81,
            31.9,
            30.69,
            26.26,
            22.83,
            26.1,
            27.9
           ],
           "yaxis": "y"
          },
          {
           "hovertemplate": "club=PIT<br>frameId=14<br>x=%{x}<br>y=%{y}<extra></extra>",
           "legendgroup": "PIT",
           "marker": {
            "color": "Black",
            "symbol": "circle"
           },
           "mode": "markers",
           "name": "PIT",
           "orientation": "v",
           "showlegend": true,
           "type": "scatter",
           "x": [
            29.26,
            32.77,
            32.61,
            33.91,
            32.14,
            31.34,
            33.32,
            29.15,
            32.54,
            33.08,
            31.81
           ],
           "xaxis": "x",
           "y": [
            26.75,
            25.6,
            24.13,
            26.86,
            35.57,
            35.56,
            28.36,
            24.44,
            22.64,
            29.95,
            41.11
           ],
           "yaxis": "y"
          },
          {
           "hovertemplate": "club=football<br>frameId=14<br>x=%{x}<br>y=%{y}<extra></extra>",
           "legendgroup": "football",
           "marker": {
            "color": "Grey",
            "symbol": "circle"
           },
           "mode": "markers",
           "name": "football",
           "orientation": "v",
           "showlegend": true,
           "type": "scatter",
           "x": [
            34.6800003051758
           ],
           "xaxis": "x",
           "y": [
            26.6900005340576
           ],
           "yaxis": "y"
          }
         ],
         "name": "14"
        },
        {
         "data": [
          {
           "hovertemplate": "club=CIN<br>frameId=15<br>x=%{x}<br>y=%{y}<extra></extra>",
           "legendgroup": "CIN",
           "marker": {
            "color": "Red",
            "symbol": "circle"
           },
           "mode": "markers",
           "name": "CIN",
           "orientation": "v",
           "showlegend": true,
           "type": "scatter",
           "x": [
            39.08,
            46.34,
            36.05,
            39.1,
            38.34,
            36.44,
            48.97,
            37.49,
            36.28,
            39.77,
            39.54
           ],
           "xaxis": "x",
           "y": [
            15.7,
            21.94,
            26.79,
            35.68,
            41.9,
            31.9,
            30.77,
            26.16,
            22.83,
            26.08,
            27.91
           ],
           "yaxis": "y"
          },
          {
           "hovertemplate": "club=PIT<br>frameId=15<br>x=%{x}<br>y=%{y}<extra></extra>",
           "legendgroup": "PIT",
           "marker": {
            "color": "Black",
            "symbol": "circle"
           },
           "mode": "markers",
           "name": "PIT",
           "orientation": "v",
           "showlegend": true,
           "type": "scatter",
           "x": [
            29.28,
            32.86,
            32.71,
            33.95,
            32.25,
            31.46,
            33.4,
            29.18,
            32.66,
            33.17,
            31.94
           ],
           "xaxis": "x",
           "y": [
            26.72,
            25.58,
            24.08,
            26.86,
            35.77,
            35.65,
            28.34,
            24.42,
            22.61,
            29.96,
            41.33
           ],
           "yaxis": "y"
          },
          {
           "hovertemplate": "club=football<br>frameId=15<br>x=%{x}<br>y=%{y}<extra></extra>",
           "legendgroup": "football",
           "marker": {
            "color": "Grey",
            "symbol": "circle"
           },
           "mode": "markers",
           "name": "football",
           "orientation": "v",
           "showlegend": true,
           "type": "scatter",
           "x": [
            34.6800003051758
           ],
           "xaxis": "x",
           "y": [
            26.7000007629395
           ],
           "yaxis": "y"
          }
         ],
         "name": "15"
        },
        {
         "data": [
          {
           "hovertemplate": "club=CIN<br>frameId=16<br>x=%{x}<br>y=%{y}<extra></extra>",
           "legendgroup": "CIN",
           "marker": {
            "color": "Red",
            "symbol": "circle"
           },
           "mode": "markers",
           "name": "CIN",
           "orientation": "v",
           "showlegend": true,
           "type": "scatter",
           "x": [
            39.13,
            46.35,
            36.04,
            39.11,
            38.25,
            36.44,
            48.86,
            37.42,
            36.28,
            39.76,
            39.54
           ],
           "xaxis": "x",
           "y": [
            15.81,
            21.94,
            26.81,
            35.92,
            41.98,
            31.9,
            30.85,
            26.07,
            22.84,
            26.06,
            27.95
           ],
           "yaxis": "y"
          },
          {
           "hovertemplate": "club=PIT<br>frameId=16<br>x=%{x}<br>y=%{y}<extra></extra>",
           "legendgroup": "PIT",
           "marker": {
            "color": "Black",
            "symbol": "circle"
           },
           "mode": "markers",
           "name": "PIT",
           "orientation": "v",
           "showlegend": true,
           "type": "scatter",
           "x": [
            29.3,
            32.95,
            32.81,
            33.98,
            32.36,
            31.57,
            33.46,
            29.21,
            32.79,
            33.25,
            32.07
           ],
           "xaxis": "x",
           "y": [
            26.7,
            25.56,
            24.03,
            26.85,
            35.96,
            35.73,
            28.33,
            24.4,
            22.59,
            29.96,
            41.53
           ],
           "yaxis": "y"
          },
          {
           "hovertemplate": "club=football<br>frameId=16<br>x=%{x}<br>y=%{y}<extra></extra>",
           "legendgroup": "football",
           "marker": {
            "color": "Grey",
            "symbol": "circle"
           },
           "mode": "markers",
           "name": "football",
           "orientation": "v",
           "showlegend": true,
           "type": "scatter",
           "x": [
            34.6800003051758
           ],
           "xaxis": "x",
           "y": [
            26.7000007629395
           ],
           "yaxis": "y"
          }
         ],
         "name": "16"
        },
        {
         "data": [
          {
           "hovertemplate": "club=CIN<br>frameId=17<br>x=%{x}<br>y=%{y}<extra></extra>",
           "legendgroup": "CIN",
           "marker": {
            "color": "Red",
            "symbol": "circle"
           },
           "mode": "markers",
           "name": "CIN",
           "orientation": "v",
           "showlegend": true,
           "type": "scatter",
           "x": [
            39.17,
            46.35,
            36.04,
            39.13,
            38.17,
            36.44,
            48.74,
            37.35,
            36.27,
            39.75,
            39.53
           ],
           "xaxis": "x",
           "y": [
            15.92,
            21.94,
            26.82,
            36.13,
            42.07,
            31.9,
            30.93,
            25.96,
            22.84,
            26.03,
            28.02
           ],
           "yaxis": "y"
          },
          {
           "hovertemplate": "club=PIT<br>frameId=17<br>x=%{x}<br>y=%{y}<extra></extra>",
           "legendgroup": "PIT",
           "marker": {
            "color": "Black",
            "symbol": "circle"
           },
           "mode": "markers",
           "name": "PIT",
           "orientation": "v",
           "showlegend": true,
           "type": "scatter",
           "x": [
            29.32,
            33.02,
            32.89,
            34.01,
            32.47,
            31.67,
            33.52,
            29.24,
            32.9,
            33.31,
            32.2
           ],
           "xaxis": "x",
           "y": [
            26.69,
            25.53,
            23.99,
            26.85,
            36.13,
            35.79,
            28.33,
            24.39,
            22.58,
            29.96,
            41.72
           ],
           "yaxis": "y"
          },
          {
           "hovertemplate": "club=football<br>frameId=17<br>x=%{x}<br>y=%{y}<extra></extra>",
           "legendgroup": "football",
           "marker": {
            "color": "Grey",
            "symbol": "circle"
           },
           "mode": "markers",
           "name": "football",
           "orientation": "v",
           "showlegend": true,
           "type": "scatter",
           "x": [
            34.6800003051758
           ],
           "xaxis": "x",
           "y": [
            26.7000007629395
           ],
           "yaxis": "y"
          }
         ],
         "name": "17"
        },
        {
         "data": [
          {
           "hovertemplate": "club=CIN<br>frameId=18<br>x=%{x}<br>y=%{y}<extra></extra>",
           "legendgroup": "CIN",
           "marker": {
            "color": "Red",
            "symbol": "circle"
           },
           "mode": "markers",
           "name": "CIN",
           "orientation": "v",
           "showlegend": true,
           "type": "scatter",
           "x": [
            39.21,
            46.35,
            36.03,
            39.14,
            38.08,
            36.44,
            48.62,
            37.27,
            36.27,
            39.75,
            39.51
           ],
           "xaxis": "x",
           "y": [
            16.04,
            21.94,
            26.85,
            36.34,
            42.15,
            31.9,
            31,
            25.86,
            22.85,
            26.01,
            28.13
           ],
           "yaxis": "y"
          },
          {
           "hovertemplate": "club=PIT<br>frameId=18<br>x=%{x}<br>y=%{y}<extra></extra>",
           "legendgroup": "PIT",
           "marker": {
            "color": "Black",
            "symbol": "circle"
           },
           "mode": "markers",
           "name": "PIT",
           "orientation": "v",
           "showlegend": true,
           "type": "scatter",
           "x": [
            29.34,
            33.09,
            32.97,
            34.02,
            32.57,
            31.77,
            33.56,
            29.27,
            33.01,
            33.37,
            32.32
           ],
           "xaxis": "x",
           "y": [
            26.69,
            25.5,
            23.97,
            26.85,
            36.3,
            35.85,
            28.33,
            24.37,
            22.57,
            29.96,
            41.9
           ],
           "yaxis": "y"
          },
          {
           "hovertemplate": "club=football<br>frameId=18<br>x=%{x}<br>y=%{y}<extra></extra>",
           "legendgroup": "football",
           "marker": {
            "color": "Grey",
            "symbol": "circle"
           },
           "mode": "markers",
           "name": "football",
           "orientation": "v",
           "showlegend": true,
           "type": "scatter",
           "x": [
            34.6800003051758
           ],
           "xaxis": "x",
           "y": [
            26.7099990844727
           ],
           "yaxis": "y"
          }
         ],
         "name": "18"
        },
        {
         "data": [
          {
           "hovertemplate": "club=CIN<br>frameId=19<br>x=%{x}<br>y=%{y}<extra></extra>",
           "legendgroup": "CIN",
           "marker": {
            "color": "Red",
            "symbol": "circle"
           },
           "mode": "markers",
           "name": "CIN",
           "orientation": "v",
           "showlegend": true,
           "type": "scatter",
           "x": [
            39.25,
            46.35,
            36.01,
            39.15,
            38,
            36.44,
            48.5,
            37.2,
            36.27,
            39.75,
            39.5
           ],
           "xaxis": "x",
           "y": [
            16.15,
            21.94,
            26.91,
            36.53,
            42.24,
            31.9,
            31.07,
            25.75,
            22.85,
            26,
            28.28
           ],
           "yaxis": "y"
          },
          {
           "hovertemplate": "club=PIT<br>frameId=19<br>x=%{x}<br>y=%{y}<extra></extra>",
           "legendgroup": "PIT",
           "marker": {
            "color": "Black",
            "symbol": "circle"
           },
           "mode": "markers",
           "name": "PIT",
           "orientation": "v",
           "showlegend": true,
           "type": "scatter",
           "x": [
            29.35,
            33.16,
            33.04,
            34.04,
            32.66,
            31.87,
            33.61,
            29.3,
            33.11,
            33.4,
            32.45
           ],
           "xaxis": "x",
           "y": [
            26.7,
            25.47,
            23.95,
            26.86,
            36.45,
            35.89,
            28.34,
            24.36,
            22.56,
            29.97,
            42.07
           ],
           "yaxis": "y"
          },
          {
           "hovertemplate": "club=football<br>frameId=19<br>x=%{x}<br>y=%{y}<extra></extra>",
           "legendgroup": "football",
           "marker": {
            "color": "Grey",
            "symbol": "circle"
           },
           "mode": "markers",
           "name": "football",
           "orientation": "v",
           "showlegend": true,
           "type": "scatter",
           "x": [
            34.6800003051758
           ],
           "xaxis": "x",
           "y": [
            26.7099990844727
           ],
           "yaxis": "y"
          }
         ],
         "name": "19"
        },
        {
         "data": [
          {
           "hovertemplate": "club=CIN<br>frameId=20<br>x=%{x}<br>y=%{y}<extra></extra>",
           "legendgroup": "CIN",
           "marker": {
            "color": "Red",
            "symbol": "circle"
           },
           "mode": "markers",
           "name": "CIN",
           "orientation": "v",
           "showlegend": true,
           "type": "scatter",
           "x": [
            39.28,
            46.35,
            35.99,
            39.16,
            37.93,
            36.44,
            48.38,
            37.13,
            36.27,
            39.74,
            39.49
           ],
           "xaxis": "x",
           "y": [
            16.26,
            21.94,
            26.99,
            36.71,
            42.32,
            31.9,
            31.14,
            25.65,
            22.86,
            25.99,
            28.43
           ],
           "yaxis": "y"
          },
          {
           "hovertemplate": "club=PIT<br>frameId=20<br>x=%{x}<br>y=%{y}<extra></extra>",
           "legendgroup": "PIT",
           "marker": {
            "color": "Black",
            "symbol": "circle"
           },
           "mode": "markers",
           "name": "PIT",
           "orientation": "v",
           "showlegend": true,
           "type": "scatter",
           "x": [
            29.37,
            33.22,
            33.1,
            34.05,
            32.75,
            31.96,
            33.64,
            29.33,
            33.2,
            33.43,
            32.57
           ],
           "xaxis": "x",
           "y": [
            26.72,
            25.44,
            23.94,
            26.87,
            36.59,
            35.93,
            28.34,
            24.36,
            22.55,
            29.97,
            42.23
           ],
           "yaxis": "y"
          },
          {
           "hovertemplate": "club=football<br>frameId=20<br>x=%{x}<br>y=%{y}<extra></extra>",
           "legendgroup": "football",
           "marker": {
            "color": "Grey",
            "symbol": "circle"
           },
           "mode": "markers",
           "name": "football",
           "orientation": "v",
           "showlegend": true,
           "type": "scatter",
           "x": [
            34.6800003051758
           ],
           "xaxis": "x",
           "y": [
            26.7099990844727
           ],
           "yaxis": "y"
          }
         ],
         "name": "20"
        },
        {
         "data": [
          {
           "hovertemplate": "club=CIN<br>frameId=21<br>x=%{x}<br>y=%{y}<extra></extra>",
           "legendgroup": "CIN",
           "marker": {
            "color": "Red",
            "symbol": "circle"
           },
           "mode": "markers",
           "name": "CIN",
           "orientation": "v",
           "showlegend": true,
           "type": "scatter",
           "x": [
            39.31,
            46.35,
            35.97,
            39.17,
            37.86,
            36.44,
            48.25,
            37.05,
            36.27,
            39.75,
            39.48
           ],
           "xaxis": "x",
           "y": [
            16.37,
            21.94,
            27.09,
            36.89,
            42.4,
            31.9,
            31.22,
            25.55,
            22.86,
            25.98,
            28.61
           ],
           "yaxis": "y"
          },
          {
           "hovertemplate": "club=PIT<br>frameId=21<br>x=%{x}<br>y=%{y}<extra></extra>",
           "legendgroup": "PIT",
           "marker": {
            "color": "Black",
            "symbol": "circle"
           },
           "mode": "markers",
           "name": "PIT",
           "orientation": "v",
           "showlegend": true,
           "type": "scatter",
           "x": [
            29.39,
            33.28,
            33.15,
            34.06,
            32.83,
            32.06,
            33.67,
            29.36,
            33.27,
            33.45,
            32.69
           ],
           "xaxis": "x",
           "y": [
            26.74,
            25.41,
            23.92,
            26.87,
            36.73,
            35.97,
            28.35,
            24.37,
            22.52,
            29.97,
            42.38
           ],
           "yaxis": "y"
          },
          {
           "hovertemplate": "club=football<br>frameId=21<br>x=%{x}<br>y=%{y}<extra></extra>",
           "legendgroup": "football",
           "marker": {
            "color": "Grey",
            "symbol": "circle"
           },
           "mode": "markers",
           "name": "football",
           "orientation": "v",
           "showlegend": true,
           "type": "scatter",
           "x": [
            34.6800003051758
           ],
           "xaxis": "x",
           "y": [
            26.7199993133545
           ],
           "yaxis": "y"
          }
         ],
         "name": "21"
        },
        {
         "data": [
          {
           "hovertemplate": "club=CIN<br>frameId=22<br>x=%{x}<br>y=%{y}<extra></extra>",
           "legendgroup": "CIN",
           "marker": {
            "color": "Red",
            "symbol": "circle"
           },
           "mode": "markers",
           "name": "CIN",
           "orientation": "v",
           "showlegend": true,
           "type": "scatter",
           "x": [
            39.33,
            46.35,
            35.96,
            39.18,
            37.8,
            36.44,
            48.13,
            36.96,
            36.27,
            39.74,
            39.47
           ],
           "xaxis": "x",
           "y": [
            16.49,
            21.94,
            27.2,
            37.05,
            42.48,
            31.9,
            31.3,
            25.44,
            22.87,
            25.95,
            28.79
           ],
           "yaxis": "y"
          },
          {
           "hovertemplate": "club=PIT<br>frameId=22<br>x=%{x}<br>y=%{y}<extra></extra>",
           "legendgroup": "PIT",
           "marker": {
            "color": "Black",
            "symbol": "circle"
           },
           "mode": "markers",
           "name": "PIT",
           "orientation": "v",
           "showlegend": true,
           "type": "scatter",
           "x": [
            29.4,
            33.33,
            33.18,
            34.07,
            32.91,
            32.15,
            33.69,
            29.39,
            33.33,
            33.47,
            32.81
           ],
           "xaxis": "x",
           "y": [
            26.75,
            25.39,
            23.92,
            26.88,
            36.85,
            36,
            28.35,
            24.38,
            22.48,
            29.96,
            42.53
           ],
           "yaxis": "y"
          },
          {
           "hovertemplate": "club=football<br>frameId=22<br>x=%{x}<br>y=%{y}<extra></extra>",
           "legendgroup": "football",
           "marker": {
            "color": "Grey",
            "symbol": "circle"
           },
           "mode": "markers",
           "name": "football",
           "orientation": "v",
           "showlegend": true,
           "type": "scatter",
           "x": [
            34.6800003051758
           ],
           "xaxis": "x",
           "y": [
            26.7199993133545
           ],
           "yaxis": "y"
          }
         ],
         "name": "22"
        },
        {
         "data": [
          {
           "hovertemplate": "club=CIN<br>frameId=23<br>x=%{x}<br>y=%{y}<extra></extra>",
           "legendgroup": "CIN",
           "marker": {
            "color": "Red",
            "symbol": "circle"
           },
           "mode": "markers",
           "name": "CIN",
           "orientation": "v",
           "showlegend": true,
           "type": "scatter",
           "x": [
            39.35,
            46.35,
            35.94,
            39.19,
            37.75,
            36.44,
            48.01,
            36.88,
            36.27,
            39.75,
            39.45
           ],
           "xaxis": "x",
           "y": [
            16.6,
            21.94,
            27.32,
            37.2,
            42.56,
            31.9,
            31.39,
            25.34,
            22.87,
            25.94,
            28.97
           ],
           "yaxis": "y"
          },
          {
           "hovertemplate": "club=PIT<br>frameId=23<br>x=%{x}<br>y=%{y}<extra></extra>",
           "legendgroup": "PIT",
           "marker": {
            "color": "Black",
            "symbol": "circle"
           },
           "mode": "markers",
           "name": "PIT",
           "orientation": "v",
           "showlegend": true,
           "type": "scatter",
           "x": [
            29.42,
            33.38,
            33.21,
            34.09,
            32.98,
            32.25,
            33.71,
            29.41,
            33.38,
            33.49,
            32.93
           ],
           "xaxis": "x",
           "y": [
            26.76,
            25.36,
            23.91,
            26.88,
            36.97,
            36.02,
            28.36,
            24.4,
            22.43,
            29.95,
            42.66
           ],
           "yaxis": "y"
          },
          {
           "hovertemplate": "club=football<br>frameId=23<br>x=%{x}<br>y=%{y}<extra></extra>",
           "legendgroup": "football",
           "marker": {
            "color": "Grey",
            "symbol": "circle"
           },
           "mode": "markers",
           "name": "football",
           "orientation": "v",
           "showlegend": true,
           "type": "scatter",
           "x": [
            34.6800003051758
           ],
           "xaxis": "x",
           "y": [
            26.7199993133545
           ],
           "yaxis": "y"
          }
         ],
         "name": "23"
        },
        {
         "data": [
          {
           "hovertemplate": "club=CIN<br>frameId=24<br>x=%{x}<br>y=%{y}<extra></extra>",
           "legendgroup": "CIN",
           "marker": {
            "color": "Red",
            "symbol": "circle"
           },
           "mode": "markers",
           "name": "CIN",
           "orientation": "v",
           "showlegend": true,
           "type": "scatter",
           "x": [
            39.37,
            46.35,
            35.94,
            39.19,
            37.71,
            36.43,
            47.89,
            36.8,
            36.26,
            39.74,
            39.44
           ],
           "xaxis": "x",
           "y": [
            16.71,
            21.94,
            27.44,
            37.35,
            42.64,
            31.9,
            31.48,
            25.24,
            22.88,
            25.91,
            29.14
           ],
           "yaxis": "y"
          },
          {
           "hovertemplate": "club=PIT<br>frameId=24<br>x=%{x}<br>y=%{y}<extra></extra>",
           "legendgroup": "PIT",
           "marker": {
            "color": "Black",
            "symbol": "circle"
           },
           "mode": "markers",
           "name": "PIT",
           "orientation": "v",
           "showlegend": true,
           "type": "scatter",
           "x": [
            29.44,
            33.42,
            33.24,
            34.11,
            33.04,
            32.34,
            33.73,
            29.44,
            33.41,
            33.5,
            33.04
           ],
           "xaxis": "x",
           "y": [
            26.75,
            25.35,
            23.91,
            26.89,
            37.1,
            36.03,
            28.37,
            24.44,
            22.36,
            29.95,
            42.79
           ],
           "yaxis": "y"
          },
          {
           "hovertemplate": "club=football<br>frameId=24<br>x=%{x}<br>y=%{y}<extra></extra>",
           "legendgroup": "football",
           "marker": {
            "color": "Grey",
            "symbol": "circle"
           },
           "mode": "markers",
           "name": "football",
           "orientation": "v",
           "showlegend": true,
           "type": "scatter",
           "x": [
            34.6800003051758
           ],
           "xaxis": "x",
           "y": [
            26.7299995422363
           ],
           "yaxis": "y"
          }
         ],
         "name": "24"
        },
        {
         "data": [
          {
           "hovertemplate": "club=CIN<br>frameId=25<br>x=%{x}<br>y=%{y}<extra></extra>",
           "legendgroup": "CIN",
           "marker": {
            "color": "Red",
            "symbol": "circle"
           },
           "mode": "markers",
           "name": "CIN",
           "orientation": "v",
           "showlegend": true,
           "type": "scatter",
           "x": [
            39.39,
            46.35,
            35.94,
            39.18,
            37.69,
            36.43,
            47.78,
            36.71,
            36.26,
            39.75,
            39.43
           ],
           "xaxis": "x",
           "y": [
            16.83,
            21.94,
            27.56,
            37.49,
            42.73,
            31.9,
            31.57,
            25.15,
            22.88,
            25.89,
            29.29
           ],
           "yaxis": "y"
          },
          {
           "hovertemplate": "club=PIT<br>frameId=25<br>x=%{x}<br>y=%{y}<extra></extra>",
           "legendgroup": "PIT",
           "marker": {
            "color": "Black",
            "symbol": "circle"
           },
           "mode": "markers",
           "name": "PIT",
           "orientation": "v",
           "showlegend": true,
           "type": "scatter",
           "x": [
            29.47,
            33.45,
            33.26,
            34.13,
            33.1,
            32.42,
            33.75,
            29.46,
            33.43,
            33.52,
            33.15
           ],
           "xaxis": "x",
           "y": [
            26.73,
            25.34,
            23.89,
            26.89,
            37.22,
            36.03,
            28.37,
            24.48,
            22.29,
            29.95,
            42.9
           ],
           "yaxis": "y"
          },
          {
           "hovertemplate": "club=football<br>frameId=25<br>x=%{x}<br>y=%{y}<extra></extra>",
           "legendgroup": "football",
           "marker": {
            "color": "Grey",
            "symbol": "circle"
           },
           "mode": "markers",
           "name": "football",
           "orientation": "v",
           "showlegend": true,
           "type": "scatter",
           "x": [
            34.6800003051758
           ],
           "xaxis": "x",
           "y": [
            26.7299995422363
           ],
           "yaxis": "y"
          }
         ],
         "name": "25"
        },
        {
         "data": [
          {
           "hovertemplate": "club=CIN<br>frameId=26<br>x=%{x}<br>y=%{y}<extra></extra>",
           "legendgroup": "CIN",
           "marker": {
            "color": "Red",
            "symbol": "circle"
           },
           "mode": "markers",
           "name": "CIN",
           "orientation": "v",
           "showlegend": true,
           "type": "scatter",
           "x": [
            39.4,
            46.35,
            35.94,
            39.18,
            37.67,
            36.43,
            47.67,
            36.63,
            36.25,
            39.75,
            39.41
           ],
           "xaxis": "x",
           "y": [
            16.94,
            21.94,
            27.67,
            37.63,
            42.81,
            31.9,
            31.66,
            25.07,
            22.88,
            25.87,
            29.44
           ],
           "yaxis": "y"
          },
          {
           "hovertemplate": "club=PIT<br>frameId=26<br>x=%{x}<br>y=%{y}<extra></extra>",
           "legendgroup": "PIT",
           "marker": {
            "color": "Black",
            "symbol": "circle"
           },
           "mode": "markers",
           "name": "PIT",
           "orientation": "v",
           "showlegend": true,
           "type": "scatter",
           "x": [
            29.49,
            33.47,
            33.27,
            34.16,
            33.14,
            32.5,
            33.77,
            29.48,
            33.44,
            33.52,
            33.26
           ],
           "xaxis": "x",
           "y": [
            26.7,
            25.32,
            23.89,
            26.88,
            37.34,
            36.03,
            28.38,
            24.52,
            22.22,
            29.94,
            43.02
           ],
           "yaxis": "y"
          },
          {
           "hovertemplate": "club=football<br>frameId=26<br>x=%{x}<br>y=%{y}<extra></extra>",
           "legendgroup": "football",
           "marker": {
            "color": "Grey",
            "symbol": "circle"
           },
           "mode": "markers",
           "name": "football",
           "orientation": "v",
           "showlegend": true,
           "type": "scatter",
           "x": [
            34.6800003051758
           ],
           "xaxis": "x",
           "y": [
            26.7299995422363
           ],
           "yaxis": "y"
          }
         ],
         "name": "26"
        },
        {
         "data": [
          {
           "hovertemplate": "club=CIN<br>frameId=27<br>x=%{x}<br>y=%{y}<extra></extra>",
           "legendgroup": "CIN",
           "marker": {
            "color": "Red",
            "symbol": "circle"
           },
           "mode": "markers",
           "name": "CIN",
           "orientation": "v",
           "showlegend": true,
           "type": "scatter",
           "x": [
            39.42,
            46.35,
            35.95,
            39.18,
            37.66,
            36.43,
            47.56,
            36.55,
            36.25,
            39.75,
            39.39
           ],
           "xaxis": "x",
           "y": [
            17.06,
            21.94,
            27.77,
            37.76,
            42.9,
            31.9,
            31.76,
            24.98,
            22.88,
            25.87,
            29.56
           ],
           "yaxis": "y"
          },
          {
           "hovertemplate": "club=PIT<br>frameId=27<br>x=%{x}<br>y=%{y}<extra></extra>",
           "legendgroup": "PIT",
           "marker": {
            "color": "Black",
            "symbol": "circle"
           },
           "mode": "markers",
           "name": "PIT",
           "orientation": "v",
           "showlegend": true,
           "type": "scatter",
           "x": [
            29.52,
            33.49,
            33.29,
            34.19,
            33.18,
            32.57,
            33.78,
            29.5,
            33.45,
            33.54,
            33.36
           ],
           "xaxis": "x",
           "y": [
            26.66,
            25.32,
            23.89,
            26.89,
            37.47,
            36.01,
            28.38,
            24.56,
            22.16,
            29.94,
            43.13
           ],
           "yaxis": "y"
          },
          {
           "hovertemplate": "club=football<br>frameId=27<br>x=%{x}<br>y=%{y}<extra></extra>",
           "legendgroup": "football",
           "marker": {
            "color": "Grey",
            "symbol": "circle"
           },
           "mode": "markers",
           "name": "football",
           "orientation": "v",
           "showlegend": true,
           "type": "scatter",
           "x": [
            34.6800003051758
           ],
           "xaxis": "x",
           "y": [
            26.7299995422363
           ],
           "yaxis": "y"
          }
         ],
         "name": "27"
        },
        {
         "data": [
          {
           "hovertemplate": "club=CIN<br>frameId=28<br>x=%{x}<br>y=%{y}<extra></extra>",
           "legendgroup": "CIN",
           "marker": {
            "color": "Red",
            "symbol": "circle"
           },
           "mode": "markers",
           "name": "CIN",
           "orientation": "v",
           "showlegend": true,
           "type": "scatter",
           "x": [
            39.43,
            46.35,
            35.95,
            39.18,
            37.66,
            36.43,
            47.46,
            36.47,
            36.25,
            39.75,
            39.37
           ],
           "xaxis": "x",
           "y": [
            17.17,
            21.94,
            27.86,
            37.88,
            42.99,
            31.9,
            31.86,
            24.91,
            22.88,
            25.87,
            29.68
           ],
           "yaxis": "y"
          },
          {
           "hovertemplate": "club=PIT<br>frameId=28<br>x=%{x}<br>y=%{y}<extra></extra>",
           "legendgroup": "PIT",
           "marker": {
            "color": "Black",
            "symbol": "circle"
           },
           "mode": "markers",
           "name": "PIT",
           "orientation": "v",
           "showlegend": true,
           "type": "scatter",
           "x": [
            29.55,
            33.49,
            33.31,
            34.23,
            33.22,
            32.63,
            33.79,
            29.52,
            33.44,
            33.55,
            33.46
           ],
           "xaxis": "x",
           "y": [
            26.63,
            25.31,
            23.9,
            26.88,
            37.6,
            36.01,
            28.39,
            24.61,
            22.11,
            29.93,
            43.22
           ],
           "yaxis": "y"
          },
          {
           "hovertemplate": "club=football<br>frameId=28<br>x=%{x}<br>y=%{y}<extra></extra>",
           "legendgroup": "football",
           "marker": {
            "color": "Grey",
            "symbol": "circle"
           },
           "mode": "markers",
           "name": "football",
           "orientation": "v",
           "showlegend": true,
           "type": "scatter",
           "x": [
            34.6800003051758
           ],
           "xaxis": "x",
           "y": [
            26.7299995422363
           ],
           "yaxis": "y"
          }
         ],
         "name": "28"
        },
        {
         "data": [
          {
           "hovertemplate": "club=CIN<br>frameId=29<br>x=%{x}<br>y=%{y}<extra></extra>",
           "legendgroup": "CIN",
           "marker": {
            "color": "Red",
            "symbol": "circle"
           },
           "mode": "markers",
           "name": "CIN",
           "orientation": "v",
           "showlegend": true,
           "type": "scatter",
           "x": [
            39.45,
            46.35,
            35.95,
            39.18,
            37.68,
            36.42,
            47.35,
            36.4,
            36.24,
            39.76,
            39.35
           ],
           "xaxis": "x",
           "y": [
            17.28,
            21.94,
            27.92,
            37.98,
            43.07,
            31.9,
            31.96,
            24.83,
            22.87,
            25.85,
            29.78
           ],
           "yaxis": "y"
          },
          {
           "hovertemplate": "club=PIT<br>frameId=29<br>x=%{x}<br>y=%{y}<extra></extra>",
           "legendgroup": "PIT",
           "marker": {
            "color": "Black",
            "symbol": "circle"
           },
           "mode": "markers",
           "name": "PIT",
           "orientation": "v",
           "showlegend": true,
           "type": "scatter",
           "x": [
            29.58,
            33.51,
            33.33,
            34.27,
            33.25,
            32.68,
            33.78,
            29.53,
            33.43,
            33.56,
            33.55
           ],
           "xaxis": "x",
           "y": [
            26.58,
            25.31,
            23.91,
            26.89,
            37.74,
            36,
            28.38,
            24.66,
            22.08,
            29.92,
            43.3
           ],
           "yaxis": "y"
          },
          {
           "hovertemplate": "club=football<br>frameId=29<br>x=%{x}<br>y=%{y}<extra></extra>",
           "legendgroup": "football",
           "marker": {
            "color": "Grey",
            "symbol": "circle"
           },
           "mode": "markers",
           "name": "football",
           "orientation": "v",
           "showlegend": true,
           "type": "scatter",
           "x": [
            34.6699981689453
           ],
           "xaxis": "x",
           "y": [
            26.7299995422363
           ],
           "yaxis": "y"
          }
         ],
         "name": "29"
        },
        {
         "data": [
          {
           "hovertemplate": "club=CIN<br>frameId=30<br>x=%{x}<br>y=%{y}<extra></extra>",
           "legendgroup": "CIN",
           "marker": {
            "color": "Red",
            "symbol": "circle"
           },
           "mode": "markers",
           "name": "CIN",
           "orientation": "v",
           "showlegend": true,
           "type": "scatter",
           "x": [
            39.46,
            46.34,
            35.95,
            39.19,
            37.71,
            36.42,
            47.26,
            36.33,
            36.24,
            39.76,
            39.33
           ],
           "xaxis": "x",
           "y": [
            17.38,
            21.94,
            27.96,
            38.09,
            43.16,
            31.9,
            32.06,
            24.77,
            22.87,
            25.86,
            29.88
           ],
           "yaxis": "y"
          },
          {
           "hovertemplate": "club=PIT<br>frameId=30<br>x=%{x}<br>y=%{y}<extra></extra>",
           "legendgroup": "PIT",
           "marker": {
            "color": "Black",
            "symbol": "circle"
           },
           "mode": "markers",
           "name": "PIT",
           "orientation": "v",
           "showlegend": true,
           "type": "scatter",
           "x": [
            29.61,
            33.51,
            33.35,
            34.3,
            33.28,
            32.71,
            33.78,
            29.54,
            33.42,
            33.57,
            33.64
           ],
           "xaxis": "x",
           "y": [
            26.54,
            25.31,
            23.92,
            26.88,
            37.88,
            36.01,
            28.38,
            24.7,
            22.07,
            29.91,
            43.38
           ],
           "yaxis": "y"
          },
          {
           "hovertemplate": "club=football<br>frameId=30<br>x=%{x}<br>y=%{y}<extra></extra>",
           "legendgroup": "football",
           "marker": {
            "color": "Grey",
            "symbol": "circle"
           },
           "mode": "markers",
           "name": "football",
           "orientation": "v",
           "showlegend": true,
           "type": "scatter",
           "x": [
            34.6699981689453
           ],
           "xaxis": "x",
           "y": [
            26.7299995422363
           ],
           "yaxis": "y"
          }
         ],
         "name": "30"
        },
        {
         "data": [
          {
           "hovertemplate": "club=CIN<br>frameId=31<br>x=%{x}<br>y=%{y}<extra></extra>",
           "legendgroup": "CIN",
           "marker": {
            "color": "Red",
            "symbol": "circle"
           },
           "mode": "markers",
           "name": "CIN",
           "orientation": "v",
           "showlegend": true,
           "type": "scatter",
           "x": [
            39.47,
            46.34,
            35.93,
            39.2,
            37.75,
            36.42,
            47.16,
            36.26,
            36.23,
            39.76,
            39.3
           ],
           "xaxis": "x",
           "y": [
            17.48,
            21.95,
            27.99,
            38.18,
            43.24,
            31.9,
            32.17,
            24.7,
            22.86,
            25.86,
            29.96
           ],
           "yaxis": "y"
          },
          {
           "hovertemplate": "club=PIT<br>frameId=31<br>x=%{x}<br>y=%{y}<extra></extra>",
           "legendgroup": "PIT",
           "marker": {
            "color": "Black",
            "symbol": "circle"
           },
           "mode": "markers",
           "name": "PIT",
           "orientation": "v",
           "showlegend": true,
           "type": "scatter",
           "x": [
            29.63,
            33.51,
            33.36,
            34.32,
            33.29,
            32.73,
            33.78,
            29.56,
            33.41,
            33.58,
            33.72
           ],
           "xaxis": "x",
           "y": [
            26.51,
            25.31,
            23.94,
            26.87,
            38.02,
            36.01,
            28.38,
            24.73,
            22.08,
            29.9,
            43.44
           ],
           "yaxis": "y"
          },
          {
           "hovertemplate": "club=football<br>frameId=31<br>x=%{x}<br>y=%{y}<extra></extra>",
           "legendgroup": "football",
           "marker": {
            "color": "Grey",
            "symbol": "circle"
           },
           "mode": "markers",
           "name": "football",
           "orientation": "v",
           "showlegend": true,
           "type": "scatter",
           "x": [
            34.6699981689453
           ],
           "xaxis": "x",
           "y": [
            26.7299995422363
           ],
           "yaxis": "y"
          }
         ],
         "name": "31"
        },
        {
         "data": [
          {
           "hovertemplate": "club=CIN<br>frameId=32<br>x=%{x}<br>y=%{y}<extra></extra>",
           "legendgroup": "CIN",
           "marker": {
            "color": "Red",
            "symbol": "circle"
           },
           "mode": "markers",
           "name": "CIN",
           "orientation": "v",
           "showlegend": true,
           "type": "scatter",
           "x": [
            39.48,
            46.32,
            35.92,
            39.21,
            37.81,
            36.41,
            47.07,
            36.2,
            36.21,
            39.76,
            39.28
           ],
           "xaxis": "x",
           "y": [
            17.57,
            21.96,
            28.01,
            38.26,
            43.32,
            31.9,
            32.28,
            24.65,
            22.83,
            25.85,
            30.04
           ],
           "yaxis": "y"
          },
          {
           "hovertemplate": "club=PIT<br>frameId=32<br>x=%{x}<br>y=%{y}<extra></extra>",
           "legendgroup": "PIT",
           "marker": {
            "color": "Black",
            "symbol": "circle"
           },
           "mode": "markers",
           "name": "PIT",
           "orientation": "v",
           "showlegend": true,
           "type": "scatter",
           "x": [
            29.66,
            33.5,
            33.39,
            34.34,
            33.31,
            32.74,
            33.78,
            29.56,
            33.4,
            33.58,
            33.79
           ],
           "xaxis": "x",
           "y": [
            26.5,
            25.3,
            23.96,
            26.87,
            38.16,
            36.02,
            28.38,
            24.74,
            22.1,
            29.89,
            43.5
           ],
           "yaxis": "y"
          },
          {
           "hovertemplate": "club=football<br>frameId=32<br>x=%{x}<br>y=%{y}<extra></extra>",
           "legendgroup": "football",
           "marker": {
            "color": "Grey",
            "symbol": "circle"
           },
           "mode": "markers",
           "name": "football",
           "orientation": "v",
           "showlegend": true,
           "type": "scatter",
           "x": [
            34.6699981689453
           ],
           "xaxis": "x",
           "y": [
            26.7399997711182
           ],
           "yaxis": "y"
          }
         ],
         "name": "32"
        },
        {
         "data": [
          {
           "hovertemplate": "club=CIN<br>frameId=33<br>x=%{x}<br>y=%{y}<extra></extra>",
           "legendgroup": "CIN",
           "marker": {
            "color": "Red",
            "symbol": "circle"
           },
           "mode": "markers",
           "name": "CIN",
           "orientation": "v",
           "showlegend": true,
           "type": "scatter",
           "x": [
            39.49,
            46.32,
            35.89,
            39.22,
            37.87,
            36.4,
            46.99,
            36.15,
            36.19,
            39.75,
            39.25
           ],
           "xaxis": "x",
           "y": [
            17.67,
            21.96,
            28.01,
            38.34,
            43.39,
            31.91,
            32.39,
            24.6,
            22.8,
            25.85,
            30.12
           ],
           "yaxis": "y"
          },
          {
           "hovertemplate": "club=PIT<br>frameId=33<br>x=%{x}<br>y=%{y}<extra></extra>",
           "legendgroup": "PIT",
           "marker": {
            "color": "Black",
            "symbol": "circle"
           },
           "mode": "markers",
           "name": "PIT",
           "orientation": "v",
           "showlegend": true,
           "type": "scatter",
           "x": [
            29.68,
            33.5,
            33.41,
            34.37,
            33.31,
            32.73,
            33.78,
            29.57,
            33.4,
            33.58,
            33.87
           ],
           "xaxis": "x",
           "y": [
            26.5,
            25.29,
            23.97,
            26.87,
            38.28,
            36.03,
            28.38,
            24.75,
            22.13,
            29.89,
            43.55
           ],
           "yaxis": "y"
          },
          {
           "hovertemplate": "club=football<br>frameId=33<br>x=%{x}<br>y=%{y}<extra></extra>",
           "legendgroup": "football",
           "marker": {
            "color": "Grey",
            "symbol": "circle"
           },
           "mode": "markers",
           "name": "football",
           "orientation": "v",
           "showlegend": true,
           "type": "scatter",
           "x": [
            34.6699981689453
           ],
           "xaxis": "x",
           "y": [
            26.7399997711182
           ],
           "yaxis": "y"
          }
         ],
         "name": "33"
        },
        {
         "data": [
          {
           "hovertemplate": "club=CIN<br>frameId=34<br>x=%{x}<br>y=%{y}<extra></extra>",
           "legendgroup": "CIN",
           "marker": {
            "color": "Red",
            "symbol": "circle"
           },
           "mode": "markers",
           "name": "CIN",
           "orientation": "v",
           "showlegend": true,
           "type": "scatter",
           "x": [
            39.51,
            46.31,
            35.86,
            39.23,
            37.95,
            36.39,
            46.92,
            36.12,
            36.16,
            39.75,
            39.22
           ],
           "xaxis": "x",
           "y": [
            17.76,
            21.97,
            28.01,
            38.41,
            43.46,
            31.91,
            32.51,
            24.58,
            22.75,
            25.85,
            30.19
           ],
           "yaxis": "y"
          },
          {
           "hovertemplate": "club=PIT<br>frameId=34<br>x=%{x}<br>y=%{y}<extra></extra>",
           "legendgroup": "PIT",
           "marker": {
            "color": "Black",
            "symbol": "circle"
           },
           "mode": "markers",
           "name": "PIT",
           "orientation": "v",
           "showlegend": true,
           "type": "scatter",
           "x": [
            29.7,
            33.5,
            33.44,
            34.39,
            33.3,
            32.73,
            33.78,
            29.58,
            33.4,
            33.57,
            33.94
           ],
           "xaxis": "x",
           "y": [
            26.51,
            25.27,
            23.98,
            26.87,
            38.4,
            36.05,
            28.38,
            24.75,
            22.17,
            29.9,
            43.59
           ],
           "yaxis": "y"
          },
          {
           "hovertemplate": "club=football<br>frameId=34<br>x=%{x}<br>y=%{y}<extra></extra>",
           "legendgroup": "football",
           "marker": {
            "color": "Grey",
            "symbol": "circle"
           },
           "mode": "markers",
           "name": "football",
           "orientation": "v",
           "showlegend": true,
           "type": "scatter",
           "x": [
            34.6699981689453
           ],
           "xaxis": "x",
           "y": [
            26.7399997711182
           ],
           "yaxis": "y"
          }
         ],
         "name": "34"
        },
        {
         "data": [
          {
           "hovertemplate": "club=CIN<br>frameId=35<br>x=%{x}<br>y=%{y}<extra></extra>",
           "legendgroup": "CIN",
           "marker": {
            "color": "Red",
            "symbol": "circle"
           },
           "mode": "markers",
           "name": "CIN",
           "orientation": "v",
           "showlegend": true,
           "type": "scatter",
           "x": [
            39.52,
            46.3,
            35.83,
            39.23,
            38.03,
            36.38,
            46.84,
            36.09,
            36.13,
            39.75,
            39.19
           ],
           "xaxis": "x",
           "y": [
            17.84,
            21.98,
            28,
            38.48,
            43.51,
            31.91,
            32.62,
            24.56,
            22.71,
            25.84,
            30.26
           ],
           "yaxis": "y"
          },
          {
           "hovertemplate": "club=PIT<br>frameId=35<br>x=%{x}<br>y=%{y}<extra></extra>",
           "legendgroup": "PIT",
           "marker": {
            "color": "Black",
            "symbol": "circle"
           },
           "mode": "markers",
           "name": "PIT",
           "orientation": "v",
           "showlegend": true,
           "type": "scatter",
           "x": [
            29.71,
            33.49,
            33.46,
            34.39,
            33.29,
            32.72,
            33.78,
            29.59,
            33.4,
            33.56,
            34
           ],
           "xaxis": "x",
           "y": [
            26.53,
            25.26,
            23.99,
            26.86,
            38.5,
            36.06,
            28.38,
            24.74,
            22.21,
            29.92,
            43.63
           ],
           "yaxis": "y"
          },
          {
           "hovertemplate": "club=football<br>frameId=35<br>x=%{x}<br>y=%{y}<extra></extra>",
           "legendgroup": "football",
           "marker": {
            "color": "Grey",
            "symbol": "circle"
           },
           "mode": "markers",
           "name": "football",
           "orientation": "v",
           "showlegend": true,
           "type": "scatter",
           "x": [
            34.6699981689453
           ],
           "xaxis": "x",
           "y": [
            26.7399997711182
           ],
           "yaxis": "y"
          }
         ],
         "name": "35"
        },
        {
         "data": [
          {
           "hovertemplate": "club=CIN<br>frameId=36<br>x=%{x}<br>y=%{y}<extra></extra>",
           "legendgroup": "CIN",
           "marker": {
            "color": "Red",
            "symbol": "circle"
           },
           "mode": "markers",
           "name": "CIN",
           "orientation": "v",
           "showlegend": true,
           "type": "scatter",
           "x": [
            39.54,
            46.29,
            35.79,
            39.23,
            38.13,
            36.37,
            46.77,
            36.07,
            36.09,
            39.74,
            39.16
           ],
           "xaxis": "x",
           "y": [
            17.92,
            21.99,
            27.99,
            38.55,
            43.56,
            31.91,
            32.74,
            24.56,
            22.66,
            25.83,
            30.32
           ],
           "yaxis": "y"
          },
          {
           "hovertemplate": "club=PIT<br>frameId=36<br>x=%{x}<br>y=%{y}<extra></extra>",
           "legendgroup": "PIT",
           "marker": {
            "color": "Black",
            "symbol": "circle"
           },
           "mode": "markers",
           "name": "PIT",
           "orientation": "v",
           "showlegend": true,
           "type": "scatter",
           "x": [
            29.73,
            33.49,
            33.48,
            34.42,
            33.27,
            32.71,
            33.78,
            29.6,
            33.4,
            33.55,
            34.05
           ],
           "xaxis": "x",
           "y": [
            26.56,
            25.26,
            23.99,
            26.85,
            38.59,
            36.07,
            28.39,
            24.71,
            22.24,
            29.96,
            43.65
           ],
           "yaxis": "y"
          },
          {
           "hovertemplate": "club=football<br>frameId=36<br>x=%{x}<br>y=%{y}<extra></extra>",
           "legendgroup": "football",
           "marker": {
            "color": "Grey",
            "symbol": "circle"
           },
           "mode": "markers",
           "name": "football",
           "orientation": "v",
           "showlegend": true,
           "type": "scatter",
           "x": [
            34.6599998474121
           ],
           "xaxis": "x",
           "y": [
            26.7399997711182
           ],
           "yaxis": "y"
          }
         ],
         "name": "36"
        },
        {
         "data": [
          {
           "hovertemplate": "club=CIN<br>frameId=37<br>x=%{x}<br>y=%{y}<extra></extra>",
           "legendgroup": "CIN",
           "marker": {
            "color": "Red",
            "symbol": "circle"
           },
           "mode": "markers",
           "name": "CIN",
           "orientation": "v",
           "showlegend": true,
           "type": "scatter",
           "x": [
            39.56,
            46.28,
            35.75,
            39.22,
            38.22,
            36.37,
            46.71,
            36.06,
            36.06,
            39.74,
            39.13
           ],
           "xaxis": "x",
           "y": [
            17.99,
            21.99,
            27.98,
            38.61,
            43.6,
            31.91,
            32.86,
            24.56,
            22.62,
            25.83,
            30.38
           ],
           "yaxis": "y"
          },
          {
           "hovertemplate": "club=PIT<br>frameId=37<br>x=%{x}<br>y=%{y}<extra></extra>",
           "legendgroup": "PIT",
           "marker": {
            "color": "Black",
            "symbol": "circle"
           },
           "mode": "markers",
           "name": "PIT",
           "orientation": "v",
           "showlegend": true,
           "type": "scatter",
           "x": [
            29.75,
            33.49,
            33.5,
            34.45,
            33.25,
            32.72,
            33.78,
            29.6,
            33.41,
            33.53,
            34.09
           ],
           "xaxis": "x",
           "y": [
            26.58,
            25.25,
            23.99,
            26.86,
            38.66,
            36.08,
            28.39,
            24.68,
            22.28,
            30,
            43.68
           ],
           "yaxis": "y"
          },
          {
           "hovertemplate": "club=football<br>frameId=37<br>x=%{x}<br>y=%{y}<extra></extra>",
           "legendgroup": "football",
           "marker": {
            "color": "Grey",
            "symbol": "circle"
           },
           "mode": "markers",
           "name": "football",
           "orientation": "v",
           "showlegend": true,
           "type": "scatter",
           "x": [
            34.6599998474121
           ],
           "xaxis": "x",
           "y": [
            26.7399997711182
           ],
           "yaxis": "y"
          }
         ],
         "name": "37"
        },
        {
         "data": [
          {
           "hovertemplate": "club=CIN<br>frameId=38<br>x=%{x}<br>y=%{y}<extra></extra>",
           "legendgroup": "CIN",
           "marker": {
            "color": "Red",
            "symbol": "circle"
           },
           "mode": "markers",
           "name": "CIN",
           "orientation": "v",
           "showlegend": true,
           "type": "scatter",
           "x": [
            39.58,
            46.27,
            35.71,
            39.21,
            38.32,
            36.36,
            46.64,
            36.05,
            36.04,
            39.74,
            39.1
           ],
           "xaxis": "x",
           "y": [
            18.06,
            22.01,
            27.96,
            38.67,
            43.63,
            31.91,
            32.97,
            24.59,
            22.57,
            25.83,
            30.43
           ],
           "yaxis": "y"
          },
          {
           "hovertemplate": "club=PIT<br>frameId=38<br>x=%{x}<br>y=%{y}<extra></extra>",
           "legendgroup": "PIT",
           "marker": {
            "color": "Black",
            "symbol": "circle"
           },
           "mode": "markers",
           "name": "PIT",
           "orientation": "v",
           "showlegend": true,
           "type": "scatter",
           "x": [
            29.78,
            33.49,
            33.52,
            34.47,
            33.23,
            32.74,
            33.77,
            29.61,
            33.42,
            33.52,
            34.11
           ],
           "xaxis": "x",
           "y": [
            26.6,
            25.25,
            23.99,
            26.83,
            38.7,
            36.08,
            28.39,
            24.65,
            22.32,
            30.03,
            43.69
           ],
           "yaxis": "y"
          },
          {
           "hovertemplate": "club=football<br>frameId=38<br>x=%{x}<br>y=%{y}<extra></extra>",
           "legendgroup": "football",
           "marker": {
            "color": "Grey",
            "symbol": "circle"
           },
           "mode": "markers",
           "name": "football",
           "orientation": "v",
           "showlegend": true,
           "type": "scatter",
           "x": [
            34.6599998474121
           ],
           "xaxis": "x",
           "y": [
            26.7399997711182
           ],
           "yaxis": "y"
          }
         ],
         "name": "38"
        },
        {
         "data": [
          {
           "hovertemplate": "club=CIN<br>frameId=39<br>x=%{x}<br>y=%{y}<extra></extra>",
           "legendgroup": "CIN",
           "marker": {
            "color": "Red",
            "symbol": "circle"
           },
           "mode": "markers",
           "name": "CIN",
           "orientation": "v",
           "showlegend": true,
           "type": "scatter",
           "x": [
            39.6,
            46.26,
            35.69,
            39.19,
            38.42,
            36.35,
            46.58,
            36.05,
            36.01,
            39.73,
            39.08
           ],
           "xaxis": "x",
           "y": [
            18.12,
            22.01,
            27.95,
            38.73,
            43.65,
            31.9,
            33.09,
            24.61,
            22.53,
            25.83,
            30.49
           ],
           "yaxis": "y"
          },
          {
           "hovertemplate": "club=PIT<br>frameId=39<br>x=%{x}<br>y=%{y}<extra></extra>",
           "legendgroup": "PIT",
           "marker": {
            "color": "Black",
            "symbol": "circle"
           },
           "mode": "markers",
           "name": "PIT",
           "orientation": "v",
           "showlegend": true,
           "type": "scatter",
           "x": [
            29.8,
            33.49,
            33.53,
            34.47,
            33.21,
            32.76,
            33.78,
            29.62,
            33.43,
            33.51,
            34.12
           ],
           "xaxis": "x",
           "y": [
            26.61,
            25.25,
            23.98,
            26.8,
            38.72,
            36.07,
            28.4,
            24.64,
            22.35,
            30.06,
            43.7
           ],
           "yaxis": "y"
          },
          {
           "hovertemplate": "club=football<br>frameId=39<br>x=%{x}<br>y=%{y}<extra></extra>",
           "legendgroup": "football",
           "marker": {
            "color": "Grey",
            "symbol": "circle"
           },
           "mode": "markers",
           "name": "football",
           "orientation": "v",
           "showlegend": true,
           "type": "scatter",
           "x": [
            34.6599998474121
           ],
           "xaxis": "x",
           "y": [
            26.7399997711182
           ],
           "yaxis": "y"
          }
         ],
         "name": "39"
        },
        {
         "data": [
          {
           "hovertemplate": "club=CIN<br>frameId=40<br>x=%{x}<br>y=%{y}<extra></extra>",
           "legendgroup": "CIN",
           "marker": {
            "color": "Red",
            "symbol": "circle"
           },
           "mode": "markers",
           "name": "CIN",
           "orientation": "v",
           "showlegend": true,
           "type": "scatter",
           "x": [
            39.63,
            46.24,
            35.67,
            39.17,
            38.53,
            36.34,
            46.52,
            36.04,
            35.98,
            39.73,
            39.05
           ],
           "xaxis": "x",
           "y": [
            18.18,
            22.02,
            27.91,
            38.78,
            43.67,
            31.9,
            33.22,
            24.64,
            22.5,
            25.83,
            30.53
           ],
           "yaxis": "y"
          },
          {
           "hovertemplate": "club=PIT<br>frameId=40<br>x=%{x}<br>y=%{y}<extra></extra>",
           "legendgroup": "PIT",
           "marker": {
            "color": "Black",
            "symbol": "circle"
           },
           "mode": "markers",
           "name": "PIT",
           "orientation": "v",
           "showlegend": true,
           "type": "scatter",
           "x": [
            29.83,
            33.48,
            33.54,
            34.48,
            33.2,
            32.81,
            33.78,
            29.63,
            33.45,
            33.51,
            34.11
           ],
           "xaxis": "x",
           "y": [
            26.62,
            25.25,
            23.98,
            26.8,
            38.71,
            36.08,
            28.4,
            24.64,
            22.38,
            30.09,
            43.7
           ],
           "yaxis": "y"
          },
          {
           "hovertemplate": "club=football<br>frameId=40<br>x=%{x}<br>y=%{y}<extra></extra>",
           "legendgroup": "football",
           "marker": {
            "color": "Grey",
            "symbol": "circle"
           },
           "mode": "markers",
           "name": "football",
           "orientation": "v",
           "showlegend": true,
           "type": "scatter",
           "x": [
            34.6599998474121
           ],
           "xaxis": "x",
           "y": [
            26.7399997711182
           ],
           "yaxis": "y"
          }
         ],
         "name": "40"
        },
        {
         "data": [
          {
           "hovertemplate": "club=CIN<br>frameId=41<br>x=%{x}<br>y=%{y}<extra></extra>",
           "legendgroup": "CIN",
           "marker": {
            "color": "Red",
            "symbol": "circle"
           },
           "mode": "markers",
           "name": "CIN",
           "orientation": "v",
           "showlegend": true,
           "type": "scatter",
           "x": [
            39.65,
            46.24,
            35.65,
            39.15,
            38.64,
            36.32,
            46.46,
            36.04,
            35.96,
            39.73,
            39.04
           ],
           "xaxis": "x",
           "y": [
            18.23,
            22.02,
            27.9,
            38.82,
            43.68,
            31.9,
            33.34,
            24.67,
            22.46,
            25.82,
            30.58
           ],
           "yaxis": "y"
          },
          {
           "hovertemplate": "club=PIT<br>frameId=41<br>x=%{x}<br>y=%{y}<extra></extra>",
           "legendgroup": "PIT",
           "marker": {
            "color": "Black",
            "symbol": "circle"
           },
           "mode": "markers",
           "name": "PIT",
           "orientation": "v",
           "showlegend": true,
           "type": "scatter",
           "x": [
            29.85,
            33.48,
            33.54,
            34.48,
            33.18,
            32.86,
            33.78,
            29.64,
            33.48,
            33.51,
            34.1
           ],
           "xaxis": "x",
           "y": [
            26.62,
            25.24,
            23.97,
            26.79,
            38.69,
            36.09,
            28.42,
            24.63,
            22.4,
            30.1,
            43.7
           ],
           "yaxis": "y"
          },
          {
           "hovertemplate": "club=football<br>frameId=41<br>x=%{x}<br>y=%{y}<extra></extra>",
           "legendgroup": "football",
           "marker": {
            "color": "Grey",
            "symbol": "circle"
           },
           "mode": "markers",
           "name": "football",
           "orientation": "v",
           "showlegend": true,
           "type": "scatter",
           "x": [
            34.6599998474121
           ],
           "xaxis": "x",
           "y": [
            26.7399997711182
           ],
           "yaxis": "y"
          }
         ],
         "name": "41"
        },
        {
         "data": [
          {
           "hovertemplate": "club=CIN<br>frameId=42<br>x=%{x}<br>y=%{y}<extra></extra>",
           "legendgroup": "CIN",
           "marker": {
            "color": "Red",
            "symbol": "circle"
           },
           "mode": "markers",
           "name": "CIN",
           "orientation": "v",
           "showlegend": true,
           "type": "scatter",
           "x": [
            39.67,
            46.22,
            35.64,
            39.11,
            38.76,
            36.29,
            46.4,
            36.04,
            35.95,
            39.73,
            39.02
           ],
           "xaxis": "x",
           "y": [
            18.27,
            22.02,
            27.88,
            38.86,
            43.69,
            31.89,
            33.46,
            24.7,
            22.43,
            25.81,
            30.61
           ],
           "yaxis": "y"
          },
          {
           "hovertemplate": "club=PIT<br>frameId=42<br>x=%{x}<br>y=%{y}<extra></extra>",
           "legendgroup": "PIT",
           "marker": {
            "color": "Black",
            "symbol": "circle"
           },
           "mode": "markers",
           "name": "PIT",
           "orientation": "v",
           "showlegend": true,
           "type": "scatter",
           "x": [
            29.87,
            33.48,
            33.54,
            34.49,
            33.17,
            32.89,
            33.78,
            29.66,
            33.52,
            33.51,
            34.08
           ],
           "xaxis": "x",
           "y": [
            26.62,
            25.24,
            23.96,
            26.78,
            38.65,
            36.09,
            28.42,
            24.63,
            22.43,
            30.14,
            43.71
           ],
           "yaxis": "y"
          },
          {
           "hovertemplate": "club=football<br>frameId=42<br>x=%{x}<br>y=%{y}<extra></extra>",
           "legendgroup": "football",
           "marker": {
            "color": "Grey",
            "symbol": "circle"
           },
           "mode": "markers",
           "name": "football",
           "orientation": "v",
           "showlegend": true,
           "type": "scatter",
           "x": [
            34.6500015258789
           ],
           "xaxis": "x",
           "y": [
            26.7399997711182
           ],
           "yaxis": "y"
          }
         ],
         "name": "42"
        },
        {
         "data": [
          {
           "hovertemplate": "club=CIN<br>frameId=43<br>x=%{x}<br>y=%{y}<extra></extra>",
           "legendgroup": "CIN",
           "marker": {
            "color": "Red",
            "symbol": "circle"
           },
           "mode": "markers",
           "name": "CIN",
           "orientation": "v",
           "showlegend": true,
           "type": "scatter",
           "x": [
            39.69,
            46.19,
            35.63,
            39.08,
            38.89,
            36.24,
            46.34,
            36.04,
            35.94,
            39.73,
            39
           ],
           "xaxis": "x",
           "y": [
            18.31,
            22.02,
            27.87,
            38.89,
            43.7,
            31.88,
            33.59,
            24.74,
            22.4,
            25.82,
            30.64
           ],
           "yaxis": "y"
          },
          {
           "hovertemplate": "club=PIT<br>frameId=43<br>x=%{x}<br>y=%{y}<extra></extra>",
           "legendgroup": "PIT",
           "marker": {
            "color": "Black",
            "symbol": "circle"
           },
           "mode": "markers",
           "name": "PIT",
           "orientation": "v",
           "showlegend": true,
           "type": "scatter",
           "x": [
            29.88,
            33.48,
            33.54,
            34.49,
            33.17,
            32.9,
            33.78,
            29.68,
            33.56,
            33.51,
            34.07
           ],
           "xaxis": "x",
           "y": [
            26.62,
            25.24,
            23.96,
            26.79,
            38.59,
            36.09,
            28.43,
            24.64,
            22.48,
            30.17,
            43.7
           ],
           "yaxis": "y"
          },
          {
           "hovertemplate": "club=football<br>frameId=43<br>x=%{x}<br>y=%{y}<extra></extra>",
           "legendgroup": "football",
           "marker": {
            "color": "Grey",
            "symbol": "circle"
           },
           "mode": "markers",
           "name": "football",
           "orientation": "v",
           "showlegend": true,
           "type": "scatter",
           "x": [
            34.6500015258789
           ],
           "xaxis": "x",
           "y": [
            26.7399997711182
           ],
           "yaxis": "y"
          }
         ],
         "name": "43"
        },
        {
         "data": [
          {
           "hovertemplate": "club=CIN<br>frameId=44<br>x=%{x}<br>y=%{y}<extra></extra>",
           "legendgroup": "CIN",
           "marker": {
            "color": "Red",
            "symbol": "circle"
           },
           "mode": "markers",
           "name": "CIN",
           "orientation": "v",
           "showlegend": true,
           "type": "scatter",
           "x": [
            39.69,
            46.16,
            35.62,
            39.05,
            39.01,
            36.18,
            46.29,
            36.03,
            35.93,
            39.73,
            38.99
           ],
           "xaxis": "x",
           "y": [
            18.35,
            22.03,
            27.87,
            38.89,
            43.72,
            31.86,
            33.71,
            24.78,
            22.4,
            25.82,
            30.67
           ],
           "yaxis": "y"
          },
          {
           "hovertemplate": "club=PIT<br>frameId=44<br>x=%{x}<br>y=%{y}<extra></extra>",
           "legendgroup": "PIT",
           "marker": {
            "color": "Black",
            "symbol": "circle"
           },
           "mode": "markers",
           "name": "PIT",
           "orientation": "v",
           "showlegend": true,
           "type": "scatter",
           "x": [
            29.88,
            33.49,
            33.54,
            34.48,
            33.17,
            32.92,
            33.78,
            29.7,
            33.6,
            33.5,
            34.06
           ],
           "xaxis": "x",
           "y": [
            26.62,
            25.25,
            23.95,
            26.79,
            38.53,
            36.07,
            28.42,
            24.65,
            22.52,
            30.21,
            43.69
           ],
           "yaxis": "y"
          },
          {
           "hovertemplate": "club=football<br>frameId=44<br>x=%{x}<br>y=%{y}<extra></extra>",
           "legendgroup": "football",
           "marker": {
            "color": "Grey",
            "symbol": "circle"
           },
           "mode": "markers",
           "name": "football",
           "orientation": "v",
           "showlegend": true,
           "type": "scatter",
           "x": [
            34.6500015258789
           ],
           "xaxis": "x",
           "y": [
            26.7399997711182
           ],
           "yaxis": "y"
          }
         ],
         "name": "44"
        },
        {
         "data": [
          {
           "hovertemplate": "club=CIN<br>frameId=45<br>x=%{x}<br>y=%{y}<extra></extra>",
           "legendgroup": "CIN",
           "marker": {
            "color": "Red",
            "symbol": "circle"
           },
           "mode": "markers",
           "name": "CIN",
           "orientation": "v",
           "showlegend": true,
           "type": "scatter",
           "x": [
            39.69,
            46.1,
            35.6,
            39.02,
            39.15,
            36.11,
            46.24,
            36.03,
            35.92,
            39.73,
            38.98
           ],
           "xaxis": "x",
           "y": [
            18.37,
            22.03,
            27.89,
            38.89,
            43.74,
            31.85,
            33.84,
            24.83,
            22.39,
            25.82,
            30.68
           ],
           "yaxis": "y"
          },
          {
           "hovertemplate": "club=PIT<br>frameId=45<br>x=%{x}<br>y=%{y}<extra></extra>",
           "legendgroup": "PIT",
           "marker": {
            "color": "Black",
            "symbol": "circle"
           },
           "mode": "markers",
           "name": "PIT",
           "orientation": "v",
           "showlegend": true,
           "type": "scatter",
           "x": [
            29.88,
            33.49,
            33.54,
            34.48,
            33.15,
            32.94,
            33.79,
            29.72,
            33.65,
            33.5,
            34.04
           ],
           "xaxis": "x",
           "y": [
            26.62,
            25.25,
            23.95,
            26.78,
            38.45,
            36.08,
            28.42,
            24.66,
            22.56,
            30.22,
            43.69
           ],
           "yaxis": "y"
          },
          {
           "hovertemplate": "club=football<br>frameId=45<br>x=%{x}<br>y=%{y}<extra></extra>",
           "legendgroup": "football",
           "marker": {
            "color": "Grey",
            "symbol": "circle"
           },
           "mode": "markers",
           "name": "football",
           "orientation": "v",
           "showlegend": true,
           "type": "scatter",
           "x": [
            34.6500015258789
           ],
           "xaxis": "x",
           "y": [
            26.7399997711182
           ],
           "yaxis": "y"
          }
         ],
         "name": "45"
        },
        {
         "data": [
          {
           "hovertemplate": "club=CIN<br>frameId=46<br>x=%{x}<br>y=%{y}<extra></extra>",
           "legendgroup": "CIN",
           "marker": {
            "color": "Red",
            "symbol": "circle"
           },
           "mode": "markers",
           "name": "CIN",
           "orientation": "v",
           "showlegend": true,
           "type": "scatter",
           "x": [
            39.69,
            46.03,
            35.59,
            39,
            39.28,
            36.03,
            46.19,
            36.02,
            35.91,
            39.73,
            38.98
           ],
           "xaxis": "x",
           "y": [
            18.38,
            22.03,
            27.92,
            38.86,
            43.75,
            31.83,
            33.96,
            24.87,
            22.39,
            25.82,
            30.68
           ],
           "yaxis": "y"
          },
          {
           "hovertemplate": "club=PIT<br>frameId=46<br>x=%{x}<br>y=%{y}<extra></extra>",
           "legendgroup": "PIT",
           "marker": {
            "color": "Black",
            "symbol": "circle"
           },
           "mode": "markers",
           "name": "PIT",
           "orientation": "v",
           "showlegend": true,
           "type": "scatter",
           "x": [
            29.87,
            33.48,
            33.53,
            34.49,
            33.14,
            32.96,
            33.79,
            29.75,
            33.7,
            33.5,
            34.04
           ],
           "xaxis": "x",
           "y": [
            26.62,
            25.25,
            23.95,
            26.76,
            38.38,
            36.09,
            28.43,
            24.67,
            22.62,
            30.24,
            43.7
           ],
           "yaxis": "y"
          },
          {
           "hovertemplate": "club=football<br>frameId=46<br>x=%{x}<br>y=%{y}<extra></extra>",
           "legendgroup": "football",
           "marker": {
            "color": "Grey",
            "symbol": "circle"
           },
           "mode": "markers",
           "name": "football",
           "orientation": "v",
           "showlegend": true,
           "type": "scatter",
           "x": [
            34.6500015258789
           ],
           "xaxis": "x",
           "y": [
            26.7399997711182
           ],
           "yaxis": "y"
          }
         ],
         "name": "46"
        },
        {
         "data": [
          {
           "hovertemplate": "club=CIN<br>frameId=47<br>x=%{x}<br>y=%{y}<extra></extra>",
           "legendgroup": "CIN",
           "marker": {
            "color": "Red",
            "symbol": "circle"
           },
           "mode": "markers",
           "name": "CIN",
           "orientation": "v",
           "showlegend": true,
           "type": "scatter",
           "x": [
            39.68,
            45.95,
            35.57,
            38.98,
            39.42,
            35.96,
            46.15,
            36,
            35.91,
            39.73,
            38.97
           ],
           "xaxis": "x",
           "y": [
            18.37,
            22.03,
            27.95,
            38.81,
            43.76,
            31.83,
            34.08,
            24.91,
            22.37,
            25.83,
            30.68
           ],
           "yaxis": "y"
          },
          {
           "hovertemplate": "club=PIT<br>frameId=47<br>x=%{x}<br>y=%{y}<extra></extra>",
           "legendgroup": "PIT",
           "marker": {
            "color": "Black",
            "symbol": "circle"
           },
           "mode": "markers",
           "name": "PIT",
           "orientation": "v",
           "showlegend": true,
           "type": "scatter",
           "x": [
            29.86,
            33.48,
            33.53,
            34.5,
            33.12,
            32.97,
            33.79,
            29.77,
            33.74,
            33.5,
            34.05
           ],
           "xaxis": "x",
           "y": [
            26.62,
            25.25,
            23.96,
            26.74,
            38.33,
            36.09,
            28.44,
            24.68,
            22.67,
            30.25,
            43.71
           ],
           "yaxis": "y"
          },
          {
           "hovertemplate": "club=football<br>frameId=47<br>x=%{x}<br>y=%{y}<extra></extra>",
           "legendgroup": "football",
           "marker": {
            "color": "Grey",
            "symbol": "circle"
           },
           "mode": "markers",
           "name": "football",
           "orientation": "v",
           "showlegend": true,
           "type": "scatter",
           "x": [
            34.6500015258789
           ],
           "xaxis": "x",
           "y": [
            26.7399997711182
           ],
           "yaxis": "y"
          }
         ],
         "name": "47"
        },
        {
         "data": [
          {
           "hovertemplate": "club=CIN<br>frameId=48<br>x=%{x}<br>y=%{y}<extra></extra>",
           "legendgroup": "CIN",
           "marker": {
            "color": "Red",
            "symbol": "circle"
           },
           "mode": "markers",
           "name": "CIN",
           "orientation": "v",
           "showlegend": true,
           "type": "scatter",
           "x": [
            39.68,
            45.87,
            35.56,
            38.95,
            39.55,
            35.88,
            46.11,
            35.98,
            35.9,
            39.72,
            38.97
           ],
           "xaxis": "x",
           "y": [
            18.37,
            22.03,
            27.97,
            38.75,
            43.76,
            31.83,
            34.21,
            24.94,
            22.38,
            25.84,
            30.66
           ],
           "yaxis": "y"
          },
          {
           "hovertemplate": "club=PIT<br>frameId=48<br>x=%{x}<br>y=%{y}<extra></extra>",
           "legendgroup": "PIT",
           "marker": {
            "color": "Black",
            "symbol": "circle"
           },
           "mode": "markers",
           "name": "PIT",
           "orientation": "v",
           "showlegend": true,
           "type": "scatter",
           "x": [
            29.85,
            33.48,
            33.53,
            34.51,
            33.09,
            32.99,
            33.79,
            29.79,
            33.78,
            33.49,
            34.04
           ],
           "xaxis": "x",
           "y": [
            26.62,
            25.25,
            23.97,
            26.72,
            38.28,
            36.09,
            28.45,
            24.69,
            22.73,
            30.26,
            43.71
           ],
           "yaxis": "y"
          },
          {
           "hovertemplate": "club=football<br>frameId=48<br>x=%{x}<br>y=%{y}<extra></extra>",
           "legendgroup": "football",
           "marker": {
            "color": "Grey",
            "symbol": "circle"
           },
           "mode": "markers",
           "name": "football",
           "orientation": "v",
           "showlegend": true,
           "type": "scatter",
           "x": [
            34.6500015258789
           ],
           "xaxis": "x",
           "y": [
            26.7299995422363
           ],
           "yaxis": "y"
          }
         ],
         "name": "48"
        },
        {
         "data": [
          {
           "hovertemplate": "club=CIN<br>frameId=49<br>x=%{x}<br>y=%{y}<extra></extra>",
           "legendgroup": "CIN",
           "marker": {
            "color": "Red",
            "symbol": "circle"
           },
           "mode": "markers",
           "name": "CIN",
           "orientation": "v",
           "showlegend": true,
           "type": "scatter",
           "x": [
            39.67,
            45.78,
            35.53,
            38.92,
            39.67,
            35.81,
            46.06,
            35.96,
            35.88,
            39.71,
            38.97
           ],
           "xaxis": "x",
           "y": [
            18.35,
            22.03,
            27.99,
            38.66,
            43.76,
            31.82,
            34.33,
            24.96,
            22.38,
            25.85,
            30.64
           ],
           "yaxis": "y"
          },
          {
           "hovertemplate": "club=PIT<br>frameId=49<br>x=%{x}<br>y=%{y}<extra></extra>",
           "legendgroup": "PIT",
           "marker": {
            "color": "Black",
            "symbol": "circle"
           },
           "mode": "markers",
           "name": "PIT",
           "orientation": "v",
           "showlegend": true,
           "type": "scatter",
           "x": [
            29.84,
            33.48,
            33.52,
            34.52,
            33.07,
            33,
            33.79,
            29.82,
            33.79,
            33.49,
            34.03
           ],
           "xaxis": "x",
           "y": [
            26.62,
            25.24,
            23.98,
            26.71,
            38.24,
            36.09,
            28.45,
            24.7,
            22.76,
            30.27,
            43.69
           ],
           "yaxis": "y"
          },
          {
           "hovertemplate": "club=football<br>frameId=49<br>x=%{x}<br>y=%{y}<extra></extra>",
           "legendgroup": "football",
           "marker": {
            "color": "Grey",
            "symbol": "circle"
           },
           "mode": "markers",
           "name": "football",
           "orientation": "v",
           "showlegend": true,
           "type": "scatter",
           "x": [
            34.6399993896484
           ],
           "xaxis": "x",
           "y": [
            26.7299995422363
           ],
           "yaxis": "y"
          }
         ],
         "name": "49"
        },
        {
         "data": [
          {
           "hovertemplate": "club=CIN<br>frameId=50<br>x=%{x}<br>y=%{y}<extra></extra>",
           "legendgroup": "CIN",
           "marker": {
            "color": "Red",
            "symbol": "circle"
           },
           "mode": "markers",
           "name": "CIN",
           "orientation": "v",
           "showlegend": true,
           "type": "scatter",
           "x": [
            39.67,
            45.69,
            35.51,
            38.9,
            39.8,
            35.75,
            46.02,
            35.93,
            35.88,
            39.7,
            38.97
           ],
           "xaxis": "x",
           "y": [
            18.33,
            22.02,
            28,
            38.56,
            43.75,
            31.83,
            34.45,
            24.97,
            22.38,
            25.86,
            30.63
           ],
           "yaxis": "y"
          },
          {
           "hovertemplate": "club=PIT<br>frameId=50<br>x=%{x}<br>y=%{y}<extra></extra>",
           "legendgroup": "PIT",
           "marker": {
            "color": "Black",
            "symbol": "circle"
           },
           "mode": "markers",
           "name": "PIT",
           "orientation": "v",
           "showlegend": true,
           "type": "scatter",
           "x": [
            29.83,
            33.47,
            33.52,
            34.53,
            33.04,
            33.02,
            33.78,
            29.84,
            33.8,
            33.49,
            34.02
           ],
           "xaxis": "x",
           "y": [
            26.62,
            25.25,
            23.99,
            26.7,
            38.2,
            36.1,
            28.46,
            24.71,
            22.74,
            30.29,
            43.67
           ],
           "yaxis": "y"
          },
          {
           "hovertemplate": "club=football<br>frameId=50<br>x=%{x}<br>y=%{y}<extra></extra>",
           "legendgroup": "football",
           "marker": {
            "color": "Grey",
            "symbol": "circle"
           },
           "mode": "markers",
           "name": "football",
           "orientation": "v",
           "showlegend": true,
           "type": "scatter",
           "x": [
            34.6399993896484
           ],
           "xaxis": "x",
           "y": [
            26.7299995422363
           ],
           "yaxis": "y"
          }
         ],
         "name": "50"
        },
        {
         "data": [
          {
           "hovertemplate": "club=CIN<br>frameId=51<br>x=%{x}<br>y=%{y}<extra></extra>",
           "legendgroup": "CIN",
           "marker": {
            "color": "Red",
            "symbol": "circle"
           },
           "mode": "markers",
           "name": "CIN",
           "orientation": "v",
           "showlegend": true,
           "type": "scatter",
           "x": [
            39.66,
            45.61,
            35.48,
            38.87,
            39.92,
            35.68,
            45.99,
            35.89,
            35.86,
            39.7,
            38.97
           ],
           "xaxis": "x",
           "y": [
            18.3,
            22.02,
            28,
            38.46,
            43.74,
            31.83,
            34.57,
            24.97,
            22.38,
            25.87,
            30.62
           ],
           "yaxis": "y"
          },
          {
           "hovertemplate": "club=PIT<br>frameId=51<br>x=%{x}<br>y=%{y}<extra></extra>",
           "legendgroup": "PIT",
           "marker": {
            "color": "Black",
            "symbol": "circle"
           },
           "mode": "markers",
           "name": "PIT",
           "orientation": "v",
           "showlegend": true,
           "type": "scatter",
           "x": [
            29.83,
            33.47,
            33.51,
            34.54,
            33.01,
            33.05,
            33.78,
            29.85,
            33.79,
            33.5,
            34.01
           ],
           "xaxis": "x",
           "y": [
            26.62,
            25.25,
            24,
            26.69,
            38.18,
            36.1,
            28.46,
            24.71,
            22.74,
            30.3,
            43.67
           ],
           "yaxis": "y"
          },
          {
           "hovertemplate": "club=football<br>frameId=51<br>x=%{x}<br>y=%{y}<extra></extra>",
           "legendgroup": "football",
           "marker": {
            "color": "Grey",
            "symbol": "circle"
           },
           "mode": "markers",
           "name": "football",
           "orientation": "v",
           "showlegend": true,
           "type": "scatter",
           "x": [
            34.6399993896484
           ],
           "xaxis": "x",
           "y": [
            26.7299995422363
           ],
           "yaxis": "y"
          }
         ],
         "name": "51"
        },
        {
         "data": [
          {
           "hovertemplate": "club=CIN<br>frameId=52<br>x=%{x}<br>y=%{y}<extra></extra>",
           "legendgroup": "CIN",
           "marker": {
            "color": "Red",
            "symbol": "circle"
           },
           "mode": "markers",
           "name": "CIN",
           "orientation": "v",
           "showlegend": true,
           "type": "scatter",
           "x": [
            39.66,
            45.53,
            35.46,
            38.85,
            40.04,
            35.61,
            45.95,
            35.85,
            35.84,
            39.69,
            38.97
           ],
           "xaxis": "x",
           "y": [
            18.27,
            22.01,
            28,
            38.34,
            43.72,
            31.83,
            34.69,
            24.96,
            22.39,
            25.88,
            30.6
           ],
           "yaxis": "y"
          },
          {
           "hovertemplate": "club=PIT<br>frameId=52<br>x=%{x}<br>y=%{y}<extra></extra>",
           "legendgroup": "PIT",
           "marker": {
            "color": "Black",
            "symbol": "circle"
           },
           "mode": "markers",
           "name": "PIT",
           "orientation": "v",
           "showlegend": true,
           "type": "scatter",
           "x": [
            29.83,
            33.48,
            33.49,
            34.54,
            32.99,
            33.07,
            33.78,
            29.85,
            33.77,
            33.5,
            34.01
           ],
           "xaxis": "x",
           "y": [
            26.63,
            25.24,
            24,
            26.69,
            38.16,
            36.11,
            28.46,
            24.72,
            22.72,
            30.31,
            43.68
           ],
           "yaxis": "y"
          },
          {
           "hovertemplate": "club=football<br>frameId=52<br>x=%{x}<br>y=%{y}<extra></extra>",
           "legendgroup": "football",
           "marker": {
            "color": "Grey",
            "symbol": "circle"
           },
           "mode": "markers",
           "name": "football",
           "orientation": "v",
           "showlegend": true,
           "type": "scatter",
           "x": [
            34.6399993896484
           ],
           "xaxis": "x",
           "y": [
            26.7299995422363
           ],
           "yaxis": "y"
          }
         ],
         "name": "52"
        },
        {
         "data": [
          {
           "hovertemplate": "club=CIN<br>frameId=53<br>x=%{x}<br>y=%{y}<extra></extra>",
           "legendgroup": "CIN",
           "marker": {
            "color": "Red",
            "symbol": "circle"
           },
           "mode": "markers",
           "name": "CIN",
           "orientation": "v",
           "showlegend": true,
           "type": "scatter",
           "x": [
            39.67,
            45.45,
            35.45,
            38.82,
            40.16,
            35.54,
            45.92,
            35.8,
            35.82,
            39.68,
            38.97
           ],
           "xaxis": "x",
           "y": [
            18.24,
            22,
            28,
            38.23,
            43.7,
            31.82,
            34.82,
            24.95,
            22.39,
            25.88,
            30.58
           ],
           "yaxis": "y"
          },
          {
           "hovertemplate": "club=PIT<br>frameId=53<br>x=%{x}<br>y=%{y}<extra></extra>",
           "legendgroup": "PIT",
           "marker": {
            "color": "Black",
            "symbol": "circle"
           },
           "mode": "markers",
           "name": "PIT",
           "orientation": "v",
           "showlegend": true,
           "type": "scatter",
           "x": [
            29.83,
            33.47,
            33.5,
            34.53,
            32.96,
            33.07,
            33.78,
            29.87,
            33.74,
            33.49,
            34.02
           ],
           "xaxis": "x",
           "y": [
            26.65,
            25.23,
            24.01,
            26.69,
            38.15,
            36.1,
            28.46,
            24.72,
            22.68,
            30.32,
            43.7
           ],
           "yaxis": "y"
          },
          {
           "hovertemplate": "club=football<br>frameId=53<br>x=%{x}<br>y=%{y}<extra></extra>",
           "legendgroup": "football",
           "marker": {
            "color": "Grey",
            "symbol": "circle"
           },
           "mode": "markers",
           "name": "football",
           "orientation": "v",
           "showlegend": true,
           "type": "scatter",
           "x": [
            34.6399993896484
           ],
           "xaxis": "x",
           "y": [
            26.7299995422363
           ],
           "yaxis": "y"
          }
         ],
         "name": "53"
        },
        {
         "data": [
          {
           "hovertemplate": "club=CIN<br>frameId=54<br>x=%{x}<br>y=%{y}<extra></extra>",
           "legendgroup": "CIN",
           "marker": {
            "color": "Red",
            "symbol": "circle"
           },
           "mode": "markers",
           "name": "CIN",
           "orientation": "v",
           "showlegend": true,
           "type": "scatter",
           "x": [
            39.67,
            45.37,
            35.44,
            38.8,
            40.28,
            35.5,
            45.9,
            35.75,
            35.8,
            39.68,
            38.97
           ],
           "xaxis": "x",
           "y": [
            18.2,
            21.99,
            27.98,
            38.12,
            43.68,
            31.84,
            34.94,
            24.95,
            22.39,
            25.89,
            30.57
           ],
           "yaxis": "y"
          },
          {
           "hovertemplate": "club=PIT<br>frameId=54<br>x=%{x}<br>y=%{y}<extra></extra>",
           "legendgroup": "PIT",
           "marker": {
            "color": "Black",
            "symbol": "circle"
           },
           "mode": "markers",
           "name": "PIT",
           "orientation": "v",
           "showlegend": true,
           "type": "scatter",
           "x": [
            29.83,
            33.47,
            33.5,
            34.54,
            32.94,
            33.08,
            33.77,
            29.88,
            33.69,
            33.49,
            34.03
           ],
           "xaxis": "x",
           "y": [
            26.66,
            25.23,
            24.01,
            26.69,
            38.15,
            36.09,
            28.46,
            24.73,
            22.62,
            30.33,
            43.71
           ],
           "yaxis": "y"
          },
          {
           "hovertemplate": "club=football<br>frameId=54<br>x=%{x}<br>y=%{y}<extra></extra>",
           "legendgroup": "football",
           "marker": {
            "color": "Grey",
            "symbol": "circle"
           },
           "mode": "markers",
           "name": "football",
           "orientation": "v",
           "showlegend": true,
           "type": "scatter",
           "x": [
            34.6399993896484
           ],
           "xaxis": "x",
           "y": [
            26.7299995422363
           ],
           "yaxis": "y"
          }
         ],
         "name": "54"
        },
        {
         "data": [
          {
           "hovertemplate": "club=CIN<br>frameId=55<br>x=%{x}<br>y=%{y}<extra></extra>",
           "legendgroup": "CIN",
           "marker": {
            "color": "Red",
            "symbol": "circle"
           },
           "mode": "markers",
           "name": "CIN",
           "orientation": "v",
           "showlegend": true,
           "type": "scatter",
           "x": [
            39.66,
            45.32,
            35.45,
            38.77,
            40.39,
            35.45,
            45.88,
            35.7,
            35.76,
            39.68,
            38.98
           ],
           "xaxis": "x",
           "y": [
            18.16,
            21.97,
            27.97,
            38.02,
            43.66,
            31.85,
            35.06,
            24.95,
            22.39,
            25.89,
            30.56
           ],
           "yaxis": "y"
          },
          {
           "hovertemplate": "club=PIT<br>frameId=55<br>x=%{x}<br>y=%{y}<extra></extra>",
           "legendgroup": "PIT",
           "marker": {
            "color": "Black",
            "symbol": "circle"
           },
           "mode": "markers",
           "name": "PIT",
           "orientation": "v",
           "showlegend": true,
           "type": "scatter",
           "x": [
            29.84,
            33.47,
            33.49,
            34.54,
            32.92,
            33.09,
            33.76,
            29.88,
            33.64,
            33.49,
            34.03
           ],
           "xaxis": "x",
           "y": [
            26.66,
            25.22,
            24,
            26.68,
            38.15,
            36.08,
            28.46,
            24.73,
            22.57,
            30.33,
            43.74
           ],
           "yaxis": "y"
          },
          {
           "hovertemplate": "club=football<br>frameId=55<br>x=%{x}<br>y=%{y}<extra></extra>",
           "legendgroup": "football",
           "marker": {
            "color": "Grey",
            "symbol": "circle"
           },
           "mode": "markers",
           "name": "football",
           "orientation": "v",
           "showlegend": true,
           "type": "scatter",
           "x": [
            34.6300010681152
           ],
           "xaxis": "x",
           "y": [
            26.7299995422363
           ],
           "yaxis": "y"
          }
         ],
         "name": "55"
        },
        {
         "data": [
          {
           "hovertemplate": "club=CIN<br>frameId=56<br>x=%{x}<br>y=%{y}<extra></extra>",
           "legendgroup": "CIN",
           "marker": {
            "color": "Red",
            "symbol": "circle"
           },
           "mode": "markers",
           "name": "CIN",
           "orientation": "v",
           "showlegend": true,
           "type": "scatter",
           "x": [
            39.64,
            45.27,
            35.46,
            38.75,
            40.52,
            35.42,
            45.87,
            35.65,
            35.72,
            39.67,
            38.97
           ],
           "xaxis": "x",
           "y": [
            18.12,
            21.94,
            27.96,
            37.93,
            43.65,
            31.85,
            35.17,
            24.94,
            22.4,
            25.89,
            30.56
           ],
           "yaxis": "y"
          },
          {
           "hovertemplate": "club=PIT<br>frameId=56<br>x=%{x}<br>y=%{y}<extra></extra>",
           "legendgroup": "PIT",
           "marker": {
            "color": "Black",
            "symbol": "circle"
           },
           "mode": "markers",
           "name": "PIT",
           "orientation": "v",
           "showlegend": true,
           "type": "scatter",
           "x": [
            29.84,
            33.47,
            33.49,
            34.54,
            32.91,
            33.09,
            33.76,
            29.89,
            33.6,
            33.49,
            34.03
           ],
           "xaxis": "x",
           "y": [
            26.65,
            25.22,
            24.01,
            26.68,
            38.15,
            36.08,
            28.46,
            24.74,
            22.51,
            30.34,
            43.75
           ],
           "yaxis": "y"
          },
          {
           "hovertemplate": "club=football<br>frameId=56<br>x=%{x}<br>y=%{y}<extra></extra>",
           "legendgroup": "football",
           "marker": {
            "color": "Grey",
            "symbol": "circle"
           },
           "mode": "markers",
           "name": "football",
           "orientation": "v",
           "showlegend": true,
           "type": "scatter",
           "x": [
            34.6300010681152
           ],
           "xaxis": "x",
           "y": [
            26.7299995422363
           ],
           "yaxis": "y"
          }
         ],
         "name": "56"
        },
        {
         "data": [
          {
           "hovertemplate": "club=CIN<br>frameId=57<br>x=%{x}<br>y=%{y}<extra></extra>",
           "legendgroup": "CIN",
           "marker": {
            "color": "Red",
            "symbol": "circle"
           },
           "mode": "markers",
           "name": "CIN",
           "orientation": "v",
           "showlegend": true,
           "type": "scatter",
           "x": [
            39.63,
            45.22,
            35.47,
            38.72,
            40.64,
            35.38,
            45.86,
            35.59,
            35.69,
            39.67,
            38.97
           ],
           "xaxis": "x",
           "y": [
            18.08,
            21.91,
            27.94,
            37.84,
            43.65,
            31.87,
            35.28,
            24.94,
            22.39,
            25.9,
            30.56
           ],
           "yaxis": "y"
          },
          {
           "hovertemplate": "club=PIT<br>frameId=57<br>x=%{x}<br>y=%{y}<extra></extra>",
           "legendgroup": "PIT",
           "marker": {
            "color": "Black",
            "symbol": "circle"
           },
           "mode": "markers",
           "name": "PIT",
           "orientation": "v",
           "showlegend": true,
           "type": "scatter",
           "x": [
            29.85,
            33.47,
            33.49,
            34.54,
            32.89,
            33.1,
            33.77,
            29.9,
            33.56,
            33.49,
            34.04
           ],
           "xaxis": "x",
           "y": [
            26.65,
            25.22,
            24.02,
            26.69,
            38.16,
            36.08,
            28.46,
            24.73,
            22.46,
            30.34,
            43.75
           ],
           "yaxis": "y"
          },
          {
           "hovertemplate": "club=football<br>frameId=57<br>x=%{x}<br>y=%{y}<extra></extra>",
           "legendgroup": "football",
           "marker": {
            "color": "Grey",
            "symbol": "circle"
           },
           "mode": "markers",
           "name": "football",
           "orientation": "v",
           "showlegend": true,
           "type": "scatter",
           "x": [
            34.6300010681152
           ],
           "xaxis": "x",
           "y": [
            26.7299995422363
           ],
           "yaxis": "y"
          }
         ],
         "name": "57"
        },
        {
         "data": [
          {
           "hovertemplate": "club=CIN<br>frameId=58<br>x=%{x}<br>y=%{y}<extra></extra>",
           "legendgroup": "CIN",
           "marker": {
            "color": "Red",
            "symbol": "circle"
           },
           "mode": "markers",
           "name": "CIN",
           "orientation": "v",
           "showlegend": true,
           "type": "scatter",
           "x": [
            39.61,
            45.19,
            35.49,
            38.69,
            40.77,
            35.36,
            45.85,
            35.55,
            35.66,
            39.67,
            38.96
           ],
           "xaxis": "x",
           "y": [
            18.08,
            21.87,
            27.93,
            37.76,
            43.65,
            31.88,
            35.38,
            24.95,
            22.38,
            25.9,
            30.58
           ],
           "yaxis": "y"
          },
          {
           "hovertemplate": "club=PIT<br>frameId=58<br>x=%{x}<br>y=%{y}<extra></extra>",
           "legendgroup": "PIT",
           "marker": {
            "color": "Black",
            "symbol": "circle"
           },
           "mode": "markers",
           "name": "PIT",
           "orientation": "v",
           "showlegend": true,
           "type": "scatter",
           "x": [
            29.85,
            33.47,
            33.48,
            34.55,
            32.89,
            33.1,
            33.77,
            29.91,
            33.52,
            33.49,
            34.04
           ],
           "xaxis": "x",
           "y": [
            26.65,
            25.22,
            24.02,
            26.69,
            38.16,
            36.08,
            28.47,
            24.72,
            22.43,
            30.34,
            43.73
           ],
           "yaxis": "y"
          },
          {
           "hovertemplate": "club=football<br>frameId=58<br>x=%{x}<br>y=%{y}<extra></extra>",
           "legendgroup": "football",
           "marker": {
            "color": "Grey",
            "symbol": "circle"
           },
           "mode": "markers",
           "name": "football",
           "orientation": "v",
           "showlegend": true,
           "type": "scatter",
           "x": [
            34.6300010681152
           ],
           "xaxis": "x",
           "y": [
            26.7299995422363
           ],
           "yaxis": "y"
          }
         ],
         "name": "58"
        },
        {
         "data": [
          {
           "hovertemplate": "club=CIN<br>frameId=59<br>x=%{x}<br>y=%{y}<extra></extra>",
           "legendgroup": "CIN",
           "marker": {
            "color": "Red",
            "symbol": "circle"
           },
           "mode": "markers",
           "name": "CIN",
           "orientation": "v",
           "showlegend": true,
           "type": "scatter",
           "x": [
            39.58,
            45.15,
            35.5,
            38.66,
            40.9,
            35.35,
            45.85,
            35.51,
            35.63,
            39.66,
            38.95
           ],
           "xaxis": "x",
           "y": [
            18.08,
            21.84,
            27.92,
            37.68,
            43.66,
            31.9,
            35.48,
            24.94,
            22.38,
            25.9,
            30.59
           ],
           "yaxis": "y"
          },
          {
           "hovertemplate": "club=PIT<br>frameId=59<br>x=%{x}<br>y=%{y}<extra></extra>",
           "legendgroup": "PIT",
           "marker": {
            "color": "Black",
            "symbol": "circle"
           },
           "mode": "markers",
           "name": "PIT",
           "orientation": "v",
           "showlegend": true,
           "type": "scatter",
           "x": [
            29.85,
            33.47,
            33.48,
            34.54,
            32.88,
            33.1,
            33.77,
            29.92,
            33.49,
            33.49,
            34.04
           ],
           "xaxis": "x",
           "y": [
            26.65,
            25.22,
            24.02,
            26.69,
            38.17,
            36.07,
            28.47,
            24.72,
            22.38,
            30.34,
            43.73
           ],
           "yaxis": "y"
          },
          {
           "hovertemplate": "club=football<br>frameId=59<br>x=%{x}<br>y=%{y}<extra></extra>",
           "legendgroup": "football",
           "marker": {
            "color": "Grey",
            "symbol": "circle"
           },
           "mode": "markers",
           "name": "football",
           "orientation": "v",
           "showlegend": true,
           "type": "scatter",
           "x": [
            34.6300010681152
           ],
           "xaxis": "x",
           "y": [
            26.7299995422363
           ],
           "yaxis": "y"
          }
         ],
         "name": "59"
        },
        {
         "data": [
          {
           "hovertemplate": "club=CIN<br>frameId=60<br>x=%{x}<br>y=%{y}<extra></extra>",
           "legendgroup": "CIN",
           "marker": {
            "color": "Red",
            "symbol": "circle"
           },
           "mode": "markers",
           "name": "CIN",
           "orientation": "v",
           "showlegend": true,
           "type": "scatter",
           "x": [
            39.56,
            45.12,
            35.52,
            38.64,
            41.01,
            35.34,
            45.85,
            35.48,
            35.59,
            39.66,
            38.93
           ],
           "xaxis": "x",
           "y": [
            18.09,
            21.81,
            27.91,
            37.61,
            43.69,
            31.92,
            35.57,
            24.95,
            22.41,
            25.91,
            30.63
           ],
           "yaxis": "y"
          },
          {
           "hovertemplate": "club=PIT<br>frameId=60<br>x=%{x}<br>y=%{y}<extra></extra>",
           "legendgroup": "PIT",
           "marker": {
            "color": "Black",
            "symbol": "circle"
           },
           "mode": "markers",
           "name": "PIT",
           "orientation": "v",
           "showlegend": true,
           "type": "scatter",
           "x": [
            29.85,
            33.47,
            33.47,
            34.54,
            32.88,
            33.09,
            33.77,
            29.93,
            33.47,
            33.49,
            34.05
           ],
           "xaxis": "x",
           "y": [
            26.66,
            25.22,
            24.02,
            26.69,
            38.17,
            36.07,
            28.47,
            24.73,
            22.36,
            30.34,
            43.74
           ],
           "yaxis": "y"
          },
          {
           "hovertemplate": "club=football<br>frameId=60<br>x=%{x}<br>y=%{y}<extra></extra>",
           "legendgroup": "football",
           "marker": {
            "color": "Grey",
            "symbol": "circle"
           },
           "mode": "markers",
           "name": "football",
           "orientation": "v",
           "showlegend": true,
           "type": "scatter",
           "x": [
            34.6199989318848
           ],
           "xaxis": "x",
           "y": [
            26.7199993133545
           ],
           "yaxis": "y"
          }
         ],
         "name": "60"
        },
        {
         "data": [
          {
           "hovertemplate": "club=CIN<br>frameId=61<br>x=%{x}<br>y=%{y}<extra></extra>",
           "legendgroup": "CIN",
           "marker": {
            "color": "Red",
            "symbol": "circle"
           },
           "mode": "markers",
           "name": "CIN",
           "orientation": "v",
           "showlegend": true,
           "type": "scatter",
           "x": [
            39.57,
            45.09,
            35.53,
            38.62,
            41.12,
            35.35,
            45.85,
            35.46,
            35.56,
            39.66,
            38.89
           ],
           "xaxis": "x",
           "y": [
            18.1,
            21.78,
            27.9,
            37.55,
            43.72,
            31.95,
            35.65,
            24.96,
            22.43,
            25.91,
            30.67
           ],
           "yaxis": "y"
          },
          {
           "hovertemplate": "club=PIT<br>frameId=61<br>x=%{x}<br>y=%{y}<extra></extra>",
           "legendgroup": "PIT",
           "marker": {
            "color": "Black",
            "symbol": "circle"
           },
           "mode": "markers",
           "name": "PIT",
           "orientation": "v",
           "showlegend": true,
           "type": "scatter",
           "x": [
            29.85,
            33.47,
            33.47,
            34.54,
            32.88,
            33.09,
            33.77,
            29.94,
            33.45,
            33.49,
            34.06
           ],
           "xaxis": "x",
           "y": [
            26.66,
            25.22,
            24.02,
            26.69,
            38.18,
            36.07,
            28.47,
            24.71,
            22.33,
            30.34,
            43.75
           ],
           "yaxis": "y"
          },
          {
           "hovertemplate": "club=football<br>frameId=61<br>x=%{x}<br>y=%{y}<extra></extra>",
           "legendgroup": "football",
           "marker": {
            "color": "Grey",
            "symbol": "circle"
           },
           "mode": "markers",
           "name": "football",
           "orientation": "v",
           "showlegend": true,
           "type": "scatter",
           "x": [
            34.6199989318848
           ],
           "xaxis": "x",
           "y": [
            26.7199993133545
           ],
           "yaxis": "y"
          }
         ],
         "name": "61"
        },
        {
         "data": [
          {
           "hovertemplate": "club=CIN<br>frameId=62<br>x=%{x}<br>y=%{y}<extra></extra>",
           "legendgroup": "CIN",
           "marker": {
            "color": "Red",
            "symbol": "circle"
           },
           "mode": "markers",
           "name": "CIN",
           "orientation": "v",
           "showlegend": true,
           "type": "scatter",
           "x": [
            39.54,
            45.07,
            35.55,
            38.6,
            41.21,
            35.37,
            45.85,
            35.44,
            35.54,
            39.66,
            38.85
           ],
           "xaxis": "x",
           "y": [
            18.11,
            21.75,
            27.9,
            37.49,
            43.77,
            31.98,
            35.74,
            24.97,
            22.44,
            25.92,
            30.72
           ],
           "yaxis": "y"
          },
          {
           "hovertemplate": "club=PIT<br>frameId=62<br>x=%{x}<br>y=%{y}<extra></extra>",
           "legendgroup": "PIT",
           "marker": {
            "color": "Black",
            "symbol": "circle"
           },
           "mode": "markers",
           "name": "PIT",
           "orientation": "v",
           "showlegend": true,
           "type": "scatter",
           "x": [
            29.84,
            33.48,
            33.47,
            34.54,
            32.88,
            33.1,
            33.77,
            29.94,
            33.42,
            33.49,
            34.06
           ],
           "xaxis": "x",
           "y": [
            26.66,
            25.23,
            24.02,
            26.69,
            38.19,
            36.08,
            28.47,
            24.69,
            22.35,
            30.33,
            43.75
           ],
           "yaxis": "y"
          },
          {
           "hovertemplate": "club=football<br>frameId=62<br>x=%{x}<br>y=%{y}<extra></extra>",
           "legendgroup": "football",
           "marker": {
            "color": "Grey",
            "symbol": "circle"
           },
           "mode": "markers",
           "name": "football",
           "orientation": "v",
           "showlegend": true,
           "type": "scatter",
           "x": [
            34.6199989318848
           ],
           "xaxis": "x",
           "y": [
            26.7199993133545
           ],
           "yaxis": "y"
          }
         ],
         "name": "62"
        },
        {
         "data": [
          {
           "hovertemplate": "club=CIN<br>frameId=63<br>x=%{x}<br>y=%{y}<extra></extra>",
           "legendgroup": "CIN",
           "marker": {
            "color": "Red",
            "symbol": "circle"
           },
           "mode": "markers",
           "name": "CIN",
           "orientation": "v",
           "showlegend": true,
           "type": "scatter",
           "x": [
            39.52,
            45.06,
            35.56,
            38.59,
            41.31,
            35.38,
            45.85,
            35.43,
            35.52,
            39.66,
            38.8
           ],
           "xaxis": "x",
           "y": [
            18.12,
            21.71,
            27.89,
            37.45,
            43.81,
            32,
            35.81,
            24.98,
            22.44,
            25.92,
            30.78
           ],
           "yaxis": "y"
          },
          {
           "hovertemplate": "club=PIT<br>frameId=63<br>x=%{x}<br>y=%{y}<extra></extra>",
           "legendgroup": "PIT",
           "marker": {
            "color": "Black",
            "symbol": "circle"
           },
           "mode": "markers",
           "name": "PIT",
           "orientation": "v",
           "showlegend": true,
           "type": "scatter",
           "x": [
            29.84,
            33.48,
            33.47,
            34.55,
            32.88,
            33.1,
            33.77,
            29.94,
            33.39,
            33.49,
            34.06
           ],
           "xaxis": "x",
           "y": [
            26.67,
            25.23,
            24.01,
            26.69,
            38.2,
            36.09,
            28.47,
            24.69,
            22.36,
            30.33,
            43.75
           ],
           "yaxis": "y"
          },
          {
           "hovertemplate": "club=football<br>frameId=63<br>x=%{x}<br>y=%{y}<extra></extra>",
           "legendgroup": "football",
           "marker": {
            "color": "Grey",
            "symbol": "circle"
           },
           "mode": "markers",
           "name": "football",
           "orientation": "v",
           "showlegend": true,
           "type": "scatter",
           "x": [
            34.6199989318848
           ],
           "xaxis": "x",
           "y": [
            26.7199993133545
           ],
           "yaxis": "y"
          }
         ],
         "name": "63"
        },
        {
         "data": [
          {
           "hovertemplate": "club=CIN<br>frameId=64<br>x=%{x}<br>y=%{y}<extra></extra>",
           "legendgroup": "CIN",
           "marker": {
            "color": "Red",
            "symbol": "circle"
           },
           "mode": "markers",
           "name": "CIN",
           "orientation": "v",
           "showlegend": true,
           "type": "scatter",
           "x": [
            39.51,
            45.05,
            35.56,
            38.58,
            41.4,
            35.41,
            45.86,
            35.42,
            35.5,
            39.65,
            38.76
           ],
           "xaxis": "x",
           "y": [
            18.12,
            21.67,
            27.89,
            37.41,
            43.87,
            32.02,
            35.89,
            24.99,
            22.45,
            25.92,
            30.85
           ],
           "yaxis": "y"
          },
          {
           "hovertemplate": "club=PIT<br>frameId=64<br>x=%{x}<br>y=%{y}<extra></extra>",
           "legendgroup": "PIT",
           "marker": {
            "color": "Black",
            "symbol": "circle"
           },
           "mode": "markers",
           "name": "PIT",
           "orientation": "v",
           "showlegend": true,
           "type": "scatter",
           "x": [
            29.84,
            33.48,
            33.46,
            34.55,
            32.88,
            33.11,
            33.77,
            29.94,
            33.4,
            33.5,
            34.07
           ],
           "xaxis": "x",
           "y": [
            26.67,
            25.23,
            24.01,
            26.69,
            38.2,
            36.08,
            28.47,
            24.69,
            22.36,
            30.33,
            43.75
           ],
           "yaxis": "y"
          },
          {
           "hovertemplate": "club=football<br>frameId=64<br>x=%{x}<br>y=%{y}<extra></extra>",
           "legendgroup": "football",
           "marker": {
            "color": "Grey",
            "symbol": "circle"
           },
           "mode": "markers",
           "name": "football",
           "orientation": "v",
           "showlegend": true,
           "type": "scatter",
           "x": [
            34.6199989318848
           ],
           "xaxis": "x",
           "y": [
            26.7199993133545
           ],
           "yaxis": "y"
          }
         ],
         "name": "64"
        },
        {
         "data": [
          {
           "hovertemplate": "club=CIN<br>frameId=65<br>x=%{x}<br>y=%{y}<extra></extra>",
           "legendgroup": "CIN",
           "marker": {
            "color": "Red",
            "symbol": "circle"
           },
           "mode": "markers",
           "name": "CIN",
           "orientation": "v",
           "showlegend": true,
           "type": "scatter",
           "x": [
            39.51,
            45.05,
            35.57,
            38.57,
            41.48,
            35.43,
            45.87,
            35.42,
            35.49,
            39.65,
            38.71
           ],
           "xaxis": "x",
           "y": [
            18.13,
            21.63,
            27.89,
            37.39,
            43.93,
            32.04,
            35.96,
            24.98,
            22.46,
            25.93,
            30.92
           ],
           "yaxis": "y"
          },
          {
           "hovertemplate": "club=PIT<br>frameId=65<br>x=%{x}<br>y=%{y}<extra></extra>",
           "legendgroup": "PIT",
           "marker": {
            "color": "Black",
            "symbol": "circle"
           },
           "mode": "markers",
           "name": "PIT",
           "orientation": "v",
           "showlegend": true,
           "type": "scatter",
           "x": [
            29.84,
            33.48,
            33.46,
            34.55,
            32.88,
            33.11,
            33.77,
            29.95,
            33.41,
            33.5,
            34.08
           ],
           "xaxis": "x",
           "y": [
            26.67,
            25.24,
            24.01,
            26.69,
            38.2,
            36.09,
            28.47,
            24.72,
            22.38,
            30.32,
            43.76
           ],
           "yaxis": "y"
          },
          {
           "hovertemplate": "club=football<br>frameId=65<br>x=%{x}<br>y=%{y}<extra></extra>",
           "legendgroup": "football",
           "marker": {
            "color": "Grey",
            "symbol": "circle"
           },
           "mode": "markers",
           "name": "football",
           "orientation": "v",
           "showlegend": true,
           "type": "scatter",
           "x": [
            34.6199989318848
           ],
           "xaxis": "x",
           "y": [
            26.7299995422363
           ],
           "yaxis": "y"
          }
         ],
         "name": "65"
        },
        {
         "data": [
          {
           "hovertemplate": "club=CIN<br>frameId=66<br>x=%{x}<br>y=%{y}<extra></extra>",
           "legendgroup": "CIN",
           "marker": {
            "color": "Red",
            "symbol": "circle"
           },
           "mode": "markers",
           "name": "CIN",
           "orientation": "v",
           "showlegend": true,
           "type": "scatter",
           "x": [
            39.52,
            45.05,
            35.58,
            38.56,
            41.57,
            35.44,
            45.89,
            35.42,
            35.49,
            39.65,
            38.66
           ],
           "xaxis": "x",
           "y": [
            18.14,
            21.6,
            27.88,
            37.36,
            43.98,
            32.06,
            36.03,
            24.97,
            22.47,
            25.93,
            31
           ],
           "yaxis": "y"
          },
          {
           "hovertemplate": "club=PIT<br>frameId=66<br>x=%{x}<br>y=%{y}<extra></extra>",
           "legendgroup": "PIT",
           "marker": {
            "color": "Black",
            "symbol": "circle"
           },
           "mode": "markers",
           "name": "PIT",
           "orientation": "v",
           "showlegend": true,
           "type": "scatter",
           "x": [
            29.84,
            33.48,
            33.46,
            34.56,
            32.88,
            33.11,
            33.77,
            29.95,
            33.43,
            33.5,
            34.08
           ],
           "xaxis": "x",
           "y": [
            26.66,
            25.24,
            24.01,
            26.7,
            38.21,
            36.09,
            28.47,
            24.73,
            22.37,
            30.32,
            43.78
           ],
           "yaxis": "y"
          },
          {
           "hovertemplate": "club=football<br>frameId=66<br>x=%{x}<br>y=%{y}<extra></extra>",
           "legendgroup": "football",
           "marker": {
            "color": "Grey",
            "symbol": "circle"
           },
           "mode": "markers",
           "name": "football",
           "orientation": "v",
           "showlegend": true,
           "type": "scatter",
           "x": [
            34.6100006103516
           ],
           "xaxis": "x",
           "y": [
            26.7299995422363
           ],
           "yaxis": "y"
          }
         ],
         "name": "66"
        },
        {
         "data": [
          {
           "hovertemplate": "club=CIN<br>frameId=67<br>x=%{x}<br>y=%{y}<extra></extra>",
           "legendgroup": "CIN",
           "marker": {
            "color": "Red",
            "symbol": "circle"
           },
           "mode": "markers",
           "name": "CIN",
           "orientation": "v",
           "showlegend": true,
           "type": "scatter",
           "x": [
            39.52,
            45.05,
            35.58,
            38.56,
            41.65,
            35.45,
            45.93,
            35.43,
            35.49,
            39.65,
            38.62
           ],
           "xaxis": "x",
           "y": [
            18.14,
            21.58,
            27.88,
            37.35,
            44.04,
            32.09,
            36.09,
            24.97,
            22.47,
            25.93,
            31.07
           ],
           "yaxis": "y"
          },
          {
           "hovertemplate": "club=PIT<br>frameId=67<br>x=%{x}<br>y=%{y}<extra></extra>",
           "legendgroup": "PIT",
           "marker": {
            "color": "Black",
            "symbol": "circle"
           },
           "mode": "markers",
           "name": "PIT",
           "orientation": "v",
           "showlegend": true,
           "type": "scatter",
           "x": [
            29.84,
            33.48,
            33.46,
            34.56,
            32.89,
            33.1,
            33.77,
            29.95,
            33.45,
            33.49,
            34.09
           ],
           "xaxis": "x",
           "y": [
            26.66,
            25.24,
            24.01,
            26.7,
            38.21,
            36.09,
            28.47,
            24.75,
            22.35,
            30.32,
            43.79
           ],
           "yaxis": "y"
          },
          {
           "hovertemplate": "club=football<br>frameId=67<br>x=%{x}<br>y=%{y}<extra></extra>",
           "legendgroup": "football",
           "marker": {
            "color": "Grey",
            "symbol": "circle"
           },
           "mode": "markers",
           "name": "football",
           "orientation": "v",
           "showlegend": true,
           "type": "scatter",
           "x": [
            34.6100006103516
           ],
           "xaxis": "x",
           "y": [
            26.7299995422363
           ],
           "yaxis": "y"
          }
         ],
         "name": "67"
        },
        {
         "data": [
          {
           "hovertemplate": "club=CIN<br>frameId=68<br>x=%{x}<br>y=%{y}<extra></extra>",
           "legendgroup": "CIN",
           "marker": {
            "color": "Red",
            "symbol": "circle"
           },
           "mode": "markers",
           "name": "CIN",
           "orientation": "v",
           "showlegend": true,
           "type": "scatter",
           "x": [
            39.51,
            45.05,
            35.57,
            38.56,
            41.74,
            35.47,
            45.96,
            35.44,
            35.49,
            39.65,
            38.58
           ],
           "xaxis": "x",
           "y": [
            18.14,
            21.56,
            27.88,
            37.35,
            44.07,
            32.07,
            36.16,
            24.96,
            22.47,
            25.94,
            31.15
           ],
           "yaxis": "y"
          },
          {
           "hovertemplate": "club=PIT<br>frameId=68<br>x=%{x}<br>y=%{y}<extra></extra>",
           "legendgroup": "PIT",
           "marker": {
            "color": "Black",
            "symbol": "circle"
           },
           "mode": "markers",
           "name": "PIT",
           "orientation": "v",
           "showlegend": true,
           "type": "scatter",
           "x": [
            29.84,
            33.48,
            33.46,
            34.56,
            32.89,
            33.11,
            33.77,
            29.95,
            33.47,
            33.49,
            34.09
           ],
           "xaxis": "x",
           "y": [
            26.67,
            25.23,
            24.01,
            26.7,
            38.2,
            36.09,
            28.47,
            24.76,
            22.31,
            30.31,
            43.8
           ],
           "yaxis": "y"
          },
          {
           "hovertemplate": "club=football<br>frameId=68<br>x=%{x}<br>y=%{y}<extra></extra>",
           "legendgroup": "football",
           "marker": {
            "color": "Grey",
            "symbol": "circle"
           },
           "mode": "markers",
           "name": "football",
           "orientation": "v",
           "showlegend": true,
           "type": "scatter",
           "x": [
            34.6100006103516
           ],
           "xaxis": "x",
           "y": [
            26.7299995422363
           ],
           "yaxis": "y"
          }
         ],
         "name": "68"
        },
        {
         "data": [
          {
           "hovertemplate": "club=CIN<br>frameId=69<br>x=%{x}<br>y=%{y}<extra></extra>",
           "legendgroup": "CIN",
           "marker": {
            "color": "Red",
            "symbol": "circle"
           },
           "mode": "markers",
           "name": "CIN",
           "orientation": "v",
           "showlegend": true,
           "type": "scatter",
           "x": [
            39.51,
            45.06,
            35.57,
            38.56,
            41.82,
            35.48,
            46,
            35.44,
            35.51,
            39.65,
            38.54
           ],
           "xaxis": "x",
           "y": [
            18.13,
            21.56,
            27.87,
            37.35,
            44.11,
            32.06,
            36.21,
            24.95,
            22.46,
            25.94,
            31.23
           ],
           "yaxis": "y"
          },
          {
           "hovertemplate": "club=PIT<br>frameId=69<br>x=%{x}<br>y=%{y}<extra></extra>",
           "legendgroup": "PIT",
           "marker": {
            "color": "Black",
            "symbol": "circle"
           },
           "mode": "markers",
           "name": "PIT",
           "orientation": "v",
           "showlegend": true,
           "type": "scatter",
           "x": [
            29.83,
            33.48,
            33.46,
            34.56,
            32.89,
            33.11,
            33.77,
            29.94,
            33.5,
            33.48,
            34.09
           ],
           "xaxis": "x",
           "y": [
            26.68,
            25.23,
            24.01,
            26.7,
            38.2,
            36.09,
            28.47,
            24.78,
            22.29,
            30.31,
            43.81
           ],
           "yaxis": "y"
          },
          {
           "hovertemplate": "club=football<br>frameId=69<br>x=%{x}<br>y=%{y}<extra></extra>",
           "legendgroup": "football",
           "marker": {
            "color": "Grey",
            "symbol": "circle"
           },
           "mode": "markers",
           "name": "football",
           "orientation": "v",
           "showlegend": true,
           "type": "scatter",
           "x": [
            34.6100006103516
           ],
           "xaxis": "x",
           "y": [
            26.7299995422363
           ],
           "yaxis": "y"
          }
         ],
         "name": "69"
        },
        {
         "data": [
          {
           "hovertemplate": "club=CIN<br>frameId=70<br>x=%{x}<br>y=%{y}<extra></extra>",
           "legendgroup": "CIN",
           "marker": {
            "color": "Red",
            "symbol": "circle"
           },
           "mode": "markers",
           "name": "CIN",
           "orientation": "v",
           "showlegend": true,
           "type": "scatter",
           "x": [
            39.5,
            45.06,
            35.56,
            38.56,
            41.91,
            35.48,
            46.04,
            35.44,
            35.52,
            39.65,
            38.51
           ],
           "xaxis": "x",
           "y": [
            18.12,
            21.56,
            27.87,
            37.35,
            44.14,
            32.07,
            36.27,
            24.95,
            22.45,
            25.94,
            31.3
           ],
           "yaxis": "y"
          },
          {
           "hovertemplate": "club=PIT<br>frameId=70<br>x=%{x}<br>y=%{y}<extra></extra>",
           "legendgroup": "PIT",
           "marker": {
            "color": "Black",
            "symbol": "circle"
           },
           "mode": "markers",
           "name": "PIT",
           "orientation": "v",
           "showlegend": true,
           "type": "scatter",
           "x": [
            29.83,
            33.47,
            33.46,
            34.56,
            32.89,
            33.1,
            33.77,
            29.95,
            33.53,
            33.48,
            34.09
           ],
           "xaxis": "x",
           "y": [
            26.68,
            25.23,
            24,
            26.71,
            38.19,
            36.08,
            28.47,
            24.77,
            22.26,
            30.31,
            43.81
           ],
           "yaxis": "y"
          },
          {
           "hovertemplate": "club=football<br>frameId=70<br>x=%{x}<br>y=%{y}<extra></extra>",
           "legendgroup": "football",
           "marker": {
            "color": "Grey",
            "symbol": "circle"
           },
           "mode": "markers",
           "name": "football",
           "orientation": "v",
           "showlegend": true,
           "type": "scatter",
           "x": [
            34.6100006103516
           ],
           "xaxis": "x",
           "y": [
            26.7299995422363
           ],
           "yaxis": "y"
          }
         ],
         "name": "70"
        },
        {
         "data": [
          {
           "hovertemplate": "club=CIN<br>frameId=71<br>x=%{x}<br>y=%{y}<extra></extra>",
           "legendgroup": "CIN",
           "marker": {
            "color": "Red",
            "symbol": "circle"
           },
           "mode": "markers",
           "name": "CIN",
           "orientation": "v",
           "showlegend": true,
           "type": "scatter",
           "x": [
            39.5,
            45.07,
            35.56,
            38.56,
            42,
            35.48,
            46.08,
            35.45,
            35.52,
            39.64,
            38.49
           ],
           "xaxis": "x",
           "y": [
            18.09,
            21.56,
            27.86,
            37.36,
            44.16,
            32.08,
            36.3,
            24.95,
            22.42,
            25.95,
            31.36
           ],
           "yaxis": "y"
          },
          {
           "hovertemplate": "club=PIT<br>frameId=71<br>x=%{x}<br>y=%{y}<extra></extra>",
           "legendgroup": "PIT",
           "marker": {
            "color": "Black",
            "symbol": "circle"
           },
           "mode": "markers",
           "name": "PIT",
           "orientation": "v",
           "showlegend": true,
           "type": "scatter",
           "x": [
            29.83,
            33.47,
            33.46,
            34.56,
            32.89,
            33.08,
            33.77,
            29.95,
            33.55,
            33.49,
            34.09
           ],
           "xaxis": "x",
           "y": [
            26.69,
            25.23,
            24,
            26.71,
            38.19,
            36.06,
            28.47,
            24.78,
            22.18,
            30.31,
            43.81
           ],
           "yaxis": "y"
          },
          {
           "hovertemplate": "club=football<br>frameId=71<br>x=%{x}<br>y=%{y}<extra></extra>",
           "legendgroup": "football",
           "marker": {
            "color": "Grey",
            "symbol": "circle"
           },
           "mode": "markers",
           "name": "football",
           "orientation": "v",
           "showlegend": true,
           "type": "scatter",
           "x": [
            34.6100006103516
           ],
           "xaxis": "x",
           "y": [
            26.7299995422363
           ],
           "yaxis": "y"
          }
         ],
         "name": "71"
        },
        {
         "data": [
          {
           "hovertemplate": "club=CIN<br>frameId=72<br>x=%{x}<br>y=%{y}<extra></extra>",
           "legendgroup": "CIN",
           "marker": {
            "color": "Red",
            "symbol": "circle"
           },
           "mode": "markers",
           "name": "CIN",
           "orientation": "v",
           "showlegend": true,
           "type": "scatter",
           "x": [
            39.5,
            45.07,
            35.55,
            38.55,
            42.08,
            35.48,
            46.11,
            35.46,
            35.53,
            39.64,
            38.48
           ],
           "xaxis": "x",
           "y": [
            18.08,
            21.58,
            27.86,
            37.37,
            44.19,
            32.09,
            36.33,
            24.95,
            22.42,
            25.95,
            31.41
           ],
           "yaxis": "y"
          },
          {
           "hovertemplate": "club=PIT<br>frameId=72<br>x=%{x}<br>y=%{y}<extra></extra>",
           "legendgroup": "PIT",
           "marker": {
            "color": "Black",
            "symbol": "circle"
           },
           "mode": "markers",
           "name": "PIT",
           "orientation": "v",
           "showlegend": true,
           "type": "scatter",
           "x": [
            29.83,
            33.47,
            33.46,
            34.56,
            32.89,
            33.04,
            33.77,
            29.95,
            33.54,
            33.49,
            34.09
           ],
           "xaxis": "x",
           "y": [
            26.7,
            25.24,
            24,
            26.71,
            38.19,
            36,
            28.47,
            24.78,
            22.12,
            30.31,
            43.81
           ],
           "yaxis": "y"
          },
          {
           "hovertemplate": "club=football<br>frameId=72<br>x=%{x}<br>y=%{y}<extra></extra>",
           "legendgroup": "football",
           "marker": {
            "color": "Grey",
            "symbol": "circle"
           },
           "mode": "markers",
           "name": "football",
           "orientation": "v",
           "showlegend": true,
           "type": "scatter",
           "x": [
            34.6100006103516
           ],
           "xaxis": "x",
           "y": [
            26.7299995422363
           ],
           "yaxis": "y"
          }
         ],
         "name": "72"
        },
        {
         "data": [
          {
           "hovertemplate": "club=CIN<br>frameId=73<br>x=%{x}<br>y=%{y}<extra></extra>",
           "legendgroup": "CIN",
           "marker": {
            "color": "Red",
            "symbol": "circle"
           },
           "mode": "markers",
           "name": "CIN",
           "orientation": "v",
           "showlegend": true,
           "type": "scatter",
           "x": [
            39.5,
            45.07,
            35.53,
            38.55,
            42.15,
            35.48,
            46.14,
            35.47,
            35.53,
            39.64,
            38.47
           ],
           "xaxis": "x",
           "y": [
            18.06,
            21.59,
            27.86,
            37.4,
            44.21,
            32.09,
            36.35,
            24.95,
            22.41,
            25.95,
            31.44
           ],
           "yaxis": "y"
          },
          {
           "hovertemplate": "club=PIT<br>frameId=73<br>x=%{x}<br>y=%{y}<extra></extra>",
           "legendgroup": "PIT",
           "marker": {
            "color": "Black",
            "symbol": "circle"
           },
           "mode": "markers",
           "name": "PIT",
           "orientation": "v",
           "showlegend": true,
           "type": "scatter",
           "x": [
            29.82,
            33.47,
            33.46,
            34.57,
            32.89,
            32.99,
            33.77,
            29.95,
            33.54,
            33.49,
            34.09
           ],
           "xaxis": "x",
           "y": [
            26.7,
            25.24,
            24,
            26.71,
            38.19,
            35.92,
            28.47,
            24.77,
            22.15,
            30.31,
            43.79
           ],
           "yaxis": "y"
          },
          {
           "hovertemplate": "club=football<br>frameId=73<br>x=%{x}<br>y=%{y}<extra></extra>",
           "legendgroup": "football",
           "marker": {
            "color": "Grey",
            "symbol": "circle"
           },
           "mode": "markers",
           "name": "football",
           "orientation": "v",
           "showlegend": true,
           "type": "scatter",
           "x": [
            34.6100006103516
           ],
           "xaxis": "x",
           "y": [
            26.7299995422363
           ],
           "yaxis": "y"
          }
         ],
         "name": "73"
        },
        {
         "data": [
          {
           "hovertemplate": "club=CIN<br>frameId=74<br>x=%{x}<br>y=%{y}<extra></extra>",
           "legendgroup": "CIN",
           "marker": {
            "color": "Red",
            "symbol": "circle"
           },
           "mode": "markers",
           "name": "CIN",
           "orientation": "v",
           "showlegend": true,
           "type": "scatter",
           "x": [
            39.5,
            45.06,
            35.53,
            38.55,
            42.22,
            35.49,
            46.16,
            35.47,
            35.54,
            39.64,
            38.47
           ],
           "xaxis": "x",
           "y": [
            18.03,
            21.6,
            27.86,
            37.44,
            44.23,
            32.09,
            36.35,
            24.95,
            22.41,
            25.95,
            31.44
           ],
           "yaxis": "y"
          },
          {
           "hovertemplate": "club=PIT<br>frameId=74<br>x=%{x}<br>y=%{y}<extra></extra>",
           "legendgroup": "PIT",
           "marker": {
            "color": "Black",
            "symbol": "circle"
           },
           "mode": "markers",
           "name": "PIT",
           "orientation": "v",
           "showlegend": true,
           "type": "scatter",
           "x": [
            29.81,
            33.47,
            33.46,
            34.56,
            32.89,
            32.92,
            33.77,
            29.95,
            33.53,
            33.49,
            34.08
           ],
           "xaxis": "x",
           "y": [
            26.71,
            25.24,
            24,
            26.71,
            38.19,
            35.77,
            28.47,
            24.78,
            22.18,
            30.31,
            43.79
           ],
           "yaxis": "y"
          },
          {
           "hovertemplate": "club=football<br>frameId=74<br>x=%{x}<br>y=%{y}<extra></extra>",
           "legendgroup": "football",
           "marker": {
            "color": "Grey",
            "symbol": "circle"
           },
           "mode": "markers",
           "name": "football",
           "orientation": "v",
           "showlegend": true,
           "type": "scatter",
           "x": [
            34.6100006103516
           ],
           "xaxis": "x",
           "y": [
            26.7299995422363
           ],
           "yaxis": "y"
          }
         ],
         "name": "74"
        },
        {
         "data": [
          {
           "hovertemplate": "club=CIN<br>frameId=75<br>x=%{x}<br>y=%{y}<extra></extra>",
           "legendgroup": "CIN",
           "marker": {
            "color": "Red",
            "symbol": "circle"
           },
           "mode": "markers",
           "name": "CIN",
           "orientation": "v",
           "showlegend": true,
           "type": "scatter",
           "x": [
            39.5,
            45.05,
            35.54,
            38.53,
            42.28,
            35.49,
            46.18,
            35.48,
            35.53,
            39.64,
            38.49
           ],
           "xaxis": "x",
           "y": [
            18.01,
            21.62,
            27.88,
            37.47,
            44.25,
            32.09,
            36.33,
            24.94,
            22.39,
            25.95,
            31.41
           ],
           "yaxis": "y"
          },
          {
           "hovertemplate": "club=PIT<br>frameId=75<br>x=%{x}<br>y=%{y}<extra></extra>",
           "legendgroup": "PIT",
           "marker": {
            "color": "Black",
            "symbol": "circle"
           },
           "mode": "markers",
           "name": "PIT",
           "orientation": "v",
           "showlegend": true,
           "type": "scatter",
           "x": [
            29.81,
            33.47,
            33.46,
            34.56,
            32.89,
            32.85,
            33.78,
            29.95,
            33.51,
            33.49,
            34.09
           ],
           "xaxis": "x",
           "y": [
            26.72,
            25.24,
            24,
            26.71,
            38.19,
            35.61,
            28.47,
            24.79,
            22.19,
            30.32,
            43.79
           ],
           "yaxis": "y"
          },
          {
           "hovertemplate": "club=football<br>frameId=75<br>x=%{x}<br>y=%{y}<extra></extra>",
           "legendgroup": "football",
           "marker": {
            "color": "Grey",
            "symbol": "circle"
           },
           "mode": "markers",
           "name": "football",
           "orientation": "v",
           "showlegend": true,
           "type": "scatter",
           "x": [
            34.5999984741211
           ],
           "xaxis": "x",
           "y": [
            26.7299995422363
           ],
           "yaxis": "y"
          }
         ],
         "name": "75"
        },
        {
         "data": [
          {
           "hovertemplate": "club=CIN<br>frameId=76<br>x=%{x}<br>y=%{y}<extra></extra>",
           "legendgroup": "CIN",
           "marker": {
            "color": "Red",
            "symbol": "circle"
           },
           "mode": "markers",
           "name": "CIN",
           "orientation": "v",
           "showlegend": true,
           "type": "scatter",
           "x": [
            39.51,
            45.05,
            35.54,
            38.5,
            42.35,
            35.5,
            46.19,
            35.49,
            35.54,
            39.64,
            38.51
           ],
           "xaxis": "x",
           "y": [
            17.99,
            21.62,
            27.9,
            37.52,
            44.26,
            32.09,
            36.31,
            24.94,
            22.39,
            25.95,
            31.36
           ],
           "yaxis": "y"
          },
          {
           "hovertemplate": "club=PIT<br>frameId=76<br>x=%{x}<br>y=%{y}<extra></extra>",
           "legendgroup": "PIT",
           "marker": {
            "color": "Black",
            "symbol": "circle"
           },
           "mode": "markers",
           "name": "PIT",
           "orientation": "v",
           "showlegend": true,
           "type": "scatter",
           "x": [
            29.81,
            33.47,
            33.46,
            34.56,
            32.89,
            32.77,
            33.78,
            29.95,
            33.49,
            33.49,
            34.09
           ],
           "xaxis": "x",
           "y": [
            26.73,
            25.24,
            24,
            26.71,
            38.2,
            35.42,
            28.46,
            24.79,
            22.19,
            30.32,
            43.79
           ],
           "yaxis": "y"
          },
          {
           "hovertemplate": "club=football<br>frameId=76<br>x=%{x}<br>y=%{y}<extra></extra>",
           "legendgroup": "football",
           "marker": {
            "color": "Grey",
            "symbol": "circle"
           },
           "mode": "markers",
           "name": "football",
           "orientation": "v",
           "showlegend": true,
           "type": "scatter",
           "x": [
            34.5999984741211
           ],
           "xaxis": "x",
           "y": [
            26.7299995422363
           ],
           "yaxis": "y"
          }
         ],
         "name": "76"
        },
        {
         "data": [
          {
           "hovertemplate": "club=CIN<br>frameId=77<br>x=%{x}<br>y=%{y}<extra></extra>",
           "legendgroup": "CIN",
           "marker": {
            "color": "Red",
            "symbol": "circle"
           },
           "mode": "markers",
           "name": "CIN",
           "orientation": "v",
           "showlegend": true,
           "type": "scatter",
           "x": [
            39.51,
            45.05,
            35.54,
            38.48,
            42.41,
            35.49,
            46.19,
            35.5,
            35.54,
            39.63,
            38.54
           ],
           "xaxis": "x",
           "y": [
            17.98,
            21.62,
            27.9,
            37.57,
            44.28,
            32.08,
            36.27,
            24.94,
            22.38,
            25.96,
            31.29
           ],
           "yaxis": "y"
          },
          {
           "hovertemplate": "club=PIT<br>frameId=77<br>x=%{x}<br>y=%{y}<extra></extra>",
           "legendgroup": "PIT",
           "marker": {
            "color": "Black",
            "symbol": "circle"
           },
           "mode": "markers",
           "name": "PIT",
           "orientation": "v",
           "showlegend": true,
           "type": "scatter",
           "x": [
            29.81,
            33.47,
            33.46,
            34.56,
            32.88,
            32.68,
            33.78,
            29.95,
            33.45,
            33.49,
            34.09
           ],
           "xaxis": "x",
           "y": [
            26.73,
            25.25,
            24,
            26.72,
            38.19,
            35.18,
            28.46,
            24.79,
            22.27,
            30.32,
            43.8
           ],
           "yaxis": "y"
          },
          {
           "hovertemplate": "club=football<br>frameId=77<br>x=%{x}<br>y=%{y}<extra></extra>",
           "legendgroup": "football",
           "marker": {
            "color": "Grey",
            "symbol": "circle"
           },
           "mode": "markers",
           "name": "football",
           "orientation": "v",
           "showlegend": true,
           "type": "scatter",
           "x": [
            34.5999984741211
           ],
           "xaxis": "x",
           "y": [
            26.7299995422363
           ],
           "yaxis": "y"
          }
         ],
         "name": "77"
        },
        {
         "data": [
          {
           "hovertemplate": "club=CIN<br>frameId=78<br>x=%{x}<br>y=%{y}<extra></extra>",
           "legendgroup": "CIN",
           "marker": {
            "color": "Red",
            "symbol": "circle"
           },
           "mode": "markers",
           "name": "CIN",
           "orientation": "v",
           "showlegend": true,
           "type": "scatter",
           "x": [
            39.52,
            45.04,
            35.53,
            38.45,
            42.46,
            35.48,
            46.18,
            35.51,
            35.55,
            39.63,
            38.58
           ],
           "xaxis": "x",
           "y": [
            17.95,
            21.61,
            27.9,
            37.62,
            44.3,
            32.07,
            36.23,
            24.93,
            22.39,
            25.96,
            31.21
           ],
           "yaxis": "y"
          },
          {
           "hovertemplate": "club=PIT<br>frameId=78<br>x=%{x}<br>y=%{y}<extra></extra>",
           "legendgroup": "PIT",
           "marker": {
            "color": "Black",
            "symbol": "circle"
           },
           "mode": "markers",
           "name": "PIT",
           "orientation": "v",
           "showlegend": true,
           "type": "scatter",
           "x": [
            29.81,
            33.47,
            33.46,
            34.55,
            32.88,
            32.57,
            33.78,
            29.93,
            33.46,
            33.49,
            34.09
           ],
           "xaxis": "x",
           "y": [
            26.72,
            25.25,
            24.01,
            26.72,
            38.18,
            34.9,
            28.46,
            24.8,
            22.22,
            30.32,
            43.8
           ],
           "yaxis": "y"
          },
          {
           "hovertemplate": "club=football<br>frameId=78<br>x=%{x}<br>y=%{y}<extra></extra>",
           "legendgroup": "football",
           "marker": {
            "color": "Grey",
            "symbol": "circle"
           },
           "mode": "markers",
           "name": "football",
           "orientation": "v",
           "showlegend": true,
           "type": "scatter",
           "x": [
            34.5999984741211
           ],
           "xaxis": "x",
           "y": [
            26.7299995422363
           ],
           "yaxis": "y"
          }
         ],
         "name": "78"
        },
        {
         "data": [
          {
           "hovertemplate": "club=CIN<br>frameId=79<br>x=%{x}<br>y=%{y}<extra></extra>",
           "legendgroup": "CIN",
           "marker": {
            "color": "Red",
            "symbol": "circle"
           },
           "mode": "markers",
           "name": "CIN",
           "orientation": "v",
           "showlegend": true,
           "type": "scatter",
           "x": [
            39.52,
            45.02,
            35.53,
            38.41,
            42.51,
            35.48,
            46.17,
            35.52,
            35.56,
            39.63,
            38.63
           ],
           "xaxis": "x",
           "y": [
            17.93,
            21.6,
            27.91,
            37.68,
            44.32,
            32.07,
            36.18,
            24.93,
            22.4,
            25.96,
            31.11
           ],
           "yaxis": "y"
          },
          {
           "hovertemplate": "club=PIT<br>frameId=79<br>x=%{x}<br>y=%{y}<extra></extra>",
           "legendgroup": "PIT",
           "marker": {
            "color": "Black",
            "symbol": "circle"
           },
           "mode": "markers",
           "name": "PIT",
           "orientation": "v",
           "showlegend": true,
           "type": "scatter",
           "x": [
            29.81,
            33.47,
            33.46,
            34.54,
            32.88,
            32.45,
            33.78,
            29.93,
            33.46,
            33.49,
            34.09
           ],
           "xaxis": "x",
           "y": [
            26.71,
            25.25,
            24,
            26.72,
            38.17,
            34.58,
            28.46,
            24.79,
            22.22,
            30.32,
            43.79
           ],
           "yaxis": "y"
          },
          {
           "hovertemplate": "club=football<br>frameId=79<br>x=%{x}<br>y=%{y}<extra></extra>",
           "legendgroup": "football",
           "marker": {
            "color": "Grey",
            "symbol": "circle"
           },
           "mode": "markers",
           "name": "football",
           "orientation": "v",
           "showlegend": true,
           "type": "scatter",
           "x": [
            34.5999984741211
           ],
           "xaxis": "x",
           "y": [
            26.7299995422363
           ],
           "yaxis": "y"
          }
         ],
         "name": "79"
        },
        {
         "data": [
          {
           "hovertemplate": "club=CIN<br>frameId=80<br>x=%{x}<br>y=%{y}<extra></extra>",
           "legendgroup": "CIN",
           "marker": {
            "color": "Red",
            "symbol": "circle"
           },
           "mode": "markers",
           "name": "CIN",
           "orientation": "v",
           "showlegend": true,
           "type": "scatter",
           "x": [
            39.52,
            44.99,
            35.52,
            38.37,
            42.56,
            35.48,
            46.15,
            35.53,
            35.54,
            39.63,
            38.69
           ],
           "xaxis": "x",
           "y": [
            17.9,
            21.58,
            27.91,
            37.73,
            44.33,
            32.07,
            36.12,
            24.91,
            22.41,
            25.96,
            30.99
           ],
           "yaxis": "y"
          },
          {
           "hovertemplate": "club=PIT<br>frameId=80<br>x=%{x}<br>y=%{y}<extra></extra>",
           "legendgroup": "PIT",
           "marker": {
            "color": "Black",
            "symbol": "circle"
           },
           "mode": "markers",
           "name": "PIT",
           "orientation": "v",
           "showlegend": true,
           "type": "scatter",
           "x": [
            29.81,
            33.47,
            33.46,
            34.54,
            32.88,
            32.32,
            33.78,
            29.93,
            33.49,
            33.49,
            34.09
           ],
           "xaxis": "x",
           "y": [
            26.71,
            25.25,
            24,
            26.71,
            38.17,
            34.22,
            28.46,
            24.78,
            22.28,
            30.33,
            43.79
           ],
           "yaxis": "y"
          },
          {
           "hovertemplate": "club=football<br>frameId=80<br>x=%{x}<br>y=%{y}<extra></extra>",
           "legendgroup": "football",
           "marker": {
            "color": "Grey",
            "symbol": "circle"
           },
           "mode": "markers",
           "name": "football",
           "orientation": "v",
           "showlegend": true,
           "type": "scatter",
           "x": [
            34.5999984741211
           ],
           "xaxis": "x",
           "y": [
            26.7299995422363
           ],
           "yaxis": "y"
          }
         ],
         "name": "80"
        },
        {
         "data": [
          {
           "hovertemplate": "club=CIN<br>frameId=81<br>x=%{x}<br>y=%{y}<extra></extra>",
           "legendgroup": "CIN",
           "marker": {
            "color": "Red",
            "symbol": "circle"
           },
           "mode": "markers",
           "name": "CIN",
           "orientation": "v",
           "showlegend": true,
           "type": "scatter",
           "x": [
            39.52,
            44.97,
            35.51,
            38.33,
            42.6,
            35.48,
            46.12,
            35.53,
            35.54,
            39.63,
            38.76
           ],
           "xaxis": "x",
           "y": [
            17.86,
            21.57,
            27.93,
            37.78,
            44.33,
            32.07,
            36.06,
            24.93,
            22.4,
            25.96,
            30.86
           ],
           "yaxis": "y"
          },
          {
           "hovertemplate": "club=PIT<br>frameId=81<br>x=%{x}<br>y=%{y}<extra></extra>",
           "legendgroup": "PIT",
           "marker": {
            "color": "Black",
            "symbol": "circle"
           },
           "mode": "markers",
           "name": "PIT",
           "orientation": "v",
           "showlegend": true,
           "type": "scatter",
           "x": [
            29.81,
            33.46,
            33.46,
            34.51,
            32.88,
            32.19,
            33.78,
            29.94,
            33.49,
            33.49,
            34.09
           ],
           "xaxis": "x",
           "y": [
            26.71,
            25.25,
            24,
            26.7,
            38.18,
            33.81,
            28.46,
            24.76,
            22.29,
            30.32,
            43.79
           ],
           "yaxis": "y"
          },
          {
           "hovertemplate": "club=football<br>frameId=81<br>x=%{x}<br>y=%{y}<extra></extra>",
           "legendgroup": "football",
           "marker": {
            "color": "Grey",
            "symbol": "circle"
           },
           "mode": "markers",
           "name": "football",
           "orientation": "v",
           "showlegend": true,
           "type": "scatter",
           "x": [
            34.5999984741211
           ],
           "xaxis": "x",
           "y": [
            26.7299995422363
           ],
           "yaxis": "y"
          }
         ],
         "name": "81"
        },
        {
         "data": [
          {
           "hovertemplate": "club=CIN<br>frameId=82<br>x=%{x}<br>y=%{y}<extra></extra>",
           "legendgroup": "CIN",
           "marker": {
            "color": "Red",
            "symbol": "circle"
           },
           "mode": "markers",
           "name": "CIN",
           "orientation": "v",
           "showlegend": true,
           "type": "scatter",
           "x": [
            39.53,
            44.94,
            35.5,
            38.29,
            42.64,
            35.48,
            46.08,
            35.51,
            35.54,
            39.63,
            38.82
           ],
           "xaxis": "x",
           "y": [
            17.81,
            21.55,
            27.94,
            37.83,
            44.34,
            32.07,
            35.99,
            24.92,
            22.42,
            25.97,
            30.71
           ],
           "yaxis": "y"
          },
          {
           "hovertemplate": "club=PIT<br>frameId=82<br>x=%{x}<br>y=%{y}<extra></extra>",
           "legendgroup": "PIT",
           "marker": {
            "color": "Black",
            "symbol": "circle"
           },
           "mode": "markers",
           "name": "PIT",
           "orientation": "v",
           "showlegend": true,
           "type": "scatter",
           "x": [
            29.81,
            33.46,
            33.46,
            34.47,
            32.88,
            32.06,
            33.78,
            29.94,
            33.44,
            33.49,
            34.09
           ],
           "xaxis": "x",
           "y": [
            26.71,
            25.26,
            24,
            26.67,
            38.19,
            33.36,
            28.45,
            24.76,
            22.41,
            30.3,
            43.79
           ],
           "yaxis": "y"
          },
          {
           "hovertemplate": "club=football<br>frameId=82<br>x=%{x}<br>y=%{y}<extra></extra>",
           "legendgroup": "football",
           "marker": {
            "color": "Grey",
            "symbol": "circle"
           },
           "mode": "markers",
           "name": "football",
           "orientation": "v",
           "showlegend": true,
           "type": "scatter",
           "x": [
            34.2999992370605
           ],
           "xaxis": "x",
           "y": [
            26.8299999237061
           ],
           "yaxis": "y"
          }
         ],
         "name": "82"
        },
        {
         "data": [
          {
           "hovertemplate": "club=CIN<br>frameId=83<br>x=%{x}<br>y=%{y}<extra></extra>",
           "legendgroup": "CIN",
           "marker": {
            "color": "Red",
            "symbol": "circle"
           },
           "mode": "markers",
           "name": "CIN",
           "orientation": "v",
           "showlegend": true,
           "type": "scatter",
           "x": [
            39.53,
            44.9,
            35.47,
            38.25,
            42.68,
            35.47,
            46.04,
            35.48,
            35.54,
            39.63,
            38.89
           ],
           "xaxis": "x",
           "y": [
            17.74,
            21.53,
            27.9,
            37.88,
            44.34,
            32.05,
            35.91,
            24.9,
            22.44,
            25.96,
            30.56
           ],
           "yaxis": "y"
          },
          {
           "hovertemplate": "club=PIT<br>frameId=83<br>x=%{x}<br>y=%{y}<extra></extra>",
           "legendgroup": "PIT",
           "marker": {
            "color": "Black",
            "symbol": "circle"
           },
           "mode": "markers",
           "name": "PIT",
           "orientation": "v",
           "showlegend": true,
           "type": "scatter",
           "x": [
            29.8,
            33.45,
            33.46,
            34.42,
            32.88,
            31.91,
            33.79,
            29.95,
            33.4,
            33.51,
            34.09
           ],
           "xaxis": "x",
           "y": [
            26.72,
            25.28,
            24.01,
            26.61,
            38.18,
            32.86,
            28.44,
            24.74,
            22.5,
            30.28,
            43.79
           ],
           "yaxis": "y"
          },
          {
           "hovertemplate": "club=football<br>frameId=83<br>x=%{x}<br>y=%{y}<extra></extra>",
           "legendgroup": "football",
           "marker": {
            "color": "Grey",
            "symbol": "circle"
           },
           "mode": "markers",
           "name": "football",
           "orientation": "v",
           "showlegend": true,
           "type": "scatter",
           "x": [
            33.6300010681152
           ],
           "xaxis": "x",
           "y": [
            26.8600006103516
           ],
           "yaxis": "y"
          }
         ],
         "name": "83"
        },
        {
         "data": [
          {
           "hovertemplate": "club=CIN<br>frameId=84<br>x=%{x}<br>y=%{y}<extra></extra>",
           "legendgroup": "CIN",
           "marker": {
            "color": "Red",
            "symbol": "circle"
           },
           "mode": "markers",
           "name": "CIN",
           "orientation": "v",
           "showlegend": true,
           "type": "scatter",
           "x": [
            39.52,
            44.85,
            35.44,
            38.21,
            42.7,
            35.45,
            46,
            35.45,
            35.53,
            39.62,
            38.95
           ],
           "xaxis": "x",
           "y": [
            17.65,
            21.51,
            27.88,
            37.93,
            44.33,
            32.03,
            35.82,
            24.89,
            22.47,
            25.96,
            30.41
           ],
           "yaxis": "y"
          },
          {
           "hovertemplate": "club=PIT<br>frameId=84<br>x=%{x}<br>y=%{y}<extra></extra>",
           "legendgroup": "PIT",
           "marker": {
            "color": "Black",
            "symbol": "circle"
           },
           "mode": "markers",
           "name": "PIT",
           "orientation": "v",
           "showlegend": true,
           "type": "scatter",
           "x": [
            29.8,
            33.44,
            33.46,
            34.36,
            32.88,
            31.76,
            33.81,
            29.95,
            33.39,
            33.53,
            34.09
           ],
           "xaxis": "x",
           "y": [
            26.72,
            25.31,
            24.02,
            26.54,
            38.18,
            32.33,
            28.41,
            24.72,
            22.57,
            30.25,
            43.79
           ],
           "yaxis": "y"
          },
          {
           "hovertemplate": "club=football<br>frameId=84<br>x=%{x}<br>y=%{y}<extra></extra>",
           "legendgroup": "football",
           "marker": {
            "color": "Grey",
            "symbol": "circle"
           },
           "mode": "markers",
           "name": "football",
           "orientation": "v",
           "showlegend": true,
           "type": "scatter",
           "x": [
            32.9900016784668
           ],
           "xaxis": "x",
           "y": [
            26.8700008392334
           ],
           "yaxis": "y"
          }
         ],
         "name": "84"
        },
        {
         "data": [
          {
           "hovertemplate": "club=CIN<br>frameId=85<br>x=%{x}<br>y=%{y}<extra></extra>",
           "legendgroup": "CIN",
           "marker": {
            "color": "Red",
            "symbol": "circle"
           },
           "mode": "markers",
           "name": "CIN",
           "orientation": "v",
           "showlegend": true,
           "type": "scatter",
           "x": [
            39.49,
            44.82,
            35.42,
            38.16,
            42.72,
            35.43,
            45.97,
            35.39,
            35.52,
            39.62,
            39.02
           ],
           "xaxis": "x",
           "y": [
            17.54,
            21.49,
            27.87,
            37.98,
            44.33,
            31.99,
            35.72,
            24.88,
            22.5,
            25.96,
            30.25
           ],
           "yaxis": "y"
          },
          {
           "hovertemplate": "club=PIT<br>frameId=85<br>x=%{x}<br>y=%{y}<extra></extra>",
           "legendgroup": "PIT",
           "marker": {
            "color": "Black",
            "symbol": "circle"
           },
           "mode": "markers",
           "name": "PIT",
           "orientation": "v",
           "showlegend": true,
           "type": "scatter",
           "x": [
            29.79,
            33.43,
            33.48,
            34.3,
            32.87,
            31.62,
            33.85,
            29.96,
            33.38,
            33.55,
            34.11
           ],
           "xaxis": "x",
           "y": [
            26.73,
            25.38,
            24.05,
            26.43,
            38.18,
            31.76,
            28.36,
            24.69,
            22.59,
            30.21,
            43.78
           ],
           "yaxis": "y"
          },
          {
           "hovertemplate": "club=football<br>frameId=85<br>x=%{x}<br>y=%{y}<extra></extra>",
           "legendgroup": "football",
           "marker": {
            "color": "Grey",
            "symbol": "circle"
           },
           "mode": "markers",
           "name": "football",
           "orientation": "v",
           "showlegend": true,
           "type": "scatter",
           "x": [
            32.3899993896484
           ],
           "xaxis": "x",
           "y": [
            26.8999996185303
           ],
           "yaxis": "y"
          }
         ],
         "name": "85"
        },
        {
         "data": [
          {
           "hovertemplate": "club=CIN<br>frameId=86<br>x=%{x}<br>y=%{y}<extra></extra>",
           "legendgroup": "CIN",
           "marker": {
            "color": "Red",
            "symbol": "circle"
           },
           "mode": "markers",
           "name": "CIN",
           "orientation": "v",
           "showlegend": true,
           "type": "scatter",
           "x": [
            39.44,
            44.79,
            35.4,
            38.1,
            42.73,
            35.39,
            45.94,
            35.31,
            35.5,
            39.61,
            39.07
           ],
           "xaxis": "x",
           "y": [
            17.42,
            21.48,
            27.84,
            38.03,
            44.33,
            31.92,
            35.61,
            24.86,
            22.56,
            25.95,
            30.1
           ],
           "yaxis": "y"
          },
          {
           "hovertemplate": "club=PIT<br>frameId=86<br>x=%{x}<br>y=%{y}<extra></extra>",
           "legendgroup": "PIT",
           "marker": {
            "color": "Black",
            "symbol": "circle"
           },
           "mode": "markers",
           "name": "PIT",
           "orientation": "v",
           "showlegend": true,
           "type": "scatter",
           "x": [
            29.78,
            33.4,
            33.5,
            34.25,
            32.88,
            31.48,
            33.9,
            29.97,
            33.36,
            33.6,
            34.11
           ],
           "xaxis": "x",
           "y": [
            26.74,
            25.48,
            24.12,
            26.31,
            38.18,
            31.16,
            28.3,
            24.63,
            22.65,
            30.14,
            43.78
           ],
           "yaxis": "y"
          },
          {
           "hovertemplate": "club=football<br>frameId=86<br>x=%{x}<br>y=%{y}<extra></extra>",
           "legendgroup": "football",
           "marker": {
            "color": "Grey",
            "symbol": "circle"
           },
           "mode": "markers",
           "name": "football",
           "orientation": "v",
           "showlegend": true,
           "type": "scatter",
           "x": [
            31.8199996948242
           ],
           "xaxis": "x",
           "y": [
            26.9400005340576
           ],
           "yaxis": "y"
          }
         ],
         "name": "86"
        },
        {
         "data": [
          {
           "hovertemplate": "club=CIN<br>frameId=87<br>x=%{x}<br>y=%{y}<extra></extra>",
           "legendgroup": "CIN",
           "marker": {
            "color": "Red",
            "symbol": "circle"
           },
           "mode": "markers",
           "name": "CIN",
           "orientation": "v",
           "showlegend": true,
           "type": "scatter",
           "x": [
            39.38,
            44.72,
            35.37,
            38.04,
            42.74,
            35.34,
            45.93,
            35.22,
            35.47,
            39.59,
            39.12
           ],
           "xaxis": "x",
           "y": [
            17.29,
            21.46,
            27.8,
            38.08,
            44.33,
            31.83,
            35.49,
            24.83,
            22.64,
            25.94,
            29.95
           ],
           "yaxis": "y"
          },
          {
           "hovertemplate": "club=PIT<br>frameId=87<br>x=%{x}<br>y=%{y}<extra></extra>",
           "legendgroup": "PIT",
           "marker": {
            "color": "Black",
            "symbol": "circle"
           },
           "mode": "markers",
           "name": "PIT",
           "orientation": "v",
           "showlegend": true,
           "type": "scatter",
           "x": [
            29.75,
            33.38,
            33.52,
            34.21,
            32.88,
            31.35,
            33.96,
            29.99,
            33.33,
            33.68,
            34.13
           ],
           "xaxis": "x",
           "y": [
            26.78,
            25.61,
            24.19,
            26.16,
            38.18,
            30.54,
            28.22,
            24.52,
            22.75,
            30.03,
            43.77
           ],
           "yaxis": "y"
          },
          {
           "hovertemplate": "club=football<br>frameId=87<br>x=%{x}<br>y=%{y}<extra></extra>",
           "legendgroup": "football",
           "marker": {
            "color": "Grey",
            "symbol": "circle"
           },
           "mode": "markers",
           "name": "football",
           "orientation": "v",
           "showlegend": true,
           "type": "scatter",
           "x": [
            31.2800006866455
           ],
           "xaxis": "x",
           "y": [
            27
           ],
           "yaxis": "y"
          }
         ],
         "name": "87"
        },
        {
         "data": [
          {
           "hovertemplate": "club=CIN<br>frameId=88<br>x=%{x}<br>y=%{y}<extra></extra>",
           "legendgroup": "CIN",
           "marker": {
            "color": "Red",
            "symbol": "circle"
           },
           "mode": "markers",
           "name": "CIN",
           "orientation": "v",
           "showlegend": true,
           "type": "scatter",
           "x": [
            39.3,
            44.7,
            35.34,
            37.98,
            42.74,
            35.28,
            45.94,
            35.12,
            35.42,
            39.55,
            39.15
           ],
           "xaxis": "x",
           "y": [
            17.16,
            21.45,
            27.74,
            38.13,
            44.34,
            31.71,
            35.36,
            24.79,
            22.74,
            25.93,
            29.83
           ],
           "yaxis": "y"
          },
          {
           "hovertemplate": "club=PIT<br>frameId=88<br>x=%{x}<br>y=%{y}<extra></extra>",
           "legendgroup": "PIT",
           "marker": {
            "color": "Black",
            "symbol": "circle"
           },
           "mode": "markers",
           "name": "PIT",
           "orientation": "v",
           "showlegend": true,
           "type": "scatter",
           "x": [
            29.71,
            33.36,
            33.54,
            34.17,
            32.89,
            31.22,
            34.04,
            30.02,
            33.26,
            33.78,
            34.18
           ],
           "xaxis": "x",
           "y": [
            26.86,
            25.76,
            24.28,
            26.02,
            38.18,
            29.89,
            28.14,
            24.34,
            22.89,
            29.88,
            43.75
           ],
           "yaxis": "y"
          },
          {
           "hovertemplate": "club=football<br>frameId=88<br>x=%{x}<br>y=%{y}<extra></extra>",
           "legendgroup": "football",
           "marker": {
            "color": "Grey",
            "symbol": "circle"
           },
           "mode": "markers",
           "name": "football",
           "orientation": "v",
           "showlegend": true,
           "type": "scatter",
           "x": [
            30.8299999237061
           ],
           "xaxis": "x",
           "y": [
            27.1000003814697
           ],
           "yaxis": "y"
          }
         ],
         "name": "88"
        },
        {
         "data": [
          {
           "hovertemplate": "club=CIN<br>frameId=89<br>x=%{x}<br>y=%{y}<extra></extra>",
           "legendgroup": "CIN",
           "marker": {
            "color": "Red",
            "symbol": "circle"
           },
           "mode": "markers",
           "name": "CIN",
           "orientation": "v",
           "showlegend": true,
           "type": "scatter",
           "x": [
            39.18,
            44.65,
            35.32,
            37.91,
            42.75,
            35.19,
            45.96,
            35,
            35.36,
            39.49,
            39.15
           ],
           "xaxis": "x",
           "y": [
            17.01,
            21.43,
            27.67,
            38.17,
            44.34,
            31.56,
            35.23,
            24.74,
            22.86,
            25.9,
            29.71
           ],
           "yaxis": "y"
          },
          {
           "hovertemplate": "club=PIT<br>frameId=89<br>x=%{x}<br>y=%{y}<extra></extra>",
           "legendgroup": "PIT",
           "marker": {
            "color": "Black",
            "symbol": "circle"
           },
           "mode": "markers",
           "name": "PIT",
           "orientation": "v",
           "showlegend": true,
           "type": "scatter",
           "x": [
            29.67,
            33.34,
            33.56,
            34.15,
            32.9,
            31.11,
            34.11,
            30.08,
            33.17,
            33.9,
            34.26
           ],
           "xaxis": "x",
           "y": [
            26.97,
            25.93,
            24.37,
            25.87,
            38.18,
            29.22,
            28.06,
            24.09,
            23.09,
            29.72,
            43.71
           ],
           "yaxis": "y"
          },
          {
           "hovertemplate": "club=football<br>frameId=89<br>x=%{x}<br>y=%{y}<extra></extra>",
           "legendgroup": "football",
           "marker": {
            "color": "Grey",
            "symbol": "circle"
           },
           "mode": "markers",
           "name": "football",
           "orientation": "v",
           "showlegend": true,
           "type": "scatter",
           "x": [
            30.4599990844727
           ],
           "xaxis": "x",
           "y": [
            27.2700004577637
           ],
           "yaxis": "y"
          }
         ],
         "name": "89"
        },
        {
         "data": [
          {
           "hovertemplate": "club=CIN<br>frameId=90<br>x=%{x}<br>y=%{y}<extra></extra>",
           "legendgroup": "CIN",
           "marker": {
            "color": "Red",
            "symbol": "circle"
           },
           "mode": "markers",
           "name": "CIN",
           "orientation": "v",
           "showlegend": true,
           "type": "scatter",
           "x": [
            39.04,
            44.57,
            35.31,
            37.85,
            42.75,
            35.1,
            46,
            34.88,
            35.29,
            39.42,
            39.13
           ],
           "xaxis": "x",
           "y": [
            16.85,
            21.4,
            27.59,
            38.21,
            44.34,
            31.4,
            35.08,
            24.69,
            22.98,
            25.87,
            29.63
           ],
           "yaxis": "y"
          },
          {
           "hovertemplate": "club=PIT<br>frameId=90<br>x=%{x}<br>y=%{y}<extra></extra>",
           "legendgroup": "PIT",
           "marker": {
            "color": "Black",
            "symbol": "circle"
           },
           "mode": "markers",
           "name": "PIT",
           "orientation": "v",
           "showlegend": true,
           "type": "scatter",
           "x": [
            29.62,
            33.33,
            33.57,
            34.13,
            32.93,
            31,
            34.21,
            30.14,
            33.07,
            34.07,
            34.4
           ],
           "xaxis": "x",
           "y": [
            27.13,
            26.12,
            24.46,
            25.72,
            38.18,
            28.53,
            27.97,
            23.78,
            23.34,
            29.54,
            43.65
           ],
           "yaxis": "y"
          },
          {
           "hovertemplate": "club=football<br>frameId=90<br>x=%{x}<br>y=%{y}<extra></extra>",
           "legendgroup": "football",
           "marker": {
            "color": "Grey",
            "symbol": "circle"
           },
           "mode": "markers",
           "name": "football",
           "orientation": "v",
           "showlegend": true,
           "type": "scatter",
           "x": [
            30.1399993896484
           ],
           "xaxis": "x",
           "y": [
            27.4500007629395
           ],
           "yaxis": "y"
          }
         ],
         "name": "90"
        },
        {
         "data": [
          {
           "hovertemplate": "club=CIN<br>frameId=91<br>x=%{x}<br>y=%{y}<extra></extra>",
           "legendgroup": "CIN",
           "marker": {
            "color": "Red",
            "symbol": "circle"
           },
           "mode": "markers",
           "name": "CIN",
           "orientation": "v",
           "showlegend": true,
           "type": "scatter",
           "x": [
            38.85,
            44.44,
            35.31,
            37.79,
            42.77,
            35,
            46.06,
            34.79,
            35.22,
            39.32,
            39.08
           ],
           "xaxis": "x",
           "y": [
            16.67,
            21.36,
            27.5,
            38.24,
            44.32,
            31.24,
            34.95,
            24.63,
            23.09,
            25.83,
            29.57
           ],
           "yaxis": "y"
          },
          {
           "hovertemplate": "club=PIT<br>frameId=91<br>x=%{x}<br>y=%{y}<extra></extra>",
           "legendgroup": "PIT",
           "marker": {
            "color": "Black",
            "symbol": "circle"
           },
           "mode": "markers",
           "name": "PIT",
           "orientation": "v",
           "showlegend": true,
           "type": "scatter",
           "x": [
            29.58,
            33.34,
            33.57,
            34.14,
            32.99,
            30.92,
            34.31,
            30.22,
            32.96,
            34.25,
            34.61
           ],
           "xaxis": "x",
           "y": [
            27.33,
            26.34,
            24.55,
            25.58,
            38.18,
            27.82,
            27.89,
            23.41,
            23.63,
            29.34,
            43.56
           ],
           "yaxis": "y"
          },
          {
           "hovertemplate": "club=football<br>frameId=91<br>x=%{x}<br>y=%{y}<extra></extra>",
           "legendgroup": "football",
           "marker": {
            "color": "Grey",
            "symbol": "circle"
           },
           "mode": "markers",
           "name": "football",
           "orientation": "v",
           "showlegend": true,
           "type": "scatter",
           "x": [
            29.8799991607666
           ],
           "xaxis": "x",
           "y": [
            27.7099990844727
           ],
           "yaxis": "y"
          }
         ],
         "name": "91"
        },
        {
         "data": [
          {
           "hovertemplate": "club=CIN<br>frameId=92<br>x=%{x}<br>y=%{y}<extra></extra>",
           "legendgroup": "CIN",
           "marker": {
            "color": "Red",
            "symbol": "circle"
           },
           "mode": "markers",
           "name": "CIN",
           "orientation": "v",
           "showlegend": true,
           "type": "scatter",
           "x": [
            38.64,
            44.29,
            35.33,
            37.74,
            42.78,
            34.89,
            46.12,
            34.69,
            35.15,
            39.21,
            39.01
           ],
           "xaxis": "x",
           "y": [
            16.48,
            21.3,
            27.41,
            38.28,
            44.3,
            31.1,
            34.82,
            24.59,
            23.18,
            25.78,
            29.55
           ],
           "yaxis": "y"
          },
          {
           "hovertemplate": "club=PIT<br>frameId=92<br>x=%{x}<br>y=%{y}<extra></extra>",
           "legendgroup": "PIT",
           "marker": {
            "color": "Black",
            "symbol": "circle"
           },
           "mode": "markers",
           "name": "PIT",
           "orientation": "v",
           "showlegend": true,
           "type": "scatter",
           "x": [
            29.53,
            33.37,
            33.57,
            34.15,
            33.08,
            30.86,
            34.43,
            30.33,
            32.85,
            34.46,
            34.88
           ],
           "xaxis": "x",
           "y": [
            27.57,
            26.57,
            24.62,
            25.47,
            38.19,
            27.09,
            27.8,
            23,
            23.95,
            29.14,
            43.44
           ],
           "yaxis": "y"
          },
          {
           "hovertemplate": "club=football<br>frameId=92<br>x=%{x}<br>y=%{y}<extra></extra>",
           "legendgroup": "football",
           "marker": {
            "color": "Grey",
            "symbol": "circle"
           },
           "mode": "markers",
           "name": "football",
           "orientation": "v",
           "showlegend": true,
           "type": "scatter",
           "x": [
            29.6599998474121
           ],
           "xaxis": "x",
           "y": [
            28.0300006866455
           ],
           "yaxis": "y"
          }
         ],
         "name": "92"
        },
        {
         "data": [
          {
           "hovertemplate": "club=CIN<br>frameId=93<br>x=%{x}<br>y=%{y}<extra></extra>",
           "legendgroup": "CIN",
           "marker": {
            "color": "Red",
            "symbol": "circle"
           },
           "mode": "markers",
           "name": "CIN",
           "orientation": "v",
           "showlegend": true,
           "type": "scatter",
           "x": [
            38.41,
            44.1,
            35.37,
            37.71,
            42.8,
            34.76,
            46.2,
            34.61,
            35.08,
            39.1,
            38.91
           ],
           "xaxis": "x",
           "y": [
            16.27,
            21.22,
            27.32,
            38.32,
            44.25,
            30.97,
            34.73,
            24.54,
            23.25,
            25.72,
            29.57
           ],
           "yaxis": "y"
          },
          {
           "hovertemplate": "club=PIT<br>frameId=93<br>x=%{x}<br>y=%{y}<extra></extra>",
           "legendgroup": "PIT",
           "marker": {
            "color": "Black",
            "symbol": "circle"
           },
           "mode": "markers",
           "name": "PIT",
           "orientation": "v",
           "showlegend": true,
           "type": "scatter",
           "x": [
            29.5,
            33.42,
            33.58,
            34.17,
            33.19,
            30.82,
            34.54,
            30.45,
            32.77,
            34.68,
            35.19
           ],
           "xaxis": "x",
           "y": [
            27.87,
            26.82,
            24.7,
            25.36,
            38.21,
            26.36,
            27.72,
            22.54,
            24.31,
            28.94,
            43.3
           ],
           "yaxis": "y"
          },
          {
           "hovertemplate": "club=football<br>frameId=93<br>x=%{x}<br>y=%{y}<extra></extra>",
           "legendgroup": "football",
           "marker": {
            "color": "Grey",
            "symbol": "circle"
           },
           "mode": "markers",
           "name": "football",
           "orientation": "v",
           "showlegend": true,
           "type": "scatter",
           "x": [
            29.5
           ],
           "xaxis": "x",
           "y": [
            28.3700008392334
           ],
           "yaxis": "y"
          }
         ],
         "name": "93"
        },
        {
         "data": [
          {
           "hovertemplate": "club=CIN<br>frameId=94<br>x=%{x}<br>y=%{y}<extra></extra>",
           "legendgroup": "CIN",
           "marker": {
            "color": "Red",
            "symbol": "circle"
           },
           "mode": "markers",
           "name": "CIN",
           "orientation": "v",
           "showlegend": true,
           "type": "scatter",
           "x": [
            38.18,
            43.89,
            35.42,
            37.68,
            42.83,
            34.62,
            46.29,
            34.54,
            35.03,
            38.99,
            38.79
           ],
           "xaxis": "x",
           "y": [
            16.05,
            21.12,
            27.24,
            38.37,
            44.2,
            30.89,
            34.65,
            24.5,
            23.28,
            25.66,
            29.65
           ],
           "yaxis": "y"
          },
          {
           "hovertemplate": "club=PIT<br>frameId=94<br>x=%{x}<br>y=%{y}<extra></extra>",
           "legendgroup": "PIT",
           "marker": {
            "color": "Black",
            "symbol": "circle"
           },
           "mode": "markers",
           "name": "PIT",
           "orientation": "v",
           "showlegend": true,
           "type": "scatter",
           "x": [
            29.48,
            33.51,
            33.6,
            34.2,
            33.35,
            30.79,
            34.65,
            30.6,
            32.7,
            34.92,
            35.55
           ],
           "xaxis": "x",
           "y": [
            28.19,
            27.07,
            24.75,
            25.28,
            38.23,
            25.62,
            27.64,
            22.04,
            24.69,
            28.75,
            43.14
           ],
           "yaxis": "y"
          },
          {
           "hovertemplate": "club=football<br>frameId=94<br>x=%{x}<br>y=%{y}<extra></extra>",
           "legendgroup": "football",
           "marker": {
            "color": "Grey",
            "symbol": "circle"
           },
           "mode": "markers",
           "name": "football",
           "orientation": "v",
           "showlegend": true,
           "type": "scatter",
           "x": [
            29.4300003051758
           ],
           "xaxis": "x",
           "y": [
            28.7600002288818
           ],
           "yaxis": "y"
          }
         ],
         "name": "94"
        },
        {
         "data": [
          {
           "hovertemplate": "club=CIN<br>frameId=95<br>x=%{x}<br>y=%{y}<extra></extra>",
           "legendgroup": "CIN",
           "marker": {
            "color": "Red",
            "symbol": "circle"
           },
           "mode": "markers",
           "name": "CIN",
           "orientation": "v",
           "showlegend": true,
           "type": "scatter",
           "x": [
            37.95,
            43.67,
            35.49,
            37.67,
            42.85,
            34.47,
            46.39,
            34.49,
            35,
            38.89,
            38.65
           ],
           "xaxis": "x",
           "y": [
            15.82,
            21.01,
            27.18,
            38.43,
            44.14,
            30.85,
            34.61,
            24.48,
            23.27,
            25.61,
            29.76
           ],
           "yaxis": "y"
          },
          {
           "hovertemplate": "club=PIT<br>frameId=95<br>x=%{x}<br>y=%{y}<extra></extra>",
           "legendgroup": "PIT",
           "marker": {
            "color": "Black",
            "symbol": "circle"
           },
           "mode": "markers",
           "name": "PIT",
           "orientation": "v",
           "showlegend": true,
           "type": "scatter",
           "x": [
            29.46,
            33.64,
            33.62,
            34.25,
            33.56,
            30.78,
            34.77,
            30.77,
            32.68,
            35.17,
            35.95
           ],
           "xaxis": "x",
           "y": [
            28.56,
            27.34,
            24.81,
            25.23,
            38.29,
            24.88,
            27.58,
            21.51,
            25.1,
            28.58,
            42.96
           ],
           "yaxis": "y"
          },
          {
           "hovertemplate": "club=football<br>frameId=95<br>x=%{x}<br>y=%{y}<extra></extra>",
           "legendgroup": "football",
           "marker": {
            "color": "Grey",
            "symbol": "circle"
           },
           "mode": "markers",
           "name": "football",
           "orientation": "v",
           "showlegend": true,
           "type": "scatter",
           "x": [
            29.3899993896484
           ],
           "xaxis": "x",
           "y": [
            29.1800003051758
           ],
           "yaxis": "y"
          }
         ],
         "name": "95"
        },
        {
         "data": [
          {
           "hovertemplate": "club=CIN<br>frameId=96<br>x=%{x}<br>y=%{y}<extra></extra>",
           "legendgroup": "CIN",
           "marker": {
            "color": "Red",
            "symbol": "circle"
           },
           "mode": "markers",
           "name": "CIN",
           "orientation": "v",
           "showlegend": true,
           "type": "scatter",
           "x": [
            37.74,
            43.45,
            35.57,
            37.67,
            42.88,
            34.31,
            46.48,
            34.49,
            34.97,
            38.8,
            38.49
           ],
           "xaxis": "x",
           "y": [
            15.59,
            20.88,
            27.15,
            38.52,
            44.06,
            30.83,
            34.6,
            24.46,
            23.24,
            25.56,
            29.92
           ],
           "yaxis": "y"
          },
          {
           "hovertemplate": "club=PIT<br>frameId=96<br>x=%{x}<br>y=%{y}<extra></extra>",
           "legendgroup": "PIT",
           "marker": {
            "color": "Black",
            "symbol": "circle"
           },
           "mode": "markers",
           "name": "PIT",
           "orientation": "v",
           "showlegend": true,
           "type": "scatter",
           "x": [
            29.46,
            33.8,
            33.63,
            34.3,
            33.79,
            30.8,
            34.89,
            30.97,
            32.68,
            35.44,
            36.4
           ],
           "xaxis": "x",
           "y": [
            28.96,
            27.61,
            24.86,
            25.19,
            38.36,
            24.13,
            27.53,
            20.95,
            25.51,
            28.44,
            42.75
           ],
           "yaxis": "y"
          },
          {
           "hovertemplate": "club=football<br>frameId=96<br>x=%{x}<br>y=%{y}<extra></extra>",
           "legendgroup": "football",
           "marker": {
            "color": "Grey",
            "symbol": "circle"
           },
           "mode": "markers",
           "name": "football",
           "orientation": "v",
           "showlegend": true,
           "type": "scatter",
           "x": [
            29.3999996185303
           ],
           "xaxis": "x",
           "y": [
            29.6299991607666
           ],
           "yaxis": "y"
          }
         ],
         "name": "96"
        },
        {
         "data": [
          {
           "hovertemplate": "club=CIN<br>frameId=97<br>x=%{x}<br>y=%{y}<extra></extra>",
           "legendgroup": "CIN",
           "marker": {
            "color": "Red",
            "symbol": "circle"
           },
           "mode": "markers",
           "name": "CIN",
           "orientation": "v",
           "showlegend": true,
           "type": "scatter",
           "x": [
            37.56,
            43.24,
            35.66,
            37.68,
            42.93,
            34.14,
            46.58,
            34.49,
            34.97,
            38.74,
            38.32
           ],
           "xaxis": "x",
           "y": [
            15.34,
            20.72,
            27.13,
            38.64,
            43.99,
            30.88,
            34.64,
            24.44,
            23.19,
            25.53,
            30.14
           ],
           "yaxis": "y"
          },
          {
           "hovertemplate": "club=PIT<br>frameId=97<br>x=%{x}<br>y=%{y}<extra></extra>",
           "legendgroup": "PIT",
           "marker": {
            "color": "Black",
            "symbol": "circle"
           },
           "mode": "markers",
           "name": "PIT",
           "orientation": "v",
           "showlegend": true,
           "type": "scatter",
           "x": [
            29.47,
            33.99,
            33.64,
            34.36,
            34.06,
            30.85,
            35.01,
            31.2,
            32.72,
            35.71,
            36.89
           ],
           "xaxis": "x",
           "y": [
            29.39,
            27.87,
            24.9,
            25.17,
            38.46,
            23.38,
            27.5,
            20.38,
            25.94,
            28.33,
            42.52
           ],
           "yaxis": "y"
          },
          {
           "hovertemplate": "club=football<br>frameId=97<br>x=%{x}<br>y=%{y}<extra></extra>",
           "legendgroup": "football",
           "marker": {
            "color": "Grey",
            "symbol": "circle"
           },
           "mode": "markers",
           "name": "football",
           "orientation": "v",
           "showlegend": true,
           "type": "scatter",
           "x": [
            29.4500007629395
           ],
           "xaxis": "x",
           "y": [
            30.0900001525879
           ],
           "yaxis": "y"
          }
         ],
         "name": "97"
        },
        {
         "data": [
          {
           "hovertemplate": "club=CIN<br>frameId=98<br>x=%{x}<br>y=%{y}<extra></extra>",
           "legendgroup": "CIN",
           "marker": {
            "color": "Red",
            "symbol": "circle"
           },
           "mode": "markers",
           "name": "CIN",
           "orientation": "v",
           "showlegend": true,
           "type": "scatter",
           "x": [
            37.4,
            43.06,
            35.76,
            37.7,
            42.98,
            33.96,
            46.68,
            34.51,
            34.99,
            38.72,
            38.13
           ],
           "xaxis": "x",
           "y": [
            15.09,
            20.54,
            27.15,
            38.8,
            43.91,
            31,
            34.7,
            24.44,
            23.13,
            25.54,
            30.38
           ],
           "yaxis": "y"
          },
          {
           "hovertemplate": "club=PIT<br>frameId=98<br>x=%{x}<br>y=%{y}<extra></extra>",
           "legendgroup": "PIT",
           "marker": {
            "color": "Black",
            "symbol": "circle"
           },
           "mode": "markers",
           "name": "PIT",
           "orientation": "v",
           "showlegend": true,
           "type": "scatter",
           "x": [
            29.5,
            34.21,
            33.66,
            34.43,
            34.35,
            30.93,
            35.14,
            31.46,
            32.79,
            36,
            37.4
           ],
           "xaxis": "x",
           "y": [
            29.84,
            28.14,
            24.95,
            25.16,
            38.59,
            22.63,
            27.49,
            19.81,
            26.37,
            28.25,
            42.29
           ],
           "yaxis": "y"
          },
          {
           "hovertemplate": "club=football<br>frameId=98<br>x=%{x}<br>y=%{y}<extra></extra>",
           "legendgroup": "football",
           "marker": {
            "color": "Grey",
            "symbol": "circle"
           },
           "mode": "markers",
           "name": "football",
           "orientation": "v",
           "showlegend": true,
           "type": "scatter",
           "x": [
            29.5499992370605
           ],
           "xaxis": "x",
           "y": [
            30.5100002288818
           ],
           "yaxis": "y"
          }
         ],
         "name": "98"
        },
        {
         "data": [
          {
           "hovertemplate": "club=CIN<br>frameId=99<br>x=%{x}<br>y=%{y}<extra></extra>",
           "legendgroup": "CIN",
           "marker": {
            "color": "Red",
            "symbol": "circle"
           },
           "mode": "markers",
           "name": "CIN",
           "orientation": "v",
           "showlegend": true,
           "type": "scatter",
           "x": [
            37.29,
            42.89,
            35.87,
            37.74,
            43.05,
            33.79,
            46.78,
            34.55,
            35.01,
            38.75,
            37.93
           ],
           "xaxis": "x",
           "y": [
            14.83,
            20.35,
            27.17,
            39,
            43.84,
            31.15,
            34.8,
            24.45,
            23.06,
            25.58,
            30.64
           ],
           "yaxis": "y"
          },
          {
           "hovertemplate": "club=PIT<br>frameId=99<br>x=%{x}<br>y=%{y}<extra></extra>",
           "legendgroup": "PIT",
           "marker": {
            "color": "Black",
            "symbol": "circle"
           },
           "mode": "markers",
           "name": "PIT",
           "orientation": "v",
           "showlegend": true,
           "type": "scatter",
           "x": [
            29.54,
            34.46,
            33.71,
            34.5,
            34.64,
            31.04,
            35.26,
            31.76,
            32.88,
            36.29,
            37.94
           ],
           "xaxis": "x",
           "y": [
            30.31,
            28.41,
            25,
            25.18,
            38.78,
            21.9,
            27.5,
            19.23,
            26.8,
            28.21,
            42.06
           ],
           "yaxis": "y"
          },
          {
           "hovertemplate": "club=football<br>frameId=99<br>x=%{x}<br>y=%{y}<extra></extra>",
           "legendgroup": "football",
           "marker": {
            "color": "Grey",
            "symbol": "circle"
           },
           "mode": "markers",
           "name": "football",
           "orientation": "v",
           "showlegend": true,
           "type": "scatter",
           "x": [
            29.6800003051758
           ],
           "xaxis": "x",
           "y": [
            30.9200000762939
           ],
           "yaxis": "y"
          }
         ],
         "name": "99"
        },
        {
         "data": [
          {
           "hovertemplate": "club=CIN<br>frameId=100<br>x=%{x}<br>y=%{y}<extra></extra>",
           "legendgroup": "CIN",
           "marker": {
            "color": "Red",
            "symbol": "circle"
           },
           "mode": "markers",
           "name": "CIN",
           "orientation": "v",
           "showlegend": true,
           "type": "scatter",
           "x": [
            37.23,
            42.77,
            36,
            37.78,
            43.15,
            33.6,
            46.88,
            34.59,
            35.07,
            38.81,
            37.71
           ],
           "xaxis": "x",
           "y": [
            14.57,
            20.15,
            27.22,
            39.25,
            43.78,
            31.36,
            34.93,
            24.46,
            22.97,
            25.67,
            30.91
           ],
           "yaxis": "y"
          },
          {
           "hovertemplate": "club=PIT<br>frameId=100<br>x=%{x}<br>y=%{y}<extra></extra>",
           "legendgroup": "PIT",
           "marker": {
            "color": "Black",
            "symbol": "circle"
           },
           "mode": "markers",
           "name": "PIT",
           "orientation": "v",
           "showlegend": true,
           "type": "scatter",
           "x": [
            29.61,
            34.73,
            33.75,
            34.59,
            34.93,
            31.19,
            35.4,
            32.1,
            33.01,
            36.6,
            38.5
           ],
           "xaxis": "x",
           "y": [
            30.8,
            28.67,
            25.05,
            25.2,
            39,
            21.16,
            27.52,
            18.66,
            27.23,
            28.22,
            41.83
           ],
           "yaxis": "y"
          },
          {
           "hovertemplate": "club=football<br>frameId=100<br>x=%{x}<br>y=%{y}<extra></extra>",
           "legendgroup": "football",
           "marker": {
            "color": "Grey",
            "symbol": "circle"
           },
           "mode": "markers",
           "name": "football",
           "orientation": "v",
           "showlegend": true,
           "type": "scatter",
           "x": [
            29.8999996185303
           ],
           "xaxis": "x",
           "y": [
            31.25
           ],
           "yaxis": "y"
          }
         ],
         "name": "100"
        },
        {
         "data": [
          {
           "hovertemplate": "club=CIN<br>frameId=101<br>x=%{x}<br>y=%{y}<extra></extra>",
           "legendgroup": "CIN",
           "marker": {
            "color": "Red",
            "symbol": "circle"
           },
           "mode": "markers",
           "name": "CIN",
           "orientation": "v",
           "showlegend": true,
           "type": "scatter",
           "x": [
            37.22,
            42.69,
            36.14,
            37.84,
            43.27,
            33.41,
            46.98,
            34.66,
            35.13,
            38.91,
            37.49
           ],
           "xaxis": "x",
           "y": [
            14.29,
            19.96,
            27.3,
            39.54,
            43.73,
            31.6,
            35.1,
            24.48,
            22.87,
            25.81,
            31.16
           ],
           "yaxis": "y"
          },
          {
           "hovertemplate": "club=PIT<br>frameId=101<br>x=%{x}<br>y=%{y}<extra></extra>",
           "legendgroup": "PIT",
           "marker": {
            "color": "Black",
            "symbol": "circle"
           },
           "mode": "markers",
           "name": "PIT",
           "orientation": "v",
           "showlegend": true,
           "type": "scatter",
           "x": [
            29.69,
            35.01,
            33.81,
            34.68,
            35.23,
            31.35,
            35.54,
            32.48,
            33.17,
            36.9,
            39.08
           ],
           "xaxis": "x",
           "y": [
            31.3,
            28.94,
            25.11,
            25.24,
            39.27,
            20.44,
            27.56,
            18.09,
            27.66,
            28.23,
            41.62
           ],
           "yaxis": "y"
          },
          {
           "hovertemplate": "club=football<br>frameId=101<br>x=%{x}<br>y=%{y}<extra></extra>",
           "legendgroup": "football",
           "marker": {
            "color": "Grey",
            "symbol": "circle"
           },
           "mode": "markers",
           "name": "football",
           "orientation": "v",
           "showlegend": true,
           "type": "scatter",
           "x": [
            30.2099990844727
           ],
           "xaxis": "x",
           "y": [
            31.4599990844727
           ],
           "yaxis": "y"
          }
         ],
         "name": "101"
        },
        {
         "data": [
          {
           "hovertemplate": "club=CIN<br>frameId=102<br>x=%{x}<br>y=%{y}<extra></extra>",
           "legendgroup": "CIN",
           "marker": {
            "color": "Red",
            "symbol": "circle"
           },
           "mode": "markers",
           "name": "CIN",
           "orientation": "v",
           "showlegend": true,
           "type": "scatter",
           "x": [
            37.27,
            42.66,
            36.29,
            37.92,
            43.43,
            33.21,
            47.07,
            34.74,
            35.22,
            39.04,
            37.26
           ],
           "xaxis": "x",
           "y": [
            14.02,
            19.77,
            27.39,
            39.88,
            43.69,
            31.87,
            35.28,
            24.51,
            22.76,
            25.99,
            31.39
           ],
           "yaxis": "y"
          },
          {
           "hovertemplate": "club=PIT<br>frameId=102<br>x=%{x}<br>y=%{y}<extra></extra>",
           "legendgroup": "PIT",
           "marker": {
            "color": "Black",
            "symbol": "circle"
           },
           "mode": "markers",
           "name": "PIT",
           "orientation": "v",
           "showlegend": true,
           "type": "scatter",
           "x": [
            29.8,
            35.27,
            33.88,
            34.79,
            35.51,
            31.53,
            35.69,
            32.89,
            33.35,
            37.23,
            39.69
           ],
           "xaxis": "x",
           "y": [
            31.81,
            29.21,
            25.16,
            25.27,
            39.6,
            19.72,
            27.6,
            17.54,
            28.07,
            28.28,
            41.42
           ],
           "yaxis": "y"
          },
          {
           "hovertemplate": "club=football<br>frameId=102<br>x=%{x}<br>y=%{y}<extra></extra>",
           "legendgroup": "football",
           "marker": {
            "color": "Grey",
            "symbol": "circle"
           },
           "mode": "markers",
           "name": "football",
           "orientation": "v",
           "showlegend": true,
           "type": "scatter",
           "x": [
            30.6200008392334
           ],
           "xaxis": "x",
           "y": [
            31.5599994659424
           ],
           "yaxis": "y"
          }
         ],
         "name": "102"
        },
        {
         "data": [
          {
           "hovertemplate": "club=CIN<br>frameId=103<br>x=%{x}<br>y=%{y}<extra></extra>",
           "legendgroup": "CIN",
           "marker": {
            "color": "Red",
            "symbol": "circle"
           },
           "mode": "markers",
           "name": "CIN",
           "orientation": "v",
           "showlegend": true,
           "type": "scatter",
           "x": [
            37.36,
            42.68,
            36.46,
            37.99,
            43.61,
            33.02,
            47.15,
            34.84,
            35.33,
            39.19,
            37.02
           ],
           "xaxis": "x",
           "y": [
            13.76,
            19.59,
            27.5,
            40.27,
            43.67,
            32.16,
            35.48,
            24.54,
            22.62,
            26.23,
            31.59
           ],
           "yaxis": "y"
          },
          {
           "hovertemplate": "club=PIT<br>frameId=103<br>x=%{x}<br>y=%{y}<extra></extra>",
           "legendgroup": "PIT",
           "marker": {
            "color": "Black",
            "symbol": "circle"
           },
           "mode": "markers",
           "name": "PIT",
           "orientation": "v",
           "showlegend": true,
           "type": "scatter",
           "x": [
            29.92,
            35.52,
            33.97,
            34.9,
            35.75,
            31.74,
            35.86,
            33.33,
            33.56,
            37.57,
            40.32
           ],
           "xaxis": "x",
           "y": [
            32.31,
            29.5,
            25.22,
            25.32,
            39.99,
            19.02,
            27.66,
            17,
            28.48,
            28.34,
            41.25
           ],
           "yaxis": "y"
          },
          {
           "hovertemplate": "club=football<br>frameId=103<br>x=%{x}<br>y=%{y}<extra></extra>",
           "legendgroup": "football",
           "marker": {
            "color": "Grey",
            "symbol": "circle"
           },
           "mode": "markers",
           "name": "football",
           "orientation": "v",
           "showlegend": true,
           "type": "scatter",
           "x": [
            31.0799999237061
           ],
           "xaxis": "x",
           "y": [
            31.5799999237061
           ],
           "yaxis": "y"
          }
         ],
         "name": "103"
        },
        {
         "data": [
          {
           "hovertemplate": "club=CIN<br>frameId=104<br>x=%{x}<br>y=%{y}<extra></extra>",
           "legendgroup": "CIN",
           "marker": {
            "color": "Red",
            "symbol": "circle"
           },
           "mode": "markers",
           "name": "CIN",
           "orientation": "v",
           "showlegend": true,
           "type": "scatter",
           "x": [
            37.48,
            42.74,
            36.64,
            38.08,
            43.83,
            32.84,
            47.21,
            34.95,
            35.44,
            39.37,
            36.76
           ],
           "xaxis": "x",
           "y": [
            13.5,
            19.43,
            27.63,
            40.69,
            43.67,
            32.45,
            35.66,
            24.58,
            22.46,
            26.51,
            31.73
           ],
           "yaxis": "y"
          },
          {
           "hovertemplate": "club=PIT<br>frameId=104<br>x=%{x}<br>y=%{y}<extra></extra>",
           "legendgroup": "PIT",
           "marker": {
            "color": "Black",
            "symbol": "circle"
           },
           "mode": "markers",
           "name": "PIT",
           "orientation": "v",
           "showlegend": true,
           "type": "scatter",
           "x": [
            30.05,
            35.75,
            34.08,
            35.02,
            35.96,
            31.95,
            36.04,
            33.81,
            33.78,
            37.92,
            40.97
           ],
           "xaxis": "x",
           "y": [
            32.81,
            29.79,
            25.28,
            25.36,
            40.41,
            18.34,
            27.75,
            16.47,
            28.88,
            28.43,
            41.11
           ],
           "yaxis": "y"
          },
          {
           "hovertemplate": "club=football<br>frameId=104<br>x=%{x}<br>y=%{y}<extra></extra>",
           "legendgroup": "football",
           "marker": {
            "color": "Grey",
            "symbol": "circle"
           },
           "mode": "markers",
           "name": "football",
           "orientation": "v",
           "showlegend": true,
           "type": "scatter",
           "x": [
            31.6000003814697
           ],
           "xaxis": "x",
           "y": [
            31.5200004577637
           ],
           "yaxis": "y"
          }
         ],
         "name": "104"
        },
        {
         "data": [
          {
           "hovertemplate": "club=CIN<br>frameId=105<br>x=%{x}<br>y=%{y}<extra></extra>",
           "legendgroup": "CIN",
           "marker": {
            "color": "Red",
            "symbol": "circle"
           },
           "mode": "markers",
           "name": "CIN",
           "orientation": "v",
           "showlegend": true,
           "type": "scatter",
           "x": [
            37.63,
            42.85,
            36.82,
            38.15,
            44.08,
            32.68,
            47.24,
            35.09,
            35.56,
            39.56,
            36.51
           ],
           "xaxis": "x",
           "y": [
            13.26,
            19.31,
            27.77,
            41.13,
            43.68,
            32.75,
            35.83,
            24.63,
            22.3,
            26.82,
            31.83
           ],
           "yaxis": "y"
          },
          {
           "hovertemplate": "club=PIT<br>frameId=105<br>x=%{x}<br>y=%{y}<extra></extra>",
           "legendgroup": "PIT",
           "marker": {
            "color": "Black",
            "symbol": "circle"
           },
           "mode": "markers",
           "name": "PIT",
           "orientation": "v",
           "showlegend": true,
           "type": "scatter",
           "x": [
            30.19,
            35.96,
            34.22,
            35.15,
            36.13,
            32.18,
            36.24,
            34.31,
            34.02,
            38.27,
            41.64
           ],
           "xaxis": "x",
           "y": [
            33.31,
            30.08,
            25.33,
            25.42,
            40.88,
            17.67,
            27.84,
            15.97,
            29.27,
            28.53,
            41
           ],
           "yaxis": "y"
          },
          {
           "hovertemplate": "club=football<br>frameId=105<br>x=%{x}<br>y=%{y}<extra></extra>",
           "legendgroup": "football",
           "marker": {
            "color": "Grey",
            "symbol": "circle"
           },
           "mode": "markers",
           "name": "football",
           "orientation": "v",
           "showlegend": true,
           "type": "scatter",
           "x": [
            32.1500015258789
           ],
           "xaxis": "x",
           "y": [
            31.4200000762939
           ],
           "yaxis": "y"
          }
         ],
         "name": "105"
        },
        {
         "data": [
          {
           "hovertemplate": "club=CIN<br>frameId=106<br>x=%{x}<br>y=%{y}<extra></extra>",
           "legendgroup": "CIN",
           "marker": {
            "color": "Red",
            "symbol": "circle"
           },
           "mode": "markers",
           "name": "CIN",
           "orientation": "v",
           "showlegend": true,
           "type": "scatter",
           "x": [
            37.82,
            43.01,
            37.02,
            38.23,
            44.33,
            32.55,
            47.23,
            35.25,
            35.7,
            39.77,
            36.26
           ],
           "xaxis": "x",
           "y": [
            13.02,
            19.23,
            27.93,
            41.6,
            43.71,
            33.04,
            35.97,
            24.69,
            22.11,
            27.16,
            31.88
           ],
           "yaxis": "y"
          },
          {
           "hovertemplate": "club=PIT<br>frameId=106<br>x=%{x}<br>y=%{y}<extra></extra>",
           "legendgroup": "PIT",
           "marker": {
            "color": "Black",
            "symbol": "circle"
           },
           "mode": "markers",
           "name": "PIT",
           "orientation": "v",
           "showlegend": true,
           "type": "scatter",
           "x": [
            30.34,
            36.11,
            34.37,
            35.3,
            36.26,
            32.41,
            36.46,
            34.85,
            34.28,
            38.63,
            42.32
           ],
           "xaxis": "x",
           "y": [
            33.79,
            30.38,
            25.37,
            25.49,
            41.38,
            17.04,
            27.94,
            15.49,
            29.63,
            28.65,
            40.91
           ],
           "yaxis": "y"
          },
          {
           "hovertemplate": "club=football<br>frameId=106<br>x=%{x}<br>y=%{y}<extra></extra>",
           "legendgroup": "football",
           "marker": {
            "color": "Grey",
            "symbol": "circle"
           },
           "mode": "markers",
           "name": "football",
           "orientation": "v",
           "showlegend": true,
           "type": "scatter",
           "x": [
            32.7099990844727
           ],
           "xaxis": "x",
           "y": [
            31.2800006866455
           ],
           "yaxis": "y"
          }
         ],
         "name": "106"
        },
        {
         "data": [
          {
           "hovertemplate": "club=CIN<br>frameId=107<br>x=%{x}<br>y=%{y}<extra></extra>",
           "legendgroup": "CIN",
           "marker": {
            "color": "Red",
            "symbol": "circle"
           },
           "mode": "markers",
           "name": "CIN",
           "orientation": "v",
           "showlegend": true,
           "type": "scatter",
           "x": [
            38.04,
            43.19,
            37.22,
            38.3,
            44.6,
            32.46,
            47.18,
            35.42,
            35.84,
            40,
            36.06
           ],
           "xaxis": "x",
           "y": [
            12.79,
            19.19,
            28.11,
            42.08,
            43.74,
            33.32,
            36.07,
            24.75,
            21.9,
            27.53,
            31.86
           ],
           "yaxis": "y"
          },
          {
           "hovertemplate": "club=PIT<br>frameId=107<br>x=%{x}<br>y=%{y}<extra></extra>",
           "legendgroup": "PIT",
           "marker": {
            "color": "Black",
            "symbol": "circle"
           },
           "mode": "markers",
           "name": "PIT",
           "orientation": "v",
           "showlegend": true,
           "type": "scatter",
           "x": [
            30.49,
            36.22,
            34.54,
            35.44,
            36.35,
            32.65,
            36.71,
            35.41,
            34.55,
            38.98,
            43.03
           ],
           "xaxis": "x",
           "y": [
            34.27,
            30.67,
            25.4,
            25.55,
            41.91,
            16.43,
            28.07,
            15.05,
            29.94,
            28.78,
            40.87
           ],
           "yaxis": "y"
          },
          {
           "hovertemplate": "club=football<br>frameId=107<br>x=%{x}<br>y=%{y}<extra></extra>",
           "legendgroup": "football",
           "marker": {
            "color": "Grey",
            "symbol": "circle"
           },
           "mode": "markers",
           "name": "football",
           "orientation": "v",
           "showlegend": true,
           "type": "scatter",
           "x": [
            33.2799987792969
           ],
           "xaxis": "x",
           "y": [
            31.1100006103516
           ],
           "yaxis": "y"
          }
         ],
         "name": "107"
        },
        {
         "data": [
          {
           "hovertemplate": "club=CIN<br>frameId=108<br>x=%{x}<br>y=%{y}<extra></extra>",
           "legendgroup": "CIN",
           "marker": {
            "color": "Red",
            "symbol": "circle"
           },
           "mode": "markers",
           "name": "CIN",
           "orientation": "v",
           "showlegend": true,
           "type": "scatter",
           "x": [
            38.29,
            43.4,
            37.41,
            38.35,
            44.87,
            32.41,
            47.08,
            35.61,
            35.98,
            40.23,
            35.87
           ],
           "xaxis": "x",
           "y": [
            12.58,
            19.2,
            28.32,
            42.57,
            43.78,
            33.58,
            36.11,
            24.81,
            21.67,
            27.9,
            31.81
           ],
           "yaxis": "y"
          },
          {
           "hovertemplate": "club=PIT<br>frameId=108<br>x=%{x}<br>y=%{y}<extra></extra>",
           "legendgroup": "PIT",
           "marker": {
            "color": "Black",
            "symbol": "circle"
           },
           "mode": "markers",
           "name": "PIT",
           "orientation": "v",
           "showlegend": true,
           "type": "scatter",
           "x": [
            30.64,
            36.28,
            34.75,
            35.59,
            36.42,
            32.88,
            36.94,
            35.99,
            34.83,
            39.32,
            43.75
           ],
           "xaxis": "x",
           "y": [
            34.74,
            30.96,
            25.43,
            25.63,
            42.45,
            15.86,
            28.2,
            14.63,
            30.2,
            28.95,
            40.86
           ],
           "yaxis": "y"
          },
          {
           "hovertemplate": "club=football<br>frameId=108<br>x=%{x}<br>y=%{y}<extra></extra>",
           "legendgroup": "football",
           "marker": {
            "color": "Grey",
            "symbol": "circle"
           },
           "mode": "markers",
           "name": "football",
           "orientation": "v",
           "showlegend": true,
           "type": "scatter",
           "x": [
            33.7900009155273
           ],
           "xaxis": "x",
           "y": [
            30.9899997711182
           ],
           "yaxis": "y"
          }
         ],
         "name": "108"
        },
        {
         "data": [
          {
           "hovertemplate": "club=CIN<br>frameId=109<br>x=%{x}<br>y=%{y}<extra></extra>",
           "legendgroup": "CIN",
           "marker": {
            "color": "Red",
            "symbol": "circle"
           },
           "mode": "markers",
           "name": "CIN",
           "orientation": "v",
           "showlegend": true,
           "type": "scatter",
           "x": [
            38.57,
            43.61,
            37.59,
            38.39,
            45.15,
            32.4,
            46.95,
            35.81,
            36.12,
            40.49,
            35.74
           ],
           "xaxis": "x",
           "y": [
            12.38,
            19.26,
            28.54,
            43.06,
            43.82,
            33.82,
            36.11,
            24.88,
            21.43,
            28.29,
            31.73
           ],
           "yaxis": "y"
          },
          {
           "hovertemplate": "club=PIT<br>frameId=109<br>x=%{x}<br>y=%{y}<extra></extra>",
           "legendgroup": "PIT",
           "marker": {
            "color": "Black",
            "symbol": "circle"
           },
           "mode": "markers",
           "name": "PIT",
           "orientation": "v",
           "showlegend": true,
           "type": "scatter",
           "x": [
            30.8,
            36.29,
            34.99,
            35.76,
            36.46,
            33.12,
            37.18,
            36.59,
            35.12,
            39.67,
            44.48
           ],
           "xaxis": "x",
           "y": [
            35.19,
            31.23,
            25.45,
            25.71,
            42.98,
            15.33,
            28.36,
            14.25,
            30.43,
            29.14,
            40.89
           ],
           "yaxis": "y"
          },
          {
           "hovertemplate": "club=football<br>frameId=109<br>x=%{x}<br>y=%{y}<extra></extra>",
           "legendgroup": "football",
           "marker": {
            "color": "Grey",
            "symbol": "circle"
           },
           "mode": "markers",
           "name": "football",
           "orientation": "v",
           "showlegend": true,
           "type": "scatter",
           "x": [
            34.3400001525879
           ],
           "xaxis": "x",
           "y": [
            30.8299999237061
           ],
           "yaxis": "y"
          }
         ],
         "name": "109"
        },
        {
         "data": [
          {
           "hovertemplate": "club=CIN<br>frameId=110<br>x=%{x}<br>y=%{y}<extra></extra>",
           "legendgroup": "CIN",
           "marker": {
            "color": "Red",
            "symbol": "circle"
           },
           "mode": "markers",
           "name": "CIN",
           "orientation": "v",
           "showlegend": true,
           "type": "scatter",
           "x": [
            38.88,
            43.82,
            37.75,
            38.42,
            45.41,
            32.44,
            46.76,
            36.04,
            36.25,
            40.76,
            35.67
           ],
           "xaxis": "x",
           "y": [
            12.18,
            19.38,
            28.78,
            43.54,
            43.86,
            34.03,
            36.05,
            24.95,
            21.16,
            28.68,
            31.6
           ],
           "yaxis": "y"
          },
          {
           "hovertemplate": "club=PIT<br>frameId=110<br>x=%{x}<br>y=%{y}<extra></extra>",
           "legendgroup": "PIT",
           "marker": {
            "color": "Black",
            "symbol": "circle"
           },
           "mode": "markers",
           "name": "PIT",
           "orientation": "v",
           "showlegend": true,
           "type": "scatter",
           "x": [
            30.95,
            36.27,
            35.23,
            35.94,
            36.48,
            33.35,
            37.42,
            37.2,
            35.44,
            40.01,
            45.21
           ],
           "xaxis": "x",
           "y": [
            35.64,
            31.48,
            25.46,
            25.79,
            43.5,
            14.83,
            28.52,
            13.9,
            30.59,
            29.34,
            40.95
           ],
           "yaxis": "y"
          },
          {
           "hovertemplate": "club=football<br>frameId=110<br>x=%{x}<br>y=%{y}<extra></extra>",
           "legendgroup": "football",
           "marker": {
            "color": "Grey",
            "symbol": "circle"
           },
           "mode": "markers",
           "name": "football",
           "orientation": "v",
           "showlegend": true,
           "type": "scatter",
           "x": [
            34.8899993896484
           ],
           "xaxis": "x",
           "y": [
            30.6900005340576
           ],
           "yaxis": "y"
          }
         ],
         "name": "110"
        },
        {
         "data": [
          {
           "hovertemplate": "club=CIN<br>frameId=111<br>x=%{x}<br>y=%{y}<extra></extra>",
           "legendgroup": "CIN",
           "marker": {
            "color": "Red",
            "symbol": "circle"
           },
           "mode": "markers",
           "name": "CIN",
           "orientation": "v",
           "showlegend": true,
           "type": "scatter",
           "x": [
            39.19,
            44.02,
            37.89,
            38.43,
            45.67,
            32.53,
            46.55,
            36.29,
            36.39,
            41.05,
            35.63
           ],
           "xaxis": "x",
           "y": [
            12,
            19.56,
            29.04,
            44.01,
            43.87,
            34.22,
            35.95,
            25.04,
            20.88,
            29.07,
            31.44
           ],
           "yaxis": "y"
          },
          {
           "hovertemplate": "club=PIT<br>frameId=111<br>x=%{x}<br>y=%{y}<extra></extra>",
           "legendgroup": "PIT",
           "marker": {
            "color": "Black",
            "symbol": "circle"
           },
           "mode": "markers",
           "name": "PIT",
           "orientation": "v",
           "showlegend": true,
           "type": "scatter",
           "x": [
            31.11,
            36.22,
            35.51,
            36.12,
            36.49,
            33.57,
            37.66,
            37.82,
            35.75,
            40.33,
            45.94
           ],
           "xaxis": "x",
           "y": [
            36.09,
            31.71,
            25.46,
            25.87,
            44,
            14.38,
            28.7,
            13.59,
            30.7,
            29.54,
            41.05
           ],
           "yaxis": "y"
          },
          {
           "hovertemplate": "club=football<br>frameId=111<br>x=%{x}<br>y=%{y}<extra></extra>",
           "legendgroup": "football",
           "marker": {
            "color": "Grey",
            "symbol": "circle"
           },
           "mode": "markers",
           "name": "football",
           "orientation": "v",
           "showlegend": true,
           "type": "scatter",
           "x": [
            35.4199981689453
           ],
           "xaxis": "x",
           "y": [
            30.5100002288818
           ],
           "yaxis": "y"
          }
         ],
         "name": "111"
        },
        {
         "data": [
          {
           "hovertemplate": "club=CIN<br>frameId=112<br>x=%{x}<br>y=%{y}<extra></extra>",
           "legendgroup": "CIN",
           "marker": {
            "color": "Red",
            "symbol": "circle"
           },
           "mode": "markers",
           "name": "CIN",
           "orientation": "v",
           "showlegend": true,
           "type": "scatter",
           "x": [
            39.52,
            44.19,
            38.01,
            38.43,
            45.92,
            32.65,
            46.29,
            36.56,
            36.53,
            41.36,
            35.66
           ],
           "xaxis": "x",
           "y": [
            11.83,
            19.79,
            29.32,
            44.46,
            43.85,
            34.37,
            35.8,
            25.14,
            20.63,
            29.45,
            31.26
           ],
           "yaxis": "y"
          },
          {
           "hovertemplate": "club=PIT<br>frameId=112<br>x=%{x}<br>y=%{y}<extra></extra>",
           "legendgroup": "PIT",
           "marker": {
            "color": "Black",
            "symbol": "circle"
           },
           "mode": "markers",
           "name": "PIT",
           "orientation": "v",
           "showlegend": true,
           "type": "scatter",
           "x": [
            31.26,
            36.15,
            35.8,
            36.33,
            36.49,
            33.78,
            37.9,
            38.43,
            36.08,
            40.64,
            46.66
           ],
           "xaxis": "x",
           "y": [
            36.52,
            31.91,
            25.45,
            25.94,
            44.48,
            13.97,
            28.88,
            13.3,
            30.76,
            29.74,
            41.17
           ],
           "yaxis": "y"
          },
          {
           "hovertemplate": "club=football<br>frameId=112<br>x=%{x}<br>y=%{y}<extra></extra>",
           "legendgroup": "football",
           "marker": {
            "color": "Grey",
            "symbol": "circle"
           },
           "mode": "markers",
           "name": "football",
           "orientation": "v",
           "showlegend": true,
           "type": "scatter",
           "x": [
            35.9300003051758
           ],
           "xaxis": "x",
           "y": [
            30.3600006103516
           ],
           "yaxis": "y"
          }
         ],
         "name": "112"
        },
        {
         "data": [
          {
           "hovertemplate": "club=CIN<br>frameId=113<br>x=%{x}<br>y=%{y}<extra></extra>",
           "legendgroup": "CIN",
           "marker": {
            "color": "Red",
            "symbol": "circle"
           },
           "mode": "markers",
           "name": "CIN",
           "orientation": "v",
           "showlegend": true,
           "type": "scatter",
           "x": [
            39.84,
            44.34,
            38.09,
            38.42,
            46.12,
            32.82,
            45.99,
            36.86,
            36.67,
            41.68,
            35.73
           ],
           "xaxis": "x",
           "y": [
            11.66,
            20.07,
            29.6,
            44.87,
            43.8,
            34.5,
            35.62,
            25.26,
            20.41,
            29.82,
            31.07
           ],
           "yaxis": "y"
          },
          {
           "hovertemplate": "club=PIT<br>frameId=113<br>x=%{x}<br>y=%{y}<extra></extra>",
           "legendgroup": "PIT",
           "marker": {
            "color": "Black",
            "symbol": "circle"
           },
           "mode": "markers",
           "name": "PIT",
           "orientation": "v",
           "showlegend": true,
           "type": "scatter",
           "x": [
            31.41,
            36.08,
            36.09,
            36.55,
            36.49,
            33.97,
            38.12,
            39.04,
            36.42,
            40.95,
            47.36
           ],
           "xaxis": "x",
           "y": [
            36.93,
            32.08,
            25.44,
            26,
            44.93,
            13.59,
            29.08,
            13.04,
            30.78,
            29.95,
            41.33
           ],
           "yaxis": "y"
          },
          {
           "hovertemplate": "club=football<br>frameId=113<br>x=%{x}<br>y=%{y}<extra></extra>",
           "legendgroup": "football",
           "marker": {
            "color": "Grey",
            "symbol": "circle"
           },
           "mode": "markers",
           "name": "football",
           "orientation": "v",
           "showlegend": true,
           "type": "scatter",
           "x": [
            36.4000015258789
           ],
           "xaxis": "x",
           "y": [
            30.2299995422363
           ],
           "yaxis": "y"
          }
         ],
         "name": "113"
        },
        {
         "data": [
          {
           "hovertemplate": "club=CIN<br>frameId=114<br>x=%{x}<br>y=%{y}<extra></extra>",
           "legendgroup": "CIN",
           "marker": {
            "color": "Red",
            "symbol": "circle"
           },
           "mode": "markers",
           "name": "CIN",
           "orientation": "v",
           "showlegend": true,
           "type": "scatter",
           "x": [
            40.13,
            44.44,
            38.14,
            38.39,
            46.29,
            33.05,
            45.66,
            37.17,
            36.81,
            42.01,
            35.84
           ],
           "xaxis": "x",
           "y": [
            11.5,
            20.4,
            29.9,
            45.25,
            43.72,
            34.59,
            35.42,
            25.39,
            20.21,
            30.19,
            30.88
           ],
           "yaxis": "y"
          },
          {
           "hovertemplate": "club=PIT<br>frameId=114<br>x=%{x}<br>y=%{y}<extra></extra>",
           "legendgroup": "PIT",
           "marker": {
            "color": "Black",
            "symbol": "circle"
           },
           "mode": "markers",
           "name": "PIT",
           "orientation": "v",
           "showlegend": true,
           "type": "scatter",
           "x": [
            31.57,
            36.01,
            36.38,
            36.79,
            36.48,
            34.14,
            38.33,
            39.63,
            36.75,
            41.23,
            48.04
           ],
           "xaxis": "x",
           "y": [
            37.33,
            32.22,
            25.43,
            26.05,
            45.35,
            13.25,
            29.29,
            12.82,
            30.77,
            30.17,
            41.52
           ],
           "yaxis": "y"
          },
          {
           "hovertemplate": "club=football<br>frameId=114<br>x=%{x}<br>y=%{y}<extra></extra>",
           "legendgroup": "football",
           "marker": {
            "color": "Grey",
            "symbol": "circle"
           },
           "mode": "markers",
           "name": "football",
           "orientation": "v",
           "showlegend": true,
           "type": "scatter",
           "x": [
            36.810001373291
           ],
           "xaxis": "x",
           "y": [
            30.1399993896484
           ],
           "yaxis": "y"
          }
         ],
         "name": "114"
        },
        {
         "data": [
          {
           "hovertemplate": "club=CIN<br>frameId=115<br>x=%{x}<br>y=%{y}<extra></extra>",
           "legendgroup": "CIN",
           "marker": {
            "color": "Red",
            "symbol": "circle"
           },
           "mode": "markers",
           "name": "CIN",
           "orientation": "v",
           "showlegend": true,
           "type": "scatter",
           "x": [
            40.36,
            44.51,
            38.18,
            38.35,
            46.43,
            33.29,
            45.3,
            37.52,
            36.96,
            42.35,
            35.98
           ],
           "xaxis": "x",
           "y": [
            11.35,
            20.76,
            30.18,
            45.6,
            43.61,
            34.65,
            35.21,
            25.54,
            20.06,
            30.54,
            30.68
           ],
           "yaxis": "y"
          },
          {
           "hovertemplate": "club=PIT<br>frameId=115<br>x=%{x}<br>y=%{y}<extra></extra>",
           "legendgroup": "PIT",
           "marker": {
            "color": "Black",
            "symbol": "circle"
           },
           "mode": "markers",
           "name": "PIT",
           "orientation": "v",
           "showlegend": true,
           "type": "scatter",
           "x": [
            31.72,
            35.94,
            36.69,
            37.05,
            36.5,
            34.29,
            38.53,
            40.18,
            37.07,
            41.51,
            48.7
           ],
           "xaxis": "x",
           "y": [
            37.7,
            32.34,
            25.42,
            26.1,
            45.73,
            12.95,
            29.5,
            12.62,
            30.74,
            30.39,
            41.74
           ],
           "yaxis": "y"
          },
          {
           "hovertemplate": "club=football<br>frameId=115<br>x=%{x}<br>y=%{y}<extra></extra>",
           "legendgroup": "football",
           "marker": {
            "color": "Grey",
            "symbol": "circle"
           },
           "mode": "markers",
           "name": "football",
           "orientation": "v",
           "showlegend": true,
           "type": "scatter",
           "x": [
            37.1800003051758
           ],
           "xaxis": "x",
           "y": [
            30.0799999237061
           ],
           "yaxis": "y"
          }
         ],
         "name": "115"
        },
        {
         "data": [
          {
           "hovertemplate": "club=CIN<br>frameId=116<br>x=%{x}<br>y=%{y}<extra></extra>",
           "legendgroup": "CIN",
           "marker": {
            "color": "Red",
            "symbol": "circle"
           },
           "mode": "markers",
           "name": "CIN",
           "orientation": "v",
           "showlegend": true,
           "type": "scatter",
           "x": [
            40.57,
            44.55,
            38.19,
            38.31,
            46.53,
            33.54,
            44.93,
            37.88,
            37.1,
            42.68,
            36.15
           ],
           "xaxis": "x",
           "y": [
            11.21,
            21.15,
            30.44,
            45.89,
            43.47,
            34.68,
            34.98,
            25.71,
            19.96,
            30.87,
            30.49
           ],
           "yaxis": "y"
          },
          {
           "hovertemplate": "club=PIT<br>frameId=116<br>x=%{x}<br>y=%{y}<extra></extra>",
           "legendgroup": "PIT",
           "marker": {
            "color": "Black",
            "symbol": "circle"
           },
           "mode": "markers",
           "name": "PIT",
           "orientation": "v",
           "showlegend": true,
           "type": "scatter",
           "x": [
            31.89,
            35.88,
            37.02,
            37.32,
            36.53,
            34.42,
            38.7,
            40.69,
            37.39,
            41.78,
            49.33
           ],
           "xaxis": "x",
           "y": [
            38.05,
            32.45,
            25.41,
            26.12,
            46.05,
            12.68,
            29.71,
            12.45,
            30.68,
            30.6,
            41.98
           ],
           "yaxis": "y"
          },
          {
           "hovertemplate": "club=football<br>frameId=116<br>x=%{x}<br>y=%{y}<extra></extra>",
           "legendgroup": "football",
           "marker": {
            "color": "Grey",
            "symbol": "circle"
           },
           "mode": "markers",
           "name": "football",
           "orientation": "v",
           "showlegend": true,
           "type": "scatter",
           "x": [
            37.4799995422363
           ],
           "xaxis": "x",
           "y": [
            30.0499992370605
           ],
           "yaxis": "y"
          }
         ],
         "name": "116"
        },
        {
         "data": [
          {
           "hovertemplate": "club=CIN<br>frameId=117<br>x=%{x}<br>y=%{y}<extra></extra>",
           "legendgroup": "CIN",
           "marker": {
            "color": "Red",
            "symbol": "circle"
           },
           "mode": "markers",
           "name": "CIN",
           "orientation": "v",
           "showlegend": true,
           "type": "scatter",
           "x": [
            40.73,
            44.55,
            38.2,
            38.27,
            46.59,
            33.8,
            44.54,
            38.23,
            37.24,
            43.01,
            36.32
           ],
           "xaxis": "x",
           "y": [
            11.08,
            21.55,
            30.68,
            46.15,
            43.31,
            34.7,
            34.75,
            25.88,
            19.91,
            31.18,
            30.3
           ],
           "yaxis": "y"
          },
          {
           "hovertemplate": "club=PIT<br>frameId=117<br>x=%{x}<br>y=%{y}<extra></extra>",
           "legendgroup": "PIT",
           "marker": {
            "color": "Black",
            "symbol": "circle"
           },
           "mode": "markers",
           "name": "PIT",
           "orientation": "v",
           "showlegend": true,
           "type": "scatter",
           "x": [
            32.05,
            35.83,
            37.35,
            37.59,
            36.58,
            34.52,
            38.85,
            41.15,
            37.67,
            42.03,
            49.92
           ],
           "xaxis": "x",
           "y": [
            38.35,
            32.54,
            25.4,
            26.15,
            46.32,
            12.45,
            29.91,
            12.31,
            30.64,
            30.81,
            42.23
           ],
           "yaxis": "y"
          },
          {
           "hovertemplate": "club=football<br>frameId=117<br>x=%{x}<br>y=%{y}<extra></extra>",
           "legendgroup": "football",
           "marker": {
            "color": "Grey",
            "symbol": "circle"
           },
           "mode": "markers",
           "name": "football",
           "orientation": "v",
           "showlegend": true,
           "type": "scatter",
           "x": [
            37.7599983215332
           ],
           "xaxis": "x",
           "y": [
            30.0499992370605
           ],
           "yaxis": "y"
          }
         ],
         "name": "117"
        },
        {
         "data": [
          {
           "hovertemplate": "club=CIN<br>frameId=118<br>x=%{x}<br>y=%{y}<extra></extra>",
           "legendgroup": "CIN",
           "marker": {
            "color": "Red",
            "symbol": "circle"
           },
           "mode": "markers",
           "name": "CIN",
           "orientation": "v",
           "showlegend": true,
           "type": "scatter",
           "x": [
            40.83,
            44.52,
            38.2,
            38.22,
            46.62,
            34.07,
            44.15,
            38.6,
            37.38,
            43.33,
            36.5
           ],
           "xaxis": "x",
           "y": [
            10.97,
            21.96,
            30.9,
            46.35,
            43.13,
            34.7,
            34.52,
            26.07,
            19.94,
            31.48,
            30.13
           ],
           "yaxis": "y"
          },
          {
           "hovertemplate": "club=PIT<br>frameId=118<br>x=%{x}<br>y=%{y}<extra></extra>",
           "legendgroup": "PIT",
           "marker": {
            "color": "Black",
            "symbol": "circle"
           },
           "mode": "markers",
           "name": "PIT",
           "orientation": "v",
           "showlegend": true,
           "type": "scatter",
           "x": [
            32.23,
            35.79,
            37.68,
            37.85,
            36.64,
            34.6,
            38.98,
            41.56,
            37.9,
            42.26,
            50.47
           ],
           "xaxis": "x",
           "y": [
            38.62,
            32.61,
            25.39,
            26.17,
            46.55,
            12.26,
            30.1,
            12.19,
            30.61,
            31.02,
            42.5
           ],
           "yaxis": "y"
          },
          {
           "hovertemplate": "club=football<br>frameId=118<br>x=%{x}<br>y=%{y}<extra></extra>",
           "legendgroup": "football",
           "marker": {
            "color": "Grey",
            "symbol": "circle"
           },
           "mode": "markers",
           "name": "football",
           "orientation": "v",
           "showlegend": true,
           "type": "scatter",
           "x": [
            37.9700012207031
           ],
           "xaxis": "x",
           "y": [
            30.0400009155273
           ],
           "yaxis": "y"
          }
         ],
         "name": "118"
        },
        {
         "data": [
          {
           "hovertemplate": "club=CIN<br>frameId=119<br>x=%{x}<br>y=%{y}<extra></extra>",
           "legendgroup": "CIN",
           "marker": {
            "color": "Red",
            "symbol": "circle"
           },
           "mode": "markers",
           "name": "CIN",
           "orientation": "v",
           "showlegend": true,
           "type": "scatter",
           "x": [
            40.87,
            44.46,
            38.19,
            38.18,
            46.62,
            34.32,
            43.77,
            38.96,
            37.51,
            43.63,
            36.67
           ],
           "xaxis": "x",
           "y": [
            10.9,
            22.38,
            31.09,
            46.52,
            42.95,
            34.69,
            34.29,
            26.28,
            20.03,
            31.76,
            29.97
           ],
           "yaxis": "y"
          },
          {
           "hovertemplate": "club=PIT<br>frameId=119<br>x=%{x}<br>y=%{y}<extra></extra>",
           "legendgroup": "PIT",
           "marker": {
            "color": "Black",
            "symbol": "circle"
           },
           "mode": "markers",
           "name": "PIT",
           "orientation": "v",
           "showlegend": true,
           "type": "scatter",
           "x": [
            32.41,
            35.75,
            38.01,
            38.14,
            36.71,
            34.66,
            39.1,
            41.9,
            38.11,
            42.48,
            50.99
           ],
           "xaxis": "x",
           "y": [
            38.83,
            32.67,
            25.39,
            26.19,
            46.74,
            12.09,
            30.28,
            12.09,
            30.57,
            31.21,
            42.77
           ],
           "yaxis": "y"
          },
          {
           "hovertemplate": "club=football<br>frameId=119<br>x=%{x}<br>y=%{y}<extra></extra>",
           "legendgroup": "football",
           "marker": {
            "color": "Grey",
            "symbol": "circle"
           },
           "mode": "markers",
           "name": "football",
           "orientation": "v",
           "showlegend": true,
           "type": "scatter",
           "x": [
            38.1399993896484
           ],
           "xaxis": "x",
           "y": [
            30.0499992370605
           ],
           "yaxis": "y"
          }
         ],
         "name": "119"
        },
        {
         "data": [
          {
           "hovertemplate": "club=CIN<br>frameId=120<br>x=%{x}<br>y=%{y}<extra></extra>",
           "legendgroup": "CIN",
           "marker": {
            "color": "Red",
            "symbol": "circle"
           },
           "mode": "markers",
           "name": "CIN",
           "orientation": "v",
           "showlegend": true,
           "type": "scatter",
           "x": [
            40.86,
            44.38,
            38.19,
            38.13,
            46.6,
            34.56,
            43.41,
            39.31,
            37.64,
            43.9,
            36.83
           ],
           "xaxis": "x",
           "y": [
            10.85,
            22.78,
            31.24,
            46.65,
            42.76,
            34.68,
            34.05,
            26.49,
            20.17,
            32.01,
            29.83
           ],
           "yaxis": "y"
          },
          {
           "hovertemplate": "club=PIT<br>frameId=120<br>x=%{x}<br>y=%{y}<extra></extra>",
           "legendgroup": "PIT",
           "marker": {
            "color": "Black",
            "symbol": "circle"
           },
           "mode": "markers",
           "name": "PIT",
           "orientation": "v",
           "showlegend": true,
           "type": "scatter",
           "x": [
            32.59,
            35.71,
            38.36,
            38.42,
            36.78,
            34.69,
            39.2,
            42.19,
            38.29,
            42.68,
            51.47
           ],
           "xaxis": "x",
           "y": [
            39,
            32.73,
            25.39,
            26.19,
            46.89,
            11.96,
            30.43,
            12.01,
            30.54,
            31.4,
            43.04
           ],
           "yaxis": "y"
          },
          {
           "hovertemplate": "club=football<br>frameId=120<br>x=%{x}<br>y=%{y}<extra></extra>",
           "legendgroup": "football",
           "marker": {
            "color": "Grey",
            "symbol": "circle"
           },
           "mode": "markers",
           "name": "football",
           "orientation": "v",
           "showlegend": true,
           "type": "scatter",
           "x": [
            38.2700004577637
           ],
           "xaxis": "x",
           "y": [
            30.0799999237061
           ],
           "yaxis": "y"
          }
         ],
         "name": "120"
        },
        {
         "data": [
          {
           "hovertemplate": "club=CIN<br>frameId=121<br>x=%{x}<br>y=%{y}<extra></extra>",
           "legendgroup": "CIN",
           "marker": {
            "color": "Red",
            "symbol": "circle"
           },
           "mode": "markers",
           "name": "CIN",
           "orientation": "v",
           "showlegend": true,
           "type": "scatter",
           "x": [
            40.82,
            44.28,
            38.19,
            38.09,
            46.57,
            34.78,
            43.05,
            39.65,
            37.76,
            44.15,
            36.95
           ],
           "xaxis": "x",
           "y": [
            10.83,
            23.17,
            31.36,
            46.74,
            42.57,
            34.65,
            33.81,
            26.7,
            20.36,
            32.25,
            29.7
           ],
           "yaxis": "y"
          },
          {
           "hovertemplate": "club=PIT<br>frameId=121<br>x=%{x}<br>y=%{y}<extra></extra>",
           "legendgroup": "PIT",
           "marker": {
            "color": "Black",
            "symbol": "circle"
           },
           "mode": "markers",
           "name": "PIT",
           "orientation": "v",
           "showlegend": true,
           "type": "scatter",
           "x": [
            32.77,
            35.67,
            38.69,
            38.69,
            36.84,
            34.71,
            39.28,
            42.42,
            38.43,
            42.86,
            51.9
           ],
           "xaxis": "x",
           "y": [
            39.12,
            32.79,
            25.4,
            26.2,
            47,
            11.86,
            30.57,
            11.95,
            30.52,
            31.6,
            43.31
           ],
           "yaxis": "y"
          },
          {
           "hovertemplate": "club=football<br>frameId=121<br>x=%{x}<br>y=%{y}<extra></extra>",
           "legendgroup": "football",
           "marker": {
            "color": "Grey",
            "symbol": "circle"
           },
           "mode": "markers",
           "name": "football",
           "orientation": "v",
           "showlegend": true,
           "type": "scatter",
           "x": [
            38.3600006103516
           ],
           "xaxis": "x",
           "y": [
            30.1100006103516
           ],
           "yaxis": "y"
          }
         ],
         "name": "121"
        },
        {
         "data": [
          {
           "hovertemplate": "club=CIN<br>frameId=122<br>x=%{x}<br>y=%{y}<extra></extra>",
           "legendgroup": "CIN",
           "marker": {
            "color": "Red",
            "symbol": "circle"
           },
           "mode": "markers",
           "name": "CIN",
           "orientation": "v",
           "showlegend": true,
           "type": "scatter",
           "x": [
            40.74,
            44.17,
            38.2,
            38.05,
            46.53,
            34.99,
            42.73,
            39.96,
            37.87,
            44.37,
            37.04
           ],
           "xaxis": "x",
           "y": [
            10.84,
            23.54,
            31.45,
            46.8,
            42.38,
            34.61,
            33.58,
            26.91,
            20.59,
            32.44,
            29.6
           ],
           "yaxis": "y"
          },
          {
           "hovertemplate": "club=PIT<br>frameId=122<br>x=%{x}<br>y=%{y}<extra></extra>",
           "legendgroup": "PIT",
           "marker": {
            "color": "Black",
            "symbol": "circle"
           },
           "mode": "markers",
           "name": "PIT",
           "orientation": "v",
           "showlegend": true,
           "type": "scatter",
           "x": [
            32.94,
            35.65,
            39.01,
            38.95,
            36.9,
            34.71,
            39.35,
            42.59,
            38.54,
            43.02,
            52.31
           ],
           "xaxis": "x",
           "y": [
            39.19,
            32.84,
            25.39,
            26.2,
            47.09,
            11.78,
            30.68,
            11.91,
            30.5,
            31.78,
            43.58
           ],
           "yaxis": "y"
          },
          {
           "hovertemplate": "club=football<br>frameId=122<br>x=%{x}<br>y=%{y}<extra></extra>",
           "legendgroup": "football",
           "marker": {
            "color": "Grey",
            "symbol": "circle"
           },
           "mode": "markers",
           "name": "football",
           "orientation": "v",
           "showlegend": true,
           "type": "scatter",
           "x": [
            38.4300003051758
           ],
           "xaxis": "x",
           "y": [
            30.1399993896484
           ],
           "yaxis": "y"
          }
         ],
         "name": "122"
        },
        {
         "data": [
          {
           "hovertemplate": "club=CIN<br>frameId=123<br>x=%{x}<br>y=%{y}<extra></extra>",
           "legendgroup": "CIN",
           "marker": {
            "color": "Red",
            "symbol": "circle"
           },
           "mode": "markers",
           "name": "CIN",
           "orientation": "v",
           "showlegend": true,
           "type": "scatter",
           "x": [
            40.64,
            44.06,
            38.21,
            38.02,
            46.48,
            35.18,
            42.43,
            40.25,
            37.96,
            44.56,
            37.11
           ],
           "xaxis": "x",
           "y": [
            10.88,
            23.89,
            31.51,
            46.84,
            42.2,
            34.57,
            33.33,
            27.11,
            20.86,
            32.62,
            29.51
           ],
           "yaxis": "y"
          },
          {
           "hovertemplate": "club=PIT<br>frameId=123<br>x=%{x}<br>y=%{y}<extra></extra>",
           "legendgroup": "PIT",
           "marker": {
            "color": "Black",
            "symbol": "circle"
           },
           "mode": "markers",
           "name": "PIT",
           "orientation": "v",
           "showlegend": true,
           "type": "scatter",
           "x": [
            33.11,
            35.62,
            39.35,
            39.2,
            36.96,
            34.71,
            39.4,
            42.72,
            38.63,
            43.15,
            52.67
           ],
           "xaxis": "x",
           "y": [
            39.2,
            32.89,
            25.39,
            26.21,
            47.16,
            11.74,
            30.78,
            11.89,
            30.46,
            31.96,
            43.83
           ],
           "yaxis": "y"
          },
          {
           "hovertemplate": "club=football<br>frameId=123<br>x=%{x}<br>y=%{y}<extra></extra>",
           "legendgroup": "football",
           "marker": {
            "color": "Grey",
            "symbol": "circle"
           },
           "mode": "markers",
           "name": "football",
           "orientation": "v",
           "showlegend": true,
           "type": "scatter",
           "x": [
            38.5
           ],
           "xaxis": "x",
           "y": [
            30.1800003051758
           ],
           "yaxis": "y"
          }
         ],
         "name": "123"
        },
        {
         "data": [
          {
           "hovertemplate": "club=CIN<br>frameId=124<br>x=%{x}<br>y=%{y}<extra></extra>",
           "legendgroup": "CIN",
           "marker": {
            "color": "Red",
            "symbol": "circle"
           },
           "mode": "markers",
           "name": "CIN",
           "orientation": "v",
           "showlegend": true,
           "type": "scatter",
           "x": [
            40.51,
            43.95,
            38.23,
            37.98,
            46.43,
            35.35,
            42.16,
            40.48,
            38.06,
            44.71,
            37.16
           ],
           "xaxis": "x",
           "y": [
            10.93,
            24.21,
            31.56,
            46.85,
            42.02,
            34.52,
            33.08,
            27.31,
            21.15,
            32.76,
            29.44
           ],
           "yaxis": "y"
          },
          {
           "hovertemplate": "club=PIT<br>frameId=124<br>x=%{x}<br>y=%{y}<extra></extra>",
           "legendgroup": "PIT",
           "marker": {
            "color": "Black",
            "symbol": "circle"
           },
           "mode": "markers",
           "name": "PIT",
           "orientation": "v",
           "showlegend": true,
           "type": "scatter",
           "x": [
            33.26,
            35.6,
            39.66,
            39.43,
            37.01,
            34.69,
            39.43,
            42.79,
            38.72,
            43.26,
            52.99
           ],
           "xaxis": "x",
           "y": [
            39.18,
            32.94,
            25.4,
            26.21,
            47.2,
            11.72,
            30.87,
            11.89,
            30.41,
            32.11,
            44.07
           ],
           "yaxis": "y"
          },
          {
           "hovertemplate": "club=football<br>frameId=124<br>x=%{x}<br>y=%{y}<extra></extra>",
           "legendgroup": "football",
           "marker": {
            "color": "Grey",
            "symbol": "circle"
           },
           "mode": "markers",
           "name": "football",
           "orientation": "v",
           "showlegend": true,
           "type": "scatter",
           "x": [
            38.5400009155273
           ],
           "xaxis": "x",
           "y": [
            30.2199993133545
           ],
           "yaxis": "y"
          }
         ],
         "name": "124"
        }
       ],
       "layout": {
        "height": 600,
        "legend": {
         "title": {
          "text": "club"
         },
         "tracegroupgap": 0
        },
        "shapes": [
         {
          "fillcolor": "green",
          "layer": "below",
          "line": {
           "color": "green",
           "width": 1
          },
          "opacity": 1,
          "type": "rect",
          "x0": 10,
          "x1": 110,
          "y0": 0,
          "y1": 53.3
         },
         {
          "layer": "below",
          "line": {
           "color": "white",
           "width": 2
          },
          "opacity": 1,
          "type": "line",
          "x0": 0,
          "x1": 0,
          "y0": 0,
          "y1": 53.3
         },
         {
          "layer": "below",
          "line": {
           "color": "white",
           "width": 2
          },
          "opacity": 1,
          "type": "line",
          "x0": 10,
          "x1": 10,
          "y0": 0,
          "y1": 53.3
         },
         {
          "layer": "below",
          "line": {
           "color": "white",
           "width": 2
          },
          "opacity": 1,
          "type": "line",
          "x0": 20,
          "x1": 20,
          "y0": 0,
          "y1": 53.3
         },
         {
          "layer": "below",
          "line": {
           "color": "white",
           "width": 2
          },
          "opacity": 1,
          "type": "line",
          "x0": 30,
          "x1": 30,
          "y0": 0,
          "y1": 53.3
         },
         {
          "layer": "below",
          "line": {
           "color": "white",
           "width": 2
          },
          "opacity": 1,
          "type": "line",
          "x0": 40,
          "x1": 40,
          "y0": 0,
          "y1": 53.3
         },
         {
          "layer": "below",
          "line": {
           "color": "white",
           "width": 2
          },
          "opacity": 1,
          "type": "line",
          "x0": 50,
          "x1": 50,
          "y0": 0,
          "y1": 53.3
         },
         {
          "layer": "below",
          "line": {
           "color": "white",
           "width": 2
          },
          "opacity": 1,
          "type": "line",
          "x0": 60,
          "x1": 60,
          "y0": 0,
          "y1": 53.3
         },
         {
          "layer": "below",
          "line": {
           "color": "white",
           "width": 2
          },
          "opacity": 1,
          "type": "line",
          "x0": 70,
          "x1": 70,
          "y0": 0,
          "y1": 53.3
         },
         {
          "layer": "below",
          "line": {
           "color": "white",
           "width": 2
          },
          "opacity": 1,
          "type": "line",
          "x0": 80,
          "x1": 80,
          "y0": 0,
          "y1": 53.3
         },
         {
          "layer": "below",
          "line": {
           "color": "white",
           "width": 2
          },
          "opacity": 1,
          "type": "line",
          "x0": 90,
          "x1": 90,
          "y0": 0,
          "y1": 53.3
         },
         {
          "layer": "below",
          "line": {
           "color": "white",
           "width": 2
          },
          "opacity": 1,
          "type": "line",
          "x0": 100,
          "x1": 100,
          "y0": 0,
          "y1": 53.3
         },
         {
          "layer": "below",
          "line": {
           "color": "white",
           "width": 2
          },
          "opacity": 1,
          "type": "line",
          "x0": 110,
          "x1": 110,
          "y0": 0,
          "y1": 53.3
         }
        ],
        "sliders": [
         {
          "active": 0,
          "currentvalue": {
           "prefix": "frameId="
          },
          "len": 0.9,
          "pad": {
           "b": 10,
           "t": 60
          },
          "steps": [
           {
            "args": [
             [
              "1"
             ],
             {
              "frame": {
               "duration": 0,
               "redraw": false
              },
              "fromcurrent": true,
              "mode": "immediate",
              "transition": {
               "duration": 0,
               "easing": "linear"
              }
             }
            ],
            "label": "1",
            "method": "animate"
           },
           {
            "args": [
             [
              "2"
             ],
             {
              "frame": {
               "duration": 0,
               "redraw": false
              },
              "fromcurrent": true,
              "mode": "immediate",
              "transition": {
               "duration": 0,
               "easing": "linear"
              }
             }
            ],
            "label": "2",
            "method": "animate"
           },
           {
            "args": [
             [
              "3"
             ],
             {
              "frame": {
               "duration": 0,
               "redraw": false
              },
              "fromcurrent": true,
              "mode": "immediate",
              "transition": {
               "duration": 0,
               "easing": "linear"
              }
             }
            ],
            "label": "3",
            "method": "animate"
           },
           {
            "args": [
             [
              "4"
             ],
             {
              "frame": {
               "duration": 0,
               "redraw": false
              },
              "fromcurrent": true,
              "mode": "immediate",
              "transition": {
               "duration": 0,
               "easing": "linear"
              }
             }
            ],
            "label": "4",
            "method": "animate"
           },
           {
            "args": [
             [
              "5"
             ],
             {
              "frame": {
               "duration": 0,
               "redraw": false
              },
              "fromcurrent": true,
              "mode": "immediate",
              "transition": {
               "duration": 0,
               "easing": "linear"
              }
             }
            ],
            "label": "5",
            "method": "animate"
           },
           {
            "args": [
             [
              "6"
             ],
             {
              "frame": {
               "duration": 0,
               "redraw": false
              },
              "fromcurrent": true,
              "mode": "immediate",
              "transition": {
               "duration": 0,
               "easing": "linear"
              }
             }
            ],
            "label": "6",
            "method": "animate"
           },
           {
            "args": [
             [
              "7"
             ],
             {
              "frame": {
               "duration": 0,
               "redraw": false
              },
              "fromcurrent": true,
              "mode": "immediate",
              "transition": {
               "duration": 0,
               "easing": "linear"
              }
             }
            ],
            "label": "7",
            "method": "animate"
           },
           {
            "args": [
             [
              "8"
             ],
             {
              "frame": {
               "duration": 0,
               "redraw": false
              },
              "fromcurrent": true,
              "mode": "immediate",
              "transition": {
               "duration": 0,
               "easing": "linear"
              }
             }
            ],
            "label": "8",
            "method": "animate"
           },
           {
            "args": [
             [
              "9"
             ],
             {
              "frame": {
               "duration": 0,
               "redraw": false
              },
              "fromcurrent": true,
              "mode": "immediate",
              "transition": {
               "duration": 0,
               "easing": "linear"
              }
             }
            ],
            "label": "9",
            "method": "animate"
           },
           {
            "args": [
             [
              "10"
             ],
             {
              "frame": {
               "duration": 0,
               "redraw": false
              },
              "fromcurrent": true,
              "mode": "immediate",
              "transition": {
               "duration": 0,
               "easing": "linear"
              }
             }
            ],
            "label": "10",
            "method": "animate"
           },
           {
            "args": [
             [
              "11"
             ],
             {
              "frame": {
               "duration": 0,
               "redraw": false
              },
              "fromcurrent": true,
              "mode": "immediate",
              "transition": {
               "duration": 0,
               "easing": "linear"
              }
             }
            ],
            "label": "11",
            "method": "animate"
           },
           {
            "args": [
             [
              "12"
             ],
             {
              "frame": {
               "duration": 0,
               "redraw": false
              },
              "fromcurrent": true,
              "mode": "immediate",
              "transition": {
               "duration": 0,
               "easing": "linear"
              }
             }
            ],
            "label": "12",
            "method": "animate"
           },
           {
            "args": [
             [
              "13"
             ],
             {
              "frame": {
               "duration": 0,
               "redraw": false
              },
              "fromcurrent": true,
              "mode": "immediate",
              "transition": {
               "duration": 0,
               "easing": "linear"
              }
             }
            ],
            "label": "13",
            "method": "animate"
           },
           {
            "args": [
             [
              "14"
             ],
             {
              "frame": {
               "duration": 0,
               "redraw": false
              },
              "fromcurrent": true,
              "mode": "immediate",
              "transition": {
               "duration": 0,
               "easing": "linear"
              }
             }
            ],
            "label": "14",
            "method": "animate"
           },
           {
            "args": [
             [
              "15"
             ],
             {
              "frame": {
               "duration": 0,
               "redraw": false
              },
              "fromcurrent": true,
              "mode": "immediate",
              "transition": {
               "duration": 0,
               "easing": "linear"
              }
             }
            ],
            "label": "15",
            "method": "animate"
           },
           {
            "args": [
             [
              "16"
             ],
             {
              "frame": {
               "duration": 0,
               "redraw": false
              },
              "fromcurrent": true,
              "mode": "immediate",
              "transition": {
               "duration": 0,
               "easing": "linear"
              }
             }
            ],
            "label": "16",
            "method": "animate"
           },
           {
            "args": [
             [
              "17"
             ],
             {
              "frame": {
               "duration": 0,
               "redraw": false
              },
              "fromcurrent": true,
              "mode": "immediate",
              "transition": {
               "duration": 0,
               "easing": "linear"
              }
             }
            ],
            "label": "17",
            "method": "animate"
           },
           {
            "args": [
             [
              "18"
             ],
             {
              "frame": {
               "duration": 0,
               "redraw": false
              },
              "fromcurrent": true,
              "mode": "immediate",
              "transition": {
               "duration": 0,
               "easing": "linear"
              }
             }
            ],
            "label": "18",
            "method": "animate"
           },
           {
            "args": [
             [
              "19"
             ],
             {
              "frame": {
               "duration": 0,
               "redraw": false
              },
              "fromcurrent": true,
              "mode": "immediate",
              "transition": {
               "duration": 0,
               "easing": "linear"
              }
             }
            ],
            "label": "19",
            "method": "animate"
           },
           {
            "args": [
             [
              "20"
             ],
             {
              "frame": {
               "duration": 0,
               "redraw": false
              },
              "fromcurrent": true,
              "mode": "immediate",
              "transition": {
               "duration": 0,
               "easing": "linear"
              }
             }
            ],
            "label": "20",
            "method": "animate"
           },
           {
            "args": [
             [
              "21"
             ],
             {
              "frame": {
               "duration": 0,
               "redraw": false
              },
              "fromcurrent": true,
              "mode": "immediate",
              "transition": {
               "duration": 0,
               "easing": "linear"
              }
             }
            ],
            "label": "21",
            "method": "animate"
           },
           {
            "args": [
             [
              "22"
             ],
             {
              "frame": {
               "duration": 0,
               "redraw": false
              },
              "fromcurrent": true,
              "mode": "immediate",
              "transition": {
               "duration": 0,
               "easing": "linear"
              }
             }
            ],
            "label": "22",
            "method": "animate"
           },
           {
            "args": [
             [
              "23"
             ],
             {
              "frame": {
               "duration": 0,
               "redraw": false
              },
              "fromcurrent": true,
              "mode": "immediate",
              "transition": {
               "duration": 0,
               "easing": "linear"
              }
             }
            ],
            "label": "23",
            "method": "animate"
           },
           {
            "args": [
             [
              "24"
             ],
             {
              "frame": {
               "duration": 0,
               "redraw": false
              },
              "fromcurrent": true,
              "mode": "immediate",
              "transition": {
               "duration": 0,
               "easing": "linear"
              }
             }
            ],
            "label": "24",
            "method": "animate"
           },
           {
            "args": [
             [
              "25"
             ],
             {
              "frame": {
               "duration": 0,
               "redraw": false
              },
              "fromcurrent": true,
              "mode": "immediate",
              "transition": {
               "duration": 0,
               "easing": "linear"
              }
             }
            ],
            "label": "25",
            "method": "animate"
           },
           {
            "args": [
             [
              "26"
             ],
             {
              "frame": {
               "duration": 0,
               "redraw": false
              },
              "fromcurrent": true,
              "mode": "immediate",
              "transition": {
               "duration": 0,
               "easing": "linear"
              }
             }
            ],
            "label": "26",
            "method": "animate"
           },
           {
            "args": [
             [
              "27"
             ],
             {
              "frame": {
               "duration": 0,
               "redraw": false
              },
              "fromcurrent": true,
              "mode": "immediate",
              "transition": {
               "duration": 0,
               "easing": "linear"
              }
             }
            ],
            "label": "27",
            "method": "animate"
           },
           {
            "args": [
             [
              "28"
             ],
             {
              "frame": {
               "duration": 0,
               "redraw": false
              },
              "fromcurrent": true,
              "mode": "immediate",
              "transition": {
               "duration": 0,
               "easing": "linear"
              }
             }
            ],
            "label": "28",
            "method": "animate"
           },
           {
            "args": [
             [
              "29"
             ],
             {
              "frame": {
               "duration": 0,
               "redraw": false
              },
              "fromcurrent": true,
              "mode": "immediate",
              "transition": {
               "duration": 0,
               "easing": "linear"
              }
             }
            ],
            "label": "29",
            "method": "animate"
           },
           {
            "args": [
             [
              "30"
             ],
             {
              "frame": {
               "duration": 0,
               "redraw": false
              },
              "fromcurrent": true,
              "mode": "immediate",
              "transition": {
               "duration": 0,
               "easing": "linear"
              }
             }
            ],
            "label": "30",
            "method": "animate"
           },
           {
            "args": [
             [
              "31"
             ],
             {
              "frame": {
               "duration": 0,
               "redraw": false
              },
              "fromcurrent": true,
              "mode": "immediate",
              "transition": {
               "duration": 0,
               "easing": "linear"
              }
             }
            ],
            "label": "31",
            "method": "animate"
           },
           {
            "args": [
             [
              "32"
             ],
             {
              "frame": {
               "duration": 0,
               "redraw": false
              },
              "fromcurrent": true,
              "mode": "immediate",
              "transition": {
               "duration": 0,
               "easing": "linear"
              }
             }
            ],
            "label": "32",
            "method": "animate"
           },
           {
            "args": [
             [
              "33"
             ],
             {
              "frame": {
               "duration": 0,
               "redraw": false
              },
              "fromcurrent": true,
              "mode": "immediate",
              "transition": {
               "duration": 0,
               "easing": "linear"
              }
             }
            ],
            "label": "33",
            "method": "animate"
           },
           {
            "args": [
             [
              "34"
             ],
             {
              "frame": {
               "duration": 0,
               "redraw": false
              },
              "fromcurrent": true,
              "mode": "immediate",
              "transition": {
               "duration": 0,
               "easing": "linear"
              }
             }
            ],
            "label": "34",
            "method": "animate"
           },
           {
            "args": [
             [
              "35"
             ],
             {
              "frame": {
               "duration": 0,
               "redraw": false
              },
              "fromcurrent": true,
              "mode": "immediate",
              "transition": {
               "duration": 0,
               "easing": "linear"
              }
             }
            ],
            "label": "35",
            "method": "animate"
           },
           {
            "args": [
             [
              "36"
             ],
             {
              "frame": {
               "duration": 0,
               "redraw": false
              },
              "fromcurrent": true,
              "mode": "immediate",
              "transition": {
               "duration": 0,
               "easing": "linear"
              }
             }
            ],
            "label": "36",
            "method": "animate"
           },
           {
            "args": [
             [
              "37"
             ],
             {
              "frame": {
               "duration": 0,
               "redraw": false
              },
              "fromcurrent": true,
              "mode": "immediate",
              "transition": {
               "duration": 0,
               "easing": "linear"
              }
             }
            ],
            "label": "37",
            "method": "animate"
           },
           {
            "args": [
             [
              "38"
             ],
             {
              "frame": {
               "duration": 0,
               "redraw": false
              },
              "fromcurrent": true,
              "mode": "immediate",
              "transition": {
               "duration": 0,
               "easing": "linear"
              }
             }
            ],
            "label": "38",
            "method": "animate"
           },
           {
            "args": [
             [
              "39"
             ],
             {
              "frame": {
               "duration": 0,
               "redraw": false
              },
              "fromcurrent": true,
              "mode": "immediate",
              "transition": {
               "duration": 0,
               "easing": "linear"
              }
             }
            ],
            "label": "39",
            "method": "animate"
           },
           {
            "args": [
             [
              "40"
             ],
             {
              "frame": {
               "duration": 0,
               "redraw": false
              },
              "fromcurrent": true,
              "mode": "immediate",
              "transition": {
               "duration": 0,
               "easing": "linear"
              }
             }
            ],
            "label": "40",
            "method": "animate"
           },
           {
            "args": [
             [
              "41"
             ],
             {
              "frame": {
               "duration": 0,
               "redraw": false
              },
              "fromcurrent": true,
              "mode": "immediate",
              "transition": {
               "duration": 0,
               "easing": "linear"
              }
             }
            ],
            "label": "41",
            "method": "animate"
           },
           {
            "args": [
             [
              "42"
             ],
             {
              "frame": {
               "duration": 0,
               "redraw": false
              },
              "fromcurrent": true,
              "mode": "immediate",
              "transition": {
               "duration": 0,
               "easing": "linear"
              }
             }
            ],
            "label": "42",
            "method": "animate"
           },
           {
            "args": [
             [
              "43"
             ],
             {
              "frame": {
               "duration": 0,
               "redraw": false
              },
              "fromcurrent": true,
              "mode": "immediate",
              "transition": {
               "duration": 0,
               "easing": "linear"
              }
             }
            ],
            "label": "43",
            "method": "animate"
           },
           {
            "args": [
             [
              "44"
             ],
             {
              "frame": {
               "duration": 0,
               "redraw": false
              },
              "fromcurrent": true,
              "mode": "immediate",
              "transition": {
               "duration": 0,
               "easing": "linear"
              }
             }
            ],
            "label": "44",
            "method": "animate"
           },
           {
            "args": [
             [
              "45"
             ],
             {
              "frame": {
               "duration": 0,
               "redraw": false
              },
              "fromcurrent": true,
              "mode": "immediate",
              "transition": {
               "duration": 0,
               "easing": "linear"
              }
             }
            ],
            "label": "45",
            "method": "animate"
           },
           {
            "args": [
             [
              "46"
             ],
             {
              "frame": {
               "duration": 0,
               "redraw": false
              },
              "fromcurrent": true,
              "mode": "immediate",
              "transition": {
               "duration": 0,
               "easing": "linear"
              }
             }
            ],
            "label": "46",
            "method": "animate"
           },
           {
            "args": [
             [
              "47"
             ],
             {
              "frame": {
               "duration": 0,
               "redraw": false
              },
              "fromcurrent": true,
              "mode": "immediate",
              "transition": {
               "duration": 0,
               "easing": "linear"
              }
             }
            ],
            "label": "47",
            "method": "animate"
           },
           {
            "args": [
             [
              "48"
             ],
             {
              "frame": {
               "duration": 0,
               "redraw": false
              },
              "fromcurrent": true,
              "mode": "immediate",
              "transition": {
               "duration": 0,
               "easing": "linear"
              }
             }
            ],
            "label": "48",
            "method": "animate"
           },
           {
            "args": [
             [
              "49"
             ],
             {
              "frame": {
               "duration": 0,
               "redraw": false
              },
              "fromcurrent": true,
              "mode": "immediate",
              "transition": {
               "duration": 0,
               "easing": "linear"
              }
             }
            ],
            "label": "49",
            "method": "animate"
           },
           {
            "args": [
             [
              "50"
             ],
             {
              "frame": {
               "duration": 0,
               "redraw": false
              },
              "fromcurrent": true,
              "mode": "immediate",
              "transition": {
               "duration": 0,
               "easing": "linear"
              }
             }
            ],
            "label": "50",
            "method": "animate"
           },
           {
            "args": [
             [
              "51"
             ],
             {
              "frame": {
               "duration": 0,
               "redraw": false
              },
              "fromcurrent": true,
              "mode": "immediate",
              "transition": {
               "duration": 0,
               "easing": "linear"
              }
             }
            ],
            "label": "51",
            "method": "animate"
           },
           {
            "args": [
             [
              "52"
             ],
             {
              "frame": {
               "duration": 0,
               "redraw": false
              },
              "fromcurrent": true,
              "mode": "immediate",
              "transition": {
               "duration": 0,
               "easing": "linear"
              }
             }
            ],
            "label": "52",
            "method": "animate"
           },
           {
            "args": [
             [
              "53"
             ],
             {
              "frame": {
               "duration": 0,
               "redraw": false
              },
              "fromcurrent": true,
              "mode": "immediate",
              "transition": {
               "duration": 0,
               "easing": "linear"
              }
             }
            ],
            "label": "53",
            "method": "animate"
           },
           {
            "args": [
             [
              "54"
             ],
             {
              "frame": {
               "duration": 0,
               "redraw": false
              },
              "fromcurrent": true,
              "mode": "immediate",
              "transition": {
               "duration": 0,
               "easing": "linear"
              }
             }
            ],
            "label": "54",
            "method": "animate"
           },
           {
            "args": [
             [
              "55"
             ],
             {
              "frame": {
               "duration": 0,
               "redraw": false
              },
              "fromcurrent": true,
              "mode": "immediate",
              "transition": {
               "duration": 0,
               "easing": "linear"
              }
             }
            ],
            "label": "55",
            "method": "animate"
           },
           {
            "args": [
             [
              "56"
             ],
             {
              "frame": {
               "duration": 0,
               "redraw": false
              },
              "fromcurrent": true,
              "mode": "immediate",
              "transition": {
               "duration": 0,
               "easing": "linear"
              }
             }
            ],
            "label": "56",
            "method": "animate"
           },
           {
            "args": [
             [
              "57"
             ],
             {
              "frame": {
               "duration": 0,
               "redraw": false
              },
              "fromcurrent": true,
              "mode": "immediate",
              "transition": {
               "duration": 0,
               "easing": "linear"
              }
             }
            ],
            "label": "57",
            "method": "animate"
           },
           {
            "args": [
             [
              "58"
             ],
             {
              "frame": {
               "duration": 0,
               "redraw": false
              },
              "fromcurrent": true,
              "mode": "immediate",
              "transition": {
               "duration": 0,
               "easing": "linear"
              }
             }
            ],
            "label": "58",
            "method": "animate"
           },
           {
            "args": [
             [
              "59"
             ],
             {
              "frame": {
               "duration": 0,
               "redraw": false
              },
              "fromcurrent": true,
              "mode": "immediate",
              "transition": {
               "duration": 0,
               "easing": "linear"
              }
             }
            ],
            "label": "59",
            "method": "animate"
           },
           {
            "args": [
             [
              "60"
             ],
             {
              "frame": {
               "duration": 0,
               "redraw": false
              },
              "fromcurrent": true,
              "mode": "immediate",
              "transition": {
               "duration": 0,
               "easing": "linear"
              }
             }
            ],
            "label": "60",
            "method": "animate"
           },
           {
            "args": [
             [
              "61"
             ],
             {
              "frame": {
               "duration": 0,
               "redraw": false
              },
              "fromcurrent": true,
              "mode": "immediate",
              "transition": {
               "duration": 0,
               "easing": "linear"
              }
             }
            ],
            "label": "61",
            "method": "animate"
           },
           {
            "args": [
             [
              "62"
             ],
             {
              "frame": {
               "duration": 0,
               "redraw": false
              },
              "fromcurrent": true,
              "mode": "immediate",
              "transition": {
               "duration": 0,
               "easing": "linear"
              }
             }
            ],
            "label": "62",
            "method": "animate"
           },
           {
            "args": [
             [
              "63"
             ],
             {
              "frame": {
               "duration": 0,
               "redraw": false
              },
              "fromcurrent": true,
              "mode": "immediate",
              "transition": {
               "duration": 0,
               "easing": "linear"
              }
             }
            ],
            "label": "63",
            "method": "animate"
           },
           {
            "args": [
             [
              "64"
             ],
             {
              "frame": {
               "duration": 0,
               "redraw": false
              },
              "fromcurrent": true,
              "mode": "immediate",
              "transition": {
               "duration": 0,
               "easing": "linear"
              }
             }
            ],
            "label": "64",
            "method": "animate"
           },
           {
            "args": [
             [
              "65"
             ],
             {
              "frame": {
               "duration": 0,
               "redraw": false
              },
              "fromcurrent": true,
              "mode": "immediate",
              "transition": {
               "duration": 0,
               "easing": "linear"
              }
             }
            ],
            "label": "65",
            "method": "animate"
           },
           {
            "args": [
             [
              "66"
             ],
             {
              "frame": {
               "duration": 0,
               "redraw": false
              },
              "fromcurrent": true,
              "mode": "immediate",
              "transition": {
               "duration": 0,
               "easing": "linear"
              }
             }
            ],
            "label": "66",
            "method": "animate"
           },
           {
            "args": [
             [
              "67"
             ],
             {
              "frame": {
               "duration": 0,
               "redraw": false
              },
              "fromcurrent": true,
              "mode": "immediate",
              "transition": {
               "duration": 0,
               "easing": "linear"
              }
             }
            ],
            "label": "67",
            "method": "animate"
           },
           {
            "args": [
             [
              "68"
             ],
             {
              "frame": {
               "duration": 0,
               "redraw": false
              },
              "fromcurrent": true,
              "mode": "immediate",
              "transition": {
               "duration": 0,
               "easing": "linear"
              }
             }
            ],
            "label": "68",
            "method": "animate"
           },
           {
            "args": [
             [
              "69"
             ],
             {
              "frame": {
               "duration": 0,
               "redraw": false
              },
              "fromcurrent": true,
              "mode": "immediate",
              "transition": {
               "duration": 0,
               "easing": "linear"
              }
             }
            ],
            "label": "69",
            "method": "animate"
           },
           {
            "args": [
             [
              "70"
             ],
             {
              "frame": {
               "duration": 0,
               "redraw": false
              },
              "fromcurrent": true,
              "mode": "immediate",
              "transition": {
               "duration": 0,
               "easing": "linear"
              }
             }
            ],
            "label": "70",
            "method": "animate"
           },
           {
            "args": [
             [
              "71"
             ],
             {
              "frame": {
               "duration": 0,
               "redraw": false
              },
              "fromcurrent": true,
              "mode": "immediate",
              "transition": {
               "duration": 0,
               "easing": "linear"
              }
             }
            ],
            "label": "71",
            "method": "animate"
           },
           {
            "args": [
             [
              "72"
             ],
             {
              "frame": {
               "duration": 0,
               "redraw": false
              },
              "fromcurrent": true,
              "mode": "immediate",
              "transition": {
               "duration": 0,
               "easing": "linear"
              }
             }
            ],
            "label": "72",
            "method": "animate"
           },
           {
            "args": [
             [
              "73"
             ],
             {
              "frame": {
               "duration": 0,
               "redraw": false
              },
              "fromcurrent": true,
              "mode": "immediate",
              "transition": {
               "duration": 0,
               "easing": "linear"
              }
             }
            ],
            "label": "73",
            "method": "animate"
           },
           {
            "args": [
             [
              "74"
             ],
             {
              "frame": {
               "duration": 0,
               "redraw": false
              },
              "fromcurrent": true,
              "mode": "immediate",
              "transition": {
               "duration": 0,
               "easing": "linear"
              }
             }
            ],
            "label": "74",
            "method": "animate"
           },
           {
            "args": [
             [
              "75"
             ],
             {
              "frame": {
               "duration": 0,
               "redraw": false
              },
              "fromcurrent": true,
              "mode": "immediate",
              "transition": {
               "duration": 0,
               "easing": "linear"
              }
             }
            ],
            "label": "75",
            "method": "animate"
           },
           {
            "args": [
             [
              "76"
             ],
             {
              "frame": {
               "duration": 0,
               "redraw": false
              },
              "fromcurrent": true,
              "mode": "immediate",
              "transition": {
               "duration": 0,
               "easing": "linear"
              }
             }
            ],
            "label": "76",
            "method": "animate"
           },
           {
            "args": [
             [
              "77"
             ],
             {
              "frame": {
               "duration": 0,
               "redraw": false
              },
              "fromcurrent": true,
              "mode": "immediate",
              "transition": {
               "duration": 0,
               "easing": "linear"
              }
             }
            ],
            "label": "77",
            "method": "animate"
           },
           {
            "args": [
             [
              "78"
             ],
             {
              "frame": {
               "duration": 0,
               "redraw": false
              },
              "fromcurrent": true,
              "mode": "immediate",
              "transition": {
               "duration": 0,
               "easing": "linear"
              }
             }
            ],
            "label": "78",
            "method": "animate"
           },
           {
            "args": [
             [
              "79"
             ],
             {
              "frame": {
               "duration": 0,
               "redraw": false
              },
              "fromcurrent": true,
              "mode": "immediate",
              "transition": {
               "duration": 0,
               "easing": "linear"
              }
             }
            ],
            "label": "79",
            "method": "animate"
           },
           {
            "args": [
             [
              "80"
             ],
             {
              "frame": {
               "duration": 0,
               "redraw": false
              },
              "fromcurrent": true,
              "mode": "immediate",
              "transition": {
               "duration": 0,
               "easing": "linear"
              }
             }
            ],
            "label": "80",
            "method": "animate"
           },
           {
            "args": [
             [
              "81"
             ],
             {
              "frame": {
               "duration": 0,
               "redraw": false
              },
              "fromcurrent": true,
              "mode": "immediate",
              "transition": {
               "duration": 0,
               "easing": "linear"
              }
             }
            ],
            "label": "81",
            "method": "animate"
           },
           {
            "args": [
             [
              "82"
             ],
             {
              "frame": {
               "duration": 0,
               "redraw": false
              },
              "fromcurrent": true,
              "mode": "immediate",
              "transition": {
               "duration": 0,
               "easing": "linear"
              }
             }
            ],
            "label": "82",
            "method": "animate"
           },
           {
            "args": [
             [
              "83"
             ],
             {
              "frame": {
               "duration": 0,
               "redraw": false
              },
              "fromcurrent": true,
              "mode": "immediate",
              "transition": {
               "duration": 0,
               "easing": "linear"
              }
             }
            ],
            "label": "83",
            "method": "animate"
           },
           {
            "args": [
             [
              "84"
             ],
             {
              "frame": {
               "duration": 0,
               "redraw": false
              },
              "fromcurrent": true,
              "mode": "immediate",
              "transition": {
               "duration": 0,
               "easing": "linear"
              }
             }
            ],
            "label": "84",
            "method": "animate"
           },
           {
            "args": [
             [
              "85"
             ],
             {
              "frame": {
               "duration": 0,
               "redraw": false
              },
              "fromcurrent": true,
              "mode": "immediate",
              "transition": {
               "duration": 0,
               "easing": "linear"
              }
             }
            ],
            "label": "85",
            "method": "animate"
           },
           {
            "args": [
             [
              "86"
             ],
             {
              "frame": {
               "duration": 0,
               "redraw": false
              },
              "fromcurrent": true,
              "mode": "immediate",
              "transition": {
               "duration": 0,
               "easing": "linear"
              }
             }
            ],
            "label": "86",
            "method": "animate"
           },
           {
            "args": [
             [
              "87"
             ],
             {
              "frame": {
               "duration": 0,
               "redraw": false
              },
              "fromcurrent": true,
              "mode": "immediate",
              "transition": {
               "duration": 0,
               "easing": "linear"
              }
             }
            ],
            "label": "87",
            "method": "animate"
           },
           {
            "args": [
             [
              "88"
             ],
             {
              "frame": {
               "duration": 0,
               "redraw": false
              },
              "fromcurrent": true,
              "mode": "immediate",
              "transition": {
               "duration": 0,
               "easing": "linear"
              }
             }
            ],
            "label": "88",
            "method": "animate"
           },
           {
            "args": [
             [
              "89"
             ],
             {
              "frame": {
               "duration": 0,
               "redraw": false
              },
              "fromcurrent": true,
              "mode": "immediate",
              "transition": {
               "duration": 0,
               "easing": "linear"
              }
             }
            ],
            "label": "89",
            "method": "animate"
           },
           {
            "args": [
             [
              "90"
             ],
             {
              "frame": {
               "duration": 0,
               "redraw": false
              },
              "fromcurrent": true,
              "mode": "immediate",
              "transition": {
               "duration": 0,
               "easing": "linear"
              }
             }
            ],
            "label": "90",
            "method": "animate"
           },
           {
            "args": [
             [
              "91"
             ],
             {
              "frame": {
               "duration": 0,
               "redraw": false
              },
              "fromcurrent": true,
              "mode": "immediate",
              "transition": {
               "duration": 0,
               "easing": "linear"
              }
             }
            ],
            "label": "91",
            "method": "animate"
           },
           {
            "args": [
             [
              "92"
             ],
             {
              "frame": {
               "duration": 0,
               "redraw": false
              },
              "fromcurrent": true,
              "mode": "immediate",
              "transition": {
               "duration": 0,
               "easing": "linear"
              }
             }
            ],
            "label": "92",
            "method": "animate"
           },
           {
            "args": [
             [
              "93"
             ],
             {
              "frame": {
               "duration": 0,
               "redraw": false
              },
              "fromcurrent": true,
              "mode": "immediate",
              "transition": {
               "duration": 0,
               "easing": "linear"
              }
             }
            ],
            "label": "93",
            "method": "animate"
           },
           {
            "args": [
             [
              "94"
             ],
             {
              "frame": {
               "duration": 0,
               "redraw": false
              },
              "fromcurrent": true,
              "mode": "immediate",
              "transition": {
               "duration": 0,
               "easing": "linear"
              }
             }
            ],
            "label": "94",
            "method": "animate"
           },
           {
            "args": [
             [
              "95"
             ],
             {
              "frame": {
               "duration": 0,
               "redraw": false
              },
              "fromcurrent": true,
              "mode": "immediate",
              "transition": {
               "duration": 0,
               "easing": "linear"
              }
             }
            ],
            "label": "95",
            "method": "animate"
           },
           {
            "args": [
             [
              "96"
             ],
             {
              "frame": {
               "duration": 0,
               "redraw": false
              },
              "fromcurrent": true,
              "mode": "immediate",
              "transition": {
               "duration": 0,
               "easing": "linear"
              }
             }
            ],
            "label": "96",
            "method": "animate"
           },
           {
            "args": [
             [
              "97"
             ],
             {
              "frame": {
               "duration": 0,
               "redraw": false
              },
              "fromcurrent": true,
              "mode": "immediate",
              "transition": {
               "duration": 0,
               "easing": "linear"
              }
             }
            ],
            "label": "97",
            "method": "animate"
           },
           {
            "args": [
             [
              "98"
             ],
             {
              "frame": {
               "duration": 0,
               "redraw": false
              },
              "fromcurrent": true,
              "mode": "immediate",
              "transition": {
               "duration": 0,
               "easing": "linear"
              }
             }
            ],
            "label": "98",
            "method": "animate"
           },
           {
            "args": [
             [
              "99"
             ],
             {
              "frame": {
               "duration": 0,
               "redraw": false
              },
              "fromcurrent": true,
              "mode": "immediate",
              "transition": {
               "duration": 0,
               "easing": "linear"
              }
             }
            ],
            "label": "99",
            "method": "animate"
           },
           {
            "args": [
             [
              "100"
             ],
             {
              "frame": {
               "duration": 0,
               "redraw": false
              },
              "fromcurrent": true,
              "mode": "immediate",
              "transition": {
               "duration": 0,
               "easing": "linear"
              }
             }
            ],
            "label": "100",
            "method": "animate"
           },
           {
            "args": [
             [
              "101"
             ],
             {
              "frame": {
               "duration": 0,
               "redraw": false
              },
              "fromcurrent": true,
              "mode": "immediate",
              "transition": {
               "duration": 0,
               "easing": "linear"
              }
             }
            ],
            "label": "101",
            "method": "animate"
           },
           {
            "args": [
             [
              "102"
             ],
             {
              "frame": {
               "duration": 0,
               "redraw": false
              },
              "fromcurrent": true,
              "mode": "immediate",
              "transition": {
               "duration": 0,
               "easing": "linear"
              }
             }
            ],
            "label": "102",
            "method": "animate"
           },
           {
            "args": [
             [
              "103"
             ],
             {
              "frame": {
               "duration": 0,
               "redraw": false
              },
              "fromcurrent": true,
              "mode": "immediate",
              "transition": {
               "duration": 0,
               "easing": "linear"
              }
             }
            ],
            "label": "103",
            "method": "animate"
           },
           {
            "args": [
             [
              "104"
             ],
             {
              "frame": {
               "duration": 0,
               "redraw": false
              },
              "fromcurrent": true,
              "mode": "immediate",
              "transition": {
               "duration": 0,
               "easing": "linear"
              }
             }
            ],
            "label": "104",
            "method": "animate"
           },
           {
            "args": [
             [
              "105"
             ],
             {
              "frame": {
               "duration": 0,
               "redraw": false
              },
              "fromcurrent": true,
              "mode": "immediate",
              "transition": {
               "duration": 0,
               "easing": "linear"
              }
             }
            ],
            "label": "105",
            "method": "animate"
           },
           {
            "args": [
             [
              "106"
             ],
             {
              "frame": {
               "duration": 0,
               "redraw": false
              },
              "fromcurrent": true,
              "mode": "immediate",
              "transition": {
               "duration": 0,
               "easing": "linear"
              }
             }
            ],
            "label": "106",
            "method": "animate"
           },
           {
            "args": [
             [
              "107"
             ],
             {
              "frame": {
               "duration": 0,
               "redraw": false
              },
              "fromcurrent": true,
              "mode": "immediate",
              "transition": {
               "duration": 0,
               "easing": "linear"
              }
             }
            ],
            "label": "107",
            "method": "animate"
           },
           {
            "args": [
             [
              "108"
             ],
             {
              "frame": {
               "duration": 0,
               "redraw": false
              },
              "fromcurrent": true,
              "mode": "immediate",
              "transition": {
               "duration": 0,
               "easing": "linear"
              }
             }
            ],
            "label": "108",
            "method": "animate"
           },
           {
            "args": [
             [
              "109"
             ],
             {
              "frame": {
               "duration": 0,
               "redraw": false
              },
              "fromcurrent": true,
              "mode": "immediate",
              "transition": {
               "duration": 0,
               "easing": "linear"
              }
             }
            ],
            "label": "109",
            "method": "animate"
           },
           {
            "args": [
             [
              "110"
             ],
             {
              "frame": {
               "duration": 0,
               "redraw": false
              },
              "fromcurrent": true,
              "mode": "immediate",
              "transition": {
               "duration": 0,
               "easing": "linear"
              }
             }
            ],
            "label": "110",
            "method": "animate"
           },
           {
            "args": [
             [
              "111"
             ],
             {
              "frame": {
               "duration": 0,
               "redraw": false
              },
              "fromcurrent": true,
              "mode": "immediate",
              "transition": {
               "duration": 0,
               "easing": "linear"
              }
             }
            ],
            "label": "111",
            "method": "animate"
           },
           {
            "args": [
             [
              "112"
             ],
             {
              "frame": {
               "duration": 0,
               "redraw": false
              },
              "fromcurrent": true,
              "mode": "immediate",
              "transition": {
               "duration": 0,
               "easing": "linear"
              }
             }
            ],
            "label": "112",
            "method": "animate"
           },
           {
            "args": [
             [
              "113"
             ],
             {
              "frame": {
               "duration": 0,
               "redraw": false
              },
              "fromcurrent": true,
              "mode": "immediate",
              "transition": {
               "duration": 0,
               "easing": "linear"
              }
             }
            ],
            "label": "113",
            "method": "animate"
           },
           {
            "args": [
             [
              "114"
             ],
             {
              "frame": {
               "duration": 0,
               "redraw": false
              },
              "fromcurrent": true,
              "mode": "immediate",
              "transition": {
               "duration": 0,
               "easing": "linear"
              }
             }
            ],
            "label": "114",
            "method": "animate"
           },
           {
            "args": [
             [
              "115"
             ],
             {
              "frame": {
               "duration": 0,
               "redraw": false
              },
              "fromcurrent": true,
              "mode": "immediate",
              "transition": {
               "duration": 0,
               "easing": "linear"
              }
             }
            ],
            "label": "115",
            "method": "animate"
           },
           {
            "args": [
             [
              "116"
             ],
             {
              "frame": {
               "duration": 0,
               "redraw": false
              },
              "fromcurrent": true,
              "mode": "immediate",
              "transition": {
               "duration": 0,
               "easing": "linear"
              }
             }
            ],
            "label": "116",
            "method": "animate"
           },
           {
            "args": [
             [
              "117"
             ],
             {
              "frame": {
               "duration": 0,
               "redraw": false
              },
              "fromcurrent": true,
              "mode": "immediate",
              "transition": {
               "duration": 0,
               "easing": "linear"
              }
             }
            ],
            "label": "117",
            "method": "animate"
           },
           {
            "args": [
             [
              "118"
             ],
             {
              "frame": {
               "duration": 0,
               "redraw": false
              },
              "fromcurrent": true,
              "mode": "immediate",
              "transition": {
               "duration": 0,
               "easing": "linear"
              }
             }
            ],
            "label": "118",
            "method": "animate"
           },
           {
            "args": [
             [
              "119"
             ],
             {
              "frame": {
               "duration": 0,
               "redraw": false
              },
              "fromcurrent": true,
              "mode": "immediate",
              "transition": {
               "duration": 0,
               "easing": "linear"
              }
             }
            ],
            "label": "119",
            "method": "animate"
           },
           {
            "args": [
             [
              "120"
             ],
             {
              "frame": {
               "duration": 0,
               "redraw": false
              },
              "fromcurrent": true,
              "mode": "immediate",
              "transition": {
               "duration": 0,
               "easing": "linear"
              }
             }
            ],
            "label": "120",
            "method": "animate"
           },
           {
            "args": [
             [
              "121"
             ],
             {
              "frame": {
               "duration": 0,
               "redraw": false
              },
              "fromcurrent": true,
              "mode": "immediate",
              "transition": {
               "duration": 0,
               "easing": "linear"
              }
             }
            ],
            "label": "121",
            "method": "animate"
           },
           {
            "args": [
             [
              "122"
             ],
             {
              "frame": {
               "duration": 0,
               "redraw": false
              },
              "fromcurrent": true,
              "mode": "immediate",
              "transition": {
               "duration": 0,
               "easing": "linear"
              }
             }
            ],
            "label": "122",
            "method": "animate"
           },
           {
            "args": [
             [
              "123"
             ],
             {
              "frame": {
               "duration": 0,
               "redraw": false
              },
              "fromcurrent": true,
              "mode": "immediate",
              "transition": {
               "duration": 0,
               "easing": "linear"
              }
             }
            ],
            "label": "123",
            "method": "animate"
           },
           {
            "args": [
             [
              "124"
             ],
             {
              "frame": {
               "duration": 0,
               "redraw": false
              },
              "fromcurrent": true,
              "mode": "immediate",
              "transition": {
               "duration": 0,
               "easing": "linear"
              }
             }
            ],
            "label": "124",
            "method": "animate"
           }
          ],
          "x": 0.1,
          "xanchor": "left",
          "y": 0,
          "yanchor": "top"
         }
        ],
        "template": {
         "data": {
          "bar": [
           {
            "error_x": {
             "color": "#2a3f5f"
            },
            "error_y": {
             "color": "#2a3f5f"
            },
            "marker": {
             "line": {
              "color": "#E5ECF6",
              "width": 0.5
             },
             "pattern": {
              "fillmode": "overlay",
              "size": 10,
              "solidity": 0.2
             }
            },
            "type": "bar"
           }
          ],
          "barpolar": [
           {
            "marker": {
             "line": {
              "color": "#E5ECF6",
              "width": 0.5
             },
             "pattern": {
              "fillmode": "overlay",
              "size": 10,
              "solidity": 0.2
             }
            },
            "type": "barpolar"
           }
          ],
          "carpet": [
           {
            "aaxis": {
             "endlinecolor": "#2a3f5f",
             "gridcolor": "white",
             "linecolor": "white",
             "minorgridcolor": "white",
             "startlinecolor": "#2a3f5f"
            },
            "baxis": {
             "endlinecolor": "#2a3f5f",
             "gridcolor": "white",
             "linecolor": "white",
             "minorgridcolor": "white",
             "startlinecolor": "#2a3f5f"
            },
            "type": "carpet"
           }
          ],
          "choropleth": [
           {
            "colorbar": {
             "outlinewidth": 0,
             "ticks": ""
            },
            "type": "choropleth"
           }
          ],
          "contour": [
           {
            "colorbar": {
             "outlinewidth": 0,
             "ticks": ""
            },
            "colorscale": [
             [
              0,
              "#0d0887"
             ],
             [
              0.1111111111111111,
              "#46039f"
             ],
             [
              0.2222222222222222,
              "#7201a8"
             ],
             [
              0.3333333333333333,
              "#9c179e"
             ],
             [
              0.4444444444444444,
              "#bd3786"
             ],
             [
              0.5555555555555556,
              "#d8576b"
             ],
             [
              0.6666666666666666,
              "#ed7953"
             ],
             [
              0.7777777777777778,
              "#fb9f3a"
             ],
             [
              0.8888888888888888,
              "#fdca26"
             ],
             [
              1,
              "#f0f921"
             ]
            ],
            "type": "contour"
           }
          ],
          "contourcarpet": [
           {
            "colorbar": {
             "outlinewidth": 0,
             "ticks": ""
            },
            "type": "contourcarpet"
           }
          ],
          "heatmap": [
           {
            "colorbar": {
             "outlinewidth": 0,
             "ticks": ""
            },
            "colorscale": [
             [
              0,
              "#0d0887"
             ],
             [
              0.1111111111111111,
              "#46039f"
             ],
             [
              0.2222222222222222,
              "#7201a8"
             ],
             [
              0.3333333333333333,
              "#9c179e"
             ],
             [
              0.4444444444444444,
              "#bd3786"
             ],
             [
              0.5555555555555556,
              "#d8576b"
             ],
             [
              0.6666666666666666,
              "#ed7953"
             ],
             [
              0.7777777777777778,
              "#fb9f3a"
             ],
             [
              0.8888888888888888,
              "#fdca26"
             ],
             [
              1,
              "#f0f921"
             ]
            ],
            "type": "heatmap"
           }
          ],
          "heatmapgl": [
           {
            "colorbar": {
             "outlinewidth": 0,
             "ticks": ""
            },
            "colorscale": [
             [
              0,
              "#0d0887"
             ],
             [
              0.1111111111111111,
              "#46039f"
             ],
             [
              0.2222222222222222,
              "#7201a8"
             ],
             [
              0.3333333333333333,
              "#9c179e"
             ],
             [
              0.4444444444444444,
              "#bd3786"
             ],
             [
              0.5555555555555556,
              "#d8576b"
             ],
             [
              0.6666666666666666,
              "#ed7953"
             ],
             [
              0.7777777777777778,
              "#fb9f3a"
             ],
             [
              0.8888888888888888,
              "#fdca26"
             ],
             [
              1,
              "#f0f921"
             ]
            ],
            "type": "heatmapgl"
           }
          ],
          "histogram": [
           {
            "marker": {
             "pattern": {
              "fillmode": "overlay",
              "size": 10,
              "solidity": 0.2
             }
            },
            "type": "histogram"
           }
          ],
          "histogram2d": [
           {
            "colorbar": {
             "outlinewidth": 0,
             "ticks": ""
            },
            "colorscale": [
             [
              0,
              "#0d0887"
             ],
             [
              0.1111111111111111,
              "#46039f"
             ],
             [
              0.2222222222222222,
              "#7201a8"
             ],
             [
              0.3333333333333333,
              "#9c179e"
             ],
             [
              0.4444444444444444,
              "#bd3786"
             ],
             [
              0.5555555555555556,
              "#d8576b"
             ],
             [
              0.6666666666666666,
              "#ed7953"
             ],
             [
              0.7777777777777778,
              "#fb9f3a"
             ],
             [
              0.8888888888888888,
              "#fdca26"
             ],
             [
              1,
              "#f0f921"
             ]
            ],
            "type": "histogram2d"
           }
          ],
          "histogram2dcontour": [
           {
            "colorbar": {
             "outlinewidth": 0,
             "ticks": ""
            },
            "colorscale": [
             [
              0,
              "#0d0887"
             ],
             [
              0.1111111111111111,
              "#46039f"
             ],
             [
              0.2222222222222222,
              "#7201a8"
             ],
             [
              0.3333333333333333,
              "#9c179e"
             ],
             [
              0.4444444444444444,
              "#bd3786"
             ],
             [
              0.5555555555555556,
              "#d8576b"
             ],
             [
              0.6666666666666666,
              "#ed7953"
             ],
             [
              0.7777777777777778,
              "#fb9f3a"
             ],
             [
              0.8888888888888888,
              "#fdca26"
             ],
             [
              1,
              "#f0f921"
             ]
            ],
            "type": "histogram2dcontour"
           }
          ],
          "mesh3d": [
           {
            "colorbar": {
             "outlinewidth": 0,
             "ticks": ""
            },
            "type": "mesh3d"
           }
          ],
          "parcoords": [
           {
            "line": {
             "colorbar": {
              "outlinewidth": 0,
              "ticks": ""
             }
            },
            "type": "parcoords"
           }
          ],
          "pie": [
           {
            "automargin": true,
            "type": "pie"
           }
          ],
          "scatter": [
           {
            "fillpattern": {
             "fillmode": "overlay",
             "size": 10,
             "solidity": 0.2
            },
            "type": "scatter"
           }
          ],
          "scatter3d": [
           {
            "line": {
             "colorbar": {
              "outlinewidth": 0,
              "ticks": ""
             }
            },
            "marker": {
             "colorbar": {
              "outlinewidth": 0,
              "ticks": ""
             }
            },
            "type": "scatter3d"
           }
          ],
          "scattercarpet": [
           {
            "marker": {
             "colorbar": {
              "outlinewidth": 0,
              "ticks": ""
             }
            },
            "type": "scattercarpet"
           }
          ],
          "scattergeo": [
           {
            "marker": {
             "colorbar": {
              "outlinewidth": 0,
              "ticks": ""
             }
            },
            "type": "scattergeo"
           }
          ],
          "scattergl": [
           {
            "marker": {
             "colorbar": {
              "outlinewidth": 0,
              "ticks": ""
             }
            },
            "type": "scattergl"
           }
          ],
          "scattermapbox": [
           {
            "marker": {
             "colorbar": {
              "outlinewidth": 0,
              "ticks": ""
             }
            },
            "type": "scattermapbox"
           }
          ],
          "scatterpolar": [
           {
            "marker": {
             "colorbar": {
              "outlinewidth": 0,
              "ticks": ""
             }
            },
            "type": "scatterpolar"
           }
          ],
          "scatterpolargl": [
           {
            "marker": {
             "colorbar": {
              "outlinewidth": 0,
              "ticks": ""
             }
            },
            "type": "scatterpolargl"
           }
          ],
          "scatterternary": [
           {
            "marker": {
             "colorbar": {
              "outlinewidth": 0,
              "ticks": ""
             }
            },
            "type": "scatterternary"
           }
          ],
          "surface": [
           {
            "colorbar": {
             "outlinewidth": 0,
             "ticks": ""
            },
            "colorscale": [
             [
              0,
              "#0d0887"
             ],
             [
              0.1111111111111111,
              "#46039f"
             ],
             [
              0.2222222222222222,
              "#7201a8"
             ],
             [
              0.3333333333333333,
              "#9c179e"
             ],
             [
              0.4444444444444444,
              "#bd3786"
             ],
             [
              0.5555555555555556,
              "#d8576b"
             ],
             [
              0.6666666666666666,
              "#ed7953"
             ],
             [
              0.7777777777777778,
              "#fb9f3a"
             ],
             [
              0.8888888888888888,
              "#fdca26"
             ],
             [
              1,
              "#f0f921"
             ]
            ],
            "type": "surface"
           }
          ],
          "table": [
           {
            "cells": {
             "fill": {
              "color": "#EBF0F8"
             },
             "line": {
              "color": "white"
             }
            },
            "header": {
             "fill": {
              "color": "#C8D4E3"
             },
             "line": {
              "color": "white"
             }
            },
            "type": "table"
           }
          ]
         },
         "layout": {
          "annotationdefaults": {
           "arrowcolor": "#2a3f5f",
           "arrowhead": 0,
           "arrowwidth": 1
          },
          "autotypenumbers": "strict",
          "coloraxis": {
           "colorbar": {
            "outlinewidth": 0,
            "ticks": ""
           }
          },
          "colorscale": {
           "diverging": [
            [
             0,
             "#8e0152"
            ],
            [
             0.1,
             "#c51b7d"
            ],
            [
             0.2,
             "#de77ae"
            ],
            [
             0.3,
             "#f1b6da"
            ],
            [
             0.4,
             "#fde0ef"
            ],
            [
             0.5,
             "#f7f7f7"
            ],
            [
             0.6,
             "#e6f5d0"
            ],
            [
             0.7,
             "#b8e186"
            ],
            [
             0.8,
             "#7fbc41"
            ],
            [
             0.9,
             "#4d9221"
            ],
            [
             1,
             "#276419"
            ]
           ],
           "sequential": [
            [
             0,
             "#0d0887"
            ],
            [
             0.1111111111111111,
             "#46039f"
            ],
            [
             0.2222222222222222,
             "#7201a8"
            ],
            [
             0.3333333333333333,
             "#9c179e"
            ],
            [
             0.4444444444444444,
             "#bd3786"
            ],
            [
             0.5555555555555556,
             "#d8576b"
            ],
            [
             0.6666666666666666,
             "#ed7953"
            ],
            [
             0.7777777777777778,
             "#fb9f3a"
            ],
            [
             0.8888888888888888,
             "#fdca26"
            ],
            [
             1,
             "#f0f921"
            ]
           ],
           "sequentialminus": [
            [
             0,
             "#0d0887"
            ],
            [
             0.1111111111111111,
             "#46039f"
            ],
            [
             0.2222222222222222,
             "#7201a8"
            ],
            [
             0.3333333333333333,
             "#9c179e"
            ],
            [
             0.4444444444444444,
             "#bd3786"
            ],
            [
             0.5555555555555556,
             "#d8576b"
            ],
            [
             0.6666666666666666,
             "#ed7953"
            ],
            [
             0.7777777777777778,
             "#fb9f3a"
            ],
            [
             0.8888888888888888,
             "#fdca26"
            ],
            [
             1,
             "#f0f921"
            ]
           ]
          },
          "colorway": [
           "#636efa",
           "#EF553B",
           "#00cc96",
           "#ab63fa",
           "#FFA15A",
           "#19d3f3",
           "#FF6692",
           "#B6E880",
           "#FF97FF",
           "#FECB52"
          ],
          "font": {
           "color": "#2a3f5f"
          },
          "geo": {
           "bgcolor": "white",
           "lakecolor": "white",
           "landcolor": "#E5ECF6",
           "showlakes": true,
           "showland": true,
           "subunitcolor": "white"
          },
          "hoverlabel": {
           "align": "left"
          },
          "hovermode": "closest",
          "mapbox": {
           "style": "light"
          },
          "paper_bgcolor": "white",
          "plot_bgcolor": "#E5ECF6",
          "polar": {
           "angularaxis": {
            "gridcolor": "white",
            "linecolor": "white",
            "ticks": ""
           },
           "bgcolor": "#E5ECF6",
           "radialaxis": {
            "gridcolor": "white",
            "linecolor": "white",
            "ticks": ""
           }
          },
          "scene": {
           "xaxis": {
            "backgroundcolor": "#E5ECF6",
            "gridcolor": "white",
            "gridwidth": 2,
            "linecolor": "white",
            "showbackground": true,
            "ticks": "",
            "zerolinecolor": "white"
           },
           "yaxis": {
            "backgroundcolor": "#E5ECF6",
            "gridcolor": "white",
            "gridwidth": 2,
            "linecolor": "white",
            "showbackground": true,
            "ticks": "",
            "zerolinecolor": "white"
           },
           "zaxis": {
            "backgroundcolor": "#E5ECF6",
            "gridcolor": "white",
            "gridwidth": 2,
            "linecolor": "white",
            "showbackground": true,
            "ticks": "",
            "zerolinecolor": "white"
           }
          },
          "shapedefaults": {
           "line": {
            "color": "#2a3f5f"
           }
          },
          "ternary": {
           "aaxis": {
            "gridcolor": "white",
            "linecolor": "white",
            "ticks": ""
           },
           "baxis": {
            "gridcolor": "white",
            "linecolor": "white",
            "ticks": ""
           },
           "bgcolor": "#E5ECF6",
           "caxis": {
            "gridcolor": "white",
            "linecolor": "white",
            "ticks": ""
           }
          },
          "title": {
           "x": 0.05
          },
          "xaxis": {
           "automargin": true,
           "gridcolor": "white",
           "linecolor": "white",
           "ticks": "",
           "title": {
            "standoff": 15
           },
           "zerolinecolor": "white",
           "zerolinewidth": 2
          },
          "yaxis": {
           "automargin": true,
           "gridcolor": "white",
           "linecolor": "white",
           "ticks": "",
           "title": {
            "standoff": 15
           },
           "zerolinecolor": "white",
           "zerolinewidth": 2
          }
         }
        },
        "title": {
         "text": "Tracking Data"
        },
        "updatemenus": [
         {
          "buttons": [
           {
            "args": [
             null,
             {
              "frame": {
               "duration": 500,
               "redraw": false
              },
              "fromcurrent": true,
              "mode": "immediate",
              "transition": {
               "duration": 500,
               "easing": "linear"
              }
             }
            ],
            "label": "&#9654;",
            "method": "animate"
           },
           {
            "args": [
             [
              null
             ],
             {
              "frame": {
               "duration": 0,
               "redraw": false
              },
              "fromcurrent": true,
              "mode": "immediate",
              "transition": {
               "duration": 0,
               "easing": "linear"
              }
             }
            ],
            "label": "&#9724;",
            "method": "animate"
           }
          ],
          "direction": "left",
          "pad": {
           "r": 10,
           "t": 70
          },
          "showactive": false,
          "type": "buttons",
          "x": 0.1,
          "xanchor": "right",
          "y": 0,
          "yanchor": "top"
         }
        ],
        "width": 800,
        "xaxis": {
         "anchor": "y",
         "domain": [
          0,
          1
         ],
         "range": [
          0,
          120
         ],
         "showgrid": false,
         "title": {
          "text": "x"
         }
        },
        "yaxis": {
         "anchor": "x",
         "domain": [
          0,
          1
         ],
         "range": [
          0,
          53.3
         ],
         "showgrid": false,
         "title": {
          "text": "y"
         }
        }
       }
      }
     },
     "metadata": {},
     "output_type": "display_data"
    }
   ],
   "source": [
    "fig = px.scatter(_TrackData, x='x', y='y', animation_frame='frameId', color='club',color_discrete_map=TeamColor, title='Tracking Data', range_x=[0, 120], range_y=[0, 53.3],width=800, height=600)\n",
    "fig.update_xaxes(showgrid=False)\n",
    "fig.update_yaxes(showgrid=False)\n",
    "fig.update_layout(shapes = [dict(type=\"rect\", x0=10, y0=0, x1=110, y1=53.3, line=dict(color=\"green\", width=1),fillcolor=\"green\", opacity=1, layer=\"below\"), \n",
    "                    *[dict(type=\"line\", x0=10*i, y0=0, x1=10*i, y1=53.3, line=dict(color=\"white\", width=2), opacity=1, layer=\"below\") for i in range(12)]],\n",
    "                    )\n"
   ]
  },
  {
   "cell_type": "code",
   "execution_count": 276,
   "metadata": {},
   "outputs": [
    {
     "data": {
      "application/vnd.plotly.v1+json": {
       "config": {
        "plotlyServerURL": "https://plot.ly"
       },
       "data": [
        {
         "hovertemplate": "club=CIN<br>frameId=1<br>x=%{x}<br>y=%{y}<extra></extra>",
         "legendgroup": "CIN",
         "marker": {
          "color": "#636efa",
          "symbol": "circle"
         },
         "mode": "markers",
         "name": "CIN",
         "orientation": "v",
         "showlegend": true,
         "type": "scatter",
         "x": [
          38.61,
          46.33,
          36.09,
          38.85,
          38.75,
          36.44,
          50.39,
          37.85,
          36.28,
          40.03,
          39.54
         ],
         "xaxis": "x",
         "y": [
          14.58,
          21.95,
          26.66,
          31.71,
          40.36,
          31.91,
          29.65,
          26.65,
          22.82,
          26.24,
          27.77
         ],
         "yaxis": "y"
        },
        {
         "hovertemplate": "club=PIT<br>frameId=1<br>x=%{x}<br>y=%{y}<extra></extra>",
         "legendgroup": "PIT",
         "marker": {
          "color": "#EF553B",
          "symbol": "circle"
         },
         "mode": "markers",
         "name": "PIT",
         "orientation": "v",
         "showlegend": true,
         "type": "scatter",
         "x": [
          28.99,
          30.77,
          31.07,
          31.89,
          30.52,
          29.48,
          31.45,
          29.02,
          30.34,
          31.25,
          29.73
         ],
         "xaxis": "x",
         "y": [
          27.54,
          26.39,
          24.99,
          27.04,
          32.45,
          32.41,
          28.37,
          25.36,
          23.65,
          29.42,
          36.98
         ],
         "yaxis": "y"
        },
        {
         "hovertemplate": "club=football<br>frameId=1<br>x=%{x}<br>y=%{y}<extra></extra>",
         "legendgroup": "football",
         "marker": {
          "color": "#00cc96",
          "symbol": "circle"
         },
         "mode": "markers",
         "name": "football",
         "orientation": "v",
         "showlegend": true,
         "type": "scatter",
         "x": [
          34.6800003051758
         ],
         "xaxis": "x",
         "y": [
          26.6800003051758
         ],
         "yaxis": "y"
        }
       ],
       "frames": [
        {
         "data": [
          {
           "hovertemplate": "club=CIN<br>frameId=1<br>x=%{x}<br>y=%{y}<extra></extra>",
           "legendgroup": "CIN",
           "marker": {
            "color": "#636efa",
            "symbol": "circle"
           },
           "mode": "markers",
           "name": "CIN",
           "orientation": "v",
           "showlegend": true,
           "type": "scatter",
           "x": [
            38.61,
            46.33,
            36.09,
            38.85,
            38.75,
            36.44,
            50.39,
            37.85,
            36.28,
            40.03,
            39.54
           ],
           "xaxis": "x",
           "y": [
            14.58,
            21.95,
            26.66,
            31.71,
            40.36,
            31.91,
            29.65,
            26.65,
            22.82,
            26.24,
            27.77
           ],
           "yaxis": "y"
          },
          {
           "hovertemplate": "club=PIT<br>frameId=1<br>x=%{x}<br>y=%{y}<extra></extra>",
           "legendgroup": "PIT",
           "marker": {
            "color": "#EF553B",
            "symbol": "circle"
           },
           "mode": "markers",
           "name": "PIT",
           "orientation": "v",
           "showlegend": true,
           "type": "scatter",
           "x": [
            28.99,
            30.77,
            31.07,
            31.89,
            30.52,
            29.48,
            31.45,
            29.02,
            30.34,
            31.25,
            29.73
           ],
           "xaxis": "x",
           "y": [
            27.54,
            26.39,
            24.99,
            27.04,
            32.45,
            32.41,
            28.37,
            25.36,
            23.65,
            29.42,
            36.98
           ],
           "yaxis": "y"
          },
          {
           "hovertemplate": "club=football<br>frameId=1<br>x=%{x}<br>y=%{y}<extra></extra>",
           "legendgroup": "football",
           "marker": {
            "color": "#00cc96",
            "symbol": "circle"
           },
           "mode": "markers",
           "name": "football",
           "orientation": "v",
           "showlegend": true,
           "type": "scatter",
           "x": [
            34.6800003051758
           ],
           "xaxis": "x",
           "y": [
            26.6800003051758
           ],
           "yaxis": "y"
          }
         ],
         "name": "1"
        },
        {
         "data": [
          {
           "hovertemplate": "club=CIN<br>frameId=2<br>x=%{x}<br>y=%{y}<extra></extra>",
           "legendgroup": "CIN",
           "marker": {
            "color": "#636efa",
            "symbol": "circle"
           },
           "mode": "markers",
           "name": "CIN",
           "orientation": "v",
           "showlegend": true,
           "type": "scatter",
           "x": [
            38.64,
            46.33,
            36.09,
            38.88,
            38.76,
            36.44,
            50.31,
            37.85,
            36.28,
            40.02,
            39.54
           ],
           "xaxis": "x",
           "y": [
            14.61,
            21.94,
            26.66,
            32.02,
            40.49,
            31.91,
            29.72,
            26.64,
            22.82,
            26.21,
            27.77
           ],
           "yaxis": "y"
          },
          {
           "hovertemplate": "club=PIT<br>frameId=2<br>x=%{x}<br>y=%{y}<extra></extra>",
           "legendgroup": "PIT",
           "marker": {
            "color": "#EF553B",
            "symbol": "circle"
           },
           "mode": "markers",
           "name": "PIT",
           "orientation": "v",
           "showlegend": true,
           "type": "scatter",
           "x": [
            29,
            30.96,
            31.19,
            32.12,
            30.67,
            29.63,
            31.68,
            29.03,
            30.55,
            31.43,
            29.9
           ],
           "xaxis": "x",
           "y": [
            27.47,
            26.31,
            24.91,
            27.02,
            32.71,
            32.75,
            28.41,
            25.26,
            23.52,
            29.49,
            37.38
           ],
           "yaxis": "y"
          },
          {
           "hovertemplate": "club=football<br>frameId=2<br>x=%{x}<br>y=%{y}<extra></extra>",
           "legendgroup": "football",
           "marker": {
            "color": "#00cc96",
            "symbol": "circle"
           },
           "mode": "markers",
           "name": "football",
           "orientation": "v",
           "showlegend": true,
           "type": "scatter",
           "x": [
            34.6800003051758
           ],
           "xaxis": "x",
           "y": [
            26.6800003051758
           ],
           "yaxis": "y"
          }
         ],
         "name": "2"
        },
        {
         "data": [
          {
           "hovertemplate": "club=CIN<br>frameId=3<br>x=%{x}<br>y=%{y}<extra></extra>",
           "legendgroup": "CIN",
           "marker": {
            "color": "#636efa",
            "symbol": "circle"
           },
           "mode": "markers",
           "name": "CIN",
           "orientation": "v",
           "showlegend": true,
           "type": "scatter",
           "x": [
            38.68,
            46.32,
            36.09,
            38.9,
            38.76,
            36.44,
            50.22,
            37.85,
            36.29,
            40,
            39.54
           ],
           "xaxis": "x",
           "y": [
            14.65,
            21.92,
            26.66,
            32.32,
            40.61,
            31.91,
            29.79,
            26.63,
            22.82,
            26.17,
            27.77
           ],
           "yaxis": "y"
          },
          {
           "hovertemplate": "club=PIT<br>frameId=3<br>x=%{x}<br>y=%{y}<extra></extra>",
           "legendgroup": "PIT",
           "marker": {
            "color": "#EF553B",
            "symbol": "circle"
           },
           "mode": "markers",
           "name": "PIT",
           "orientation": "v",
           "showlegend": true,
           "type": "scatter",
           "x": [
            29.02,
            31.15,
            31.31,
            32.34,
            30.81,
            29.8,
            31.88,
            29.04,
            30.76,
            31.61,
            30.07
           ],
           "xaxis": "x",
           "y": [
            27.4,
            26.23,
            24.83,
            27.01,
            32.97,
            33.07,
            28.45,
            25.16,
            23.41,
            29.55,
            37.77
           ],
           "yaxis": "y"
          },
          {
           "hovertemplate": "club=football<br>frameId=3<br>x=%{x}<br>y=%{y}<extra></extra>",
           "legendgroup": "football",
           "marker": {
            "color": "#00cc96",
            "symbol": "circle"
           },
           "mode": "markers",
           "name": "football",
           "orientation": "v",
           "showlegend": true,
           "type": "scatter",
           "x": [
            34.6800003051758
           ],
           "xaxis": "x",
           "y": [
            26.6800003051758
           ],
           "yaxis": "y"
          }
         ],
         "name": "3"
        },
        {
         "data": [
          {
           "hovertemplate": "club=CIN<br>frameId=4<br>x=%{x}<br>y=%{y}<extra></extra>",
           "legendgroup": "CIN",
           "marker": {
            "color": "#636efa",
            "symbol": "circle"
           },
           "mode": "markers",
           "name": "CIN",
           "orientation": "v",
           "showlegend": true,
           "type": "scatter",
           "x": [
            38.71,
            46.32,
            36.08,
            38.93,
            38.76,
            36.44,
            50.12,
            37.84,
            36.29,
            39.98,
            39.54
           ],
           "xaxis": "x",
           "y": [
            14.7,
            21.92,
            26.66,
            32.63,
            40.73,
            31.91,
            29.86,
            26.63,
            22.83,
            26.15,
            27.77
           ],
           "yaxis": "y"
          },
          {
           "hovertemplate": "club=PIT<br>frameId=4<br>x=%{x}<br>y=%{y}<extra></extra>",
           "legendgroup": "PIT",
           "marker": {
            "color": "#EF553B",
            "symbol": "circle"
           },
           "mode": "markers",
           "name": "PIT",
           "orientation": "v",
           "showlegend": true,
           "type": "scatter",
           "x": [
            29.05,
            31.35,
            31.43,
            32.55,
            30.95,
            29.97,
            32.07,
            29.04,
            30.95,
            31.78,
            30.24
           ],
           "xaxis": "x",
           "y": [
            27.33,
            26.15,
            24.76,
            27,
            33.23,
            33.39,
            28.47,
            25.05,
            23.31,
            29.6,
            38.14
           ],
           "yaxis": "y"
          },
          {
           "hovertemplate": "club=football<br>frameId=4<br>x=%{x}<br>y=%{y}<extra></extra>",
           "legendgroup": "football",
           "marker": {
            "color": "#00cc96",
            "symbol": "circle"
           },
           "mode": "markers",
           "name": "football",
           "orientation": "v",
           "showlegend": true,
           "type": "scatter",
           "x": [
            34.6800003051758
           ],
           "xaxis": "x",
           "y": [
            26.6800003051758
           ],
           "yaxis": "y"
          }
         ],
         "name": "4"
        },
        {
         "data": [
          {
           "hovertemplate": "club=CIN<br>frameId=5<br>x=%{x}<br>y=%{y}<extra></extra>",
           "legendgroup": "CIN",
           "marker": {
            "color": "#636efa",
            "symbol": "circle"
           },
           "mode": "markers",
           "name": "CIN",
           "orientation": "v",
           "showlegend": true,
           "type": "scatter",
           "x": [
            38.74,
            46.33,
            36.08,
            38.95,
            38.75,
            36.44,
            50.02,
            37.83,
            36.29,
            39.96,
            39.54
           ],
           "xaxis": "x",
           "y": [
            14.76,
            21.92,
            26.66,
            32.93,
            40.85,
            31.91,
            29.94,
            26.63,
            22.83,
            26.13,
            27.77
           ],
           "yaxis": "y"
          },
          {
           "hovertemplate": "club=PIT<br>frameId=5<br>x=%{x}<br>y=%{y}<extra></extra>",
           "legendgroup": "PIT",
           "marker": {
            "color": "#EF553B",
            "symbol": "circle"
           },
           "mode": "markers",
           "name": "PIT",
           "orientation": "v",
           "showlegend": true,
           "type": "scatter",
           "x": [
            29.07,
            31.54,
            31.55,
            32.75,
            31.09,
            30.13,
            32.25,
            29.04,
            31.14,
            31.95,
            30.41
           ],
           "xaxis": "x",
           "y": [
            27.25,
            26.08,
            24.68,
            27,
            33.49,
            33.69,
            28.49,
            24.95,
            23.21,
            29.64,
            38.51
           ],
           "yaxis": "y"
          },
          {
           "hovertemplate": "club=football<br>frameId=5<br>x=%{x}<br>y=%{y}<extra></extra>",
           "legendgroup": "football",
           "marker": {
            "color": "#00cc96",
            "symbol": "circle"
           },
           "mode": "markers",
           "name": "football",
           "orientation": "v",
           "showlegend": true,
           "type": "scatter",
           "x": [
            34.6800003051758
           ],
           "xaxis": "x",
           "y": [
            26.6800003051758
           ],
           "yaxis": "y"
          }
         ],
         "name": "5"
        },
        {
         "data": [
          {
           "hovertemplate": "club=CIN<br>frameId=6<br>x=%{x}<br>y=%{y}<extra></extra>",
           "legendgroup": "CIN",
           "marker": {
            "color": "#636efa",
            "symbol": "circle"
           },
           "mode": "markers",
           "name": "CIN",
           "orientation": "v",
           "showlegend": true,
           "type": "scatter",
           "x": [
            38.77,
            46.32,
            36.08,
            38.98,
            38.75,
            36.44,
            49.92,
            37.8,
            36.29,
            39.94,
            39.55
           ],
           "xaxis": "x",
           "y": [
            14.83,
            21.91,
            26.67,
            33.24,
            40.97,
            31.91,
            30.02,
            26.62,
            22.82,
            26.11,
            27.78
           ],
           "yaxis": "y"
          },
          {
           "hovertemplate": "club=PIT<br>frameId=6<br>x=%{x}<br>y=%{y}<extra></extra>",
           "legendgroup": "PIT",
           "marker": {
            "color": "#EF553B",
            "symbol": "circle"
           },
           "mode": "markers",
           "name": "PIT",
           "orientation": "v",
           "showlegend": true,
           "type": "scatter",
           "x": [
            29.09,
            31.73,
            31.67,
            32.95,
            31.23,
            30.29,
            32.42,
            29.03,
            31.32,
            32.1,
            30.58
           ],
           "xaxis": "x",
           "y": [
            27.18,
            26,
            24.61,
            27,
            33.74,
            33.98,
            28.5,
            24.86,
            23.12,
            29.67,
            38.86
           ],
           "yaxis": "y"
          },
          {
           "hovertemplate": "club=football<br>frameId=6<br>x=%{x}<br>y=%{y}<extra></extra>",
           "legendgroup": "football",
           "marker": {
            "color": "#00cc96",
            "symbol": "circle"
           },
           "mode": "markers",
           "name": "football",
           "orientation": "v",
           "showlegend": true,
           "type": "scatter",
           "x": [
            34.689998626709
           ],
           "xaxis": "x",
           "y": [
            26.6800003051758
           ],
           "yaxis": "y"
          }
         ],
         "name": "6"
        },
        {
         "data": [
          {
           "hovertemplate": "club=CIN<br>frameId=7<br>x=%{x}<br>y=%{y}<extra></extra>",
           "legendgroup": "CIN",
           "marker": {
            "color": "#636efa",
            "symbol": "circle"
           },
           "mode": "markers",
           "name": "CIN",
           "orientation": "v",
           "showlegend": true,
           "type": "scatter",
           "x": [
            38.8,
            46.33,
            36.07,
            39,
            38.74,
            36.44,
            49.81,
            37.79,
            36.29,
            39.92,
            39.55
           ],
           "xaxis": "x",
           "y": [
            14.9,
            21.92,
            26.67,
            33.54,
            41.09,
            31.91,
            30.11,
            26.6,
            22.83,
            26.1,
            27.8
           ],
           "yaxis": "y"
          },
          {
           "hovertemplate": "club=PIT<br>frameId=7<br>x=%{x}<br>y=%{y}<extra></extra>",
           "legendgroup": "PIT",
           "marker": {
            "color": "#EF553B",
            "symbol": "circle"
           },
           "mode": "markers",
           "name": "PIT",
           "orientation": "v",
           "showlegend": true,
           "type": "scatter",
           "x": [
            29.12,
            31.9,
            31.79,
            33.13,
            31.35,
            30.44,
            32.56,
            29.04,
            31.5,
            32.25,
            30.75
           ],
           "xaxis": "x",
           "y": [
            27.11,
            25.93,
            24.55,
            26.99,
            33.99,
            34.26,
            28.5,
            24.77,
            23.04,
            29.7,
            39.2
           ],
           "yaxis": "y"
          },
          {
           "hovertemplate": "club=football<br>frameId=7<br>x=%{x}<br>y=%{y}<extra></extra>",
           "legendgroup": "football",
           "marker": {
            "color": "#00cc96",
            "symbol": "circle"
           },
           "mode": "markers",
           "name": "football",
           "orientation": "v",
           "showlegend": true,
           "type": "scatter",
           "x": [
            34.689998626709
           ],
           "xaxis": "x",
           "y": [
            26.6800003051758
           ],
           "yaxis": "y"
          }
         ],
         "name": "7"
        },
        {
         "data": [
          {
           "hovertemplate": "club=CIN<br>frameId=8<br>x=%{x}<br>y=%{y}<extra></extra>",
           "legendgroup": "CIN",
           "marker": {
            "color": "#636efa",
            "symbol": "circle"
           },
           "mode": "markers",
           "name": "CIN",
           "orientation": "v",
           "showlegend": true,
           "type": "scatter",
           "x": [
            38.83,
            46.33,
            36.07,
            39.02,
            38.72,
            36.44,
            49.71,
            37.76,
            36.29,
            39.9,
            39.55
           ],
           "xaxis": "x",
           "y": [
            14.99,
            21.92,
            26.69,
            33.83,
            41.2,
            31.91,
            30.2,
            26.58,
            22.83,
            26.11,
            27.81
           ],
           "yaxis": "y"
          },
          {
           "hovertemplate": "club=PIT<br>frameId=8<br>x=%{x}<br>y=%{y}<extra></extra>",
           "legendgroup": "PIT",
           "marker": {
            "color": "#EF553B",
            "symbol": "circle"
           },
           "mode": "markers",
           "name": "PIT",
           "orientation": "v",
           "showlegend": true,
           "type": "scatter",
           "x": [
            29.14,
            32.07,
            31.92,
            33.29,
            31.47,
            30.59,
            32.7,
            29.04,
            31.66,
            32.39,
            30.92
           ],
           "xaxis": "x",
           "y": [
            27.05,
            25.86,
            24.48,
            26.98,
            34.23,
            34.51,
            28.5,
            24.69,
            22.96,
            29.72,
            39.52
           ],
           "yaxis": "y"
          },
          {
           "hovertemplate": "club=football<br>frameId=8<br>x=%{x}<br>y=%{y}<extra></extra>",
           "legendgroup": "football",
           "marker": {
            "color": "#00cc96",
            "symbol": "circle"
           },
           "mode": "markers",
           "name": "football",
           "orientation": "v",
           "showlegend": true,
           "type": "scatter",
           "x": [
            34.6800003051758
           ],
           "xaxis": "x",
           "y": [
            26.6800003051758
           ],
           "yaxis": "y"
          }
         ],
         "name": "8"
        },
        {
         "data": [
          {
           "hovertemplate": "club=CIN<br>frameId=9<br>x=%{x}<br>y=%{y}<extra></extra>",
           "legendgroup": "CIN",
           "marker": {
            "color": "#636efa",
            "symbol": "circle"
           },
           "mode": "markers",
           "name": "CIN",
           "orientation": "v",
           "showlegend": true,
           "type": "scatter",
           "x": [
            38.85,
            46.34,
            36.07,
            39.03,
            38.7,
            36.44,
            49.6,
            37.73,
            36.29,
            39.87,
            39.55
           ],
           "xaxis": "x",
           "y": [
            15.08,
            21.93,
            26.69,
            34.12,
            41.31,
            31.91,
            30.28,
            26.55,
            22.83,
            26.11,
            27.82
           ],
           "yaxis": "y"
          },
          {
           "hovertemplate": "club=PIT<br>frameId=9<br>x=%{x}<br>y=%{y}<extra></extra>",
           "legendgroup": "PIT",
           "marker": {
            "color": "#EF553B",
            "symbol": "circle"
           },
           "mode": "markers",
           "name": "PIT",
           "orientation": "v",
           "showlegend": true,
           "type": "scatter",
           "x": [
            29.16,
            32.21,
            32.04,
            33.44,
            31.59,
            30.73,
            32.82,
            29.04,
            31.83,
            32.52,
            31.08
           ],
           "xaxis": "x",
           "y": [
            26.99,
            25.8,
            24.42,
            26.97,
            34.47,
            34.75,
            28.49,
            24.62,
            22.89,
            29.76,
            39.83
           ],
           "yaxis": "y"
          },
          {
           "hovertemplate": "club=football<br>frameId=9<br>x=%{x}<br>y=%{y}<extra></extra>",
           "legendgroup": "football",
           "marker": {
            "color": "#00cc96",
            "symbol": "circle"
           },
           "mode": "markers",
           "name": "football",
           "orientation": "v",
           "showlegend": true,
           "type": "scatter",
           "x": [
            34.689998626709
           ],
           "xaxis": "x",
           "y": [
            26.6800003051758
           ],
           "yaxis": "y"
          }
         ],
         "name": "9"
        },
        {
         "data": [
          {
           "hovertemplate": "club=CIN<br>frameId=10<br>x=%{x}<br>y=%{y}<extra></extra>",
           "legendgroup": "CIN",
           "marker": {
            "color": "#636efa",
            "symbol": "circle"
           },
           "mode": "markers",
           "name": "CIN",
           "orientation": "v",
           "showlegend": true,
           "type": "scatter",
           "x": [
            38.88,
            46.34,
            36.07,
            39.05,
            38.67,
            36.44,
            49.49,
            37.7,
            36.3,
            39.85,
            39.55
           ],
           "xaxis": "x",
           "y": [
            15.18,
            21.93,
            26.7,
            34.4,
            41.42,
            31.9,
            30.36,
            26.5,
            22.83,
            26.12,
            27.83
           ],
           "yaxis": "y"
          },
          {
           "hovertemplate": "club=PIT<br>frameId=10<br>x=%{x}<br>y=%{y}<extra></extra>",
           "legendgroup": "PIT",
           "marker": {
            "color": "#EF553B",
            "symbol": "circle"
           },
           "mode": "markers",
           "name": "PIT",
           "orientation": "v",
           "showlegend": true,
           "type": "scatter",
           "x": [
            29.18,
            32.34,
            32.16,
            33.57,
            31.7,
            30.86,
            32.94,
            29.06,
            31.98,
            32.65,
            31.23
           ],
           "xaxis": "x",
           "y": [
            26.93,
            25.73,
            24.37,
            26.95,
            34.7,
            34.96,
            28.47,
            24.56,
            22.82,
            29.81,
            40.11
           ],
           "yaxis": "y"
          },
          {
           "hovertemplate": "club=football<br>frameId=10<br>x=%{x}<br>y=%{y}<extra></extra>",
           "legendgroup": "football",
           "marker": {
            "color": "#00cc96",
            "symbol": "circle"
           },
           "mode": "markers",
           "name": "football",
           "orientation": "v",
           "showlegend": true,
           "type": "scatter",
           "x": [
            34.6800003051758
           ],
           "xaxis": "x",
           "y": [
            26.6900005340576
           ],
           "yaxis": "y"
          }
         ],
         "name": "10"
        },
        {
         "data": [
          {
           "hovertemplate": "club=CIN<br>frameId=11<br>x=%{x}<br>y=%{y}<extra></extra>",
           "legendgroup": "CIN",
           "marker": {
            "color": "#636efa",
            "symbol": "circle"
           },
           "mode": "markers",
           "name": "CIN",
           "orientation": "v",
           "showlegend": true,
           "type": "scatter",
           "x": [
            38.91,
            46.34,
            36.06,
            39.06,
            38.62,
            36.44,
            49.39,
            37.66,
            36.29,
            39.83,
            39.55
           ],
           "xaxis": "x",
           "y": [
            15.28,
            21.93,
            26.72,
            34.67,
            41.52,
            31.9,
            30.44,
            26.46,
            22.82,
            26.13,
            27.84
           ],
           "yaxis": "y"
          },
          {
           "hovertemplate": "club=PIT<br>frameId=11<br>x=%{x}<br>y=%{y}<extra></extra>",
           "legendgroup": "PIT",
           "marker": {
            "color": "#EF553B",
            "symbol": "circle"
           },
           "mode": "markers",
           "name": "PIT",
           "orientation": "v",
           "showlegend": true,
           "type": "scatter",
           "x": [
            29.2,
            32.46,
            32.27,
            33.68,
            31.81,
            30.99,
            33.05,
            29.07,
            32.13,
            32.77,
            31.38
           ],
           "xaxis": "x",
           "y": [
            26.88,
            25.69,
            24.31,
            26.92,
            34.93,
            35.15,
            28.44,
            24.52,
            22.76,
            29.85,
            40.39
           ],
           "yaxis": "y"
          },
          {
           "hovertemplate": "club=football<br>frameId=11<br>x=%{x}<br>y=%{y}<extra></extra>",
           "legendgroup": "football",
           "marker": {
            "color": "#00cc96",
            "symbol": "circle"
           },
           "mode": "markers",
           "name": "football",
           "orientation": "v",
           "showlegend": true,
           "type": "scatter",
           "x": [
            34.6800003051758
           ],
           "xaxis": "x",
           "y": [
            26.6900005340576
           ],
           "yaxis": "y"
          }
         ],
         "name": "11"
        },
        {
         "data": [
          {
           "hovertemplate": "club=CIN<br>frameId=12<br>x=%{x}<br>y=%{y}<extra></extra>",
           "legendgroup": "CIN",
           "marker": {
            "color": "#636efa",
            "symbol": "circle"
           },
           "mode": "markers",
           "name": "CIN",
           "orientation": "v",
           "showlegend": true,
           "type": "scatter",
           "x": [
            38.94,
            46.34,
            36.06,
            39.07,
            38.57,
            36.44,
            49.29,
            37.63,
            36.29,
            39.81,
            39.55
           ],
           "xaxis": "x",
           "y": [
            15.38,
            21.93,
            26.74,
            34.94,
            41.63,
            31.9,
            30.53,
            26.4,
            22.82,
            26.12,
            27.86
           ],
           "yaxis": "y"
          },
          {
           "hovertemplate": "club=PIT<br>frameId=12<br>x=%{x}<br>y=%{y}<extra></extra>",
           "legendgroup": "PIT",
           "marker": {
            "color": "#EF553B",
            "symbol": "circle"
           },
           "mode": "markers",
           "name": "PIT",
           "orientation": "v",
           "showlegend": true,
           "type": "scatter",
           "x": [
            29.22,
            32.57,
            32.39,
            33.77,
            31.92,
            31.11,
            33.15,
            29.1,
            32.27,
            32.88,
            31.53
           ],
           "xaxis": "x",
           "y": [
            26.83,
            25.66,
            24.25,
            26.9,
            35.15,
            35.31,
            28.41,
            24.49,
            22.71,
            29.89,
            40.64
           ],
           "yaxis": "y"
          },
          {
           "hovertemplate": "club=football<br>frameId=12<br>x=%{x}<br>y=%{y}<extra></extra>",
           "legendgroup": "football",
           "marker": {
            "color": "#00cc96",
            "symbol": "circle"
           },
           "mode": "markers",
           "name": "football",
           "orientation": "v",
           "showlegend": true,
           "type": "scatter",
           "x": [
            34.6800003051758
           ],
           "xaxis": "x",
           "y": [
            26.6900005340576
           ],
           "yaxis": "y"
          }
         ],
         "name": "12"
        },
        {
         "data": [
          {
           "hovertemplate": "club=CIN<br>frameId=13<br>x=%{x}<br>y=%{y}<extra></extra>",
           "legendgroup": "CIN",
           "marker": {
            "color": "#636efa",
            "symbol": "circle"
           },
           "mode": "markers",
           "name": "CIN",
           "orientation": "v",
           "showlegend": true,
           "type": "scatter",
           "x": [
            38.99,
            46.34,
            36.06,
            39.08,
            38.5,
            36.44,
            49.18,
            37.58,
            36.29,
            39.8,
            39.55
           ],
           "xaxis": "x",
           "y": [
            15.49,
            21.94,
            26.76,
            35.2,
            41.72,
            31.9,
            30.61,
            26.34,
            22.83,
            26.12,
            27.87
           ],
           "yaxis": "y"
          },
          {
           "hovertemplate": "club=PIT<br>frameId=13<br>x=%{x}<br>y=%{y}<extra></extra>",
           "legendgroup": "PIT",
           "marker": {
            "color": "#EF553B",
            "symbol": "circle"
           },
           "mode": "markers",
           "name": "PIT",
           "orientation": "v",
           "showlegend": true,
           "type": "scatter",
           "x": [
            29.24,
            32.68,
            32.5,
            33.85,
            32.03,
            31.23,
            33.24,
            29.12,
            32.4,
            32.99,
            31.67
           ],
           "xaxis": "x",
           "y": [
            26.79,
            25.63,
            24.18,
            26.87,
            35.37,
            35.44,
            28.38,
            24.46,
            22.67,
            29.92,
            40.89
           ],
           "yaxis": "y"
          },
          {
           "hovertemplate": "club=football<br>frameId=13<br>x=%{x}<br>y=%{y}<extra></extra>",
           "legendgroup": "football",
           "marker": {
            "color": "#00cc96",
            "symbol": "circle"
           },
           "mode": "markers",
           "name": "football",
           "orientation": "v",
           "showlegend": true,
           "type": "scatter",
           "x": [
            34.6800003051758
           ],
           "xaxis": "x",
           "y": [
            26.6900005340576
           ],
           "yaxis": "y"
          }
         ],
         "name": "13"
        },
        {
         "data": [
          {
           "hovertemplate": "club=CIN<br>frameId=14<br>x=%{x}<br>y=%{y}<extra></extra>",
           "legendgroup": "CIN",
           "marker": {
            "color": "#636efa",
            "symbol": "circle"
           },
           "mode": "markers",
           "name": "CIN",
           "orientation": "v",
           "showlegend": true,
           "type": "scatter",
           "x": [
            39.03,
            46.34,
            36.05,
            39.09,
            38.42,
            36.44,
            49.08,
            37.54,
            36.28,
            39.79,
            39.54
           ],
           "xaxis": "x",
           "y": [
            15.6,
            21.94,
            26.77,
            35.45,
            41.81,
            31.9,
            30.69,
            26.26,
            22.83,
            26.1,
            27.9
           ],
           "yaxis": "y"
          },
          {
           "hovertemplate": "club=PIT<br>frameId=14<br>x=%{x}<br>y=%{y}<extra></extra>",
           "legendgroup": "PIT",
           "marker": {
            "color": "#EF553B",
            "symbol": "circle"
           },
           "mode": "markers",
           "name": "PIT",
           "orientation": "v",
           "showlegend": true,
           "type": "scatter",
           "x": [
            29.26,
            32.77,
            32.61,
            33.91,
            32.14,
            31.34,
            33.32,
            29.15,
            32.54,
            33.08,
            31.81
           ],
           "xaxis": "x",
           "y": [
            26.75,
            25.6,
            24.13,
            26.86,
            35.57,
            35.56,
            28.36,
            24.44,
            22.64,
            29.95,
            41.11
           ],
           "yaxis": "y"
          },
          {
           "hovertemplate": "club=football<br>frameId=14<br>x=%{x}<br>y=%{y}<extra></extra>",
           "legendgroup": "football",
           "marker": {
            "color": "#00cc96",
            "symbol": "circle"
           },
           "mode": "markers",
           "name": "football",
           "orientation": "v",
           "showlegend": true,
           "type": "scatter",
           "x": [
            34.6800003051758
           ],
           "xaxis": "x",
           "y": [
            26.6900005340576
           ],
           "yaxis": "y"
          }
         ],
         "name": "14"
        },
        {
         "data": [
          {
           "hovertemplate": "club=CIN<br>frameId=15<br>x=%{x}<br>y=%{y}<extra></extra>",
           "legendgroup": "CIN",
           "marker": {
            "color": "#636efa",
            "symbol": "circle"
           },
           "mode": "markers",
           "name": "CIN",
           "orientation": "v",
           "showlegend": true,
           "type": "scatter",
           "x": [
            39.08,
            46.34,
            36.05,
            39.1,
            38.34,
            36.44,
            48.97,
            37.49,
            36.28,
            39.77,
            39.54
           ],
           "xaxis": "x",
           "y": [
            15.7,
            21.94,
            26.79,
            35.68,
            41.9,
            31.9,
            30.77,
            26.16,
            22.83,
            26.08,
            27.91
           ],
           "yaxis": "y"
          },
          {
           "hovertemplate": "club=PIT<br>frameId=15<br>x=%{x}<br>y=%{y}<extra></extra>",
           "legendgroup": "PIT",
           "marker": {
            "color": "#EF553B",
            "symbol": "circle"
           },
           "mode": "markers",
           "name": "PIT",
           "orientation": "v",
           "showlegend": true,
           "type": "scatter",
           "x": [
            29.28,
            32.86,
            32.71,
            33.95,
            32.25,
            31.46,
            33.4,
            29.18,
            32.66,
            33.17,
            31.94
           ],
           "xaxis": "x",
           "y": [
            26.72,
            25.58,
            24.08,
            26.86,
            35.77,
            35.65,
            28.34,
            24.42,
            22.61,
            29.96,
            41.33
           ],
           "yaxis": "y"
          },
          {
           "hovertemplate": "club=football<br>frameId=15<br>x=%{x}<br>y=%{y}<extra></extra>",
           "legendgroup": "football",
           "marker": {
            "color": "#00cc96",
            "symbol": "circle"
           },
           "mode": "markers",
           "name": "football",
           "orientation": "v",
           "showlegend": true,
           "type": "scatter",
           "x": [
            34.6800003051758
           ],
           "xaxis": "x",
           "y": [
            26.7000007629395
           ],
           "yaxis": "y"
          }
         ],
         "name": "15"
        },
        {
         "data": [
          {
           "hovertemplate": "club=CIN<br>frameId=16<br>x=%{x}<br>y=%{y}<extra></extra>",
           "legendgroup": "CIN",
           "marker": {
            "color": "#636efa",
            "symbol": "circle"
           },
           "mode": "markers",
           "name": "CIN",
           "orientation": "v",
           "showlegend": true,
           "type": "scatter",
           "x": [
            39.13,
            46.35,
            36.04,
            39.11,
            38.25,
            36.44,
            48.86,
            37.42,
            36.28,
            39.76,
            39.54
           ],
           "xaxis": "x",
           "y": [
            15.81,
            21.94,
            26.81,
            35.92,
            41.98,
            31.9,
            30.85,
            26.07,
            22.84,
            26.06,
            27.95
           ],
           "yaxis": "y"
          },
          {
           "hovertemplate": "club=PIT<br>frameId=16<br>x=%{x}<br>y=%{y}<extra></extra>",
           "legendgroup": "PIT",
           "marker": {
            "color": "#EF553B",
            "symbol": "circle"
           },
           "mode": "markers",
           "name": "PIT",
           "orientation": "v",
           "showlegend": true,
           "type": "scatter",
           "x": [
            29.3,
            32.95,
            32.81,
            33.98,
            32.36,
            31.57,
            33.46,
            29.21,
            32.79,
            33.25,
            32.07
           ],
           "xaxis": "x",
           "y": [
            26.7,
            25.56,
            24.03,
            26.85,
            35.96,
            35.73,
            28.33,
            24.4,
            22.59,
            29.96,
            41.53
           ],
           "yaxis": "y"
          },
          {
           "hovertemplate": "club=football<br>frameId=16<br>x=%{x}<br>y=%{y}<extra></extra>",
           "legendgroup": "football",
           "marker": {
            "color": "#00cc96",
            "symbol": "circle"
           },
           "mode": "markers",
           "name": "football",
           "orientation": "v",
           "showlegend": true,
           "type": "scatter",
           "x": [
            34.6800003051758
           ],
           "xaxis": "x",
           "y": [
            26.7000007629395
           ],
           "yaxis": "y"
          }
         ],
         "name": "16"
        },
        {
         "data": [
          {
           "hovertemplate": "club=CIN<br>frameId=17<br>x=%{x}<br>y=%{y}<extra></extra>",
           "legendgroup": "CIN",
           "marker": {
            "color": "#636efa",
            "symbol": "circle"
           },
           "mode": "markers",
           "name": "CIN",
           "orientation": "v",
           "showlegend": true,
           "type": "scatter",
           "x": [
            39.17,
            46.35,
            36.04,
            39.13,
            38.17,
            36.44,
            48.74,
            37.35,
            36.27,
            39.75,
            39.53
           ],
           "xaxis": "x",
           "y": [
            15.92,
            21.94,
            26.82,
            36.13,
            42.07,
            31.9,
            30.93,
            25.96,
            22.84,
            26.03,
            28.02
           ],
           "yaxis": "y"
          },
          {
           "hovertemplate": "club=PIT<br>frameId=17<br>x=%{x}<br>y=%{y}<extra></extra>",
           "legendgroup": "PIT",
           "marker": {
            "color": "#EF553B",
            "symbol": "circle"
           },
           "mode": "markers",
           "name": "PIT",
           "orientation": "v",
           "showlegend": true,
           "type": "scatter",
           "x": [
            29.32,
            33.02,
            32.89,
            34.01,
            32.47,
            31.67,
            33.52,
            29.24,
            32.9,
            33.31,
            32.2
           ],
           "xaxis": "x",
           "y": [
            26.69,
            25.53,
            23.99,
            26.85,
            36.13,
            35.79,
            28.33,
            24.39,
            22.58,
            29.96,
            41.72
           ],
           "yaxis": "y"
          },
          {
           "hovertemplate": "club=football<br>frameId=17<br>x=%{x}<br>y=%{y}<extra></extra>",
           "legendgroup": "football",
           "marker": {
            "color": "#00cc96",
            "symbol": "circle"
           },
           "mode": "markers",
           "name": "football",
           "orientation": "v",
           "showlegend": true,
           "type": "scatter",
           "x": [
            34.6800003051758
           ],
           "xaxis": "x",
           "y": [
            26.7000007629395
           ],
           "yaxis": "y"
          }
         ],
         "name": "17"
        },
        {
         "data": [
          {
           "hovertemplate": "club=CIN<br>frameId=18<br>x=%{x}<br>y=%{y}<extra></extra>",
           "legendgroup": "CIN",
           "marker": {
            "color": "#636efa",
            "symbol": "circle"
           },
           "mode": "markers",
           "name": "CIN",
           "orientation": "v",
           "showlegend": true,
           "type": "scatter",
           "x": [
            39.21,
            46.35,
            36.03,
            39.14,
            38.08,
            36.44,
            48.62,
            37.27,
            36.27,
            39.75,
            39.51
           ],
           "xaxis": "x",
           "y": [
            16.04,
            21.94,
            26.85,
            36.34,
            42.15,
            31.9,
            31,
            25.86,
            22.85,
            26.01,
            28.13
           ],
           "yaxis": "y"
          },
          {
           "hovertemplate": "club=PIT<br>frameId=18<br>x=%{x}<br>y=%{y}<extra></extra>",
           "legendgroup": "PIT",
           "marker": {
            "color": "#EF553B",
            "symbol": "circle"
           },
           "mode": "markers",
           "name": "PIT",
           "orientation": "v",
           "showlegend": true,
           "type": "scatter",
           "x": [
            29.34,
            33.09,
            32.97,
            34.02,
            32.57,
            31.77,
            33.56,
            29.27,
            33.01,
            33.37,
            32.32
           ],
           "xaxis": "x",
           "y": [
            26.69,
            25.5,
            23.97,
            26.85,
            36.3,
            35.85,
            28.33,
            24.37,
            22.57,
            29.96,
            41.9
           ],
           "yaxis": "y"
          },
          {
           "hovertemplate": "club=football<br>frameId=18<br>x=%{x}<br>y=%{y}<extra></extra>",
           "legendgroup": "football",
           "marker": {
            "color": "#00cc96",
            "symbol": "circle"
           },
           "mode": "markers",
           "name": "football",
           "orientation": "v",
           "showlegend": true,
           "type": "scatter",
           "x": [
            34.6800003051758
           ],
           "xaxis": "x",
           "y": [
            26.7099990844727
           ],
           "yaxis": "y"
          }
         ],
         "name": "18"
        },
        {
         "data": [
          {
           "hovertemplate": "club=CIN<br>frameId=19<br>x=%{x}<br>y=%{y}<extra></extra>",
           "legendgroup": "CIN",
           "marker": {
            "color": "#636efa",
            "symbol": "circle"
           },
           "mode": "markers",
           "name": "CIN",
           "orientation": "v",
           "showlegend": true,
           "type": "scatter",
           "x": [
            39.25,
            46.35,
            36.01,
            39.15,
            38,
            36.44,
            48.5,
            37.2,
            36.27,
            39.75,
            39.5
           ],
           "xaxis": "x",
           "y": [
            16.15,
            21.94,
            26.91,
            36.53,
            42.24,
            31.9,
            31.07,
            25.75,
            22.85,
            26,
            28.28
           ],
           "yaxis": "y"
          },
          {
           "hovertemplate": "club=PIT<br>frameId=19<br>x=%{x}<br>y=%{y}<extra></extra>",
           "legendgroup": "PIT",
           "marker": {
            "color": "#EF553B",
            "symbol": "circle"
           },
           "mode": "markers",
           "name": "PIT",
           "orientation": "v",
           "showlegend": true,
           "type": "scatter",
           "x": [
            29.35,
            33.16,
            33.04,
            34.04,
            32.66,
            31.87,
            33.61,
            29.3,
            33.11,
            33.4,
            32.45
           ],
           "xaxis": "x",
           "y": [
            26.7,
            25.47,
            23.95,
            26.86,
            36.45,
            35.89,
            28.34,
            24.36,
            22.56,
            29.97,
            42.07
           ],
           "yaxis": "y"
          },
          {
           "hovertemplate": "club=football<br>frameId=19<br>x=%{x}<br>y=%{y}<extra></extra>",
           "legendgroup": "football",
           "marker": {
            "color": "#00cc96",
            "symbol": "circle"
           },
           "mode": "markers",
           "name": "football",
           "orientation": "v",
           "showlegend": true,
           "type": "scatter",
           "x": [
            34.6800003051758
           ],
           "xaxis": "x",
           "y": [
            26.7099990844727
           ],
           "yaxis": "y"
          }
         ],
         "name": "19"
        },
        {
         "data": [
          {
           "hovertemplate": "club=CIN<br>frameId=20<br>x=%{x}<br>y=%{y}<extra></extra>",
           "legendgroup": "CIN",
           "marker": {
            "color": "#636efa",
            "symbol": "circle"
           },
           "mode": "markers",
           "name": "CIN",
           "orientation": "v",
           "showlegend": true,
           "type": "scatter",
           "x": [
            39.28,
            46.35,
            35.99,
            39.16,
            37.93,
            36.44,
            48.38,
            37.13,
            36.27,
            39.74,
            39.49
           ],
           "xaxis": "x",
           "y": [
            16.26,
            21.94,
            26.99,
            36.71,
            42.32,
            31.9,
            31.14,
            25.65,
            22.86,
            25.99,
            28.43
           ],
           "yaxis": "y"
          },
          {
           "hovertemplate": "club=PIT<br>frameId=20<br>x=%{x}<br>y=%{y}<extra></extra>",
           "legendgroup": "PIT",
           "marker": {
            "color": "#EF553B",
            "symbol": "circle"
           },
           "mode": "markers",
           "name": "PIT",
           "orientation": "v",
           "showlegend": true,
           "type": "scatter",
           "x": [
            29.37,
            33.22,
            33.1,
            34.05,
            32.75,
            31.96,
            33.64,
            29.33,
            33.2,
            33.43,
            32.57
           ],
           "xaxis": "x",
           "y": [
            26.72,
            25.44,
            23.94,
            26.87,
            36.59,
            35.93,
            28.34,
            24.36,
            22.55,
            29.97,
            42.23
           ],
           "yaxis": "y"
          },
          {
           "hovertemplate": "club=football<br>frameId=20<br>x=%{x}<br>y=%{y}<extra></extra>",
           "legendgroup": "football",
           "marker": {
            "color": "#00cc96",
            "symbol": "circle"
           },
           "mode": "markers",
           "name": "football",
           "orientation": "v",
           "showlegend": true,
           "type": "scatter",
           "x": [
            34.6800003051758
           ],
           "xaxis": "x",
           "y": [
            26.7099990844727
           ],
           "yaxis": "y"
          }
         ],
         "name": "20"
        },
        {
         "data": [
          {
           "hovertemplate": "club=CIN<br>frameId=21<br>x=%{x}<br>y=%{y}<extra></extra>",
           "legendgroup": "CIN",
           "marker": {
            "color": "#636efa",
            "symbol": "circle"
           },
           "mode": "markers",
           "name": "CIN",
           "orientation": "v",
           "showlegend": true,
           "type": "scatter",
           "x": [
            39.31,
            46.35,
            35.97,
            39.17,
            37.86,
            36.44,
            48.25,
            37.05,
            36.27,
            39.75,
            39.48
           ],
           "xaxis": "x",
           "y": [
            16.37,
            21.94,
            27.09,
            36.89,
            42.4,
            31.9,
            31.22,
            25.55,
            22.86,
            25.98,
            28.61
           ],
           "yaxis": "y"
          },
          {
           "hovertemplate": "club=PIT<br>frameId=21<br>x=%{x}<br>y=%{y}<extra></extra>",
           "legendgroup": "PIT",
           "marker": {
            "color": "#EF553B",
            "symbol": "circle"
           },
           "mode": "markers",
           "name": "PIT",
           "orientation": "v",
           "showlegend": true,
           "type": "scatter",
           "x": [
            29.39,
            33.28,
            33.15,
            34.06,
            32.83,
            32.06,
            33.67,
            29.36,
            33.27,
            33.45,
            32.69
           ],
           "xaxis": "x",
           "y": [
            26.74,
            25.41,
            23.92,
            26.87,
            36.73,
            35.97,
            28.35,
            24.37,
            22.52,
            29.97,
            42.38
           ],
           "yaxis": "y"
          },
          {
           "hovertemplate": "club=football<br>frameId=21<br>x=%{x}<br>y=%{y}<extra></extra>",
           "legendgroup": "football",
           "marker": {
            "color": "#00cc96",
            "symbol": "circle"
           },
           "mode": "markers",
           "name": "football",
           "orientation": "v",
           "showlegend": true,
           "type": "scatter",
           "x": [
            34.6800003051758
           ],
           "xaxis": "x",
           "y": [
            26.7199993133545
           ],
           "yaxis": "y"
          }
         ],
         "name": "21"
        },
        {
         "data": [
          {
           "hovertemplate": "club=CIN<br>frameId=22<br>x=%{x}<br>y=%{y}<extra></extra>",
           "legendgroup": "CIN",
           "marker": {
            "color": "#636efa",
            "symbol": "circle"
           },
           "mode": "markers",
           "name": "CIN",
           "orientation": "v",
           "showlegend": true,
           "type": "scatter",
           "x": [
            39.33,
            46.35,
            35.96,
            39.18,
            37.8,
            36.44,
            48.13,
            36.96,
            36.27,
            39.74,
            39.47
           ],
           "xaxis": "x",
           "y": [
            16.49,
            21.94,
            27.2,
            37.05,
            42.48,
            31.9,
            31.3,
            25.44,
            22.87,
            25.95,
            28.79
           ],
           "yaxis": "y"
          },
          {
           "hovertemplate": "club=PIT<br>frameId=22<br>x=%{x}<br>y=%{y}<extra></extra>",
           "legendgroup": "PIT",
           "marker": {
            "color": "#EF553B",
            "symbol": "circle"
           },
           "mode": "markers",
           "name": "PIT",
           "orientation": "v",
           "showlegend": true,
           "type": "scatter",
           "x": [
            29.4,
            33.33,
            33.18,
            34.07,
            32.91,
            32.15,
            33.69,
            29.39,
            33.33,
            33.47,
            32.81
           ],
           "xaxis": "x",
           "y": [
            26.75,
            25.39,
            23.92,
            26.88,
            36.85,
            36,
            28.35,
            24.38,
            22.48,
            29.96,
            42.53
           ],
           "yaxis": "y"
          },
          {
           "hovertemplate": "club=football<br>frameId=22<br>x=%{x}<br>y=%{y}<extra></extra>",
           "legendgroup": "football",
           "marker": {
            "color": "#00cc96",
            "symbol": "circle"
           },
           "mode": "markers",
           "name": "football",
           "orientation": "v",
           "showlegend": true,
           "type": "scatter",
           "x": [
            34.6800003051758
           ],
           "xaxis": "x",
           "y": [
            26.7199993133545
           ],
           "yaxis": "y"
          }
         ],
         "name": "22"
        },
        {
         "data": [
          {
           "hovertemplate": "club=CIN<br>frameId=23<br>x=%{x}<br>y=%{y}<extra></extra>",
           "legendgroup": "CIN",
           "marker": {
            "color": "#636efa",
            "symbol": "circle"
           },
           "mode": "markers",
           "name": "CIN",
           "orientation": "v",
           "showlegend": true,
           "type": "scatter",
           "x": [
            39.35,
            46.35,
            35.94,
            39.19,
            37.75,
            36.44,
            48.01,
            36.88,
            36.27,
            39.75,
            39.45
           ],
           "xaxis": "x",
           "y": [
            16.6,
            21.94,
            27.32,
            37.2,
            42.56,
            31.9,
            31.39,
            25.34,
            22.87,
            25.94,
            28.97
           ],
           "yaxis": "y"
          },
          {
           "hovertemplate": "club=PIT<br>frameId=23<br>x=%{x}<br>y=%{y}<extra></extra>",
           "legendgroup": "PIT",
           "marker": {
            "color": "#EF553B",
            "symbol": "circle"
           },
           "mode": "markers",
           "name": "PIT",
           "orientation": "v",
           "showlegend": true,
           "type": "scatter",
           "x": [
            29.42,
            33.38,
            33.21,
            34.09,
            32.98,
            32.25,
            33.71,
            29.41,
            33.38,
            33.49,
            32.93
           ],
           "xaxis": "x",
           "y": [
            26.76,
            25.36,
            23.91,
            26.88,
            36.97,
            36.02,
            28.36,
            24.4,
            22.43,
            29.95,
            42.66
           ],
           "yaxis": "y"
          },
          {
           "hovertemplate": "club=football<br>frameId=23<br>x=%{x}<br>y=%{y}<extra></extra>",
           "legendgroup": "football",
           "marker": {
            "color": "#00cc96",
            "symbol": "circle"
           },
           "mode": "markers",
           "name": "football",
           "orientation": "v",
           "showlegend": true,
           "type": "scatter",
           "x": [
            34.6800003051758
           ],
           "xaxis": "x",
           "y": [
            26.7199993133545
           ],
           "yaxis": "y"
          }
         ],
         "name": "23"
        },
        {
         "data": [
          {
           "hovertemplate": "club=CIN<br>frameId=24<br>x=%{x}<br>y=%{y}<extra></extra>",
           "legendgroup": "CIN",
           "marker": {
            "color": "#636efa",
            "symbol": "circle"
           },
           "mode": "markers",
           "name": "CIN",
           "orientation": "v",
           "showlegend": true,
           "type": "scatter",
           "x": [
            39.37,
            46.35,
            35.94,
            39.19,
            37.71,
            36.43,
            47.89,
            36.8,
            36.26,
            39.74,
            39.44
           ],
           "xaxis": "x",
           "y": [
            16.71,
            21.94,
            27.44,
            37.35,
            42.64,
            31.9,
            31.48,
            25.24,
            22.88,
            25.91,
            29.14
           ],
           "yaxis": "y"
          },
          {
           "hovertemplate": "club=PIT<br>frameId=24<br>x=%{x}<br>y=%{y}<extra></extra>",
           "legendgroup": "PIT",
           "marker": {
            "color": "#EF553B",
            "symbol": "circle"
           },
           "mode": "markers",
           "name": "PIT",
           "orientation": "v",
           "showlegend": true,
           "type": "scatter",
           "x": [
            29.44,
            33.42,
            33.24,
            34.11,
            33.04,
            32.34,
            33.73,
            29.44,
            33.41,
            33.5,
            33.04
           ],
           "xaxis": "x",
           "y": [
            26.75,
            25.35,
            23.91,
            26.89,
            37.1,
            36.03,
            28.37,
            24.44,
            22.36,
            29.95,
            42.79
           ],
           "yaxis": "y"
          },
          {
           "hovertemplate": "club=football<br>frameId=24<br>x=%{x}<br>y=%{y}<extra></extra>",
           "legendgroup": "football",
           "marker": {
            "color": "#00cc96",
            "symbol": "circle"
           },
           "mode": "markers",
           "name": "football",
           "orientation": "v",
           "showlegend": true,
           "type": "scatter",
           "x": [
            34.6800003051758
           ],
           "xaxis": "x",
           "y": [
            26.7299995422363
           ],
           "yaxis": "y"
          }
         ],
         "name": "24"
        },
        {
         "data": [
          {
           "hovertemplate": "club=CIN<br>frameId=25<br>x=%{x}<br>y=%{y}<extra></extra>",
           "legendgroup": "CIN",
           "marker": {
            "color": "#636efa",
            "symbol": "circle"
           },
           "mode": "markers",
           "name": "CIN",
           "orientation": "v",
           "showlegend": true,
           "type": "scatter",
           "x": [
            39.39,
            46.35,
            35.94,
            39.18,
            37.69,
            36.43,
            47.78,
            36.71,
            36.26,
            39.75,
            39.43
           ],
           "xaxis": "x",
           "y": [
            16.83,
            21.94,
            27.56,
            37.49,
            42.73,
            31.9,
            31.57,
            25.15,
            22.88,
            25.89,
            29.29
           ],
           "yaxis": "y"
          },
          {
           "hovertemplate": "club=PIT<br>frameId=25<br>x=%{x}<br>y=%{y}<extra></extra>",
           "legendgroup": "PIT",
           "marker": {
            "color": "#EF553B",
            "symbol": "circle"
           },
           "mode": "markers",
           "name": "PIT",
           "orientation": "v",
           "showlegend": true,
           "type": "scatter",
           "x": [
            29.47,
            33.45,
            33.26,
            34.13,
            33.1,
            32.42,
            33.75,
            29.46,
            33.43,
            33.52,
            33.15
           ],
           "xaxis": "x",
           "y": [
            26.73,
            25.34,
            23.89,
            26.89,
            37.22,
            36.03,
            28.37,
            24.48,
            22.29,
            29.95,
            42.9
           ],
           "yaxis": "y"
          },
          {
           "hovertemplate": "club=football<br>frameId=25<br>x=%{x}<br>y=%{y}<extra></extra>",
           "legendgroup": "football",
           "marker": {
            "color": "#00cc96",
            "symbol": "circle"
           },
           "mode": "markers",
           "name": "football",
           "orientation": "v",
           "showlegend": true,
           "type": "scatter",
           "x": [
            34.6800003051758
           ],
           "xaxis": "x",
           "y": [
            26.7299995422363
           ],
           "yaxis": "y"
          }
         ],
         "name": "25"
        },
        {
         "data": [
          {
           "hovertemplate": "club=CIN<br>frameId=26<br>x=%{x}<br>y=%{y}<extra></extra>",
           "legendgroup": "CIN",
           "marker": {
            "color": "#636efa",
            "symbol": "circle"
           },
           "mode": "markers",
           "name": "CIN",
           "orientation": "v",
           "showlegend": true,
           "type": "scatter",
           "x": [
            39.4,
            46.35,
            35.94,
            39.18,
            37.67,
            36.43,
            47.67,
            36.63,
            36.25,
            39.75,
            39.41
           ],
           "xaxis": "x",
           "y": [
            16.94,
            21.94,
            27.67,
            37.63,
            42.81,
            31.9,
            31.66,
            25.07,
            22.88,
            25.87,
            29.44
           ],
           "yaxis": "y"
          },
          {
           "hovertemplate": "club=PIT<br>frameId=26<br>x=%{x}<br>y=%{y}<extra></extra>",
           "legendgroup": "PIT",
           "marker": {
            "color": "#EF553B",
            "symbol": "circle"
           },
           "mode": "markers",
           "name": "PIT",
           "orientation": "v",
           "showlegend": true,
           "type": "scatter",
           "x": [
            29.49,
            33.47,
            33.27,
            34.16,
            33.14,
            32.5,
            33.77,
            29.48,
            33.44,
            33.52,
            33.26
           ],
           "xaxis": "x",
           "y": [
            26.7,
            25.32,
            23.89,
            26.88,
            37.34,
            36.03,
            28.38,
            24.52,
            22.22,
            29.94,
            43.02
           ],
           "yaxis": "y"
          },
          {
           "hovertemplate": "club=football<br>frameId=26<br>x=%{x}<br>y=%{y}<extra></extra>",
           "legendgroup": "football",
           "marker": {
            "color": "#00cc96",
            "symbol": "circle"
           },
           "mode": "markers",
           "name": "football",
           "orientation": "v",
           "showlegend": true,
           "type": "scatter",
           "x": [
            34.6800003051758
           ],
           "xaxis": "x",
           "y": [
            26.7299995422363
           ],
           "yaxis": "y"
          }
         ],
         "name": "26"
        },
        {
         "data": [
          {
           "hovertemplate": "club=CIN<br>frameId=27<br>x=%{x}<br>y=%{y}<extra></extra>",
           "legendgroup": "CIN",
           "marker": {
            "color": "#636efa",
            "symbol": "circle"
           },
           "mode": "markers",
           "name": "CIN",
           "orientation": "v",
           "showlegend": true,
           "type": "scatter",
           "x": [
            39.42,
            46.35,
            35.95,
            39.18,
            37.66,
            36.43,
            47.56,
            36.55,
            36.25,
            39.75,
            39.39
           ],
           "xaxis": "x",
           "y": [
            17.06,
            21.94,
            27.77,
            37.76,
            42.9,
            31.9,
            31.76,
            24.98,
            22.88,
            25.87,
            29.56
           ],
           "yaxis": "y"
          },
          {
           "hovertemplate": "club=PIT<br>frameId=27<br>x=%{x}<br>y=%{y}<extra></extra>",
           "legendgroup": "PIT",
           "marker": {
            "color": "#EF553B",
            "symbol": "circle"
           },
           "mode": "markers",
           "name": "PIT",
           "orientation": "v",
           "showlegend": true,
           "type": "scatter",
           "x": [
            29.52,
            33.49,
            33.29,
            34.19,
            33.18,
            32.57,
            33.78,
            29.5,
            33.45,
            33.54,
            33.36
           ],
           "xaxis": "x",
           "y": [
            26.66,
            25.32,
            23.89,
            26.89,
            37.47,
            36.01,
            28.38,
            24.56,
            22.16,
            29.94,
            43.13
           ],
           "yaxis": "y"
          },
          {
           "hovertemplate": "club=football<br>frameId=27<br>x=%{x}<br>y=%{y}<extra></extra>",
           "legendgroup": "football",
           "marker": {
            "color": "#00cc96",
            "symbol": "circle"
           },
           "mode": "markers",
           "name": "football",
           "orientation": "v",
           "showlegend": true,
           "type": "scatter",
           "x": [
            34.6800003051758
           ],
           "xaxis": "x",
           "y": [
            26.7299995422363
           ],
           "yaxis": "y"
          }
         ],
         "name": "27"
        },
        {
         "data": [
          {
           "hovertemplate": "club=CIN<br>frameId=28<br>x=%{x}<br>y=%{y}<extra></extra>",
           "legendgroup": "CIN",
           "marker": {
            "color": "#636efa",
            "symbol": "circle"
           },
           "mode": "markers",
           "name": "CIN",
           "orientation": "v",
           "showlegend": true,
           "type": "scatter",
           "x": [
            39.43,
            46.35,
            35.95,
            39.18,
            37.66,
            36.43,
            47.46,
            36.47,
            36.25,
            39.75,
            39.37
           ],
           "xaxis": "x",
           "y": [
            17.17,
            21.94,
            27.86,
            37.88,
            42.99,
            31.9,
            31.86,
            24.91,
            22.88,
            25.87,
            29.68
           ],
           "yaxis": "y"
          },
          {
           "hovertemplate": "club=PIT<br>frameId=28<br>x=%{x}<br>y=%{y}<extra></extra>",
           "legendgroup": "PIT",
           "marker": {
            "color": "#EF553B",
            "symbol": "circle"
           },
           "mode": "markers",
           "name": "PIT",
           "orientation": "v",
           "showlegend": true,
           "type": "scatter",
           "x": [
            29.55,
            33.49,
            33.31,
            34.23,
            33.22,
            32.63,
            33.79,
            29.52,
            33.44,
            33.55,
            33.46
           ],
           "xaxis": "x",
           "y": [
            26.63,
            25.31,
            23.9,
            26.88,
            37.6,
            36.01,
            28.39,
            24.61,
            22.11,
            29.93,
            43.22
           ],
           "yaxis": "y"
          },
          {
           "hovertemplate": "club=football<br>frameId=28<br>x=%{x}<br>y=%{y}<extra></extra>",
           "legendgroup": "football",
           "marker": {
            "color": "#00cc96",
            "symbol": "circle"
           },
           "mode": "markers",
           "name": "football",
           "orientation": "v",
           "showlegend": true,
           "type": "scatter",
           "x": [
            34.6800003051758
           ],
           "xaxis": "x",
           "y": [
            26.7299995422363
           ],
           "yaxis": "y"
          }
         ],
         "name": "28"
        },
        {
         "data": [
          {
           "hovertemplate": "club=CIN<br>frameId=29<br>x=%{x}<br>y=%{y}<extra></extra>",
           "legendgroup": "CIN",
           "marker": {
            "color": "#636efa",
            "symbol": "circle"
           },
           "mode": "markers",
           "name": "CIN",
           "orientation": "v",
           "showlegend": true,
           "type": "scatter",
           "x": [
            39.45,
            46.35,
            35.95,
            39.18,
            37.68,
            36.42,
            47.35,
            36.4,
            36.24,
            39.76,
            39.35
           ],
           "xaxis": "x",
           "y": [
            17.28,
            21.94,
            27.92,
            37.98,
            43.07,
            31.9,
            31.96,
            24.83,
            22.87,
            25.85,
            29.78
           ],
           "yaxis": "y"
          },
          {
           "hovertemplate": "club=PIT<br>frameId=29<br>x=%{x}<br>y=%{y}<extra></extra>",
           "legendgroup": "PIT",
           "marker": {
            "color": "#EF553B",
            "symbol": "circle"
           },
           "mode": "markers",
           "name": "PIT",
           "orientation": "v",
           "showlegend": true,
           "type": "scatter",
           "x": [
            29.58,
            33.51,
            33.33,
            34.27,
            33.25,
            32.68,
            33.78,
            29.53,
            33.43,
            33.56,
            33.55
           ],
           "xaxis": "x",
           "y": [
            26.58,
            25.31,
            23.91,
            26.89,
            37.74,
            36,
            28.38,
            24.66,
            22.08,
            29.92,
            43.3
           ],
           "yaxis": "y"
          },
          {
           "hovertemplate": "club=football<br>frameId=29<br>x=%{x}<br>y=%{y}<extra></extra>",
           "legendgroup": "football",
           "marker": {
            "color": "#00cc96",
            "symbol": "circle"
           },
           "mode": "markers",
           "name": "football",
           "orientation": "v",
           "showlegend": true,
           "type": "scatter",
           "x": [
            34.6699981689453
           ],
           "xaxis": "x",
           "y": [
            26.7299995422363
           ],
           "yaxis": "y"
          }
         ],
         "name": "29"
        },
        {
         "data": [
          {
           "hovertemplate": "club=CIN<br>frameId=30<br>x=%{x}<br>y=%{y}<extra></extra>",
           "legendgroup": "CIN",
           "marker": {
            "color": "#636efa",
            "symbol": "circle"
           },
           "mode": "markers",
           "name": "CIN",
           "orientation": "v",
           "showlegend": true,
           "type": "scatter",
           "x": [
            39.46,
            46.34,
            35.95,
            39.19,
            37.71,
            36.42,
            47.26,
            36.33,
            36.24,
            39.76,
            39.33
           ],
           "xaxis": "x",
           "y": [
            17.38,
            21.94,
            27.96,
            38.09,
            43.16,
            31.9,
            32.06,
            24.77,
            22.87,
            25.86,
            29.88
           ],
           "yaxis": "y"
          },
          {
           "hovertemplate": "club=PIT<br>frameId=30<br>x=%{x}<br>y=%{y}<extra></extra>",
           "legendgroup": "PIT",
           "marker": {
            "color": "#EF553B",
            "symbol": "circle"
           },
           "mode": "markers",
           "name": "PIT",
           "orientation": "v",
           "showlegend": true,
           "type": "scatter",
           "x": [
            29.61,
            33.51,
            33.35,
            34.3,
            33.28,
            32.71,
            33.78,
            29.54,
            33.42,
            33.57,
            33.64
           ],
           "xaxis": "x",
           "y": [
            26.54,
            25.31,
            23.92,
            26.88,
            37.88,
            36.01,
            28.38,
            24.7,
            22.07,
            29.91,
            43.38
           ],
           "yaxis": "y"
          },
          {
           "hovertemplate": "club=football<br>frameId=30<br>x=%{x}<br>y=%{y}<extra></extra>",
           "legendgroup": "football",
           "marker": {
            "color": "#00cc96",
            "symbol": "circle"
           },
           "mode": "markers",
           "name": "football",
           "orientation": "v",
           "showlegend": true,
           "type": "scatter",
           "x": [
            34.6699981689453
           ],
           "xaxis": "x",
           "y": [
            26.7299995422363
           ],
           "yaxis": "y"
          }
         ],
         "name": "30"
        },
        {
         "data": [
          {
           "hovertemplate": "club=CIN<br>frameId=31<br>x=%{x}<br>y=%{y}<extra></extra>",
           "legendgroup": "CIN",
           "marker": {
            "color": "#636efa",
            "symbol": "circle"
           },
           "mode": "markers",
           "name": "CIN",
           "orientation": "v",
           "showlegend": true,
           "type": "scatter",
           "x": [
            39.47,
            46.34,
            35.93,
            39.2,
            37.75,
            36.42,
            47.16,
            36.26,
            36.23,
            39.76,
            39.3
           ],
           "xaxis": "x",
           "y": [
            17.48,
            21.95,
            27.99,
            38.18,
            43.24,
            31.9,
            32.17,
            24.7,
            22.86,
            25.86,
            29.96
           ],
           "yaxis": "y"
          },
          {
           "hovertemplate": "club=PIT<br>frameId=31<br>x=%{x}<br>y=%{y}<extra></extra>",
           "legendgroup": "PIT",
           "marker": {
            "color": "#EF553B",
            "symbol": "circle"
           },
           "mode": "markers",
           "name": "PIT",
           "orientation": "v",
           "showlegend": true,
           "type": "scatter",
           "x": [
            29.63,
            33.51,
            33.36,
            34.32,
            33.29,
            32.73,
            33.78,
            29.56,
            33.41,
            33.58,
            33.72
           ],
           "xaxis": "x",
           "y": [
            26.51,
            25.31,
            23.94,
            26.87,
            38.02,
            36.01,
            28.38,
            24.73,
            22.08,
            29.9,
            43.44
           ],
           "yaxis": "y"
          },
          {
           "hovertemplate": "club=football<br>frameId=31<br>x=%{x}<br>y=%{y}<extra></extra>",
           "legendgroup": "football",
           "marker": {
            "color": "#00cc96",
            "symbol": "circle"
           },
           "mode": "markers",
           "name": "football",
           "orientation": "v",
           "showlegend": true,
           "type": "scatter",
           "x": [
            34.6699981689453
           ],
           "xaxis": "x",
           "y": [
            26.7299995422363
           ],
           "yaxis": "y"
          }
         ],
         "name": "31"
        },
        {
         "data": [
          {
           "hovertemplate": "club=CIN<br>frameId=32<br>x=%{x}<br>y=%{y}<extra></extra>",
           "legendgroup": "CIN",
           "marker": {
            "color": "#636efa",
            "symbol": "circle"
           },
           "mode": "markers",
           "name": "CIN",
           "orientation": "v",
           "showlegend": true,
           "type": "scatter",
           "x": [
            39.48,
            46.32,
            35.92,
            39.21,
            37.81,
            36.41,
            47.07,
            36.2,
            36.21,
            39.76,
            39.28
           ],
           "xaxis": "x",
           "y": [
            17.57,
            21.96,
            28.01,
            38.26,
            43.32,
            31.9,
            32.28,
            24.65,
            22.83,
            25.85,
            30.04
           ],
           "yaxis": "y"
          },
          {
           "hovertemplate": "club=PIT<br>frameId=32<br>x=%{x}<br>y=%{y}<extra></extra>",
           "legendgroup": "PIT",
           "marker": {
            "color": "#EF553B",
            "symbol": "circle"
           },
           "mode": "markers",
           "name": "PIT",
           "orientation": "v",
           "showlegend": true,
           "type": "scatter",
           "x": [
            29.66,
            33.5,
            33.39,
            34.34,
            33.31,
            32.74,
            33.78,
            29.56,
            33.4,
            33.58,
            33.79
           ],
           "xaxis": "x",
           "y": [
            26.5,
            25.3,
            23.96,
            26.87,
            38.16,
            36.02,
            28.38,
            24.74,
            22.1,
            29.89,
            43.5
           ],
           "yaxis": "y"
          },
          {
           "hovertemplate": "club=football<br>frameId=32<br>x=%{x}<br>y=%{y}<extra></extra>",
           "legendgroup": "football",
           "marker": {
            "color": "#00cc96",
            "symbol": "circle"
           },
           "mode": "markers",
           "name": "football",
           "orientation": "v",
           "showlegend": true,
           "type": "scatter",
           "x": [
            34.6699981689453
           ],
           "xaxis": "x",
           "y": [
            26.7399997711182
           ],
           "yaxis": "y"
          }
         ],
         "name": "32"
        },
        {
         "data": [
          {
           "hovertemplate": "club=CIN<br>frameId=33<br>x=%{x}<br>y=%{y}<extra></extra>",
           "legendgroup": "CIN",
           "marker": {
            "color": "#636efa",
            "symbol": "circle"
           },
           "mode": "markers",
           "name": "CIN",
           "orientation": "v",
           "showlegend": true,
           "type": "scatter",
           "x": [
            39.49,
            46.32,
            35.89,
            39.22,
            37.87,
            36.4,
            46.99,
            36.15,
            36.19,
            39.75,
            39.25
           ],
           "xaxis": "x",
           "y": [
            17.67,
            21.96,
            28.01,
            38.34,
            43.39,
            31.91,
            32.39,
            24.6,
            22.8,
            25.85,
            30.12
           ],
           "yaxis": "y"
          },
          {
           "hovertemplate": "club=PIT<br>frameId=33<br>x=%{x}<br>y=%{y}<extra></extra>",
           "legendgroup": "PIT",
           "marker": {
            "color": "#EF553B",
            "symbol": "circle"
           },
           "mode": "markers",
           "name": "PIT",
           "orientation": "v",
           "showlegend": true,
           "type": "scatter",
           "x": [
            29.68,
            33.5,
            33.41,
            34.37,
            33.31,
            32.73,
            33.78,
            29.57,
            33.4,
            33.58,
            33.87
           ],
           "xaxis": "x",
           "y": [
            26.5,
            25.29,
            23.97,
            26.87,
            38.28,
            36.03,
            28.38,
            24.75,
            22.13,
            29.89,
            43.55
           ],
           "yaxis": "y"
          },
          {
           "hovertemplate": "club=football<br>frameId=33<br>x=%{x}<br>y=%{y}<extra></extra>",
           "legendgroup": "football",
           "marker": {
            "color": "#00cc96",
            "symbol": "circle"
           },
           "mode": "markers",
           "name": "football",
           "orientation": "v",
           "showlegend": true,
           "type": "scatter",
           "x": [
            34.6699981689453
           ],
           "xaxis": "x",
           "y": [
            26.7399997711182
           ],
           "yaxis": "y"
          }
         ],
         "name": "33"
        },
        {
         "data": [
          {
           "hovertemplate": "club=CIN<br>frameId=34<br>x=%{x}<br>y=%{y}<extra></extra>",
           "legendgroup": "CIN",
           "marker": {
            "color": "#636efa",
            "symbol": "circle"
           },
           "mode": "markers",
           "name": "CIN",
           "orientation": "v",
           "showlegend": true,
           "type": "scatter",
           "x": [
            39.51,
            46.31,
            35.86,
            39.23,
            37.95,
            36.39,
            46.92,
            36.12,
            36.16,
            39.75,
            39.22
           ],
           "xaxis": "x",
           "y": [
            17.76,
            21.97,
            28.01,
            38.41,
            43.46,
            31.91,
            32.51,
            24.58,
            22.75,
            25.85,
            30.19
           ],
           "yaxis": "y"
          },
          {
           "hovertemplate": "club=PIT<br>frameId=34<br>x=%{x}<br>y=%{y}<extra></extra>",
           "legendgroup": "PIT",
           "marker": {
            "color": "#EF553B",
            "symbol": "circle"
           },
           "mode": "markers",
           "name": "PIT",
           "orientation": "v",
           "showlegend": true,
           "type": "scatter",
           "x": [
            29.7,
            33.5,
            33.44,
            34.39,
            33.3,
            32.73,
            33.78,
            29.58,
            33.4,
            33.57,
            33.94
           ],
           "xaxis": "x",
           "y": [
            26.51,
            25.27,
            23.98,
            26.87,
            38.4,
            36.05,
            28.38,
            24.75,
            22.17,
            29.9,
            43.59
           ],
           "yaxis": "y"
          },
          {
           "hovertemplate": "club=football<br>frameId=34<br>x=%{x}<br>y=%{y}<extra></extra>",
           "legendgroup": "football",
           "marker": {
            "color": "#00cc96",
            "symbol": "circle"
           },
           "mode": "markers",
           "name": "football",
           "orientation": "v",
           "showlegend": true,
           "type": "scatter",
           "x": [
            34.6699981689453
           ],
           "xaxis": "x",
           "y": [
            26.7399997711182
           ],
           "yaxis": "y"
          }
         ],
         "name": "34"
        },
        {
         "data": [
          {
           "hovertemplate": "club=CIN<br>frameId=35<br>x=%{x}<br>y=%{y}<extra></extra>",
           "legendgroup": "CIN",
           "marker": {
            "color": "#636efa",
            "symbol": "circle"
           },
           "mode": "markers",
           "name": "CIN",
           "orientation": "v",
           "showlegend": true,
           "type": "scatter",
           "x": [
            39.52,
            46.3,
            35.83,
            39.23,
            38.03,
            36.38,
            46.84,
            36.09,
            36.13,
            39.75,
            39.19
           ],
           "xaxis": "x",
           "y": [
            17.84,
            21.98,
            28,
            38.48,
            43.51,
            31.91,
            32.62,
            24.56,
            22.71,
            25.84,
            30.26
           ],
           "yaxis": "y"
          },
          {
           "hovertemplate": "club=PIT<br>frameId=35<br>x=%{x}<br>y=%{y}<extra></extra>",
           "legendgroup": "PIT",
           "marker": {
            "color": "#EF553B",
            "symbol": "circle"
           },
           "mode": "markers",
           "name": "PIT",
           "orientation": "v",
           "showlegend": true,
           "type": "scatter",
           "x": [
            29.71,
            33.49,
            33.46,
            34.39,
            33.29,
            32.72,
            33.78,
            29.59,
            33.4,
            33.56,
            34
           ],
           "xaxis": "x",
           "y": [
            26.53,
            25.26,
            23.99,
            26.86,
            38.5,
            36.06,
            28.38,
            24.74,
            22.21,
            29.92,
            43.63
           ],
           "yaxis": "y"
          },
          {
           "hovertemplate": "club=football<br>frameId=35<br>x=%{x}<br>y=%{y}<extra></extra>",
           "legendgroup": "football",
           "marker": {
            "color": "#00cc96",
            "symbol": "circle"
           },
           "mode": "markers",
           "name": "football",
           "orientation": "v",
           "showlegend": true,
           "type": "scatter",
           "x": [
            34.6699981689453
           ],
           "xaxis": "x",
           "y": [
            26.7399997711182
           ],
           "yaxis": "y"
          }
         ],
         "name": "35"
        },
        {
         "data": [
          {
           "hovertemplate": "club=CIN<br>frameId=36<br>x=%{x}<br>y=%{y}<extra></extra>",
           "legendgroup": "CIN",
           "marker": {
            "color": "#636efa",
            "symbol": "circle"
           },
           "mode": "markers",
           "name": "CIN",
           "orientation": "v",
           "showlegend": true,
           "type": "scatter",
           "x": [
            39.54,
            46.29,
            35.79,
            39.23,
            38.13,
            36.37,
            46.77,
            36.07,
            36.09,
            39.74,
            39.16
           ],
           "xaxis": "x",
           "y": [
            17.92,
            21.99,
            27.99,
            38.55,
            43.56,
            31.91,
            32.74,
            24.56,
            22.66,
            25.83,
            30.32
           ],
           "yaxis": "y"
          },
          {
           "hovertemplate": "club=PIT<br>frameId=36<br>x=%{x}<br>y=%{y}<extra></extra>",
           "legendgroup": "PIT",
           "marker": {
            "color": "#EF553B",
            "symbol": "circle"
           },
           "mode": "markers",
           "name": "PIT",
           "orientation": "v",
           "showlegend": true,
           "type": "scatter",
           "x": [
            29.73,
            33.49,
            33.48,
            34.42,
            33.27,
            32.71,
            33.78,
            29.6,
            33.4,
            33.55,
            34.05
           ],
           "xaxis": "x",
           "y": [
            26.56,
            25.26,
            23.99,
            26.85,
            38.59,
            36.07,
            28.39,
            24.71,
            22.24,
            29.96,
            43.65
           ],
           "yaxis": "y"
          },
          {
           "hovertemplate": "club=football<br>frameId=36<br>x=%{x}<br>y=%{y}<extra></extra>",
           "legendgroup": "football",
           "marker": {
            "color": "#00cc96",
            "symbol": "circle"
           },
           "mode": "markers",
           "name": "football",
           "orientation": "v",
           "showlegend": true,
           "type": "scatter",
           "x": [
            34.6599998474121
           ],
           "xaxis": "x",
           "y": [
            26.7399997711182
           ],
           "yaxis": "y"
          }
         ],
         "name": "36"
        },
        {
         "data": [
          {
           "hovertemplate": "club=CIN<br>frameId=37<br>x=%{x}<br>y=%{y}<extra></extra>",
           "legendgroup": "CIN",
           "marker": {
            "color": "#636efa",
            "symbol": "circle"
           },
           "mode": "markers",
           "name": "CIN",
           "orientation": "v",
           "showlegend": true,
           "type": "scatter",
           "x": [
            39.56,
            46.28,
            35.75,
            39.22,
            38.22,
            36.37,
            46.71,
            36.06,
            36.06,
            39.74,
            39.13
           ],
           "xaxis": "x",
           "y": [
            17.99,
            21.99,
            27.98,
            38.61,
            43.6,
            31.91,
            32.86,
            24.56,
            22.62,
            25.83,
            30.38
           ],
           "yaxis": "y"
          },
          {
           "hovertemplate": "club=PIT<br>frameId=37<br>x=%{x}<br>y=%{y}<extra></extra>",
           "legendgroup": "PIT",
           "marker": {
            "color": "#EF553B",
            "symbol": "circle"
           },
           "mode": "markers",
           "name": "PIT",
           "orientation": "v",
           "showlegend": true,
           "type": "scatter",
           "x": [
            29.75,
            33.49,
            33.5,
            34.45,
            33.25,
            32.72,
            33.78,
            29.6,
            33.41,
            33.53,
            34.09
           ],
           "xaxis": "x",
           "y": [
            26.58,
            25.25,
            23.99,
            26.86,
            38.66,
            36.08,
            28.39,
            24.68,
            22.28,
            30,
            43.68
           ],
           "yaxis": "y"
          },
          {
           "hovertemplate": "club=football<br>frameId=37<br>x=%{x}<br>y=%{y}<extra></extra>",
           "legendgroup": "football",
           "marker": {
            "color": "#00cc96",
            "symbol": "circle"
           },
           "mode": "markers",
           "name": "football",
           "orientation": "v",
           "showlegend": true,
           "type": "scatter",
           "x": [
            34.6599998474121
           ],
           "xaxis": "x",
           "y": [
            26.7399997711182
           ],
           "yaxis": "y"
          }
         ],
         "name": "37"
        },
        {
         "data": [
          {
           "hovertemplate": "club=CIN<br>frameId=38<br>x=%{x}<br>y=%{y}<extra></extra>",
           "legendgroup": "CIN",
           "marker": {
            "color": "#636efa",
            "symbol": "circle"
           },
           "mode": "markers",
           "name": "CIN",
           "orientation": "v",
           "showlegend": true,
           "type": "scatter",
           "x": [
            39.58,
            46.27,
            35.71,
            39.21,
            38.32,
            36.36,
            46.64,
            36.05,
            36.04,
            39.74,
            39.1
           ],
           "xaxis": "x",
           "y": [
            18.06,
            22.01,
            27.96,
            38.67,
            43.63,
            31.91,
            32.97,
            24.59,
            22.57,
            25.83,
            30.43
           ],
           "yaxis": "y"
          },
          {
           "hovertemplate": "club=PIT<br>frameId=38<br>x=%{x}<br>y=%{y}<extra></extra>",
           "legendgroup": "PIT",
           "marker": {
            "color": "#EF553B",
            "symbol": "circle"
           },
           "mode": "markers",
           "name": "PIT",
           "orientation": "v",
           "showlegend": true,
           "type": "scatter",
           "x": [
            29.78,
            33.49,
            33.52,
            34.47,
            33.23,
            32.74,
            33.77,
            29.61,
            33.42,
            33.52,
            34.11
           ],
           "xaxis": "x",
           "y": [
            26.6,
            25.25,
            23.99,
            26.83,
            38.7,
            36.08,
            28.39,
            24.65,
            22.32,
            30.03,
            43.69
           ],
           "yaxis": "y"
          },
          {
           "hovertemplate": "club=football<br>frameId=38<br>x=%{x}<br>y=%{y}<extra></extra>",
           "legendgroup": "football",
           "marker": {
            "color": "#00cc96",
            "symbol": "circle"
           },
           "mode": "markers",
           "name": "football",
           "orientation": "v",
           "showlegend": true,
           "type": "scatter",
           "x": [
            34.6599998474121
           ],
           "xaxis": "x",
           "y": [
            26.7399997711182
           ],
           "yaxis": "y"
          }
         ],
         "name": "38"
        },
        {
         "data": [
          {
           "hovertemplate": "club=CIN<br>frameId=39<br>x=%{x}<br>y=%{y}<extra></extra>",
           "legendgroup": "CIN",
           "marker": {
            "color": "#636efa",
            "symbol": "circle"
           },
           "mode": "markers",
           "name": "CIN",
           "orientation": "v",
           "showlegend": true,
           "type": "scatter",
           "x": [
            39.6,
            46.26,
            35.69,
            39.19,
            38.42,
            36.35,
            46.58,
            36.05,
            36.01,
            39.73,
            39.08
           ],
           "xaxis": "x",
           "y": [
            18.12,
            22.01,
            27.95,
            38.73,
            43.65,
            31.9,
            33.09,
            24.61,
            22.53,
            25.83,
            30.49
           ],
           "yaxis": "y"
          },
          {
           "hovertemplate": "club=PIT<br>frameId=39<br>x=%{x}<br>y=%{y}<extra></extra>",
           "legendgroup": "PIT",
           "marker": {
            "color": "#EF553B",
            "symbol": "circle"
           },
           "mode": "markers",
           "name": "PIT",
           "orientation": "v",
           "showlegend": true,
           "type": "scatter",
           "x": [
            29.8,
            33.49,
            33.53,
            34.47,
            33.21,
            32.76,
            33.78,
            29.62,
            33.43,
            33.51,
            34.12
           ],
           "xaxis": "x",
           "y": [
            26.61,
            25.25,
            23.98,
            26.8,
            38.72,
            36.07,
            28.4,
            24.64,
            22.35,
            30.06,
            43.7
           ],
           "yaxis": "y"
          },
          {
           "hovertemplate": "club=football<br>frameId=39<br>x=%{x}<br>y=%{y}<extra></extra>",
           "legendgroup": "football",
           "marker": {
            "color": "#00cc96",
            "symbol": "circle"
           },
           "mode": "markers",
           "name": "football",
           "orientation": "v",
           "showlegend": true,
           "type": "scatter",
           "x": [
            34.6599998474121
           ],
           "xaxis": "x",
           "y": [
            26.7399997711182
           ],
           "yaxis": "y"
          }
         ],
         "name": "39"
        },
        {
         "data": [
          {
           "hovertemplate": "club=CIN<br>frameId=40<br>x=%{x}<br>y=%{y}<extra></extra>",
           "legendgroup": "CIN",
           "marker": {
            "color": "#636efa",
            "symbol": "circle"
           },
           "mode": "markers",
           "name": "CIN",
           "orientation": "v",
           "showlegend": true,
           "type": "scatter",
           "x": [
            39.63,
            46.24,
            35.67,
            39.17,
            38.53,
            36.34,
            46.52,
            36.04,
            35.98,
            39.73,
            39.05
           ],
           "xaxis": "x",
           "y": [
            18.18,
            22.02,
            27.91,
            38.78,
            43.67,
            31.9,
            33.22,
            24.64,
            22.5,
            25.83,
            30.53
           ],
           "yaxis": "y"
          },
          {
           "hovertemplate": "club=PIT<br>frameId=40<br>x=%{x}<br>y=%{y}<extra></extra>",
           "legendgroup": "PIT",
           "marker": {
            "color": "#EF553B",
            "symbol": "circle"
           },
           "mode": "markers",
           "name": "PIT",
           "orientation": "v",
           "showlegend": true,
           "type": "scatter",
           "x": [
            29.83,
            33.48,
            33.54,
            34.48,
            33.2,
            32.81,
            33.78,
            29.63,
            33.45,
            33.51,
            34.11
           ],
           "xaxis": "x",
           "y": [
            26.62,
            25.25,
            23.98,
            26.8,
            38.71,
            36.08,
            28.4,
            24.64,
            22.38,
            30.09,
            43.7
           ],
           "yaxis": "y"
          },
          {
           "hovertemplate": "club=football<br>frameId=40<br>x=%{x}<br>y=%{y}<extra></extra>",
           "legendgroup": "football",
           "marker": {
            "color": "#00cc96",
            "symbol": "circle"
           },
           "mode": "markers",
           "name": "football",
           "orientation": "v",
           "showlegend": true,
           "type": "scatter",
           "x": [
            34.6599998474121
           ],
           "xaxis": "x",
           "y": [
            26.7399997711182
           ],
           "yaxis": "y"
          }
         ],
         "name": "40"
        },
        {
         "data": [
          {
           "hovertemplate": "club=CIN<br>frameId=41<br>x=%{x}<br>y=%{y}<extra></extra>",
           "legendgroup": "CIN",
           "marker": {
            "color": "#636efa",
            "symbol": "circle"
           },
           "mode": "markers",
           "name": "CIN",
           "orientation": "v",
           "showlegend": true,
           "type": "scatter",
           "x": [
            39.65,
            46.24,
            35.65,
            39.15,
            38.64,
            36.32,
            46.46,
            36.04,
            35.96,
            39.73,
            39.04
           ],
           "xaxis": "x",
           "y": [
            18.23,
            22.02,
            27.9,
            38.82,
            43.68,
            31.9,
            33.34,
            24.67,
            22.46,
            25.82,
            30.58
           ],
           "yaxis": "y"
          },
          {
           "hovertemplate": "club=PIT<br>frameId=41<br>x=%{x}<br>y=%{y}<extra></extra>",
           "legendgroup": "PIT",
           "marker": {
            "color": "#EF553B",
            "symbol": "circle"
           },
           "mode": "markers",
           "name": "PIT",
           "orientation": "v",
           "showlegend": true,
           "type": "scatter",
           "x": [
            29.85,
            33.48,
            33.54,
            34.48,
            33.18,
            32.86,
            33.78,
            29.64,
            33.48,
            33.51,
            34.1
           ],
           "xaxis": "x",
           "y": [
            26.62,
            25.24,
            23.97,
            26.79,
            38.69,
            36.09,
            28.42,
            24.63,
            22.4,
            30.1,
            43.7
           ],
           "yaxis": "y"
          },
          {
           "hovertemplate": "club=football<br>frameId=41<br>x=%{x}<br>y=%{y}<extra></extra>",
           "legendgroup": "football",
           "marker": {
            "color": "#00cc96",
            "symbol": "circle"
           },
           "mode": "markers",
           "name": "football",
           "orientation": "v",
           "showlegend": true,
           "type": "scatter",
           "x": [
            34.6599998474121
           ],
           "xaxis": "x",
           "y": [
            26.7399997711182
           ],
           "yaxis": "y"
          }
         ],
         "name": "41"
        },
        {
         "data": [
          {
           "hovertemplate": "club=CIN<br>frameId=42<br>x=%{x}<br>y=%{y}<extra></extra>",
           "legendgroup": "CIN",
           "marker": {
            "color": "#636efa",
            "symbol": "circle"
           },
           "mode": "markers",
           "name": "CIN",
           "orientation": "v",
           "showlegend": true,
           "type": "scatter",
           "x": [
            39.67,
            46.22,
            35.64,
            39.11,
            38.76,
            36.29,
            46.4,
            36.04,
            35.95,
            39.73,
            39.02
           ],
           "xaxis": "x",
           "y": [
            18.27,
            22.02,
            27.88,
            38.86,
            43.69,
            31.89,
            33.46,
            24.7,
            22.43,
            25.81,
            30.61
           ],
           "yaxis": "y"
          },
          {
           "hovertemplate": "club=PIT<br>frameId=42<br>x=%{x}<br>y=%{y}<extra></extra>",
           "legendgroup": "PIT",
           "marker": {
            "color": "#EF553B",
            "symbol": "circle"
           },
           "mode": "markers",
           "name": "PIT",
           "orientation": "v",
           "showlegend": true,
           "type": "scatter",
           "x": [
            29.87,
            33.48,
            33.54,
            34.49,
            33.17,
            32.89,
            33.78,
            29.66,
            33.52,
            33.51,
            34.08
           ],
           "xaxis": "x",
           "y": [
            26.62,
            25.24,
            23.96,
            26.78,
            38.65,
            36.09,
            28.42,
            24.63,
            22.43,
            30.14,
            43.71
           ],
           "yaxis": "y"
          },
          {
           "hovertemplate": "club=football<br>frameId=42<br>x=%{x}<br>y=%{y}<extra></extra>",
           "legendgroup": "football",
           "marker": {
            "color": "#00cc96",
            "symbol": "circle"
           },
           "mode": "markers",
           "name": "football",
           "orientation": "v",
           "showlegend": true,
           "type": "scatter",
           "x": [
            34.6500015258789
           ],
           "xaxis": "x",
           "y": [
            26.7399997711182
           ],
           "yaxis": "y"
          }
         ],
         "name": "42"
        },
        {
         "data": [
          {
           "hovertemplate": "club=CIN<br>frameId=43<br>x=%{x}<br>y=%{y}<extra></extra>",
           "legendgroup": "CIN",
           "marker": {
            "color": "#636efa",
            "symbol": "circle"
           },
           "mode": "markers",
           "name": "CIN",
           "orientation": "v",
           "showlegend": true,
           "type": "scatter",
           "x": [
            39.69,
            46.19,
            35.63,
            39.08,
            38.89,
            36.24,
            46.34,
            36.04,
            35.94,
            39.73,
            39
           ],
           "xaxis": "x",
           "y": [
            18.31,
            22.02,
            27.87,
            38.89,
            43.7,
            31.88,
            33.59,
            24.74,
            22.4,
            25.82,
            30.64
           ],
           "yaxis": "y"
          },
          {
           "hovertemplate": "club=PIT<br>frameId=43<br>x=%{x}<br>y=%{y}<extra></extra>",
           "legendgroup": "PIT",
           "marker": {
            "color": "#EF553B",
            "symbol": "circle"
           },
           "mode": "markers",
           "name": "PIT",
           "orientation": "v",
           "showlegend": true,
           "type": "scatter",
           "x": [
            29.88,
            33.48,
            33.54,
            34.49,
            33.17,
            32.9,
            33.78,
            29.68,
            33.56,
            33.51,
            34.07
           ],
           "xaxis": "x",
           "y": [
            26.62,
            25.24,
            23.96,
            26.79,
            38.59,
            36.09,
            28.43,
            24.64,
            22.48,
            30.17,
            43.7
           ],
           "yaxis": "y"
          },
          {
           "hovertemplate": "club=football<br>frameId=43<br>x=%{x}<br>y=%{y}<extra></extra>",
           "legendgroup": "football",
           "marker": {
            "color": "#00cc96",
            "symbol": "circle"
           },
           "mode": "markers",
           "name": "football",
           "orientation": "v",
           "showlegend": true,
           "type": "scatter",
           "x": [
            34.6500015258789
           ],
           "xaxis": "x",
           "y": [
            26.7399997711182
           ],
           "yaxis": "y"
          }
         ],
         "name": "43"
        },
        {
         "data": [
          {
           "hovertemplate": "club=CIN<br>frameId=44<br>x=%{x}<br>y=%{y}<extra></extra>",
           "legendgroup": "CIN",
           "marker": {
            "color": "#636efa",
            "symbol": "circle"
           },
           "mode": "markers",
           "name": "CIN",
           "orientation": "v",
           "showlegend": true,
           "type": "scatter",
           "x": [
            39.69,
            46.16,
            35.62,
            39.05,
            39.01,
            36.18,
            46.29,
            36.03,
            35.93,
            39.73,
            38.99
           ],
           "xaxis": "x",
           "y": [
            18.35,
            22.03,
            27.87,
            38.89,
            43.72,
            31.86,
            33.71,
            24.78,
            22.4,
            25.82,
            30.67
           ],
           "yaxis": "y"
          },
          {
           "hovertemplate": "club=PIT<br>frameId=44<br>x=%{x}<br>y=%{y}<extra></extra>",
           "legendgroup": "PIT",
           "marker": {
            "color": "#EF553B",
            "symbol": "circle"
           },
           "mode": "markers",
           "name": "PIT",
           "orientation": "v",
           "showlegend": true,
           "type": "scatter",
           "x": [
            29.88,
            33.49,
            33.54,
            34.48,
            33.17,
            32.92,
            33.78,
            29.7,
            33.6,
            33.5,
            34.06
           ],
           "xaxis": "x",
           "y": [
            26.62,
            25.25,
            23.95,
            26.79,
            38.53,
            36.07,
            28.42,
            24.65,
            22.52,
            30.21,
            43.69
           ],
           "yaxis": "y"
          },
          {
           "hovertemplate": "club=football<br>frameId=44<br>x=%{x}<br>y=%{y}<extra></extra>",
           "legendgroup": "football",
           "marker": {
            "color": "#00cc96",
            "symbol": "circle"
           },
           "mode": "markers",
           "name": "football",
           "orientation": "v",
           "showlegend": true,
           "type": "scatter",
           "x": [
            34.6500015258789
           ],
           "xaxis": "x",
           "y": [
            26.7399997711182
           ],
           "yaxis": "y"
          }
         ],
         "name": "44"
        },
        {
         "data": [
          {
           "hovertemplate": "club=CIN<br>frameId=45<br>x=%{x}<br>y=%{y}<extra></extra>",
           "legendgroup": "CIN",
           "marker": {
            "color": "#636efa",
            "symbol": "circle"
           },
           "mode": "markers",
           "name": "CIN",
           "orientation": "v",
           "showlegend": true,
           "type": "scatter",
           "x": [
            39.69,
            46.1,
            35.6,
            39.02,
            39.15,
            36.11,
            46.24,
            36.03,
            35.92,
            39.73,
            38.98
           ],
           "xaxis": "x",
           "y": [
            18.37,
            22.03,
            27.89,
            38.89,
            43.74,
            31.85,
            33.84,
            24.83,
            22.39,
            25.82,
            30.68
           ],
           "yaxis": "y"
          },
          {
           "hovertemplate": "club=PIT<br>frameId=45<br>x=%{x}<br>y=%{y}<extra></extra>",
           "legendgroup": "PIT",
           "marker": {
            "color": "#EF553B",
            "symbol": "circle"
           },
           "mode": "markers",
           "name": "PIT",
           "orientation": "v",
           "showlegend": true,
           "type": "scatter",
           "x": [
            29.88,
            33.49,
            33.54,
            34.48,
            33.15,
            32.94,
            33.79,
            29.72,
            33.65,
            33.5,
            34.04
           ],
           "xaxis": "x",
           "y": [
            26.62,
            25.25,
            23.95,
            26.78,
            38.45,
            36.08,
            28.42,
            24.66,
            22.56,
            30.22,
            43.69
           ],
           "yaxis": "y"
          },
          {
           "hovertemplate": "club=football<br>frameId=45<br>x=%{x}<br>y=%{y}<extra></extra>",
           "legendgroup": "football",
           "marker": {
            "color": "#00cc96",
            "symbol": "circle"
           },
           "mode": "markers",
           "name": "football",
           "orientation": "v",
           "showlegend": true,
           "type": "scatter",
           "x": [
            34.6500015258789
           ],
           "xaxis": "x",
           "y": [
            26.7399997711182
           ],
           "yaxis": "y"
          }
         ],
         "name": "45"
        },
        {
         "data": [
          {
           "hovertemplate": "club=CIN<br>frameId=46<br>x=%{x}<br>y=%{y}<extra></extra>",
           "legendgroup": "CIN",
           "marker": {
            "color": "#636efa",
            "symbol": "circle"
           },
           "mode": "markers",
           "name": "CIN",
           "orientation": "v",
           "showlegend": true,
           "type": "scatter",
           "x": [
            39.69,
            46.03,
            35.59,
            39,
            39.28,
            36.03,
            46.19,
            36.02,
            35.91,
            39.73,
            38.98
           ],
           "xaxis": "x",
           "y": [
            18.38,
            22.03,
            27.92,
            38.86,
            43.75,
            31.83,
            33.96,
            24.87,
            22.39,
            25.82,
            30.68
           ],
           "yaxis": "y"
          },
          {
           "hovertemplate": "club=PIT<br>frameId=46<br>x=%{x}<br>y=%{y}<extra></extra>",
           "legendgroup": "PIT",
           "marker": {
            "color": "#EF553B",
            "symbol": "circle"
           },
           "mode": "markers",
           "name": "PIT",
           "orientation": "v",
           "showlegend": true,
           "type": "scatter",
           "x": [
            29.87,
            33.48,
            33.53,
            34.49,
            33.14,
            32.96,
            33.79,
            29.75,
            33.7,
            33.5,
            34.04
           ],
           "xaxis": "x",
           "y": [
            26.62,
            25.25,
            23.95,
            26.76,
            38.38,
            36.09,
            28.43,
            24.67,
            22.62,
            30.24,
            43.7
           ],
           "yaxis": "y"
          },
          {
           "hovertemplate": "club=football<br>frameId=46<br>x=%{x}<br>y=%{y}<extra></extra>",
           "legendgroup": "football",
           "marker": {
            "color": "#00cc96",
            "symbol": "circle"
           },
           "mode": "markers",
           "name": "football",
           "orientation": "v",
           "showlegend": true,
           "type": "scatter",
           "x": [
            34.6500015258789
           ],
           "xaxis": "x",
           "y": [
            26.7399997711182
           ],
           "yaxis": "y"
          }
         ],
         "name": "46"
        },
        {
         "data": [
          {
           "hovertemplate": "club=CIN<br>frameId=47<br>x=%{x}<br>y=%{y}<extra></extra>",
           "legendgroup": "CIN",
           "marker": {
            "color": "#636efa",
            "symbol": "circle"
           },
           "mode": "markers",
           "name": "CIN",
           "orientation": "v",
           "showlegend": true,
           "type": "scatter",
           "x": [
            39.68,
            45.95,
            35.57,
            38.98,
            39.42,
            35.96,
            46.15,
            36,
            35.91,
            39.73,
            38.97
           ],
           "xaxis": "x",
           "y": [
            18.37,
            22.03,
            27.95,
            38.81,
            43.76,
            31.83,
            34.08,
            24.91,
            22.37,
            25.83,
            30.68
           ],
           "yaxis": "y"
          },
          {
           "hovertemplate": "club=PIT<br>frameId=47<br>x=%{x}<br>y=%{y}<extra></extra>",
           "legendgroup": "PIT",
           "marker": {
            "color": "#EF553B",
            "symbol": "circle"
           },
           "mode": "markers",
           "name": "PIT",
           "orientation": "v",
           "showlegend": true,
           "type": "scatter",
           "x": [
            29.86,
            33.48,
            33.53,
            34.5,
            33.12,
            32.97,
            33.79,
            29.77,
            33.74,
            33.5,
            34.05
           ],
           "xaxis": "x",
           "y": [
            26.62,
            25.25,
            23.96,
            26.74,
            38.33,
            36.09,
            28.44,
            24.68,
            22.67,
            30.25,
            43.71
           ],
           "yaxis": "y"
          },
          {
           "hovertemplate": "club=football<br>frameId=47<br>x=%{x}<br>y=%{y}<extra></extra>",
           "legendgroup": "football",
           "marker": {
            "color": "#00cc96",
            "symbol": "circle"
           },
           "mode": "markers",
           "name": "football",
           "orientation": "v",
           "showlegend": true,
           "type": "scatter",
           "x": [
            34.6500015258789
           ],
           "xaxis": "x",
           "y": [
            26.7399997711182
           ],
           "yaxis": "y"
          }
         ],
         "name": "47"
        },
        {
         "data": [
          {
           "hovertemplate": "club=CIN<br>frameId=48<br>x=%{x}<br>y=%{y}<extra></extra>",
           "legendgroup": "CIN",
           "marker": {
            "color": "#636efa",
            "symbol": "circle"
           },
           "mode": "markers",
           "name": "CIN",
           "orientation": "v",
           "showlegend": true,
           "type": "scatter",
           "x": [
            39.68,
            45.87,
            35.56,
            38.95,
            39.55,
            35.88,
            46.11,
            35.98,
            35.9,
            39.72,
            38.97
           ],
           "xaxis": "x",
           "y": [
            18.37,
            22.03,
            27.97,
            38.75,
            43.76,
            31.83,
            34.21,
            24.94,
            22.38,
            25.84,
            30.66
           ],
           "yaxis": "y"
          },
          {
           "hovertemplate": "club=PIT<br>frameId=48<br>x=%{x}<br>y=%{y}<extra></extra>",
           "legendgroup": "PIT",
           "marker": {
            "color": "#EF553B",
            "symbol": "circle"
           },
           "mode": "markers",
           "name": "PIT",
           "orientation": "v",
           "showlegend": true,
           "type": "scatter",
           "x": [
            29.85,
            33.48,
            33.53,
            34.51,
            33.09,
            32.99,
            33.79,
            29.79,
            33.78,
            33.49,
            34.04
           ],
           "xaxis": "x",
           "y": [
            26.62,
            25.25,
            23.97,
            26.72,
            38.28,
            36.09,
            28.45,
            24.69,
            22.73,
            30.26,
            43.71
           ],
           "yaxis": "y"
          },
          {
           "hovertemplate": "club=football<br>frameId=48<br>x=%{x}<br>y=%{y}<extra></extra>",
           "legendgroup": "football",
           "marker": {
            "color": "#00cc96",
            "symbol": "circle"
           },
           "mode": "markers",
           "name": "football",
           "orientation": "v",
           "showlegend": true,
           "type": "scatter",
           "x": [
            34.6500015258789
           ],
           "xaxis": "x",
           "y": [
            26.7299995422363
           ],
           "yaxis": "y"
          }
         ],
         "name": "48"
        },
        {
         "data": [
          {
           "hovertemplate": "club=CIN<br>frameId=49<br>x=%{x}<br>y=%{y}<extra></extra>",
           "legendgroup": "CIN",
           "marker": {
            "color": "#636efa",
            "symbol": "circle"
           },
           "mode": "markers",
           "name": "CIN",
           "orientation": "v",
           "showlegend": true,
           "type": "scatter",
           "x": [
            39.67,
            45.78,
            35.53,
            38.92,
            39.67,
            35.81,
            46.06,
            35.96,
            35.88,
            39.71,
            38.97
           ],
           "xaxis": "x",
           "y": [
            18.35,
            22.03,
            27.99,
            38.66,
            43.76,
            31.82,
            34.33,
            24.96,
            22.38,
            25.85,
            30.64
           ],
           "yaxis": "y"
          },
          {
           "hovertemplate": "club=PIT<br>frameId=49<br>x=%{x}<br>y=%{y}<extra></extra>",
           "legendgroup": "PIT",
           "marker": {
            "color": "#EF553B",
            "symbol": "circle"
           },
           "mode": "markers",
           "name": "PIT",
           "orientation": "v",
           "showlegend": true,
           "type": "scatter",
           "x": [
            29.84,
            33.48,
            33.52,
            34.52,
            33.07,
            33,
            33.79,
            29.82,
            33.79,
            33.49,
            34.03
           ],
           "xaxis": "x",
           "y": [
            26.62,
            25.24,
            23.98,
            26.71,
            38.24,
            36.09,
            28.45,
            24.7,
            22.76,
            30.27,
            43.69
           ],
           "yaxis": "y"
          },
          {
           "hovertemplate": "club=football<br>frameId=49<br>x=%{x}<br>y=%{y}<extra></extra>",
           "legendgroup": "football",
           "marker": {
            "color": "#00cc96",
            "symbol": "circle"
           },
           "mode": "markers",
           "name": "football",
           "orientation": "v",
           "showlegend": true,
           "type": "scatter",
           "x": [
            34.6399993896484
           ],
           "xaxis": "x",
           "y": [
            26.7299995422363
           ],
           "yaxis": "y"
          }
         ],
         "name": "49"
        },
        {
         "data": [
          {
           "hovertemplate": "club=CIN<br>frameId=50<br>x=%{x}<br>y=%{y}<extra></extra>",
           "legendgroup": "CIN",
           "marker": {
            "color": "#636efa",
            "symbol": "circle"
           },
           "mode": "markers",
           "name": "CIN",
           "orientation": "v",
           "showlegend": true,
           "type": "scatter",
           "x": [
            39.67,
            45.69,
            35.51,
            38.9,
            39.8,
            35.75,
            46.02,
            35.93,
            35.88,
            39.7,
            38.97
           ],
           "xaxis": "x",
           "y": [
            18.33,
            22.02,
            28,
            38.56,
            43.75,
            31.83,
            34.45,
            24.97,
            22.38,
            25.86,
            30.63
           ],
           "yaxis": "y"
          },
          {
           "hovertemplate": "club=PIT<br>frameId=50<br>x=%{x}<br>y=%{y}<extra></extra>",
           "legendgroup": "PIT",
           "marker": {
            "color": "#EF553B",
            "symbol": "circle"
           },
           "mode": "markers",
           "name": "PIT",
           "orientation": "v",
           "showlegend": true,
           "type": "scatter",
           "x": [
            29.83,
            33.47,
            33.52,
            34.53,
            33.04,
            33.02,
            33.78,
            29.84,
            33.8,
            33.49,
            34.02
           ],
           "xaxis": "x",
           "y": [
            26.62,
            25.25,
            23.99,
            26.7,
            38.2,
            36.1,
            28.46,
            24.71,
            22.74,
            30.29,
            43.67
           ],
           "yaxis": "y"
          },
          {
           "hovertemplate": "club=football<br>frameId=50<br>x=%{x}<br>y=%{y}<extra></extra>",
           "legendgroup": "football",
           "marker": {
            "color": "#00cc96",
            "symbol": "circle"
           },
           "mode": "markers",
           "name": "football",
           "orientation": "v",
           "showlegend": true,
           "type": "scatter",
           "x": [
            34.6399993896484
           ],
           "xaxis": "x",
           "y": [
            26.7299995422363
           ],
           "yaxis": "y"
          }
         ],
         "name": "50"
        },
        {
         "data": [
          {
           "hovertemplate": "club=CIN<br>frameId=51<br>x=%{x}<br>y=%{y}<extra></extra>",
           "legendgroup": "CIN",
           "marker": {
            "color": "#636efa",
            "symbol": "circle"
           },
           "mode": "markers",
           "name": "CIN",
           "orientation": "v",
           "showlegend": true,
           "type": "scatter",
           "x": [
            39.66,
            45.61,
            35.48,
            38.87,
            39.92,
            35.68,
            45.99,
            35.89,
            35.86,
            39.7,
            38.97
           ],
           "xaxis": "x",
           "y": [
            18.3,
            22.02,
            28,
            38.46,
            43.74,
            31.83,
            34.57,
            24.97,
            22.38,
            25.87,
            30.62
           ],
           "yaxis": "y"
          },
          {
           "hovertemplate": "club=PIT<br>frameId=51<br>x=%{x}<br>y=%{y}<extra></extra>",
           "legendgroup": "PIT",
           "marker": {
            "color": "#EF553B",
            "symbol": "circle"
           },
           "mode": "markers",
           "name": "PIT",
           "orientation": "v",
           "showlegend": true,
           "type": "scatter",
           "x": [
            29.83,
            33.47,
            33.51,
            34.54,
            33.01,
            33.05,
            33.78,
            29.85,
            33.79,
            33.5,
            34.01
           ],
           "xaxis": "x",
           "y": [
            26.62,
            25.25,
            24,
            26.69,
            38.18,
            36.1,
            28.46,
            24.71,
            22.74,
            30.3,
            43.67
           ],
           "yaxis": "y"
          },
          {
           "hovertemplate": "club=football<br>frameId=51<br>x=%{x}<br>y=%{y}<extra></extra>",
           "legendgroup": "football",
           "marker": {
            "color": "#00cc96",
            "symbol": "circle"
           },
           "mode": "markers",
           "name": "football",
           "orientation": "v",
           "showlegend": true,
           "type": "scatter",
           "x": [
            34.6399993896484
           ],
           "xaxis": "x",
           "y": [
            26.7299995422363
           ],
           "yaxis": "y"
          }
         ],
         "name": "51"
        },
        {
         "data": [
          {
           "hovertemplate": "club=CIN<br>frameId=52<br>x=%{x}<br>y=%{y}<extra></extra>",
           "legendgroup": "CIN",
           "marker": {
            "color": "#636efa",
            "symbol": "circle"
           },
           "mode": "markers",
           "name": "CIN",
           "orientation": "v",
           "showlegend": true,
           "type": "scatter",
           "x": [
            39.66,
            45.53,
            35.46,
            38.85,
            40.04,
            35.61,
            45.95,
            35.85,
            35.84,
            39.69,
            38.97
           ],
           "xaxis": "x",
           "y": [
            18.27,
            22.01,
            28,
            38.34,
            43.72,
            31.83,
            34.69,
            24.96,
            22.39,
            25.88,
            30.6
           ],
           "yaxis": "y"
          },
          {
           "hovertemplate": "club=PIT<br>frameId=52<br>x=%{x}<br>y=%{y}<extra></extra>",
           "legendgroup": "PIT",
           "marker": {
            "color": "#EF553B",
            "symbol": "circle"
           },
           "mode": "markers",
           "name": "PIT",
           "orientation": "v",
           "showlegend": true,
           "type": "scatter",
           "x": [
            29.83,
            33.48,
            33.49,
            34.54,
            32.99,
            33.07,
            33.78,
            29.85,
            33.77,
            33.5,
            34.01
           ],
           "xaxis": "x",
           "y": [
            26.63,
            25.24,
            24,
            26.69,
            38.16,
            36.11,
            28.46,
            24.72,
            22.72,
            30.31,
            43.68
           ],
           "yaxis": "y"
          },
          {
           "hovertemplate": "club=football<br>frameId=52<br>x=%{x}<br>y=%{y}<extra></extra>",
           "legendgroup": "football",
           "marker": {
            "color": "#00cc96",
            "symbol": "circle"
           },
           "mode": "markers",
           "name": "football",
           "orientation": "v",
           "showlegend": true,
           "type": "scatter",
           "x": [
            34.6399993896484
           ],
           "xaxis": "x",
           "y": [
            26.7299995422363
           ],
           "yaxis": "y"
          }
         ],
         "name": "52"
        },
        {
         "data": [
          {
           "hovertemplate": "club=CIN<br>frameId=53<br>x=%{x}<br>y=%{y}<extra></extra>",
           "legendgroup": "CIN",
           "marker": {
            "color": "#636efa",
            "symbol": "circle"
           },
           "mode": "markers",
           "name": "CIN",
           "orientation": "v",
           "showlegend": true,
           "type": "scatter",
           "x": [
            39.67,
            45.45,
            35.45,
            38.82,
            40.16,
            35.54,
            45.92,
            35.8,
            35.82,
            39.68,
            38.97
           ],
           "xaxis": "x",
           "y": [
            18.24,
            22,
            28,
            38.23,
            43.7,
            31.82,
            34.82,
            24.95,
            22.39,
            25.88,
            30.58
           ],
           "yaxis": "y"
          },
          {
           "hovertemplate": "club=PIT<br>frameId=53<br>x=%{x}<br>y=%{y}<extra></extra>",
           "legendgroup": "PIT",
           "marker": {
            "color": "#EF553B",
            "symbol": "circle"
           },
           "mode": "markers",
           "name": "PIT",
           "orientation": "v",
           "showlegend": true,
           "type": "scatter",
           "x": [
            29.83,
            33.47,
            33.5,
            34.53,
            32.96,
            33.07,
            33.78,
            29.87,
            33.74,
            33.49,
            34.02
           ],
           "xaxis": "x",
           "y": [
            26.65,
            25.23,
            24.01,
            26.69,
            38.15,
            36.1,
            28.46,
            24.72,
            22.68,
            30.32,
            43.7
           ],
           "yaxis": "y"
          },
          {
           "hovertemplate": "club=football<br>frameId=53<br>x=%{x}<br>y=%{y}<extra></extra>",
           "legendgroup": "football",
           "marker": {
            "color": "#00cc96",
            "symbol": "circle"
           },
           "mode": "markers",
           "name": "football",
           "orientation": "v",
           "showlegend": true,
           "type": "scatter",
           "x": [
            34.6399993896484
           ],
           "xaxis": "x",
           "y": [
            26.7299995422363
           ],
           "yaxis": "y"
          }
         ],
         "name": "53"
        },
        {
         "data": [
          {
           "hovertemplate": "club=CIN<br>frameId=54<br>x=%{x}<br>y=%{y}<extra></extra>",
           "legendgroup": "CIN",
           "marker": {
            "color": "#636efa",
            "symbol": "circle"
           },
           "mode": "markers",
           "name": "CIN",
           "orientation": "v",
           "showlegend": true,
           "type": "scatter",
           "x": [
            39.67,
            45.37,
            35.44,
            38.8,
            40.28,
            35.5,
            45.9,
            35.75,
            35.8,
            39.68,
            38.97
           ],
           "xaxis": "x",
           "y": [
            18.2,
            21.99,
            27.98,
            38.12,
            43.68,
            31.84,
            34.94,
            24.95,
            22.39,
            25.89,
            30.57
           ],
           "yaxis": "y"
          },
          {
           "hovertemplate": "club=PIT<br>frameId=54<br>x=%{x}<br>y=%{y}<extra></extra>",
           "legendgroup": "PIT",
           "marker": {
            "color": "#EF553B",
            "symbol": "circle"
           },
           "mode": "markers",
           "name": "PIT",
           "orientation": "v",
           "showlegend": true,
           "type": "scatter",
           "x": [
            29.83,
            33.47,
            33.5,
            34.54,
            32.94,
            33.08,
            33.77,
            29.88,
            33.69,
            33.49,
            34.03
           ],
           "xaxis": "x",
           "y": [
            26.66,
            25.23,
            24.01,
            26.69,
            38.15,
            36.09,
            28.46,
            24.73,
            22.62,
            30.33,
            43.71
           ],
           "yaxis": "y"
          },
          {
           "hovertemplate": "club=football<br>frameId=54<br>x=%{x}<br>y=%{y}<extra></extra>",
           "legendgroup": "football",
           "marker": {
            "color": "#00cc96",
            "symbol": "circle"
           },
           "mode": "markers",
           "name": "football",
           "orientation": "v",
           "showlegend": true,
           "type": "scatter",
           "x": [
            34.6399993896484
           ],
           "xaxis": "x",
           "y": [
            26.7299995422363
           ],
           "yaxis": "y"
          }
         ],
         "name": "54"
        },
        {
         "data": [
          {
           "hovertemplate": "club=CIN<br>frameId=55<br>x=%{x}<br>y=%{y}<extra></extra>",
           "legendgroup": "CIN",
           "marker": {
            "color": "#636efa",
            "symbol": "circle"
           },
           "mode": "markers",
           "name": "CIN",
           "orientation": "v",
           "showlegend": true,
           "type": "scatter",
           "x": [
            39.66,
            45.32,
            35.45,
            38.77,
            40.39,
            35.45,
            45.88,
            35.7,
            35.76,
            39.68,
            38.98
           ],
           "xaxis": "x",
           "y": [
            18.16,
            21.97,
            27.97,
            38.02,
            43.66,
            31.85,
            35.06,
            24.95,
            22.39,
            25.89,
            30.56
           ],
           "yaxis": "y"
          },
          {
           "hovertemplate": "club=PIT<br>frameId=55<br>x=%{x}<br>y=%{y}<extra></extra>",
           "legendgroup": "PIT",
           "marker": {
            "color": "#EF553B",
            "symbol": "circle"
           },
           "mode": "markers",
           "name": "PIT",
           "orientation": "v",
           "showlegend": true,
           "type": "scatter",
           "x": [
            29.84,
            33.47,
            33.49,
            34.54,
            32.92,
            33.09,
            33.76,
            29.88,
            33.64,
            33.49,
            34.03
           ],
           "xaxis": "x",
           "y": [
            26.66,
            25.22,
            24,
            26.68,
            38.15,
            36.08,
            28.46,
            24.73,
            22.57,
            30.33,
            43.74
           ],
           "yaxis": "y"
          },
          {
           "hovertemplate": "club=football<br>frameId=55<br>x=%{x}<br>y=%{y}<extra></extra>",
           "legendgroup": "football",
           "marker": {
            "color": "#00cc96",
            "symbol": "circle"
           },
           "mode": "markers",
           "name": "football",
           "orientation": "v",
           "showlegend": true,
           "type": "scatter",
           "x": [
            34.6300010681152
           ],
           "xaxis": "x",
           "y": [
            26.7299995422363
           ],
           "yaxis": "y"
          }
         ],
         "name": "55"
        },
        {
         "data": [
          {
           "hovertemplate": "club=CIN<br>frameId=56<br>x=%{x}<br>y=%{y}<extra></extra>",
           "legendgroup": "CIN",
           "marker": {
            "color": "#636efa",
            "symbol": "circle"
           },
           "mode": "markers",
           "name": "CIN",
           "orientation": "v",
           "showlegend": true,
           "type": "scatter",
           "x": [
            39.64,
            45.27,
            35.46,
            38.75,
            40.52,
            35.42,
            45.87,
            35.65,
            35.72,
            39.67,
            38.97
           ],
           "xaxis": "x",
           "y": [
            18.12,
            21.94,
            27.96,
            37.93,
            43.65,
            31.85,
            35.17,
            24.94,
            22.4,
            25.89,
            30.56
           ],
           "yaxis": "y"
          },
          {
           "hovertemplate": "club=PIT<br>frameId=56<br>x=%{x}<br>y=%{y}<extra></extra>",
           "legendgroup": "PIT",
           "marker": {
            "color": "#EF553B",
            "symbol": "circle"
           },
           "mode": "markers",
           "name": "PIT",
           "orientation": "v",
           "showlegend": true,
           "type": "scatter",
           "x": [
            29.84,
            33.47,
            33.49,
            34.54,
            32.91,
            33.09,
            33.76,
            29.89,
            33.6,
            33.49,
            34.03
           ],
           "xaxis": "x",
           "y": [
            26.65,
            25.22,
            24.01,
            26.68,
            38.15,
            36.08,
            28.46,
            24.74,
            22.51,
            30.34,
            43.75
           ],
           "yaxis": "y"
          },
          {
           "hovertemplate": "club=football<br>frameId=56<br>x=%{x}<br>y=%{y}<extra></extra>",
           "legendgroup": "football",
           "marker": {
            "color": "#00cc96",
            "symbol": "circle"
           },
           "mode": "markers",
           "name": "football",
           "orientation": "v",
           "showlegend": true,
           "type": "scatter",
           "x": [
            34.6300010681152
           ],
           "xaxis": "x",
           "y": [
            26.7299995422363
           ],
           "yaxis": "y"
          }
         ],
         "name": "56"
        },
        {
         "data": [
          {
           "hovertemplate": "club=CIN<br>frameId=57<br>x=%{x}<br>y=%{y}<extra></extra>",
           "legendgroup": "CIN",
           "marker": {
            "color": "#636efa",
            "symbol": "circle"
           },
           "mode": "markers",
           "name": "CIN",
           "orientation": "v",
           "showlegend": true,
           "type": "scatter",
           "x": [
            39.63,
            45.22,
            35.47,
            38.72,
            40.64,
            35.38,
            45.86,
            35.59,
            35.69,
            39.67,
            38.97
           ],
           "xaxis": "x",
           "y": [
            18.08,
            21.91,
            27.94,
            37.84,
            43.65,
            31.87,
            35.28,
            24.94,
            22.39,
            25.9,
            30.56
           ],
           "yaxis": "y"
          },
          {
           "hovertemplate": "club=PIT<br>frameId=57<br>x=%{x}<br>y=%{y}<extra></extra>",
           "legendgroup": "PIT",
           "marker": {
            "color": "#EF553B",
            "symbol": "circle"
           },
           "mode": "markers",
           "name": "PIT",
           "orientation": "v",
           "showlegend": true,
           "type": "scatter",
           "x": [
            29.85,
            33.47,
            33.49,
            34.54,
            32.89,
            33.1,
            33.77,
            29.9,
            33.56,
            33.49,
            34.04
           ],
           "xaxis": "x",
           "y": [
            26.65,
            25.22,
            24.02,
            26.69,
            38.16,
            36.08,
            28.46,
            24.73,
            22.46,
            30.34,
            43.75
           ],
           "yaxis": "y"
          },
          {
           "hovertemplate": "club=football<br>frameId=57<br>x=%{x}<br>y=%{y}<extra></extra>",
           "legendgroup": "football",
           "marker": {
            "color": "#00cc96",
            "symbol": "circle"
           },
           "mode": "markers",
           "name": "football",
           "orientation": "v",
           "showlegend": true,
           "type": "scatter",
           "x": [
            34.6300010681152
           ],
           "xaxis": "x",
           "y": [
            26.7299995422363
           ],
           "yaxis": "y"
          }
         ],
         "name": "57"
        },
        {
         "data": [
          {
           "hovertemplate": "club=CIN<br>frameId=58<br>x=%{x}<br>y=%{y}<extra></extra>",
           "legendgroup": "CIN",
           "marker": {
            "color": "#636efa",
            "symbol": "circle"
           },
           "mode": "markers",
           "name": "CIN",
           "orientation": "v",
           "showlegend": true,
           "type": "scatter",
           "x": [
            39.61,
            45.19,
            35.49,
            38.69,
            40.77,
            35.36,
            45.85,
            35.55,
            35.66,
            39.67,
            38.96
           ],
           "xaxis": "x",
           "y": [
            18.08,
            21.87,
            27.93,
            37.76,
            43.65,
            31.88,
            35.38,
            24.95,
            22.38,
            25.9,
            30.58
           ],
           "yaxis": "y"
          },
          {
           "hovertemplate": "club=PIT<br>frameId=58<br>x=%{x}<br>y=%{y}<extra></extra>",
           "legendgroup": "PIT",
           "marker": {
            "color": "#EF553B",
            "symbol": "circle"
           },
           "mode": "markers",
           "name": "PIT",
           "orientation": "v",
           "showlegend": true,
           "type": "scatter",
           "x": [
            29.85,
            33.47,
            33.48,
            34.55,
            32.89,
            33.1,
            33.77,
            29.91,
            33.52,
            33.49,
            34.04
           ],
           "xaxis": "x",
           "y": [
            26.65,
            25.22,
            24.02,
            26.69,
            38.16,
            36.08,
            28.47,
            24.72,
            22.43,
            30.34,
            43.73
           ],
           "yaxis": "y"
          },
          {
           "hovertemplate": "club=football<br>frameId=58<br>x=%{x}<br>y=%{y}<extra></extra>",
           "legendgroup": "football",
           "marker": {
            "color": "#00cc96",
            "symbol": "circle"
           },
           "mode": "markers",
           "name": "football",
           "orientation": "v",
           "showlegend": true,
           "type": "scatter",
           "x": [
            34.6300010681152
           ],
           "xaxis": "x",
           "y": [
            26.7299995422363
           ],
           "yaxis": "y"
          }
         ],
         "name": "58"
        },
        {
         "data": [
          {
           "hovertemplate": "club=CIN<br>frameId=59<br>x=%{x}<br>y=%{y}<extra></extra>",
           "legendgroup": "CIN",
           "marker": {
            "color": "#636efa",
            "symbol": "circle"
           },
           "mode": "markers",
           "name": "CIN",
           "orientation": "v",
           "showlegend": true,
           "type": "scatter",
           "x": [
            39.58,
            45.15,
            35.5,
            38.66,
            40.9,
            35.35,
            45.85,
            35.51,
            35.63,
            39.66,
            38.95
           ],
           "xaxis": "x",
           "y": [
            18.08,
            21.84,
            27.92,
            37.68,
            43.66,
            31.9,
            35.48,
            24.94,
            22.38,
            25.9,
            30.59
           ],
           "yaxis": "y"
          },
          {
           "hovertemplate": "club=PIT<br>frameId=59<br>x=%{x}<br>y=%{y}<extra></extra>",
           "legendgroup": "PIT",
           "marker": {
            "color": "#EF553B",
            "symbol": "circle"
           },
           "mode": "markers",
           "name": "PIT",
           "orientation": "v",
           "showlegend": true,
           "type": "scatter",
           "x": [
            29.85,
            33.47,
            33.48,
            34.54,
            32.88,
            33.1,
            33.77,
            29.92,
            33.49,
            33.49,
            34.04
           ],
           "xaxis": "x",
           "y": [
            26.65,
            25.22,
            24.02,
            26.69,
            38.17,
            36.07,
            28.47,
            24.72,
            22.38,
            30.34,
            43.73
           ],
           "yaxis": "y"
          },
          {
           "hovertemplate": "club=football<br>frameId=59<br>x=%{x}<br>y=%{y}<extra></extra>",
           "legendgroup": "football",
           "marker": {
            "color": "#00cc96",
            "symbol": "circle"
           },
           "mode": "markers",
           "name": "football",
           "orientation": "v",
           "showlegend": true,
           "type": "scatter",
           "x": [
            34.6300010681152
           ],
           "xaxis": "x",
           "y": [
            26.7299995422363
           ],
           "yaxis": "y"
          }
         ],
         "name": "59"
        },
        {
         "data": [
          {
           "hovertemplate": "club=CIN<br>frameId=60<br>x=%{x}<br>y=%{y}<extra></extra>",
           "legendgroup": "CIN",
           "marker": {
            "color": "#636efa",
            "symbol": "circle"
           },
           "mode": "markers",
           "name": "CIN",
           "orientation": "v",
           "showlegend": true,
           "type": "scatter",
           "x": [
            39.56,
            45.12,
            35.52,
            38.64,
            41.01,
            35.34,
            45.85,
            35.48,
            35.59,
            39.66,
            38.93
           ],
           "xaxis": "x",
           "y": [
            18.09,
            21.81,
            27.91,
            37.61,
            43.69,
            31.92,
            35.57,
            24.95,
            22.41,
            25.91,
            30.63
           ],
           "yaxis": "y"
          },
          {
           "hovertemplate": "club=PIT<br>frameId=60<br>x=%{x}<br>y=%{y}<extra></extra>",
           "legendgroup": "PIT",
           "marker": {
            "color": "#EF553B",
            "symbol": "circle"
           },
           "mode": "markers",
           "name": "PIT",
           "orientation": "v",
           "showlegend": true,
           "type": "scatter",
           "x": [
            29.85,
            33.47,
            33.47,
            34.54,
            32.88,
            33.09,
            33.77,
            29.93,
            33.47,
            33.49,
            34.05
           ],
           "xaxis": "x",
           "y": [
            26.66,
            25.22,
            24.02,
            26.69,
            38.17,
            36.07,
            28.47,
            24.73,
            22.36,
            30.34,
            43.74
           ],
           "yaxis": "y"
          },
          {
           "hovertemplate": "club=football<br>frameId=60<br>x=%{x}<br>y=%{y}<extra></extra>",
           "legendgroup": "football",
           "marker": {
            "color": "#00cc96",
            "symbol": "circle"
           },
           "mode": "markers",
           "name": "football",
           "orientation": "v",
           "showlegend": true,
           "type": "scatter",
           "x": [
            34.6199989318848
           ],
           "xaxis": "x",
           "y": [
            26.7199993133545
           ],
           "yaxis": "y"
          }
         ],
         "name": "60"
        },
        {
         "data": [
          {
           "hovertemplate": "club=CIN<br>frameId=61<br>x=%{x}<br>y=%{y}<extra></extra>",
           "legendgroup": "CIN",
           "marker": {
            "color": "#636efa",
            "symbol": "circle"
           },
           "mode": "markers",
           "name": "CIN",
           "orientation": "v",
           "showlegend": true,
           "type": "scatter",
           "x": [
            39.57,
            45.09,
            35.53,
            38.62,
            41.12,
            35.35,
            45.85,
            35.46,
            35.56,
            39.66,
            38.89
           ],
           "xaxis": "x",
           "y": [
            18.1,
            21.78,
            27.9,
            37.55,
            43.72,
            31.95,
            35.65,
            24.96,
            22.43,
            25.91,
            30.67
           ],
           "yaxis": "y"
          },
          {
           "hovertemplate": "club=PIT<br>frameId=61<br>x=%{x}<br>y=%{y}<extra></extra>",
           "legendgroup": "PIT",
           "marker": {
            "color": "#EF553B",
            "symbol": "circle"
           },
           "mode": "markers",
           "name": "PIT",
           "orientation": "v",
           "showlegend": true,
           "type": "scatter",
           "x": [
            29.85,
            33.47,
            33.47,
            34.54,
            32.88,
            33.09,
            33.77,
            29.94,
            33.45,
            33.49,
            34.06
           ],
           "xaxis": "x",
           "y": [
            26.66,
            25.22,
            24.02,
            26.69,
            38.18,
            36.07,
            28.47,
            24.71,
            22.33,
            30.34,
            43.75
           ],
           "yaxis": "y"
          },
          {
           "hovertemplate": "club=football<br>frameId=61<br>x=%{x}<br>y=%{y}<extra></extra>",
           "legendgroup": "football",
           "marker": {
            "color": "#00cc96",
            "symbol": "circle"
           },
           "mode": "markers",
           "name": "football",
           "orientation": "v",
           "showlegend": true,
           "type": "scatter",
           "x": [
            34.6199989318848
           ],
           "xaxis": "x",
           "y": [
            26.7199993133545
           ],
           "yaxis": "y"
          }
         ],
         "name": "61"
        },
        {
         "data": [
          {
           "hovertemplate": "club=CIN<br>frameId=62<br>x=%{x}<br>y=%{y}<extra></extra>",
           "legendgroup": "CIN",
           "marker": {
            "color": "#636efa",
            "symbol": "circle"
           },
           "mode": "markers",
           "name": "CIN",
           "orientation": "v",
           "showlegend": true,
           "type": "scatter",
           "x": [
            39.54,
            45.07,
            35.55,
            38.6,
            41.21,
            35.37,
            45.85,
            35.44,
            35.54,
            39.66,
            38.85
           ],
           "xaxis": "x",
           "y": [
            18.11,
            21.75,
            27.9,
            37.49,
            43.77,
            31.98,
            35.74,
            24.97,
            22.44,
            25.92,
            30.72
           ],
           "yaxis": "y"
          },
          {
           "hovertemplate": "club=PIT<br>frameId=62<br>x=%{x}<br>y=%{y}<extra></extra>",
           "legendgroup": "PIT",
           "marker": {
            "color": "#EF553B",
            "symbol": "circle"
           },
           "mode": "markers",
           "name": "PIT",
           "orientation": "v",
           "showlegend": true,
           "type": "scatter",
           "x": [
            29.84,
            33.48,
            33.47,
            34.54,
            32.88,
            33.1,
            33.77,
            29.94,
            33.42,
            33.49,
            34.06
           ],
           "xaxis": "x",
           "y": [
            26.66,
            25.23,
            24.02,
            26.69,
            38.19,
            36.08,
            28.47,
            24.69,
            22.35,
            30.33,
            43.75
           ],
           "yaxis": "y"
          },
          {
           "hovertemplate": "club=football<br>frameId=62<br>x=%{x}<br>y=%{y}<extra></extra>",
           "legendgroup": "football",
           "marker": {
            "color": "#00cc96",
            "symbol": "circle"
           },
           "mode": "markers",
           "name": "football",
           "orientation": "v",
           "showlegend": true,
           "type": "scatter",
           "x": [
            34.6199989318848
           ],
           "xaxis": "x",
           "y": [
            26.7199993133545
           ],
           "yaxis": "y"
          }
         ],
         "name": "62"
        },
        {
         "data": [
          {
           "hovertemplate": "club=CIN<br>frameId=63<br>x=%{x}<br>y=%{y}<extra></extra>",
           "legendgroup": "CIN",
           "marker": {
            "color": "#636efa",
            "symbol": "circle"
           },
           "mode": "markers",
           "name": "CIN",
           "orientation": "v",
           "showlegend": true,
           "type": "scatter",
           "x": [
            39.52,
            45.06,
            35.56,
            38.59,
            41.31,
            35.38,
            45.85,
            35.43,
            35.52,
            39.66,
            38.8
           ],
           "xaxis": "x",
           "y": [
            18.12,
            21.71,
            27.89,
            37.45,
            43.81,
            32,
            35.81,
            24.98,
            22.44,
            25.92,
            30.78
           ],
           "yaxis": "y"
          },
          {
           "hovertemplate": "club=PIT<br>frameId=63<br>x=%{x}<br>y=%{y}<extra></extra>",
           "legendgroup": "PIT",
           "marker": {
            "color": "#EF553B",
            "symbol": "circle"
           },
           "mode": "markers",
           "name": "PIT",
           "orientation": "v",
           "showlegend": true,
           "type": "scatter",
           "x": [
            29.84,
            33.48,
            33.47,
            34.55,
            32.88,
            33.1,
            33.77,
            29.94,
            33.39,
            33.49,
            34.06
           ],
           "xaxis": "x",
           "y": [
            26.67,
            25.23,
            24.01,
            26.69,
            38.2,
            36.09,
            28.47,
            24.69,
            22.36,
            30.33,
            43.75
           ],
           "yaxis": "y"
          },
          {
           "hovertemplate": "club=football<br>frameId=63<br>x=%{x}<br>y=%{y}<extra></extra>",
           "legendgroup": "football",
           "marker": {
            "color": "#00cc96",
            "symbol": "circle"
           },
           "mode": "markers",
           "name": "football",
           "orientation": "v",
           "showlegend": true,
           "type": "scatter",
           "x": [
            34.6199989318848
           ],
           "xaxis": "x",
           "y": [
            26.7199993133545
           ],
           "yaxis": "y"
          }
         ],
         "name": "63"
        },
        {
         "data": [
          {
           "hovertemplate": "club=CIN<br>frameId=64<br>x=%{x}<br>y=%{y}<extra></extra>",
           "legendgroup": "CIN",
           "marker": {
            "color": "#636efa",
            "symbol": "circle"
           },
           "mode": "markers",
           "name": "CIN",
           "orientation": "v",
           "showlegend": true,
           "type": "scatter",
           "x": [
            39.51,
            45.05,
            35.56,
            38.58,
            41.4,
            35.41,
            45.86,
            35.42,
            35.5,
            39.65,
            38.76
           ],
           "xaxis": "x",
           "y": [
            18.12,
            21.67,
            27.89,
            37.41,
            43.87,
            32.02,
            35.89,
            24.99,
            22.45,
            25.92,
            30.85
           ],
           "yaxis": "y"
          },
          {
           "hovertemplate": "club=PIT<br>frameId=64<br>x=%{x}<br>y=%{y}<extra></extra>",
           "legendgroup": "PIT",
           "marker": {
            "color": "#EF553B",
            "symbol": "circle"
           },
           "mode": "markers",
           "name": "PIT",
           "orientation": "v",
           "showlegend": true,
           "type": "scatter",
           "x": [
            29.84,
            33.48,
            33.46,
            34.55,
            32.88,
            33.11,
            33.77,
            29.94,
            33.4,
            33.5,
            34.07
           ],
           "xaxis": "x",
           "y": [
            26.67,
            25.23,
            24.01,
            26.69,
            38.2,
            36.08,
            28.47,
            24.69,
            22.36,
            30.33,
            43.75
           ],
           "yaxis": "y"
          },
          {
           "hovertemplate": "club=football<br>frameId=64<br>x=%{x}<br>y=%{y}<extra></extra>",
           "legendgroup": "football",
           "marker": {
            "color": "#00cc96",
            "symbol": "circle"
           },
           "mode": "markers",
           "name": "football",
           "orientation": "v",
           "showlegend": true,
           "type": "scatter",
           "x": [
            34.6199989318848
           ],
           "xaxis": "x",
           "y": [
            26.7199993133545
           ],
           "yaxis": "y"
          }
         ],
         "name": "64"
        },
        {
         "data": [
          {
           "hovertemplate": "club=CIN<br>frameId=65<br>x=%{x}<br>y=%{y}<extra></extra>",
           "legendgroup": "CIN",
           "marker": {
            "color": "#636efa",
            "symbol": "circle"
           },
           "mode": "markers",
           "name": "CIN",
           "orientation": "v",
           "showlegend": true,
           "type": "scatter",
           "x": [
            39.51,
            45.05,
            35.57,
            38.57,
            41.48,
            35.43,
            45.87,
            35.42,
            35.49,
            39.65,
            38.71
           ],
           "xaxis": "x",
           "y": [
            18.13,
            21.63,
            27.89,
            37.39,
            43.93,
            32.04,
            35.96,
            24.98,
            22.46,
            25.93,
            30.92
           ],
           "yaxis": "y"
          },
          {
           "hovertemplate": "club=PIT<br>frameId=65<br>x=%{x}<br>y=%{y}<extra></extra>",
           "legendgroup": "PIT",
           "marker": {
            "color": "#EF553B",
            "symbol": "circle"
           },
           "mode": "markers",
           "name": "PIT",
           "orientation": "v",
           "showlegend": true,
           "type": "scatter",
           "x": [
            29.84,
            33.48,
            33.46,
            34.55,
            32.88,
            33.11,
            33.77,
            29.95,
            33.41,
            33.5,
            34.08
           ],
           "xaxis": "x",
           "y": [
            26.67,
            25.24,
            24.01,
            26.69,
            38.2,
            36.09,
            28.47,
            24.72,
            22.38,
            30.32,
            43.76
           ],
           "yaxis": "y"
          },
          {
           "hovertemplate": "club=football<br>frameId=65<br>x=%{x}<br>y=%{y}<extra></extra>",
           "legendgroup": "football",
           "marker": {
            "color": "#00cc96",
            "symbol": "circle"
           },
           "mode": "markers",
           "name": "football",
           "orientation": "v",
           "showlegend": true,
           "type": "scatter",
           "x": [
            34.6199989318848
           ],
           "xaxis": "x",
           "y": [
            26.7299995422363
           ],
           "yaxis": "y"
          }
         ],
         "name": "65"
        },
        {
         "data": [
          {
           "hovertemplate": "club=CIN<br>frameId=66<br>x=%{x}<br>y=%{y}<extra></extra>",
           "legendgroup": "CIN",
           "marker": {
            "color": "#636efa",
            "symbol": "circle"
           },
           "mode": "markers",
           "name": "CIN",
           "orientation": "v",
           "showlegend": true,
           "type": "scatter",
           "x": [
            39.52,
            45.05,
            35.58,
            38.56,
            41.57,
            35.44,
            45.89,
            35.42,
            35.49,
            39.65,
            38.66
           ],
           "xaxis": "x",
           "y": [
            18.14,
            21.6,
            27.88,
            37.36,
            43.98,
            32.06,
            36.03,
            24.97,
            22.47,
            25.93,
            31
           ],
           "yaxis": "y"
          },
          {
           "hovertemplate": "club=PIT<br>frameId=66<br>x=%{x}<br>y=%{y}<extra></extra>",
           "legendgroup": "PIT",
           "marker": {
            "color": "#EF553B",
            "symbol": "circle"
           },
           "mode": "markers",
           "name": "PIT",
           "orientation": "v",
           "showlegend": true,
           "type": "scatter",
           "x": [
            29.84,
            33.48,
            33.46,
            34.56,
            32.88,
            33.11,
            33.77,
            29.95,
            33.43,
            33.5,
            34.08
           ],
           "xaxis": "x",
           "y": [
            26.66,
            25.24,
            24.01,
            26.7,
            38.21,
            36.09,
            28.47,
            24.73,
            22.37,
            30.32,
            43.78
           ],
           "yaxis": "y"
          },
          {
           "hovertemplate": "club=football<br>frameId=66<br>x=%{x}<br>y=%{y}<extra></extra>",
           "legendgroup": "football",
           "marker": {
            "color": "#00cc96",
            "symbol": "circle"
           },
           "mode": "markers",
           "name": "football",
           "orientation": "v",
           "showlegend": true,
           "type": "scatter",
           "x": [
            34.6100006103516
           ],
           "xaxis": "x",
           "y": [
            26.7299995422363
           ],
           "yaxis": "y"
          }
         ],
         "name": "66"
        },
        {
         "data": [
          {
           "hovertemplate": "club=CIN<br>frameId=67<br>x=%{x}<br>y=%{y}<extra></extra>",
           "legendgroup": "CIN",
           "marker": {
            "color": "#636efa",
            "symbol": "circle"
           },
           "mode": "markers",
           "name": "CIN",
           "orientation": "v",
           "showlegend": true,
           "type": "scatter",
           "x": [
            39.52,
            45.05,
            35.58,
            38.56,
            41.65,
            35.45,
            45.93,
            35.43,
            35.49,
            39.65,
            38.62
           ],
           "xaxis": "x",
           "y": [
            18.14,
            21.58,
            27.88,
            37.35,
            44.04,
            32.09,
            36.09,
            24.97,
            22.47,
            25.93,
            31.07
           ],
           "yaxis": "y"
          },
          {
           "hovertemplate": "club=PIT<br>frameId=67<br>x=%{x}<br>y=%{y}<extra></extra>",
           "legendgroup": "PIT",
           "marker": {
            "color": "#EF553B",
            "symbol": "circle"
           },
           "mode": "markers",
           "name": "PIT",
           "orientation": "v",
           "showlegend": true,
           "type": "scatter",
           "x": [
            29.84,
            33.48,
            33.46,
            34.56,
            32.89,
            33.1,
            33.77,
            29.95,
            33.45,
            33.49,
            34.09
           ],
           "xaxis": "x",
           "y": [
            26.66,
            25.24,
            24.01,
            26.7,
            38.21,
            36.09,
            28.47,
            24.75,
            22.35,
            30.32,
            43.79
           ],
           "yaxis": "y"
          },
          {
           "hovertemplate": "club=football<br>frameId=67<br>x=%{x}<br>y=%{y}<extra></extra>",
           "legendgroup": "football",
           "marker": {
            "color": "#00cc96",
            "symbol": "circle"
           },
           "mode": "markers",
           "name": "football",
           "orientation": "v",
           "showlegend": true,
           "type": "scatter",
           "x": [
            34.6100006103516
           ],
           "xaxis": "x",
           "y": [
            26.7299995422363
           ],
           "yaxis": "y"
          }
         ],
         "name": "67"
        },
        {
         "data": [
          {
           "hovertemplate": "club=CIN<br>frameId=68<br>x=%{x}<br>y=%{y}<extra></extra>",
           "legendgroup": "CIN",
           "marker": {
            "color": "#636efa",
            "symbol": "circle"
           },
           "mode": "markers",
           "name": "CIN",
           "orientation": "v",
           "showlegend": true,
           "type": "scatter",
           "x": [
            39.51,
            45.05,
            35.57,
            38.56,
            41.74,
            35.47,
            45.96,
            35.44,
            35.49,
            39.65,
            38.58
           ],
           "xaxis": "x",
           "y": [
            18.14,
            21.56,
            27.88,
            37.35,
            44.07,
            32.07,
            36.16,
            24.96,
            22.47,
            25.94,
            31.15
           ],
           "yaxis": "y"
          },
          {
           "hovertemplate": "club=PIT<br>frameId=68<br>x=%{x}<br>y=%{y}<extra></extra>",
           "legendgroup": "PIT",
           "marker": {
            "color": "#EF553B",
            "symbol": "circle"
           },
           "mode": "markers",
           "name": "PIT",
           "orientation": "v",
           "showlegend": true,
           "type": "scatter",
           "x": [
            29.84,
            33.48,
            33.46,
            34.56,
            32.89,
            33.11,
            33.77,
            29.95,
            33.47,
            33.49,
            34.09
           ],
           "xaxis": "x",
           "y": [
            26.67,
            25.23,
            24.01,
            26.7,
            38.2,
            36.09,
            28.47,
            24.76,
            22.31,
            30.31,
            43.8
           ],
           "yaxis": "y"
          },
          {
           "hovertemplate": "club=football<br>frameId=68<br>x=%{x}<br>y=%{y}<extra></extra>",
           "legendgroup": "football",
           "marker": {
            "color": "#00cc96",
            "symbol": "circle"
           },
           "mode": "markers",
           "name": "football",
           "orientation": "v",
           "showlegend": true,
           "type": "scatter",
           "x": [
            34.6100006103516
           ],
           "xaxis": "x",
           "y": [
            26.7299995422363
           ],
           "yaxis": "y"
          }
         ],
         "name": "68"
        },
        {
         "data": [
          {
           "hovertemplate": "club=CIN<br>frameId=69<br>x=%{x}<br>y=%{y}<extra></extra>",
           "legendgroup": "CIN",
           "marker": {
            "color": "#636efa",
            "symbol": "circle"
           },
           "mode": "markers",
           "name": "CIN",
           "orientation": "v",
           "showlegend": true,
           "type": "scatter",
           "x": [
            39.51,
            45.06,
            35.57,
            38.56,
            41.82,
            35.48,
            46,
            35.44,
            35.51,
            39.65,
            38.54
           ],
           "xaxis": "x",
           "y": [
            18.13,
            21.56,
            27.87,
            37.35,
            44.11,
            32.06,
            36.21,
            24.95,
            22.46,
            25.94,
            31.23
           ],
           "yaxis": "y"
          },
          {
           "hovertemplate": "club=PIT<br>frameId=69<br>x=%{x}<br>y=%{y}<extra></extra>",
           "legendgroup": "PIT",
           "marker": {
            "color": "#EF553B",
            "symbol": "circle"
           },
           "mode": "markers",
           "name": "PIT",
           "orientation": "v",
           "showlegend": true,
           "type": "scatter",
           "x": [
            29.83,
            33.48,
            33.46,
            34.56,
            32.89,
            33.11,
            33.77,
            29.94,
            33.5,
            33.48,
            34.09
           ],
           "xaxis": "x",
           "y": [
            26.68,
            25.23,
            24.01,
            26.7,
            38.2,
            36.09,
            28.47,
            24.78,
            22.29,
            30.31,
            43.81
           ],
           "yaxis": "y"
          },
          {
           "hovertemplate": "club=football<br>frameId=69<br>x=%{x}<br>y=%{y}<extra></extra>",
           "legendgroup": "football",
           "marker": {
            "color": "#00cc96",
            "symbol": "circle"
           },
           "mode": "markers",
           "name": "football",
           "orientation": "v",
           "showlegend": true,
           "type": "scatter",
           "x": [
            34.6100006103516
           ],
           "xaxis": "x",
           "y": [
            26.7299995422363
           ],
           "yaxis": "y"
          }
         ],
         "name": "69"
        },
        {
         "data": [
          {
           "hovertemplate": "club=CIN<br>frameId=70<br>x=%{x}<br>y=%{y}<extra></extra>",
           "legendgroup": "CIN",
           "marker": {
            "color": "#636efa",
            "symbol": "circle"
           },
           "mode": "markers",
           "name": "CIN",
           "orientation": "v",
           "showlegend": true,
           "type": "scatter",
           "x": [
            39.5,
            45.06,
            35.56,
            38.56,
            41.91,
            35.48,
            46.04,
            35.44,
            35.52,
            39.65,
            38.51
           ],
           "xaxis": "x",
           "y": [
            18.12,
            21.56,
            27.87,
            37.35,
            44.14,
            32.07,
            36.27,
            24.95,
            22.45,
            25.94,
            31.3
           ],
           "yaxis": "y"
          },
          {
           "hovertemplate": "club=PIT<br>frameId=70<br>x=%{x}<br>y=%{y}<extra></extra>",
           "legendgroup": "PIT",
           "marker": {
            "color": "#EF553B",
            "symbol": "circle"
           },
           "mode": "markers",
           "name": "PIT",
           "orientation": "v",
           "showlegend": true,
           "type": "scatter",
           "x": [
            29.83,
            33.47,
            33.46,
            34.56,
            32.89,
            33.1,
            33.77,
            29.95,
            33.53,
            33.48,
            34.09
           ],
           "xaxis": "x",
           "y": [
            26.68,
            25.23,
            24,
            26.71,
            38.19,
            36.08,
            28.47,
            24.77,
            22.26,
            30.31,
            43.81
           ],
           "yaxis": "y"
          },
          {
           "hovertemplate": "club=football<br>frameId=70<br>x=%{x}<br>y=%{y}<extra></extra>",
           "legendgroup": "football",
           "marker": {
            "color": "#00cc96",
            "symbol": "circle"
           },
           "mode": "markers",
           "name": "football",
           "orientation": "v",
           "showlegend": true,
           "type": "scatter",
           "x": [
            34.6100006103516
           ],
           "xaxis": "x",
           "y": [
            26.7299995422363
           ],
           "yaxis": "y"
          }
         ],
         "name": "70"
        },
        {
         "data": [
          {
           "hovertemplate": "club=CIN<br>frameId=71<br>x=%{x}<br>y=%{y}<extra></extra>",
           "legendgroup": "CIN",
           "marker": {
            "color": "#636efa",
            "symbol": "circle"
           },
           "mode": "markers",
           "name": "CIN",
           "orientation": "v",
           "showlegend": true,
           "type": "scatter",
           "x": [
            39.5,
            45.07,
            35.56,
            38.56,
            42,
            35.48,
            46.08,
            35.45,
            35.52,
            39.64,
            38.49
           ],
           "xaxis": "x",
           "y": [
            18.09,
            21.56,
            27.86,
            37.36,
            44.16,
            32.08,
            36.3,
            24.95,
            22.42,
            25.95,
            31.36
           ],
           "yaxis": "y"
          },
          {
           "hovertemplate": "club=PIT<br>frameId=71<br>x=%{x}<br>y=%{y}<extra></extra>",
           "legendgroup": "PIT",
           "marker": {
            "color": "#EF553B",
            "symbol": "circle"
           },
           "mode": "markers",
           "name": "PIT",
           "orientation": "v",
           "showlegend": true,
           "type": "scatter",
           "x": [
            29.83,
            33.47,
            33.46,
            34.56,
            32.89,
            33.08,
            33.77,
            29.95,
            33.55,
            33.49,
            34.09
           ],
           "xaxis": "x",
           "y": [
            26.69,
            25.23,
            24,
            26.71,
            38.19,
            36.06,
            28.47,
            24.78,
            22.18,
            30.31,
            43.81
           ],
           "yaxis": "y"
          },
          {
           "hovertemplate": "club=football<br>frameId=71<br>x=%{x}<br>y=%{y}<extra></extra>",
           "legendgroup": "football",
           "marker": {
            "color": "#00cc96",
            "symbol": "circle"
           },
           "mode": "markers",
           "name": "football",
           "orientation": "v",
           "showlegend": true,
           "type": "scatter",
           "x": [
            34.6100006103516
           ],
           "xaxis": "x",
           "y": [
            26.7299995422363
           ],
           "yaxis": "y"
          }
         ],
         "name": "71"
        },
        {
         "data": [
          {
           "hovertemplate": "club=CIN<br>frameId=72<br>x=%{x}<br>y=%{y}<extra></extra>",
           "legendgroup": "CIN",
           "marker": {
            "color": "#636efa",
            "symbol": "circle"
           },
           "mode": "markers",
           "name": "CIN",
           "orientation": "v",
           "showlegend": true,
           "type": "scatter",
           "x": [
            39.5,
            45.07,
            35.55,
            38.55,
            42.08,
            35.48,
            46.11,
            35.46,
            35.53,
            39.64,
            38.48
           ],
           "xaxis": "x",
           "y": [
            18.08,
            21.58,
            27.86,
            37.37,
            44.19,
            32.09,
            36.33,
            24.95,
            22.42,
            25.95,
            31.41
           ],
           "yaxis": "y"
          },
          {
           "hovertemplate": "club=PIT<br>frameId=72<br>x=%{x}<br>y=%{y}<extra></extra>",
           "legendgroup": "PIT",
           "marker": {
            "color": "#EF553B",
            "symbol": "circle"
           },
           "mode": "markers",
           "name": "PIT",
           "orientation": "v",
           "showlegend": true,
           "type": "scatter",
           "x": [
            29.83,
            33.47,
            33.46,
            34.56,
            32.89,
            33.04,
            33.77,
            29.95,
            33.54,
            33.49,
            34.09
           ],
           "xaxis": "x",
           "y": [
            26.7,
            25.24,
            24,
            26.71,
            38.19,
            36,
            28.47,
            24.78,
            22.12,
            30.31,
            43.81
           ],
           "yaxis": "y"
          },
          {
           "hovertemplate": "club=football<br>frameId=72<br>x=%{x}<br>y=%{y}<extra></extra>",
           "legendgroup": "football",
           "marker": {
            "color": "#00cc96",
            "symbol": "circle"
           },
           "mode": "markers",
           "name": "football",
           "orientation": "v",
           "showlegend": true,
           "type": "scatter",
           "x": [
            34.6100006103516
           ],
           "xaxis": "x",
           "y": [
            26.7299995422363
           ],
           "yaxis": "y"
          }
         ],
         "name": "72"
        },
        {
         "data": [
          {
           "hovertemplate": "club=CIN<br>frameId=73<br>x=%{x}<br>y=%{y}<extra></extra>",
           "legendgroup": "CIN",
           "marker": {
            "color": "#636efa",
            "symbol": "circle"
           },
           "mode": "markers",
           "name": "CIN",
           "orientation": "v",
           "showlegend": true,
           "type": "scatter",
           "x": [
            39.5,
            45.07,
            35.53,
            38.55,
            42.15,
            35.48,
            46.14,
            35.47,
            35.53,
            39.64,
            38.47
           ],
           "xaxis": "x",
           "y": [
            18.06,
            21.59,
            27.86,
            37.4,
            44.21,
            32.09,
            36.35,
            24.95,
            22.41,
            25.95,
            31.44
           ],
           "yaxis": "y"
          },
          {
           "hovertemplate": "club=PIT<br>frameId=73<br>x=%{x}<br>y=%{y}<extra></extra>",
           "legendgroup": "PIT",
           "marker": {
            "color": "#EF553B",
            "symbol": "circle"
           },
           "mode": "markers",
           "name": "PIT",
           "orientation": "v",
           "showlegend": true,
           "type": "scatter",
           "x": [
            29.82,
            33.47,
            33.46,
            34.57,
            32.89,
            32.99,
            33.77,
            29.95,
            33.54,
            33.49,
            34.09
           ],
           "xaxis": "x",
           "y": [
            26.7,
            25.24,
            24,
            26.71,
            38.19,
            35.92,
            28.47,
            24.77,
            22.15,
            30.31,
            43.79
           ],
           "yaxis": "y"
          },
          {
           "hovertemplate": "club=football<br>frameId=73<br>x=%{x}<br>y=%{y}<extra></extra>",
           "legendgroup": "football",
           "marker": {
            "color": "#00cc96",
            "symbol": "circle"
           },
           "mode": "markers",
           "name": "football",
           "orientation": "v",
           "showlegend": true,
           "type": "scatter",
           "x": [
            34.6100006103516
           ],
           "xaxis": "x",
           "y": [
            26.7299995422363
           ],
           "yaxis": "y"
          }
         ],
         "name": "73"
        },
        {
         "data": [
          {
           "hovertemplate": "club=CIN<br>frameId=74<br>x=%{x}<br>y=%{y}<extra></extra>",
           "legendgroup": "CIN",
           "marker": {
            "color": "#636efa",
            "symbol": "circle"
           },
           "mode": "markers",
           "name": "CIN",
           "orientation": "v",
           "showlegend": true,
           "type": "scatter",
           "x": [
            39.5,
            45.06,
            35.53,
            38.55,
            42.22,
            35.49,
            46.16,
            35.47,
            35.54,
            39.64,
            38.47
           ],
           "xaxis": "x",
           "y": [
            18.03,
            21.6,
            27.86,
            37.44,
            44.23,
            32.09,
            36.35,
            24.95,
            22.41,
            25.95,
            31.44
           ],
           "yaxis": "y"
          },
          {
           "hovertemplate": "club=PIT<br>frameId=74<br>x=%{x}<br>y=%{y}<extra></extra>",
           "legendgroup": "PIT",
           "marker": {
            "color": "#EF553B",
            "symbol": "circle"
           },
           "mode": "markers",
           "name": "PIT",
           "orientation": "v",
           "showlegend": true,
           "type": "scatter",
           "x": [
            29.81,
            33.47,
            33.46,
            34.56,
            32.89,
            32.92,
            33.77,
            29.95,
            33.53,
            33.49,
            34.08
           ],
           "xaxis": "x",
           "y": [
            26.71,
            25.24,
            24,
            26.71,
            38.19,
            35.77,
            28.47,
            24.78,
            22.18,
            30.31,
            43.79
           ],
           "yaxis": "y"
          },
          {
           "hovertemplate": "club=football<br>frameId=74<br>x=%{x}<br>y=%{y}<extra></extra>",
           "legendgroup": "football",
           "marker": {
            "color": "#00cc96",
            "symbol": "circle"
           },
           "mode": "markers",
           "name": "football",
           "orientation": "v",
           "showlegend": true,
           "type": "scatter",
           "x": [
            34.6100006103516
           ],
           "xaxis": "x",
           "y": [
            26.7299995422363
           ],
           "yaxis": "y"
          }
         ],
         "name": "74"
        },
        {
         "data": [
          {
           "hovertemplate": "club=CIN<br>frameId=75<br>x=%{x}<br>y=%{y}<extra></extra>",
           "legendgroup": "CIN",
           "marker": {
            "color": "#636efa",
            "symbol": "circle"
           },
           "mode": "markers",
           "name": "CIN",
           "orientation": "v",
           "showlegend": true,
           "type": "scatter",
           "x": [
            39.5,
            45.05,
            35.54,
            38.53,
            42.28,
            35.49,
            46.18,
            35.48,
            35.53,
            39.64,
            38.49
           ],
           "xaxis": "x",
           "y": [
            18.01,
            21.62,
            27.88,
            37.47,
            44.25,
            32.09,
            36.33,
            24.94,
            22.39,
            25.95,
            31.41
           ],
           "yaxis": "y"
          },
          {
           "hovertemplate": "club=PIT<br>frameId=75<br>x=%{x}<br>y=%{y}<extra></extra>",
           "legendgroup": "PIT",
           "marker": {
            "color": "#EF553B",
            "symbol": "circle"
           },
           "mode": "markers",
           "name": "PIT",
           "orientation": "v",
           "showlegend": true,
           "type": "scatter",
           "x": [
            29.81,
            33.47,
            33.46,
            34.56,
            32.89,
            32.85,
            33.78,
            29.95,
            33.51,
            33.49,
            34.09
           ],
           "xaxis": "x",
           "y": [
            26.72,
            25.24,
            24,
            26.71,
            38.19,
            35.61,
            28.47,
            24.79,
            22.19,
            30.32,
            43.79
           ],
           "yaxis": "y"
          },
          {
           "hovertemplate": "club=football<br>frameId=75<br>x=%{x}<br>y=%{y}<extra></extra>",
           "legendgroup": "football",
           "marker": {
            "color": "#00cc96",
            "symbol": "circle"
           },
           "mode": "markers",
           "name": "football",
           "orientation": "v",
           "showlegend": true,
           "type": "scatter",
           "x": [
            34.5999984741211
           ],
           "xaxis": "x",
           "y": [
            26.7299995422363
           ],
           "yaxis": "y"
          }
         ],
         "name": "75"
        },
        {
         "data": [
          {
           "hovertemplate": "club=CIN<br>frameId=76<br>x=%{x}<br>y=%{y}<extra></extra>",
           "legendgroup": "CIN",
           "marker": {
            "color": "#636efa",
            "symbol": "circle"
           },
           "mode": "markers",
           "name": "CIN",
           "orientation": "v",
           "showlegend": true,
           "type": "scatter",
           "x": [
            39.51,
            45.05,
            35.54,
            38.5,
            42.35,
            35.5,
            46.19,
            35.49,
            35.54,
            39.64,
            38.51
           ],
           "xaxis": "x",
           "y": [
            17.99,
            21.62,
            27.9,
            37.52,
            44.26,
            32.09,
            36.31,
            24.94,
            22.39,
            25.95,
            31.36
           ],
           "yaxis": "y"
          },
          {
           "hovertemplate": "club=PIT<br>frameId=76<br>x=%{x}<br>y=%{y}<extra></extra>",
           "legendgroup": "PIT",
           "marker": {
            "color": "#EF553B",
            "symbol": "circle"
           },
           "mode": "markers",
           "name": "PIT",
           "orientation": "v",
           "showlegend": true,
           "type": "scatter",
           "x": [
            29.81,
            33.47,
            33.46,
            34.56,
            32.89,
            32.77,
            33.78,
            29.95,
            33.49,
            33.49,
            34.09
           ],
           "xaxis": "x",
           "y": [
            26.73,
            25.24,
            24,
            26.71,
            38.2,
            35.42,
            28.46,
            24.79,
            22.19,
            30.32,
            43.79
           ],
           "yaxis": "y"
          },
          {
           "hovertemplate": "club=football<br>frameId=76<br>x=%{x}<br>y=%{y}<extra></extra>",
           "legendgroup": "football",
           "marker": {
            "color": "#00cc96",
            "symbol": "circle"
           },
           "mode": "markers",
           "name": "football",
           "orientation": "v",
           "showlegend": true,
           "type": "scatter",
           "x": [
            34.5999984741211
           ],
           "xaxis": "x",
           "y": [
            26.7299995422363
           ],
           "yaxis": "y"
          }
         ],
         "name": "76"
        },
        {
         "data": [
          {
           "hovertemplate": "club=CIN<br>frameId=77<br>x=%{x}<br>y=%{y}<extra></extra>",
           "legendgroup": "CIN",
           "marker": {
            "color": "#636efa",
            "symbol": "circle"
           },
           "mode": "markers",
           "name": "CIN",
           "orientation": "v",
           "showlegend": true,
           "type": "scatter",
           "x": [
            39.51,
            45.05,
            35.54,
            38.48,
            42.41,
            35.49,
            46.19,
            35.5,
            35.54,
            39.63,
            38.54
           ],
           "xaxis": "x",
           "y": [
            17.98,
            21.62,
            27.9,
            37.57,
            44.28,
            32.08,
            36.27,
            24.94,
            22.38,
            25.96,
            31.29
           ],
           "yaxis": "y"
          },
          {
           "hovertemplate": "club=PIT<br>frameId=77<br>x=%{x}<br>y=%{y}<extra></extra>",
           "legendgroup": "PIT",
           "marker": {
            "color": "#EF553B",
            "symbol": "circle"
           },
           "mode": "markers",
           "name": "PIT",
           "orientation": "v",
           "showlegend": true,
           "type": "scatter",
           "x": [
            29.81,
            33.47,
            33.46,
            34.56,
            32.88,
            32.68,
            33.78,
            29.95,
            33.45,
            33.49,
            34.09
           ],
           "xaxis": "x",
           "y": [
            26.73,
            25.25,
            24,
            26.72,
            38.19,
            35.18,
            28.46,
            24.79,
            22.27,
            30.32,
            43.8
           ],
           "yaxis": "y"
          },
          {
           "hovertemplate": "club=football<br>frameId=77<br>x=%{x}<br>y=%{y}<extra></extra>",
           "legendgroup": "football",
           "marker": {
            "color": "#00cc96",
            "symbol": "circle"
           },
           "mode": "markers",
           "name": "football",
           "orientation": "v",
           "showlegend": true,
           "type": "scatter",
           "x": [
            34.5999984741211
           ],
           "xaxis": "x",
           "y": [
            26.7299995422363
           ],
           "yaxis": "y"
          }
         ],
         "name": "77"
        },
        {
         "data": [
          {
           "hovertemplate": "club=CIN<br>frameId=78<br>x=%{x}<br>y=%{y}<extra></extra>",
           "legendgroup": "CIN",
           "marker": {
            "color": "#636efa",
            "symbol": "circle"
           },
           "mode": "markers",
           "name": "CIN",
           "orientation": "v",
           "showlegend": true,
           "type": "scatter",
           "x": [
            39.52,
            45.04,
            35.53,
            38.45,
            42.46,
            35.48,
            46.18,
            35.51,
            35.55,
            39.63,
            38.58
           ],
           "xaxis": "x",
           "y": [
            17.95,
            21.61,
            27.9,
            37.62,
            44.3,
            32.07,
            36.23,
            24.93,
            22.39,
            25.96,
            31.21
           ],
           "yaxis": "y"
          },
          {
           "hovertemplate": "club=PIT<br>frameId=78<br>x=%{x}<br>y=%{y}<extra></extra>",
           "legendgroup": "PIT",
           "marker": {
            "color": "#EF553B",
            "symbol": "circle"
           },
           "mode": "markers",
           "name": "PIT",
           "orientation": "v",
           "showlegend": true,
           "type": "scatter",
           "x": [
            29.81,
            33.47,
            33.46,
            34.55,
            32.88,
            32.57,
            33.78,
            29.93,
            33.46,
            33.49,
            34.09
           ],
           "xaxis": "x",
           "y": [
            26.72,
            25.25,
            24.01,
            26.72,
            38.18,
            34.9,
            28.46,
            24.8,
            22.22,
            30.32,
            43.8
           ],
           "yaxis": "y"
          },
          {
           "hovertemplate": "club=football<br>frameId=78<br>x=%{x}<br>y=%{y}<extra></extra>",
           "legendgroup": "football",
           "marker": {
            "color": "#00cc96",
            "symbol": "circle"
           },
           "mode": "markers",
           "name": "football",
           "orientation": "v",
           "showlegend": true,
           "type": "scatter",
           "x": [
            34.5999984741211
           ],
           "xaxis": "x",
           "y": [
            26.7299995422363
           ],
           "yaxis": "y"
          }
         ],
         "name": "78"
        },
        {
         "data": [
          {
           "hovertemplate": "club=CIN<br>frameId=79<br>x=%{x}<br>y=%{y}<extra></extra>",
           "legendgroup": "CIN",
           "marker": {
            "color": "#636efa",
            "symbol": "circle"
           },
           "mode": "markers",
           "name": "CIN",
           "orientation": "v",
           "showlegend": true,
           "type": "scatter",
           "x": [
            39.52,
            45.02,
            35.53,
            38.41,
            42.51,
            35.48,
            46.17,
            35.52,
            35.56,
            39.63,
            38.63
           ],
           "xaxis": "x",
           "y": [
            17.93,
            21.6,
            27.91,
            37.68,
            44.32,
            32.07,
            36.18,
            24.93,
            22.4,
            25.96,
            31.11
           ],
           "yaxis": "y"
          },
          {
           "hovertemplate": "club=PIT<br>frameId=79<br>x=%{x}<br>y=%{y}<extra></extra>",
           "legendgroup": "PIT",
           "marker": {
            "color": "#EF553B",
            "symbol": "circle"
           },
           "mode": "markers",
           "name": "PIT",
           "orientation": "v",
           "showlegend": true,
           "type": "scatter",
           "x": [
            29.81,
            33.47,
            33.46,
            34.54,
            32.88,
            32.45,
            33.78,
            29.93,
            33.46,
            33.49,
            34.09
           ],
           "xaxis": "x",
           "y": [
            26.71,
            25.25,
            24,
            26.72,
            38.17,
            34.58,
            28.46,
            24.79,
            22.22,
            30.32,
            43.79
           ],
           "yaxis": "y"
          },
          {
           "hovertemplate": "club=football<br>frameId=79<br>x=%{x}<br>y=%{y}<extra></extra>",
           "legendgroup": "football",
           "marker": {
            "color": "#00cc96",
            "symbol": "circle"
           },
           "mode": "markers",
           "name": "football",
           "orientation": "v",
           "showlegend": true,
           "type": "scatter",
           "x": [
            34.5999984741211
           ],
           "xaxis": "x",
           "y": [
            26.7299995422363
           ],
           "yaxis": "y"
          }
         ],
         "name": "79"
        },
        {
         "data": [
          {
           "hovertemplate": "club=CIN<br>frameId=80<br>x=%{x}<br>y=%{y}<extra></extra>",
           "legendgroup": "CIN",
           "marker": {
            "color": "#636efa",
            "symbol": "circle"
           },
           "mode": "markers",
           "name": "CIN",
           "orientation": "v",
           "showlegend": true,
           "type": "scatter",
           "x": [
            39.52,
            44.99,
            35.52,
            38.37,
            42.56,
            35.48,
            46.15,
            35.53,
            35.54,
            39.63,
            38.69
           ],
           "xaxis": "x",
           "y": [
            17.9,
            21.58,
            27.91,
            37.73,
            44.33,
            32.07,
            36.12,
            24.91,
            22.41,
            25.96,
            30.99
           ],
           "yaxis": "y"
          },
          {
           "hovertemplate": "club=PIT<br>frameId=80<br>x=%{x}<br>y=%{y}<extra></extra>",
           "legendgroup": "PIT",
           "marker": {
            "color": "#EF553B",
            "symbol": "circle"
           },
           "mode": "markers",
           "name": "PIT",
           "orientation": "v",
           "showlegend": true,
           "type": "scatter",
           "x": [
            29.81,
            33.47,
            33.46,
            34.54,
            32.88,
            32.32,
            33.78,
            29.93,
            33.49,
            33.49,
            34.09
           ],
           "xaxis": "x",
           "y": [
            26.71,
            25.25,
            24,
            26.71,
            38.17,
            34.22,
            28.46,
            24.78,
            22.28,
            30.33,
            43.79
           ],
           "yaxis": "y"
          },
          {
           "hovertemplate": "club=football<br>frameId=80<br>x=%{x}<br>y=%{y}<extra></extra>",
           "legendgroup": "football",
           "marker": {
            "color": "#00cc96",
            "symbol": "circle"
           },
           "mode": "markers",
           "name": "football",
           "orientation": "v",
           "showlegend": true,
           "type": "scatter",
           "x": [
            34.5999984741211
           ],
           "xaxis": "x",
           "y": [
            26.7299995422363
           ],
           "yaxis": "y"
          }
         ],
         "name": "80"
        },
        {
         "data": [
          {
           "hovertemplate": "club=CIN<br>frameId=81<br>x=%{x}<br>y=%{y}<extra></extra>",
           "legendgroup": "CIN",
           "marker": {
            "color": "#636efa",
            "symbol": "circle"
           },
           "mode": "markers",
           "name": "CIN",
           "orientation": "v",
           "showlegend": true,
           "type": "scatter",
           "x": [
            39.52,
            44.97,
            35.51,
            38.33,
            42.6,
            35.48,
            46.12,
            35.53,
            35.54,
            39.63,
            38.76
           ],
           "xaxis": "x",
           "y": [
            17.86,
            21.57,
            27.93,
            37.78,
            44.33,
            32.07,
            36.06,
            24.93,
            22.4,
            25.96,
            30.86
           ],
           "yaxis": "y"
          },
          {
           "hovertemplate": "club=PIT<br>frameId=81<br>x=%{x}<br>y=%{y}<extra></extra>",
           "legendgroup": "PIT",
           "marker": {
            "color": "#EF553B",
            "symbol": "circle"
           },
           "mode": "markers",
           "name": "PIT",
           "orientation": "v",
           "showlegend": true,
           "type": "scatter",
           "x": [
            29.81,
            33.46,
            33.46,
            34.51,
            32.88,
            32.19,
            33.78,
            29.94,
            33.49,
            33.49,
            34.09
           ],
           "xaxis": "x",
           "y": [
            26.71,
            25.25,
            24,
            26.7,
            38.18,
            33.81,
            28.46,
            24.76,
            22.29,
            30.32,
            43.79
           ],
           "yaxis": "y"
          },
          {
           "hovertemplate": "club=football<br>frameId=81<br>x=%{x}<br>y=%{y}<extra></extra>",
           "legendgroup": "football",
           "marker": {
            "color": "#00cc96",
            "symbol": "circle"
           },
           "mode": "markers",
           "name": "football",
           "orientation": "v",
           "showlegend": true,
           "type": "scatter",
           "x": [
            34.5999984741211
           ],
           "xaxis": "x",
           "y": [
            26.7299995422363
           ],
           "yaxis": "y"
          }
         ],
         "name": "81"
        },
        {
         "data": [
          {
           "hovertemplate": "club=CIN<br>frameId=82<br>x=%{x}<br>y=%{y}<extra></extra>",
           "legendgroup": "CIN",
           "marker": {
            "color": "#636efa",
            "symbol": "circle"
           },
           "mode": "markers",
           "name": "CIN",
           "orientation": "v",
           "showlegend": true,
           "type": "scatter",
           "x": [
            39.53,
            44.94,
            35.5,
            38.29,
            42.64,
            35.48,
            46.08,
            35.51,
            35.54,
            39.63,
            38.82
           ],
           "xaxis": "x",
           "y": [
            17.81,
            21.55,
            27.94,
            37.83,
            44.34,
            32.07,
            35.99,
            24.92,
            22.42,
            25.97,
            30.71
           ],
           "yaxis": "y"
          },
          {
           "hovertemplate": "club=PIT<br>frameId=82<br>x=%{x}<br>y=%{y}<extra></extra>",
           "legendgroup": "PIT",
           "marker": {
            "color": "#EF553B",
            "symbol": "circle"
           },
           "mode": "markers",
           "name": "PIT",
           "orientation": "v",
           "showlegend": true,
           "type": "scatter",
           "x": [
            29.81,
            33.46,
            33.46,
            34.47,
            32.88,
            32.06,
            33.78,
            29.94,
            33.44,
            33.49,
            34.09
           ],
           "xaxis": "x",
           "y": [
            26.71,
            25.26,
            24,
            26.67,
            38.19,
            33.36,
            28.45,
            24.76,
            22.41,
            30.3,
            43.79
           ],
           "yaxis": "y"
          },
          {
           "hovertemplate": "club=football<br>frameId=82<br>x=%{x}<br>y=%{y}<extra></extra>",
           "legendgroup": "football",
           "marker": {
            "color": "#00cc96",
            "symbol": "circle"
           },
           "mode": "markers",
           "name": "football",
           "orientation": "v",
           "showlegend": true,
           "type": "scatter",
           "x": [
            34.2999992370605
           ],
           "xaxis": "x",
           "y": [
            26.8299999237061
           ],
           "yaxis": "y"
          }
         ],
         "name": "82"
        },
        {
         "data": [
          {
           "hovertemplate": "club=CIN<br>frameId=83<br>x=%{x}<br>y=%{y}<extra></extra>",
           "legendgroup": "CIN",
           "marker": {
            "color": "#636efa",
            "symbol": "circle"
           },
           "mode": "markers",
           "name": "CIN",
           "orientation": "v",
           "showlegend": true,
           "type": "scatter",
           "x": [
            39.53,
            44.9,
            35.47,
            38.25,
            42.68,
            35.47,
            46.04,
            35.48,
            35.54,
            39.63,
            38.89
           ],
           "xaxis": "x",
           "y": [
            17.74,
            21.53,
            27.9,
            37.88,
            44.34,
            32.05,
            35.91,
            24.9,
            22.44,
            25.96,
            30.56
           ],
           "yaxis": "y"
          },
          {
           "hovertemplate": "club=PIT<br>frameId=83<br>x=%{x}<br>y=%{y}<extra></extra>",
           "legendgroup": "PIT",
           "marker": {
            "color": "#EF553B",
            "symbol": "circle"
           },
           "mode": "markers",
           "name": "PIT",
           "orientation": "v",
           "showlegend": true,
           "type": "scatter",
           "x": [
            29.8,
            33.45,
            33.46,
            34.42,
            32.88,
            31.91,
            33.79,
            29.95,
            33.4,
            33.51,
            34.09
           ],
           "xaxis": "x",
           "y": [
            26.72,
            25.28,
            24.01,
            26.61,
            38.18,
            32.86,
            28.44,
            24.74,
            22.5,
            30.28,
            43.79
           ],
           "yaxis": "y"
          },
          {
           "hovertemplate": "club=football<br>frameId=83<br>x=%{x}<br>y=%{y}<extra></extra>",
           "legendgroup": "football",
           "marker": {
            "color": "#00cc96",
            "symbol": "circle"
           },
           "mode": "markers",
           "name": "football",
           "orientation": "v",
           "showlegend": true,
           "type": "scatter",
           "x": [
            33.6300010681152
           ],
           "xaxis": "x",
           "y": [
            26.8600006103516
           ],
           "yaxis": "y"
          }
         ],
         "name": "83"
        },
        {
         "data": [
          {
           "hovertemplate": "club=CIN<br>frameId=84<br>x=%{x}<br>y=%{y}<extra></extra>",
           "legendgroup": "CIN",
           "marker": {
            "color": "#636efa",
            "symbol": "circle"
           },
           "mode": "markers",
           "name": "CIN",
           "orientation": "v",
           "showlegend": true,
           "type": "scatter",
           "x": [
            39.52,
            44.85,
            35.44,
            38.21,
            42.7,
            35.45,
            46,
            35.45,
            35.53,
            39.62,
            38.95
           ],
           "xaxis": "x",
           "y": [
            17.65,
            21.51,
            27.88,
            37.93,
            44.33,
            32.03,
            35.82,
            24.89,
            22.47,
            25.96,
            30.41
           ],
           "yaxis": "y"
          },
          {
           "hovertemplate": "club=PIT<br>frameId=84<br>x=%{x}<br>y=%{y}<extra></extra>",
           "legendgroup": "PIT",
           "marker": {
            "color": "#EF553B",
            "symbol": "circle"
           },
           "mode": "markers",
           "name": "PIT",
           "orientation": "v",
           "showlegend": true,
           "type": "scatter",
           "x": [
            29.8,
            33.44,
            33.46,
            34.36,
            32.88,
            31.76,
            33.81,
            29.95,
            33.39,
            33.53,
            34.09
           ],
           "xaxis": "x",
           "y": [
            26.72,
            25.31,
            24.02,
            26.54,
            38.18,
            32.33,
            28.41,
            24.72,
            22.57,
            30.25,
            43.79
           ],
           "yaxis": "y"
          },
          {
           "hovertemplate": "club=football<br>frameId=84<br>x=%{x}<br>y=%{y}<extra></extra>",
           "legendgroup": "football",
           "marker": {
            "color": "#00cc96",
            "symbol": "circle"
           },
           "mode": "markers",
           "name": "football",
           "orientation": "v",
           "showlegend": true,
           "type": "scatter",
           "x": [
            32.9900016784668
           ],
           "xaxis": "x",
           "y": [
            26.8700008392334
           ],
           "yaxis": "y"
          }
         ],
         "name": "84"
        },
        {
         "data": [
          {
           "hovertemplate": "club=CIN<br>frameId=85<br>x=%{x}<br>y=%{y}<extra></extra>",
           "legendgroup": "CIN",
           "marker": {
            "color": "#636efa",
            "symbol": "circle"
           },
           "mode": "markers",
           "name": "CIN",
           "orientation": "v",
           "showlegend": true,
           "type": "scatter",
           "x": [
            39.49,
            44.82,
            35.42,
            38.16,
            42.72,
            35.43,
            45.97,
            35.39,
            35.52,
            39.62,
            39.02
           ],
           "xaxis": "x",
           "y": [
            17.54,
            21.49,
            27.87,
            37.98,
            44.33,
            31.99,
            35.72,
            24.88,
            22.5,
            25.96,
            30.25
           ],
           "yaxis": "y"
          },
          {
           "hovertemplate": "club=PIT<br>frameId=85<br>x=%{x}<br>y=%{y}<extra></extra>",
           "legendgroup": "PIT",
           "marker": {
            "color": "#EF553B",
            "symbol": "circle"
           },
           "mode": "markers",
           "name": "PIT",
           "orientation": "v",
           "showlegend": true,
           "type": "scatter",
           "x": [
            29.79,
            33.43,
            33.48,
            34.3,
            32.87,
            31.62,
            33.85,
            29.96,
            33.38,
            33.55,
            34.11
           ],
           "xaxis": "x",
           "y": [
            26.73,
            25.38,
            24.05,
            26.43,
            38.18,
            31.76,
            28.36,
            24.69,
            22.59,
            30.21,
            43.78
           ],
           "yaxis": "y"
          },
          {
           "hovertemplate": "club=football<br>frameId=85<br>x=%{x}<br>y=%{y}<extra></extra>",
           "legendgroup": "football",
           "marker": {
            "color": "#00cc96",
            "symbol": "circle"
           },
           "mode": "markers",
           "name": "football",
           "orientation": "v",
           "showlegend": true,
           "type": "scatter",
           "x": [
            32.3899993896484
           ],
           "xaxis": "x",
           "y": [
            26.8999996185303
           ],
           "yaxis": "y"
          }
         ],
         "name": "85"
        },
        {
         "data": [
          {
           "hovertemplate": "club=CIN<br>frameId=86<br>x=%{x}<br>y=%{y}<extra></extra>",
           "legendgroup": "CIN",
           "marker": {
            "color": "#636efa",
            "symbol": "circle"
           },
           "mode": "markers",
           "name": "CIN",
           "orientation": "v",
           "showlegend": true,
           "type": "scatter",
           "x": [
            39.44,
            44.79,
            35.4,
            38.1,
            42.73,
            35.39,
            45.94,
            35.31,
            35.5,
            39.61,
            39.07
           ],
           "xaxis": "x",
           "y": [
            17.42,
            21.48,
            27.84,
            38.03,
            44.33,
            31.92,
            35.61,
            24.86,
            22.56,
            25.95,
            30.1
           ],
           "yaxis": "y"
          },
          {
           "hovertemplate": "club=PIT<br>frameId=86<br>x=%{x}<br>y=%{y}<extra></extra>",
           "legendgroup": "PIT",
           "marker": {
            "color": "#EF553B",
            "symbol": "circle"
           },
           "mode": "markers",
           "name": "PIT",
           "orientation": "v",
           "showlegend": true,
           "type": "scatter",
           "x": [
            29.78,
            33.4,
            33.5,
            34.25,
            32.88,
            31.48,
            33.9,
            29.97,
            33.36,
            33.6,
            34.11
           ],
           "xaxis": "x",
           "y": [
            26.74,
            25.48,
            24.12,
            26.31,
            38.18,
            31.16,
            28.3,
            24.63,
            22.65,
            30.14,
            43.78
           ],
           "yaxis": "y"
          },
          {
           "hovertemplate": "club=football<br>frameId=86<br>x=%{x}<br>y=%{y}<extra></extra>",
           "legendgroup": "football",
           "marker": {
            "color": "#00cc96",
            "symbol": "circle"
           },
           "mode": "markers",
           "name": "football",
           "orientation": "v",
           "showlegend": true,
           "type": "scatter",
           "x": [
            31.8199996948242
           ],
           "xaxis": "x",
           "y": [
            26.9400005340576
           ],
           "yaxis": "y"
          }
         ],
         "name": "86"
        },
        {
         "data": [
          {
           "hovertemplate": "club=CIN<br>frameId=87<br>x=%{x}<br>y=%{y}<extra></extra>",
           "legendgroup": "CIN",
           "marker": {
            "color": "#636efa",
            "symbol": "circle"
           },
           "mode": "markers",
           "name": "CIN",
           "orientation": "v",
           "showlegend": true,
           "type": "scatter",
           "x": [
            39.38,
            44.72,
            35.37,
            38.04,
            42.74,
            35.34,
            45.93,
            35.22,
            35.47,
            39.59,
            39.12
           ],
           "xaxis": "x",
           "y": [
            17.29,
            21.46,
            27.8,
            38.08,
            44.33,
            31.83,
            35.49,
            24.83,
            22.64,
            25.94,
            29.95
           ],
           "yaxis": "y"
          },
          {
           "hovertemplate": "club=PIT<br>frameId=87<br>x=%{x}<br>y=%{y}<extra></extra>",
           "legendgroup": "PIT",
           "marker": {
            "color": "#EF553B",
            "symbol": "circle"
           },
           "mode": "markers",
           "name": "PIT",
           "orientation": "v",
           "showlegend": true,
           "type": "scatter",
           "x": [
            29.75,
            33.38,
            33.52,
            34.21,
            32.88,
            31.35,
            33.96,
            29.99,
            33.33,
            33.68,
            34.13
           ],
           "xaxis": "x",
           "y": [
            26.78,
            25.61,
            24.19,
            26.16,
            38.18,
            30.54,
            28.22,
            24.52,
            22.75,
            30.03,
            43.77
           ],
           "yaxis": "y"
          },
          {
           "hovertemplate": "club=football<br>frameId=87<br>x=%{x}<br>y=%{y}<extra></extra>",
           "legendgroup": "football",
           "marker": {
            "color": "#00cc96",
            "symbol": "circle"
           },
           "mode": "markers",
           "name": "football",
           "orientation": "v",
           "showlegend": true,
           "type": "scatter",
           "x": [
            31.2800006866455
           ],
           "xaxis": "x",
           "y": [
            27
           ],
           "yaxis": "y"
          }
         ],
         "name": "87"
        },
        {
         "data": [
          {
           "hovertemplate": "club=CIN<br>frameId=88<br>x=%{x}<br>y=%{y}<extra></extra>",
           "legendgroup": "CIN",
           "marker": {
            "color": "#636efa",
            "symbol": "circle"
           },
           "mode": "markers",
           "name": "CIN",
           "orientation": "v",
           "showlegend": true,
           "type": "scatter",
           "x": [
            39.3,
            44.7,
            35.34,
            37.98,
            42.74,
            35.28,
            45.94,
            35.12,
            35.42,
            39.55,
            39.15
           ],
           "xaxis": "x",
           "y": [
            17.16,
            21.45,
            27.74,
            38.13,
            44.34,
            31.71,
            35.36,
            24.79,
            22.74,
            25.93,
            29.83
           ],
           "yaxis": "y"
          },
          {
           "hovertemplate": "club=PIT<br>frameId=88<br>x=%{x}<br>y=%{y}<extra></extra>",
           "legendgroup": "PIT",
           "marker": {
            "color": "#EF553B",
            "symbol": "circle"
           },
           "mode": "markers",
           "name": "PIT",
           "orientation": "v",
           "showlegend": true,
           "type": "scatter",
           "x": [
            29.71,
            33.36,
            33.54,
            34.17,
            32.89,
            31.22,
            34.04,
            30.02,
            33.26,
            33.78,
            34.18
           ],
           "xaxis": "x",
           "y": [
            26.86,
            25.76,
            24.28,
            26.02,
            38.18,
            29.89,
            28.14,
            24.34,
            22.89,
            29.88,
            43.75
           ],
           "yaxis": "y"
          },
          {
           "hovertemplate": "club=football<br>frameId=88<br>x=%{x}<br>y=%{y}<extra></extra>",
           "legendgroup": "football",
           "marker": {
            "color": "#00cc96",
            "symbol": "circle"
           },
           "mode": "markers",
           "name": "football",
           "orientation": "v",
           "showlegend": true,
           "type": "scatter",
           "x": [
            30.8299999237061
           ],
           "xaxis": "x",
           "y": [
            27.1000003814697
           ],
           "yaxis": "y"
          }
         ],
         "name": "88"
        },
        {
         "data": [
          {
           "hovertemplate": "club=CIN<br>frameId=89<br>x=%{x}<br>y=%{y}<extra></extra>",
           "legendgroup": "CIN",
           "marker": {
            "color": "#636efa",
            "symbol": "circle"
           },
           "mode": "markers",
           "name": "CIN",
           "orientation": "v",
           "showlegend": true,
           "type": "scatter",
           "x": [
            39.18,
            44.65,
            35.32,
            37.91,
            42.75,
            35.19,
            45.96,
            35,
            35.36,
            39.49,
            39.15
           ],
           "xaxis": "x",
           "y": [
            17.01,
            21.43,
            27.67,
            38.17,
            44.34,
            31.56,
            35.23,
            24.74,
            22.86,
            25.9,
            29.71
           ],
           "yaxis": "y"
          },
          {
           "hovertemplate": "club=PIT<br>frameId=89<br>x=%{x}<br>y=%{y}<extra></extra>",
           "legendgroup": "PIT",
           "marker": {
            "color": "#EF553B",
            "symbol": "circle"
           },
           "mode": "markers",
           "name": "PIT",
           "orientation": "v",
           "showlegend": true,
           "type": "scatter",
           "x": [
            29.67,
            33.34,
            33.56,
            34.15,
            32.9,
            31.11,
            34.11,
            30.08,
            33.17,
            33.9,
            34.26
           ],
           "xaxis": "x",
           "y": [
            26.97,
            25.93,
            24.37,
            25.87,
            38.18,
            29.22,
            28.06,
            24.09,
            23.09,
            29.72,
            43.71
           ],
           "yaxis": "y"
          },
          {
           "hovertemplate": "club=football<br>frameId=89<br>x=%{x}<br>y=%{y}<extra></extra>",
           "legendgroup": "football",
           "marker": {
            "color": "#00cc96",
            "symbol": "circle"
           },
           "mode": "markers",
           "name": "football",
           "orientation": "v",
           "showlegend": true,
           "type": "scatter",
           "x": [
            30.4599990844727
           ],
           "xaxis": "x",
           "y": [
            27.2700004577637
           ],
           "yaxis": "y"
          }
         ],
         "name": "89"
        },
        {
         "data": [
          {
           "hovertemplate": "club=CIN<br>frameId=90<br>x=%{x}<br>y=%{y}<extra></extra>",
           "legendgroup": "CIN",
           "marker": {
            "color": "#636efa",
            "symbol": "circle"
           },
           "mode": "markers",
           "name": "CIN",
           "orientation": "v",
           "showlegend": true,
           "type": "scatter",
           "x": [
            39.04,
            44.57,
            35.31,
            37.85,
            42.75,
            35.1,
            46,
            34.88,
            35.29,
            39.42,
            39.13
           ],
           "xaxis": "x",
           "y": [
            16.85,
            21.4,
            27.59,
            38.21,
            44.34,
            31.4,
            35.08,
            24.69,
            22.98,
            25.87,
            29.63
           ],
           "yaxis": "y"
          },
          {
           "hovertemplate": "club=PIT<br>frameId=90<br>x=%{x}<br>y=%{y}<extra></extra>",
           "legendgroup": "PIT",
           "marker": {
            "color": "#EF553B",
            "symbol": "circle"
           },
           "mode": "markers",
           "name": "PIT",
           "orientation": "v",
           "showlegend": true,
           "type": "scatter",
           "x": [
            29.62,
            33.33,
            33.57,
            34.13,
            32.93,
            31,
            34.21,
            30.14,
            33.07,
            34.07,
            34.4
           ],
           "xaxis": "x",
           "y": [
            27.13,
            26.12,
            24.46,
            25.72,
            38.18,
            28.53,
            27.97,
            23.78,
            23.34,
            29.54,
            43.65
           ],
           "yaxis": "y"
          },
          {
           "hovertemplate": "club=football<br>frameId=90<br>x=%{x}<br>y=%{y}<extra></extra>",
           "legendgroup": "football",
           "marker": {
            "color": "#00cc96",
            "symbol": "circle"
           },
           "mode": "markers",
           "name": "football",
           "orientation": "v",
           "showlegend": true,
           "type": "scatter",
           "x": [
            30.1399993896484
           ],
           "xaxis": "x",
           "y": [
            27.4500007629395
           ],
           "yaxis": "y"
          }
         ],
         "name": "90"
        },
        {
         "data": [
          {
           "hovertemplate": "club=CIN<br>frameId=91<br>x=%{x}<br>y=%{y}<extra></extra>",
           "legendgroup": "CIN",
           "marker": {
            "color": "#636efa",
            "symbol": "circle"
           },
           "mode": "markers",
           "name": "CIN",
           "orientation": "v",
           "showlegend": true,
           "type": "scatter",
           "x": [
            38.85,
            44.44,
            35.31,
            37.79,
            42.77,
            35,
            46.06,
            34.79,
            35.22,
            39.32,
            39.08
           ],
           "xaxis": "x",
           "y": [
            16.67,
            21.36,
            27.5,
            38.24,
            44.32,
            31.24,
            34.95,
            24.63,
            23.09,
            25.83,
            29.57
           ],
           "yaxis": "y"
          },
          {
           "hovertemplate": "club=PIT<br>frameId=91<br>x=%{x}<br>y=%{y}<extra></extra>",
           "legendgroup": "PIT",
           "marker": {
            "color": "#EF553B",
            "symbol": "circle"
           },
           "mode": "markers",
           "name": "PIT",
           "orientation": "v",
           "showlegend": true,
           "type": "scatter",
           "x": [
            29.58,
            33.34,
            33.57,
            34.14,
            32.99,
            30.92,
            34.31,
            30.22,
            32.96,
            34.25,
            34.61
           ],
           "xaxis": "x",
           "y": [
            27.33,
            26.34,
            24.55,
            25.58,
            38.18,
            27.82,
            27.89,
            23.41,
            23.63,
            29.34,
            43.56
           ],
           "yaxis": "y"
          },
          {
           "hovertemplate": "club=football<br>frameId=91<br>x=%{x}<br>y=%{y}<extra></extra>",
           "legendgroup": "football",
           "marker": {
            "color": "#00cc96",
            "symbol": "circle"
           },
           "mode": "markers",
           "name": "football",
           "orientation": "v",
           "showlegend": true,
           "type": "scatter",
           "x": [
            29.8799991607666
           ],
           "xaxis": "x",
           "y": [
            27.7099990844727
           ],
           "yaxis": "y"
          }
         ],
         "name": "91"
        },
        {
         "data": [
          {
           "hovertemplate": "club=CIN<br>frameId=92<br>x=%{x}<br>y=%{y}<extra></extra>",
           "legendgroup": "CIN",
           "marker": {
            "color": "#636efa",
            "symbol": "circle"
           },
           "mode": "markers",
           "name": "CIN",
           "orientation": "v",
           "showlegend": true,
           "type": "scatter",
           "x": [
            38.64,
            44.29,
            35.33,
            37.74,
            42.78,
            34.89,
            46.12,
            34.69,
            35.15,
            39.21,
            39.01
           ],
           "xaxis": "x",
           "y": [
            16.48,
            21.3,
            27.41,
            38.28,
            44.3,
            31.1,
            34.82,
            24.59,
            23.18,
            25.78,
            29.55
           ],
           "yaxis": "y"
          },
          {
           "hovertemplate": "club=PIT<br>frameId=92<br>x=%{x}<br>y=%{y}<extra></extra>",
           "legendgroup": "PIT",
           "marker": {
            "color": "#EF553B",
            "symbol": "circle"
           },
           "mode": "markers",
           "name": "PIT",
           "orientation": "v",
           "showlegend": true,
           "type": "scatter",
           "x": [
            29.53,
            33.37,
            33.57,
            34.15,
            33.08,
            30.86,
            34.43,
            30.33,
            32.85,
            34.46,
            34.88
           ],
           "xaxis": "x",
           "y": [
            27.57,
            26.57,
            24.62,
            25.47,
            38.19,
            27.09,
            27.8,
            23,
            23.95,
            29.14,
            43.44
           ],
           "yaxis": "y"
          },
          {
           "hovertemplate": "club=football<br>frameId=92<br>x=%{x}<br>y=%{y}<extra></extra>",
           "legendgroup": "football",
           "marker": {
            "color": "#00cc96",
            "symbol": "circle"
           },
           "mode": "markers",
           "name": "football",
           "orientation": "v",
           "showlegend": true,
           "type": "scatter",
           "x": [
            29.6599998474121
           ],
           "xaxis": "x",
           "y": [
            28.0300006866455
           ],
           "yaxis": "y"
          }
         ],
         "name": "92"
        },
        {
         "data": [
          {
           "hovertemplate": "club=CIN<br>frameId=93<br>x=%{x}<br>y=%{y}<extra></extra>",
           "legendgroup": "CIN",
           "marker": {
            "color": "#636efa",
            "symbol": "circle"
           },
           "mode": "markers",
           "name": "CIN",
           "orientation": "v",
           "showlegend": true,
           "type": "scatter",
           "x": [
            38.41,
            44.1,
            35.37,
            37.71,
            42.8,
            34.76,
            46.2,
            34.61,
            35.08,
            39.1,
            38.91
           ],
           "xaxis": "x",
           "y": [
            16.27,
            21.22,
            27.32,
            38.32,
            44.25,
            30.97,
            34.73,
            24.54,
            23.25,
            25.72,
            29.57
           ],
           "yaxis": "y"
          },
          {
           "hovertemplate": "club=PIT<br>frameId=93<br>x=%{x}<br>y=%{y}<extra></extra>",
           "legendgroup": "PIT",
           "marker": {
            "color": "#EF553B",
            "symbol": "circle"
           },
           "mode": "markers",
           "name": "PIT",
           "orientation": "v",
           "showlegend": true,
           "type": "scatter",
           "x": [
            29.5,
            33.42,
            33.58,
            34.17,
            33.19,
            30.82,
            34.54,
            30.45,
            32.77,
            34.68,
            35.19
           ],
           "xaxis": "x",
           "y": [
            27.87,
            26.82,
            24.7,
            25.36,
            38.21,
            26.36,
            27.72,
            22.54,
            24.31,
            28.94,
            43.3
           ],
           "yaxis": "y"
          },
          {
           "hovertemplate": "club=football<br>frameId=93<br>x=%{x}<br>y=%{y}<extra></extra>",
           "legendgroup": "football",
           "marker": {
            "color": "#00cc96",
            "symbol": "circle"
           },
           "mode": "markers",
           "name": "football",
           "orientation": "v",
           "showlegend": true,
           "type": "scatter",
           "x": [
            29.5
           ],
           "xaxis": "x",
           "y": [
            28.3700008392334
           ],
           "yaxis": "y"
          }
         ],
         "name": "93"
        },
        {
         "data": [
          {
           "hovertemplate": "club=CIN<br>frameId=94<br>x=%{x}<br>y=%{y}<extra></extra>",
           "legendgroup": "CIN",
           "marker": {
            "color": "#636efa",
            "symbol": "circle"
           },
           "mode": "markers",
           "name": "CIN",
           "orientation": "v",
           "showlegend": true,
           "type": "scatter",
           "x": [
            38.18,
            43.89,
            35.42,
            37.68,
            42.83,
            34.62,
            46.29,
            34.54,
            35.03,
            38.99,
            38.79
           ],
           "xaxis": "x",
           "y": [
            16.05,
            21.12,
            27.24,
            38.37,
            44.2,
            30.89,
            34.65,
            24.5,
            23.28,
            25.66,
            29.65
           ],
           "yaxis": "y"
          },
          {
           "hovertemplate": "club=PIT<br>frameId=94<br>x=%{x}<br>y=%{y}<extra></extra>",
           "legendgroup": "PIT",
           "marker": {
            "color": "#EF553B",
            "symbol": "circle"
           },
           "mode": "markers",
           "name": "PIT",
           "orientation": "v",
           "showlegend": true,
           "type": "scatter",
           "x": [
            29.48,
            33.51,
            33.6,
            34.2,
            33.35,
            30.79,
            34.65,
            30.6,
            32.7,
            34.92,
            35.55
           ],
           "xaxis": "x",
           "y": [
            28.19,
            27.07,
            24.75,
            25.28,
            38.23,
            25.62,
            27.64,
            22.04,
            24.69,
            28.75,
            43.14
           ],
           "yaxis": "y"
          },
          {
           "hovertemplate": "club=football<br>frameId=94<br>x=%{x}<br>y=%{y}<extra></extra>",
           "legendgroup": "football",
           "marker": {
            "color": "#00cc96",
            "symbol": "circle"
           },
           "mode": "markers",
           "name": "football",
           "orientation": "v",
           "showlegend": true,
           "type": "scatter",
           "x": [
            29.4300003051758
           ],
           "xaxis": "x",
           "y": [
            28.7600002288818
           ],
           "yaxis": "y"
          }
         ],
         "name": "94"
        },
        {
         "data": [
          {
           "hovertemplate": "club=CIN<br>frameId=95<br>x=%{x}<br>y=%{y}<extra></extra>",
           "legendgroup": "CIN",
           "marker": {
            "color": "#636efa",
            "symbol": "circle"
           },
           "mode": "markers",
           "name": "CIN",
           "orientation": "v",
           "showlegend": true,
           "type": "scatter",
           "x": [
            37.95,
            43.67,
            35.49,
            37.67,
            42.85,
            34.47,
            46.39,
            34.49,
            35,
            38.89,
            38.65
           ],
           "xaxis": "x",
           "y": [
            15.82,
            21.01,
            27.18,
            38.43,
            44.14,
            30.85,
            34.61,
            24.48,
            23.27,
            25.61,
            29.76
           ],
           "yaxis": "y"
          },
          {
           "hovertemplate": "club=PIT<br>frameId=95<br>x=%{x}<br>y=%{y}<extra></extra>",
           "legendgroup": "PIT",
           "marker": {
            "color": "#EF553B",
            "symbol": "circle"
           },
           "mode": "markers",
           "name": "PIT",
           "orientation": "v",
           "showlegend": true,
           "type": "scatter",
           "x": [
            29.46,
            33.64,
            33.62,
            34.25,
            33.56,
            30.78,
            34.77,
            30.77,
            32.68,
            35.17,
            35.95
           ],
           "xaxis": "x",
           "y": [
            28.56,
            27.34,
            24.81,
            25.23,
            38.29,
            24.88,
            27.58,
            21.51,
            25.1,
            28.58,
            42.96
           ],
           "yaxis": "y"
          },
          {
           "hovertemplate": "club=football<br>frameId=95<br>x=%{x}<br>y=%{y}<extra></extra>",
           "legendgroup": "football",
           "marker": {
            "color": "#00cc96",
            "symbol": "circle"
           },
           "mode": "markers",
           "name": "football",
           "orientation": "v",
           "showlegend": true,
           "type": "scatter",
           "x": [
            29.3899993896484
           ],
           "xaxis": "x",
           "y": [
            29.1800003051758
           ],
           "yaxis": "y"
          }
         ],
         "name": "95"
        },
        {
         "data": [
          {
           "hovertemplate": "club=CIN<br>frameId=96<br>x=%{x}<br>y=%{y}<extra></extra>",
           "legendgroup": "CIN",
           "marker": {
            "color": "#636efa",
            "symbol": "circle"
           },
           "mode": "markers",
           "name": "CIN",
           "orientation": "v",
           "showlegend": true,
           "type": "scatter",
           "x": [
            37.74,
            43.45,
            35.57,
            37.67,
            42.88,
            34.31,
            46.48,
            34.49,
            34.97,
            38.8,
            38.49
           ],
           "xaxis": "x",
           "y": [
            15.59,
            20.88,
            27.15,
            38.52,
            44.06,
            30.83,
            34.6,
            24.46,
            23.24,
            25.56,
            29.92
           ],
           "yaxis": "y"
          },
          {
           "hovertemplate": "club=PIT<br>frameId=96<br>x=%{x}<br>y=%{y}<extra></extra>",
           "legendgroup": "PIT",
           "marker": {
            "color": "#EF553B",
            "symbol": "circle"
           },
           "mode": "markers",
           "name": "PIT",
           "orientation": "v",
           "showlegend": true,
           "type": "scatter",
           "x": [
            29.46,
            33.8,
            33.63,
            34.3,
            33.79,
            30.8,
            34.89,
            30.97,
            32.68,
            35.44,
            36.4
           ],
           "xaxis": "x",
           "y": [
            28.96,
            27.61,
            24.86,
            25.19,
            38.36,
            24.13,
            27.53,
            20.95,
            25.51,
            28.44,
            42.75
           ],
           "yaxis": "y"
          },
          {
           "hovertemplate": "club=football<br>frameId=96<br>x=%{x}<br>y=%{y}<extra></extra>",
           "legendgroup": "football",
           "marker": {
            "color": "#00cc96",
            "symbol": "circle"
           },
           "mode": "markers",
           "name": "football",
           "orientation": "v",
           "showlegend": true,
           "type": "scatter",
           "x": [
            29.3999996185303
           ],
           "xaxis": "x",
           "y": [
            29.6299991607666
           ],
           "yaxis": "y"
          }
         ],
         "name": "96"
        },
        {
         "data": [
          {
           "hovertemplate": "club=CIN<br>frameId=97<br>x=%{x}<br>y=%{y}<extra></extra>",
           "legendgroup": "CIN",
           "marker": {
            "color": "#636efa",
            "symbol": "circle"
           },
           "mode": "markers",
           "name": "CIN",
           "orientation": "v",
           "showlegend": true,
           "type": "scatter",
           "x": [
            37.56,
            43.24,
            35.66,
            37.68,
            42.93,
            34.14,
            46.58,
            34.49,
            34.97,
            38.74,
            38.32
           ],
           "xaxis": "x",
           "y": [
            15.34,
            20.72,
            27.13,
            38.64,
            43.99,
            30.88,
            34.64,
            24.44,
            23.19,
            25.53,
            30.14
           ],
           "yaxis": "y"
          },
          {
           "hovertemplate": "club=PIT<br>frameId=97<br>x=%{x}<br>y=%{y}<extra></extra>",
           "legendgroup": "PIT",
           "marker": {
            "color": "#EF553B",
            "symbol": "circle"
           },
           "mode": "markers",
           "name": "PIT",
           "orientation": "v",
           "showlegend": true,
           "type": "scatter",
           "x": [
            29.47,
            33.99,
            33.64,
            34.36,
            34.06,
            30.85,
            35.01,
            31.2,
            32.72,
            35.71,
            36.89
           ],
           "xaxis": "x",
           "y": [
            29.39,
            27.87,
            24.9,
            25.17,
            38.46,
            23.38,
            27.5,
            20.38,
            25.94,
            28.33,
            42.52
           ],
           "yaxis": "y"
          },
          {
           "hovertemplate": "club=football<br>frameId=97<br>x=%{x}<br>y=%{y}<extra></extra>",
           "legendgroup": "football",
           "marker": {
            "color": "#00cc96",
            "symbol": "circle"
           },
           "mode": "markers",
           "name": "football",
           "orientation": "v",
           "showlegend": true,
           "type": "scatter",
           "x": [
            29.4500007629395
           ],
           "xaxis": "x",
           "y": [
            30.0900001525879
           ],
           "yaxis": "y"
          }
         ],
         "name": "97"
        },
        {
         "data": [
          {
           "hovertemplate": "club=CIN<br>frameId=98<br>x=%{x}<br>y=%{y}<extra></extra>",
           "legendgroup": "CIN",
           "marker": {
            "color": "#636efa",
            "symbol": "circle"
           },
           "mode": "markers",
           "name": "CIN",
           "orientation": "v",
           "showlegend": true,
           "type": "scatter",
           "x": [
            37.4,
            43.06,
            35.76,
            37.7,
            42.98,
            33.96,
            46.68,
            34.51,
            34.99,
            38.72,
            38.13
           ],
           "xaxis": "x",
           "y": [
            15.09,
            20.54,
            27.15,
            38.8,
            43.91,
            31,
            34.7,
            24.44,
            23.13,
            25.54,
            30.38
           ],
           "yaxis": "y"
          },
          {
           "hovertemplate": "club=PIT<br>frameId=98<br>x=%{x}<br>y=%{y}<extra></extra>",
           "legendgroup": "PIT",
           "marker": {
            "color": "#EF553B",
            "symbol": "circle"
           },
           "mode": "markers",
           "name": "PIT",
           "orientation": "v",
           "showlegend": true,
           "type": "scatter",
           "x": [
            29.5,
            34.21,
            33.66,
            34.43,
            34.35,
            30.93,
            35.14,
            31.46,
            32.79,
            36,
            37.4
           ],
           "xaxis": "x",
           "y": [
            29.84,
            28.14,
            24.95,
            25.16,
            38.59,
            22.63,
            27.49,
            19.81,
            26.37,
            28.25,
            42.29
           ],
           "yaxis": "y"
          },
          {
           "hovertemplate": "club=football<br>frameId=98<br>x=%{x}<br>y=%{y}<extra></extra>",
           "legendgroup": "football",
           "marker": {
            "color": "#00cc96",
            "symbol": "circle"
           },
           "mode": "markers",
           "name": "football",
           "orientation": "v",
           "showlegend": true,
           "type": "scatter",
           "x": [
            29.5499992370605
           ],
           "xaxis": "x",
           "y": [
            30.5100002288818
           ],
           "yaxis": "y"
          }
         ],
         "name": "98"
        },
        {
         "data": [
          {
           "hovertemplate": "club=CIN<br>frameId=99<br>x=%{x}<br>y=%{y}<extra></extra>",
           "legendgroup": "CIN",
           "marker": {
            "color": "#636efa",
            "symbol": "circle"
           },
           "mode": "markers",
           "name": "CIN",
           "orientation": "v",
           "showlegend": true,
           "type": "scatter",
           "x": [
            37.29,
            42.89,
            35.87,
            37.74,
            43.05,
            33.79,
            46.78,
            34.55,
            35.01,
            38.75,
            37.93
           ],
           "xaxis": "x",
           "y": [
            14.83,
            20.35,
            27.17,
            39,
            43.84,
            31.15,
            34.8,
            24.45,
            23.06,
            25.58,
            30.64
           ],
           "yaxis": "y"
          },
          {
           "hovertemplate": "club=PIT<br>frameId=99<br>x=%{x}<br>y=%{y}<extra></extra>",
           "legendgroup": "PIT",
           "marker": {
            "color": "#EF553B",
            "symbol": "circle"
           },
           "mode": "markers",
           "name": "PIT",
           "orientation": "v",
           "showlegend": true,
           "type": "scatter",
           "x": [
            29.54,
            34.46,
            33.71,
            34.5,
            34.64,
            31.04,
            35.26,
            31.76,
            32.88,
            36.29,
            37.94
           ],
           "xaxis": "x",
           "y": [
            30.31,
            28.41,
            25,
            25.18,
            38.78,
            21.9,
            27.5,
            19.23,
            26.8,
            28.21,
            42.06
           ],
           "yaxis": "y"
          },
          {
           "hovertemplate": "club=football<br>frameId=99<br>x=%{x}<br>y=%{y}<extra></extra>",
           "legendgroup": "football",
           "marker": {
            "color": "#00cc96",
            "symbol": "circle"
           },
           "mode": "markers",
           "name": "football",
           "orientation": "v",
           "showlegend": true,
           "type": "scatter",
           "x": [
            29.6800003051758
           ],
           "xaxis": "x",
           "y": [
            30.9200000762939
           ],
           "yaxis": "y"
          }
         ],
         "name": "99"
        },
        {
         "data": [
          {
           "hovertemplate": "club=CIN<br>frameId=100<br>x=%{x}<br>y=%{y}<extra></extra>",
           "legendgroup": "CIN",
           "marker": {
            "color": "#636efa",
            "symbol": "circle"
           },
           "mode": "markers",
           "name": "CIN",
           "orientation": "v",
           "showlegend": true,
           "type": "scatter",
           "x": [
            37.23,
            42.77,
            36,
            37.78,
            43.15,
            33.6,
            46.88,
            34.59,
            35.07,
            38.81,
            37.71
           ],
           "xaxis": "x",
           "y": [
            14.57,
            20.15,
            27.22,
            39.25,
            43.78,
            31.36,
            34.93,
            24.46,
            22.97,
            25.67,
            30.91
           ],
           "yaxis": "y"
          },
          {
           "hovertemplate": "club=PIT<br>frameId=100<br>x=%{x}<br>y=%{y}<extra></extra>",
           "legendgroup": "PIT",
           "marker": {
            "color": "#EF553B",
            "symbol": "circle"
           },
           "mode": "markers",
           "name": "PIT",
           "orientation": "v",
           "showlegend": true,
           "type": "scatter",
           "x": [
            29.61,
            34.73,
            33.75,
            34.59,
            34.93,
            31.19,
            35.4,
            32.1,
            33.01,
            36.6,
            38.5
           ],
           "xaxis": "x",
           "y": [
            30.8,
            28.67,
            25.05,
            25.2,
            39,
            21.16,
            27.52,
            18.66,
            27.23,
            28.22,
            41.83
           ],
           "yaxis": "y"
          },
          {
           "hovertemplate": "club=football<br>frameId=100<br>x=%{x}<br>y=%{y}<extra></extra>",
           "legendgroup": "football",
           "marker": {
            "color": "#00cc96",
            "symbol": "circle"
           },
           "mode": "markers",
           "name": "football",
           "orientation": "v",
           "showlegend": true,
           "type": "scatter",
           "x": [
            29.8999996185303
           ],
           "xaxis": "x",
           "y": [
            31.25
           ],
           "yaxis": "y"
          }
         ],
         "name": "100"
        },
        {
         "data": [
          {
           "hovertemplate": "club=CIN<br>frameId=101<br>x=%{x}<br>y=%{y}<extra></extra>",
           "legendgroup": "CIN",
           "marker": {
            "color": "#636efa",
            "symbol": "circle"
           },
           "mode": "markers",
           "name": "CIN",
           "orientation": "v",
           "showlegend": true,
           "type": "scatter",
           "x": [
            37.22,
            42.69,
            36.14,
            37.84,
            43.27,
            33.41,
            46.98,
            34.66,
            35.13,
            38.91,
            37.49
           ],
           "xaxis": "x",
           "y": [
            14.29,
            19.96,
            27.3,
            39.54,
            43.73,
            31.6,
            35.1,
            24.48,
            22.87,
            25.81,
            31.16
           ],
           "yaxis": "y"
          },
          {
           "hovertemplate": "club=PIT<br>frameId=101<br>x=%{x}<br>y=%{y}<extra></extra>",
           "legendgroup": "PIT",
           "marker": {
            "color": "#EF553B",
            "symbol": "circle"
           },
           "mode": "markers",
           "name": "PIT",
           "orientation": "v",
           "showlegend": true,
           "type": "scatter",
           "x": [
            29.69,
            35.01,
            33.81,
            34.68,
            35.23,
            31.35,
            35.54,
            32.48,
            33.17,
            36.9,
            39.08
           ],
           "xaxis": "x",
           "y": [
            31.3,
            28.94,
            25.11,
            25.24,
            39.27,
            20.44,
            27.56,
            18.09,
            27.66,
            28.23,
            41.62
           ],
           "yaxis": "y"
          },
          {
           "hovertemplate": "club=football<br>frameId=101<br>x=%{x}<br>y=%{y}<extra></extra>",
           "legendgroup": "football",
           "marker": {
            "color": "#00cc96",
            "symbol": "circle"
           },
           "mode": "markers",
           "name": "football",
           "orientation": "v",
           "showlegend": true,
           "type": "scatter",
           "x": [
            30.2099990844727
           ],
           "xaxis": "x",
           "y": [
            31.4599990844727
           ],
           "yaxis": "y"
          }
         ],
         "name": "101"
        },
        {
         "data": [
          {
           "hovertemplate": "club=CIN<br>frameId=102<br>x=%{x}<br>y=%{y}<extra></extra>",
           "legendgroup": "CIN",
           "marker": {
            "color": "#636efa",
            "symbol": "circle"
           },
           "mode": "markers",
           "name": "CIN",
           "orientation": "v",
           "showlegend": true,
           "type": "scatter",
           "x": [
            37.27,
            42.66,
            36.29,
            37.92,
            43.43,
            33.21,
            47.07,
            34.74,
            35.22,
            39.04,
            37.26
           ],
           "xaxis": "x",
           "y": [
            14.02,
            19.77,
            27.39,
            39.88,
            43.69,
            31.87,
            35.28,
            24.51,
            22.76,
            25.99,
            31.39
           ],
           "yaxis": "y"
          },
          {
           "hovertemplate": "club=PIT<br>frameId=102<br>x=%{x}<br>y=%{y}<extra></extra>",
           "legendgroup": "PIT",
           "marker": {
            "color": "#EF553B",
            "symbol": "circle"
           },
           "mode": "markers",
           "name": "PIT",
           "orientation": "v",
           "showlegend": true,
           "type": "scatter",
           "x": [
            29.8,
            35.27,
            33.88,
            34.79,
            35.51,
            31.53,
            35.69,
            32.89,
            33.35,
            37.23,
            39.69
           ],
           "xaxis": "x",
           "y": [
            31.81,
            29.21,
            25.16,
            25.27,
            39.6,
            19.72,
            27.6,
            17.54,
            28.07,
            28.28,
            41.42
           ],
           "yaxis": "y"
          },
          {
           "hovertemplate": "club=football<br>frameId=102<br>x=%{x}<br>y=%{y}<extra></extra>",
           "legendgroup": "football",
           "marker": {
            "color": "#00cc96",
            "symbol": "circle"
           },
           "mode": "markers",
           "name": "football",
           "orientation": "v",
           "showlegend": true,
           "type": "scatter",
           "x": [
            30.6200008392334
           ],
           "xaxis": "x",
           "y": [
            31.5599994659424
           ],
           "yaxis": "y"
          }
         ],
         "name": "102"
        },
        {
         "data": [
          {
           "hovertemplate": "club=CIN<br>frameId=103<br>x=%{x}<br>y=%{y}<extra></extra>",
           "legendgroup": "CIN",
           "marker": {
            "color": "#636efa",
            "symbol": "circle"
           },
           "mode": "markers",
           "name": "CIN",
           "orientation": "v",
           "showlegend": true,
           "type": "scatter",
           "x": [
            37.36,
            42.68,
            36.46,
            37.99,
            43.61,
            33.02,
            47.15,
            34.84,
            35.33,
            39.19,
            37.02
           ],
           "xaxis": "x",
           "y": [
            13.76,
            19.59,
            27.5,
            40.27,
            43.67,
            32.16,
            35.48,
            24.54,
            22.62,
            26.23,
            31.59
           ],
           "yaxis": "y"
          },
          {
           "hovertemplate": "club=PIT<br>frameId=103<br>x=%{x}<br>y=%{y}<extra></extra>",
           "legendgroup": "PIT",
           "marker": {
            "color": "#EF553B",
            "symbol": "circle"
           },
           "mode": "markers",
           "name": "PIT",
           "orientation": "v",
           "showlegend": true,
           "type": "scatter",
           "x": [
            29.92,
            35.52,
            33.97,
            34.9,
            35.75,
            31.74,
            35.86,
            33.33,
            33.56,
            37.57,
            40.32
           ],
           "xaxis": "x",
           "y": [
            32.31,
            29.5,
            25.22,
            25.32,
            39.99,
            19.02,
            27.66,
            17,
            28.48,
            28.34,
            41.25
           ],
           "yaxis": "y"
          },
          {
           "hovertemplate": "club=football<br>frameId=103<br>x=%{x}<br>y=%{y}<extra></extra>",
           "legendgroup": "football",
           "marker": {
            "color": "#00cc96",
            "symbol": "circle"
           },
           "mode": "markers",
           "name": "football",
           "orientation": "v",
           "showlegend": true,
           "type": "scatter",
           "x": [
            31.0799999237061
           ],
           "xaxis": "x",
           "y": [
            31.5799999237061
           ],
           "yaxis": "y"
          }
         ],
         "name": "103"
        },
        {
         "data": [
          {
           "hovertemplate": "club=CIN<br>frameId=104<br>x=%{x}<br>y=%{y}<extra></extra>",
           "legendgroup": "CIN",
           "marker": {
            "color": "#636efa",
            "symbol": "circle"
           },
           "mode": "markers",
           "name": "CIN",
           "orientation": "v",
           "showlegend": true,
           "type": "scatter",
           "x": [
            37.48,
            42.74,
            36.64,
            38.08,
            43.83,
            32.84,
            47.21,
            34.95,
            35.44,
            39.37,
            36.76
           ],
           "xaxis": "x",
           "y": [
            13.5,
            19.43,
            27.63,
            40.69,
            43.67,
            32.45,
            35.66,
            24.58,
            22.46,
            26.51,
            31.73
           ],
           "yaxis": "y"
          },
          {
           "hovertemplate": "club=PIT<br>frameId=104<br>x=%{x}<br>y=%{y}<extra></extra>",
           "legendgroup": "PIT",
           "marker": {
            "color": "#EF553B",
            "symbol": "circle"
           },
           "mode": "markers",
           "name": "PIT",
           "orientation": "v",
           "showlegend": true,
           "type": "scatter",
           "x": [
            30.05,
            35.75,
            34.08,
            35.02,
            35.96,
            31.95,
            36.04,
            33.81,
            33.78,
            37.92,
            40.97
           ],
           "xaxis": "x",
           "y": [
            32.81,
            29.79,
            25.28,
            25.36,
            40.41,
            18.34,
            27.75,
            16.47,
            28.88,
            28.43,
            41.11
           ],
           "yaxis": "y"
          },
          {
           "hovertemplate": "club=football<br>frameId=104<br>x=%{x}<br>y=%{y}<extra></extra>",
           "legendgroup": "football",
           "marker": {
            "color": "#00cc96",
            "symbol": "circle"
           },
           "mode": "markers",
           "name": "football",
           "orientation": "v",
           "showlegend": true,
           "type": "scatter",
           "x": [
            31.6000003814697
           ],
           "xaxis": "x",
           "y": [
            31.5200004577637
           ],
           "yaxis": "y"
          }
         ],
         "name": "104"
        },
        {
         "data": [
          {
           "hovertemplate": "club=CIN<br>frameId=105<br>x=%{x}<br>y=%{y}<extra></extra>",
           "legendgroup": "CIN",
           "marker": {
            "color": "#636efa",
            "symbol": "circle"
           },
           "mode": "markers",
           "name": "CIN",
           "orientation": "v",
           "showlegend": true,
           "type": "scatter",
           "x": [
            37.63,
            42.85,
            36.82,
            38.15,
            44.08,
            32.68,
            47.24,
            35.09,
            35.56,
            39.56,
            36.51
           ],
           "xaxis": "x",
           "y": [
            13.26,
            19.31,
            27.77,
            41.13,
            43.68,
            32.75,
            35.83,
            24.63,
            22.3,
            26.82,
            31.83
           ],
           "yaxis": "y"
          },
          {
           "hovertemplate": "club=PIT<br>frameId=105<br>x=%{x}<br>y=%{y}<extra></extra>",
           "legendgroup": "PIT",
           "marker": {
            "color": "#EF553B",
            "symbol": "circle"
           },
           "mode": "markers",
           "name": "PIT",
           "orientation": "v",
           "showlegend": true,
           "type": "scatter",
           "x": [
            30.19,
            35.96,
            34.22,
            35.15,
            36.13,
            32.18,
            36.24,
            34.31,
            34.02,
            38.27,
            41.64
           ],
           "xaxis": "x",
           "y": [
            33.31,
            30.08,
            25.33,
            25.42,
            40.88,
            17.67,
            27.84,
            15.97,
            29.27,
            28.53,
            41
           ],
           "yaxis": "y"
          },
          {
           "hovertemplate": "club=football<br>frameId=105<br>x=%{x}<br>y=%{y}<extra></extra>",
           "legendgroup": "football",
           "marker": {
            "color": "#00cc96",
            "symbol": "circle"
           },
           "mode": "markers",
           "name": "football",
           "orientation": "v",
           "showlegend": true,
           "type": "scatter",
           "x": [
            32.1500015258789
           ],
           "xaxis": "x",
           "y": [
            31.4200000762939
           ],
           "yaxis": "y"
          }
         ],
         "name": "105"
        },
        {
         "data": [
          {
           "hovertemplate": "club=CIN<br>frameId=106<br>x=%{x}<br>y=%{y}<extra></extra>",
           "legendgroup": "CIN",
           "marker": {
            "color": "#636efa",
            "symbol": "circle"
           },
           "mode": "markers",
           "name": "CIN",
           "orientation": "v",
           "showlegend": true,
           "type": "scatter",
           "x": [
            37.82,
            43.01,
            37.02,
            38.23,
            44.33,
            32.55,
            47.23,
            35.25,
            35.7,
            39.77,
            36.26
           ],
           "xaxis": "x",
           "y": [
            13.02,
            19.23,
            27.93,
            41.6,
            43.71,
            33.04,
            35.97,
            24.69,
            22.11,
            27.16,
            31.88
           ],
           "yaxis": "y"
          },
          {
           "hovertemplate": "club=PIT<br>frameId=106<br>x=%{x}<br>y=%{y}<extra></extra>",
           "legendgroup": "PIT",
           "marker": {
            "color": "#EF553B",
            "symbol": "circle"
           },
           "mode": "markers",
           "name": "PIT",
           "orientation": "v",
           "showlegend": true,
           "type": "scatter",
           "x": [
            30.34,
            36.11,
            34.37,
            35.3,
            36.26,
            32.41,
            36.46,
            34.85,
            34.28,
            38.63,
            42.32
           ],
           "xaxis": "x",
           "y": [
            33.79,
            30.38,
            25.37,
            25.49,
            41.38,
            17.04,
            27.94,
            15.49,
            29.63,
            28.65,
            40.91
           ],
           "yaxis": "y"
          },
          {
           "hovertemplate": "club=football<br>frameId=106<br>x=%{x}<br>y=%{y}<extra></extra>",
           "legendgroup": "football",
           "marker": {
            "color": "#00cc96",
            "symbol": "circle"
           },
           "mode": "markers",
           "name": "football",
           "orientation": "v",
           "showlegend": true,
           "type": "scatter",
           "x": [
            32.7099990844727
           ],
           "xaxis": "x",
           "y": [
            31.2800006866455
           ],
           "yaxis": "y"
          }
         ],
         "name": "106"
        },
        {
         "data": [
          {
           "hovertemplate": "club=CIN<br>frameId=107<br>x=%{x}<br>y=%{y}<extra></extra>",
           "legendgroup": "CIN",
           "marker": {
            "color": "#636efa",
            "symbol": "circle"
           },
           "mode": "markers",
           "name": "CIN",
           "orientation": "v",
           "showlegend": true,
           "type": "scatter",
           "x": [
            38.04,
            43.19,
            37.22,
            38.3,
            44.6,
            32.46,
            47.18,
            35.42,
            35.84,
            40,
            36.06
           ],
           "xaxis": "x",
           "y": [
            12.79,
            19.19,
            28.11,
            42.08,
            43.74,
            33.32,
            36.07,
            24.75,
            21.9,
            27.53,
            31.86
           ],
           "yaxis": "y"
          },
          {
           "hovertemplate": "club=PIT<br>frameId=107<br>x=%{x}<br>y=%{y}<extra></extra>",
           "legendgroup": "PIT",
           "marker": {
            "color": "#EF553B",
            "symbol": "circle"
           },
           "mode": "markers",
           "name": "PIT",
           "orientation": "v",
           "showlegend": true,
           "type": "scatter",
           "x": [
            30.49,
            36.22,
            34.54,
            35.44,
            36.35,
            32.65,
            36.71,
            35.41,
            34.55,
            38.98,
            43.03
           ],
           "xaxis": "x",
           "y": [
            34.27,
            30.67,
            25.4,
            25.55,
            41.91,
            16.43,
            28.07,
            15.05,
            29.94,
            28.78,
            40.87
           ],
           "yaxis": "y"
          },
          {
           "hovertemplate": "club=football<br>frameId=107<br>x=%{x}<br>y=%{y}<extra></extra>",
           "legendgroup": "football",
           "marker": {
            "color": "#00cc96",
            "symbol": "circle"
           },
           "mode": "markers",
           "name": "football",
           "orientation": "v",
           "showlegend": true,
           "type": "scatter",
           "x": [
            33.2799987792969
           ],
           "xaxis": "x",
           "y": [
            31.1100006103516
           ],
           "yaxis": "y"
          }
         ],
         "name": "107"
        },
        {
         "data": [
          {
           "hovertemplate": "club=CIN<br>frameId=108<br>x=%{x}<br>y=%{y}<extra></extra>",
           "legendgroup": "CIN",
           "marker": {
            "color": "#636efa",
            "symbol": "circle"
           },
           "mode": "markers",
           "name": "CIN",
           "orientation": "v",
           "showlegend": true,
           "type": "scatter",
           "x": [
            38.29,
            43.4,
            37.41,
            38.35,
            44.87,
            32.41,
            47.08,
            35.61,
            35.98,
            40.23,
            35.87
           ],
           "xaxis": "x",
           "y": [
            12.58,
            19.2,
            28.32,
            42.57,
            43.78,
            33.58,
            36.11,
            24.81,
            21.67,
            27.9,
            31.81
           ],
           "yaxis": "y"
          },
          {
           "hovertemplate": "club=PIT<br>frameId=108<br>x=%{x}<br>y=%{y}<extra></extra>",
           "legendgroup": "PIT",
           "marker": {
            "color": "#EF553B",
            "symbol": "circle"
           },
           "mode": "markers",
           "name": "PIT",
           "orientation": "v",
           "showlegend": true,
           "type": "scatter",
           "x": [
            30.64,
            36.28,
            34.75,
            35.59,
            36.42,
            32.88,
            36.94,
            35.99,
            34.83,
            39.32,
            43.75
           ],
           "xaxis": "x",
           "y": [
            34.74,
            30.96,
            25.43,
            25.63,
            42.45,
            15.86,
            28.2,
            14.63,
            30.2,
            28.95,
            40.86
           ],
           "yaxis": "y"
          },
          {
           "hovertemplate": "club=football<br>frameId=108<br>x=%{x}<br>y=%{y}<extra></extra>",
           "legendgroup": "football",
           "marker": {
            "color": "#00cc96",
            "symbol": "circle"
           },
           "mode": "markers",
           "name": "football",
           "orientation": "v",
           "showlegend": true,
           "type": "scatter",
           "x": [
            33.7900009155273
           ],
           "xaxis": "x",
           "y": [
            30.9899997711182
           ],
           "yaxis": "y"
          }
         ],
         "name": "108"
        },
        {
         "data": [
          {
           "hovertemplate": "club=CIN<br>frameId=109<br>x=%{x}<br>y=%{y}<extra></extra>",
           "legendgroup": "CIN",
           "marker": {
            "color": "#636efa",
            "symbol": "circle"
           },
           "mode": "markers",
           "name": "CIN",
           "orientation": "v",
           "showlegend": true,
           "type": "scatter",
           "x": [
            38.57,
            43.61,
            37.59,
            38.39,
            45.15,
            32.4,
            46.95,
            35.81,
            36.12,
            40.49,
            35.74
           ],
           "xaxis": "x",
           "y": [
            12.38,
            19.26,
            28.54,
            43.06,
            43.82,
            33.82,
            36.11,
            24.88,
            21.43,
            28.29,
            31.73
           ],
           "yaxis": "y"
          },
          {
           "hovertemplate": "club=PIT<br>frameId=109<br>x=%{x}<br>y=%{y}<extra></extra>",
           "legendgroup": "PIT",
           "marker": {
            "color": "#EF553B",
            "symbol": "circle"
           },
           "mode": "markers",
           "name": "PIT",
           "orientation": "v",
           "showlegend": true,
           "type": "scatter",
           "x": [
            30.8,
            36.29,
            34.99,
            35.76,
            36.46,
            33.12,
            37.18,
            36.59,
            35.12,
            39.67,
            44.48
           ],
           "xaxis": "x",
           "y": [
            35.19,
            31.23,
            25.45,
            25.71,
            42.98,
            15.33,
            28.36,
            14.25,
            30.43,
            29.14,
            40.89
           ],
           "yaxis": "y"
          },
          {
           "hovertemplate": "club=football<br>frameId=109<br>x=%{x}<br>y=%{y}<extra></extra>",
           "legendgroup": "football",
           "marker": {
            "color": "#00cc96",
            "symbol": "circle"
           },
           "mode": "markers",
           "name": "football",
           "orientation": "v",
           "showlegend": true,
           "type": "scatter",
           "x": [
            34.3400001525879
           ],
           "xaxis": "x",
           "y": [
            30.8299999237061
           ],
           "yaxis": "y"
          }
         ],
         "name": "109"
        },
        {
         "data": [
          {
           "hovertemplate": "club=CIN<br>frameId=110<br>x=%{x}<br>y=%{y}<extra></extra>",
           "legendgroup": "CIN",
           "marker": {
            "color": "#636efa",
            "symbol": "circle"
           },
           "mode": "markers",
           "name": "CIN",
           "orientation": "v",
           "showlegend": true,
           "type": "scatter",
           "x": [
            38.88,
            43.82,
            37.75,
            38.42,
            45.41,
            32.44,
            46.76,
            36.04,
            36.25,
            40.76,
            35.67
           ],
           "xaxis": "x",
           "y": [
            12.18,
            19.38,
            28.78,
            43.54,
            43.86,
            34.03,
            36.05,
            24.95,
            21.16,
            28.68,
            31.6
           ],
           "yaxis": "y"
          },
          {
           "hovertemplate": "club=PIT<br>frameId=110<br>x=%{x}<br>y=%{y}<extra></extra>",
           "legendgroup": "PIT",
           "marker": {
            "color": "#EF553B",
            "symbol": "circle"
           },
           "mode": "markers",
           "name": "PIT",
           "orientation": "v",
           "showlegend": true,
           "type": "scatter",
           "x": [
            30.95,
            36.27,
            35.23,
            35.94,
            36.48,
            33.35,
            37.42,
            37.2,
            35.44,
            40.01,
            45.21
           ],
           "xaxis": "x",
           "y": [
            35.64,
            31.48,
            25.46,
            25.79,
            43.5,
            14.83,
            28.52,
            13.9,
            30.59,
            29.34,
            40.95
           ],
           "yaxis": "y"
          },
          {
           "hovertemplate": "club=football<br>frameId=110<br>x=%{x}<br>y=%{y}<extra></extra>",
           "legendgroup": "football",
           "marker": {
            "color": "#00cc96",
            "symbol": "circle"
           },
           "mode": "markers",
           "name": "football",
           "orientation": "v",
           "showlegend": true,
           "type": "scatter",
           "x": [
            34.8899993896484
           ],
           "xaxis": "x",
           "y": [
            30.6900005340576
           ],
           "yaxis": "y"
          }
         ],
         "name": "110"
        },
        {
         "data": [
          {
           "hovertemplate": "club=CIN<br>frameId=111<br>x=%{x}<br>y=%{y}<extra></extra>",
           "legendgroup": "CIN",
           "marker": {
            "color": "#636efa",
            "symbol": "circle"
           },
           "mode": "markers",
           "name": "CIN",
           "orientation": "v",
           "showlegend": true,
           "type": "scatter",
           "x": [
            39.19,
            44.02,
            37.89,
            38.43,
            45.67,
            32.53,
            46.55,
            36.29,
            36.39,
            41.05,
            35.63
           ],
           "xaxis": "x",
           "y": [
            12,
            19.56,
            29.04,
            44.01,
            43.87,
            34.22,
            35.95,
            25.04,
            20.88,
            29.07,
            31.44
           ],
           "yaxis": "y"
          },
          {
           "hovertemplate": "club=PIT<br>frameId=111<br>x=%{x}<br>y=%{y}<extra></extra>",
           "legendgroup": "PIT",
           "marker": {
            "color": "#EF553B",
            "symbol": "circle"
           },
           "mode": "markers",
           "name": "PIT",
           "orientation": "v",
           "showlegend": true,
           "type": "scatter",
           "x": [
            31.11,
            36.22,
            35.51,
            36.12,
            36.49,
            33.57,
            37.66,
            37.82,
            35.75,
            40.33,
            45.94
           ],
           "xaxis": "x",
           "y": [
            36.09,
            31.71,
            25.46,
            25.87,
            44,
            14.38,
            28.7,
            13.59,
            30.7,
            29.54,
            41.05
           ],
           "yaxis": "y"
          },
          {
           "hovertemplate": "club=football<br>frameId=111<br>x=%{x}<br>y=%{y}<extra></extra>",
           "legendgroup": "football",
           "marker": {
            "color": "#00cc96",
            "symbol": "circle"
           },
           "mode": "markers",
           "name": "football",
           "orientation": "v",
           "showlegend": true,
           "type": "scatter",
           "x": [
            35.4199981689453
           ],
           "xaxis": "x",
           "y": [
            30.5100002288818
           ],
           "yaxis": "y"
          }
         ],
         "name": "111"
        },
        {
         "data": [
          {
           "hovertemplate": "club=CIN<br>frameId=112<br>x=%{x}<br>y=%{y}<extra></extra>",
           "legendgroup": "CIN",
           "marker": {
            "color": "#636efa",
            "symbol": "circle"
           },
           "mode": "markers",
           "name": "CIN",
           "orientation": "v",
           "showlegend": true,
           "type": "scatter",
           "x": [
            39.52,
            44.19,
            38.01,
            38.43,
            45.92,
            32.65,
            46.29,
            36.56,
            36.53,
            41.36,
            35.66
           ],
           "xaxis": "x",
           "y": [
            11.83,
            19.79,
            29.32,
            44.46,
            43.85,
            34.37,
            35.8,
            25.14,
            20.63,
            29.45,
            31.26
           ],
           "yaxis": "y"
          },
          {
           "hovertemplate": "club=PIT<br>frameId=112<br>x=%{x}<br>y=%{y}<extra></extra>",
           "legendgroup": "PIT",
           "marker": {
            "color": "#EF553B",
            "symbol": "circle"
           },
           "mode": "markers",
           "name": "PIT",
           "orientation": "v",
           "showlegend": true,
           "type": "scatter",
           "x": [
            31.26,
            36.15,
            35.8,
            36.33,
            36.49,
            33.78,
            37.9,
            38.43,
            36.08,
            40.64,
            46.66
           ],
           "xaxis": "x",
           "y": [
            36.52,
            31.91,
            25.45,
            25.94,
            44.48,
            13.97,
            28.88,
            13.3,
            30.76,
            29.74,
            41.17
           ],
           "yaxis": "y"
          },
          {
           "hovertemplate": "club=football<br>frameId=112<br>x=%{x}<br>y=%{y}<extra></extra>",
           "legendgroup": "football",
           "marker": {
            "color": "#00cc96",
            "symbol": "circle"
           },
           "mode": "markers",
           "name": "football",
           "orientation": "v",
           "showlegend": true,
           "type": "scatter",
           "x": [
            35.9300003051758
           ],
           "xaxis": "x",
           "y": [
            30.3600006103516
           ],
           "yaxis": "y"
          }
         ],
         "name": "112"
        },
        {
         "data": [
          {
           "hovertemplate": "club=CIN<br>frameId=113<br>x=%{x}<br>y=%{y}<extra></extra>",
           "legendgroup": "CIN",
           "marker": {
            "color": "#636efa",
            "symbol": "circle"
           },
           "mode": "markers",
           "name": "CIN",
           "orientation": "v",
           "showlegend": true,
           "type": "scatter",
           "x": [
            39.84,
            44.34,
            38.09,
            38.42,
            46.12,
            32.82,
            45.99,
            36.86,
            36.67,
            41.68,
            35.73
           ],
           "xaxis": "x",
           "y": [
            11.66,
            20.07,
            29.6,
            44.87,
            43.8,
            34.5,
            35.62,
            25.26,
            20.41,
            29.82,
            31.07
           ],
           "yaxis": "y"
          },
          {
           "hovertemplate": "club=PIT<br>frameId=113<br>x=%{x}<br>y=%{y}<extra></extra>",
           "legendgroup": "PIT",
           "marker": {
            "color": "#EF553B",
            "symbol": "circle"
           },
           "mode": "markers",
           "name": "PIT",
           "orientation": "v",
           "showlegend": true,
           "type": "scatter",
           "x": [
            31.41,
            36.08,
            36.09,
            36.55,
            36.49,
            33.97,
            38.12,
            39.04,
            36.42,
            40.95,
            47.36
           ],
           "xaxis": "x",
           "y": [
            36.93,
            32.08,
            25.44,
            26,
            44.93,
            13.59,
            29.08,
            13.04,
            30.78,
            29.95,
            41.33
           ],
           "yaxis": "y"
          },
          {
           "hovertemplate": "club=football<br>frameId=113<br>x=%{x}<br>y=%{y}<extra></extra>",
           "legendgroup": "football",
           "marker": {
            "color": "#00cc96",
            "symbol": "circle"
           },
           "mode": "markers",
           "name": "football",
           "orientation": "v",
           "showlegend": true,
           "type": "scatter",
           "x": [
            36.4000015258789
           ],
           "xaxis": "x",
           "y": [
            30.2299995422363
           ],
           "yaxis": "y"
          }
         ],
         "name": "113"
        },
        {
         "data": [
          {
           "hovertemplate": "club=CIN<br>frameId=114<br>x=%{x}<br>y=%{y}<extra></extra>",
           "legendgroup": "CIN",
           "marker": {
            "color": "#636efa",
            "symbol": "circle"
           },
           "mode": "markers",
           "name": "CIN",
           "orientation": "v",
           "showlegend": true,
           "type": "scatter",
           "x": [
            40.13,
            44.44,
            38.14,
            38.39,
            46.29,
            33.05,
            45.66,
            37.17,
            36.81,
            42.01,
            35.84
           ],
           "xaxis": "x",
           "y": [
            11.5,
            20.4,
            29.9,
            45.25,
            43.72,
            34.59,
            35.42,
            25.39,
            20.21,
            30.19,
            30.88
           ],
           "yaxis": "y"
          },
          {
           "hovertemplate": "club=PIT<br>frameId=114<br>x=%{x}<br>y=%{y}<extra></extra>",
           "legendgroup": "PIT",
           "marker": {
            "color": "#EF553B",
            "symbol": "circle"
           },
           "mode": "markers",
           "name": "PIT",
           "orientation": "v",
           "showlegend": true,
           "type": "scatter",
           "x": [
            31.57,
            36.01,
            36.38,
            36.79,
            36.48,
            34.14,
            38.33,
            39.63,
            36.75,
            41.23,
            48.04
           ],
           "xaxis": "x",
           "y": [
            37.33,
            32.22,
            25.43,
            26.05,
            45.35,
            13.25,
            29.29,
            12.82,
            30.77,
            30.17,
            41.52
           ],
           "yaxis": "y"
          },
          {
           "hovertemplate": "club=football<br>frameId=114<br>x=%{x}<br>y=%{y}<extra></extra>",
           "legendgroup": "football",
           "marker": {
            "color": "#00cc96",
            "symbol": "circle"
           },
           "mode": "markers",
           "name": "football",
           "orientation": "v",
           "showlegend": true,
           "type": "scatter",
           "x": [
            36.810001373291
           ],
           "xaxis": "x",
           "y": [
            30.1399993896484
           ],
           "yaxis": "y"
          }
         ],
         "name": "114"
        },
        {
         "data": [
          {
           "hovertemplate": "club=CIN<br>frameId=115<br>x=%{x}<br>y=%{y}<extra></extra>",
           "legendgroup": "CIN",
           "marker": {
            "color": "#636efa",
            "symbol": "circle"
           },
           "mode": "markers",
           "name": "CIN",
           "orientation": "v",
           "showlegend": true,
           "type": "scatter",
           "x": [
            40.36,
            44.51,
            38.18,
            38.35,
            46.43,
            33.29,
            45.3,
            37.52,
            36.96,
            42.35,
            35.98
           ],
           "xaxis": "x",
           "y": [
            11.35,
            20.76,
            30.18,
            45.6,
            43.61,
            34.65,
            35.21,
            25.54,
            20.06,
            30.54,
            30.68
           ],
           "yaxis": "y"
          },
          {
           "hovertemplate": "club=PIT<br>frameId=115<br>x=%{x}<br>y=%{y}<extra></extra>",
           "legendgroup": "PIT",
           "marker": {
            "color": "#EF553B",
            "symbol": "circle"
           },
           "mode": "markers",
           "name": "PIT",
           "orientation": "v",
           "showlegend": true,
           "type": "scatter",
           "x": [
            31.72,
            35.94,
            36.69,
            37.05,
            36.5,
            34.29,
            38.53,
            40.18,
            37.07,
            41.51,
            48.7
           ],
           "xaxis": "x",
           "y": [
            37.7,
            32.34,
            25.42,
            26.1,
            45.73,
            12.95,
            29.5,
            12.62,
            30.74,
            30.39,
            41.74
           ],
           "yaxis": "y"
          },
          {
           "hovertemplate": "club=football<br>frameId=115<br>x=%{x}<br>y=%{y}<extra></extra>",
           "legendgroup": "football",
           "marker": {
            "color": "#00cc96",
            "symbol": "circle"
           },
           "mode": "markers",
           "name": "football",
           "orientation": "v",
           "showlegend": true,
           "type": "scatter",
           "x": [
            37.1800003051758
           ],
           "xaxis": "x",
           "y": [
            30.0799999237061
           ],
           "yaxis": "y"
          }
         ],
         "name": "115"
        },
        {
         "data": [
          {
           "hovertemplate": "club=CIN<br>frameId=116<br>x=%{x}<br>y=%{y}<extra></extra>",
           "legendgroup": "CIN",
           "marker": {
            "color": "#636efa",
            "symbol": "circle"
           },
           "mode": "markers",
           "name": "CIN",
           "orientation": "v",
           "showlegend": true,
           "type": "scatter",
           "x": [
            40.57,
            44.55,
            38.19,
            38.31,
            46.53,
            33.54,
            44.93,
            37.88,
            37.1,
            42.68,
            36.15
           ],
           "xaxis": "x",
           "y": [
            11.21,
            21.15,
            30.44,
            45.89,
            43.47,
            34.68,
            34.98,
            25.71,
            19.96,
            30.87,
            30.49
           ],
           "yaxis": "y"
          },
          {
           "hovertemplate": "club=PIT<br>frameId=116<br>x=%{x}<br>y=%{y}<extra></extra>",
           "legendgroup": "PIT",
           "marker": {
            "color": "#EF553B",
            "symbol": "circle"
           },
           "mode": "markers",
           "name": "PIT",
           "orientation": "v",
           "showlegend": true,
           "type": "scatter",
           "x": [
            31.89,
            35.88,
            37.02,
            37.32,
            36.53,
            34.42,
            38.7,
            40.69,
            37.39,
            41.78,
            49.33
           ],
           "xaxis": "x",
           "y": [
            38.05,
            32.45,
            25.41,
            26.12,
            46.05,
            12.68,
            29.71,
            12.45,
            30.68,
            30.6,
            41.98
           ],
           "yaxis": "y"
          },
          {
           "hovertemplate": "club=football<br>frameId=116<br>x=%{x}<br>y=%{y}<extra></extra>",
           "legendgroup": "football",
           "marker": {
            "color": "#00cc96",
            "symbol": "circle"
           },
           "mode": "markers",
           "name": "football",
           "orientation": "v",
           "showlegend": true,
           "type": "scatter",
           "x": [
            37.4799995422363
           ],
           "xaxis": "x",
           "y": [
            30.0499992370605
           ],
           "yaxis": "y"
          }
         ],
         "name": "116"
        },
        {
         "data": [
          {
           "hovertemplate": "club=CIN<br>frameId=117<br>x=%{x}<br>y=%{y}<extra></extra>",
           "legendgroup": "CIN",
           "marker": {
            "color": "#636efa",
            "symbol": "circle"
           },
           "mode": "markers",
           "name": "CIN",
           "orientation": "v",
           "showlegend": true,
           "type": "scatter",
           "x": [
            40.73,
            44.55,
            38.2,
            38.27,
            46.59,
            33.8,
            44.54,
            38.23,
            37.24,
            43.01,
            36.32
           ],
           "xaxis": "x",
           "y": [
            11.08,
            21.55,
            30.68,
            46.15,
            43.31,
            34.7,
            34.75,
            25.88,
            19.91,
            31.18,
            30.3
           ],
           "yaxis": "y"
          },
          {
           "hovertemplate": "club=PIT<br>frameId=117<br>x=%{x}<br>y=%{y}<extra></extra>",
           "legendgroup": "PIT",
           "marker": {
            "color": "#EF553B",
            "symbol": "circle"
           },
           "mode": "markers",
           "name": "PIT",
           "orientation": "v",
           "showlegend": true,
           "type": "scatter",
           "x": [
            32.05,
            35.83,
            37.35,
            37.59,
            36.58,
            34.52,
            38.85,
            41.15,
            37.67,
            42.03,
            49.92
           ],
           "xaxis": "x",
           "y": [
            38.35,
            32.54,
            25.4,
            26.15,
            46.32,
            12.45,
            29.91,
            12.31,
            30.64,
            30.81,
            42.23
           ],
           "yaxis": "y"
          },
          {
           "hovertemplate": "club=football<br>frameId=117<br>x=%{x}<br>y=%{y}<extra></extra>",
           "legendgroup": "football",
           "marker": {
            "color": "#00cc96",
            "symbol": "circle"
           },
           "mode": "markers",
           "name": "football",
           "orientation": "v",
           "showlegend": true,
           "type": "scatter",
           "x": [
            37.7599983215332
           ],
           "xaxis": "x",
           "y": [
            30.0499992370605
           ],
           "yaxis": "y"
          }
         ],
         "name": "117"
        },
        {
         "data": [
          {
           "hovertemplate": "club=CIN<br>frameId=118<br>x=%{x}<br>y=%{y}<extra></extra>",
           "legendgroup": "CIN",
           "marker": {
            "color": "#636efa",
            "symbol": "circle"
           },
           "mode": "markers",
           "name": "CIN",
           "orientation": "v",
           "showlegend": true,
           "type": "scatter",
           "x": [
            40.83,
            44.52,
            38.2,
            38.22,
            46.62,
            34.07,
            44.15,
            38.6,
            37.38,
            43.33,
            36.5
           ],
           "xaxis": "x",
           "y": [
            10.97,
            21.96,
            30.9,
            46.35,
            43.13,
            34.7,
            34.52,
            26.07,
            19.94,
            31.48,
            30.13
           ],
           "yaxis": "y"
          },
          {
           "hovertemplate": "club=PIT<br>frameId=118<br>x=%{x}<br>y=%{y}<extra></extra>",
           "legendgroup": "PIT",
           "marker": {
            "color": "#EF553B",
            "symbol": "circle"
           },
           "mode": "markers",
           "name": "PIT",
           "orientation": "v",
           "showlegend": true,
           "type": "scatter",
           "x": [
            32.23,
            35.79,
            37.68,
            37.85,
            36.64,
            34.6,
            38.98,
            41.56,
            37.9,
            42.26,
            50.47
           ],
           "xaxis": "x",
           "y": [
            38.62,
            32.61,
            25.39,
            26.17,
            46.55,
            12.26,
            30.1,
            12.19,
            30.61,
            31.02,
            42.5
           ],
           "yaxis": "y"
          },
          {
           "hovertemplate": "club=football<br>frameId=118<br>x=%{x}<br>y=%{y}<extra></extra>",
           "legendgroup": "football",
           "marker": {
            "color": "#00cc96",
            "symbol": "circle"
           },
           "mode": "markers",
           "name": "football",
           "orientation": "v",
           "showlegend": true,
           "type": "scatter",
           "x": [
            37.9700012207031
           ],
           "xaxis": "x",
           "y": [
            30.0400009155273
           ],
           "yaxis": "y"
          }
         ],
         "name": "118"
        },
        {
         "data": [
          {
           "hovertemplate": "club=CIN<br>frameId=119<br>x=%{x}<br>y=%{y}<extra></extra>",
           "legendgroup": "CIN",
           "marker": {
            "color": "#636efa",
            "symbol": "circle"
           },
           "mode": "markers",
           "name": "CIN",
           "orientation": "v",
           "showlegend": true,
           "type": "scatter",
           "x": [
            40.87,
            44.46,
            38.19,
            38.18,
            46.62,
            34.32,
            43.77,
            38.96,
            37.51,
            43.63,
            36.67
           ],
           "xaxis": "x",
           "y": [
            10.9,
            22.38,
            31.09,
            46.52,
            42.95,
            34.69,
            34.29,
            26.28,
            20.03,
            31.76,
            29.97
           ],
           "yaxis": "y"
          },
          {
           "hovertemplate": "club=PIT<br>frameId=119<br>x=%{x}<br>y=%{y}<extra></extra>",
           "legendgroup": "PIT",
           "marker": {
            "color": "#EF553B",
            "symbol": "circle"
           },
           "mode": "markers",
           "name": "PIT",
           "orientation": "v",
           "showlegend": true,
           "type": "scatter",
           "x": [
            32.41,
            35.75,
            38.01,
            38.14,
            36.71,
            34.66,
            39.1,
            41.9,
            38.11,
            42.48,
            50.99
           ],
           "xaxis": "x",
           "y": [
            38.83,
            32.67,
            25.39,
            26.19,
            46.74,
            12.09,
            30.28,
            12.09,
            30.57,
            31.21,
            42.77
           ],
           "yaxis": "y"
          },
          {
           "hovertemplate": "club=football<br>frameId=119<br>x=%{x}<br>y=%{y}<extra></extra>",
           "legendgroup": "football",
           "marker": {
            "color": "#00cc96",
            "symbol": "circle"
           },
           "mode": "markers",
           "name": "football",
           "orientation": "v",
           "showlegend": true,
           "type": "scatter",
           "x": [
            38.1399993896484
           ],
           "xaxis": "x",
           "y": [
            30.0499992370605
           ],
           "yaxis": "y"
          }
         ],
         "name": "119"
        },
        {
         "data": [
          {
           "hovertemplate": "club=CIN<br>frameId=120<br>x=%{x}<br>y=%{y}<extra></extra>",
           "legendgroup": "CIN",
           "marker": {
            "color": "#636efa",
            "symbol": "circle"
           },
           "mode": "markers",
           "name": "CIN",
           "orientation": "v",
           "showlegend": true,
           "type": "scatter",
           "x": [
            40.86,
            44.38,
            38.19,
            38.13,
            46.6,
            34.56,
            43.41,
            39.31,
            37.64,
            43.9,
            36.83
           ],
           "xaxis": "x",
           "y": [
            10.85,
            22.78,
            31.24,
            46.65,
            42.76,
            34.68,
            34.05,
            26.49,
            20.17,
            32.01,
            29.83
           ],
           "yaxis": "y"
          },
          {
           "hovertemplate": "club=PIT<br>frameId=120<br>x=%{x}<br>y=%{y}<extra></extra>",
           "legendgroup": "PIT",
           "marker": {
            "color": "#EF553B",
            "symbol": "circle"
           },
           "mode": "markers",
           "name": "PIT",
           "orientation": "v",
           "showlegend": true,
           "type": "scatter",
           "x": [
            32.59,
            35.71,
            38.36,
            38.42,
            36.78,
            34.69,
            39.2,
            42.19,
            38.29,
            42.68,
            51.47
           ],
           "xaxis": "x",
           "y": [
            39,
            32.73,
            25.39,
            26.19,
            46.89,
            11.96,
            30.43,
            12.01,
            30.54,
            31.4,
            43.04
           ],
           "yaxis": "y"
          },
          {
           "hovertemplate": "club=football<br>frameId=120<br>x=%{x}<br>y=%{y}<extra></extra>",
           "legendgroup": "football",
           "marker": {
            "color": "#00cc96",
            "symbol": "circle"
           },
           "mode": "markers",
           "name": "football",
           "orientation": "v",
           "showlegend": true,
           "type": "scatter",
           "x": [
            38.2700004577637
           ],
           "xaxis": "x",
           "y": [
            30.0799999237061
           ],
           "yaxis": "y"
          }
         ],
         "name": "120"
        },
        {
         "data": [
          {
           "hovertemplate": "club=CIN<br>frameId=121<br>x=%{x}<br>y=%{y}<extra></extra>",
           "legendgroup": "CIN",
           "marker": {
            "color": "#636efa",
            "symbol": "circle"
           },
           "mode": "markers",
           "name": "CIN",
           "orientation": "v",
           "showlegend": true,
           "type": "scatter",
           "x": [
            40.82,
            44.28,
            38.19,
            38.09,
            46.57,
            34.78,
            43.05,
            39.65,
            37.76,
            44.15,
            36.95
           ],
           "xaxis": "x",
           "y": [
            10.83,
            23.17,
            31.36,
            46.74,
            42.57,
            34.65,
            33.81,
            26.7,
            20.36,
            32.25,
            29.7
           ],
           "yaxis": "y"
          },
          {
           "hovertemplate": "club=PIT<br>frameId=121<br>x=%{x}<br>y=%{y}<extra></extra>",
           "legendgroup": "PIT",
           "marker": {
            "color": "#EF553B",
            "symbol": "circle"
           },
           "mode": "markers",
           "name": "PIT",
           "orientation": "v",
           "showlegend": true,
           "type": "scatter",
           "x": [
            32.77,
            35.67,
            38.69,
            38.69,
            36.84,
            34.71,
            39.28,
            42.42,
            38.43,
            42.86,
            51.9
           ],
           "xaxis": "x",
           "y": [
            39.12,
            32.79,
            25.4,
            26.2,
            47,
            11.86,
            30.57,
            11.95,
            30.52,
            31.6,
            43.31
           ],
           "yaxis": "y"
          },
          {
           "hovertemplate": "club=football<br>frameId=121<br>x=%{x}<br>y=%{y}<extra></extra>",
           "legendgroup": "football",
           "marker": {
            "color": "#00cc96",
            "symbol": "circle"
           },
           "mode": "markers",
           "name": "football",
           "orientation": "v",
           "showlegend": true,
           "type": "scatter",
           "x": [
            38.3600006103516
           ],
           "xaxis": "x",
           "y": [
            30.1100006103516
           ],
           "yaxis": "y"
          }
         ],
         "name": "121"
        },
        {
         "data": [
          {
           "hovertemplate": "club=CIN<br>frameId=122<br>x=%{x}<br>y=%{y}<extra></extra>",
           "legendgroup": "CIN",
           "marker": {
            "color": "#636efa",
            "symbol": "circle"
           },
           "mode": "markers",
           "name": "CIN",
           "orientation": "v",
           "showlegend": true,
           "type": "scatter",
           "x": [
            40.74,
            44.17,
            38.2,
            38.05,
            46.53,
            34.99,
            42.73,
            39.96,
            37.87,
            44.37,
            37.04
           ],
           "xaxis": "x",
           "y": [
            10.84,
            23.54,
            31.45,
            46.8,
            42.38,
            34.61,
            33.58,
            26.91,
            20.59,
            32.44,
            29.6
           ],
           "yaxis": "y"
          },
          {
           "hovertemplate": "club=PIT<br>frameId=122<br>x=%{x}<br>y=%{y}<extra></extra>",
           "legendgroup": "PIT",
           "marker": {
            "color": "#EF553B",
            "symbol": "circle"
           },
           "mode": "markers",
           "name": "PIT",
           "orientation": "v",
           "showlegend": true,
           "type": "scatter",
           "x": [
            32.94,
            35.65,
            39.01,
            38.95,
            36.9,
            34.71,
            39.35,
            42.59,
            38.54,
            43.02,
            52.31
           ],
           "xaxis": "x",
           "y": [
            39.19,
            32.84,
            25.39,
            26.2,
            47.09,
            11.78,
            30.68,
            11.91,
            30.5,
            31.78,
            43.58
           ],
           "yaxis": "y"
          },
          {
           "hovertemplate": "club=football<br>frameId=122<br>x=%{x}<br>y=%{y}<extra></extra>",
           "legendgroup": "football",
           "marker": {
            "color": "#00cc96",
            "symbol": "circle"
           },
           "mode": "markers",
           "name": "football",
           "orientation": "v",
           "showlegend": true,
           "type": "scatter",
           "x": [
            38.4300003051758
           ],
           "xaxis": "x",
           "y": [
            30.1399993896484
           ],
           "yaxis": "y"
          }
         ],
         "name": "122"
        },
        {
         "data": [
          {
           "hovertemplate": "club=CIN<br>frameId=123<br>x=%{x}<br>y=%{y}<extra></extra>",
           "legendgroup": "CIN",
           "marker": {
            "color": "#636efa",
            "symbol": "circle"
           },
           "mode": "markers",
           "name": "CIN",
           "orientation": "v",
           "showlegend": true,
           "type": "scatter",
           "x": [
            40.64,
            44.06,
            38.21,
            38.02,
            46.48,
            35.18,
            42.43,
            40.25,
            37.96,
            44.56,
            37.11
           ],
           "xaxis": "x",
           "y": [
            10.88,
            23.89,
            31.51,
            46.84,
            42.2,
            34.57,
            33.33,
            27.11,
            20.86,
            32.62,
            29.51
           ],
           "yaxis": "y"
          },
          {
           "hovertemplate": "club=PIT<br>frameId=123<br>x=%{x}<br>y=%{y}<extra></extra>",
           "legendgroup": "PIT",
           "marker": {
            "color": "#EF553B",
            "symbol": "circle"
           },
           "mode": "markers",
           "name": "PIT",
           "orientation": "v",
           "showlegend": true,
           "type": "scatter",
           "x": [
            33.11,
            35.62,
            39.35,
            39.2,
            36.96,
            34.71,
            39.4,
            42.72,
            38.63,
            43.15,
            52.67
           ],
           "xaxis": "x",
           "y": [
            39.2,
            32.89,
            25.39,
            26.21,
            47.16,
            11.74,
            30.78,
            11.89,
            30.46,
            31.96,
            43.83
           ],
           "yaxis": "y"
          },
          {
           "hovertemplate": "club=football<br>frameId=123<br>x=%{x}<br>y=%{y}<extra></extra>",
           "legendgroup": "football",
           "marker": {
            "color": "#00cc96",
            "symbol": "circle"
           },
           "mode": "markers",
           "name": "football",
           "orientation": "v",
           "showlegend": true,
           "type": "scatter",
           "x": [
            38.5
           ],
           "xaxis": "x",
           "y": [
            30.1800003051758
           ],
           "yaxis": "y"
          }
         ],
         "name": "123"
        },
        {
         "data": [
          {
           "hovertemplate": "club=CIN<br>frameId=124<br>x=%{x}<br>y=%{y}<extra></extra>",
           "legendgroup": "CIN",
           "marker": {
            "color": "#636efa",
            "symbol": "circle"
           },
           "mode": "markers",
           "name": "CIN",
           "orientation": "v",
           "showlegend": true,
           "type": "scatter",
           "x": [
            40.51,
            43.95,
            38.23,
            37.98,
            46.43,
            35.35,
            42.16,
            40.48,
            38.06,
            44.71,
            37.16
           ],
           "xaxis": "x",
           "y": [
            10.93,
            24.21,
            31.56,
            46.85,
            42.02,
            34.52,
            33.08,
            27.31,
            21.15,
            32.76,
            29.44
           ],
           "yaxis": "y"
          },
          {
           "hovertemplate": "club=PIT<br>frameId=124<br>x=%{x}<br>y=%{y}<extra></extra>",
           "legendgroup": "PIT",
           "marker": {
            "color": "#EF553B",
            "symbol": "circle"
           },
           "mode": "markers",
           "name": "PIT",
           "orientation": "v",
           "showlegend": true,
           "type": "scatter",
           "x": [
            33.26,
            35.6,
            39.66,
            39.43,
            37.01,
            34.69,
            39.43,
            42.79,
            38.72,
            43.26,
            52.99
           ],
           "xaxis": "x",
           "y": [
            39.18,
            32.94,
            25.4,
            26.21,
            47.2,
            11.72,
            30.87,
            11.89,
            30.41,
            32.11,
            44.07
           ],
           "yaxis": "y"
          },
          {
           "hovertemplate": "club=football<br>frameId=124<br>x=%{x}<br>y=%{y}<extra></extra>",
           "legendgroup": "football",
           "marker": {
            "color": "#00cc96",
            "symbol": "circle"
           },
           "mode": "markers",
           "name": "football",
           "orientation": "v",
           "showlegend": true,
           "type": "scatter",
           "x": [
            38.5400009155273
           ],
           "xaxis": "x",
           "y": [
            30.2199993133545
           ],
           "yaxis": "y"
          }
         ],
         "name": "124"
        }
       ],
       "layout": {
        "legend": {
         "title": {
          "text": "club"
         },
         "tracegroupgap": 0
        },
        "shapes": [
         {
          "line": {
           "color": "Black",
           "width": 1
          },
          "type": "line",
          "x0": 0,
          "x1": 0,
          "y0": 0,
          "y1": 53.3
         },
         {
          "line": {
           "color": "Black",
           "width": 1
          },
          "type": "line",
          "x0": 10,
          "x1": 10,
          "y0": 0,
          "y1": 53.3
         },
         {
          "line": {
           "color": "Black",
           "width": 1
          },
          "type": "line",
          "x0": 20,
          "x1": 20,
          "y0": 0,
          "y1": 53.3
         },
         {
          "line": {
           "color": "Black",
           "width": 1
          },
          "type": "line",
          "x0": 30,
          "x1": 30,
          "y0": 0,
          "y1": 53.3
         },
         {
          "line": {
           "color": "Black",
           "width": 1
          },
          "type": "line",
          "x0": 40,
          "x1": 40,
          "y0": 0,
          "y1": 53.3
         },
         {
          "line": {
           "color": "Black",
           "width": 1
          },
          "type": "line",
          "x0": 50,
          "x1": 50,
          "y0": 0,
          "y1": 53.3
         },
         {
          "line": {
           "color": "Black",
           "width": 1
          },
          "type": "line",
          "x0": 60,
          "x1": 60,
          "y0": 0,
          "y1": 53.3
         },
         {
          "line": {
           "color": "Black",
           "width": 1
          },
          "type": "line",
          "x0": 70,
          "x1": 70,
          "y0": 0,
          "y1": 53.3
         },
         {
          "line": {
           "color": "Black",
           "width": 1
          },
          "type": "line",
          "x0": 80,
          "x1": 80,
          "y0": 0,
          "y1": 53.3
         }
        ],
        "sliders": [
         {
          "active": 0,
          "currentvalue": {
           "prefix": "frameId="
          },
          "len": 0.9,
          "pad": {
           "b": 10,
           "t": 60
          },
          "steps": [
           {
            "args": [
             [
              "1"
             ],
             {
              "frame": {
               "duration": 0,
               "redraw": false
              },
              "fromcurrent": true,
              "mode": "immediate",
              "transition": {
               "duration": 0,
               "easing": "linear"
              }
             }
            ],
            "label": "1",
            "method": "animate"
           },
           {
            "args": [
             [
              "2"
             ],
             {
              "frame": {
               "duration": 0,
               "redraw": false
              },
              "fromcurrent": true,
              "mode": "immediate",
              "transition": {
               "duration": 0,
               "easing": "linear"
              }
             }
            ],
            "label": "2",
            "method": "animate"
           },
           {
            "args": [
             [
              "3"
             ],
             {
              "frame": {
               "duration": 0,
               "redraw": false
              },
              "fromcurrent": true,
              "mode": "immediate",
              "transition": {
               "duration": 0,
               "easing": "linear"
              }
             }
            ],
            "label": "3",
            "method": "animate"
           },
           {
            "args": [
             [
              "4"
             ],
             {
              "frame": {
               "duration": 0,
               "redraw": false
              },
              "fromcurrent": true,
              "mode": "immediate",
              "transition": {
               "duration": 0,
               "easing": "linear"
              }
             }
            ],
            "label": "4",
            "method": "animate"
           },
           {
            "args": [
             [
              "5"
             ],
             {
              "frame": {
               "duration": 0,
               "redraw": false
              },
              "fromcurrent": true,
              "mode": "immediate",
              "transition": {
               "duration": 0,
               "easing": "linear"
              }
             }
            ],
            "label": "5",
            "method": "animate"
           },
           {
            "args": [
             [
              "6"
             ],
             {
              "frame": {
               "duration": 0,
               "redraw": false
              },
              "fromcurrent": true,
              "mode": "immediate",
              "transition": {
               "duration": 0,
               "easing": "linear"
              }
             }
            ],
            "label": "6",
            "method": "animate"
           },
           {
            "args": [
             [
              "7"
             ],
             {
              "frame": {
               "duration": 0,
               "redraw": false
              },
              "fromcurrent": true,
              "mode": "immediate",
              "transition": {
               "duration": 0,
               "easing": "linear"
              }
             }
            ],
            "label": "7",
            "method": "animate"
           },
           {
            "args": [
             [
              "8"
             ],
             {
              "frame": {
               "duration": 0,
               "redraw": false
              },
              "fromcurrent": true,
              "mode": "immediate",
              "transition": {
               "duration": 0,
               "easing": "linear"
              }
             }
            ],
            "label": "8",
            "method": "animate"
           },
           {
            "args": [
             [
              "9"
             ],
             {
              "frame": {
               "duration": 0,
               "redraw": false
              },
              "fromcurrent": true,
              "mode": "immediate",
              "transition": {
               "duration": 0,
               "easing": "linear"
              }
             }
            ],
            "label": "9",
            "method": "animate"
           },
           {
            "args": [
             [
              "10"
             ],
             {
              "frame": {
               "duration": 0,
               "redraw": false
              },
              "fromcurrent": true,
              "mode": "immediate",
              "transition": {
               "duration": 0,
               "easing": "linear"
              }
             }
            ],
            "label": "10",
            "method": "animate"
           },
           {
            "args": [
             [
              "11"
             ],
             {
              "frame": {
               "duration": 0,
               "redraw": false
              },
              "fromcurrent": true,
              "mode": "immediate",
              "transition": {
               "duration": 0,
               "easing": "linear"
              }
             }
            ],
            "label": "11",
            "method": "animate"
           },
           {
            "args": [
             [
              "12"
             ],
             {
              "frame": {
               "duration": 0,
               "redraw": false
              },
              "fromcurrent": true,
              "mode": "immediate",
              "transition": {
               "duration": 0,
               "easing": "linear"
              }
             }
            ],
            "label": "12",
            "method": "animate"
           },
           {
            "args": [
             [
              "13"
             ],
             {
              "frame": {
               "duration": 0,
               "redraw": false
              },
              "fromcurrent": true,
              "mode": "immediate",
              "transition": {
               "duration": 0,
               "easing": "linear"
              }
             }
            ],
            "label": "13",
            "method": "animate"
           },
           {
            "args": [
             [
              "14"
             ],
             {
              "frame": {
               "duration": 0,
               "redraw": false
              },
              "fromcurrent": true,
              "mode": "immediate",
              "transition": {
               "duration": 0,
               "easing": "linear"
              }
             }
            ],
            "label": "14",
            "method": "animate"
           },
           {
            "args": [
             [
              "15"
             ],
             {
              "frame": {
               "duration": 0,
               "redraw": false
              },
              "fromcurrent": true,
              "mode": "immediate",
              "transition": {
               "duration": 0,
               "easing": "linear"
              }
             }
            ],
            "label": "15",
            "method": "animate"
           },
           {
            "args": [
             [
              "16"
             ],
             {
              "frame": {
               "duration": 0,
               "redraw": false
              },
              "fromcurrent": true,
              "mode": "immediate",
              "transition": {
               "duration": 0,
               "easing": "linear"
              }
             }
            ],
            "label": "16",
            "method": "animate"
           },
           {
            "args": [
             [
              "17"
             ],
             {
              "frame": {
               "duration": 0,
               "redraw": false
              },
              "fromcurrent": true,
              "mode": "immediate",
              "transition": {
               "duration": 0,
               "easing": "linear"
              }
             }
            ],
            "label": "17",
            "method": "animate"
           },
           {
            "args": [
             [
              "18"
             ],
             {
              "frame": {
               "duration": 0,
               "redraw": false
              },
              "fromcurrent": true,
              "mode": "immediate",
              "transition": {
               "duration": 0,
               "easing": "linear"
              }
             }
            ],
            "label": "18",
            "method": "animate"
           },
           {
            "args": [
             [
              "19"
             ],
             {
              "frame": {
               "duration": 0,
               "redraw": false
              },
              "fromcurrent": true,
              "mode": "immediate",
              "transition": {
               "duration": 0,
               "easing": "linear"
              }
             }
            ],
            "label": "19",
            "method": "animate"
           },
           {
            "args": [
             [
              "20"
             ],
             {
              "frame": {
               "duration": 0,
               "redraw": false
              },
              "fromcurrent": true,
              "mode": "immediate",
              "transition": {
               "duration": 0,
               "easing": "linear"
              }
             }
            ],
            "label": "20",
            "method": "animate"
           },
           {
            "args": [
             [
              "21"
             ],
             {
              "frame": {
               "duration": 0,
               "redraw": false
              },
              "fromcurrent": true,
              "mode": "immediate",
              "transition": {
               "duration": 0,
               "easing": "linear"
              }
             }
            ],
            "label": "21",
            "method": "animate"
           },
           {
            "args": [
             [
              "22"
             ],
             {
              "frame": {
               "duration": 0,
               "redraw": false
              },
              "fromcurrent": true,
              "mode": "immediate",
              "transition": {
               "duration": 0,
               "easing": "linear"
              }
             }
            ],
            "label": "22",
            "method": "animate"
           },
           {
            "args": [
             [
              "23"
             ],
             {
              "frame": {
               "duration": 0,
               "redraw": false
              },
              "fromcurrent": true,
              "mode": "immediate",
              "transition": {
               "duration": 0,
               "easing": "linear"
              }
             }
            ],
            "label": "23",
            "method": "animate"
           },
           {
            "args": [
             [
              "24"
             ],
             {
              "frame": {
               "duration": 0,
               "redraw": false
              },
              "fromcurrent": true,
              "mode": "immediate",
              "transition": {
               "duration": 0,
               "easing": "linear"
              }
             }
            ],
            "label": "24",
            "method": "animate"
           },
           {
            "args": [
             [
              "25"
             ],
             {
              "frame": {
               "duration": 0,
               "redraw": false
              },
              "fromcurrent": true,
              "mode": "immediate",
              "transition": {
               "duration": 0,
               "easing": "linear"
              }
             }
            ],
            "label": "25",
            "method": "animate"
           },
           {
            "args": [
             [
              "26"
             ],
             {
              "frame": {
               "duration": 0,
               "redraw": false
              },
              "fromcurrent": true,
              "mode": "immediate",
              "transition": {
               "duration": 0,
               "easing": "linear"
              }
             }
            ],
            "label": "26",
            "method": "animate"
           },
           {
            "args": [
             [
              "27"
             ],
             {
              "frame": {
               "duration": 0,
               "redraw": false
              },
              "fromcurrent": true,
              "mode": "immediate",
              "transition": {
               "duration": 0,
               "easing": "linear"
              }
             }
            ],
            "label": "27",
            "method": "animate"
           },
           {
            "args": [
             [
              "28"
             ],
             {
              "frame": {
               "duration": 0,
               "redraw": false
              },
              "fromcurrent": true,
              "mode": "immediate",
              "transition": {
               "duration": 0,
               "easing": "linear"
              }
             }
            ],
            "label": "28",
            "method": "animate"
           },
           {
            "args": [
             [
              "29"
             ],
             {
              "frame": {
               "duration": 0,
               "redraw": false
              },
              "fromcurrent": true,
              "mode": "immediate",
              "transition": {
               "duration": 0,
               "easing": "linear"
              }
             }
            ],
            "label": "29",
            "method": "animate"
           },
           {
            "args": [
             [
              "30"
             ],
             {
              "frame": {
               "duration": 0,
               "redraw": false
              },
              "fromcurrent": true,
              "mode": "immediate",
              "transition": {
               "duration": 0,
               "easing": "linear"
              }
             }
            ],
            "label": "30",
            "method": "animate"
           },
           {
            "args": [
             [
              "31"
             ],
             {
              "frame": {
               "duration": 0,
               "redraw": false
              },
              "fromcurrent": true,
              "mode": "immediate",
              "transition": {
               "duration": 0,
               "easing": "linear"
              }
             }
            ],
            "label": "31",
            "method": "animate"
           },
           {
            "args": [
             [
              "32"
             ],
             {
              "frame": {
               "duration": 0,
               "redraw": false
              },
              "fromcurrent": true,
              "mode": "immediate",
              "transition": {
               "duration": 0,
               "easing": "linear"
              }
             }
            ],
            "label": "32",
            "method": "animate"
           },
           {
            "args": [
             [
              "33"
             ],
             {
              "frame": {
               "duration": 0,
               "redraw": false
              },
              "fromcurrent": true,
              "mode": "immediate",
              "transition": {
               "duration": 0,
               "easing": "linear"
              }
             }
            ],
            "label": "33",
            "method": "animate"
           },
           {
            "args": [
             [
              "34"
             ],
             {
              "frame": {
               "duration": 0,
               "redraw": false
              },
              "fromcurrent": true,
              "mode": "immediate",
              "transition": {
               "duration": 0,
               "easing": "linear"
              }
             }
            ],
            "label": "34",
            "method": "animate"
           },
           {
            "args": [
             [
              "35"
             ],
             {
              "frame": {
               "duration": 0,
               "redraw": false
              },
              "fromcurrent": true,
              "mode": "immediate",
              "transition": {
               "duration": 0,
               "easing": "linear"
              }
             }
            ],
            "label": "35",
            "method": "animate"
           },
           {
            "args": [
             [
              "36"
             ],
             {
              "frame": {
               "duration": 0,
               "redraw": false
              },
              "fromcurrent": true,
              "mode": "immediate",
              "transition": {
               "duration": 0,
               "easing": "linear"
              }
             }
            ],
            "label": "36",
            "method": "animate"
           },
           {
            "args": [
             [
              "37"
             ],
             {
              "frame": {
               "duration": 0,
               "redraw": false
              },
              "fromcurrent": true,
              "mode": "immediate",
              "transition": {
               "duration": 0,
               "easing": "linear"
              }
             }
            ],
            "label": "37",
            "method": "animate"
           },
           {
            "args": [
             [
              "38"
             ],
             {
              "frame": {
               "duration": 0,
               "redraw": false
              },
              "fromcurrent": true,
              "mode": "immediate",
              "transition": {
               "duration": 0,
               "easing": "linear"
              }
             }
            ],
            "label": "38",
            "method": "animate"
           },
           {
            "args": [
             [
              "39"
             ],
             {
              "frame": {
               "duration": 0,
               "redraw": false
              },
              "fromcurrent": true,
              "mode": "immediate",
              "transition": {
               "duration": 0,
               "easing": "linear"
              }
             }
            ],
            "label": "39",
            "method": "animate"
           },
           {
            "args": [
             [
              "40"
             ],
             {
              "frame": {
               "duration": 0,
               "redraw": false
              },
              "fromcurrent": true,
              "mode": "immediate",
              "transition": {
               "duration": 0,
               "easing": "linear"
              }
             }
            ],
            "label": "40",
            "method": "animate"
           },
           {
            "args": [
             [
              "41"
             ],
             {
              "frame": {
               "duration": 0,
               "redraw": false
              },
              "fromcurrent": true,
              "mode": "immediate",
              "transition": {
               "duration": 0,
               "easing": "linear"
              }
             }
            ],
            "label": "41",
            "method": "animate"
           },
           {
            "args": [
             [
              "42"
             ],
             {
              "frame": {
               "duration": 0,
               "redraw": false
              },
              "fromcurrent": true,
              "mode": "immediate",
              "transition": {
               "duration": 0,
               "easing": "linear"
              }
             }
            ],
            "label": "42",
            "method": "animate"
           },
           {
            "args": [
             [
              "43"
             ],
             {
              "frame": {
               "duration": 0,
               "redraw": false
              },
              "fromcurrent": true,
              "mode": "immediate",
              "transition": {
               "duration": 0,
               "easing": "linear"
              }
             }
            ],
            "label": "43",
            "method": "animate"
           },
           {
            "args": [
             [
              "44"
             ],
             {
              "frame": {
               "duration": 0,
               "redraw": false
              },
              "fromcurrent": true,
              "mode": "immediate",
              "transition": {
               "duration": 0,
               "easing": "linear"
              }
             }
            ],
            "label": "44",
            "method": "animate"
           },
           {
            "args": [
             [
              "45"
             ],
             {
              "frame": {
               "duration": 0,
               "redraw": false
              },
              "fromcurrent": true,
              "mode": "immediate",
              "transition": {
               "duration": 0,
               "easing": "linear"
              }
             }
            ],
            "label": "45",
            "method": "animate"
           },
           {
            "args": [
             [
              "46"
             ],
             {
              "frame": {
               "duration": 0,
               "redraw": false
              },
              "fromcurrent": true,
              "mode": "immediate",
              "transition": {
               "duration": 0,
               "easing": "linear"
              }
             }
            ],
            "label": "46",
            "method": "animate"
           },
           {
            "args": [
             [
              "47"
             ],
             {
              "frame": {
               "duration": 0,
               "redraw": false
              },
              "fromcurrent": true,
              "mode": "immediate",
              "transition": {
               "duration": 0,
               "easing": "linear"
              }
             }
            ],
            "label": "47",
            "method": "animate"
           },
           {
            "args": [
             [
              "48"
             ],
             {
              "frame": {
               "duration": 0,
               "redraw": false
              },
              "fromcurrent": true,
              "mode": "immediate",
              "transition": {
               "duration": 0,
               "easing": "linear"
              }
             }
            ],
            "label": "48",
            "method": "animate"
           },
           {
            "args": [
             [
              "49"
             ],
             {
              "frame": {
               "duration": 0,
               "redraw": false
              },
              "fromcurrent": true,
              "mode": "immediate",
              "transition": {
               "duration": 0,
               "easing": "linear"
              }
             }
            ],
            "label": "49",
            "method": "animate"
           },
           {
            "args": [
             [
              "50"
             ],
             {
              "frame": {
               "duration": 0,
               "redraw": false
              },
              "fromcurrent": true,
              "mode": "immediate",
              "transition": {
               "duration": 0,
               "easing": "linear"
              }
             }
            ],
            "label": "50",
            "method": "animate"
           },
           {
            "args": [
             [
              "51"
             ],
             {
              "frame": {
               "duration": 0,
               "redraw": false
              },
              "fromcurrent": true,
              "mode": "immediate",
              "transition": {
               "duration": 0,
               "easing": "linear"
              }
             }
            ],
            "label": "51",
            "method": "animate"
           },
           {
            "args": [
             [
              "52"
             ],
             {
              "frame": {
               "duration": 0,
               "redraw": false
              },
              "fromcurrent": true,
              "mode": "immediate",
              "transition": {
               "duration": 0,
               "easing": "linear"
              }
             }
            ],
            "label": "52",
            "method": "animate"
           },
           {
            "args": [
             [
              "53"
             ],
             {
              "frame": {
               "duration": 0,
               "redraw": false
              },
              "fromcurrent": true,
              "mode": "immediate",
              "transition": {
               "duration": 0,
               "easing": "linear"
              }
             }
            ],
            "label": "53",
            "method": "animate"
           },
           {
            "args": [
             [
              "54"
             ],
             {
              "frame": {
               "duration": 0,
               "redraw": false
              },
              "fromcurrent": true,
              "mode": "immediate",
              "transition": {
               "duration": 0,
               "easing": "linear"
              }
             }
            ],
            "label": "54",
            "method": "animate"
           },
           {
            "args": [
             [
              "55"
             ],
             {
              "frame": {
               "duration": 0,
               "redraw": false
              },
              "fromcurrent": true,
              "mode": "immediate",
              "transition": {
               "duration": 0,
               "easing": "linear"
              }
             }
            ],
            "label": "55",
            "method": "animate"
           },
           {
            "args": [
             [
              "56"
             ],
             {
              "frame": {
               "duration": 0,
               "redraw": false
              },
              "fromcurrent": true,
              "mode": "immediate",
              "transition": {
               "duration": 0,
               "easing": "linear"
              }
             }
            ],
            "label": "56",
            "method": "animate"
           },
           {
            "args": [
             [
              "57"
             ],
             {
              "frame": {
               "duration": 0,
               "redraw": false
              },
              "fromcurrent": true,
              "mode": "immediate",
              "transition": {
               "duration": 0,
               "easing": "linear"
              }
             }
            ],
            "label": "57",
            "method": "animate"
           },
           {
            "args": [
             [
              "58"
             ],
             {
              "frame": {
               "duration": 0,
               "redraw": false
              },
              "fromcurrent": true,
              "mode": "immediate",
              "transition": {
               "duration": 0,
               "easing": "linear"
              }
             }
            ],
            "label": "58",
            "method": "animate"
           },
           {
            "args": [
             [
              "59"
             ],
             {
              "frame": {
               "duration": 0,
               "redraw": false
              },
              "fromcurrent": true,
              "mode": "immediate",
              "transition": {
               "duration": 0,
               "easing": "linear"
              }
             }
            ],
            "label": "59",
            "method": "animate"
           },
           {
            "args": [
             [
              "60"
             ],
             {
              "frame": {
               "duration": 0,
               "redraw": false
              },
              "fromcurrent": true,
              "mode": "immediate",
              "transition": {
               "duration": 0,
               "easing": "linear"
              }
             }
            ],
            "label": "60",
            "method": "animate"
           },
           {
            "args": [
             [
              "61"
             ],
             {
              "frame": {
               "duration": 0,
               "redraw": false
              },
              "fromcurrent": true,
              "mode": "immediate",
              "transition": {
               "duration": 0,
               "easing": "linear"
              }
             }
            ],
            "label": "61",
            "method": "animate"
           },
           {
            "args": [
             [
              "62"
             ],
             {
              "frame": {
               "duration": 0,
               "redraw": false
              },
              "fromcurrent": true,
              "mode": "immediate",
              "transition": {
               "duration": 0,
               "easing": "linear"
              }
             }
            ],
            "label": "62",
            "method": "animate"
           },
           {
            "args": [
             [
              "63"
             ],
             {
              "frame": {
               "duration": 0,
               "redraw": false
              },
              "fromcurrent": true,
              "mode": "immediate",
              "transition": {
               "duration": 0,
               "easing": "linear"
              }
             }
            ],
            "label": "63",
            "method": "animate"
           },
           {
            "args": [
             [
              "64"
             ],
             {
              "frame": {
               "duration": 0,
               "redraw": false
              },
              "fromcurrent": true,
              "mode": "immediate",
              "transition": {
               "duration": 0,
               "easing": "linear"
              }
             }
            ],
            "label": "64",
            "method": "animate"
           },
           {
            "args": [
             [
              "65"
             ],
             {
              "frame": {
               "duration": 0,
               "redraw": false
              },
              "fromcurrent": true,
              "mode": "immediate",
              "transition": {
               "duration": 0,
               "easing": "linear"
              }
             }
            ],
            "label": "65",
            "method": "animate"
           },
           {
            "args": [
             [
              "66"
             ],
             {
              "frame": {
               "duration": 0,
               "redraw": false
              },
              "fromcurrent": true,
              "mode": "immediate",
              "transition": {
               "duration": 0,
               "easing": "linear"
              }
             }
            ],
            "label": "66",
            "method": "animate"
           },
           {
            "args": [
             [
              "67"
             ],
             {
              "frame": {
               "duration": 0,
               "redraw": false
              },
              "fromcurrent": true,
              "mode": "immediate",
              "transition": {
               "duration": 0,
               "easing": "linear"
              }
             }
            ],
            "label": "67",
            "method": "animate"
           },
           {
            "args": [
             [
              "68"
             ],
             {
              "frame": {
               "duration": 0,
               "redraw": false
              },
              "fromcurrent": true,
              "mode": "immediate",
              "transition": {
               "duration": 0,
               "easing": "linear"
              }
             }
            ],
            "label": "68",
            "method": "animate"
           },
           {
            "args": [
             [
              "69"
             ],
             {
              "frame": {
               "duration": 0,
               "redraw": false
              },
              "fromcurrent": true,
              "mode": "immediate",
              "transition": {
               "duration": 0,
               "easing": "linear"
              }
             }
            ],
            "label": "69",
            "method": "animate"
           },
           {
            "args": [
             [
              "70"
             ],
             {
              "frame": {
               "duration": 0,
               "redraw": false
              },
              "fromcurrent": true,
              "mode": "immediate",
              "transition": {
               "duration": 0,
               "easing": "linear"
              }
             }
            ],
            "label": "70",
            "method": "animate"
           },
           {
            "args": [
             [
              "71"
             ],
             {
              "frame": {
               "duration": 0,
               "redraw": false
              },
              "fromcurrent": true,
              "mode": "immediate",
              "transition": {
               "duration": 0,
               "easing": "linear"
              }
             }
            ],
            "label": "71",
            "method": "animate"
           },
           {
            "args": [
             [
              "72"
             ],
             {
              "frame": {
               "duration": 0,
               "redraw": false
              },
              "fromcurrent": true,
              "mode": "immediate",
              "transition": {
               "duration": 0,
               "easing": "linear"
              }
             }
            ],
            "label": "72",
            "method": "animate"
           },
           {
            "args": [
             [
              "73"
             ],
             {
              "frame": {
               "duration": 0,
               "redraw": false
              },
              "fromcurrent": true,
              "mode": "immediate",
              "transition": {
               "duration": 0,
               "easing": "linear"
              }
             }
            ],
            "label": "73",
            "method": "animate"
           },
           {
            "args": [
             [
              "74"
             ],
             {
              "frame": {
               "duration": 0,
               "redraw": false
              },
              "fromcurrent": true,
              "mode": "immediate",
              "transition": {
               "duration": 0,
               "easing": "linear"
              }
             }
            ],
            "label": "74",
            "method": "animate"
           },
           {
            "args": [
             [
              "75"
             ],
             {
              "frame": {
               "duration": 0,
               "redraw": false
              },
              "fromcurrent": true,
              "mode": "immediate",
              "transition": {
               "duration": 0,
               "easing": "linear"
              }
             }
            ],
            "label": "75",
            "method": "animate"
           },
           {
            "args": [
             [
              "76"
             ],
             {
              "frame": {
               "duration": 0,
               "redraw": false
              },
              "fromcurrent": true,
              "mode": "immediate",
              "transition": {
               "duration": 0,
               "easing": "linear"
              }
             }
            ],
            "label": "76",
            "method": "animate"
           },
           {
            "args": [
             [
              "77"
             ],
             {
              "frame": {
               "duration": 0,
               "redraw": false
              },
              "fromcurrent": true,
              "mode": "immediate",
              "transition": {
               "duration": 0,
               "easing": "linear"
              }
             }
            ],
            "label": "77",
            "method": "animate"
           },
           {
            "args": [
             [
              "78"
             ],
             {
              "frame": {
               "duration": 0,
               "redraw": false
              },
              "fromcurrent": true,
              "mode": "immediate",
              "transition": {
               "duration": 0,
               "easing": "linear"
              }
             }
            ],
            "label": "78",
            "method": "animate"
           },
           {
            "args": [
             [
              "79"
             ],
             {
              "frame": {
               "duration": 0,
               "redraw": false
              },
              "fromcurrent": true,
              "mode": "immediate",
              "transition": {
               "duration": 0,
               "easing": "linear"
              }
             }
            ],
            "label": "79",
            "method": "animate"
           },
           {
            "args": [
             [
              "80"
             ],
             {
              "frame": {
               "duration": 0,
               "redraw": false
              },
              "fromcurrent": true,
              "mode": "immediate",
              "transition": {
               "duration": 0,
               "easing": "linear"
              }
             }
            ],
            "label": "80",
            "method": "animate"
           },
           {
            "args": [
             [
              "81"
             ],
             {
              "frame": {
               "duration": 0,
               "redraw": false
              },
              "fromcurrent": true,
              "mode": "immediate",
              "transition": {
               "duration": 0,
               "easing": "linear"
              }
             }
            ],
            "label": "81",
            "method": "animate"
           },
           {
            "args": [
             [
              "82"
             ],
             {
              "frame": {
               "duration": 0,
               "redraw": false
              },
              "fromcurrent": true,
              "mode": "immediate",
              "transition": {
               "duration": 0,
               "easing": "linear"
              }
             }
            ],
            "label": "82",
            "method": "animate"
           },
           {
            "args": [
             [
              "83"
             ],
             {
              "frame": {
               "duration": 0,
               "redraw": false
              },
              "fromcurrent": true,
              "mode": "immediate",
              "transition": {
               "duration": 0,
               "easing": "linear"
              }
             }
            ],
            "label": "83",
            "method": "animate"
           },
           {
            "args": [
             [
              "84"
             ],
             {
              "frame": {
               "duration": 0,
               "redraw": false
              },
              "fromcurrent": true,
              "mode": "immediate",
              "transition": {
               "duration": 0,
               "easing": "linear"
              }
             }
            ],
            "label": "84",
            "method": "animate"
           },
           {
            "args": [
             [
              "85"
             ],
             {
              "frame": {
               "duration": 0,
               "redraw": false
              },
              "fromcurrent": true,
              "mode": "immediate",
              "transition": {
               "duration": 0,
               "easing": "linear"
              }
             }
            ],
            "label": "85",
            "method": "animate"
           },
           {
            "args": [
             [
              "86"
             ],
             {
              "frame": {
               "duration": 0,
               "redraw": false
              },
              "fromcurrent": true,
              "mode": "immediate",
              "transition": {
               "duration": 0,
               "easing": "linear"
              }
             }
            ],
            "label": "86",
            "method": "animate"
           },
           {
            "args": [
             [
              "87"
             ],
             {
              "frame": {
               "duration": 0,
               "redraw": false
              },
              "fromcurrent": true,
              "mode": "immediate",
              "transition": {
               "duration": 0,
               "easing": "linear"
              }
             }
            ],
            "label": "87",
            "method": "animate"
           },
           {
            "args": [
             [
              "88"
             ],
             {
              "frame": {
               "duration": 0,
               "redraw": false
              },
              "fromcurrent": true,
              "mode": "immediate",
              "transition": {
               "duration": 0,
               "easing": "linear"
              }
             }
            ],
            "label": "88",
            "method": "animate"
           },
           {
            "args": [
             [
              "89"
             ],
             {
              "frame": {
               "duration": 0,
               "redraw": false
              },
              "fromcurrent": true,
              "mode": "immediate",
              "transition": {
               "duration": 0,
               "easing": "linear"
              }
             }
            ],
            "label": "89",
            "method": "animate"
           },
           {
            "args": [
             [
              "90"
             ],
             {
              "frame": {
               "duration": 0,
               "redraw": false
              },
              "fromcurrent": true,
              "mode": "immediate",
              "transition": {
               "duration": 0,
               "easing": "linear"
              }
             }
            ],
            "label": "90",
            "method": "animate"
           },
           {
            "args": [
             [
              "91"
             ],
             {
              "frame": {
               "duration": 0,
               "redraw": false
              },
              "fromcurrent": true,
              "mode": "immediate",
              "transition": {
               "duration": 0,
               "easing": "linear"
              }
             }
            ],
            "label": "91",
            "method": "animate"
           },
           {
            "args": [
             [
              "92"
             ],
             {
              "frame": {
               "duration": 0,
               "redraw": false
              },
              "fromcurrent": true,
              "mode": "immediate",
              "transition": {
               "duration": 0,
               "easing": "linear"
              }
             }
            ],
            "label": "92",
            "method": "animate"
           },
           {
            "args": [
             [
              "93"
             ],
             {
              "frame": {
               "duration": 0,
               "redraw": false
              },
              "fromcurrent": true,
              "mode": "immediate",
              "transition": {
               "duration": 0,
               "easing": "linear"
              }
             }
            ],
            "label": "93",
            "method": "animate"
           },
           {
            "args": [
             [
              "94"
             ],
             {
              "frame": {
               "duration": 0,
               "redraw": false
              },
              "fromcurrent": true,
              "mode": "immediate",
              "transition": {
               "duration": 0,
               "easing": "linear"
              }
             }
            ],
            "label": "94",
            "method": "animate"
           },
           {
            "args": [
             [
              "95"
             ],
             {
              "frame": {
               "duration": 0,
               "redraw": false
              },
              "fromcurrent": true,
              "mode": "immediate",
              "transition": {
               "duration": 0,
               "easing": "linear"
              }
             }
            ],
            "label": "95",
            "method": "animate"
           },
           {
            "args": [
             [
              "96"
             ],
             {
              "frame": {
               "duration": 0,
               "redraw": false
              },
              "fromcurrent": true,
              "mode": "immediate",
              "transition": {
               "duration": 0,
               "easing": "linear"
              }
             }
            ],
            "label": "96",
            "method": "animate"
           },
           {
            "args": [
             [
              "97"
             ],
             {
              "frame": {
               "duration": 0,
               "redraw": false
              },
              "fromcurrent": true,
              "mode": "immediate",
              "transition": {
               "duration": 0,
               "easing": "linear"
              }
             }
            ],
            "label": "97",
            "method": "animate"
           },
           {
            "args": [
             [
              "98"
             ],
             {
              "frame": {
               "duration": 0,
               "redraw": false
              },
              "fromcurrent": true,
              "mode": "immediate",
              "transition": {
               "duration": 0,
               "easing": "linear"
              }
             }
            ],
            "label": "98",
            "method": "animate"
           },
           {
            "args": [
             [
              "99"
             ],
             {
              "frame": {
               "duration": 0,
               "redraw": false
              },
              "fromcurrent": true,
              "mode": "immediate",
              "transition": {
               "duration": 0,
               "easing": "linear"
              }
             }
            ],
            "label": "99",
            "method": "animate"
           },
           {
            "args": [
             [
              "100"
             ],
             {
              "frame": {
               "duration": 0,
               "redraw": false
              },
              "fromcurrent": true,
              "mode": "immediate",
              "transition": {
               "duration": 0,
               "easing": "linear"
              }
             }
            ],
            "label": "100",
            "method": "animate"
           },
           {
            "args": [
             [
              "101"
             ],
             {
              "frame": {
               "duration": 0,
               "redraw": false
              },
              "fromcurrent": true,
              "mode": "immediate",
              "transition": {
               "duration": 0,
               "easing": "linear"
              }
             }
            ],
            "label": "101",
            "method": "animate"
           },
           {
            "args": [
             [
              "102"
             ],
             {
              "frame": {
               "duration": 0,
               "redraw": false
              },
              "fromcurrent": true,
              "mode": "immediate",
              "transition": {
               "duration": 0,
               "easing": "linear"
              }
             }
            ],
            "label": "102",
            "method": "animate"
           },
           {
            "args": [
             [
              "103"
             ],
             {
              "frame": {
               "duration": 0,
               "redraw": false
              },
              "fromcurrent": true,
              "mode": "immediate",
              "transition": {
               "duration": 0,
               "easing": "linear"
              }
             }
            ],
            "label": "103",
            "method": "animate"
           },
           {
            "args": [
             [
              "104"
             ],
             {
              "frame": {
               "duration": 0,
               "redraw": false
              },
              "fromcurrent": true,
              "mode": "immediate",
              "transition": {
               "duration": 0,
               "easing": "linear"
              }
             }
            ],
            "label": "104",
            "method": "animate"
           },
           {
            "args": [
             [
              "105"
             ],
             {
              "frame": {
               "duration": 0,
               "redraw": false
              },
              "fromcurrent": true,
              "mode": "immediate",
              "transition": {
               "duration": 0,
               "easing": "linear"
              }
             }
            ],
            "label": "105",
            "method": "animate"
           },
           {
            "args": [
             [
              "106"
             ],
             {
              "frame": {
               "duration": 0,
               "redraw": false
              },
              "fromcurrent": true,
              "mode": "immediate",
              "transition": {
               "duration": 0,
               "easing": "linear"
              }
             }
            ],
            "label": "106",
            "method": "animate"
           },
           {
            "args": [
             [
              "107"
             ],
             {
              "frame": {
               "duration": 0,
               "redraw": false
              },
              "fromcurrent": true,
              "mode": "immediate",
              "transition": {
               "duration": 0,
               "easing": "linear"
              }
             }
            ],
            "label": "107",
            "method": "animate"
           },
           {
            "args": [
             [
              "108"
             ],
             {
              "frame": {
               "duration": 0,
               "redraw": false
              },
              "fromcurrent": true,
              "mode": "immediate",
              "transition": {
               "duration": 0,
               "easing": "linear"
              }
             }
            ],
            "label": "108",
            "method": "animate"
           },
           {
            "args": [
             [
              "109"
             ],
             {
              "frame": {
               "duration": 0,
               "redraw": false
              },
              "fromcurrent": true,
              "mode": "immediate",
              "transition": {
               "duration": 0,
               "easing": "linear"
              }
             }
            ],
            "label": "109",
            "method": "animate"
           },
           {
            "args": [
             [
              "110"
             ],
             {
              "frame": {
               "duration": 0,
               "redraw": false
              },
              "fromcurrent": true,
              "mode": "immediate",
              "transition": {
               "duration": 0,
               "easing": "linear"
              }
             }
            ],
            "label": "110",
            "method": "animate"
           },
           {
            "args": [
             [
              "111"
             ],
             {
              "frame": {
               "duration": 0,
               "redraw": false
              },
              "fromcurrent": true,
              "mode": "immediate",
              "transition": {
               "duration": 0,
               "easing": "linear"
              }
             }
            ],
            "label": "111",
            "method": "animate"
           },
           {
            "args": [
             [
              "112"
             ],
             {
              "frame": {
               "duration": 0,
               "redraw": false
              },
              "fromcurrent": true,
              "mode": "immediate",
              "transition": {
               "duration": 0,
               "easing": "linear"
              }
             }
            ],
            "label": "112",
            "method": "animate"
           },
           {
            "args": [
             [
              "113"
             ],
             {
              "frame": {
               "duration": 0,
               "redraw": false
              },
              "fromcurrent": true,
              "mode": "immediate",
              "transition": {
               "duration": 0,
               "easing": "linear"
              }
             }
            ],
            "label": "113",
            "method": "animate"
           },
           {
            "args": [
             [
              "114"
             ],
             {
              "frame": {
               "duration": 0,
               "redraw": false
              },
              "fromcurrent": true,
              "mode": "immediate",
              "transition": {
               "duration": 0,
               "easing": "linear"
              }
             }
            ],
            "label": "114",
            "method": "animate"
           },
           {
            "args": [
             [
              "115"
             ],
             {
              "frame": {
               "duration": 0,
               "redraw": false
              },
              "fromcurrent": true,
              "mode": "immediate",
              "transition": {
               "duration": 0,
               "easing": "linear"
              }
             }
            ],
            "label": "115",
            "method": "animate"
           },
           {
            "args": [
             [
              "116"
             ],
             {
              "frame": {
               "duration": 0,
               "redraw": false
              },
              "fromcurrent": true,
              "mode": "immediate",
              "transition": {
               "duration": 0,
               "easing": "linear"
              }
             }
            ],
            "label": "116",
            "method": "animate"
           },
           {
            "args": [
             [
              "117"
             ],
             {
              "frame": {
               "duration": 0,
               "redraw": false
              },
              "fromcurrent": true,
              "mode": "immediate",
              "transition": {
               "duration": 0,
               "easing": "linear"
              }
             }
            ],
            "label": "117",
            "method": "animate"
           },
           {
            "args": [
             [
              "118"
             ],
             {
              "frame": {
               "duration": 0,
               "redraw": false
              },
              "fromcurrent": true,
              "mode": "immediate",
              "transition": {
               "duration": 0,
               "easing": "linear"
              }
             }
            ],
            "label": "118",
            "method": "animate"
           },
           {
            "args": [
             [
              "119"
             ],
             {
              "frame": {
               "duration": 0,
               "redraw": false
              },
              "fromcurrent": true,
              "mode": "immediate",
              "transition": {
               "duration": 0,
               "easing": "linear"
              }
             }
            ],
            "label": "119",
            "method": "animate"
           },
           {
            "args": [
             [
              "120"
             ],
             {
              "frame": {
               "duration": 0,
               "redraw": false
              },
              "fromcurrent": true,
              "mode": "immediate",
              "transition": {
               "duration": 0,
               "easing": "linear"
              }
             }
            ],
            "label": "120",
            "method": "animate"
           },
           {
            "args": [
             [
              "121"
             ],
             {
              "frame": {
               "duration": 0,
               "redraw": false
              },
              "fromcurrent": true,
              "mode": "immediate",
              "transition": {
               "duration": 0,
               "easing": "linear"
              }
             }
            ],
            "label": "121",
            "method": "animate"
           },
           {
            "args": [
             [
              "122"
             ],
             {
              "frame": {
               "duration": 0,
               "redraw": false
              },
              "fromcurrent": true,
              "mode": "immediate",
              "transition": {
               "duration": 0,
               "easing": "linear"
              }
             }
            ],
            "label": "122",
            "method": "animate"
           },
           {
            "args": [
             [
              "123"
             ],
             {
              "frame": {
               "duration": 0,
               "redraw": false
              },
              "fromcurrent": true,
              "mode": "immediate",
              "transition": {
               "duration": 0,
               "easing": "linear"
              }
             }
            ],
            "label": "123",
            "method": "animate"
           },
           {
            "args": [
             [
              "124"
             ],
             {
              "frame": {
               "duration": 0,
               "redraw": false
              },
              "fromcurrent": true,
              "mode": "immediate",
              "transition": {
               "duration": 0,
               "easing": "linear"
              }
             }
            ],
            "label": "124",
            "method": "animate"
           }
          ],
          "x": 0.1,
          "xanchor": "left",
          "y": 0,
          "yanchor": "top"
         }
        ],
        "template": {
         "data": {
          "bar": [
           {
            "error_x": {
             "color": "#2a3f5f"
            },
            "error_y": {
             "color": "#2a3f5f"
            },
            "marker": {
             "line": {
              "color": "#E5ECF6",
              "width": 0.5
             },
             "pattern": {
              "fillmode": "overlay",
              "size": 10,
              "solidity": 0.2
             }
            },
            "type": "bar"
           }
          ],
          "barpolar": [
           {
            "marker": {
             "line": {
              "color": "#E5ECF6",
              "width": 0.5
             },
             "pattern": {
              "fillmode": "overlay",
              "size": 10,
              "solidity": 0.2
             }
            },
            "type": "barpolar"
           }
          ],
          "carpet": [
           {
            "aaxis": {
             "endlinecolor": "#2a3f5f",
             "gridcolor": "white",
             "linecolor": "white",
             "minorgridcolor": "white",
             "startlinecolor": "#2a3f5f"
            },
            "baxis": {
             "endlinecolor": "#2a3f5f",
             "gridcolor": "white",
             "linecolor": "white",
             "minorgridcolor": "white",
             "startlinecolor": "#2a3f5f"
            },
            "type": "carpet"
           }
          ],
          "choropleth": [
           {
            "colorbar": {
             "outlinewidth": 0,
             "ticks": ""
            },
            "type": "choropleth"
           }
          ],
          "contour": [
           {
            "colorbar": {
             "outlinewidth": 0,
             "ticks": ""
            },
            "colorscale": [
             [
              0,
              "#0d0887"
             ],
             [
              0.1111111111111111,
              "#46039f"
             ],
             [
              0.2222222222222222,
              "#7201a8"
             ],
             [
              0.3333333333333333,
              "#9c179e"
             ],
             [
              0.4444444444444444,
              "#bd3786"
             ],
             [
              0.5555555555555556,
              "#d8576b"
             ],
             [
              0.6666666666666666,
              "#ed7953"
             ],
             [
              0.7777777777777778,
              "#fb9f3a"
             ],
             [
              0.8888888888888888,
              "#fdca26"
             ],
             [
              1,
              "#f0f921"
             ]
            ],
            "type": "contour"
           }
          ],
          "contourcarpet": [
           {
            "colorbar": {
             "outlinewidth": 0,
             "ticks": ""
            },
            "type": "contourcarpet"
           }
          ],
          "heatmap": [
           {
            "colorbar": {
             "outlinewidth": 0,
             "ticks": ""
            },
            "colorscale": [
             [
              0,
              "#0d0887"
             ],
             [
              0.1111111111111111,
              "#46039f"
             ],
             [
              0.2222222222222222,
              "#7201a8"
             ],
             [
              0.3333333333333333,
              "#9c179e"
             ],
             [
              0.4444444444444444,
              "#bd3786"
             ],
             [
              0.5555555555555556,
              "#d8576b"
             ],
             [
              0.6666666666666666,
              "#ed7953"
             ],
             [
              0.7777777777777778,
              "#fb9f3a"
             ],
             [
              0.8888888888888888,
              "#fdca26"
             ],
             [
              1,
              "#f0f921"
             ]
            ],
            "type": "heatmap"
           }
          ],
          "heatmapgl": [
           {
            "colorbar": {
             "outlinewidth": 0,
             "ticks": ""
            },
            "colorscale": [
             [
              0,
              "#0d0887"
             ],
             [
              0.1111111111111111,
              "#46039f"
             ],
             [
              0.2222222222222222,
              "#7201a8"
             ],
             [
              0.3333333333333333,
              "#9c179e"
             ],
             [
              0.4444444444444444,
              "#bd3786"
             ],
             [
              0.5555555555555556,
              "#d8576b"
             ],
             [
              0.6666666666666666,
              "#ed7953"
             ],
             [
              0.7777777777777778,
              "#fb9f3a"
             ],
             [
              0.8888888888888888,
              "#fdca26"
             ],
             [
              1,
              "#f0f921"
             ]
            ],
            "type": "heatmapgl"
           }
          ],
          "histogram": [
           {
            "marker": {
             "pattern": {
              "fillmode": "overlay",
              "size": 10,
              "solidity": 0.2
             }
            },
            "type": "histogram"
           }
          ],
          "histogram2d": [
           {
            "colorbar": {
             "outlinewidth": 0,
             "ticks": ""
            },
            "colorscale": [
             [
              0,
              "#0d0887"
             ],
             [
              0.1111111111111111,
              "#46039f"
             ],
             [
              0.2222222222222222,
              "#7201a8"
             ],
             [
              0.3333333333333333,
              "#9c179e"
             ],
             [
              0.4444444444444444,
              "#bd3786"
             ],
             [
              0.5555555555555556,
              "#d8576b"
             ],
             [
              0.6666666666666666,
              "#ed7953"
             ],
             [
              0.7777777777777778,
              "#fb9f3a"
             ],
             [
              0.8888888888888888,
              "#fdca26"
             ],
             [
              1,
              "#f0f921"
             ]
            ],
            "type": "histogram2d"
           }
          ],
          "histogram2dcontour": [
           {
            "colorbar": {
             "outlinewidth": 0,
             "ticks": ""
            },
            "colorscale": [
             [
              0,
              "#0d0887"
             ],
             [
              0.1111111111111111,
              "#46039f"
             ],
             [
              0.2222222222222222,
              "#7201a8"
             ],
             [
              0.3333333333333333,
              "#9c179e"
             ],
             [
              0.4444444444444444,
              "#bd3786"
             ],
             [
              0.5555555555555556,
              "#d8576b"
             ],
             [
              0.6666666666666666,
              "#ed7953"
             ],
             [
              0.7777777777777778,
              "#fb9f3a"
             ],
             [
              0.8888888888888888,
              "#fdca26"
             ],
             [
              1,
              "#f0f921"
             ]
            ],
            "type": "histogram2dcontour"
           }
          ],
          "mesh3d": [
           {
            "colorbar": {
             "outlinewidth": 0,
             "ticks": ""
            },
            "type": "mesh3d"
           }
          ],
          "parcoords": [
           {
            "line": {
             "colorbar": {
              "outlinewidth": 0,
              "ticks": ""
             }
            },
            "type": "parcoords"
           }
          ],
          "pie": [
           {
            "automargin": true,
            "type": "pie"
           }
          ],
          "scatter": [
           {
            "fillpattern": {
             "fillmode": "overlay",
             "size": 10,
             "solidity": 0.2
            },
            "type": "scatter"
           }
          ],
          "scatter3d": [
           {
            "line": {
             "colorbar": {
              "outlinewidth": 0,
              "ticks": ""
             }
            },
            "marker": {
             "colorbar": {
              "outlinewidth": 0,
              "ticks": ""
             }
            },
            "type": "scatter3d"
           }
          ],
          "scattercarpet": [
           {
            "marker": {
             "colorbar": {
              "outlinewidth": 0,
              "ticks": ""
             }
            },
            "type": "scattercarpet"
           }
          ],
          "scattergeo": [
           {
            "marker": {
             "colorbar": {
              "outlinewidth": 0,
              "ticks": ""
             }
            },
            "type": "scattergeo"
           }
          ],
          "scattergl": [
           {
            "marker": {
             "colorbar": {
              "outlinewidth": 0,
              "ticks": ""
             }
            },
            "type": "scattergl"
           }
          ],
          "scattermapbox": [
           {
            "marker": {
             "colorbar": {
              "outlinewidth": 0,
              "ticks": ""
             }
            },
            "type": "scattermapbox"
           }
          ],
          "scatterpolar": [
           {
            "marker": {
             "colorbar": {
              "outlinewidth": 0,
              "ticks": ""
             }
            },
            "type": "scatterpolar"
           }
          ],
          "scatterpolargl": [
           {
            "marker": {
             "colorbar": {
              "outlinewidth": 0,
              "ticks": ""
             }
            },
            "type": "scatterpolargl"
           }
          ],
          "scatterternary": [
           {
            "marker": {
             "colorbar": {
              "outlinewidth": 0,
              "ticks": ""
             }
            },
            "type": "scatterternary"
           }
          ],
          "surface": [
           {
            "colorbar": {
             "outlinewidth": 0,
             "ticks": ""
            },
            "colorscale": [
             [
              0,
              "#0d0887"
             ],
             [
              0.1111111111111111,
              "#46039f"
             ],
             [
              0.2222222222222222,
              "#7201a8"
             ],
             [
              0.3333333333333333,
              "#9c179e"
             ],
             [
              0.4444444444444444,
              "#bd3786"
             ],
             [
              0.5555555555555556,
              "#d8576b"
             ],
             [
              0.6666666666666666,
              "#ed7953"
             ],
             [
              0.7777777777777778,
              "#fb9f3a"
             ],
             [
              0.8888888888888888,
              "#fdca26"
             ],
             [
              1,
              "#f0f921"
             ]
            ],
            "type": "surface"
           }
          ],
          "table": [
           {
            "cells": {
             "fill": {
              "color": "#EBF0F8"
             },
             "line": {
              "color": "white"
             }
            },
            "header": {
             "fill": {
              "color": "#C8D4E3"
             },
             "line": {
              "color": "white"
             }
            },
            "type": "table"
           }
          ]
         },
         "layout": {
          "annotationdefaults": {
           "arrowcolor": "#2a3f5f",
           "arrowhead": 0,
           "arrowwidth": 1
          },
          "autotypenumbers": "strict",
          "coloraxis": {
           "colorbar": {
            "outlinewidth": 0,
            "ticks": ""
           }
          },
          "colorscale": {
           "diverging": [
            [
             0,
             "#8e0152"
            ],
            [
             0.1,
             "#c51b7d"
            ],
            [
             0.2,
             "#de77ae"
            ],
            [
             0.3,
             "#f1b6da"
            ],
            [
             0.4,
             "#fde0ef"
            ],
            [
             0.5,
             "#f7f7f7"
            ],
            [
             0.6,
             "#e6f5d0"
            ],
            [
             0.7,
             "#b8e186"
            ],
            [
             0.8,
             "#7fbc41"
            ],
            [
             0.9,
             "#4d9221"
            ],
            [
             1,
             "#276419"
            ]
           ],
           "sequential": [
            [
             0,
             "#0d0887"
            ],
            [
             0.1111111111111111,
             "#46039f"
            ],
            [
             0.2222222222222222,
             "#7201a8"
            ],
            [
             0.3333333333333333,
             "#9c179e"
            ],
            [
             0.4444444444444444,
             "#bd3786"
            ],
            [
             0.5555555555555556,
             "#d8576b"
            ],
            [
             0.6666666666666666,
             "#ed7953"
            ],
            [
             0.7777777777777778,
             "#fb9f3a"
            ],
            [
             0.8888888888888888,
             "#fdca26"
            ],
            [
             1,
             "#f0f921"
            ]
           ],
           "sequentialminus": [
            [
             0,
             "#0d0887"
            ],
            [
             0.1111111111111111,
             "#46039f"
            ],
            [
             0.2222222222222222,
             "#7201a8"
            ],
            [
             0.3333333333333333,
             "#9c179e"
            ],
            [
             0.4444444444444444,
             "#bd3786"
            ],
            [
             0.5555555555555556,
             "#d8576b"
            ],
            [
             0.6666666666666666,
             "#ed7953"
            ],
            [
             0.7777777777777778,
             "#fb9f3a"
            ],
            [
             0.8888888888888888,
             "#fdca26"
            ],
            [
             1,
             "#f0f921"
            ]
           ]
          },
          "colorway": [
           "#636efa",
           "#EF553B",
           "#00cc96",
           "#ab63fa",
           "#FFA15A",
           "#19d3f3",
           "#FF6692",
           "#B6E880",
           "#FF97FF",
           "#FECB52"
          ],
          "font": {
           "color": "#2a3f5f"
          },
          "geo": {
           "bgcolor": "white",
           "lakecolor": "white",
           "landcolor": "#E5ECF6",
           "showlakes": true,
           "showland": true,
           "subunitcolor": "white"
          },
          "hoverlabel": {
           "align": "left"
          },
          "hovermode": "closest",
          "mapbox": {
           "style": "light"
          },
          "paper_bgcolor": "white",
          "plot_bgcolor": "#E5ECF6",
          "polar": {
           "angularaxis": {
            "gridcolor": "white",
            "linecolor": "white",
            "ticks": ""
           },
           "bgcolor": "#E5ECF6",
           "radialaxis": {
            "gridcolor": "white",
            "linecolor": "white",
            "ticks": ""
           }
          },
          "scene": {
           "xaxis": {
            "backgroundcolor": "#E5ECF6",
            "gridcolor": "white",
            "gridwidth": 2,
            "linecolor": "white",
            "showbackground": true,
            "ticks": "",
            "zerolinecolor": "white"
           },
           "yaxis": {
            "backgroundcolor": "#E5ECF6",
            "gridcolor": "white",
            "gridwidth": 2,
            "linecolor": "white",
            "showbackground": true,
            "ticks": "",
            "zerolinecolor": "white"
           },
           "zaxis": {
            "backgroundcolor": "#E5ECF6",
            "gridcolor": "white",
            "gridwidth": 2,
            "linecolor": "white",
            "showbackground": true,
            "ticks": "",
            "zerolinecolor": "white"
           }
          },
          "shapedefaults": {
           "line": {
            "color": "#2a3f5f"
           }
          },
          "ternary": {
           "aaxis": {
            "gridcolor": "white",
            "linecolor": "white",
            "ticks": ""
           },
           "baxis": {
            "gridcolor": "white",
            "linecolor": "white",
            "ticks": ""
           },
           "bgcolor": "#E5ECF6",
           "caxis": {
            "gridcolor": "white",
            "linecolor": "white",
            "ticks": ""
           }
          },
          "title": {
           "x": 0.05
          },
          "xaxis": {
           "automargin": true,
           "gridcolor": "white",
           "linecolor": "white",
           "ticks": "",
           "title": {
            "standoff": 15
           },
           "zerolinecolor": "white",
           "zerolinewidth": 2
          },
          "yaxis": {
           "automargin": true,
           "gridcolor": "white",
           "linecolor": "white",
           "ticks": "",
           "title": {
            "standoff": 15
           },
           "zerolinecolor": "white",
           "zerolinewidth": 2
          }
         }
        },
        "title": {
         "text": "Tracking Data"
        },
        "updatemenus": [
         {
          "buttons": [
           {
            "args": [
             null,
             {
              "frame": {
               "duration": 500,
               "redraw": false
              },
              "fromcurrent": true,
              "mode": "immediate",
              "transition": {
               "duration": 500,
               "easing": "linear"
              }
             }
            ],
            "label": "&#9654;",
            "method": "animate"
           },
           {
            "args": [
             [
              null
             ],
             {
              "frame": {
               "duration": 0,
               "redraw": false
              },
              "fromcurrent": true,
              "mode": "immediate",
              "transition": {
               "duration": 0,
               "easing": "linear"
              }
             }
            ],
            "label": "&#9724;",
            "method": "animate"
           }
          ],
          "direction": "left",
          "pad": {
           "r": 10,
           "t": 70
          },
          "showactive": false,
          "type": "buttons",
          "x": 0.1,
          "xanchor": "right",
          "y": 0,
          "yanchor": "top"
         }
        ],
        "xaxis": {
         "anchor": "y",
         "domain": [
          0,
          1
         ],
         "range": [
          0,
          120
         ],
         "title": {
          "text": "x"
         }
        },
        "yaxis": {
         "anchor": "x",
         "domain": [
          0,
          1
         ],
         "range": [
          0,
          53.3
         ],
         "title": {
          "text": "y"
         }
        }
       }
      }
     },
     "metadata": {},
     "output_type": "display_data"
    }
   ],
   "source": [
    "fig.show()\n"
   ]
  }
 ],
 "metadata": {
  "kernelspec": {
   "display_name": "Python 3",
   "language": "python",
   "name": "python3"
  },
  "language_info": {
   "codemirror_mode": {
    "name": "ipython",
    "version": 3
   },
   "file_extension": ".py",
   "mimetype": "text/x-python",
   "name": "python",
   "nbconvert_exporter": "python",
   "pygments_lexer": "ipython3",
   "version": "3.10.4"
  }
 },
 "nbformat": 4,
 "nbformat_minor": 2
}
